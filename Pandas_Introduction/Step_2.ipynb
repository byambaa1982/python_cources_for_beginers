{
  "nbformat": 4,
  "nbformat_minor": 0,
  "metadata": {
    "colab": {
      "provenance": [],
      "authorship_tag": "ABX9TyMXrI7XOMN83MjYv9qycfv8",
      "include_colab_link": true
    },
    "kernelspec": {
      "name": "python3",
      "display_name": "Python 3"
    },
    "language_info": {
      "name": "python"
    }
  },
  "cells": [
    {
      "cell_type": "markdown",
      "metadata": {
        "id": "view-in-github",
        "colab_type": "text"
      },
      "source": [
        "<a href=\"https://colab.research.google.com/github/byambaa1982/python_cources_for_beginers/blob/main/Mini%20Project%201/Step_2.ipynb\" target=\"_parent\"><img src=\"https://colab.research.google.com/assets/colab-badge.svg\" alt=\"Open In Colab\"/></a>"
      ]
    },
    {
      "cell_type": "code",
      "execution_count": null,
      "metadata": {
        "id": "ImfcuvCgnIpL"
      },
      "outputs": [],
      "source": []
    },
    {
      "cell_type": "markdown",
      "source": [
        "\n",
        "## Task 1: split_sentence\n",
        "\n",
        "Write a Python function called `split_sentence` that takes a sentence as input and returns a list of words by splitting the sentence using the space character as the delimiter.\n",
        "\n",
        "- Input: \"The manual job has failed due to null values.\"\n",
        "- Output: ['The', 'manual', 'job', 'has', 'failed', 'due', 'to', 'null', 'values.']"
      ],
      "metadata": {
        "id": "HR9xO-hZnnak"
      }
    },
    {
      "cell_type": "code",
      "source": [],
      "metadata": {
        "id": "G2g2XMY4nxqr"
      },
      "execution_count": null,
      "outputs": []
    },
    {
      "cell_type": "markdown",
      "source": [
        "## Task 2:\n",
        "Write a Python function called count_words that takes a list of words as input and returns the total number of words in the list.\n",
        "\n",
        "- Input: ['The', 'manual', 'job', 'has', 'failed', 'due', 'to', 'null', 'values.']\n",
        "- Output: 9"
      ],
      "metadata": {
        "id": "aT6BTC-MoBP3"
      }
    },
    {
      "cell_type": "code",
      "source": [],
      "metadata": {
        "id": "9AEHHagBoKjC"
      },
      "execution_count": null,
      "outputs": []
    },
    {
      "cell_type": "code",
      "source": [],
      "metadata": {
        "id": "KQlO8D56oNHt"
      },
      "execution_count": null,
      "outputs": []
    },
    {
      "cell_type": "markdown",
      "source": [
        "## Task 3: analyze_null\n",
        "\n",
        "Write a Python function called analyze_null that takes a list of words as input and checks if the word \"null\" is present. If it is, return its index in the list; otherwise, return -1.\n",
        "\n",
        "- Input: ['The', 'manual', 'job', 'has', 'failed', 'due', 'to', 'null', 'values.']\n",
        "- Output: 7"
      ],
      "metadata": {
        "id": "tQiuO6TNoNvh"
      }
    },
    {
      "cell_type": "code",
      "source": [],
      "metadata": {
        "id": "oM-e5L2poWXK"
      },
      "execution_count": null,
      "outputs": []
    },
    {
      "cell_type": "markdown",
      "source": [
        "## Final task: Create a function\n",
        "\n",
        "Once you complete these three tasks, you can combine the functions to create the analyze_sentence function by incorporating the word count functionality and returning the analysis results as a dictionary.\n",
        "\n",
        "```python\n",
        "# Test the function with the given sentence\n",
        "sentence = \"The manual job has failed due to null values in factCompensationApproach. After further investigating, I will update you with more details.\"\n",
        "analysis = analyze_sentence(sentence)\n",
        "\n",
        "# Print the results\n",
        "print(\"Total number of words:\", analysis[\"total_words\"])\n",
        "print(\"Index of 'null' (if present):\", analysis[\"null_index\"])\n",
        "print(\"Word count:\", analysis[\"word_count\"])\n",
        "\n",
        "```\n",
        "\n",
        "\n",
        "- Total number of words: 21\n",
        "- Index of 'null' (if present): 7\n",
        "- Word count: \n",
        "``` python \n",
        "{'The': 1, 'manual': 1, 'job': 1, 'has': 1, 'failed': 1, 'due': 1, 'to': 1, 'null': 1, 'values': 1, 'in': 1, 'factCompensationApproach.': 1, 'After': 1, 'further': 1, 'investigating,': 1, 'I': 1, 'will': 1, 'update': 1, 'you': 1, 'with': 1, 'more': 1, 'details.': 1}\n",
        "```"
      ],
      "metadata": {
        "id": "pFYX6oUMoZaI"
      }
    },
    {
      "cell_type": "code",
      "source": [],
      "metadata": {
        "id": "9kj3pSGvoi3S"
      },
      "execution_count": null,
      "outputs": []
    }
  ]
}