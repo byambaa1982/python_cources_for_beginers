{
  "nbformat": 4,
  "nbformat_minor": 0,
  "metadata": {
    "colab": {
      "provenance": [],
      "authorship_tag": "ABX9TyMKIemvOfh5fuA2mMKG+aii",
      "include_colab_link": true
    },
    "kernelspec": {
      "name": "python3",
      "display_name": "Python 3"
    },
    "language_info": {
      "name": "python"
    }
  },
  "cells": [
    {
      "cell_type": "markdown",
      "metadata": {
        "id": "view-in-github",
        "colab_type": "text"
      },
      "source": [
        "<a href=\"https://colab.research.google.com/github/byambaa1982/python_cources_for_beginers/blob/main/Mini%20Project%201/Step_1.ipynb\" target=\"_parent\"><img src=\"https://colab.research.google.com/assets/colab-badge.svg\" alt=\"Open In Colab\"/></a>"
      ]
    },
    {
      "cell_type": "code",
      "execution_count": 1,
      "metadata": {
        "id": "LUlqv3xZAZj_"
      },
      "outputs": [],
      "source": [
        "text = '''\n",
        "Maria is a student at a university. She likes to write poetry in her free time. Her latest poem is called \"The Sunflower\". \n",
        "She is planning to submit it to a poetry contest, and she needs to send it to the organizers via email. \n",
        "Can you help her make some changes to the poem using string methods?\n",
        "\n",
        "Here is her contact information:\n",
        "Email: maria.poet@gmail.com\n",
        "Phone number: 555-1234\n",
        "'''"
      ]
    },
    {
      "cell_type": "markdown",
      "source": [
        "### Tasks:\n",
        "\n",
        "1. Change all the letters in the poem to lowercase.\n",
        "2. Replace the word \"sunflower\" with the word \"rose\".\n",
        "3. Remove all the spaces from the poem.\n",
        "4. Count how many times the word \"love\" appears in the poem.\n",
        "5. Create a new string that includes Maria's contact information in this format:\n",
        "\"Maria can be reached at maria.poet@gmail.com or 555-1234.\"\n",
        "6. Create a new string that includes the first four letters of each word in the poem, capitalized. For example, \"The Sunflower\" would become \"TSun\"."
      ],
      "metadata": {
        "id": "twF1GpT-AyCx"
      }
    },
    {
      "cell_type": "code",
      "source": [],
      "metadata": {
        "id": "Ld14NvvpAoh8"
      },
      "execution_count": null,
      "outputs": []
    }
  ]
}