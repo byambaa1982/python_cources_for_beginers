{
  "nbformat": 4,
  "nbformat_minor": 0,
  "metadata": {
    "colab": {
      "provenance": [],
      "authorship_tag": "ABX9TyNwn55NYLkpwGrOnFjLcWe9",
      "include_colab_link": true
    },
    "kernelspec": {
      "name": "python3",
      "display_name": "Python 3"
    },
    "language_info": {
      "name": "python"
    }
  },
  "cells": [
    {
      "cell_type": "markdown",
      "metadata": {
        "id": "view-in-github",
        "colab_type": "text"
      },
      "source": [
        "<a href=\"https://colab.research.google.com/github/byambaa1982/python_cources_for_beginers/blob/main/Mini%20Project%201/Hanna_Practice.ipynb\" target=\"_parent\"><img src=\"https://colab.research.google.com/assets/colab-badge.svg\" alt=\"Open In Colab\"/></a>"
      ]
    },
    {
      "cell_type": "markdown",
      "source": [
        "# Merge Tables\n"
      ],
      "metadata": {
        "id": "NNpzcNqt0GLF"
      }
    },
    {
      "cell_type": "code",
      "source": [
        "data1 = {\n",
        "    'Name': ['Emma', 'Oliver', 'Ava'],\n",
        "    'Grade': [45, 90, 21],\n",
        "    'id': [1, 2,3]\n",
        "}\n",
        "\n",
        "data2 = {\n",
        "    'Name': ['Emma', 'Oliver', 'Lucas'],\n",
        "    'Age': [10, 12, 10],\n",
        "    'id': [1, 2,4]\n",
        "}"
      ],
      "metadata": {
        "id": "MjO6zeDrZiJ6"
      },
      "execution_count": 3,
      "outputs": []
    },
    {
      "cell_type": "code",
      "source": [
        "print(data1['Name'])"
      ],
      "metadata": {
        "colab": {
          "base_uri": "https://localhost:8080/"
        },
        "id": "piO-lpP6alPr",
        "outputId": "6b1ec809-7bde-4b8f-aa40-88b871578473"
      },
      "execution_count": 4,
      "outputs": [
        {
          "output_type": "stream",
          "name": "stdout",
          "text": [
            "['Emma', 'Oliver', 'Ava']\n"
          ]
        }
      ]
    },
    {
      "cell_type": "code",
      "source": [
        "print(data2['Name'])"
      ],
      "metadata": {
        "colab": {
          "base_uri": "https://localhost:8080/"
        },
        "id": "wr0swexPbuOP",
        "outputId": "d1a14346-e320-413f-e94a-0b05fc70893b"
      },
      "execution_count": 5,
      "outputs": [
        {
          "output_type": "stream",
          "name": "stdout",
          "text": [
            "['Emma', 'Oliver', 'Lucas']\n"
          ]
        }
      ]
    },
    {
      "cell_type": "markdown",
      "source": [
        "# Print Grade from data1 dictionary"
      ],
      "metadata": {
        "id": "aeZMdt4ZaRaL"
      }
    },
    {
      "cell_type": "code",
      "source": [],
      "metadata": {
        "id": "V20qSQQMamy4"
      },
      "execution_count": null,
      "outputs": []
    },
    {
      "cell_type": "code",
      "source": [
        "data2['id']"
      ],
      "metadata": {
        "colab": {
          "base_uri": "https://localhost:8080/"
        },
        "id": "coNBvyZHVHEi",
        "outputId": "eb61e635-901d-4ab3-ae3d-dcac7355313a"
      },
      "execution_count": null,
      "outputs": [
        {
          "output_type": "execute_result",
          "data": {
            "text/plain": [
              "[1, 2, 4]"
            ]
          },
          "metadata": {},
          "execution_count": 4
        }
      ]
    },
    {
      "cell_type": "code",
      "source": [
        "data2['Age']"
      ],
      "metadata": {
        "colab": {
          "base_uri": "https://localhost:8080/"
        },
        "id": "ThSKa6ehVdbD",
        "outputId": "de47cffa-2fe5-4868-f791-c7f58b69d482"
      },
      "execution_count": null,
      "outputs": [
        {
          "output_type": "execute_result",
          "data": {
            "text/plain": [
              "[10, 12, 10]"
            ]
          },
          "metadata": {},
          "execution_count": 5
        }
      ]
    },
    {
      "cell_type": "code",
      "source": [
        "# Complete the following code\n",
        "\n",
        "for age in *****:\n",
        "  print(age)"
      ],
      "metadata": {
        "colab": {
          "base_uri": "https://localhost:8080/"
        },
        "id": "pTg_uPlWV2ba",
        "outputId": "26f6fe7e-c827-4bd1-bb7c-0c958fe2e8b7"
      },
      "execution_count": null,
      "outputs": [
        {
          "output_type": "stream",
          "name": "stdout",
          "text": [
            "10\n",
            "12\n",
            "10\n"
          ]
        }
      ]
    },
    {
      "cell_type": "code",
      "source": [
        "# Complete the following code\n",
        "\n",
        "for **** in data1['Name']:\n",
        "  print(name)"
      ],
      "metadata": {
        "id": "-__R6FMFbCF5",
        "outputId": "3a86afe0-119b-457f-cedf-0ce2f03080b3",
        "colab": {
          "base_uri": "https://localhost:8080/"
        }
      },
      "execution_count": null,
      "outputs": [
        {
          "output_type": "stream",
          "name": "stdout",
          "text": [
            "Emma\n",
            "Oliver\n",
            "Ava\n"
          ]
        }
      ]
    },
    {
      "cell_type": "markdown",
      "source": [
        "# Homework"
      ],
      "metadata": {
        "id": "qb8mvHSOinaL"
      }
    },
    {
      "cell_type": "code",
      "source": [
        "for name in data1['Name']:\n",
        " #Your code is here."
      ],
      "metadata": {
        "id": "S73Nl83BbMKj",
        "colab": {
          "base_uri": "https://localhost:8080/"
        },
        "outputId": "dd109585-d681-4c25-b752-3f39c3906843"
      },
      "execution_count": 7,
      "outputs": [
        {
          "output_type": "stream",
          "name": "stdout",
          "text": [
            "Hi, Emma\n",
            "Hi, Oliver\n",
            "Hi, Ava\n"
          ]
        }
      ]
    },
    {
      "cell_type": "code",
      "source": [
        "for age in data2['Age']:\n",
        "#Your code is here"
      ],
      "metadata": {
        "id": "YSXU-IMkh9xs",
        "outputId": "2b7a5e0d-5bf5-4769-b7cb-1df624c84051",
        "colab": {
          "base_uri": "https://localhost:8080/"
        }
      },
      "execution_count": 11,
      "outputs": [
        {
          "output_type": "stream",
          "name": "stdout",
          "text": [
            "10 year old.\n",
            "12 year old.\n",
            "10 year old.\n"
          ]
        }
      ]
    },
    {
      "cell_type": "code",
      "source": [
        "# Complete the following code using data2\n",
        "for i in ******:\n",
        "  print(i)"
      ],
      "metadata": {
        "id": "eWTfDlr4iU8Z",
        "outputId": "4f375e7e-2704-4196-8966-3e7e9dc3399f",
        "colab": {
          "base_uri": "https://localhost:8080/"
        }
      },
      "execution_count": 12,
      "outputs": [
        {
          "output_type": "stream",
          "name": "stdout",
          "text": [
            "1\n",
            "2\n",
            "4\n"
          ]
        }
      ]
    },
    {
      "cell_type": "code",
      "source": [
        "# Complete the following code using data2\n",
        "\n",
        "  print(i)"
      ],
      "metadata": {
        "id": "j5wo5NWmi3Id",
        "outputId": "44f52195-0503-419a-dc85-bb2668fd2278",
        "colab": {
          "base_uri": "https://localhost:8080/"
        }
      },
      "execution_count": 13,
      "outputs": [
        {
          "output_type": "stream",
          "name": "stdout",
          "text": [
            "10\n",
            "12\n",
            "10\n"
          ]
        }
      ]
    },
    {
      "cell_type": "code",
      "source": [],
      "metadata": {
        "id": "eonmPrmDi3h6"
      },
      "execution_count": null,
      "outputs": []
    }
  ]
}