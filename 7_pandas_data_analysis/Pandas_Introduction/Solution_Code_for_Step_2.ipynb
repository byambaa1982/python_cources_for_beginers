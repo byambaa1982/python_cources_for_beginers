{
  "nbformat": 4,
  "nbformat_minor": 0,
  "metadata": {
    "colab": {
      "provenance": [],
      "authorship_tag": "ABX9TyNRcPOLbvQapHgkPAbnNHBw",
      "include_colab_link": true
    },
    "kernelspec": {
      "name": "python3",
      "display_name": "Python 3"
    },
    "language_info": {
      "name": "python"
    }
  },
  "cells": [
    {
      "cell_type": "markdown",
      "metadata": {
        "id": "view-in-github",
        "colab_type": "text"
      },
      "source": [
        "<a href=\"https://colab.research.google.com/github/byambaa1982/python_cources_for_beginers/blob/main/Mini%20Project%201/Solution_Code_for_Step_2.ipynb\" target=\"_parent\"><img src=\"https://colab.research.google.com/assets/colab-badge.svg\" alt=\"Open In Colab\"/></a>"
      ]
    },
    {
      "cell_type": "markdown",
      "source": [
        "# Solution Code for Step 2\n"
      ],
      "metadata": {
        "id": "VME5mm0jmY0j"
      }
    },
    {
      "cell_type": "code",
      "execution_count": 1,
      "metadata": {
        "colab": {
          "base_uri": "https://localhost:8080/"
        },
        "id": "Y3W1JAxDmV-S",
        "outputId": "fd178027-628d-4ede-8fa4-9dd56f40d3d7"
      },
      "outputs": [
        {
          "output_type": "stream",
          "name": "stdout",
          "text": [
            "Total number of words: 21\n",
            "Index of 'null' (if present): 7\n",
            "Word count: {'The': 1, 'manual': 1, 'job': 1, 'has': 1, 'failed': 1, 'due': 1, 'to': 1, 'null': 1, 'values': 1, 'in': 1, 'factCompensationApproach.': 1, 'After': 1, 'further': 1, 'investigating,': 1, 'I': 1, 'will': 1, 'update': 1, 'you': 1, 'with': 1, 'more': 1, 'details.': 1}\n"
          ]
        }
      ],
      "source": [
        "def analyze_sentence(sentence):\n",
        "    # Step 1: Split the sentence into a list of words\n",
        "    words = sentence.split()\n",
        "\n",
        "    # Step 2: Determine the total number of words in the sentence\n",
        "    total_words = len(words)\n",
        "\n",
        "    # Step 3: Check if the sentence contains the word \"null\"\n",
        "    null_index = -1\n",
        "    if \"null\" in words:\n",
        "        null_index = words.index(\"null\")\n",
        "\n",
        "    # Step 4: Count the occurrences of each unique word\n",
        "    word_count = {}\n",
        "    for word in words:\n",
        "        if word in word_count:\n",
        "            word_count[word] += 1\n",
        "        else:\n",
        "            word_count[word] = 1\n",
        "\n",
        "    # Step 5: Return the results as a dictionary\n",
        "    result = {\n",
        "        \"total_words\": total_words,\n",
        "        \"null_index\": null_index,\n",
        "        \"word_count\": word_count\n",
        "    }\n",
        "    return result\n",
        "\n",
        "# Test the function with the given sentence\n",
        "sentence = \"The manual job has failed due to null values in factCompensationApproach. After further investigating, I will update you with more details.\"\n",
        "analysis = analyze_sentence(sentence)\n",
        "\n",
        "# Print the results\n",
        "print(\"Total number of words:\", analysis[\"total_words\"])\n",
        "print(\"Index of 'null' (if present):\", analysis[\"null_index\"])\n",
        "print(\"Word count:\", analysis[\"word_count\"])\n"
      ]
    }
  ]
}