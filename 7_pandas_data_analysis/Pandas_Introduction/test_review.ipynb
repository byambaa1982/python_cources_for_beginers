{
  "nbformat": 4,
  "nbformat_minor": 0,
  "metadata": {
    "colab": {
      "provenance": [],
      "authorship_tag": "ABX9TyNxBUn7dKPzLV67LQ0k//7u",
      "include_colab_link": true
    },
    "kernelspec": {
      "name": "python3",
      "display_name": "Python 3"
    },
    "language_info": {
      "name": "python"
    }
  },
  "cells": [
    {
      "cell_type": "markdown",
      "metadata": {
        "id": "view-in-github",
        "colab_type": "text"
      },
      "source": [
        "<a href=\"https://colab.research.google.com/github/byambaa1982/python_cources_for_beginers/blob/main/Mini%20Project%201/test_review.ipynb\" target=\"_parent\"><img src=\"https://colab.research.google.com/assets/colab-badge.svg\" alt=\"Open In Colab\"/></a>"
      ]
    },
    {
      "cell_type": "markdown",
      "source": [
        "# Merge Tables\n"
      ],
      "metadata": {
        "id": "NNpzcNqt0GLF"
      }
    },
    {
      "cell_type": "code",
      "source": [
        "import pandas as pd"
      ],
      "metadata": {
        "id": "r2CCFUILV_iN"
      },
      "execution_count": 1,
      "outputs": []
    },
    {
      "cell_type": "code",
      "source": [
        "new_hannas_list = ['dog', 'cat', 'cow']"
      ],
      "metadata": {
        "id": "HbOjG5Usc2Be"
      },
      "execution_count": 2,
      "outputs": []
    },
    {
      "cell_type": "code",
      "source": [
        "new_hannas_list.append('bird')"
      ],
      "metadata": {
        "id": "N0-mCJaLeFWA"
      },
      "execution_count": 3,
      "outputs": []
    },
    {
      "cell_type": "code",
      "source": [
        "len(new_hannas_list)"
      ],
      "metadata": {
        "id": "koyMvOeuc3-O",
        "outputId": "767496f3-fdbb-4831-bb86-65fed9c0798e",
        "colab": {
          "base_uri": "https://localhost:8080/"
        }
      },
      "execution_count": null,
      "outputs": [
        {
          "output_type": "execute_result",
          "data": {
            "text/plain": [
              "4"
            ]
          },
          "metadata": {},
          "execution_count": 17
        }
      ]
    },
    {
      "cell_type": "code",
      "source": [
        "x = 5\n",
        "y = 10\n",
        "print(x + y)"
      ],
      "metadata": {
        "id": "9Abg2rgAeOrY",
        "outputId": "c7ab7ceb-f16d-4024-b65b-89a2a9025fd9",
        "colab": {
          "base_uri": "https://localhost:8080/"
        }
      },
      "execution_count": 4,
      "outputs": [
        {
          "output_type": "stream",
          "name": "stdout",
          "text": [
            "15\n"
          ]
        }
      ]
    },
    {
      "cell_type": "code",
      "source": [
        "x = '5'\n",
        "y = '10'\n",
        "z = x + y\n",
        "print(x + y)"
      ],
      "metadata": {
        "id": "kSJwvLAje1I7",
        "outputId": "786287ae-5ff3-486e-f0dc-9294da50e412",
        "colab": {
          "base_uri": "https://localhost:8080/"
        }
      },
      "execution_count": 5,
      "outputs": [
        {
          "output_type": "stream",
          "name": "stdout",
          "text": [
            "510\n"
          ]
        }
      ]
    },
    {
      "cell_type": "code",
      "source": [
        "z + '1'"
      ],
      "metadata": {
        "id": "24RQpFCPfUs-",
        "outputId": "10e3f10c-ea9f-4569-9f3c-f94a258d8c1b",
        "colab": {
          "base_uri": "https://localhost:8080/",
          "height": 35
        }
      },
      "execution_count": 6,
      "outputs": [
        {
          "output_type": "execute_result",
          "data": {
            "text/plain": [
              "'5101'"
            ],
            "application/vnd.google.colaboratory.intrinsic+json": {
              "type": "string"
            }
          },
          "metadata": {},
          "execution_count": 6
        }
      ]
    },
    {
      "cell_type": "code",
      "source": [
        "for i in range(3):\n",
        "    print(i)"
      ],
      "metadata": {
        "id": "wKFs7U_9fVpO",
        "outputId": "7b208ff6-c050-4cda-c0f8-7891fb0ae085",
        "colab": {
          "base_uri": "https://localhost:8080/"
        }
      },
      "execution_count": 8,
      "outputs": [
        {
          "output_type": "stream",
          "name": "stdout",
          "text": [
            "0\n",
            "1\n",
            "2\n"
          ]
        }
      ]
    },
    {
      "cell_type": "code",
      "source": [
        "for i in range(13):\n",
        "  print(i)"
      ],
      "metadata": {
        "id": "lDs53IvpZBlj",
        "outputId": "339ba3bc-d09d-4c10-9c76-eae47c3a731b",
        "colab": {
          "base_uri": "https://localhost:8080/"
        }
      },
      "execution_count": 11,
      "outputs": [
        {
          "output_type": "stream",
          "name": "stdout",
          "text": [
            "0\n",
            "1\n",
            "2\n",
            "3\n",
            "4\n",
            "5\n",
            "6\n",
            "7\n",
            "8\n",
            "9\n",
            "10\n",
            "11\n",
            "12\n"
          ]
        }
      ]
    },
    {
      "cell_type": "markdown",
      "source": [
        "# Tasks\n",
        "\n",
        "1. Create a list of school supplies and append \"pencil\" in it."
      ],
      "metadata": {
        "id": "qsSUEfCmYaIh"
      }
    },
    {
      "cell_type": "code",
      "source": [],
      "metadata": {
        "id": "Qi7ewNdXZcPx"
      },
      "execution_count": null,
      "outputs": []
    }
  ]
}