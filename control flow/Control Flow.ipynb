{
 "cells": [
  {
   "cell_type": "markdown",
   "id": "ddd6f665",
   "metadata": {},
   "source": [
    "## 1. if statement"
   ]
  },
  {
   "cell_type": "code",
   "execution_count": 1,
   "id": "b3b491f8",
   "metadata": {},
   "outputs": [],
   "source": [
    "temperature = 25\n",
    "\n",
    "if temperature > 30:\n",
    "    print(\"It's a hot day!\")"
   ]
  },
  {
   "cell_type": "markdown",
   "id": "61d5db6e",
   "metadata": {},
   "source": [
    "## 2. if-else statement"
   ]
  },
  {
   "cell_type": "code",
   "execution_count": 2,
   "id": "5c1520d1",
   "metadata": {},
   "outputs": [
    {
     "name": "stdout",
     "output_type": "stream",
     "text": [
      "It's not a hot day.\n"
     ]
    }
   ],
   "source": [
    "temperature = 25\n",
    "\n",
    "if temperature > 30:\n",
    "    print(\"It's a hot day!\")\n",
    "else:\n",
    "    print(\"It's not a hot day.\")"
   ]
  },
  {
   "cell_type": "markdown",
   "id": "cf50e640",
   "metadata": {},
   "source": [
    "## 3. if-elif-else"
   ]
  },
  {
   "cell_type": "code",
   "execution_count": 3,
   "id": "986942c6",
   "metadata": {},
   "outputs": [
    {
     "name": "stdout",
     "output_type": "stream",
     "text": [
      "It's a moderate day.\n"
     ]
    }
   ],
   "source": [
    "temperature = 25\n",
    "\n",
    "if temperature > 30:\n",
    "    print(\"It's a hot day!\")\n",
    "elif temperature < 15:\n",
    "    print(\"It's a cold day!\")\n",
    "else:\n",
    "    print(\"It's a moderate day.\")"
   ]
  },
  {
   "cell_type": "markdown",
   "id": "93db7947",
   "metadata": {},
   "source": [
    "## 4. for loop"
   ]
  },
  {
   "cell_type": "code",
   "execution_count": 4,
   "id": "4438141c",
   "metadata": {},
   "outputs": [
    {
     "name": "stdout",
     "output_type": "stream",
     "text": [
      "apple\n",
      "banana\n",
      "cherry\n"
     ]
    }
   ],
   "source": [
    "# Iterating through a list\n",
    "fruits = [\"apple\", \"banana\", \"cherry\"]\n",
    "\n",
    "for fruit in fruits:\n",
    "    print(fruit)\n",
    "\n",
    "# Output:\n",
    "# apple\n",
    "# banana\n",
    "# cherry"
   ]
  },
  {
   "cell_type": "markdown",
   "id": "9aaa451f",
   "metadata": {},
   "source": [
    "## 5. while loop"
   ]
  },
  {
   "cell_type": "code",
   "execution_count": 5,
   "id": "fd67861d",
   "metadata": {},
   "outputs": [
    {
     "name": "stdout",
     "output_type": "stream",
     "text": [
      "5\n",
      "4\n",
      "3\n",
      "2\n",
      "1\n"
     ]
    }
   ],
   "source": [
    "# Countdown from 5\n",
    "count = 5\n",
    "\n",
    "while count > 0:\n",
    "    print(count)\n",
    "    count -= 1\n",
    "\n",
    "# Output:\n",
    "# 5\n",
    "# 4\n",
    "# 3\n",
    "# 2\n",
    "# 1"
   ]
  },
  {
   "cell_type": "markdown",
   "id": "1165598a",
   "metadata": {},
   "source": [
    "## 6. break statement"
   ]
  },
  {
   "cell_type": "code",
   "execution_count": 6,
   "id": "76f9e2f3",
   "metadata": {},
   "outputs": [
    {
     "name": "stdout",
     "output_type": "stream",
     "text": [
      "First even number found: 2\n"
     ]
    }
   ],
   "source": [
    "# Find the first even number in a list\n",
    "numbers = [3, 7, 11, 9, 2, 6, 8]\n",
    "\n",
    "for number in numbers:\n",
    "    if number % 2 == 0:\n",
    "        print(f\"First even number found: {number}\")\n",
    "        break\n",
    "\n",
    "# Output: First even number found: 2"
   ]
  },
  {
   "cell_type": "markdown",
   "id": "9ab7f88e",
   "metadata": {},
   "source": [
    "## 7. continue statement"
   ]
  },
  {
   "cell_type": "code",
   "execution_count": 7,
   "id": "a048e606",
   "metadata": {},
   "outputs": [
    {
     "name": "stdout",
     "output_type": "stream",
     "text": [
      "2\n",
      "6\n",
      "8\n"
     ]
    }
   ],
   "source": [
    "# Print only even numbers from a list\n",
    "numbers = [3, 7, 11, 9, 2, 6, 8]\n",
    "\n",
    "for number in numbers:\n",
    "    if number % 2 != 0:\n",
    "        continue\n",
    "    print(number)\n",
    "\n",
    "# Output:\n",
    "# 2\n",
    "# 6\n",
    "# 8"
   ]
  },
  {
   "cell_type": "code",
   "execution_count": null,
   "id": "e1865414",
   "metadata": {},
   "outputs": [],
   "source": []
  }
 ],
 "metadata": {
  "kernelspec": {
   "display_name": "Python 3 (ipykernel)",
   "language": "python",
   "name": "python3"
  },
  "language_info": {
   "codemirror_mode": {
    "name": "ipython",
    "version": 3
   },
   "file_extension": ".py",
   "mimetype": "text/x-python",
   "name": "python",
   "nbconvert_exporter": "python",
   "pygments_lexer": "ipython3",
   "version": "3.11.3"
  }
 },
 "nbformat": 4,
 "nbformat_minor": 5
}
