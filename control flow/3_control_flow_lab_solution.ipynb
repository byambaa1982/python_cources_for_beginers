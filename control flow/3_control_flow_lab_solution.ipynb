{
  "nbformat": 4,
  "nbformat_minor": 0,
  "metadata": {
    "colab": {
      "provenance": [],
      "authorship_tag": "ABX9TyM1GjvWruXIZjaRumlxCTVj",
      "include_colab_link": true
    },
    "kernelspec": {
      "name": "python3",
      "display_name": "Python 3"
    },
    "language_info": {
      "name": "python"
    }
  },
  "cells": [
    {
      "cell_type": "markdown",
      "metadata": {
        "id": "view-in-github",
        "colab_type": "text"
      },
      "source": [
        "<a href=\"https://colab.research.google.com/github/byambaa1982/python_cources_for_beginers/blob/main/control%20flow/3_control_flow_lab_solution.ipynb\" target=\"_parent\"><img src=\"https://colab.research.google.com/assets/colab-badge.svg\" alt=\"Open In Colab\"/></a>"
      ]
    },
    {
      "cell_type": "markdown",
      "source": [
        "## Solution code 1"
      ],
      "metadata": {
        "id": "u9gtqyFjDHlh"
      }
    },
    {
      "cell_type": "code",
      "execution_count": 2,
      "metadata": {
        "colab": {
          "base_uri": "https://localhost:8080/"
        },
        "id": "scA2hVJpCa1L",
        "outputId": "cb49b5e5-4445-4f27-adb6-8f746f4e3328"
      },
      "outputs": [
        {
          "output_type": "stream",
          "name": "stdout",
          "text": [
            "1 is not a multiple of 3.\n",
            "2 is not a multiple of 3.\n",
            "3 is a multiple of 3.\n",
            "4 is not a multiple of 3.\n",
            "5 is not a multiple of 3.\n",
            "6 is a multiple of 3.\n",
            "7 is not a multiple of 3.\n",
            "8 is not a multiple of 3.\n",
            "9 is a multiple of 3.\n",
            "10 is not a multiple of 3.\n"
          ]
        }
      ],
      "source": [
        "for number in range(1, 11):\n",
        "    if number % 3 == 0:\n",
        "        print(f\"{number} is a multiple of 3.\")\n",
        "    else:\n",
        "        print(f\"{number} is not a multiple of 3.\")"
      ]
    },
    {
      "cell_type": "code",
      "source": [],
      "metadata": {
        "id": "npFZA3wIDIv3"
      },
      "execution_count": null,
      "outputs": []
    }
  ]
}