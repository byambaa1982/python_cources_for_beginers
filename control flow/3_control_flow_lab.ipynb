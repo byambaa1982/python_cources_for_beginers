{
  "nbformat": 4,
  "nbformat_minor": 0,
  "metadata": {
    "colab": {
      "provenance": [],
      "authorship_tag": "ABX9TyNf6ho2+92/OoMjKsEfxVU9",
      "include_colab_link": true
    },
    "kernelspec": {
      "name": "python3",
      "display_name": "Python 3"
    },
    "language_info": {
      "name": "python"
    }
  },
  "cells": [
    {
      "cell_type": "markdown",
      "metadata": {
        "id": "view-in-github",
        "colab_type": "text"
      },
      "source": [
        "<a href=\"https://colab.research.google.com/github/byambaa1982/python_cources_for_beginers/blob/main/control%20flow/3_control_flow_lab.ipynb\" target=\"_parent\"><img src=\"https://colab.research.google.com/assets/colab-badge.svg\" alt=\"Open In Colab\"/></a>"
      ]
    },
    {
      "cell_type": "markdown",
      "source": [
        "## Control Flow Exercises by Byamba"
      ],
      "metadata": {
        "id": "5B-Z_zdEEyTr"
      }
    },
    {
      "cell_type": "code",
      "source": [
        "for number in range(1, 6):\n",
        "    if number % 2 == 0:\n",
        "        print(f\"{number} is even.\")\n",
        "    else:\n",
        "        print(f\"{number} is odd.\")"
      ],
      "metadata": {
        "colab": {
          "base_uri": "https://localhost:8080/"
        },
        "id": "YfLjF-0BD_RB",
        "outputId": "9d46ac5a-ba7d-4f34-ad05-fac030b5ed04"
      },
      "execution_count": 1,
      "outputs": [
        {
          "output_type": "stream",
          "name": "stdout",
          "text": [
            "1 is odd.\n",
            "2 is even.\n",
            "3 is odd.\n",
            "4 is even.\n",
            "5 is odd.\n"
          ]
        }
      ]
    },
    {
      "cell_type": "markdown",
      "source": [
        "### 1. Write a Python program that iterates through the numbers from 1 to 10 and prints whether each number is a multiple of 3 or not. \n",
        "\n",
        "nstructions:\n",
        "\n",
        "1. Use a for loop to iterate through the numbers from 1 to 10.\n",
        "2. Inside the loop, use an if statement to check if the current number is a multiple of 3.\n",
        "3. f the number is a multiple of 3, print a message stating that the number is a multiple of 3.\n",
        "4. If the number is not a multiple of 3, print a message stating that the number is not a multiple of 3.\n",
        "\n",
        "Example output:\n",
        "\n",
        "```python\n",
        "1 is not a multiple of 3.\n",
        "2 is not a multiple of 3.\n",
        "3 is a multiple of 3.\n",
        "4 is not a multiple of 3.\n",
        "5 is not a multiple of 3.\n",
        "6 is a multiple of 3.\n",
        "7 is not a multiple of 3.\n",
        "8 is not a multiple of 3.\n",
        "9 is a multiple of 3.\n",
        "10 is not a multiple of 3.\n",
        "```\n",
        "\n",
        "Hints:\n",
        "\n",
        "- Use the range() function to generate a sequence of numbers from 1 to 10.\n",
        "- Use the modulo operator % to check if a number is a multiple of another number. If the remainder of the division is 0, the number is a multiple of the other number.\n",
        "- Use f-strings or string concatenation to format the output message."
      ],
      "metadata": {
        "id": "rZtrGC7yEElL"
      }
    },
    {
      "cell_type": "code",
      "source": [
        "# Start your code here..."
      ],
      "metadata": {
        "id": "6YafWxZlEGGV"
      },
      "execution_count": 2,
      "outputs": []
    },
    {
      "cell_type": "code",
      "source": [],
      "metadata": {
        "id": "JXiCboF3E9hc"
      },
      "execution_count": null,
      "outputs": []
    },
    {
      "cell_type": "markdown",
      "source": [],
      "metadata": {
        "id": "PSuJmSHGFDf1"
      }
    }
  ]
}