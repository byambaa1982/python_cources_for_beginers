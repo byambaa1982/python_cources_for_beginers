{
  "nbformat": 4,
  "nbformat_minor": 0,
  "metadata": {
    "colab": {
      "provenance": [],
      "include_colab_link": true
    },
    "kernelspec": {
      "name": "python3",
      "display_name": "Python 3"
    },
    "language_info": {
      "name": "python"
    }
  },
  "cells": [
    {
      "cell_type": "markdown",
      "metadata": {
        "id": "view-in-github",
        "colab_type": "text"
      },
      "source": [
        "<a href=\"https://colab.research.google.com/github/byambaa1982/python_cources_for_beginers/blob/class_zero_urangoo/3_control%20flow/conditional.ipynb\" target=\"_parent\"><img src=\"https://colab.research.google.com/assets/colab-badge.svg\" alt=\"Open In Colab\"/></a>"
      ]
    },
    {
      "cell_type": "code",
      "execution_count": null,
      "metadata": {
        "colab": {
          "base_uri": "https://localhost:8080/",
          "height": 35
        },
        "id": "9MX4lNnxC6Ys",
        "outputId": "9e8d1635-2a7f-48fc-8537-f7fea8901b63"
      },
      "outputs": [
        {
          "output_type": "execute_result",
          "data": {
            "text/plain": [
              "'Hi'"
            ],
            "application/vnd.google.colaboratory.intrinsic+json": {
              "type": "string"
            }
          },
          "metadata": {},
          "execution_count": 1
        }
      ],
      "source": [
        "\"Hi\""
      ]
    },
    {
      "cell_type": "code",
      "source": [
        "x = 6\n",
        "\n",
        "if x > 3:\n",
        "    print(\"x is greater than 4\")\n",
        "else:\n",
        "    print(\"x is less than 3\")"
      ],
      "metadata": {
        "colab": {
          "base_uri": "https://localhost:8080/"
        },
        "id": "0FCGxzWkIJtO",
        "outputId": "0bd23738-3cf1-40a2-bdd9-bc768835f2cc"
      },
      "execution_count": 1,
      "outputs": [
        {
          "output_type": "stream",
          "name": "stdout",
          "text": [
            "x is greater than 4\n"
          ]
        }
      ]
    },
    {
      "cell_type": "code",
      "source": [
        "my_age = 12\n",
        "your_age = 13\n",
        "\n",
        "if my_age > your_age:\n",
        "    print(\"I am older than you\")\n",
        "elif my_age == your_age:\n",
        "    print(\"I am the same age as you\")\n",
        "else:\n",
        "    print(\"I am younger than you\")"
      ],
      "metadata": {
        "colab": {
          "base_uri": "https://localhost:8080/"
        },
        "id": "NBtmRsMDImLy",
        "outputId": "ec9ebfcb-985d-4b97-a457-3d90e9b4b509"
      },
      "execution_count": 2,
      "outputs": [
        {
          "output_type": "stream",
          "name": "stdout",
          "text": [
            "I am younger than you\n"
          ]
        }
      ]
    },
    {
      "cell_type": "code",
      "source": [
        "age = 12\n",
        "\n",
        "if age < 3:\n",
        "    print(\"I am a baby\")\n",
        "elif age >=3 and age <13:\n",
        "    print(\"I am a child\")\n",
        "elif age >=13 and age <18:\n",
        "    print(\"I am a teenager\")\n",
        "elif age >=18 and age <65:\n",
        "    print(\"I am an adult\")\n",
        "else:\n",
        "    print(\"I am a senior\")"
      ],
      "metadata": {
        "id": "L7KD_2--Kuau",
        "outputId": "66032005-bfa1-4793-e17d-6e46dbbb4280",
        "colab": {
          "base_uri": "https://localhost:8080/"
        }
      },
      "execution_count": 10,
      "outputs": [
        {
          "output_type": "stream",
          "name": "stdout",
          "text": [
            "I am a child\n"
          ]
        }
      ]
    }
  ]
}