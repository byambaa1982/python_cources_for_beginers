{
  "nbformat": 4,
  "nbformat_minor": 0,
  "metadata": {
    "colab": {
      "provenance": [],
      "include_colab_link": true
    },
    "kernelspec": {
      "name": "python3",
      "display_name": "Python 3"
    },
    "language_info": {
      "name": "python"
    }
  },
  "cells": [
    {
      "cell_type": "markdown",
      "metadata": {
        "id": "view-in-github",
        "colab_type": "text"
      },
      "source": [
        "<a href=\"https://colab.research.google.com/github/byambaa1982/python_cources_for_beginers/blob/class_zero_enko/3_control%20flow/conditional.ipynb\" target=\"_parent\"><img src=\"https://colab.research.google.com/assets/colab-badge.svg\" alt=\"Open In Colab\"/></a>"
      ]
    },
    {
      "cell_type": "code",
      "execution_count": null,
      "metadata": {
        "colab": {
          "base_uri": "https://localhost:8080/",
          "height": 35
        },
        "id": "9MX4lNnxC6Ys",
        "outputId": "9e8d1635-2a7f-48fc-8537-f7fea8901b63"
      },
      "outputs": [
        {
          "output_type": "execute_result",
          "data": {
            "text/plain": [
              "'Hi'"
            ],
            "application/vnd.google.colaboratory.intrinsic+json": {
              "type": "string"
            }
          },
          "metadata": {},
          "execution_count": 1
        }
      ],
      "source": [
        "\"Hi\""
      ]
    },
    {
      "cell_type": "code",
      "source": [
        "x = 6\n",
        "if x > 7:\n",
        "   print(\"x is more than 7\")\n",
        "else:\n",
        "  print(\"x is less than 7\")"
      ],
      "metadata": {
        "colab": {
          "base_uri": "https://localhost:8080/"
        },
        "id": "DIPo6j9AHC_z",
        "outputId": "a0379d8a-7222-44a0-df59-b242fd976173"
      },
      "execution_count": 17,
      "outputs": [
        {
          "output_type": "stream",
          "name": "stdout",
          "text": [
            "x is less than 7\n"
          ]
        }
      ]
    },
    {
      "cell_type": "code",
      "source": [
        "my_age = 6\n",
        "your_age = 10\n",
        "\n",
        "if my_age >your_age:\n",
        "  print(\"I am older than you\")\n",
        "elif my_age == your_age:\n",
        "  print(\"I am the same age as you\")\n",
        "else:\n",
        "  print(\"I am younger than you\")"
      ],
      "metadata": {
        "colab": {
          "base_uri": "https://localhost:8080/"
        },
        "id": "bD87lgSqHX2a",
        "outputId": "c54e523d-c773-4195-a99f-3a0c58d0d9ec"
      },
      "execution_count": 9,
      "outputs": [
        {
          "output_type": "stream",
          "name": "stdout",
          "text": [
            "I am younger than you\n"
          ]
        }
      ]
    },
    {
      "cell_type": "code",
      "source": [
        "age = 13\n",
        "\n",
        "if age < 3:\n",
        "  print(\"I am baby\")\n",
        "elif age >=3 and age <10:\n",
        "  print(\"I am a child\")\n",
        "elif age >=13 and age <18:\n",
        "  print(\"I am a teenager\")\n",
        "else:\n",
        "  print(\"I am an adult\")"
      ],
      "metadata": {
        "colab": {
          "base_uri": "https://localhost:8080/"
        },
        "id": "uyU4WtC3Kuku",
        "outputId": "2688dd53-9f04-4fab-a4de-41e509fdde5a"
      },
      "execution_count": 21,
      "outputs": [
        {
          "output_type": "stream",
          "name": "stdout",
          "text": [
            "I am a teenager\n"
          ]
        }
      ]
    },
    {
      "cell_type": "code",
      "source": [],
      "metadata": {
        "id": "O7dl-DoCLiFF"
      },
      "execution_count": null,
      "outputs": []
    }
  ]
}