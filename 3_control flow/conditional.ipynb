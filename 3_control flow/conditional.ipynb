{
  "nbformat": 4,
  "nbformat_minor": 0,
  "metadata": {
    "colab": {
      "provenance": [],
      "include_colab_link": true
    },
    "kernelspec": {
      "name": "python3",
      "display_name": "Python 3"
    },
    "language_info": {
      "name": "python"
    }
  },
  "cells": [
    {
      "cell_type": "markdown",
      "metadata": {
        "id": "view-in-github",
        "colab_type": "text"
      },
      "source": [
        "<a href=\"https://colab.research.google.com/github/byambaa1982/python_cources_for_beginers/blob/class_zero_urangoo/3_control%20flow/conditional.ipynb\" target=\"_parent\"><img src=\"https://colab.research.google.com/assets/colab-badge.svg\" alt=\"Open In Colab\"/></a>"
      ]
    },
    {
      "cell_type": "code",
      "execution_count": null,
      "metadata": {
        "colab": {
          "base_uri": "https://localhost:8080/",
          "height": 35
        },
        "id": "9MX4lNnxC6Ys",
        "outputId": "9e8d1635-2a7f-48fc-8537-f7fea8901b63"
      },
      "outputs": [
        {
          "output_type": "execute_result",
          "data": {
            "text/plain": [
              "'Hi'"
            ],
            "application/vnd.google.colaboratory.intrinsic+json": {
              "type": "string"
            }
          },
          "metadata": {},
          "execution_count": 1
        }
      ],
      "source": [
        "\"Hi\""
      ]
    },
    {
      "cell_type": "code",
      "source": [
        "x = 6\n",
        "\n",
        "if x > 3:\n",
        "    print(\"x is greater than 4\")\n",
        "else:\n",
        "    print(\"x is less than 3\")"
      ],
      "metadata": {
        "id": "0FCGxzWkIJtO",
        "outputId": "0bd23738-3cf1-40a2-bdd9-bc768835f2cc",
        "colab": {
          "base_uri": "https://localhost:8080/"
        }
      },
      "execution_count": 1,
      "outputs": [
        {
          "output_type": "stream",
          "name": "stdout",
          "text": [
            "x is greater than 4\n"
          ]
        }
      ]
    },
    {
      "cell_type": "code",
      "source": [
        "my_age = 12\n",
        "your_age = 13\n",
        "\n",
        "if my_age > your_age:\n",
        "    print(\"I am older than you\")\n",
        "elif my_age == your_age:\n",
        "    print(\"I am the same age as you\")\n",
        "else:\n",
        "    print(\"I am younger than you\")"
      ],
      "metadata": {
        "id": "NBtmRsMDImLy",
        "outputId": "ec9ebfcb-985d-4b97-a457-3d90e9b4b509",
        "colab": {
          "base_uri": "https://localhost:8080/"
        }
      },
      "execution_count": 2,
      "outputs": [
        {
          "output_type": "stream",
          "name": "stdout",
          "text": [
            "I am younger than you\n"
          ]
        }
      ]
    }
  ]
}