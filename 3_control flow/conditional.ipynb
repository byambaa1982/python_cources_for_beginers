{
  "nbformat": 4,
  "nbformat_minor": 0,
  "metadata": {
    "colab": {
      "provenance": [],
      "include_colab_link": true
    },
    "kernelspec": {
      "name": "python3",
      "display_name": "Python 3"
    },
    "language_info": {
      "name": "python"
    }
  },
  "cells": [
    {
      "cell_type": "markdown",
      "metadata": {
        "id": "view-in-github",
        "colab_type": "text"
      },
      "source": [
        "<a href=\"https://colab.research.google.com/github/byambaa1982/python_cources_for_beginers/blob/class_zero_tuggy/3_control%20flow/conditional.ipynb\" target=\"_parent\"><img src=\"https://colab.research.google.com/assets/colab-badge.svg\" alt=\"Open In Colab\"/></a>"
      ]
    },
    {
      "cell_type": "code",
      "execution_count": 1,
      "metadata": {
        "colab": {
          "base_uri": "https://localhost:8080/",
          "height": 35
        },
        "id": "9MX4lNnxC6Ys",
        "outputId": "737eee60-44f0-46ee-f675-8166fad25b27"
      },
      "outputs": [
        {
          "output_type": "execute_result",
          "data": {
            "text/plain": [
              "'Hi'"
            ],
            "application/vnd.google.colaboratory.intrinsic+json": {
              "type": "string"
            }
          },
          "metadata": {},
          "execution_count": 1
        }
      ],
      "source": [
        "\"Hi\""
      ]
    },
    {
      "cell_type": "code",
      "source": [
        "x = 10\n",
        "if x> 3:\n",
        "    print(\"x is greater than 20\")\n",
        "else:\n",
        "    print(\"x is less than 20\")"
      ],
      "metadata": {
        "id": "0-9MKYtNJs4_",
        "outputId": "d084b733-de8c-4bd1-944c-c20559dbaaa9",
        "colab": {
          "base_uri": "https://localhost:8080/"
        }
      },
      "execution_count": 2,
      "outputs": [
        {
          "output_type": "stream",
          "name": "stdout",
          "text": [
            "x is greater than 20\n"
          ]
        }
      ]
    },
    {
      "cell_type": "code",
      "source": [
        "my_verticle = \"35inch\"\n",
        "my_obsticle = \"chair\"\n",
        "my_obsticle = \"30inch\"\n",
        "\n",
        "if my_verticle > my_obsticle:\n",
        "    print(f\"I can jump heigher than {my_obsticle}\")\n",
        "if my_verticle < my_obsticle:\n",
        "    print(f\"I cant jump heigher than {my_obsticle}\")\n"
      ],
      "metadata": {
        "id": "Kd_Hjbs_KHLt",
        "outputId": "70170183-6e1c-4e19-b5d5-3bb6a25cccc5",
        "colab": {
          "base_uri": "https://localhost:8080/"
        }
      },
      "execution_count": 4,
      "outputs": [
        {
          "output_type": "stream",
          "name": "stdout",
          "text": [
            "I can jump heigher than 30inch\n"
          ]
        }
      ]
    },
    {
      "cell_type": "code",
      "source": [],
      "metadata": {
        "id": "b7k_kSYUMRcn"
      },
      "execution_count": null,
      "outputs": []
    }
  ]
}