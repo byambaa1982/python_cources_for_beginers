{
  "nbformat": 4,
  "nbformat_minor": 0,
  "metadata": {
    "colab": {
      "provenance": [],
      "authorship_tag": "ABX9TyPxVkt4N394sTcxhJGv5/ru",
      "include_colab_link": true
    },
    "kernelspec": {
      "name": "python3",
      "display_name": "Python 3"
    },
    "language_info": {
      "name": "python"
    }
  },
  "cells": [
    {
      "cell_type": "markdown",
      "metadata": {
        "id": "view-in-github",
        "colab_type": "text"
      },
      "source": [
        "<a href=\"https://colab.research.google.com/github/byambaa1982/python_cources_for_beginers/blob/main/control%20flow/3_control_flow_lab_solution.ipynb\" target=\"_parent\"><img src=\"https://colab.research.google.com/assets/colab-badge.svg\" alt=\"Open In Colab\"/></a>"
      ]
    },
    {
      "cell_type": "markdown",
      "source": [
        "## Solution code 1"
      ],
      "metadata": {
        "id": "u9gtqyFjDHlh"
      }
    },
    {
      "cell_type": "code",
      "execution_count": null,
      "metadata": {
        "colab": {
          "base_uri": "https://localhost:8080/"
        },
        "id": "scA2hVJpCa1L",
        "outputId": "cb49b5e5-4445-4f27-adb6-8f746f4e3328"
      },
      "outputs": [
        {
          "output_type": "stream",
          "name": "stdout",
          "text": [
            "1 is not a multiple of 3.\n",
            "2 is not a multiple of 3.\n",
            "3 is a multiple of 3.\n",
            "4 is not a multiple of 3.\n",
            "5 is not a multiple of 3.\n",
            "6 is a multiple of 3.\n",
            "7 is not a multiple of 3.\n",
            "8 is not a multiple of 3.\n",
            "9 is a multiple of 3.\n",
            "10 is not a multiple of 3.\n"
          ]
        }
      ],
      "source": [
        "for number in range(1, 11):\n",
        "    if number % 3 == 0:\n",
        "        print(f\"{number} is a multiple of 3.\")\n",
        "    else:\n",
        "        print(f\"{number} is not a multiple of 3.\")"
      ]
    },
    {
      "cell_type": "markdown",
      "source": [
        "## Solution code 2"
      ],
      "metadata": {
        "id": "niAmQnMQITcc"
      }
    },
    {
      "cell_type": "code",
      "source": [
        "for number in range(1, 16):\n",
        "    if number % 4 == 0:\n",
        "        print(f\"{number} is divisible by 4.\")\n",
        "    else:\n",
        "        print(f\"{number} is not divisible by 4.\")"
      ],
      "metadata": {
        "id": "npFZA3wIDIv3",
        "outputId": "4585d8b6-66de-4a1b-aa02-8c5379020395",
        "colab": {
          "base_uri": "https://localhost:8080/"
        }
      },
      "execution_count": 1,
      "outputs": [
        {
          "output_type": "stream",
          "name": "stdout",
          "text": [
            "1 is not divisible by 4.\n",
            "2 is not divisible by 4.\n",
            "3 is not divisible by 4.\n",
            "4 is divisible by 4.\n",
            "5 is not divisible by 4.\n",
            "6 is not divisible by 4.\n",
            "7 is not divisible by 4.\n",
            "8 is divisible by 4.\n",
            "9 is not divisible by 4.\n",
            "10 is not divisible by 4.\n",
            "11 is not divisible by 4.\n",
            "12 is divisible by 4.\n",
            "13 is not divisible by 4.\n",
            "14 is not divisible by 4.\n",
            "15 is not divisible by 4.\n"
          ]
        }
      ]
    },
    {
      "cell_type": "markdown",
      "source": [
        "## Solution code 3"
      ],
      "metadata": {
        "id": "cfFncoZhJtM8"
      }
    },
    {
      "cell_type": "code",
      "source": [
        "animals = [\"dog\", \"cat\", \"crocodile\", \"parrot\", \"elephant\"]\n",
        "mammals = [\"dog\", \"cat\", \"elephant\"]\n",
        "\n",
        "for animal in animals:\n",
        "    if animal in mammals:\n",
        "        print(f\"{animal} is a mammal.\")\n",
        "    else:\n",
        "        print(f\"{animal} is not a mammal.\")"
      ],
      "metadata": {
        "id": "bktDBlbsIP6M",
        "outputId": "785ba025-a989-42b5-ee80-26df7ea1e192",
        "colab": {
          "base_uri": "https://localhost:8080/"
        }
      },
      "execution_count": 2,
      "outputs": [
        {
          "output_type": "stream",
          "name": "stdout",
          "text": [
            "dog is a mammal.\n",
            "cat is a mammal.\n",
            "crocodile is not a mammal.\n",
            "parrot is not a mammal.\n",
            "elephant is a mammal.\n"
          ]
        }
      ]
    },
    {
      "cell_type": "markdown",
      "source": [
        "## Solution code 6"
      ],
      "metadata": {
        "id": "SqCJ3fqkPvCq"
      }
    },
    {
      "cell_type": "code",
      "source": [
        "languages = [\"C\", \"Java\", \"Python\", \"Ruby\", \"C#\", \"JavaScript\", \"Swift\"]\n",
        "compiled_languages = [\"C\", \"Java\", \"C#\", \"Swift\"]\n",
        "\n",
        "for index, language in enumerate(languages):\n",
        "    if language in compiled_languages:\n",
        "        print(f\"{index + 1}. {language} is a compiled language.\")\n",
        "    else:\n",
        "        print(f\"{index + 1}. {language} is an interpreted language.\")\n",
        "\n",
        "print(f\"Total number of programming languages: {len(languages)}\")"
      ],
      "metadata": {
        "id": "ysQ9qy9wJoPT",
        "outputId": "c27b07c9-1aab-47fd-af39-9773a318ec87",
        "colab": {
          "base_uri": "https://localhost:8080/"
        }
      },
      "execution_count": 4,
      "outputs": [
        {
          "output_type": "stream",
          "name": "stdout",
          "text": [
            "1. C is a compiled language.\n",
            "2. Java is a compiled language.\n",
            "3. Python is an interpreted language.\n",
            "4. Ruby is an interpreted language.\n",
            "5. C# is a compiled language.\n",
            "6. JavaScript is an interpreted language.\n",
            "7. Swift is a compiled language.\n",
            "Total number of programming languages: 7\n"
          ]
        }
      ]
    },
    {
      "cell_type": "code",
      "source": [],
      "metadata": {
        "id": "rIpI4PjFN34J"
      },
      "execution_count": null,
      "outputs": []
    }
  ]
}