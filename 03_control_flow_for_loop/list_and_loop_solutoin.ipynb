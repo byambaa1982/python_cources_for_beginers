{
  "nbformat": 4,
  "nbformat_minor": 0,
  "metadata": {
    "colab": {
      "provenance": [],
      "authorship_tag": "ABX9TyPau7o/rRdixRBs+vaQCKdV",
      "include_colab_link": true
    },
    "kernelspec": {
      "name": "python3",
      "display_name": "Python 3"
    },
    "language_info": {
      "name": "python"
    }
  },
  "cells": [
    {
      "cell_type": "markdown",
      "metadata": {
        "id": "view-in-github",
        "colab_type": "text"
      },
      "source": [
        "<a href=\"https://colab.research.google.com/github/byambaa1982/python_cources_for_beginers/blob/main/03_control_flow_for_loop/list_and_loop_solutoin.ipynb\" target=\"_parent\"><img src=\"https://colab.research.google.com/assets/colab-badge.svg\" alt=\"Open In Colab\"/></a>"
      ]
    },
    {
      "cell_type": "markdown",
      "source": [
        "# Python Basics: Lists, If-Else, and Loops\n",
        "This notebook provides beginner-friendly tasks to practice Python lists, conditional statements (if-else), and loops.\n",
        "\n",
        " ## Task 1: Creating and Accessing Lists\n",
        " Write a program to create a list of five of your favorite foods and print each food item.\n",
        "\n",
        "### Instructions\n",
        "- Create a list called `favorite_foods` with five food names.\n",
        "- Use a loop to print each food item on a new line."
      ],
      "metadata": {
        "id": "C7qlD9o8eV83"
      }
    },
    {
      "cell_type": "code",
      "execution_count": null,
      "metadata": {
        "id": "KXO4e9HSeSf5",
        "colab": {
          "base_uri": "https://localhost:8080/"
        },
        "outputId": "3f9816b9-1be2-489e-f91c-c1bf1ab49527"
      },
      "outputs": [
        {
          "output_type": "stream",
          "name": "stdout",
          "text": [
            "pizza\n",
            "sushi\n",
            "pasta\n",
            "ice cream\n",
            "tacos\n"
          ]
        }
      ],
      "source": [
        "# Solution\n",
        "favorite_foods = [\"pizza\", \"sushi\", \"pasta\", \"ice cream\", \"tacos\"]\n",
        "for food in favorite_foods:\n",
        "    print(food)"
      ]
    },
    {
      "cell_type": "markdown",
      "source": [
        "## Task 2: Checking for an Item in a List\n",
        "Write a program that checks if a specific food is in your list of favorite foods.\n",
        "\n",
        "### Instructions\n",
        "- Use the `favorite_foods` list from Task 1.\n",
        "- Ask the user to input a food name.\n",
        "- Use an `if-else` statement to check if the food is in the list.\n",
        "- Print \"Yes, [food] is one of my favorites!\" if it is.\n",
        "- Otherwise, print \"No, I don't like [food] much.\""
      ],
      "metadata": {
        "id": "C630Hb5rfpO6"
      }
    },
    {
      "cell_type": "code",
      "source": [
        "# Solution\n",
        "food_to_check = input(\"Enter a food to check: \")\n",
        "if food_to_check in favorite_foods:\n",
        "    print(f\"Yes, {food_to_check} is one of my favorites!\")\n",
        "else:\n",
        "    print(f\"No, I don't like {food_to_check} much.\")"
      ],
      "metadata": {
        "id": "y7Fp15iPf-2o",
        "colab": {
          "base_uri": "https://localhost:8080/"
        },
        "outputId": "18c79415-b6a4-44f1-d0a0-3911c4a43123"
      },
      "execution_count": null,
      "outputs": [
        {
          "output_type": "stream",
          "name": "stdout",
          "text": [
            "Enter a food to check: burger\n",
            "No, I don't like burger much.\n"
          ]
        }
      ]
    },
    {
      "cell_type": "markdown",
      "source": [
        "## Task 3: Adding and Removing Items from a List\n",
        "Write a program that allows the user to add a new food to the list and then remove an existing one.\n",
        "\n",
        "### Instructions\n",
        "- Use the `favorite_foods` list from Task 1.\n",
        "- Ask the user to input a new food to add to the list.\n",
        "- Append the new food to the list.\n",
        "- Print the updated list.\n",
        "- Ask the user for a food to remove from the list and remove it.\n",
        "- Print the final list."
      ],
      "metadata": {
        "id": "pxu-KXxHgCKJ"
      }
    },
    {
      "cell_type": "code",
      "source": [
        "# Solution\n",
        "new_food = input(\"Enter a food to add to your list: \")\n",
        "favorite_foods.append(new_food)\n",
        "print(\"Updated list:\", favorite_foods)\n",
        "\n",
        "food_to_remove = input(\"Enter a food to remove from your list: \")\n",
        "if food_to_remove in favorite_foods:\n",
        "    favorite_foods.remove(food_to_remove)\n",
        "    print(\"Final list:\", favorite_foods)\n",
        "else:\n",
        "    print(f\"{food_to_remove} is not in the list!\")"
      ],
      "metadata": {
        "id": "CQgiTKsIgNtW",
        "colab": {
          "base_uri": "https://localhost:8080/"
        },
        "outputId": "a509965d-c253-4a39-8e13-7d0d11be8336"
      },
      "execution_count": null,
      "outputs": [
        {
          "output_type": "stream",
          "name": "stdout",
          "text": [
            "Enter a food to add to your list: banana\n",
            "Updated list: ['pizza', 'sushi', 'pasta', 'ice cream', 'tacos', 'banana']\n",
            "Enter a food to remove from your list: sushi\n",
            "Final list: ['pizza', 'pasta', 'ice cream', 'tacos', 'banana']\n"
          ]
        }
      ]
    },
    {
      "cell_type": "markdown",
      "source": [
        "## Task 4: Looping Through a List with Conditions\n",
        " Write a program that checks if each food in the list has more than 5 letters and prints a message accordingly.\n",
        "\n",
        "### Instructions\n",
        "- Use the `favorite_foods` list from the previous task.\n",
        "- Use a `for` loop to iterate through each food in the list.\n",
        "- If the food name has more than 5 letters, print \"[food] has more than 5 letters.\"\n",
        "- Otherwise, print \"[food] has 5 or fewer letters.\"\n",
        "\n"
      ],
      "metadata": {
        "id": "gK2p8cvEg8cz"
      }
    },
    {
      "cell_type": "code",
      "source": [
        "# Solution\n",
        "for food in favorite_foods:\n",
        "    if len(food) > 5:\n",
        "        print(f\"{food} has more than 5 letters.\")\n",
        "    else:\n",
        "        print(f\"{food} has 5 or fewer letters.\")"
      ],
      "metadata": {
        "id": "ZYCD4UR2hSBI",
        "colab": {
          "base_uri": "https://localhost:8080/"
        },
        "outputId": "fd2802e0-e6a6-4d1e-8faa-56d9c02fe6af"
      },
      "execution_count": null,
      "outputs": [
        {
          "output_type": "stream",
          "name": "stdout",
          "text": [
            "pizza has 5 or fewer letters.\n",
            "pasta has 5 or fewer letters.\n",
            "ice cream has more than 5 letters.\n",
            "tacos has 5 or fewer letters.\n",
            "banana has more than 5 letters.\n"
          ]
        }
      ]
    },
    {
      "cell_type": "markdown",
      "source": [
        "## Task 5: Summing Numbers in a List\n",
        "Write a program to calculate and print the total of all numbers in a list.\n",
        "\n",
        "### Instructions\n",
        "- Create a list called `numbers` with at least five integers.\n",
        "- Use a `for` loop to calculate the sum of all numbers in the list.\n",
        "- Print the total.\n"
      ],
      "metadata": {
        "id": "wuN7GFWpFxnp"
      }
    },
    {
      "cell_type": "code",
      "source": [
        "# Solution\n",
        "numbers = [10, 20, 30, 40, 50]\n",
        "total = 0\n",
        "for number in numbers:\n",
        "    total += number\n",
        "print(\"The total is:\", total)"
      ],
      "metadata": {
        "colab": {
          "base_uri": "https://localhost:8080/"
        },
        "id": "BW8-WnSzFuRb",
        "outputId": "67a4e11a-3d5e-4abc-a3d3-bff6da822e48"
      },
      "execution_count": null,
      "outputs": [
        {
          "output_type": "stream",
          "name": "stdout",
          "text": [
            "The total is: 150\n"
          ]
        }
      ]
    },
    {
      "cell_type": "markdown",
      "source": [
        "## Task 6: Combining Lists and Loops\n",
        " Write a program to create a new list of foods that contain the letter \"a\" from your `favorite_foods` list.\n",
        "\n",
        "### Instructions\n",
        "- Use the `favorite_foods` list from Task 1.\n",
        "- Use a `for` loop to iterate through each food in the list.\n",
        "- Check if the food contains the letter \"a\" using the `in` keyword.\n",
        "- Append foods containing \"a\" to a new list called `foods_with_a`.\n",
        "- Print the new list."
      ],
      "metadata": {
        "id": "dRr9WdVpF564"
      }
    },
    {
      "cell_type": "code",
      "source": [
        "# Solution\n",
        "foods_with_a = []\n",
        "for food in favorite_foods:\n",
        "    if \"a\" in food:\n",
        "        foods_with_a.append(food)\n",
        "print(\"Foods with the letter 'a':\", foods_with_a)"
      ],
      "metadata": {
        "colab": {
          "base_uri": "https://localhost:8080/"
        },
        "id": "l7-ncUU9F3fT",
        "outputId": "e78177c1-f4a9-4948-91f6-ca4ac49df144"
      },
      "execution_count": null,
      "outputs": [
        {
          "output_type": "stream",
          "name": "stdout",
          "text": [
            "Foods with the letter 'a': ['pizza', 'pasta', 'ice cream', 'tacos', 'banana']\n"
          ]
        }
      ]
    },
    {
      "cell_type": "code",
      "source": [],
      "metadata": {
        "id": "TQ40tmY8GEHs"
      },
      "execution_count": null,
      "outputs": []
    }
  ]
}