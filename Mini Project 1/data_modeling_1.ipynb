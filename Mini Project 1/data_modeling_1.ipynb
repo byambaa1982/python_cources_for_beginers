{
  "nbformat": 4,
  "nbformat_minor": 0,
  "metadata": {
    "colab": {
      "provenance": [],
      "include_colab_link": true
    },
    "kernelspec": {
      "name": "python3",
      "display_name": "Python 3"
    }
  },
  "cells": [
    {
      "cell_type": "markdown",
      "metadata": {
        "id": "view-in-github",
        "colab_type": "text"
      },
      "source": [
        "<a href=\"https://colab.research.google.com/github/byambaa1982/python_cources_for_beginers/blob/main/Mini%20Project%201/data_modeling_1.ipynb\" target=\"_parent\"><img src=\"https://colab.research.google.com/assets/colab-badge.svg\" alt=\"Open In Colab\"/></a>"
      ]
    },
    {
      "cell_type": "code",
      "metadata": {
        "id": "tWuT_FL__tRN"
      },
      "source": [
        "import pandas as pd\n",
        "import numpy as np\n",
        "import regex as re\n",
        "import os"
      ],
      "execution_count": 1,
      "outputs": []
    },
    {
      "cell_type": "code",
      "metadata": {
        "id": "ZIEopkkdRaE8",
        "colab": {
          "base_uri": "https://localhost:8080/"
        },
        "outputId": "0e03dbbf-688c-4ef7-9545-b508fab03382"
      },
      "source": [
        "from google.colab import drive\n",
        "drive.mount('/content/drive')"
      ],
      "execution_count": 2,
      "outputs": [
        {
          "output_type": "stream",
          "name": "stdout",
          "text": [
            "Mounted at /content/drive\n"
          ]
        }
      ]
    },
    {
      "cell_type": "code",
      "source": [
        "!cd /content"
      ],
      "metadata": {
        "id": "-I3wdgpgRjTx"
      },
      "execution_count": 7,
      "outputs": []
    },
    {
      "cell_type": "code",
      "metadata": {
        "id": "roTqBM2rRt9C",
        "colab": {
          "base_uri": "https://localhost:8080/",
          "height": 51
        },
        "outputId": "f33038a8-fe78-4c43-cac0-c82ebf01d2f5"
      },
      "source": [
        "from google.colab import auth\n",
        "auth.authenticate_user()\n",
        "project_id = 'my-bigquery-lab-286400'\n",
        "!gcloud config set project {project_id}\n",
        "!gsutil ls"
      ],
      "execution_count": null,
      "outputs": [
        {
          "output_type": "stream",
          "text": [
            "Updated property [core/project].\n",
            "gs://stevens_bucket/\n"
          ],
          "name": "stdout"
        }
      ]
    },
    {
      "cell_type": "code",
      "source": [
        "!ls drive/MyDrive"
      ],
      "metadata": {
        "colab": {
          "base_uri": "https://localhost:8080/"
        },
        "id": "p7wpgsPhRvn_",
        "outputId": "d31f2346-df02-4d20-a2b9-fa2423452589"
      },
      "execution_count": 10,
      "outputs": [
        {
          "output_type": "stream",
          "name": "stdout",
          "text": [
            " 000006_001.pdf\n",
            " 000007_001.pdf\n",
            " 000008_001.pdf\n",
            " 000009_001.pdf\n",
            " 000010_001.pdf\n",
            " 000013_001.pdf\n",
            " 000015_001.docx\n",
            " 000015_001.gdoc\n",
            " 000020_001.pdf\n",
            " 000021_001.pdf\n",
            " 000031_001.pdf\n",
            " 000032_001.pdf\n",
            " 000033_001.pdf\n",
            " 000052_001.pdf\n",
            " 000053_001.pdf\n",
            " 000074_001.pdf\n",
            " 000124_001.pdf\n",
            " 1.jpg\n",
            "'2017 tax calculation.xlsx'\n",
            "'2017 tax calculation.xlsx.gsheet'\n",
            "'2023 Annual tax summary.pdf'\n",
            "'2023 Uber 1099-K.pdf'\n",
            "'2024 Disney trip expense calculation.gsheet'\n",
            "'3 (1).jpg'\n",
            "'325 Info sheet for green card (English).doc'\n",
            " 35C14A74-026F-4FCD-8802-CA4F9E2A5039-list.pdf\n",
            " 3.jpg\n",
            " 4.pdf\n",
            " 5.pdf\n",
            " 60607820511--CA4D45AD-99C8-4060-8141-B2AB8D21D69F.jpeg\n",
            " 6.pdf\n",
            " 8.pdf\n",
            " 9.pdf\n",
            "'Airbnb Instructions.gdoc'\n",
            "'Altantsetseg Ganbold.docx'\n",
            "'Annual budget.gsheet'\n",
            "'Apartment Rental Application - Blank.pdf'\n",
            "'API explorer.gsheet'\n",
            " apply\n",
            " Assessment.gslides\n",
            " audio\n",
            " Avzaga\n",
            " Batmunkh\n",
            "'Bayaraa and od'\n",
            " Bayartsogt.rar\n",
            " bbh.m4a\n",
            "'Bichig barimtuud'\n",
            " Bichleg\n",
            " Bichveruud\n",
            " billieconcert.csv\n",
            " Bills\n",
            " Bills.pdf\n",
            " biopinky\n",
            "'BIOPINKY 123118.pdf'\n",
            "'brocure and discount card.pdf'\n",
            "'Business letter.gdoc'\n",
            "'Byambaa CV for MSU.doc'\n",
            " Byambaa..pptx\n",
            "'Byamba Enkhbat CV.gdoc'\n",
            " Byamba_new.gsheet\n",
            " Byamba_Oct_03.gdoc\n",
            " byamba_test.gsheet\n",
            "'Byamba Yura'\n",
            " canva\n",
            " Car\n",
            " car_accident\n",
            " car_accident-2021\n",
            " Certificate-of-Completion-byambaa1982@gmail.com-1534816808.pdf\n",
            "'Certificate of Employment (English).doc'\n",
            "'Certificate of Employment (English).doc.gdoc'\n",
            " certificates\n",
            "'Christian Publishing Companies.gsheet'\n",
            " class.ipynb\n",
            "'Colab Notebooks'\n",
            "'Collection Agent'\n",
            " conditional.ipynb\n",
            "'Consent for  International Travel.docx'\n",
            "'Consent for  International Travel.gdoc'\n",
            "'Copy of 000124_001.pdf'\n",
            "'Copy of Apartment Rental Application - Blank.pdf'\n",
            "'Copy of brocure and discount card.pdf'\n",
            "'Copy of File_006.jpeg'\n",
            "'Copy of functions_practices.ipynb'\n",
            "'Copy of json (1).csv'\n",
            "'Copy of json.csv'\n",
            "'court evidence'\n",
            "'Cover letter.docx'\n",
            "'cover letter.gdoc'\n",
            " CV\n",
            "'CV August 19.gdoc'\n",
            " dictionary.ipynb\n",
            " DSI6_Orientation.pdf\n",
            "'DSI Detailed Syllabus_v10.2.pdf'\n",
            " DSI_kickstarterscrape_dataset.csv.gsheet\n",
            " dynamicpdf.pdf\n",
            "'E2 visa for Batmunkh'\n",
            " emailreceipt_20200810R0185711956.pdf\n",
            "'Embassy Visa B1'\n",
            "'EMPLOYMENT VERIFICATION.gdoc'\n",
            "'Employment verification letter.gdoc'\n",
            " english_passport.docx\n",
            " enkh0388_19i_FC.PDF\n",
            " Epson_01252017193708.pdf\n",
            " Epson_01252017194259.pdf\n",
            "'Epson Connect'\n",
            "'File_000 (1).jpeg'\n",
            "'File_000 (2).jpeg'\n",
            " File_000.jpeg\n",
            " File_000.png\n",
            "'File_001 (1).png'\n",
            " File_001.png\n",
            " File_002.jpeg\n",
            " File_003.jpeg\n",
            " File_004.jpeg\n",
            " File_005.jpeg\n",
            " File_006.jpeg\n",
            " final_bichleg.mp4\n",
            " fiverr\n",
            " flask.ipynb\n",
            "'for_model (1).csv'\n",
            "'From Tuesday to Friday.pptx'\n",
            "'Function Excercises.ipynb'\n",
            " Functions_Hanna.ipynb\n",
            " functions_practices.ipynb\n",
            " GA_DSILearningExperience.pdf\n",
            "'GIG Desc example.gdoc'\n",
            "'Google AI Studio'\n",
            "'Green card doc'\n",
            "'Hello, world!.gdoc'\n",
            " Homework2.ipynb\n",
            "'Homework of Loop.ipynb'\n",
            "'I140 LOS Damba.doc'\n",
            "'I140 LOS Damba.doc.gdoc'\n",
            "'I-485 Checklist (English).doc'\n",
            "'Image (13).jpg'\n",
            "'Image (14).jpg'\n",
            "'Image (15).jpg'\n",
            "'Image (16).jpg'\n",
            "'Image (17).jpg'\n",
            " IMG_0097.JPG\n",
            " IMG_0099.mov\n",
            " IMG_0100.HEIC\n",
            " IMG_0101.HEIC\n",
            " IMG_0102.HEIC\n",
            " IMG_0103.HEIC\n",
            " IMG_0104.HEIC\n",
            " IMG_0105.HEIC\n",
            " IMG_0106.HEIC\n",
            " IMG_0107.HEIC\n",
            " IMG_0108.MOV\n",
            " IMG_0109.HEIC\n",
            " IMG_0110.HEIC\n",
            " IMG_0111.HEIC\n",
            " IMG_0121.PNG\n",
            " IMG_0122.HEIC\n",
            " IMG_0123.HEIC\n",
            " IMG_0124.HEIC\n",
            " IMG_0125.HEIC\n",
            " IMG_0126.JPG\n",
            " IMG_13141.jpg\n",
            " IMG_1315.JPG\n",
            " IMG_1316.JPG\n",
            " IMG_2711.JPG\n",
            " IMG_30711.jpg\n",
            " IMG_3121.JPG\n",
            " IMG_3122.JPG\n",
            " IMG_3123.JPG\n",
            " IMG_3124.JPG\n",
            " IMG_3125.JPG\n",
            " IMG_3126.JPG\n",
            " IMG_3127.JPG\n",
            " IMG_3128.JPG\n",
            " IMG_3129.JPG\n",
            " IMG_3131.JPG\n",
            " IMG_3132.JPG\n",
            " IMG_3133.JPG\n",
            " IMG_3134.JPG\n",
            " IMG_3135.JPG\n",
            " IMG_3136.JPG\n",
            "'Important cannot open'\n",
            " INV00582294_A00174387_09052019.pdf\n",
            "'INVOICE  Perm.doc'\n",
            "'Jagaa Hurgen'\n",
            "'Job applications.gsheet'\n",
            "'Jr Data Scientist - Job Posting.pdf'\n",
            " KishoreML.gsheet\n",
            "'Kамер ажиллаж байна .gdoc'\n",
            " lease.gdoc\n",
            " List_and_Loop.ipynb\n",
            " LyftTaxSummary2023.pdf\n",
            "'Mail_d0TYTozOqsz4yIqznvp75INrx10=.html'\n",
            "'Mail_+dDqMQlNIosQZSa3cjNs77QSRsQ=.html'\n",
            "'Make it for Cloud Funtion'\n",
            " Maral_School_registration\n",
            " Merchant_Statement_951208798888_Sep_01_2018.pdf\n",
            " Mining\n",
            "'ML model.gsheet'\n",
            "'Monthly budget.gsheet'\n",
            " mortgage_2024\n",
            "'My cool spreadsheet (1).gsheet'\n",
            "'My cool spreadsheet (2).gsheet'\n",
            "'My cool spreadsheet.gsheet'\n",
            "'My diary.gdoc'\n",
            "'My essay.gdoc'\n",
            " nano-hands-on-activities_en.pdf\n",
            "'NDA_Independent_SkillDemand_Byambatsogt Enkhbat.doc'\n",
            "'Niit Olborloson husnegt.gdoc'\n",
            "'Numbers API Example.gsheet'\n",
            " overanalyze.pdf\n",
            " oyuka_test_doc\n",
            "'pajama day maral.JPG'\n",
            " Pandas.ipynb\n",
            "'PAO with Pics-modified by outlawyr.doc.gdoc'\n",
            " passport_1.pdf\n",
            " passport_2.pdf\n",
            " Passport_3.pdf\n",
            "'PassportBooth (1).jpg'\n",
            "'PassportBooth (2).jpg'\n",
            " PassportBooth.jpg\n",
            "'Pay Statements.mht'\n",
            " Paystub.pdf\n",
            "'Phone insurance claim number.gdoc'\n",
            " Photos\n",
            "'photos .pdf'\n",
            "'PPP _loan_docs'\n",
            "'predict peak pointl.gdoc'\n",
            "'Proof of Residence.gdoc'\n",
            "'Puugii Medical.gdoc'\n",
            " Python\n",
            " qrcode.png\n",
            "'Receipt '\n",
            "'Receipt Notice Combo Renewal.pdf'\n",
            "'Recommendation for Enkhbat.docx'\n",
            " residence_proof\n",
            " restored_photos\n",
            " Resume.gdoc\n",
            "'salon photos'\n",
            "'Scanned from a Xerox Multifunction Printer.gdoc'\n",
            "'Scanned from a Xerox Multifunction Printer.pdf'\n",
            " Schedule.gsheet\n",
            "'Script Tutor.gsheet'\n",
            "'Script Tutorial.gscript'\n",
            " Starwars.gsheet\n",
            "'Steam cleaner'\n",
            " Steven\n",
            "'Storj wallet'\n",
            " Student_Financing_Handbook.pdf\n",
            " Tax\n",
            "'Tax return 2015, Bio pinky nail, inc.pdf'\n",
            "'TECH-5 STP Curriculum Vitae (CV).docx'\n",
            " this_message_in_html.html\n",
            " _tmp__lease_documents_20190716110957.pdf\n",
            "'To-do list (1).gsheet'\n",
            "'To-do list.gsheet'\n",
            " toefl\n",
            "'Travel plan.gdoc'\n",
            " try_ng_directive_restrictions\n",
            " uber\n",
            " UCWNew5242.pdf\n",
            " Untitled0.ipynb\n",
            "'Untitled document (1).gdoc'\n",
            "'Untitled document.gdoc'\n",
            " Untitled.key\n",
            "'Untitled spreadsheet.gsheet'\n",
            "'Usefull links.gdoc'\n",
            "'Usefull links.pdf'\n",
            " verizon\n",
            "'Visa f1, f2, j1, j2'\n",
            " Voice\n",
            "'What is it Like to be a Mongolian in America.gdoc'\n",
            "'Work statement of Oyuka. .gdoc'\n",
            "'yasuda CV.doc'\n",
            "\"Zoloo's job certification.pages\"\n",
            "'Ажлын тодорхойлолт-2.jpg'\n",
            "'Ажлын тодорхойлолт-2.pdf'\n",
            "'Ажлын тодорхойлолт.jpg'\n",
            " Гэрчилгээ-нүүр.jpg\n",
            " Гэрчилгээ-нүүр.pdf\n",
            "'Марал Уншлага.gdoc'\n",
            "'Сонингийн мэдээ.gdoc'\n",
            " Удган.gdoc\n",
            " Хэвлэх\n"
          ]
        }
      ]
    },
    {
      "cell_type": "code",
      "metadata": {
        "id": "5OQlf2Qgjqmb",
        "colab": {
          "base_uri": "https://localhost:8080/",
          "height": 34
        },
        "outputId": "9487e5ee-06d3-4ffd-8454-0f2f5a484048"
      },
      "source": [
        "from google.colab import drive\n",
        "drive.mount('/content/gdrive', force_remount=True)"
      ],
      "execution_count": null,
      "outputs": [
        {
          "output_type": "stream",
          "text": [
            "Mounted at /content/gdrive\n"
          ],
          "name": "stdout"
        }
      ]
    },
    {
      "cell_type": "code",
      "metadata": {
        "id": "zhQrAlsNjatx",
        "colab": {
          "base_uri": "https://localhost:8080/",
          "height": 159
        },
        "outputId": "ba59663e-c17b-4a5b-9eff-3879404fead0"
      },
      "source": [
        "os.chdir('/content/gdrive/Shared with me/steven2/11th_week')\n",
        "!ls"
      ],
      "execution_count": 4,
      "outputs": [
        {
          "output_type": "error",
          "ename": "FileNotFoundError",
          "evalue": "[Errno 2] No such file or directory: '/content/gdrive/Shared with me/steven2/11th_week'",
          "traceback": [
            "\u001b[0;31m---------------------------------------------------------------------------\u001b[0m",
            "\u001b[0;31mFileNotFoundError\u001b[0m                         Traceback (most recent call last)",
            "\u001b[0;32m<ipython-input-4-1163710d5255>\u001b[0m in \u001b[0;36m<cell line: 1>\u001b[0;34m()\u001b[0m\n\u001b[0;32m----> 1\u001b[0;31m \u001b[0mos\u001b[0m\u001b[0;34m.\u001b[0m\u001b[0mchdir\u001b[0m\u001b[0;34m(\u001b[0m\u001b[0;34m'/content/gdrive/Shared with me/steven2/11th_week'\u001b[0m\u001b[0;34m)\u001b[0m\u001b[0;34m\u001b[0m\u001b[0;34m\u001b[0m\u001b[0m\n\u001b[0m\u001b[1;32m      2\u001b[0m \u001b[0mget_ipython\u001b[0m\u001b[0;34m(\u001b[0m\u001b[0;34m)\u001b[0m\u001b[0;34m.\u001b[0m\u001b[0msystem\u001b[0m\u001b[0;34m(\u001b[0m\u001b[0;34m'ls'\u001b[0m\u001b[0;34m)\u001b[0m\u001b[0;34m\u001b[0m\u001b[0;34m\u001b[0m\u001b[0m\n",
            "\u001b[0;31mFileNotFoundError\u001b[0m: [Errno 2] No such file or directory: '/content/gdrive/Shared with me/steven2/11th_week'"
          ]
        }
      ]
    },
    {
      "cell_type": "code",
      "metadata": {
        "id": "cDW-px4sSJh1",
        "colab": {
          "base_uri": "https://localhost:8080/",
          "height": 34
        },
        "outputId": "3359682e-67b3-4b01-bf32-f40bf9674606"
      },
      "source": [
        "bucket_name = 'stevens_bucket'\n",
        "# /content/gdrive/My Drive/steven2/11th_week/grand_csv.csv\n",
        "#/content/sample_data/mnist_test.csv\n",
        "!gsutil cp /content/gdrive/My\\ Drive/steven2/11th_week/grand_csv.csv/ gs://{bucket_name}/"
      ],
      "execution_count": null,
      "outputs": [
        {
          "output_type": "stream",
          "text": [
            "CommandException: No URLs matched: /content/gdrive/My Drive/steven2/11th_week/grand_csv.csv/\n"
          ],
          "name": "stdout"
        }
      ]
    },
    {
      "cell_type": "code",
      "metadata": {
        "id": "4noUlsIkkS1R",
        "colab": {
          "base_uri": "https://localhost:8080/",
          "height": 34
        },
        "outputId": "3538e59e-2202-4b6d-dfb7-fe6c925ecb27"
      },
      "source": [
        "!pwd"
      ],
      "execution_count": null,
      "outputs": [
        {
          "output_type": "stream",
          "text": [
            "/content/gdrive/My Drive/steven2/11th_week\n"
          ],
          "name": "stdout"
        }
      ]
    },
    {
      "cell_type": "code",
      "metadata": {
        "id": "Lu1dZIHrlRgc",
        "colab": {
          "base_uri": "https://localhost:8080/",
          "height": 34
        },
        "outputId": "dacee5ab-ced7-4810-df15-eea9b3c7cdbe"
      },
      "source": [
        "!gsutil cp byamba_test gs://{bucket_name}/"
      ],
      "execution_count": null,
      "outputs": [
        {
          "output_type": "stream",
          "text": [
            "CommandException: No URLs matched: byamba_test\n"
          ],
          "name": "stdout"
        }
      ]
    },
    {
      "cell_type": "code",
      "metadata": {
        "id": "dnX9qcWhn-RP",
        "colab": {
          "base_uri": "https://localhost:8080/",
          "height": 51
        },
        "outputId": "37ee9ca1-6899-45d1-a18b-475885c79766"
      },
      "source": [
        "with open('/tmp/to_upload.txt', 'w') as f:\n",
        "  f.write('my sample file by Byamba')\n",
        "\n",
        "print('/tmp/to_upload.txt contains:')\n",
        "!cat /tmp/to_upload.txt"
      ],
      "execution_count": null,
      "outputs": [
        {
          "output_type": "stream",
          "text": [
            "/tmp/to_upload.txt contains:\n",
            "my sample file by Byamba"
          ],
          "name": "stdout"
        }
      ]
    },
    {
      "cell_type": "code",
      "metadata": {
        "id": "w-kDXZAIoEkY",
        "colab": {
          "base_uri": "https://localhost:8080/",
          "height": 51
        },
        "outputId": "d9603b1e-21f3-47e8-ae08-362c7619d26e"
      },
      "source": [
        "!gsutil mb gs://{bucket_name}"
      ],
      "execution_count": null,
      "outputs": [
        {
          "output_type": "stream",
          "text": [
            "Creating gs://stevens_bucket/...\n",
            "ServiceException: 409 Bucket stevens_bucket already exists.\n"
          ],
          "name": "stdout"
        }
      ]
    },
    {
      "cell_type": "code",
      "metadata": {
        "id": "jWJ1C0E_ohqg",
        "colab": {
          "base_uri": "https://localhost:8080/",
          "height": 68
        },
        "outputId": "b29c6dff-c77f-4ff5-c328-6c890e5bad1c"
      },
      "source": [
        "!gsutil cp /tmp/to_upload.txt gs://{bucket_name}/"
      ],
      "execution_count": null,
      "outputs": [
        {
          "output_type": "stream",
          "text": [
            "Copying file:///tmp/to_upload.txt [Content-Type=text/plain]...\n",
            "/ [0 files][    0.0 B/   14.0 B]                                                \r/ [1 files][   14.0 B/   14.0 B]                                                \r\n",
            "Operation completed over 1 objects/14.0 B.                                       \n"
          ],
          "name": "stdout"
        }
      ]
    },
    {
      "cell_type": "code",
      "metadata": {
        "id": "C518spSMpZx3",
        "colab": {
          "base_uri": "https://localhost:8080/",
          "height": 68
        },
        "outputId": "45a4b348-3605-442b-dd8e-dafcee0e7900"
      },
      "source": [
        "!gsutil cp /content/sample_data/mnist_test.csv gs://{bucket_name}/"
      ],
      "execution_count": null,
      "outputs": [
        {
          "output_type": "stream",
          "text": [
            "Copying file:///content/sample_data/mnist_test.csv [Content-Type=text/csv]...\n",
            "/ [1 files][ 17.4 MiB/ 17.4 MiB]                                                \n",
            "Operation completed over 1 objects/17.4 MiB.                                     \n"
          ],
          "name": "stdout"
        }
      ]
    },
    {
      "cell_type": "code",
      "metadata": {
        "id": "bJv5yt-g4wcF"
      },
      "source": [
        "from google.colab import drive\n",
        "drive.mount('/content/drive')"
      ],
      "execution_count": null,
      "outputs": []
    },
    {
      "cell_type": "code",
      "metadata": {
        "id": "5yPR8EI_9fWI"
      },
      "source": [
        "from google.colab import auth\n",
        "auth.authenticate_user()\n",
        "\n",
        "project_id = 'nifty-depth-246308'\n",
        "!gcloud config set project {project_id}\n",
        "!gsutil ls\n"
      ],
      "execution_count": null,
      "outputs": []
    },
    {
      "cell_type": "code",
      "metadata": {
        "id": "52TUkTk19hrg"
      },
      "source": [
        "bucket_name = 'medium_demo_bucket_190710'\n",
        "\n",
        "!gsutil -m cp -r /content/drive/My\\ Drive/Data/* gs://{bucket_name}/"
      ],
      "execution_count": null,
      "outputs": []
    }
  ]
}