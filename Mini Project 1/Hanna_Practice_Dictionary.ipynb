{
  "nbformat": 4,
  "nbformat_minor": 0,
  "metadata": {
    "colab": {
      "provenance": [],
      "authorship_tag": "ABX9TyOtpjhyIPlxO1xDFK7WzhwF",
      "include_colab_link": true
    },
    "kernelspec": {
      "name": "python3",
      "display_name": "Python 3"
    },
    "language_info": {
      "name": "python"
    }
  },
  "cells": [
    {
      "cell_type": "markdown",
      "metadata": {
        "id": "view-in-github",
        "colab_type": "text"
      },
      "source": [
        "<a href=\"https://colab.research.google.com/github/byambaa1982/python_cources_for_beginers/blob/main/Mini%20Project%201/Hanna_Practice_Dictionary.ipynb\" target=\"_parent\"><img src=\"https://colab.research.google.com/assets/colab-badge.svg\" alt=\"Open In Colab\"/></a>"
      ]
    },
    {
      "cell_type": "markdown",
      "source": [
        "# Merge Tables\n"
      ],
      "metadata": {
        "id": "NNpzcNqt0GLF"
      }
    },
    {
      "cell_type": "code",
      "source": [
        "my_dict = {\n",
        "    \"name\": \"John Doe\",           # String\n",
        "    \"age\": 28,                    # Number\n",
        "    \"hobbies\": [\"reading\", \"swimming\", \"coding\"],  # List of strings\n",
        "    \"scores\": [85, 90, 78],       # List of numbers\n",
        "    \"address\": {\n",
        "        \"city\": \"New York\",       # Nested dictionary with strings\n",
        "        \"zip_code\": 10001         # Number\n",
        "    },\n",
        "    \"graduated\": True,            # Boolean value\n",
        "    \"languages\": [\"English\", \"Spanish\"]  # List of strings\n",
        "}\n",
        "\n",
        "print(my_dict)"
      ],
      "metadata": {
        "id": "MjO6zeDrZiJ6",
        "outputId": "f8213289-ab94-4427-86a4-d666c9b57d5c",
        "colab": {
          "base_uri": "https://localhost:8080/"
        }
      },
      "execution_count": 1,
      "outputs": [
        {
          "output_type": "stream",
          "name": "stdout",
          "text": [
            "{'name': 'John Doe', 'age': 28, 'hobbies': ['reading', 'swimming', 'coding'], 'scores': [85, 90, 78], 'address': {'city': 'New York', 'zip_code': 10001}, 'graduated': True, 'languages': ['English', 'Spanish']}\n"
          ]
        }
      ]
    },
    {
      "cell_type": "code",
      "source": [
        "for hobby in my_dict['hobbies']:\n",
        "  print(hobby)"
      ],
      "metadata": {
        "id": "oDAY67MIWmR7",
        "outputId": "537933ae-b183-4c61-b5b5-9921d6afc0de",
        "colab": {
          "base_uri": "https://localhost:8080/"
        }
      },
      "execution_count": 6,
      "outputs": [
        {
          "output_type": "stream",
          "name": "stdout",
          "text": [
            "reading\n",
            "swimming\n",
            "coding\n"
          ]
        }
      ]
    },
    {
      "cell_type": "code",
      "source": [
        "for score in my_dict['scores']:\n",
        "  print(score)"
      ],
      "metadata": {
        "id": "4NKWJNnwWvUc",
        "outputId": "53e5bab9-3614-48da-8721-39a7864fb156",
        "colab": {
          "base_uri": "https://localhost:8080/"
        }
      },
      "execution_count": 7,
      "outputs": [
        {
          "output_type": "stream",
          "name": "stdout",
          "text": [
            "85\n",
            "90\n",
            "78\n"
          ]
        }
      ]
    },
    {
      "cell_type": "markdown",
      "source": [
        "# Task 1: Create a Python dictionary that represents your own profile.\n",
        "\n",
        "```python\n",
        "\n",
        "profile = {\n",
        "    \"name\": \"Your Name\",\n",
        "    \"age\": Your Age,\n",
        "    \"favorite_foods\": [\"Food1\", \"Food2\", \"Food3\"],  # List of your favorite foods\n",
        "    \"hobbies\": [\"Hobby1\", \"Hobby2\"],                # List of your hobbies\n",
        "    \"is_student\": True,                             # Boolean, are you a student?\n",
        "}\n",
        "\n",
        "# Print the profile\n",
        "print(profile)\n",
        "```"
      ],
      "metadata": {
        "id": "taDDrgn1V2CH"
      }
    },
    {
      "cell_type": "code",
      "source": [
        "# Create a dictionary with your own information\n",
        "\n"
      ],
      "metadata": {
        "id": "piO-lpP6alPr"
      },
      "execution_count": 3,
      "outputs": []
    },
    {
      "cell_type": "code",
      "source": [
        "# Create a for loop and print your favorite foods"
      ],
      "metadata": {
        "id": "V20qSQQMamy4"
      },
      "execution_count": 4,
      "outputs": []
    },
    {
      "cell_type": "code",
      "source": [
        "# Create a for loop and print your hobbies"
      ],
      "metadata": {
        "id": "coNBvyZHVHEi"
      },
      "execution_count": 5,
      "outputs": []
    },
    {
      "cell_type": "code",
      "source": [
        "# Complete the following code\n",
        "\n",
        "for age in *****:\n",
        "  print(age)"
      ],
      "metadata": {
        "colab": {
          "base_uri": "https://localhost:8080/"
        },
        "id": "pTg_uPlWV2ba",
        "outputId": "26f6fe7e-c827-4bd1-bb7c-0c958fe2e8b7"
      },
      "execution_count": null,
      "outputs": [
        {
          "output_type": "stream",
          "name": "stdout",
          "text": [
            "10\n",
            "12\n",
            "10\n"
          ]
        }
      ]
    },
    {
      "cell_type": "code",
      "source": [
        "# Complete the following code\n",
        "\n",
        "for **** in data1['Name']:\n",
        "  print(name)"
      ],
      "metadata": {
        "id": "-__R6FMFbCF5",
        "outputId": "3a86afe0-119b-457f-cedf-0ce2f03080b3",
        "colab": {
          "base_uri": "https://localhost:8080/"
        }
      },
      "execution_count": null,
      "outputs": [
        {
          "output_type": "stream",
          "name": "stdout",
          "text": [
            "Emma\n",
            "Oliver\n",
            "Ava\n"
          ]
        }
      ]
    },
    {
      "cell_type": "markdown",
      "source": [
        "# Homework"
      ],
      "metadata": {
        "id": "qb8mvHSOinaL"
      }
    },
    {
      "cell_type": "code",
      "source": [
        "for name in data1['Name']:\n",
        " #Your code is here."
      ],
      "metadata": {
        "id": "S73Nl83BbMKj",
        "colab": {
          "base_uri": "https://localhost:8080/"
        },
        "outputId": "dd109585-d681-4c25-b752-3f39c3906843"
      },
      "execution_count": null,
      "outputs": [
        {
          "output_type": "stream",
          "name": "stdout",
          "text": [
            "Hi, Emma\n",
            "Hi, Oliver\n",
            "Hi, Ava\n"
          ]
        }
      ]
    },
    {
      "cell_type": "code",
      "source": [
        "for age in data2['Age']:\n",
        "#Your code is here"
      ],
      "metadata": {
        "id": "YSXU-IMkh9xs",
        "outputId": "2b7a5e0d-5bf5-4769-b7cb-1df624c84051",
        "colab": {
          "base_uri": "https://localhost:8080/"
        }
      },
      "execution_count": null,
      "outputs": [
        {
          "output_type": "stream",
          "name": "stdout",
          "text": [
            "10 year old.\n",
            "12 year old.\n",
            "10 year old.\n"
          ]
        }
      ]
    },
    {
      "cell_type": "code",
      "source": [
        "# Complete the following code using data2\n",
        "for i in ******:\n",
        "  print(i)"
      ],
      "metadata": {
        "id": "eWTfDlr4iU8Z",
        "outputId": "4f375e7e-2704-4196-8966-3e7e9dc3399f",
        "colab": {
          "base_uri": "https://localhost:8080/"
        }
      },
      "execution_count": null,
      "outputs": [
        {
          "output_type": "stream",
          "name": "stdout",
          "text": [
            "1\n",
            "2\n",
            "4\n"
          ]
        }
      ]
    },
    {
      "cell_type": "code",
      "source": [
        "# Complete the following code using data2\n",
        "\n",
        "  print(i)"
      ],
      "metadata": {
        "id": "j5wo5NWmi3Id",
        "outputId": "44f52195-0503-419a-dc85-bb2668fd2278",
        "colab": {
          "base_uri": "https://localhost:8080/"
        }
      },
      "execution_count": null,
      "outputs": [
        {
          "output_type": "stream",
          "name": "stdout",
          "text": [
            "10\n",
            "12\n",
            "10\n"
          ]
        }
      ]
    },
    {
      "cell_type": "code",
      "source": [],
      "metadata": {
        "id": "eonmPrmDi3h6"
      },
      "execution_count": null,
      "outputs": []
    }
  ]
}