{
  "nbformat": 4,
  "nbformat_minor": 0,
  "metadata": {
    "colab": {
      "provenance": [],
      "authorship_tag": "ABX9TyNYI5FnLbk8uwmc6gatxBF3",
      "include_colab_link": true
    },
    "kernelspec": {
      "name": "python3",
      "display_name": "Python 3"
    },
    "language_info": {
      "name": "python"
    }
  },
  "cells": [
    {
      "cell_type": "markdown",
      "metadata": {
        "id": "view-in-github",
        "colab_type": "text"
      },
      "source": [
        "<a href=\"https://colab.research.google.com/github/byambaa1982/python_cources_for_beginers/blob/main/Mini%20Project%201/Hanna_Practice_Dictionary.ipynb\" target=\"_parent\"><img src=\"https://colab.research.google.com/assets/colab-badge.svg\" alt=\"Open In Colab\"/></a>"
      ]
    },
    {
      "cell_type": "markdown",
      "source": [
        "# Merge Tables\n"
      ],
      "metadata": {
        "id": "NNpzcNqt0GLF"
      }
    },
    {
      "cell_type": "code",
      "source": [
        "my_dict = {\n",
        "    \"name\": \"John Doe\",           # String\n",
        "    \"age\": 28,                    # Number\n",
        "    \"hobbies\": [\"reading\", \"swimming\", \"coding\"],  # List of strings\n",
        "    \"scores\": [85, 90, 78],       # List of numbers\n",
        "    \"address\": {\n",
        "        \"city\": \"New York\",       # Nested dictionary with strings\n",
        "        \"zip_code\": 10001         # Number\n",
        "    },\n",
        "    \"graduated\": True,            # Boolean value\n",
        "    \"languages\": [\"English\", \"Spanish\"]  # List of strings\n",
        "}\n",
        "\n",
        "print(my_dict)"
      ],
      "metadata": {
        "id": "MjO6zeDrZiJ6",
        "colab": {
          "base_uri": "https://localhost:8080/"
        },
        "outputId": "f8213289-ab94-4427-86a4-d666c9b57d5c"
      },
      "execution_count": 1,
      "outputs": [
        {
          "output_type": "stream",
          "name": "stdout",
          "text": [
            "{'name': 'John Doe', 'age': 28, 'hobbies': ['reading', 'swimming', 'coding'], 'scores': [85, 90, 78], 'address': {'city': 'New York', 'zip_code': 10001}, 'graduated': True, 'languages': ['English', 'Spanish']}\n"
          ]
        }
      ]
    },
    {
      "cell_type": "code",
      "source": [
        "for hobby in my_dict['hobbies']:\n",
        "  print(hobby)"
      ],
      "metadata": {
        "colab": {
          "base_uri": "https://localhost:8080/"
        },
        "id": "oDAY67MIWmR7",
        "outputId": "537933ae-b183-4c61-b5b5-9921d6afc0de"
      },
      "execution_count": 6,
      "outputs": [
        {
          "output_type": "stream",
          "name": "stdout",
          "text": [
            "reading\n",
            "swimming\n",
            "coding\n"
          ]
        }
      ]
    },
    {
      "cell_type": "code",
      "source": [
        "for score in my_dict['scores']:\n",
        "  print(score)"
      ],
      "metadata": {
        "colab": {
          "base_uri": "https://localhost:8080/"
        },
        "id": "4NKWJNnwWvUc",
        "outputId": "53e5bab9-3614-48da-8721-39a7864fb156"
      },
      "execution_count": 7,
      "outputs": [
        {
          "output_type": "stream",
          "name": "stdout",
          "text": [
            "85\n",
            "90\n",
            "78\n"
          ]
        }
      ]
    },
    {
      "cell_type": "markdown",
      "source": [
        "# Task 1: Create a Python dictionary that represents your own profile.\n",
        "\n",
        "```python\n",
        "\n",
        "profile = {\n",
        "    \"name\": \"Your Name\",\n",
        "    \"age\": Your Age,\n",
        "    \"favorite_foods\": [\"Food1\", \"Food2\", \"Food3\"],  # List of your favorite foods\n",
        "    \"hobbies\": [\"Hobby1\", \"Hobby2\"],                # List of your hobbies\n",
        "    \"is_student\": True,                             # Boolean, are you a student?\n",
        "}\n",
        "\n",
        "# Print the profile\n",
        "print(profile)\n",
        "```"
      ],
      "metadata": {
        "id": "taDDrgn1V2CH"
      }
    },
    {
      "cell_type": "code",
      "source": [
        "# Create a dictionary with your own information\n",
        "\n"
      ],
      "metadata": {
        "id": "piO-lpP6alPr"
      },
      "execution_count": 3,
      "outputs": []
    },
    {
      "cell_type": "code",
      "source": [
        "# Create a for loop and print your favorite foods"
      ],
      "metadata": {
        "id": "V20qSQQMamy4"
      },
      "execution_count": 4,
      "outputs": []
    },
    {
      "cell_type": "code",
      "source": [
        "# Create a for loop and print your hobbies"
      ],
      "metadata": {
        "id": "coNBvyZHVHEi"
      },
      "execution_count": 5,
      "outputs": []
    },
    {
      "cell_type": "code",
      "source": [],
      "metadata": {
        "id": "eonmPrmDi3h6"
      },
      "execution_count": null,
      "outputs": []
    }
  ]
}