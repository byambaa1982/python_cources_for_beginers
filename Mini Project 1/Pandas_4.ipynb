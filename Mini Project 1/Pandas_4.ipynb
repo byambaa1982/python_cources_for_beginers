{
  "nbformat": 4,
  "nbformat_minor": 0,
  "metadata": {
    "colab": {
      "provenance": [],
      "authorship_tag": "ABX9TyMK1HjeTWHis/B+T8URonq6",
      "include_colab_link": true
    },
    "kernelspec": {
      "name": "python3",
      "display_name": "Python 3"
    },
    "language_info": {
      "name": "python"
    }
  },
  "cells": [
    {
      "cell_type": "markdown",
      "metadata": {
        "id": "view-in-github",
        "colab_type": "text"
      },
      "source": [
        "<a href=\"https://colab.research.google.com/github/byambaa1982/python_cources_for_beginers/blob/main/Mini%20Project%201/Pandas_4.ipynb\" target=\"_parent\"><img src=\"https://colab.research.google.com/assets/colab-badge.svg\" alt=\"Open In Colab\"/></a>"
      ]
    },
    {
      "cell_type": "markdown",
      "source": [
        "# Handling Missing Data\n"
      ],
      "metadata": {
        "id": "NNpzcNqt0GLF"
      }
    },
    {
      "cell_type": "code",
      "source": [
        "import pandas as pd"
      ],
      "metadata": {
        "id": "r2CCFUILV_iN"
      },
      "execution_count": 2,
      "outputs": []
    },
    {
      "cell_type": "code",
      "source": [
        "\n",
        "data1 = {\n",
        "    'Name': ['Emma', 'Oliver', 'Ava', 'James', 'Oscar', 'Wolf', 'Amy', 'Emily', 'Jake', 'Alex'],\n",
        "    'Math_Grade': [78, 98, 100, 85, 82, 94, 68, 45, 89, 85],\n",
        "    'id': [1, 2, 3, 4, 5, 6, 7, 8, 9, 10],\n",
        "    'hobby': [\"hiking\", \"reading\", \"biking\", \"skiing\", \"chess\", \"PC game\", \"painting\", \"swimming\", \"dancing\", \"coding\"]\n",
        "}\n",
        "\n",
        "data2 = ({\n",
        "    'Name': ['Emma', 'Oliver', 'Ava', 'James', 'Oscar', 'Wolf', 'Amy', 'Emily', 'Jake', 'Alex'],\n",
        "    'Science_Grade': [87, 95, 81, 76, 50, 100, 94, 89, 64, 78],\n",
        "    'id': [1, 2, 3, 4, 5, 6, 7, 8, 9, 10]\n",
        "})\n",
        "\n",
        "data3 = {\n",
        "    'id': [1, 2, 3, 4, 5, 6, 7, 8, 9, 10],\n",
        "    'email': ['emma@gmail.com', 'oliver@yahoo.com', 'ava@msn.com', 'james@gmail.com', 'oscar@yahoo.com', 'wolf@msn.com', 'amy@gmail.com', 'emily@yahoo.com', 'jake@msn.com', 'alex@gmail.com']\n",
        "}"
      ],
      "metadata": {
        "id": "fkhz3HTkkCKb"
      },
      "execution_count": 5,
      "outputs": []
    },
    {
      "cell_type": "code",
      "source": [
        "df1 = pd.DataFrame(data1)\n",
        "df2 = pd.DataFrame(data2)\n",
        "df3 = pd.DataFrame(data3)"
      ],
      "metadata": {
        "id": "fYTWci6jEJV-"
      },
      "execution_count": 7,
      "outputs": []
    },
    {
      "cell_type": "markdown",
      "source": [
        " # Task 1: Show a dataframe with columns name and email\n",
        "\n"
      ],
      "metadata": {
        "id": "9sGZaQ15FO-n"
      }
    },
    {
      "cell_type": "code",
      "source": [],
      "metadata": {
        "id": "onUk67-T-qcF"
      },
      "execution_count": null,
      "outputs": []
    }
  ]
}