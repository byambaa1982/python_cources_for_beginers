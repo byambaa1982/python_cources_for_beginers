{
 "cells": [
  {
   "cell_type": "markdown",
   "id": "041fec69",
   "metadata": {},
   "source": [
    "## 1. if statement:\n",
    "\n",
    "- Write a program that takes an integer as input and prints \"Even\" if the number is even, using an if statement.\n",
    "\n",
    "\n",
    "## 2. if-else statement:\n",
    "\n",
    "- Write a program that takes a float as input and prints \"Positive\" if the number is positive, \"Negative\" if it's negative, or \"Zero\" if it's zero, using an if-else statement.\n",
    "\n",
    "\n",
    "## 3. if-elif-else statement:\n",
    "\n",
    "- Write a program that takes an integer as input representing a person's age and prints \"Child\" if the age is less than 13, \"Teenager\" if the age is between 13 and 19, and \"Adult\" if the age is 20 or older, using an if-elif-else statement.\n",
    "\n",
    "\n",
    "## 4. for loop:\n",
    "\n",
    "- Write a program that prints the square of each number from 1 to 10 using a for loop.\n",
    "\n",
    "\n",
    "## 5. while loop:\n",
    "\n",
    "- Write a program that takes an integer n as input and prints the Fibonacci sequence up to the nth term using a while loop.\n",
    "\n",
    "\n",
    "## 6. break statement:\n",
    "\n",
    "- Write a program that takes a string as input and searches for the first occurrence of the letter 'a'. If found, print the index of the first occurrence and exit the loop using a break statement.\n",
    "\n",
    "\n",
    "## 7. continue statement:\n",
    "\n",
    "- Write a program that takes a list of integers as input and prints only the odd numbers using a loop and a continue statement."
   ]
  },
  {
   "cell_type": "code",
   "execution_count": null,
   "id": "4d61cb17",
   "metadata": {},
   "outputs": [],
   "source": []
  },
  {
   "cell_type": "markdown",
   "id": "e2123721",
   "metadata": {},
   "source": [
    "# 1. if statement:\n",
    "Write a program that takes an integer as input and prints \"Even\" if the number is even, using an if statement."
   ]
  },
  {
   "cell_type": "code",
   "execution_count": null,
   "id": "6d47f95e",
   "metadata": {},
   "outputs": [],
   "source": []
  },
  {
   "cell_type": "code",
   "execution_count": null,
   "id": "b6d2a8fb",
   "metadata": {},
   "outputs": [],
   "source": []
  }
 ],
 "metadata": {
  "kernelspec": {
   "display_name": "Python 3 (ipykernel)",
   "language": "python",
   "name": "python3"
  },
  "language_info": {
   "codemirror_mode": {
    "name": "ipython",
    "version": 3
   },
   "file_extension": ".py",
   "mimetype": "text/x-python",
   "name": "python",
   "nbconvert_exporter": "python",
   "pygments_lexer": "ipython3",
   "version": "3.11.3"
  }
 },
 "nbformat": 4,
 "nbformat_minor": 5
}
