{
  "cells": [
    {
      "cell_type": "markdown",
      "metadata": {
        "id": "view-in-github",
        "colab_type": "text"
      },
      "source": [
        "<a href=\"https://colab.research.google.com/github/byambaa1982/python_cources_for_beginers/blob/main/3_control%20flow/study_guide_3.ipynb\" target=\"_parent\"><img src=\"https://colab.research.google.com/assets/colab-badge.svg\" alt=\"Open In Colab\"/></a>"
      ]
    },
    {
      "cell_type": "markdown",
      "metadata": {
        "id": "5B-Z_zdEEyTr"
      },
      "source": [
        "# 3. Control Flow\n",
        "\n",
        "At the most basic level, \"control flow\" refers to the order in which the statements, instructions, or function calls of a program are executed or evaluated. In Python and most other programming languages, control flow is a fundamental concept that allows a program to be more than just a simple, linear sequence of commands.\n",
        "\n",
        "Here are the main types of control flow mechanisms in Python:\n",
        "\n",
        "1. `Sequential`: This is the most basic and common type. The computer executes Python commands one after the other in the order they're given.\n",
        "\n",
        "Example:\n",
        "\n",
        "```python \n",
        "print(\"Hello,\")\n",
        "print(\"world!\")\n",
        "```\n",
        "\n",
        "2. `Conditional statements (if, elif, else)`: These are used when you want some blocks of code to only run when certain conditions are met.\n",
        "\n",
        "Example:\n",
        "\n",
        "```python\n",
        "x = 10\n",
        "if x > 0:\n",
        "    print(\"x is positive\")\n",
        "elif x < 0:\n",
        "    print(\"x is negative\")\n",
        "else:\n",
        "    print(\"x is zero\")\n",
        "```\n",
        "\n",
        "3. `Loops (for, while)`: Loops are used when you want to repeat a block of code multiple times.\n",
        "\n",
        "Example of a for loop:\n",
        "\n",
        "```python\n",
        "for i in range(5):\n",
        "    print(i)\n",
        "\n",
        "```\n",
        "Example of a while loop:\n",
        "\n",
        "```python\n",
        "i = 0\n",
        "while i < 5:\n",
        "    print(i)\n",
        "    i += 1\n",
        "```\n",
        "\n",
        "4. `Flow control statements (break, continue, pass, return)`: These are used to influence the flow of execution inside loops and functions.\n",
        "\n",
        "Example with break and continue:\n",
        "```python\n",
        "for i in range(5):\n",
        "    if i == 2:\n",
        "        continue  # this skips the rest of the loop for this iteration\n",
        "    if i == 4:\n",
        "        break  # this stops the loop entirely\n",
        "    print(i)\n",
        "```\n"
      ]
    },
    {
      "cell_type": "code",
      "execution_count": null,
      "metadata": {
        "colab": {
          "base_uri": "https://localhost:8080/"
        },
        "id": "YfLjF-0BD_RB",
        "outputId": "9d46ac5a-ba7d-4f34-ad05-fac030b5ed04"
      },
      "outputs": [
        {
          "name": "stdout",
          "output_type": "stream",
          "text": [
            "1 is odd.\n",
            "2 is even.\n",
            "3 is odd.\n",
            "4 is even.\n",
            "5 is odd.\n"
          ]
        }
      ],
      "source": [
        "for number in range(1, 6):\n",
        "    if number % 2 == 0:\n",
        "        print(f\"{number} is even.\")\n",
        "    else:\n",
        "        print(f\"{number} is odd.\")"
      ]
    },
    {
      "cell_type": "markdown",
      "metadata": {
        "id": "rZtrGC7yEElL"
      },
      "source": [
        "## Practices and [Solution Code](https://github.com/byambaa1982/python_cources_for_beginers/blob/main/3_control%20flow/solution_code_3.ipynb)\n",
        "\n",
        "1. Write a Python program that iterates through the numbers from 1 to 10 and prints whether each number is a multiple of 3 or not. \n",
        "\n",
        "Instructions:\n",
        "\n",
        "1. Use a for loop to iterate through the numbers from 1 to 10.\n",
        "2. Inside the loop, use an if statement to check if the current number is a multiple of 3.\n",
        "3. f the number is a multiple of 3, print a message stating that the number is a multiple of 3.\n",
        "4. If the number is not a multiple of 3, print a message stating that the number is not a multiple of 3.\n",
        "\n",
        "Example output:\n",
        "\n",
        "```python\n",
        "1 is not a multiple of 3.\n",
        "2 is not a multiple of 3.\n",
        "3 is a multiple of 3.\n",
        "4 is not a multiple of 3.\n",
        "5 is not a multiple of 3.\n",
        "6 is a multiple of 3.\n",
        "7 is not a multiple of 3.\n",
        "8 is not a multiple of 3.\n",
        "9 is a multiple of 3.\n",
        "10 is not a multiple of 3.\n",
        "```\n",
        "\n",
        "```{tip}\n",
        "- Use the range() function to generate a sequence of numbers from 1 to 10.\n",
        "- Use the modulo operator % to check if a number is a multiple of another number. If the remainder of the division is 0, the number is a multiple of the other number.\n",
        "- Use f-strings or string concatenation to format the output message.\n",
        "```"
      ]
    },
    {
      "cell_type": "markdown",
      "metadata": {
        "id": "PSuJmSHGFDf1"
      },
      "source": [
        "## Practices and [Solution Code]()\n",
        "2. Write a Python program that iterates through the numbers from 1 to 15 and prints whether each number is divisible by 4 or not.\n",
        "\n",
        "### Instructions:\n",
        "\n",
        "1. Use a for loop to iterate through the numbers from 1 to 15.\n",
        "2. Inside the loop, use an if statement to check if the current number is divisible by 4.\n",
        "3. If the number is divisible by 4, print a message stating that the number is divisible by 4.\n",
        "4. If the number is not divisible by 4, print a message stating that the number is not divisible by 4.\n",
        "\n",
        "### Example output:\n",
        "\n",
        "``` python\n",
        "1 is not divisible by 4.\n",
        "2 is not divisible by 4.\n",
        "3 is not divisible by 4.\n",
        "4 is divisible by 4.\n",
        "5 is not divisible by 4.\n",
        "6 is not divisible by 4.\n",
        "7 is not divisible by 4.\n",
        "8 is divisible by 4.\n",
        "9 is not divisible by 4.\n",
        "10 is not divisible by 4.\n",
        "11 is not divisible by 4.\n",
        "12 is divisible by 4.\n",
        "13 is not divisible by 4.\n",
        "14 is not divisible by 4.\n",
        "15 is not divisible by 4.\n",
        "```\n",
        "\n",
        "- Use the range() function to generate a sequence of numbers from 1 to 15.\n",
        "- Use the modulo operator % to check if a number is divisible by another number. If the remainder of the division is 0, the number is divisible by the other number.\n",
        "- Use f-strings or string concatenation to format the output message."
      ]
    },
    {
      "cell_type": "code",
      "execution_count": null,
      "metadata": {
        "id": "ou3esptnHi9k"
      },
      "outputs": [],
      "source": [
        "# Start your code here..."
      ]
    },
    {
      "cell_type": "markdown",
      "metadata": {
        "id": "iu2nUnD-KKnn"
      },
      "source": [
        "## `in` statement\n",
        "\n",
        "In Python, the `in` keyword is part of the control flow tools, especially when combined with if statements or loops. It's commonly used for checking if an item exists in a collection like a list or a dictionary, or if a substring exists in a string.\n",
        "\n",
        "Here's how it works:\n",
        "\n",
        "1. `Checking for membership in a collection`:\n",
        "\n",
        "In this case, it can be used with the `if` keyword to check if a specific value exists in a collection (like a list, tuple, or dictionary).\n",
        "\n",
        "Example:\n",
        "\n",
        "```python\n",
        "numbers = [1, 2, 3, 4, 5]\n",
        "if 3 in numbers:\n",
        "    print(\"3 is in the list!\")\n",
        "```\n",
        "\n",
        "If you run this code with the same list as before, it will print each number on a separate line.\n",
        "\n",
        "2. `Iterating over a collection with a for loop`:\n",
        "\n",
        "The in keyword can also be used in a for loop to iterate over each item in a collection.\n",
        "\n",
        "Example:\n",
        "\n",
        "```python\n",
        "for number in numbers:\n",
        "    print(number)\n",
        "```\n",
        "\n",
        "3. `Checking for a substring within a string`:\n",
        "\n",
        "The in keyword can be used to check if a certain sequence of characters (substring) is part of a larger string.\n",
        "\n",
        "Example:\n",
        "\n",
        "```python\n",
        "sentence = \"Hello, world!\"\n",
        "if \"world\" in sentence:\n",
        "    print(\"The word 'world' is in the sentence.\")\n",
        "```\n",
        "If you run this code, it will print \"The word 'world' is in the sentence.\" because \"world\" is indeed a substring of \"Hello, world!\".\n",
        "\n",
        "Overall, the in keyword is a very useful tool for controlling the flow of your Python programs, especially when you need to work with collections of items or strings."
      ]
    },
    {
      "cell_type": "code",
      "execution_count": null,
      "metadata": {
        "colab": {
          "base_uri": "https://localhost:8080/"
        },
        "id": "sdllqBX3Hlbf",
        "outputId": "9872dd4e-6330-4c35-b5a1-3a20d10b184e"
      },
      "outputs": [
        {
          "name": "stdout",
          "output_type": "stream",
          "text": [
            "Banana is in the list of fruits.\n",
            "Mango is not in the list of fruits.\n"
          ]
        }
      ],
      "source": [
        "fruits = [\"apple\", \"banana\", \"orange\", \"grape\", \"kiwi\"]\n",
        "\n",
        "# Check if \"banana\" exists in the list\n",
        "if \"banana\" in fruits:\n",
        "    print(\"Banana is in the list of fruits.\")\n",
        "\n",
        "# Check if \"mango\" exists in the list\n",
        "if \"mango\" not in fruits:\n",
        "    print(\"Mango is not in the list of fruits.\")"
      ]
    },
    {
      "cell_type": "markdown",
      "metadata": {
        "id": "qox7Ah3OIwLJ"
      },
      "source": [
        "## Practices and [Solution Code](https://github.com/byambaa1982/python_cources_for_beginers/blob/main/3_control%20flow/solution_code_3.ipynb)\n",
        "\n",
        "3. Write a Python program that iterates through a list of animals and prints whether each animal is a mammal or not.\n",
        "\n",
        "### Instructions:\n",
        "\n",
        "1. Create a list of animals including mammals and non-mammals.\n",
        "2. Use a for loop to iterate through the list of animals.\n",
        "3. Inside the loop, use an if statement to check if the current animal is a mammal.\n",
        "4. If the animal is a mammal, print a message stating that the animal is a mammal.\n",
        "5. If the animal is not a mammal, print a message stating that the animal is not a mammal.\n",
        "\n",
        "### Example list of animals:\n",
        "\n",
        "``` python\n",
        "animals = [\"dog\", \"cat\", \"crocodile\", \"parrot\", \"elephant\"]\n",
        "```\n",
        "\n",
        "### Example output:\n",
        "\n",
        "``` python\n",
        "dog is a mammal.\n",
        "cat is a mammal.\n",
        "crocodile is not a mammal.\n",
        "parrot is not a mammal.\n",
        "elephant is a mammal.\n",
        "```\n",
        "\n",
        "```{tip}\n",
        "\n",
        "- Create a list of mammals that you can use to check if an animal is a mammal or not.\n",
        "- Use the in keyword to check if an item exists in a list.\n",
        "- Use f-strings or string concatenation to format the output message.\n",
        "\n",
        "```"
      ]
    },
    {
      "cell_type": "code",
      "execution_count": null,
      "metadata": {
        "id": "VbunkY0ZK7B8"
      },
      "outputs": [],
      "source": [
        "# Start you code here ...."
      ]
    },
    {
      "cell_type": "markdown",
      "metadata": {
        "id": "GzGtf1XSK8tE"
      },
      "source": [
        "## Practices and [Solution Code](https://github.com/byambaa1982/python_cources_for_beginers/blob/main/3_control%20flow/solution_code_3.ipynb) \n",
        "\n",
        "4. Write a Python program that iterates through a list of cities and prints whether each city is a capital city or not.\n",
        "\n",
        "### Instructions:\n",
        "\n",
        "1. Create a list of cities including capital and non-capital cities.\n",
        "Use a for loop to iterate through the list of cities.\n",
        "2. Inside the loop, use an if statement to check if the current city is a capital city.\n",
        "3. If the city is a capital city, print a message stating that the city is a capital city.\n",
        "3. If the city is not a capital city, print a message stating that the city is not a capital city.\n",
        "### Example list of cities:\n",
        "\n",
        "```python \n",
        "cities = [\"Paris\", \"Tokyo\", \"New York\", \"Berlin\", \"Madrid\", \"London\", \"Sydney\"]\n",
        "\n",
        "```\n",
        "### Example output:\n",
        "\n",
        "```python\n",
        "Paris is a capital city.\n",
        "Tokyo is a capital city.\n",
        "New York is not a capital city.\n",
        "Berlin is a capital city.\n",
        "Madrid is a capital city.\n",
        "London is a capital city.\n",
        "Sydney is not a capital city.\n",
        "```"
      ]
    },
    {
      "cell_type": "code",
      "execution_count": null,
      "metadata": {
        "id": "u5Cp0c2QJSe_"
      },
      "outputs": [],
      "source": [
        "# start you code here ..."
      ]
    },
    {
      "cell_type": "markdown",
      "metadata": {
        "id": "u4ykwgE6MAA6"
      },
      "source": [
        "## Practices and [Solution Code](https://github.com/byambaa1982/python_cources_for_beginers/blob/main/3_control%20flow/solution_code_3.ipynb)\n",
        "\n",
        "5. Write a Python program that iterates through a list of cars and prints whether each car is a electric or not\n",
        "\n",
        "```python\n",
        "Tesla Model 3 is an electric vehicle.\n",
        "Nissan Leaf is an electric vehicle.\n",
        "Toyota Corolla is not an electric vehicle.\n",
        "Ford Mustang is not an electric vehicle.\n",
        "Chevrolet Bolt is an electric vehicle.\n",
        "BMW i3 is an electric vehicle.\n",
        "```"
      ]
    },
    {
      "cell_type": "markdown",
      "metadata": {
        "id": "UoQ2fvEHOp6f"
      },
      "source": [
        "## Concept of len() and enumerate()"
      ]
    },
    {
      "cell_type": "code",
      "execution_count": null,
      "metadata": {
        "colab": {
          "base_uri": "https://localhost:8080/"
        },
        "id": "zhorHYfpPRYg",
        "outputId": "1790ca02-b60b-438e-fba0-a67436bd045c"
      },
      "outputs": [
        {
          "name": "stdout",
          "output_type": "stream",
          "text": [
            "Total number of fruits: 5\n"
          ]
        }
      ],
      "source": [
        "# Create a list of fruits\n",
        "fruits = [\"apple\", \"banana\", \"orange\", \"grape\", \"kiwi\"]\n",
        "\n",
        "# Print the length of the list using len()b\n",
        "print(f\"Total number of fruits: {len(fruits)}\")"
      ]
    },
    {
      "cell_type": "code",
      "execution_count": null,
      "metadata": {
        "colab": {
          "base_uri": "https://localhost:8080/"
        },
        "id": "uaIi1HGvPVPL",
        "outputId": "adae9edf-36e8-413d-fed2-5ea525d961f6"
      },
      "outputs": [
        {
          "name": "stdout",
          "output_type": "stream",
          "text": [
            "1. apple\n",
            "2. banana\n",
            "3. orange\n",
            "4. grape\n",
            "5. kiwi\n"
          ]
        }
      ],
      "source": [
        "# Use enumerate() to iterate through the list along with the index\n",
        "for index, fruit in enumerate(fruits):\n",
        "    # The index starts at 0, so we add 1 to get the correct position\n",
        "    print(f\"{index + 1}. {fruit}\")"
      ]
    },
    {
      "cell_type": "code",
      "execution_count": null,
      "metadata": {
        "colab": {
          "base_uri": "https://localhost:8080/"
        },
        "id": "vKr4jV5rOvsy",
        "outputId": "9ec9565e-f0e3-48e6-b5e6-e88145137987"
      },
      "outputs": [
        {
          "name": "stdout",
          "output_type": "stream",
          "text": [
            "The first fruit in the list is: apple\n",
            "The last fruit in the list is: kiwi\n"
          ]
        }
      ],
      "source": [
        "# Access an item from the list using its index\n",
        "print(\"The first fruit in the list is:\", fruits[0])\n",
        "print(\"The last fruit in the list is:\", fruits[-1])"
      ]
    },
    {
      "cell_type": "markdown",
      "metadata": {
        "id": "2vVgnrqyMT2w"
      },
      "source": [
        " ## Practices and [Solution Code](https://github.com/byambaa1982/python_cources_for_beginers/blob/main/3_control%20flow/solution_code_3.ipynb)\n",
        " \n",
        " 6. Write a Python program that iterates through a list of programming languages and prints whether each language is a compiled or interpreted language, along with its position in the list.\n",
        "\n",
        "### Instructions:\n",
        "\n",
        "1. Create a list of programming languages including both compiled and interpreted languages.\n",
        "2. Use a for loop with the enumerate() function to iterate through the list of programming languages along with their index.\n",
        "3. Inside the loop, use an if statement to check if the current language is a compiled language.\n",
        "4. If the language is a compiled language, print a message stating that the language is a compiled language and its position in the list.\n",
        "5. If the language is not a compiled language, print a message stating that the language is an interpreted language and its position in the list.\n",
        "6. Use the len() function to print the total number of programming languages in the list.\n",
        "### Example list of programming languages:\n",
        "\n",
        "```python\n",
        "languages = [\"C\", \"Java\", \"Python\", \"Ruby\", \"C#\", \"JavaScript\", \"Swift\"]\n",
        "```\n",
        "\n",
        "### Example output:\n",
        "\n",
        "```python\n",
        "1. C is a compiled language.\n",
        "2. Java is a compiled language.\n",
        "3. Python is an interpreted language.\n",
        "4. Ruby is an interpreted language.\n",
        "5. C# is a compiled language.\n",
        "6. JavaScript is an interpreted language.\n",
        "7. Swift is a compiled language.\n",
        "Total number of programming languages: 7\n",
        "```"
      ]
    },
    {
      "cell_type": "code",
      "execution_count": null,
      "metadata": {
        "id": "PJZo6LfGNpmn"
      },
      "outputs": [],
      "source": [
        "# Start you code here"
      ]
    },
    {
      "cell_type": "code",
      "execution_count": null,
      "metadata": {
        "id": "Kr6V-QL0N0bi"
      },
      "outputs": [],
      "source": []
    }
  ],
  "metadata": {
    "colab": {
      "provenance": [],
      "include_colab_link": true
    },
    "kernelspec": {
      "display_name": "Python 3",
      "name": "python3"
    },
    "language_info": {
      "name": "python"
    }
  },
  "nbformat": 4,
  "nbformat_minor": 0
}