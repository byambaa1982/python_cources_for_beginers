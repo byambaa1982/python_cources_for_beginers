{
  "nbformat": 4,
  "nbformat_minor": 0,
  "metadata": {
    "colab": {
      "provenance": [],
      "include_colab_link": true
    },
    "kernelspec": {
      "name": "python3",
      "display_name": "Python 3"
    },
    "language_info": {
      "name": "python"
    }
  },
  "cells": [
    {
      "cell_type": "markdown",
      "metadata": {
        "id": "view-in-github",
        "colab_type": "text"
      },
      "source": [
        "<a href=\"https://colab.research.google.com/github/byambaa1982/python_cources_for_beginers/blob/class_zero_burentugs/3_control_flow/Homework2.ipynb\" target=\"_parent\"><img src=\"https://colab.research.google.com/assets/colab-badge.svg\" alt=\"Open In Colab\"/></a>"
      ]
    },
    {
      "cell_type": "code",
      "execution_count": null,
      "metadata": {
        "colab": {
          "base_uri": "https://localhost:8080/"
        },
        "id": "bBcbfyQEqqlm",
        "outputId": "59df68e4-7ad4-487e-88f4-4012d91bbcef"
      },
      "outputs": [
        {
          "output_type": "execute_result",
          "data": {
            "text/plain": [
              "['\\nTo',\n",
              " 'provide',\n",
              " 'users',\n",
              " 'with',\n",
              " 'the',\n",
              " 'most',\n",
              " 'complete',\n",
              " 'and',\n",
              " 'up-to-date',\n",
              " 'information',\n",
              " 'about',\n",
              " 'businesses,',\n",
              " 'Google',\n",
              " 'displays',\n",
              " 'merchant',\n",
              " 'profiles',\n",
              " 'on',\n",
              " 'Google',\n",
              " 'Search.\\n\\nInformation',\n",
              " 'in',\n",
              " 'merchant',\n",
              " 'profiles',\n",
              " 'is',\n",
              " 'compiled',\n",
              " 'from',\n",
              " 'a',\n",
              " 'variety',\n",
              " 'of',\n",
              " 'sources:\\n\\nGoogle',\n",
              " 'Merchant',\n",
              " 'Center,',\n",
              " 'such',\n",
              " 'as',\n",
              " 'promotions',\n",
              " 'added',\n",
              " 'by',\n",
              " 'the',\n",
              " 'business.',\n",
              " 'Learn',\n",
              " 'more',\n",
              " 'About',\n",
              " 'promotions',\n",
              " 'on',\n",
              " 'Merchant',\n",
              " 'Center.\\nPublicly',\n",
              " 'available',\n",
              " 'information,',\n",
              " 'such',\n",
              " 'as',\n",
              " 'crawled',\n",
              " 'web',\n",
              " 'content',\n",
              " '(for',\n",
              " 'example,',\n",
              " 'information',\n",
              " 'from',\n",
              " 'a',\n",
              " 'business’',\n",
              " 'official',\n",
              " 'website,',\n",
              " 'content',\n",
              " 'summarized',\n",
              " 'from',\n",
              " 'merchant',\n",
              " 'websites)\\nLicensed',\n",
              " 'data',\n",
              " 'from',\n",
              " 'third',\n",
              " 'parties\\nUsers',\n",
              " 'who',\n",
              " 'contribute',\n",
              " 'factual',\n",
              " 'information\\nAs',\n",
              " 'a',\n",
              " 'user,',\n",
              " 'you',\n",
              " 'can',\n",
              " 'provide',\n",
              " 'feedback',\n",
              " 'on',\n",
              " 'the',\n",
              " 'knowledge',\n",
              " 'panel.',\n",
              " 'If',\n",
              " 'you',\n",
              " 'believe',\n",
              " 'that',\n",
              " 'a',\n",
              " 'merchant',\n",
              " 'profile',\n",
              " 'is',\n",
              " 'inaccurate',\n",
              " 'or',\n",
              " 'should',\n",
              " 'be',\n",
              " 'removed,',\n",
              " 'you',\n",
              " 'can',\n",
              " 'suggest',\n",
              " 'an',\n",
              " 'edit',\n",
              " 'or',\n",
              " 'flag',\n",
              " 'it',\n",
              " 'for',\n",
              " 'removal.\\n']"
            ]
          },
          "metadata": {},
          "execution_count": 1
        }
      ],
      "source": [
        "my_text = '''\n",
        "To provide users with the most complete and up-to-date information about businesses, Google displays merchant profiles on Google Search.\n",
        "\n",
        "Information in merchant profiles is compiled from a variety of sources:\n",
        "\n",
        "Google Merchant Center, such as promotions added by the business. Learn more About promotions on Merchant Center.\n",
        "Publicly available information, such as crawled web content (for example, information from a business’ official website, content summarized from merchant websites)\n",
        "Licensed data from third parties\n",
        "Users who contribute factual information\n",
        "As a user, you can provide feedback on the knowledge panel. If you believe that a merchant profile is inaccurate or should be removed, you can suggest an edit or flag it for removal.\n",
        "'''\n",
        "\n",
        "my_list = my_text.split(\" \")"
      ]
    },
    {
      "cell_type": "markdown",
      "source": [
        "# Homework Assignment 1: Splitting Text into Words\n",
        "\n",
        "## Task 1:\n",
        "Create a string variable named sentence with the value \"Python is fun and easy to learn\".\n",
        "Use the split() method to split the sentence into words.\n",
        "1. Print the list of words.\n",
        "2. Print the number of words in the sentence."
      ],
      "metadata": {
        "id": "CW_E2-035NOc"
      }
    },
    {
      "cell_type": "code",
      "source": [
        "text = '''\n",
        "Donald Trump's 11 July sentencing in his hush money case may be delayed after his lawyers asked the judge to set aside his conviction in the wake of Supreme Court's immunity ruling.\n",
        "In a letter to Justice Juan Merchan, Manhattan prosecutors said that while they believed Trump's motion to overturn his conviction to be \"without merit\", they did not object to his request to delay the sentencing.\n",
        "The Supreme Court on Monday ruled that presidents have broad immunity from criminal prosecution for \"official actions\" they take while in office.\n",
        "In May, Trump's conviction on 34 counts of falsifying business records was based in part on evidence of meetings and communications that occurred while he was president.\n",
        "A letter sent by Trump's lawyers to the judge cites Monday's ruling that granted the former president immunity from prosecution for \"official actions\" he took while in office.\n",
        "Manhattan prosecutors have asked that the judge respond to Trump's motion by 24 July.\n",
        "Judge Merchan must now rule on whether to formally adjourn the sentencing.\n",
        "'''"
      ],
      "metadata": {
        "id": "MylTJ1WIrDgz"
      },
      "execution_count": 22,
      "outputs": []
    },
    {
      "cell_type": "code",
      "source": [
        "my_list = text.split(\" \")\n",
        "len(my_list)"
      ],
      "metadata": {
        "colab": {
          "base_uri": "https://localhost:8080/"
        },
        "id": "CjyOHWVnfHkb",
        "outputId": "5e18d2d1-64d3-491c-e77b-ae8fbd7544d3"
      },
      "execution_count": 29,
      "outputs": [
        {
          "output_type": "execute_result",
          "data": {
            "text/plain": [
              "164"
            ]
          },
          "metadata": {},
          "execution_count": 29
        }
      ]
    },
    {
      "cell_type": "markdown",
      "source": [
        "##  Task 2:\n",
        "1. Copy a paragraph from a news article and store it in a variable named news_paragraph.\n",
        "2. Use the count() method to count how many times a specific word (e.g., \"the\") appears in the paragraph.\n",
        "3. Print the number of times the word appears.\n",
        "5. Use the count() method to count how many times another specific word (e.g., \"sentence\") appears in the paragraph.\n",
        "Print the number of times the word appears.\n",
        "\n",
        "like:\n",
        "```python\n",
        "Number of times 'the' appears: 4\n",
        "Number of times 'sentence' appears: 2\n",
        "\n",
        "```"
      ],
      "metadata": {
        "id": "vgOEimtI8d98"
      }
    },
    {
      "cell_type": "code",
      "source": [
        "news_paragraph = '''\n",
        "Donald Trump's 11 July sentencing in his hush money case may be delayed after his lawyers asked the judge to set aside his conviction in the wake of Supreme Court's immunity ruling.\n",
        "In a letter to Justice Juan Merchan, Manhattan prosecutors said that while they believed Trump's motion to overturn his conviction to be \"without merit\", they did not object to his request to delay the sentencing.\n",
        "The Supreme Court on Monday ruled that presidents have broad immunity from criminal prosecution for \"official actions\" they take while in office.\n",
        "In May, Trump's conviction on 34 counts of falsifying business records was based in part on evidence of meetings and communications that occurred while he was president.\n",
        "A letter sent by Trump's lawyers to the judge cites Monday's ruling that granted the former president immunity from prosecution for \"official actions\" he took while in office.\n",
        "Manhattan prosecutors have asked that the judge respond to Trump's motion by 24 July.\n",
        "Judge Merchan must now rule on whether to formally adjourn the sentencing.\n",
        "'''"
      ],
      "metadata": {
        "id": "24x7nKtt8ggC"
      },
      "execution_count": 10,
      "outputs": []
    },
    {
      "cell_type": "code",
      "source": [
        "news_paragraph.count(\"the\")"
      ],
      "metadata": {
        "colab": {
          "base_uri": "https://localhost:8080/"
        },
        "id": "yQ4yroQicIZ0",
        "outputId": "7f2164b5-f023-4cc3-95df-9b9c37ec73ab"
      },
      "execution_count": 7,
      "outputs": [
        {
          "output_type": "execute_result",
          "data": {
            "text/plain": [
              "11"
            ]
          },
          "metadata": {},
          "execution_count": 7
        }
      ]
    },
    {
      "cell_type": "code",
      "source": [
        "news_paragraph.count(\"Trump\")"
      ],
      "metadata": {
        "colab": {
          "base_uri": "https://localhost:8080/"
        },
        "id": "i_Tjz-USdeGY",
        "outputId": "a03fb2dd-fefd-47af-f75a-c982061880fd"
      },
      "execution_count": 13,
      "outputs": [
        {
          "output_type": "execute_result",
          "data": {
            "text/plain": [
              "5"
            ]
          },
          "metadata": {},
          "execution_count": 13
        }
      ]
    },
    {
      "cell_type": "markdown",
      "source": [
        "\n",
        "## Task 3\n",
        "1. Copy a paragraph from a news article and store it in a variable named news_article.\n",
        "2. Use the replace() method to change a specific word (e.g., replace \"fox\" with \"cat\").\n",
        "3. Print the modified article.\n",
        "4. Use the replace() method to change another specific word (e.g., replace \"dog\" with \"rabbit\").\n",
        "5. Print the final modified article."
      ],
      "metadata": {
        "id": "NiFUwyoZ84g0"
      }
    },
    {
      "cell_type": "code",
      "source": [
        "news_paragraph.replace(\"the\", \"Elephant\")"
      ],
      "metadata": {
        "id": "CTC2w3MG9Ej1",
        "colab": {
          "base_uri": "https://localhost:8080/",
          "height": 127
        },
        "outputId": "ed0ad552-fb96-4ae7-f11c-481c0df57d94"
      },
      "execution_count": 12,
      "outputs": [
        {
          "output_type": "execute_result",
          "data": {
            "text/plain": [
              "'\\nDonald Trump\\'s 11 July sentencing in his hush money case may be delayed after his lawyers asked Elephant judge to set aside his conviction in Elephant wake of Supreme Court\\'s immunity ruling.\\nIn a letter to Justice Juan Merchan, Manhattan prosecutors said that while Elephanty believed Trump\\'s motion to overturn his conviction to be \"without merit\", Elephanty did not object to his request to delay Elephant sentencing.\\nThe Supreme Court on Monday ruled that presidents have broad immunity from criminal prosecution for \"official actions\" Elephanty take while in office.\\nIn May, Trump\\'s conviction on 34 counts of falsifying business records was based in part on evidence of meetings and communications that occurred while he was president.\\nA letter sent by Trump\\'s lawyers to Elephant judge cites Monday\\'s ruling that granted Elephant former president immunity from prosecution for \"official actions\" he took while in office.\\nManhattan prosecutors have asked that Elephant judge respond to Trump\\'s motion by 24 July.\\nJudge Merchan must now rule on wheElephantr to formally adjourn Elephant sentencing.\\n'"
            ],
            "application/vnd.google.colaboratory.intrinsic+json": {
              "type": "string"
            }
          },
          "metadata": {},
          "execution_count": 12
        }
      ]
    },
    {
      "cell_type": "code",
      "source": [
        "news_paragraph.replace(\"Trump\", \"Michael Jordan\")"
      ],
      "metadata": {
        "colab": {
          "base_uri": "https://localhost:8080/",
          "height": 127
        },
        "id": "8ryURrmReFzc",
        "outputId": "278aa93d-dcba-44b2-954e-073053542d61"
      },
      "execution_count": 14,
      "outputs": [
        {
          "output_type": "execute_result",
          "data": {
            "text/plain": [
              "'\\nDonald Michael Jordan\\'s 11 July sentencing in his hush money case may be delayed after his lawyers asked the judge to set aside his conviction in the wake of Supreme Court\\'s immunity ruling.\\nIn a letter to Justice Juan Merchan, Manhattan prosecutors said that while they believed Michael Jordan\\'s motion to overturn his conviction to be \"without merit\", they did not object to his request to delay the sentencing.\\nThe Supreme Court on Monday ruled that presidents have broad immunity from criminal prosecution for \"official actions\" they take while in office.\\nIn May, Michael Jordan\\'s conviction on 34 counts of falsifying business records was based in part on evidence of meetings and communications that occurred while he was president.\\nA letter sent by Michael Jordan\\'s lawyers to the judge cites Monday\\'s ruling that granted the former president immunity from prosecution for \"official actions\" he took while in office.\\nManhattan prosecutors have asked that the judge respond to Michael Jordan\\'s motion by 24 July.\\nJudge Merchan must now rule on whether to formally adjourn the sentencing.\\n'"
            ],
            "application/vnd.google.colaboratory.intrinsic+json": {
              "type": "string"
            }
          },
          "metadata": {},
          "execution_count": 14
        }
      ]
    }
  ]
}