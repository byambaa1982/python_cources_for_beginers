{
  "nbformat": 4,
  "nbformat_minor": 0,
  "metadata": {
    "colab": {
      "provenance": [],
      "include_colab_link": true
    },
    "kernelspec": {
      "name": "python3",
      "display_name": "Python 3"
    },
    "language_info": {
      "name": "python"
    }
  },
  "cells": [
    {
      "cell_type": "markdown",
      "metadata": {
        "id": "view-in-github",
        "colab_type": "text"
      },
      "source": [
        "<a href=\"https://colab.research.google.com/github/byambaa1982/python_cources_for_beginers/blob/class_zero_urangoo/3_control_flow/Homework2.ipynb\" target=\"_parent\"><img src=\"https://colab.research.google.com/assets/colab-badge.svg\" alt=\"Open In Colab\"/></a>"
      ]
    },
    {
      "cell_type": "code",
      "execution_count": null,
      "metadata": {
        "colab": {
          "base_uri": "https://localhost:8080/"
        },
        "id": "bBcbfyQEqqlm",
        "outputId": "59df68e4-7ad4-487e-88f4-4012d91bbcef"
      },
      "outputs": [
        {
          "output_type": "execute_result",
          "data": {
            "text/plain": [
              "['\\nTo',\n",
              " 'provide',\n",
              " 'users',\n",
              " 'with',\n",
              " 'the',\n",
              " 'most',\n",
              " 'complete',\n",
              " 'and',\n",
              " 'up-to-date',\n",
              " 'information',\n",
              " 'about',\n",
              " 'businesses,',\n",
              " 'Google',\n",
              " 'displays',\n",
              " 'merchant',\n",
              " 'profiles',\n",
              " 'on',\n",
              " 'Google',\n",
              " 'Search.\\n\\nInformation',\n",
              " 'in',\n",
              " 'merchant',\n",
              " 'profiles',\n",
              " 'is',\n",
              " 'compiled',\n",
              " 'from',\n",
              " 'a',\n",
              " 'variety',\n",
              " 'of',\n",
              " 'sources:\\n\\nGoogle',\n",
              " 'Merchant',\n",
              " 'Center,',\n",
              " 'such',\n",
              " 'as',\n",
              " 'promotions',\n",
              " 'added',\n",
              " 'by',\n",
              " 'the',\n",
              " 'business.',\n",
              " 'Learn',\n",
              " 'more',\n",
              " 'About',\n",
              " 'promotions',\n",
              " 'on',\n",
              " 'Merchant',\n",
              " 'Center.\\nPublicly',\n",
              " 'available',\n",
              " 'information,',\n",
              " 'such',\n",
              " 'as',\n",
              " 'crawled',\n",
              " 'web',\n",
              " 'content',\n",
              " '(for',\n",
              " 'example,',\n",
              " 'information',\n",
              " 'from',\n",
              " 'a',\n",
              " 'business’',\n",
              " 'official',\n",
              " 'website,',\n",
              " 'content',\n",
              " 'summarized',\n",
              " 'from',\n",
              " 'merchant',\n",
              " 'websites)\\nLicensed',\n",
              " 'data',\n",
              " 'from',\n",
              " 'third',\n",
              " 'parties\\nUsers',\n",
              " 'who',\n",
              " 'contribute',\n",
              " 'factual',\n",
              " 'information\\nAs',\n",
              " 'a',\n",
              " 'user,',\n",
              " 'you',\n",
              " 'can',\n",
              " 'provide',\n",
              " 'feedback',\n",
              " 'on',\n",
              " 'the',\n",
              " 'knowledge',\n",
              " 'panel.',\n",
              " 'If',\n",
              " 'you',\n",
              " 'believe',\n",
              " 'that',\n",
              " 'a',\n",
              " 'merchant',\n",
              " 'profile',\n",
              " 'is',\n",
              " 'inaccurate',\n",
              " 'or',\n",
              " 'should',\n",
              " 'be',\n",
              " 'removed,',\n",
              " 'you',\n",
              " 'can',\n",
              " 'suggest',\n",
              " 'an',\n",
              " 'edit',\n",
              " 'or',\n",
              " 'flag',\n",
              " 'it',\n",
              " 'for',\n",
              " 'removal.\\n']"
            ]
          },
          "metadata": {},
          "execution_count": 1
        }
      ],
      "source": [
        "my_text = '''\n",
        "To provide users with the most complete and up-to-date information about businesses, Google displays merchant profiles on Google Search.\n",
        "\n",
        "Information in merchant profiles is compiled from a variety of sources:\n",
        "\n",
        "Google Merchant Center, such as promotions added by the business. Learn more About promotions on Merchant Center.\n",
        "Publicly available information, such as crawled web content (for example, information from a business’ official website, content summarized from merchant websites)\n",
        "Licensed data from third parties\n",
        "Users who contribute factual information\n",
        "As a user, you can provide feedback on the knowledge panel. If you believe that a merchant profile is inaccurate or should be removed, you can suggest an edit or flag it for removal.\n",
        "'''\n",
        "\n",
        "my_list = my_text.split(\" \")"
      ]
    },
    {
      "cell_type": "markdown",
      "source": [
        "# Homework Assignment 1: Splitting Text into Words\n",
        "\n",
        "## Task 1:\n",
        "Create a string variable named sentence with the value \"Python is fun and easy to learn\".\n",
        "Use the split() method to split the sentence into words.\n",
        "1. Print the list of words.\n",
        "2. Print the number of words in the sentence."
      ],
      "metadata": {
        "id": "CW_E2-035NOc"
      }
    },
    {
      "cell_type": "code",
      "source": [
        "text = '''python is fun and easy to learn'''"
      ],
      "metadata": {
        "id": "MylTJ1WIrDgz"
      },
      "execution_count": 4,
      "outputs": []
    },
    {
      "cell_type": "code",
      "source": [
        "my_list = text.split(\" \")\n",
        "print(f\"Total of charaters are {len(text)}\")\n",
        "print(f\"Total of charaters are {len(my_list)}\")"
      ],
      "metadata": {
        "id": "CzUnr8wf8dpA",
        "outputId": "992a4d95-ad9d-47d1-c963-017741c89263",
        "colab": {
          "base_uri": "https://localhost:8080/"
        }
      },
      "execution_count": 5,
      "outputs": [
        {
          "output_type": "stream",
          "name": "stdout",
          "text": [
            "Total of charaters are 31\n",
            "Total of charaters are 7\n"
          ]
        }
      ]
    },
    {
      "cell_type": "markdown",
      "source": [
        "##  Task 2:\n",
        "1. Copy a paragraph from a news article and store it in a variable named news_paragraph.\n",
        "2. Use the count() method to count how many times a specific word (e.g., \"the\") appears in the paragraph.\n",
        "3. Print the number of times the word appears.\n",
        "5. Use the count() method to count how many times another specific word (e.g., \"sentence\") appears in the paragraph.\n",
        "Print the number of times the word appears.\n",
        "\n",
        "like:\n",
        "```python\n",
        "Number of times 'the' appears: 4\n",
        "Number of times 'sentence' appears: 2\n",
        "\n",
        "```"
      ],
      "metadata": {
        "id": "vgOEimtI8d98"
      }
    },
    {
      "cell_type": "code",
      "source": [
        "news_paragraph = '''\n",
        "Trump had been scheduled to face sentencing July 11, just before the Republicans’ nominating convention, on his New York convictions on felony charges of falsifying business records. He denies any wrongdoing.'''\n"
      ],
      "metadata": {
        "id": "24x7nKtt8ggC"
      },
      "execution_count": 30,
      "outputs": []
    },
    {
      "cell_type": "markdown",
      "source": [
        "\n",
        "## Task 3\n",
        "1. Copy a paragraph from a news article and store it in a variable named news_article.\n",
        "2. Use the replace() method to change a specific word (e.g., replace \"fox\" with \"cat\").\n",
        "3. Print the modified article.\n",
        "4. Use the replace() method to change another specific word (e.g., replace \"dog\" with \"rabbit\").\n",
        "5. Print the final modified article."
      ],
      "metadata": {
        "id": "NiFUwyoZ84g0"
      }
    },
    {
      "cell_type": "code",
      "source": [],
      "metadata": {
        "id": "CTC2w3MG9Ej1"
      },
      "execution_count": null,
      "outputs": []
    }
  ]
}