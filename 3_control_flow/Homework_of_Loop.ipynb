{
  "nbformat": 4,
  "nbformat_minor": 0,
  "metadata": {
    "colab": {
      "provenance": [],
      "include_colab_link": true
    },
    "kernelspec": {
      "name": "python3",
      "display_name": "Python 3"
    },
    "language_info": {
      "name": "python"
    }
  },
  "cells": [
    {
      "cell_type": "markdown",
      "metadata": {
        "id": "view-in-github",
        "colab_type": "text"
      },
      "source": [
        "<a href=\"https://colab.research.google.com/github/byambaa1982/python_cources_for_beginers/blob/class_zero_urangoo/3_control_flow/Homework_of_Loop.ipynb\" target=\"_parent\"><img src=\"https://colab.research.google.com/assets/colab-badge.svg\" alt=\"Open In Colab\"/></a>"
      ]
    },
    {
      "cell_type": "code",
      "execution_count": null,
      "metadata": {
        "id": "VY_Of4oQEZyO"
      },
      "outputs": [],
      "source": []
    },
    {
      "cell_type": "markdown",
      "source": [
        "# Task 1:\n",
        "\n",
        "1. Create the List:\n",
        "\n",
        "Create a list named favorite_animals that contains the names of five of your favorite animals.\n",
        "Print the list.\n",
        "2. Use a Loop to Print Each Animal:\n",
        "\n",
        "Use a for loop to print each animal in the list.\n",
        "3. Add Conditions within the Loop:\n",
        "\n",
        "Check if an animal is \"Dog\". If it is, print \"Dogs are very loyal!\" Otherwise, print the animal name normally.\n",
        "Additionally, check if an animal is \"Cat\". If it is, print \"Cats are very independent!\""
      ],
      "metadata": {
        "id": "aueaQf_9EgLd"
      }
    },
    {
      "cell_type": "code",
      "source": [
        "movies = [\"20th century girl\", \"Edward Scissorhands\", \"Corpse Bride\"]"
      ],
      "metadata": {
        "id": "am5BY_OUGcZe"
      },
      "execution_count": 1,
      "outputs": []
    },
    {
      "cell_type": "code",
      "source": [
        "for movie in movies:\n",
        "  print(movie)"
      ],
      "metadata": {
        "colab": {
          "base_uri": "https://localhost:8080/"
        },
        "id": "NSLkJFwe6DKQ",
        "outputId": "31318bd4-6396-44e6-b6f5-51ab2a21a78c"
      },
      "execution_count": 2,
      "outputs": [
        {
          "output_type": "stream",
          "name": "stdout",
          "text": [
            "20th century girl\n",
            "Edward Scissorhands\n",
            "Corpse Bride\n"
          ]
        }
      ]
    },
    {
      "cell_type": "code",
      "source": [
        "for movie in movies:\n",
        "  if movie == \"Corpse Bride\":\n",
        "    print(\"Cropse Bride is a movie made by Tim Burton\")\n",
        "  if movie == \"20th century girl\":\n",
        "    print(\"20th century is a very sad movies\")\n"
      ],
      "metadata": {
        "colab": {
          "base_uri": "https://localhost:8080/"
        },
        "id": "64zwpnYY_GX9",
        "outputId": "2ef1c69b-1730-43ce-face-a4ac5aa9d4c5"
      },
      "execution_count": 3,
      "outputs": [
        {
          "output_type": "stream",
          "name": "stdout",
          "text": [
            "20th century is a very sad movies\n",
            "Cropse Bride is a movie made by Tim Burton\n"
          ]
        }
      ]
    },
    {
      "cell_type": "code",
      "source": [
        "for movie in movies:\n",
        "  if movie == \"Corpse Bride\":\n",
        "    print(f' {movie.title()} a movie made by Tim Burton')\n",
        "  if movie == \"20th century girl\":\n",
        "    print(f' {movie.title()}is a very sad movies')\n",
        "  else:\n",
        "    print(f' {movie.title()} are really good movies')"
      ],
      "metadata": {
        "id": "hoKZc4fzJy7t",
        "outputId": "88383e58-74e3-4787-a3ec-cc033e79f3d3",
        "colab": {
          "base_uri": "https://localhost:8080/"
        }
      },
      "execution_count": 4,
      "outputs": [
        {
          "output_type": "stream",
          "name": "stdout",
          "text": [
            " 20Th Century Girlis a very sad movies\n",
            " Edward Scissorhands are really good movies\n",
            " Corpse Bride a movie made by Tim Burton\n",
            " Corpse Bride are really good movies\n"
          ]
        }
      ]
    },
    {
      "cell_type": "markdown",
      "source": [
        "# Task 2\n",
        "\n",
        "1. Create the List:\n",
        "\n",
        "Create a list named school_supplies that contains the names of five school supplies.\n",
        "Print the list.\n",
        "2. Use a Loop to Print Each Supply:\n",
        "\n",
        "Use a for loop to print each supply in the list.\n",
        "3. Add Conditions within the Loop:\n",
        "\n",
        "Check if a supply is \"Notebook\". If it is, print \"Don't forget to write your notes!\"\n",
        "Check if a supply is \"Pencil\". If it is, print \"Pencils are essential for writing.\"\n",
        "For any other supply, print the supply name normally."
      ],
      "metadata": {
        "id": "V5n7BC3FGm7e"
      }
    },
    {
      "cell_type": "code",
      "source": [
        "school_supplies = [\"pencil\", \"pen\", \"notebook\", \"folder\", \"books\"]"
      ],
      "metadata": {
        "id": "2JJTHVa9Gsq9"
      },
      "execution_count": 5,
      "outputs": []
    },
    {
      "cell_type": "code",
      "source": [
        "for supplies in school_supplies:\n",
        "  print(supplies)"
      ],
      "metadata": {
        "id": "wSGRmoIkG315",
        "colab": {
          "base_uri": "https://localhost:8080/"
        },
        "outputId": "341428ae-2167-490d-a546-fd1cae72bb41"
      },
      "execution_count": 6,
      "outputs": [
        {
          "output_type": "stream",
          "name": "stdout",
          "text": [
            "pencil\n",
            "pen\n",
            "notebook\n",
            "folder\n",
            "books\n"
          ]
        }
      ]
    },
    {
      "cell_type": "code",
      "source": [
        "for supplies in school_supplies:\n",
        "  if supplies == \"pencil\":\n",
        "    print(\"pencils are very useful in class\")\n",
        "  if supplies == \"folder\":\n",
        "      print(\"folders are very useful when storing papers\")\n",
        "  else:\n",
        "      print(supplies)"
      ],
      "metadata": {
        "colab": {
          "base_uri": "https://localhost:8080/"
        },
        "id": "v_gyisDeB0i0",
        "outputId": "3b0baca5-4b93-4487-9b44-a4b0fe515538"
      },
      "execution_count": 7,
      "outputs": [
        {
          "output_type": "stream",
          "name": "stdout",
          "text": [
            "pencils are very useful in class\n",
            "pencil\n",
            "pen\n",
            "notebook\n",
            "folders are very useful when storing papers\n",
            "books\n"
          ]
        }
      ]
    },
    {
      "cell_type": "code",
      "source": [
        "for supplies in school_supplies:\n",
        "  if supplies == \"pencil\":\n",
        "    print(f' {supplies.title()} are very useful in class')\n",
        "  if supplies == \"folder\":\n",
        "      print(f' {supplies.title()} are very useful when storing papers')\n",
        "  else:\n",
        "      print(f' {supplies.title()} are very useful in class')"
      ],
      "metadata": {
        "id": "VRHDWdpUIgtc",
        "outputId": "a30276f9-6aaa-4023-95b4-f288828ccfd0",
        "colab": {
          "base_uri": "https://localhost:8080/"
        }
      },
      "execution_count": 8,
      "outputs": [
        {
          "output_type": "stream",
          "name": "stdout",
          "text": [
            " Pencil are very useful in class\n",
            " Pencil are very useful in class\n",
            " Pen are very useful in class\n",
            " Notebook are very useful in class\n",
            " Folder are very useful when storing papers\n",
            " Books are very useful in class\n"
          ]
        }
      ]
    },
    {
      "cell_type": "markdown",
      "source": [
        "# Task 3\n",
        "\n",
        "1. Create the List:\n",
        "\n",
        "Create a list named daily_activities that contains the names of five activities you do in a day.\n",
        "Print the list.\n",
        "2. Use a Loop to Print Each Activity:\n",
        "\n",
        "Use a for loop to print each activity in the list.\n",
        "3. Add Conditions within the Loop:\n",
        "\n",
        "Check if an activity is \"Homework\". If it is, print \"Make sure to finish your homework on time!\"\n",
        "Check if an activity is \"Exercise\". If it is, print \"Stay fit and healthy!\"\n",
        "For any other activity, print the activity name normally."
      ],
      "metadata": {
        "id": "CIjjqVj8G5oH"
      }
    },
    {
      "cell_type": "code",
      "source": [
        "daily_activities = [\"sleep\", \"eat\", \"walk\", \"read\"]"
      ],
      "metadata": {
        "id": "Wjis4VY6G_yH"
      },
      "execution_count": 9,
      "outputs": []
    },
    {
      "cell_type": "code",
      "source": [
        "for activities in daily_activities:\n",
        "    print(activities)"
      ],
      "metadata": {
        "colab": {
          "base_uri": "https://localhost:8080/"
        },
        "id": "8j8rjEgiEMQg",
        "outputId": "61390fed-b71e-4931-b505-9d4db6312a14"
      },
      "execution_count": 10,
      "outputs": [
        {
          "output_type": "stream",
          "name": "stdout",
          "text": [
            "sleep\n",
            "eat\n",
            "walk\n",
            "read\n"
          ]
        }
      ]
    },
    {
      "cell_type": "code",
      "source": [
        "for activities in daily_activities:\n",
        "  if activities == \"sleep\":\n",
        "      print(\"sleep is very important for a human to function.\")\n",
        "  if activities == \"eat\":\n",
        "      print(\"eating is also very important for the human so they can get the nutrients that they need.\")\n",
        "  else:\n",
        "      print(activities)"
      ],
      "metadata": {
        "colab": {
          "base_uri": "https://localhost:8080/"
        },
        "id": "fjALbAuPEgiQ",
        "outputId": "0f289935-2add-4eef-bf7e-46ba520d34af"
      },
      "execution_count": 11,
      "outputs": [
        {
          "output_type": "stream",
          "name": "stdout",
          "text": [
            "sleep is very important for a human to function.\n",
            "sleep\n",
            "eating is also very important for the human so they can get the nutrients that they need.\n",
            "walk\n",
            "read\n"
          ]
        }
      ]
    },
    {
      "cell_type": "code",
      "source": [
        " for activities in daily_activities:\n",
        "  if activities == \"sleep\":\n",
        "      print(f'{activities.title()} is very important for a human to function.')\n",
        "  if activities == \"eat\":\n",
        "      print(f' {activities.title()} is also very important for the human so they can get the nutrients that they need.')\n",
        "  else:\n",
        "      print(f' {activities.title()} is a daily activite')"
      ],
      "metadata": {
        "id": "Jn6WLbHRGw82",
        "outputId": "f2a99e7a-7872-4af0-af29-501367fa2f9b",
        "colab": {
          "base_uri": "https://localhost:8080/"
        }
      },
      "execution_count": 12,
      "outputs": [
        {
          "output_type": "stream",
          "name": "stdout",
          "text": [
            "Sleep is very important for a human to function.\n",
            " Sleep is a daily activite\n",
            " Eat is also very important for the human so they can get the nutrients that they need.\n",
            " Walk is a daily activite\n",
            " Read is a daily activite\n"
          ]
        }
      ]
    },
    {
      "cell_type": "code",
      "source": [
        "daily_activities = [\"sleep\", \"eat\", \"walk\", \"read\"]\n",
        "my_favorite_activities = [\"play\", \"run\", \"ride\", \"swimming\"]\n",
        "for activity in my_favorite_activities:\n",
        "  daily_activities.append(activity)"
      ],
      "metadata": {
        "id": "iWfmoSAmjV2e"
      },
      "execution_count": 13,
      "outputs": []
    },
    {
      "cell_type": "code",
      "source": [
        "daily_activities = [\"sleep\", \"eat\", \"walk\", \"read\"]\n",
        "my_favorite_activities = [\"play\", \"run\", \"ride\", \"swimming\"]\n",
        "# only play and run\n",
        "for activity in my_favorite_activities:\n",
        "  if activity == \"run\":\n",
        "    daily_activities.append(activity)\n",
        "  elif activity == \"play\":\n",
        "    daily_activities.append(activity)\n",
        "print(daily_activities)"
      ],
      "metadata": {
        "id": "N8LAHaiSmJo-",
        "outputId": "23190f04-639f-4c7c-f4ed-739d8845bf74",
        "colab": {
          "base_uri": "https://localhost:8080/"
        }
      },
      "execution_count": 15,
      "outputs": [
        {
          "output_type": "stream",
          "name": "stdout",
          "text": [
            "['sleep', 'eat', 'walk', 'read', 'play', 'run']\n"
          ]
        }
      ]
    },
    {
      "cell_type": "code",
      "source": [
        "daily_activities = [\"sleep\", \"eat\", \"walk\", \"read\"]\n",
        "my_favorite_activities = [\"play\", \"run\", \"ride\", \"swimming\"]\n",
        "new_list = [\"run\", \"play\"]\n",
        "# only play and run\n",
        "for activity in my_favorite_activities:\n",
        "  if activity in new_list:\n",
        "    daily_activities.append(activity)\n",
        "print(daily_activities)"
      ],
      "metadata": {
        "id": "L044FvFhpQBi",
        "outputId": "5d9fd6d4-1920-4881-96a0-869598850813",
        "colab": {
          "base_uri": "https://localhost:8080/"
        }
      },
      "execution_count": 17,
      "outputs": [
        {
          "output_type": "stream",
          "name": "stdout",
          "text": [
            "['sleep', 'eat', 'walk', 'read', 'play', 'run']\n"
          ]
        }
      ]
    },
    {
      "cell_type": "code",
      "source": [
        "num = [1, 2,3,4,5,6,7,8,9, 10,11, 12, 13, 14, 15, 16, 17, 18, 19, 20 ]\n",
        "even = [2, 4, 6, 8, 10, 12, 14, 16, 18, 20]\n",
        "odd = []\n",
        "\n",
        "for i in num:\n",
        "  if i not in even:\n",
        "    odd.append(i)\n",
        "  else:\n",
        "    print(f\"{i} not odd number\")\n",
        "\n",
        "print(odd)"
      ],
      "metadata": {
        "id": "ASY0EapMpoKp",
        "outputId": "c852968c-af07-435b-9518-ce5052c33990",
        "colab": {
          "base_uri": "https://localhost:8080/"
        }
      },
      "execution_count": 22,
      "outputs": [
        {
          "output_type": "stream",
          "name": "stdout",
          "text": [
            "2 not odd number\n",
            "4 not odd number\n",
            "6 not odd number\n",
            "8 not odd number\n",
            "10 not odd number\n",
            "12 not odd number\n",
            "14 not odd number\n",
            "16 not odd number\n",
            "18 not odd number\n",
            "20 not odd number\n",
            "[1, 3, 5, 7, 9, 11, 13, 15, 17, 19]\n"
          ]
        }
      ]
    },
    {
      "cell_type": "code",
      "source": [
        "num = []\n",
        "for i in range(1, 21):\n",
        "  num.append(i)\n",
        "print(num)"
      ],
      "metadata": {
        "id": "1rI_Kx0gse3x",
        "outputId": "7669b4c8-d730-4007-e2b6-dd919ca3c7cc",
        "colab": {
          "base_uri": "https://localhost:8080/"
        }
      },
      "execution_count": 29,
      "outputs": [
        {
          "output_type": "stream",
          "name": "stdout",
          "text": [
            "[1, 2, 3, 4, 5, 6, 7, 8, 9, 10, 11, 12, 13, 14, 15, 16, 17, 18, 19, 20]\n"
          ]
        }
      ]
    },
    {
      "cell_type": "code",
      "source": [
        "for i in range(1, 20):\n",
        "  if i % 2 == 0:\n",
        "    print(f\"{i} is even number\")\n",
        "    print()\n",
        "  else:\n",
        "    print(f\"{i} is odd number\")"
      ],
      "metadata": {
        "id": "zT7UF-WAtHCT",
        "outputId": "ff520976-a04b-43f7-8fe2-0e5aa0df744d",
        "colab": {
          "base_uri": "https://localhost:8080/"
        }
      },
      "execution_count": 36,
      "outputs": [
        {
          "output_type": "stream",
          "name": "stdout",
          "text": [
            "1 is odd number\n",
            "2 is even number\n",
            "3 is odd number\n",
            "4 is even number\n",
            "5 is odd number\n",
            "6 is even number\n",
            "7 is odd number\n",
            "8 is even number\n",
            "9 is odd number\n",
            "10 is even number\n",
            "11 is odd number\n",
            "12 is even number\n",
            "13 is odd number\n",
            "14 is even number\n",
            "15 is odd number\n",
            "16 is even number\n",
            "17 is odd number\n",
            "18 is even number\n",
            "19 is odd number\n"
          ]
        }
      ]
    },
    {
      "cell_type": "code",
      "source": [
        "activities = [\"eating breakfast\", \"exercise\", \"going outside\", \"playing games\", \"doing chores\"]\n",
        "my_favorite_activities = [\"playing football\", \"play\", \"watching TV\", \"riding my bicycle\", \"eat\"]\n",
        "for activity in activities:\n",
        "  my_favorite_activities.append(activity)"
      ],
      "metadata": {
        "id": "x4AHMar1vR15"
      },
      "execution_count": 33,
      "outputs": []
    },
    {
      "cell_type": "code",
      "source": [
        "activities = [\"eating breakfast\", \"exercise\", \"going outside\", \"playing games\", \"doing chores\"]\n",
        "my_favorite_activities = [\"playing football\", \"play\", \"watching TV\", \"riding my bicycle\", \"eat\"]\n",
        "for activity in my_favorite_activities:\n",
        "  activities.append(activity)"
      ],
      "metadata": {
        "id": "HfpNzK26vpiF"
      },
      "execution_count": 34,
      "outputs": []
    },
    {
      "cell_type": "code",
      "source": [
        "text = '''\n",
        "Washington — The Supreme Court on Monday ruled that former President Donald Trump is entitled to immunity from federal prosecution for official actions he took while in office, a landmark decision at the height of an election season that could further delay the start of his criminal trial in Washington, D.C.\n",
        "\n",
        "The 6-3 decision along ideological lines tosses out a ruling from the federal appeals court in Washington that concluded Trump is not entitled to broad immunity from criminal charges stemming from an alleged scheme to hold on to power after the 2020 election. The justices sent the dispute back to the district court for further proceedings, and gave the court guidance about how to move forward.\n",
        "\n",
        "The ruling expands presidential power by extending immunity from criminal prosecutions to former presidents for their official conduct. Never before had the Supreme Court considered whether a former commander in chief could face criminal charges as a result of conduct that occurred while in the Oval Office.\n",
        "\n",
        "Trump is the first to have held the presidency and faced prosecution. He has pleaded not guilty to four charges stemming from an alleged effort to subvert the transfer of presidential power after the 2020 election.\n",
        "\n",
        "The former president cheered the decision, calling it a \"big win for our Constitution and democracy\" in a social media post. The special counsel declined to comment.\n",
        "'''"
      ],
      "metadata": {
        "id": "jeNr7rdmxb8r"
      },
      "execution_count": 50,
      "outputs": []
    },
    {
      "cell_type": "code",
      "source": [
        "text.title()"
      ],
      "metadata": {
        "id": "Km-4CQAj2oxZ",
        "outputId": "81e74238-2e3e-4167-a33d-f03cadd8510f",
        "colab": {
          "base_uri": "https://localhost:8080/",
          "height": 105
        }
      },
      "execution_count": 51,
      "outputs": [
        {
          "output_type": "execute_result",
          "data": {
            "text/plain": [
              "'\\nWashington — The Supreme Court On Monday Ruled That Former President Donald Trump Is Entitled To Immunity From Federal Prosecution For Official Actions He Took While In Office, A Landmark Decision At The Height Of An Election Season That Could Further Delay The Start Of His Criminal Trial In Washington, D.C.\\n\\nThe 6-3 Decision Along Ideological Lines Tosses Out A Ruling From The Federal Appeals Court In Washington That Concluded Trump Is Not Entitled To Broad Immunity From Criminal Charges Stemming From An Alleged Scheme To Hold On To Power After The 2020 Election. The Justices Sent The Dispute Back To The District Court For Further Proceedings, And Gave The Court Guidance About How To Move Forward.\\n\\nThe Ruling Expands Presidential Power By Extending Immunity From Criminal Prosecutions To Former Presidents For Their Official Conduct. Never Before Had The Supreme Court Considered Whether A Former Commander In Chief Could Face Criminal Charges As A Result Of Conduct That Occurred While In The Oval Office. \\n\\nTrump Is The First To Have Held The Presidency And Faced Prosecution. He Has Pleaded Not Guilty To Four Charges Stemming From An Alleged Effort To Subvert The Transfer Of Presidential Power After The 2020 Election.\\n\\nThe Former President Cheered The Decision, Calling It A \"Big Win For Our Constitution And Democracy\" In A Social Media Post. The Special Counsel Declined To Comment. \\n'"
            ],
            "application/vnd.google.colaboratory.intrinsic+json": {
              "type": "string"
            }
          },
          "metadata": {},
          "execution_count": 51
        }
      ]
    },
    {
      "cell_type": "code",
      "source": [
        "text.lower()"
      ],
      "metadata": {
        "id": "Uvarc_iA2s7i",
        "outputId": "a369c321-58c9-420a-fe72-b63976b97112",
        "colab": {
          "base_uri": "https://localhost:8080/",
          "height": 105
        }
      },
      "execution_count": 52,
      "outputs": [
        {
          "output_type": "execute_result",
          "data": {
            "text/plain": [
              "'\\nwashington — the supreme court on monday ruled that former president donald trump is entitled to immunity from federal prosecution for official actions he took while in office, a landmark decision at the height of an election season that could further delay the start of his criminal trial in washington, d.c.\\n\\nthe 6-3 decision along ideological lines tosses out a ruling from the federal appeals court in washington that concluded trump is not entitled to broad immunity from criminal charges stemming from an alleged scheme to hold on to power after the 2020 election. the justices sent the dispute back to the district court for further proceedings, and gave the court guidance about how to move forward.\\n\\nthe ruling expands presidential power by extending immunity from criminal prosecutions to former presidents for their official conduct. never before had the supreme court considered whether a former commander in chief could face criminal charges as a result of conduct that occurred while in the oval office. \\n\\ntrump is the first to have held the presidency and faced prosecution. he has pleaded not guilty to four charges stemming from an alleged effort to subvert the transfer of presidential power after the 2020 election.\\n\\nthe former president cheered the decision, calling it a \"big win for our constitution and democracy\" in a social media post. the special counsel declined to comment. \\n'"
            ],
            "application/vnd.google.colaboratory.intrinsic+json": {
              "type": "string"
            }
          },
          "metadata": {},
          "execution_count": 52
        }
      ]
    },
    {
      "cell_type": "code",
      "source": [
        "text.upper()"
      ],
      "metadata": {
        "id": "eAoLRd5O2xCX",
        "outputId": "e44d1ecb-2f82-49f6-a979-a3a5ccbf3f7b",
        "colab": {
          "base_uri": "https://localhost:8080/",
          "height": 105
        }
      },
      "execution_count": 53,
      "outputs": [
        {
          "output_type": "execute_result",
          "data": {
            "text/plain": [
              "'\\nWASHINGTON — THE SUPREME COURT ON MONDAY RULED THAT FORMER PRESIDENT DONALD TRUMP IS ENTITLED TO IMMUNITY FROM FEDERAL PROSECUTION FOR OFFICIAL ACTIONS HE TOOK WHILE IN OFFICE, A LANDMARK DECISION AT THE HEIGHT OF AN ELECTION SEASON THAT COULD FURTHER DELAY THE START OF HIS CRIMINAL TRIAL IN WASHINGTON, D.C.\\n\\nTHE 6-3 DECISION ALONG IDEOLOGICAL LINES TOSSES OUT A RULING FROM THE FEDERAL APPEALS COURT IN WASHINGTON THAT CONCLUDED TRUMP IS NOT ENTITLED TO BROAD IMMUNITY FROM CRIMINAL CHARGES STEMMING FROM AN ALLEGED SCHEME TO HOLD ON TO POWER AFTER THE 2020 ELECTION. THE JUSTICES SENT THE DISPUTE BACK TO THE DISTRICT COURT FOR FURTHER PROCEEDINGS, AND GAVE THE COURT GUIDANCE ABOUT HOW TO MOVE FORWARD.\\n\\nTHE RULING EXPANDS PRESIDENTIAL POWER BY EXTENDING IMMUNITY FROM CRIMINAL PROSECUTIONS TO FORMER PRESIDENTS FOR THEIR OFFICIAL CONDUCT. NEVER BEFORE HAD THE SUPREME COURT CONSIDERED WHETHER A FORMER COMMANDER IN CHIEF COULD FACE CRIMINAL CHARGES AS A RESULT OF CONDUCT THAT OCCURRED WHILE IN THE OVAL OFFICE. \\n\\nTRUMP IS THE FIRST TO HAVE HELD THE PRESIDENCY AND FACED PROSECUTION. HE HAS PLEADED NOT GUILTY TO FOUR CHARGES STEMMING FROM AN ALLEGED EFFORT TO SUBVERT THE TRANSFER OF PRESIDENTIAL POWER AFTER THE 2020 ELECTION.\\n\\nTHE FORMER PRESIDENT CHEERED THE DECISION, CALLING IT A \"BIG WIN FOR OUR CONSTITUTION AND DEMOCRACY\" IN A SOCIAL MEDIA POST. THE SPECIAL COUNSEL DECLINED TO COMMENT. \\n'"
            ],
            "application/vnd.google.colaboratory.intrinsic+json": {
              "type": "string"
            }
          },
          "metadata": {},
          "execution_count": 53
        }
      ]
    },
    {
      "cell_type": "code",
      "source": [
        "text.replace(\"Trump\", \"Baden\")"
      ],
      "metadata": {
        "id": "QqiTEzoj20H3",
        "outputId": "7739eed3-df83-4015-b396-8730531cc1e6",
        "colab": {
          "base_uri": "https://localhost:8080/",
          "height": 105
        }
      },
      "execution_count": 55,
      "outputs": [
        {
          "output_type": "execute_result",
          "data": {
            "text/plain": [
              "'\\nWashington — The Supreme Court on Monday ruled that former President Donald Baden is entitled to immunity from federal prosecution for official actions he took while in office, a landmark decision at the height of an election season that could further delay the start of his criminal trial in Washington, D.C.\\n\\nThe 6-3 decision along ideological lines tosses out a ruling from the federal appeals court in Washington that concluded Baden is not entitled to broad immunity from criminal charges stemming from an alleged scheme to hold on to power after the 2020 election. The justices sent the dispute back to the district court for further proceedings, and gave the court guidance about how to move forward.\\n\\nThe ruling expands presidential power by extending immunity from criminal prosecutions to former presidents for their official conduct. Never before had the Supreme Court considered whether a former commander in chief could face criminal charges as a result of conduct that occurred while in the Oval Office. \\n\\nBaden is the first to have held the presidency and faced prosecution. He has pleaded not guilty to four charges stemming from an alleged effort to subvert the transfer of presidential power after the 2020 election.\\n\\nThe former president cheered the decision, calling it a \"big win for our Constitution and democracy\" in a social media post. The special counsel declined to comment. \\n'"
            ],
            "application/vnd.google.colaboratory.intrinsic+json": {
              "type": "string"
            }
          },
          "metadata": {},
          "execution_count": 55
        }
      ]
    },
    {
      "cell_type": "code",
      "source": [
        "my_list = text.split(\" \")\n",
        "print(f\"Total of charaters are {len(text)}\")\n",
        "print(f\"Total of charaters are {len(my_list)}\")"
      ],
      "metadata": {
        "id": "TCJuJdvSywgT",
        "outputId": "319c38ca-962d-4c9a-aed4-fe638d3da27d",
        "colab": {
          "base_uri": "https://localhost:8080/"
        }
      },
      "execution_count": 44,
      "outputs": [
        {
          "output_type": "stream",
          "name": "stdout",
          "text": [
            "Total of charaters are 1404\n",
            "Total of charaters are 225\n"
          ]
        }
      ]
    },
    {
      "cell_type": "code",
      "source": [
        "for w in my_list:\n",
        "  if len(w)> 10:\n",
        "   print(w)\n",
        "  if \"The\" in w:\n",
        "    print(w)"
      ],
      "metadata": {
        "id": "6SACG51Z1_CV",
        "outputId": "73231426-2648-4614-cb77-538c40faaad5",
        "colab": {
          "base_uri": "https://localhost:8080/"
        }
      },
      "execution_count": 49,
      "outputs": [
        {
          "output_type": "stream",
          "name": "stdout",
          "text": [
            "The\n",
            "D.C.\n",
            "\n",
            "The\n",
            "The\n",
            "forward.\n",
            "\n",
            "The\n",
            "election.\n",
            "\n",
            "The\n",
            "The\n"
          ]
        }
      ]
    },
    {
      "cell_type": "code",
      "source": [
        "my_list = text.split(\" \")\n",
        "len(my_list)\n",
        "\n",
        "\n",
        "# 1. show me the length\n",
        "# 2. loop it and print\n",
        "# 3. print only words if it has more than five letters"
      ],
      "metadata": {
        "id": "BigzljXCxjVv",
        "outputId": "358c4704-35c2-4eef-e195-758958c5876e",
        "colab": {
          "base_uri": "https://localhost:8080/"
        }
      },
      "execution_count": 40,
      "outputs": [
        {
          "output_type": "execute_result",
          "data": {
            "text/plain": [
              "225"
            ]
          },
          "metadata": {},
          "execution_count": 40
        }
      ]
    }
  ]
}