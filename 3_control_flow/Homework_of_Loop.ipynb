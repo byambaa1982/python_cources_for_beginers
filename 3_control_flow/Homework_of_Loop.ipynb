{
  "nbformat": 4,
  "nbformat_minor": 0,
  "metadata": {
    "colab": {
      "provenance": [],
      "authorship_tag": "ABX9TyPloLdyvn+rS3WrQJ93jC3x",
      "include_colab_link": true
    },
    "kernelspec": {
      "name": "python3",
      "display_name": "Python 3"
    },
    "language_info": {
      "name": "python"
    }
  },
  "cells": [
    {
      "cell_type": "markdown",
      "metadata": {
        "id": "view-in-github",
        "colab_type": "text"
      },
      "source": [
        "<a href=\"https://colab.research.google.com/github/byambaa1982/python_cources_for_beginers/blob/main/3_control_flow/Homework_of_Loop.ipynb\" target=\"_parent\"><img src=\"https://colab.research.google.com/assets/colab-badge.svg\" alt=\"Open In Colab\"/></a>"
      ]
    },
    {
      "cell_type": "code",
      "execution_count": null,
      "metadata": {
        "id": "VY_Of4oQEZyO"
      },
      "outputs": [],
      "source": []
    },
    {
      "cell_type": "markdown",
      "source": [
        "# Task 1:\n",
        "\n",
        "1. Create the List:\n",
        "\n",
        "Create a list named favorite_animals that contains the names of five of your favorite animals.\n",
        "Print the list.\n",
        "2. Use a Loop to Print Each Animal:\n",
        "\n",
        "Use a for loop to print each animal in the list.\n",
        "3. Add Conditions within the Loop:\n",
        "\n",
        "Check if an animal is \"Dog\". If it is, print \"Dogs are very loyal!\" Otherwise, print the animal name normally.\n",
        "Additionally, check if an animal is \"Cat\". If it is, print \"Cats are very independent!\""
      ],
      "metadata": {
        "id": "aueaQf_9EgLd"
      }
    },
    {
      "cell_type": "code",
      "source": [],
      "metadata": {
        "id": "am5BY_OUGcZe"
      },
      "execution_count": null,
      "outputs": []
    },
    {
      "cell_type": "markdown",
      "source": [
        "# Task 2\n",
        "\n",
        "1. Create the List:\n",
        "\n",
        "Create a list named school_supplies that contains the names of five school supplies.\n",
        "Print the list.\n",
        "2. Use a Loop to Print Each Supply:\n",
        "\n",
        "Use a for loop to print each supply in the list.\n",
        "3. Add Conditions within the Loop:\n",
        "\n",
        "Check if a supply is \"Notebook\". If it is, print \"Don't forget to write your notes!\"\n",
        "Check if a supply is \"Pencil\". If it is, print \"Pencils are essential for writing.\"\n",
        "For any other supply, print the supply name normally."
      ],
      "metadata": {
        "id": "V5n7BC3FGm7e"
      }
    },
    {
      "cell_type": "code",
      "source": [],
      "metadata": {
        "id": "2JJTHVa9Gsq9"
      },
      "execution_count": null,
      "outputs": []
    },
    {
      "cell_type": "code",
      "source": [],
      "metadata": {
        "id": "wSGRmoIkG315"
      },
      "execution_count": null,
      "outputs": []
    },
    {
      "cell_type": "markdown",
      "source": [
        "# Task 3\n",
        "\n",
        "1. Create the List:\n",
        "\n",
        "Create a list named daily_activities that contains the names of five activities you do in a day.\n",
        "Print the list.\n",
        "2. Use a Loop to Print Each Activity:\n",
        "\n",
        "Use a for loop to print each activity in the list.\n",
        "3. Add Conditions within the Loop:\n",
        "\n",
        "Check if an activity is \"Homework\". If it is, print \"Make sure to finish your homework on time!\"\n",
        "Check if an activity is \"Exercise\". If it is, print \"Stay fit and healthy!\"\n",
        "For any other activity, print the activity name normally."
      ],
      "metadata": {
        "id": "CIjjqVj8G5oH"
      }
    },
    {
      "cell_type": "code",
      "source": [],
      "metadata": {
        "id": "Wjis4VY6G_yH"
      },
      "execution_count": null,
      "outputs": []
    }
  ]
}