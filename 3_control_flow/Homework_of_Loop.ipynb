{
  "nbformat": 4,
  "nbformat_minor": 0,
  "metadata": {
    "colab": {
      "provenance": [],
      "include_colab_link": true
    },
    "kernelspec": {
      "name": "python3",
      "display_name": "Python 3"
    },
    "language_info": {
      "name": "python"
    }
  },
  "cells": [
    {
      "cell_type": "markdown",
      "metadata": {
        "id": "view-in-github",
        "colab_type": "text"
      },
      "source": [
        "<a href=\"https://colab.research.google.com/github/byambaa1982/python_cources_for_beginers/blob/class_zero_enko/3_control_flow/Homework_of_Loop.ipynb\" target=\"_parent\"><img src=\"https://colab.research.google.com/assets/colab-badge.svg\" alt=\"Open In Colab\"/></a>"
      ]
    },
    {
      "cell_type": "code",
      "execution_count": null,
      "metadata": {
        "id": "VY_Of4oQEZyO"
      },
      "outputs": [],
      "source": []
    },
    {
      "cell_type": "markdown",
      "source": [
        "# Task 1:\n",
        "\n",
        "1. Create the List:\n",
        "\n",
        "Create a list named favorite_animals that contains the names of five of your favorite animals.\n",
        "Print the list.\n",
        "2. Use a Loop to Print Each Animal:\n",
        "\n",
        "Use a for loop to print each animal in the list.\n",
        "3. Add Conditions within the Loop:\n",
        "\n",
        "Check if an animal is \"Dog\". If it is, print \"Dogs are very loyal!\" Otherwise, print the animal name normally.\n",
        "Additionally, check if an animal is \"Cat\". If it is, print \"Cats are very independent!\""
      ],
      "metadata": {
        "id": "aueaQf_9EgLd"
      }
    },
    {
      "cell_type": "code",
      "source": [
        "favorite_animals = [\"Black Panther\", \"Penguin\", \"tiger\", \"lion\", \"Cat\"]"
      ],
      "metadata": {
        "id": "am5BY_OUGcZe"
      },
      "execution_count": 1,
      "outputs": []
    },
    {
      "cell_type": "code",
      "source": [
        "for animal in favorite_animals:\n",
        "   print(animal + \" is a animal\")"
      ],
      "metadata": {
        "id": "Sgu2BuBvmyu4",
        "outputId": "71239a61-252b-4447-874a-1727eed31262",
        "colab": {
          "base_uri": "https://localhost:8080/"
        }
      },
      "execution_count": 7,
      "outputs": [
        {
          "output_type": "stream",
          "name": "stdout",
          "text": [
            "Black Panther is a animal\n",
            "Penguin is a animal\n",
            "tiger is a animal\n",
            "lion is a animal\n",
            "Cat is a animal\n"
          ]
        }
      ]
    },
    {
      "cell_type": "code",
      "source": [
        "if \"Dog\" in favorite_animals:\n",
        "  print(\"Dogs are very loyal!\")\n",
        "elif \"Cat\" in favorite_animals:\n",
        "  print(\"Cats are very independent!\")"
      ],
      "metadata": {
        "id": "-Gh75_xFnqeN",
        "outputId": "31065515-7c89-43b3-eb86-886a3d2d7845",
        "colab": {
          "base_uri": "https://localhost:8080/"
        }
      },
      "execution_count": 8,
      "outputs": [
        {
          "output_type": "stream",
          "name": "stdout",
          "text": [
            "Cats are very independent!\n"
          ]
        }
      ]
    },
    {
      "cell_type": "markdown",
      "source": [
        "# Task 2\n",
        "\n",
        "1. Create the List:\n",
        "\n",
        "Create a list named school_supplies that contains the names of five school supplies.\n",
        "Print the list.\n",
        "2. Use a Loop to Print Each Supply:\n",
        "\n",
        "Use a for loop to print each supply in the list.\n",
        "3. Add Conditions within the Loop:\n",
        "\n",
        "Check if a supply is \"Notebook\". If it is, print \"Don't forget to write your notes!\"\n",
        "Check if a supply is \"Pencil\". If it is, print \"Pencils are essential for writing.\"\n",
        "For any other supply, print the supply name normally."
      ],
      "metadata": {
        "id": "V5n7BC3FGm7e"
      }
    },
    {
      "cell_type": "code",
      "source": [
        "school_supplies = [\"pencil\", \"computer\", \"folder\", \"pen\", \"ruler\"]"
      ],
      "metadata": {
        "id": "2JJTHVa9Gsq9"
      },
      "execution_count": 33,
      "outputs": []
    },
    {
      "cell_type": "code",
      "source": [
        "for school in school_supplies:\n",
        "  print(school + \" is a school supply\")"
      ],
      "metadata": {
        "id": "wSGRmoIkG315",
        "outputId": "08d20a8e-ddc8-4f96-c3ec-83517d66e4ba",
        "colab": {
          "base_uri": "https://localhost:8080/"
        }
      },
      "execution_count": 34,
      "outputs": [
        {
          "output_type": "stream",
          "name": "stdout",
          "text": [
            "pencil is a school supply\n",
            "computer is a school supply\n",
            "folder is a school supply\n",
            "pen is a school supply\n",
            "ruler is a school supply\n"
          ]
        }
      ]
    },
    {
      "cell_type": "code",
      "source": [
        "if \"Notebook\" in school_supplies:\n",
        "  print(\"Don't forget to write your notes!\")\n",
        "elif \"Pencil\" in school_supplies:\n",
        "  print(\"Pencils are essential for writing.\")"
      ],
      "metadata": {
        "id": "2zES6WPksGTf"
      },
      "execution_count": 40,
      "outputs": []
    },
    {
      "cell_type": "markdown",
      "source": [
        "# Task 3\n",
        "\n",
        "1. Create the List:\n",
        "\n",
        "Create a list named daily_activities that contains the names of five activities you do in a day.\n",
        "Print the list.\n",
        "2. Use a Loop to Print Each Activity:\n",
        "\n",
        "Use a for loop to print each activity in the list.\n",
        "3. Add Conditions within the Loop:\n",
        "\n",
        "Check if an activity is \"Homework\". If it is, print \"Make sure to finish your homework on time!\"\n",
        "Check if an activity is \"Exercise\". If it is, print \"Stay fit and healthy!\"\n",
        "For any other activity, print the activity name normally."
      ],
      "metadata": {
        "id": "CIjjqVj8G5oH"
      }
    },
    {
      "cell_type": "code",
      "source": [
        "daily_activites = [\"Go outside\", \"Play games\", \"Eat\", \"Sleep\", \"Exercise\"]"
      ],
      "metadata": {
        "id": "Wjis4VY6G_yH"
      },
      "execution_count": 47,
      "outputs": []
    },
    {
      "cell_type": "code",
      "source": [
        "for activity in daily_activites:\n",
        "  print(activity + \" is a daily activity\")"
      ],
      "metadata": {
        "id": "WQz1rjQ5uwd2",
        "outputId": "76decfd8-d4f6-4a9c-ad8c-ff0a61dbd273",
        "colab": {
          "base_uri": "https://localhost:8080/"
        }
      },
      "execution_count": 48,
      "outputs": [
        {
          "output_type": "stream",
          "name": "stdout",
          "text": [
            "Go outside is a daily activity\n",
            "Play games is a daily activity\n",
            "Eat is a daily activity\n",
            "Sleep is a daily activity\n",
            "Exercise is a daily activity\n"
          ]
        }
      ]
    },
    {
      "cell_type": "code",
      "source": [
        "if \"Homework\" in daily_activites:\n",
        "  print(\"Make sure to finish your homework on time!\")\n",
        "elif \"Exercise\" in daily_activites:\n",
        "  print(\"Stay fit and healthy!\")"
      ],
      "metadata": {
        "id": "XCgG9CLhy3PU",
        "outputId": "3b6d1a5d-e9a7-4526-8392-52ea70161c85",
        "colab": {
          "base_uri": "https://localhost:8080/"
        }
      },
      "execution_count": 49,
      "outputs": [
        {
          "output_type": "stream",
          "name": "stdout",
          "text": [
            "Stay fit and healthy!\n"
          ]
        }
      ]
    }
  ]
}