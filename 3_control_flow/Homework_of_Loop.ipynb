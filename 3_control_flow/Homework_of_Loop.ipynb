{
  "nbformat": 4,
  "nbformat_minor": 0,
  "metadata": {
    "colab": {
      "provenance": [],
      "include_colab_link": true
    },
    "kernelspec": {
      "name": "python3",
      "display_name": "Python 3"
    },
    "language_info": {
      "name": "python"
    }
  },
  "cells": [
    {
      "cell_type": "markdown",
      "metadata": {
        "id": "view-in-github",
        "colab_type": "text"
      },
      "source": [
        "<a href=\"https://colab.research.google.com/github/byambaa1982/python_cources_for_beginers/blob/class_zero_burentugs/3_control_flow/Homework_of_Loop.ipynb\" target=\"_parent\"><img src=\"https://colab.research.google.com/assets/colab-badge.svg\" alt=\"Open In Colab\"/></a>"
      ]
    },
    {
      "cell_type": "markdown",
      "source": [
        "# Task 1:\n",
        "\n",
        "1. Create the List:\n",
        "\n",
        "Create a list named favorite_animals that contains the names of five of your favorite animals.\n",
        "Print the list.\n",
        "2. Use a Loop to Print Each Animal:\n",
        "\n",
        "Use a for loop to print each animal in the list.\n",
        "3. Add Conditions within the Loop:\n",
        "\n",
        "Check if an animal is \"Dog\". If it is, print \"Dogs are very loyal!\" Otherwise, print the animal name normally.\n",
        "Additionally, check if an animal is \"Cat\". If it is, print \"Cats are very independent!\""
      ],
      "metadata": {
        "id": "aueaQf_9EgLd"
      }
    },
    {
      "cell_type": "code",
      "source": [
        "favorite_animals = [\"dog\", \"cat\", \"horse\", \"zebra\", \"elephant\"]\n",
        "for animal in favorite_animals:\n",
        "  print(animal)\n"
      ],
      "metadata": {
        "id": "am5BY_OUGcZe",
        "colab": {
          "base_uri": "https://localhost:8080/"
        },
        "outputId": "b38f07e6-ca78-4013-bcfd-6bac1e2bc2e6"
      },
      "execution_count": 6,
      "outputs": [
        {
          "output_type": "stream",
          "name": "stdout",
          "text": [
            "dog\n",
            "cat\n",
            "horse\n",
            "zebra\n",
            "elephant\n"
          ]
        }
      ]
    },
    {
      "cell_type": "code",
      "source": [
        "for animal in favorite_animals:\n",
        " if animal == \"dog\":\n",
        "  print(f\"{animal} are a man's bestfriend\")\n",
        " elif animal == \"cat\":\n",
        "  print(f\"{animal} are very cautious\")\n",
        " else:\n",
        "  print(f\"{animal} is one of my favorite animals\")"
      ],
      "metadata": {
        "colab": {
          "base_uri": "https://localhost:8080/"
        },
        "id": "b_MkJGvC_ZV2",
        "outputId": "c2851fea-7f95-418f-9ddb-b4897c1edf60"
      },
      "execution_count": 7,
      "outputs": [
        {
          "output_type": "stream",
          "name": "stdout",
          "text": [
            "dog are a man's bestfriend\n",
            "cat are very cautious\n",
            "horse is one of my favorite animals\n",
            "zebra is one of my favorite animals\n",
            "elephant is one of my favorite animals\n"
          ]
        }
      ]
    },
    {
      "cell_type": "markdown",
      "source": [
        "# Task 2\n",
        "\n",
        "1. Create the List:\n",
        "\n",
        "Create a list named school_supplies that contains the names of five school supplies.\n",
        "Print the list.\n",
        "2. Use a Loop to Print Each Supply:\n",
        "\n",
        "Use a for loop to print each supply in the list.\n",
        "3. Add Conditions within the Loop:\n",
        "\n",
        "Check if a supply is \"Notebook\". If it is, print \"Don't forget to write your notes!\"\n",
        "Check if a supply is \"Pencil\". If it is, print \"Pencils are essential for writing.\"\n",
        "For any other supply, print the supply name normally."
      ],
      "metadata": {
        "id": "V5n7BC3FGm7e"
      }
    },
    {
      "cell_type": "code",
      "source": [
        "supplies = [\"pencil\", \"marker\", \"sciccors\", \"pen\", \"notebook\"]\n",
        "for supply in supplies:\n",
        " print(supply)"
      ],
      "metadata": {
        "id": "2JJTHVa9Gsq9",
        "colab": {
          "base_uri": "https://localhost:8080/"
        },
        "outputId": "b1bb0c38-5e7e-408f-f098-96601715947a"
      },
      "execution_count": null,
      "outputs": [
        {
          "output_type": "stream",
          "name": "stdout",
          "text": [
            "pencil\n",
            "marker\n",
            "sciccors\n",
            "pen\n",
            "notebook\n"
          ]
        }
      ]
    },
    {
      "cell_type": "code",
      "source": [
        "for supply in supplies:\n",
        " if supply == \"notebook\":\n",
        "  print(f\"{supply} is where you can store your notes!\")\n",
        " elif supply == \"pencil\":\n",
        "  print(f\"{supply} are used for writing.\")\n",
        " else:\n",
        "  print(f\"{supply} are essential for school.\")"
      ],
      "metadata": {
        "colab": {
          "base_uri": "https://localhost:8080/"
        },
        "id": "gY-cwXRzBmW8",
        "outputId": "c019f5df-1748-4845-9028-0f646373791f"
      },
      "execution_count": null,
      "outputs": [
        {
          "output_type": "stream",
          "name": "stdout",
          "text": [
            "pencil are used for writing.\n",
            "marker are essential for school.\n",
            "sciccors are essential for school.\n",
            "pen are essential for school.\n",
            "notebook is where you can store your notes!\n"
          ]
        }
      ]
    },
    {
      "cell_type": "markdown",
      "source": [
        "Task 3"
      ],
      "metadata": {
        "id": "0ujrY_Uh2s4_"
      }
    },
    {
      "cell_type": "code",
      "source": [
        "activities = [\"eating breakfast\", \"exercise\", \"going outside\", \"playing games\", \"doing chores\"]\n",
        "for activity in activities:\n",
        "  print(activity)"
      ],
      "metadata": {
        "id": "Wjis4VY6G_yH",
        "colab": {
          "base_uri": "https://localhost:8080/"
        },
        "outputId": "c1809835-1584-4bcd-c8cb-acebbbdd3f07"
      },
      "execution_count": 19,
      "outputs": [
        {
          "output_type": "stream",
          "name": "stdout",
          "text": [
            "eating breakfast\n",
            "exercise\n",
            "going outside\n",
            "playing games\n",
            "doing chores\n"
          ]
        }
      ]
    },
    {
      "cell_type": "code",
      "source": [
        "for activity in activities:\n",
        "  if activity == \"exercise\":\n",
        "    print(f\"{activity} is very important to stay fit!\")\n",
        "  elif activity == \"eating breakfast\":\n",
        "    print(f\"{activity} is a significant time to eat!\")\n",
        "  else:\n",
        "    print(f\"{activity} are exercises which require movement.\")"
      ],
      "metadata": {
        "id": "Db7BFXzMD0wh",
        "outputId": "ddc532c8-9591-4c41-dcaa-32c1112fa408",
        "colab": {
          "base_uri": "https://localhost:8080/"
        }
      },
      "execution_count": 24,
      "outputs": [
        {
          "output_type": "stream",
          "name": "stdout",
          "text": [
            "eating breakfast is a significant time to eat!\n",
            "exercise is very important to stay fit!\n",
            "going outside are exercises which require movement.\n",
            "playing games are exercises which require movement.\n",
            "doing chores are exercises which require movement.\n"
          ]
        }
      ]
    },
    {
      "cell_type": "code",
      "source": [
        "activities = [\"eating breakfast\", \"exercise\", \"going outside\", \"playing games\", \"doing chores\"]\n",
        "my_favorite_activities = [\"playing football\", \"play\", \"watching TV\", \"riding my bicycle\", \"eat\"]\n",
        "for activity in activities:\n",
        "  my_favorite_activities.append(activity)"
      ],
      "metadata": {
        "id": "wSGRmoIkG315"
      },
      "execution_count": 25,
      "outputs": []
    },
    {
      "cell_type": "code",
      "source": [
        "num = [1, 2, 3, 4, 5, 6, 7, 8, 9, 10, 11, 12, 13, 14, 15, 16]\n",
        "even = [2, 4, 6, 8, 10]\n",
        "odd = [1, 3, 5, 7, 9]"
      ],
      "metadata": {
        "id": "r8iZrOotrY9W"
      },
      "execution_count": null,
      "outputs": []
    },
    {
      "cell_type": "code",
      "source": [
        "num = []\n",
        "for i in range(1, 21):\n",
        "  num.append(i)\n",
        "print(num)"
      ],
      "metadata": {
        "colab": {
          "base_uri": "https://localhost:8080/"
        },
        "id": "UZahpzBStsJt",
        "outputId": "2d3a3dca-7573-4f58-9dde-4e33a9f283d4"
      },
      "execution_count": 15,
      "outputs": [
        {
          "output_type": "stream",
          "name": "stdout",
          "text": [
            "[1, 2, 3, 4, 5, 6, 7, 8, 9, 10, 11, 12, 13, 14, 15, 16, 17, 18, 19, 20]\n"
          ]
        }
      ]
    },
    {
      "cell_type": "code",
      "source": [
        "for i in range(1, 20):\n",
        " if i % 2 == 0:\n",
        "  print(i)"
      ],
      "metadata": {
        "colab": {
          "base_uri": "https://localhost:8080/"
        },
        "id": "LCi507sQt8LS",
        "outputId": "ddcf62a7-aaeb-478f-c8af-39659b92206d"
      },
      "execution_count": 16,
      "outputs": [
        {
          "output_type": "stream",
          "name": "stdout",
          "text": [
            "2\n",
            "4\n",
            "6\n",
            "8\n",
            "10\n",
            "12\n",
            "14\n",
            "16\n",
            "18\n"
          ]
        }
      ]
    },
    {
      "cell_type": "code",
      "source": [
        "for i in range (1, 20):\n",
        "  if i % 2 == 0:\n",
        "    print(f\"{i} is an even number\")\n",
        "    print(f\"{i*2}\")\n",
        "  else:\n",
        "    print(f\"{i} is an odd number\")\n",
        "    print(f\"{i*5}\")"
      ],
      "metadata": {
        "colab": {
          "base_uri": "https://localhost:8080/"
        },
        "id": "h6FA1hqOuQpy",
        "outputId": "c82a16e5-2d37-4623-b134-29c5c25fffba"
      },
      "execution_count": 29,
      "outputs": [
        {
          "output_type": "stream",
          "name": "stdout",
          "text": [
            "1 is an odd number\n",
            "5\n",
            "2 is an even number\n",
            "4\n",
            "3 is an odd number\n",
            "15\n",
            "4 is an even number\n",
            "8\n",
            "5 is an odd number\n",
            "25\n",
            "6 is an even number\n",
            "12\n",
            "7 is an odd number\n",
            "35\n",
            "8 is an even number\n",
            "16\n",
            "9 is an odd number\n",
            "45\n",
            "10 is an even number\n",
            "20\n",
            "11 is an odd number\n",
            "55\n",
            "12 is an even number\n",
            "24\n",
            "13 is an odd number\n",
            "65\n",
            "14 is an even number\n",
            "28\n",
            "15 is an odd number\n",
            "75\n",
            "16 is an even number\n",
            "32\n",
            "17 is an odd number\n",
            "85\n",
            "18 is an even number\n",
            "36\n",
            "19 is an odd number\n",
            "95\n"
          ]
        }
      ]
    },
    {
      "cell_type": "code",
      "source": [
        "text = '''\n",
        "\n",
        "Hurricane Beryl roared across the Windward Islands on Monday as an extremely dangerous Category 4, delivering catastrophic winds, intense rainfall and life-threatening storm surge.\n",
        "\n",
        "Beryl made landfall shortly after 11:00 a.m. EDT on Grenada’s Carriacou Island in the Caribbean Sea with max winds of 150 mph. It is the strongest known hurricane to pass through the Grenadines, according to data from NOAA that goes back to 1851.\n",
        "\n",
        "There were “widespread reports of destruction and devastation in Carriacou and Petite Martinique,” Grenada Prime Minister Dickon Mitchell said in a Monday news briefing. “In half an hour, Carriacou was flattened.”\n",
        "\n",
        "Mitchell said there were no immediate reports of death or injury but warned that could change.\n",
        "\n",
        "“You have to appreciate the ferocity and the strength of the hurricane and therefore we are not yet out of the woods,” he said. “And we are not able to say for sure that no one has been injured or there has been no loss of life as a result of the hurricane.”\n",
        "\n",
        "The storm knocked out power across the island chain. About 95% of the island of Grenada has lost power due to Hurricane Beryl, Neila K. Ettienne, press secretary for the office of the prime minister, told CNN on Monday. Telecommunications across Grenada are down, and some individuals have lost internet service, Ettienne explained.\n",
        "\n",
        "All schools and business are closed, including the airport, the secretary said, adding only hospitals and the national police force are currently operational. The airport reported a sustained wind speed of 92 mph and a gust of 121 mph Monday afternoon, according to the National Hurricane Center.\n",
        "\n",
        "As of Monday evening, the southern Windward Islands are still seeing “tropical storm conditions, dangerous waves, and heavy rainfall,” according to the center.\n",
        "'''"
      ],
      "metadata": {
        "id": "0cRlNGlZyzWA"
      },
      "execution_count": 34,
      "outputs": []
    },
    {
      "cell_type": "code",
      "source": [
        "my_list = text.split(\" \")\n",
        "len(my_list)"
      ],
      "metadata": {
        "id": "jx75d2pOxz9_",
        "outputId": "22c13f4e-8d63-47d6-d569-c563e8551357",
        "colab": {
          "base_uri": "https://localhost:8080/"
        }
      },
      "execution_count": 35,
      "outputs": [
        {
          "output_type": "execute_result",
          "data": {
            "text/plain": [
              "284"
            ]
          },
          "metadata": {},
          "execution_count": 35
        }
      ]
    },
    {
      "cell_type": "code",
      "source": [
        "for text in my_list:\n",
        " print(text)"
      ],
      "metadata": {
        "id": "e9ZiYI4kylJK",
        "outputId": "fe9de378-63b2-4a1c-f253-4d368d0f1395",
        "colab": {
          "base_uri": "https://localhost:8080/"
        }
      },
      "execution_count": 38,
      "outputs": [
        {
          "output_type": "stream",
          "name": "stdout",
          "text": [
            "\n",
            "\n",
            "\n",
            "Hurricane\n",
            "Beryl\n",
            "roared\n",
            "across\n",
            "the\n",
            "Windward\n",
            "Islands\n",
            "on\n",
            "Monday\n",
            "as\n",
            "an\n",
            "extremely\n",
            "dangerous\n",
            "Category\n",
            "4,\n",
            "delivering\n",
            "catastrophic\n",
            "winds,\n",
            "intense\n",
            "rainfall\n",
            "and\n",
            "life-threatening\n",
            "storm\n",
            "surge.\n",
            "\n",
            "Beryl\n",
            "made\n",
            "landfall\n",
            "shortly\n",
            "after\n",
            "11:00\n",
            "a.m.\n",
            "EDT\n",
            "on\n",
            "Grenada’s\n",
            "Carriacou\n",
            "Island\n",
            "in\n",
            "the\n",
            "Caribbean\n",
            "Sea\n",
            "with\n",
            "max\n",
            "winds\n",
            "of\n",
            "150\n",
            "mph.\n",
            "It\n",
            "is\n",
            "the\n",
            "strongest\n",
            "known\n",
            "hurricane\n",
            "to\n",
            "pass\n",
            "through\n",
            "the\n",
            "Grenadines,\n",
            "according\n",
            "to\n",
            "data\n",
            "from\n",
            "NOAA\n",
            "that\n",
            "goes\n",
            "back\n",
            "to\n",
            "1851.\n",
            "\n",
            "There\n",
            "were\n",
            "“widespread\n",
            "reports\n",
            "of\n",
            "destruction\n",
            "and\n",
            "devastation\n",
            "in\n",
            "Carriacou\n",
            "and\n",
            "Petite\n",
            "Martinique,”\n",
            "Grenada\n",
            "Prime\n",
            "Minister\n",
            "Dickon\n",
            "Mitchell\n",
            "said\n",
            "in\n",
            "a\n",
            "Monday\n",
            "news\n",
            "briefing.\n",
            "“In\n",
            "half\n",
            "an\n",
            "hour,\n",
            "Carriacou\n",
            "was\n",
            "flattened.”\n",
            "\n",
            "Mitchell\n",
            "said\n",
            "there\n",
            "were\n",
            "no\n",
            "immediate\n",
            "reports\n",
            "of\n",
            "death\n",
            "or\n",
            "injury\n",
            "but\n",
            "warned\n",
            "that\n",
            "could\n",
            "change.\n",
            "\n",
            "“You\n",
            "have\n",
            "to\n",
            "appreciate\n",
            "the\n",
            "ferocity\n",
            "and\n",
            "the\n",
            "strength\n",
            "of\n",
            "the\n",
            "hurricane\n",
            "and\n",
            "therefore\n",
            "we\n",
            "are\n",
            "not\n",
            "yet\n",
            "out\n",
            "of\n",
            "the\n",
            "woods,”\n",
            "he\n",
            "said.\n",
            "“And\n",
            "we\n",
            "are\n",
            "not\n",
            "able\n",
            "to\n",
            "say\n",
            "for\n",
            "sure\n",
            "that\n",
            "no\n",
            "one\n",
            "has\n",
            "been\n",
            "injured\n",
            "or\n",
            "there\n",
            "has\n",
            "been\n",
            "no\n",
            "loss\n",
            "of\n",
            "life\n",
            "as\n",
            "a\n",
            "result\n",
            "of\n",
            "the\n",
            "hurricane.”\n",
            "\n",
            "The\n",
            "storm\n",
            "knocked\n",
            "out\n",
            "power\n",
            "across\n",
            "the\n",
            "island\n",
            "chain.\n",
            "About\n",
            "95%\n",
            "of\n",
            "the\n",
            "island\n",
            "of\n",
            "Grenada\n",
            "has\n",
            "lost\n",
            "power\n",
            "due\n",
            "to\n",
            "Hurricane\n",
            "Beryl,\n",
            "Neila\n",
            "K.\n",
            "Ettienne,\n",
            "press\n",
            "secretary\n",
            "for\n",
            "the\n",
            "office\n",
            "of\n",
            "the\n",
            "prime\n",
            "minister,\n",
            "told\n",
            "CNN\n",
            "on\n",
            "Monday.\n",
            "Telecommunications\n",
            "across\n",
            "Grenada\n",
            "are\n",
            "down,\n",
            "and\n",
            "some\n",
            "individuals\n",
            "have\n",
            "lost\n",
            "internet\n",
            "service,\n",
            "Ettienne\n",
            "explained.\n",
            "\n",
            "All\n",
            "schools\n",
            "and\n",
            "business\n",
            "are\n",
            "closed,\n",
            "including\n",
            "the\n",
            "airport,\n",
            "the\n",
            "secretary\n",
            "said,\n",
            "adding\n",
            "only\n",
            "hospitals\n",
            "and\n",
            "the\n",
            "national\n",
            "police\n",
            "force\n",
            "are\n",
            "currently\n",
            "operational.\n",
            "The\n",
            "airport\n",
            "reported\n",
            "a\n",
            "sustained\n",
            "wind\n",
            "speed\n",
            "of\n",
            "92\n",
            "mph\n",
            "and\n",
            "a\n",
            "gust\n",
            "of\n",
            "121\n",
            "mph\n",
            "Monday\n",
            "afternoon,\n",
            "according\n",
            "to\n",
            "the\n",
            "National\n",
            "Hurricane\n",
            "Center.\n",
            "\n",
            "As\n",
            "of\n",
            "Monday\n",
            "evening,\n",
            "the\n",
            "southern\n",
            "Windward\n",
            "Islands\n",
            "are\n",
            "still\n",
            "seeing\n",
            "“tropical\n",
            "storm\n",
            "conditions,\n",
            "dangerous\n",
            "waves,\n",
            "and\n",
            "heavy\n",
            "rainfall,”\n",
            "according\n",
            "to\n",
            "the\n",
            "center.\n",
            "\n"
          ]
        }
      ]
    },
    {
      "cell_type": "code",
      "source": [
        "len(my_list)\n",
        "if my_list == 284 > 5:\n",
        " print(my_list)\n",
        "else:\n",
        " print(my_list)"
      ],
      "metadata": {
        "id": "nhHwhH6dyky0",
        "outputId": "8c848738-769b-4359-eafa-3b3001efa8f1",
        "colab": {
          "base_uri": "https://localhost:8080/"
        }
      },
      "execution_count": 51,
      "outputs": [
        {
          "output_type": "stream",
          "name": "stdout",
          "text": [
            "['\\n', '\\nHurricane', 'Beryl', 'roared', 'across', 'the', 'Windward', 'Islands', 'on', 'Monday', 'as', 'an', 'extremely', 'dangerous', 'Category', '4,', 'delivering', 'catastrophic', 'winds,', 'intense', 'rainfall', 'and', 'life-threatening', 'storm', 'surge.\\n\\nBeryl', 'made', 'landfall', 'shortly', 'after', '11:00', 'a.m.', 'EDT', 'on', 'Grenada’s', 'Carriacou', 'Island', 'in', 'the', 'Caribbean', 'Sea', 'with', 'max', 'winds', 'of', '150', 'mph.', 'It', 'is', 'the', 'strongest', 'known', 'hurricane', 'to', 'pass', 'through', 'the', 'Grenadines,', 'according', 'to', 'data', 'from', 'NOAA', 'that', 'goes', 'back', 'to', '1851.\\n\\nThere', 'were', '“widespread', 'reports', 'of', 'destruction', 'and', 'devastation', 'in', 'Carriacou', 'and', 'Petite', 'Martinique,”', 'Grenada', 'Prime', 'Minister', 'Dickon', 'Mitchell', 'said', 'in', 'a', 'Monday', 'news', 'briefing.', '“In', 'half', 'an', 'hour,', 'Carriacou', 'was', 'flattened.”\\n\\nMitchell', 'said', 'there', 'were', 'no', 'immediate', 'reports', 'of', 'death', 'or', 'injury', 'but', 'warned', 'that', 'could', 'change.\\n\\n“You', 'have', 'to', 'appreciate', 'the', 'ferocity', 'and', 'the', 'strength', 'of', 'the', 'hurricane', 'and', 'therefore', 'we', 'are', 'not', 'yet', 'out', 'of', 'the', 'woods,”', 'he', 'said.', '“And', 'we', 'are', 'not', 'able', 'to', 'say', 'for', 'sure', 'that', 'no', 'one', 'has', 'been', 'injured', 'or', 'there', 'has', 'been', 'no', 'loss', 'of', 'life', 'as', 'a', 'result', 'of', 'the', 'hurricane.”\\n\\nThe', 'storm', 'knocked', 'out', 'power', 'across', 'the', 'island', 'chain.', 'About', '95%', 'of', 'the', 'island', 'of', 'Grenada', 'has', 'lost', 'power', 'due', 'to', 'Hurricane', 'Beryl,', 'Neila', 'K.', 'Ettienne,', 'press', 'secretary', 'for', 'the', 'office', 'of', 'the', 'prime', 'minister,', 'told', 'CNN', 'on', 'Monday.', 'Telecommunications', 'across', 'Grenada', 'are', 'down,', 'and', 'some', 'individuals', 'have', 'lost', 'internet', 'service,', 'Ettienne', 'explained.\\n\\nAll', 'schools', 'and', 'business', 'are', 'closed,', 'including', 'the', 'airport,', 'the', 'secretary', 'said,', 'adding', 'only', 'hospitals', 'and', 'the', 'national', 'police', 'force', 'are', 'currently', 'operational.', 'The', 'airport', 'reported', 'a', 'sustained', 'wind', 'speed', 'of', '92', 'mph', 'and', 'a', 'gust', 'of', '121', 'mph', 'Monday', 'afternoon,', 'according', 'to', 'the', 'National', 'Hurricane', 'Center.\\n\\nAs', 'of', 'Monday', 'evening,', 'the', 'southern', 'Windward', 'Islands', 'are', 'still', 'seeing', '“tropical', 'storm', 'conditions,', 'dangerous', 'waves,', 'and', 'heavy', 'rainfall,”', 'according', 'to', 'the', 'center.\\n']\n"
          ]
        }
      ]
    }
  ]
}