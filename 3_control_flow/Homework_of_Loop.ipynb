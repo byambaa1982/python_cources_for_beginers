{
  "nbformat": 4,
  "nbformat_minor": 0,
  "metadata": {
    "colab": {
      "provenance": [],
      "include_colab_link": true
    },
    "kernelspec": {
      "name": "python3",
      "display_name": "Python 3"
    },
    "language_info": {
      "name": "python"
    }
  },
  "cells": [
    {
      "cell_type": "markdown",
      "metadata": {
        "id": "view-in-github",
        "colab_type": "text"
      },
      "source": [
        "<a href=\"https://colab.research.google.com/github/byambaa1982/python_cources_for_beginers/blob/class_zero_burentugs/3_control_flow/Homework_of_Loop.ipynb\" target=\"_parent\"><img src=\"https://colab.research.google.com/assets/colab-badge.svg\" alt=\"Open In Colab\"/></a>"
      ]
    },
    {
      "cell_type": "code",
      "execution_count": null,
      "metadata": {
        "id": "VY_Of4oQEZyO"
      },
      "outputs": [],
      "source": []
    },
    {
      "cell_type": "markdown",
      "source": [
        "# Task 1:\n",
        "\n",
        "1. Create the List:\n",
        "\n",
        "Create a list named favorite_animals that contains the names of five of your favorite animals.\n",
        "Print the list.\n",
        "2. Use a Loop to Print Each Animal:\n",
        "\n",
        "Use a for loop to print each animal in the list.\n",
        "3. Add Conditions within the Loop:\n",
        "\n",
        "Check if an animal is \"Dog\". If it is, print \"Dogs are very loyal!\" Otherwise, print the animal name normally.\n",
        "Additionally, check if an animal is \"Cat\". If it is, print \"Cats are very independent!\""
      ],
      "metadata": {
        "id": "aueaQf_9EgLd"
      }
    },
    {
      "cell_type": "code",
      "source": [
        "favorite_animals = [\"dog\", \"cat\", \"horse\", \"zebra\", \"elephant\"]\n",
        "for animal in favorite_animals:\n",
        "  print(animal)\n"
      ],
      "metadata": {
        "id": "am5BY_OUGcZe",
        "colab": {
          "base_uri": "https://localhost:8080/"
        },
        "outputId": "0f9c92aa-49df-47d0-dd11-35b69764ccb8"
      },
      "execution_count": 5,
      "outputs": [
        {
          "output_type": "stream",
          "name": "stdout",
          "text": [
            "dog\n",
            "cat\n",
            "horse\n",
            "zebra\n",
            "elephant\n"
          ]
        }
      ]
    },
    {
      "cell_type": "code",
      "source": [
        "for animal in favorite_animals:\n",
        " if animal == \"dog\":\n",
        "  print(f\"{animal} are a man's bestfriend\")\n",
        " elif animal == \"cat\":\n",
        "  print(f\"{animal} are very cautious\")\n",
        " else:\n",
        "  print(f\"{animal} is one of my favorite animals\")"
      ],
      "metadata": {
        "colab": {
          "base_uri": "https://localhost:8080/"
        },
        "id": "b_MkJGvC_ZV2",
        "outputId": "aa93e81c-4aed-4ada-fc89-c984ec2e4e37"
      },
      "execution_count": 8,
      "outputs": [
        {
          "output_type": "stream",
          "name": "stdout",
          "text": [
            "dog are a man's bestfriend\n",
            "cat are very cautious\n",
            "horse is one of my favorite animals\n",
            "zebra is one of my favorite animals\n",
            "elephant is one of my favorite animals\n"
          ]
        }
      ]
    },
    {
      "cell_type": "markdown",
      "source": [
        "# Task 2\n",
        "\n",
        "1. Create the List:\n",
        "\n",
        "Create a list named school_supplies that contains the names of five school supplies.\n",
        "Print the list.\n",
        "2. Use a Loop to Print Each Supply:\n",
        "\n",
        "Use a for loop to print each supply in the list.\n",
        "3. Add Conditions within the Loop:\n",
        "\n",
        "Check if a supply is \"Notebook\". If it is, print \"Don't forget to write your notes!\"\n",
        "Check if a supply is \"Pencil\". If it is, print \"Pencils are essential for writing.\"\n",
        "For any other supply, print the supply name normally."
      ],
      "metadata": {
        "id": "V5n7BC3FGm7e"
      }
    },
    {
      "cell_type": "code",
      "source": [
        "supplies = [\"pencil\", \"marker\", \"sciccors\", \"pen\", \"notebook\"]\n",
        "for supply in supplies:\n",
        " print(supply)"
      ],
      "metadata": {
        "id": "2JJTHVa9Gsq9",
        "colab": {
          "base_uri": "https://localhost:8080/"
        },
        "outputId": "b1bb0c38-5e7e-408f-f098-96601715947a"
      },
      "execution_count": 10,
      "outputs": [
        {
          "output_type": "stream",
          "name": "stdout",
          "text": [
            "pencil\n",
            "marker\n",
            "sciccors\n",
            "pen\n",
            "notebook\n"
          ]
        }
      ]
    },
    {
      "cell_type": "code",
      "source": [
        "for supply in supplies:\n",
        " if supply == \"notebook\":\n",
        "  print(f\"{supply} is where you can store your notes!\")\n",
        " elif supply == \"pencil\":\n",
        "  print(f\"{supply} are used for writing.\")\n",
        " else:\n",
        "  print(f\"{supply} are essential for school.\")"
      ],
      "metadata": {
        "colab": {
          "base_uri": "https://localhost:8080/"
        },
        "id": "gY-cwXRzBmW8",
        "outputId": "c019f5df-1748-4845-9028-0f646373791f"
      },
      "execution_count": 15,
      "outputs": [
        {
          "output_type": "stream",
          "name": "stdout",
          "text": [
            "pencil are used for writing.\n",
            "marker are essential for school.\n",
            "sciccors are essential for school.\n",
            "pen are essential for school.\n",
            "notebook is where you can store your notes!\n"
          ]
        }
      ]
    },
    {
      "cell_type": "code",
      "source": [],
      "metadata": {
        "id": "wSGRmoIkG315"
      },
      "execution_count": null,
      "outputs": []
    },
    {
      "cell_type": "markdown",
      "source": [
        "Task 3"
      ],
      "metadata": {
        "id": "0ujrY_Uh2s4_"
      }
    },
    {
      "cell_type": "code",
      "source": [
        "activities = [\"eating breakfast\", \"exercise\", \"going outside\", \"playing games\", \"doing chores\"]\n",
        "for activity in activities:\n",
        "  print(activity)"
      ],
      "metadata": {
        "id": "Wjis4VY6G_yH",
        "colab": {
          "base_uri": "https://localhost:8080/"
        },
        "outputId": "6ec97efc-e39e-46c5-d985-213baead9b46"
      },
      "execution_count": 22,
      "outputs": [
        {
          "output_type": "stream",
          "name": "stdout",
          "text": [
            "eating breakfast\n",
            "exercise\n",
            "going outside\n",
            "playing games\n",
            "doing chores\n"
          ]
        }
      ]
    },
    {
      "cell_type": "code",
      "source": [
        "for activity in activities:\n",
        "  if activity == \"exercise\":\n",
        "    print(f\"{activity} is very important to stay fit!\")\n",
        "  elif activity == \"eating breakfast\":\n",
        "    print(f\"{activity} is a significant time to eat!\")\n",
        "  else:\n",
        "    print(f\"{activity} are exercises which require movement.\")"
      ],
      "metadata": {
        "id": "Db7BFXzMD0wh",
        "outputId": "133f8fee-4736-457b-ee93-6d4df6764ccd",
        "colab": {
          "base_uri": "https://localhost:8080/"
        }
      },
      "execution_count": 24,
      "outputs": [
        {
          "output_type": "stream",
          "name": "stdout",
          "text": [
            "eating breakfast is a significant time to eat!\n",
            "exercise is very important to stay fit!\n",
            "going outside are exercises which require movement.\n",
            "playing games are exercises which require movement.\n",
            "doing chores are exercises which require movement.\n"
          ]
        }
      ]
    }
  ]
}