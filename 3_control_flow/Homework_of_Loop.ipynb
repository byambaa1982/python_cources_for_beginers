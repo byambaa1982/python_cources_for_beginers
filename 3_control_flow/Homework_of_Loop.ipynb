{
  "nbformat": 4,
  "nbformat_minor": 0,
  "metadata": {
    "colab": {
      "provenance": [],
      "include_colab_link": true
    },
    "kernelspec": {
      "name": "python3",
      "display_name": "Python 3"
    },
    "language_info": {
      "name": "python"
    }
  },
  "cells": [
    {
      "cell_type": "markdown",
      "metadata": {
        "id": "view-in-github",
        "colab_type": "text"
      },
      "source": [
        "<a href=\"https://colab.research.google.com/github/byambaa1982/python_cources_for_beginers/blob/class_zero_burentugs/3_control_flow/Homework_of_Loop.ipynb\" target=\"_parent\"><img src=\"https://colab.research.google.com/assets/colab-badge.svg\" alt=\"Open In Colab\"/></a>"
      ]
    },
    {
      "cell_type": "markdown",
      "source": [
        "# Task 1:\n",
        "\n",
        "1. Create the List:\n",
        "\n",
        "Create a list named favorite_animals that contains the names of five of your favorite animals.\n",
        "Print the list.\n",
        "2. Use a Loop to Print Each Animal:\n",
        "\n",
        "Use a for loop to print each animal in the list.\n",
        "3. Add Conditions within the Loop:\n",
        "\n",
        "Check if an animal is \"Dog\". If it is, print \"Dogs are very loyal!\" Otherwise, print the animal name normally.\n",
        "Additionally, check if an animal is \"Cat\". If it is, print \"Cats are very independent!\""
      ],
      "metadata": {
        "id": "aueaQf_9EgLd"
      }
    },
    {
      "cell_type": "code",
      "source": [
        "favorite_animals = [\"dog\", \"cat\", \"horse\", \"zebra\", \"elephant\"]\n",
        "for animal in favorite_animals:\n",
        "  print(animal)\n"
      ],
      "metadata": {
        "id": "am5BY_OUGcZe",
        "colab": {
          "base_uri": "https://localhost:8080/"
        },
        "outputId": "b38f07e6-ca78-4013-bcfd-6bac1e2bc2e6"
      },
      "execution_count": 6,
      "outputs": [
        {
          "output_type": "stream",
          "name": "stdout",
          "text": [
            "dog\n",
            "cat\n",
            "horse\n",
            "zebra\n",
            "elephant\n"
          ]
        }
      ]
    },
    {
      "cell_type": "code",
      "source": [
        "for animal in favorite_animals:\n",
        " if animal == \"dog\":\n",
        "  print(f\"{animal} are a man's bestfriend\")\n",
        " elif animal == \"cat\":\n",
        "  print(f\"{animal} are very cautious\")\n",
        " else:\n",
        "  print(f\"{animal} is one of my favorite animals\")"
      ],
      "metadata": {
        "colab": {
          "base_uri": "https://localhost:8080/"
        },
        "id": "b_MkJGvC_ZV2",
        "outputId": "c2851fea-7f95-418f-9ddb-b4897c1edf60"
      },
      "execution_count": 7,
      "outputs": [
        {
          "output_type": "stream",
          "name": "stdout",
          "text": [
            "dog are a man's bestfriend\n",
            "cat are very cautious\n",
            "horse is one of my favorite animals\n",
            "zebra is one of my favorite animals\n",
            "elephant is one of my favorite animals\n"
          ]
        }
      ]
    },
    {
      "cell_type": "markdown",
      "source": [
        "# Task 2\n",
        "\n",
        "1. Create the List:\n",
        "\n",
        "Create a list named school_supplies that contains the names of five school supplies.\n",
        "Print the list.\n",
        "2. Use a Loop to Print Each Supply:\n",
        "\n",
        "Use a for loop to print each supply in the list.\n",
        "3. Add Conditions within the Loop:\n",
        "\n",
        "Check if a supply is \"Notebook\". If it is, print \"Don't forget to write your notes!\"\n",
        "Check if a supply is \"Pencil\". If it is, print \"Pencils are essential for writing.\"\n",
        "For any other supply, print the supply name normally."
      ],
      "metadata": {
        "id": "V5n7BC3FGm7e"
      }
    },
    {
      "cell_type": "code",
      "source": [
        "supplies = [\"pencil\", \"marker\", \"sciccors\", \"pen\", \"notebook\"]\n",
        "for supply in supplies:\n",
        " print(supply)"
      ],
      "metadata": {
        "id": "2JJTHVa9Gsq9",
        "colab": {
          "base_uri": "https://localhost:8080/"
        },
        "outputId": "b1bb0c38-5e7e-408f-f098-96601715947a"
      },
      "execution_count": null,
      "outputs": [
        {
          "output_type": "stream",
          "name": "stdout",
          "text": [
            "pencil\n",
            "marker\n",
            "sciccors\n",
            "pen\n",
            "notebook\n"
          ]
        }
      ]
    },
    {
      "cell_type": "code",
      "source": [
        "for supply in supplies:\n",
        " if supply == \"notebook\":\n",
        "  print(f\"{supply} is where you can store your notes!\")\n",
        " elif supply == \"pencil\":\n",
        "  print(f\"{supply} are used for writing.\")\n",
        " else:\n",
        "  print(f\"{supply} are essential for school.\")"
      ],
      "metadata": {
        "colab": {
          "base_uri": "https://localhost:8080/"
        },
        "id": "gY-cwXRzBmW8",
        "outputId": "c019f5df-1748-4845-9028-0f646373791f"
      },
      "execution_count": null,
      "outputs": [
        {
          "output_type": "stream",
          "name": "stdout",
          "text": [
            "pencil are used for writing.\n",
            "marker are essential for school.\n",
            "sciccors are essential for school.\n",
            "pen are essential for school.\n",
            "notebook is where you can store your notes!\n"
          ]
        }
      ]
    },
    {
      "cell_type": "markdown",
      "source": [
        "Task 3"
      ],
      "metadata": {
        "id": "0ujrY_Uh2s4_"
      }
    },
    {
      "cell_type": "code",
      "source": [
        "activities = [\"eating breakfast\", \"exercise\", \"going outside\", \"playing games\", \"doing chores\"]\n",
        "for activity in activities:\n",
        "  print(activity)"
      ],
      "metadata": {
        "id": "Wjis4VY6G_yH",
        "colab": {
          "base_uri": "https://localhost:8080/"
        },
        "outputId": "c1809835-1584-4bcd-c8cb-acebbbdd3f07"
      },
      "execution_count": 19,
      "outputs": [
        {
          "output_type": "stream",
          "name": "stdout",
          "text": [
            "eating breakfast\n",
            "exercise\n",
            "going outside\n",
            "playing games\n",
            "doing chores\n"
          ]
        }
      ]
    },
    {
      "cell_type": "code",
      "source": [
        "for activity in activities:\n",
        "  if activity == \"exercise\":\n",
        "    print(f\"{activity} is very important to stay fit!\")\n",
        "  elif activity == \"eating breakfast\":\n",
        "    print(f\"{activity} is a significant time to eat!\")\n",
        "  else:\n",
        "    print(f\"{activity} are exercises which require movement.\")"
      ],
      "metadata": {
        "id": "Db7BFXzMD0wh",
        "outputId": "ddc532c8-9591-4c41-dcaa-32c1112fa408",
        "colab": {
          "base_uri": "https://localhost:8080/"
        }
      },
      "execution_count": 24,
      "outputs": [
        {
          "output_type": "stream",
          "name": "stdout",
          "text": [
            "eating breakfast is a significant time to eat!\n",
            "exercise is very important to stay fit!\n",
            "going outside are exercises which require movement.\n",
            "playing games are exercises which require movement.\n",
            "doing chores are exercises which require movement.\n"
          ]
        }
      ]
    },
    {
      "cell_type": "code",
      "source": [
        "activities = [\"eating breakfast\", \"exercise\", \"going outside\", \"playing games\", \"doing chores\"]\n",
        "my_favorite_activities = [\"playing football\", \"play\", \"watching TV\", \"riding my bicycle\", \"eat\"]\n",
        "for activity in activities:\n",
        "  my_favorite_activities.append(activity)"
      ],
      "metadata": {
        "id": "wSGRmoIkG315"
      },
      "execution_count": 25,
      "outputs": []
    },
    {
      "cell_type": "code",
      "source": [
        "num = [1, 2, 3, 4, 5, 6, 7, 8, 9, 10, 11, 12, 13, 14, 15, 16]\n",
        "even = [2, 4, 6, 8, 10]\n",
        "odd = [1, 3, 5, 7, 9]"
      ],
      "metadata": {
        "id": "r8iZrOotrY9W"
      },
      "execution_count": null,
      "outputs": []
    },
    {
      "cell_type": "code",
      "source": [
        "num = []\n",
        "for i in range(1, 21):\n",
        "  num.append(i)\n",
        "print(num)"
      ],
      "metadata": {
        "colab": {
          "base_uri": "https://localhost:8080/"
        },
        "id": "UZahpzBStsJt",
        "outputId": "2d3a3dca-7573-4f58-9dde-4e33a9f283d4"
      },
      "execution_count": 15,
      "outputs": [
        {
          "output_type": "stream",
          "name": "stdout",
          "text": [
            "[1, 2, 3, 4, 5, 6, 7, 8, 9, 10, 11, 12, 13, 14, 15, 16, 17, 18, 19, 20]\n"
          ]
        }
      ]
    },
    {
      "cell_type": "code",
      "source": [
        "for i in range(1, 20):\n",
        " if i % 2 == 0:\n",
        "  print(i)"
      ],
      "metadata": {
        "colab": {
          "base_uri": "https://localhost:8080/"
        },
        "id": "LCi507sQt8LS",
        "outputId": "ddcf62a7-aaeb-478f-c8af-39659b92206d"
      },
      "execution_count": 16,
      "outputs": [
        {
          "output_type": "stream",
          "name": "stdout",
          "text": [
            "2\n",
            "4\n",
            "6\n",
            "8\n",
            "10\n",
            "12\n",
            "14\n",
            "16\n",
            "18\n"
          ]
        }
      ]
    },
    {
      "cell_type": "code",
      "source": [
        "for i in range (1, 20):\n",
        "  if i % 2 == 0:\n",
        "    print(f\"{i} is an even number\")\n",
        "    print(f\"{i*2}\")\n",
        "  else:\n",
        "    print(f\"{i} is an odd number\")\n",
        "    print(f\"{i*5}\")"
      ],
      "metadata": {
        "colab": {
          "base_uri": "https://localhost:8080/"
        },
        "id": "h6FA1hqOuQpy",
        "outputId": "c82a16e5-2d37-4623-b134-29c5c25fffba"
      },
      "execution_count": 29,
      "outputs": [
        {
          "output_type": "stream",
          "name": "stdout",
          "text": [
            "1 is an odd number\n",
            "5\n",
            "2 is an even number\n",
            "4\n",
            "3 is an odd number\n",
            "15\n",
            "4 is an even number\n",
            "8\n",
            "5 is an odd number\n",
            "25\n",
            "6 is an even number\n",
            "12\n",
            "7 is an odd number\n",
            "35\n",
            "8 is an even number\n",
            "16\n",
            "9 is an odd number\n",
            "45\n",
            "10 is an even number\n",
            "20\n",
            "11 is an odd number\n",
            "55\n",
            "12 is an even number\n",
            "24\n",
            "13 is an odd number\n",
            "65\n",
            "14 is an even number\n",
            "28\n",
            "15 is an odd number\n",
            "75\n",
            "16 is an even number\n",
            "32\n",
            "17 is an odd number\n",
            "85\n",
            "18 is an even number\n",
            "36\n",
            "19 is an odd number\n",
            "95\n"
          ]
        }
      ]
    }
  ]
}