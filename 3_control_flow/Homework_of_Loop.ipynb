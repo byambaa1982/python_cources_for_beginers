{
  "nbformat": 4,
  "nbformat_minor": 0,
  "metadata": {
    "colab": {
      "provenance": [],
      "include_colab_link": true
    },
    "kernelspec": {
      "name": "python3",
      "display_name": "Python 3"
    },
    "language_info": {
      "name": "python"
    }
  },
  "cells": [
    {
      "cell_type": "markdown",
      "metadata": {
        "id": "view-in-github",
        "colab_type": "text"
      },
      "source": [
        "<a href=\"https://colab.research.google.com/github/byambaa1982/python_cources_for_beginers/blob/class_zero_urangoo/3_control_flow/Homework_of_Loop.ipynb\" target=\"_parent\"><img src=\"https://colab.research.google.com/assets/colab-badge.svg\" alt=\"Open In Colab\"/></a>"
      ]
    },
    {
      "cell_type": "code",
      "execution_count": null,
      "metadata": {
        "id": "VY_Of4oQEZyO"
      },
      "outputs": [],
      "source": []
    },
    {
      "cell_type": "markdown",
      "source": [
        "# Task 1:\n",
        "\n",
        "1. Create the List:\n",
        "\n",
        "Create a list named favorite_animals that contains the names of five of your favorite animals.\n",
        "Print the list.\n",
        "2. Use a Loop to Print Each Animal:\n",
        "\n",
        "Use a for loop to print each animal in the list.\n",
        "3. Add Conditions within the Loop:\n",
        "\n",
        "Check if an animal is \"Dog\". If it is, print \"Dogs are very loyal!\" Otherwise, print the animal name normally.\n",
        "Additionally, check if an animal is \"Cat\". If it is, print \"Cats are very independent!\""
      ],
      "metadata": {
        "id": "aueaQf_9EgLd"
      }
    },
    {
      "cell_type": "code",
      "source": [
        "movies = [\"20th century girl\", \"Edward Scissorhands\", \"Corpse Bride\"]"
      ],
      "metadata": {
        "id": "am5BY_OUGcZe"
      },
      "execution_count": 51,
      "outputs": []
    },
    {
      "cell_type": "code",
      "source": [
        "for movie in movies:\n",
        "  print(movie)"
      ],
      "metadata": {
        "colab": {
          "base_uri": "https://localhost:8080/"
        },
        "id": "NSLkJFwe6DKQ",
        "outputId": "6109b161-4fe0-4a60-bd22-d4a64f8d970d"
      },
      "execution_count": 52,
      "outputs": [
        {
          "output_type": "stream",
          "name": "stdout",
          "text": [
            "20th century girl\n",
            "Edward Scissorhands\n",
            "Corpse Bride\n"
          ]
        }
      ]
    },
    {
      "cell_type": "code",
      "source": [
        "for movie in movies:\n",
        "  if movie == \"Corpse Bride\":\n",
        "    print(\"Cropse Bride is a movie made by Tim Burton\")\n",
        "  if movie == \"20th century girl\":\n",
        "    print(\"20th century is a very sad movies\")"
      ],
      "metadata": {
        "colab": {
          "base_uri": "https://localhost:8080/"
        },
        "id": "64zwpnYY_GX9",
        "outputId": "72ea4864-7c1c-40cf-d6eb-b282a375ad83"
      },
      "execution_count": 54,
      "outputs": [
        {
          "output_type": "stream",
          "name": "stdout",
          "text": [
            "20th century is a very sad movies\n",
            "Cropse Bride is a movie made by Tim Burton\n"
          ]
        }
      ]
    },
    {
      "cell_type": "markdown",
      "source": [
        "# Task 2\n",
        "\n",
        "1. Create the List:\n",
        "\n",
        "Create a list named school_supplies that contains the names of five school supplies.\n",
        "Print the list.\n",
        "2. Use a Loop to Print Each Supply:\n",
        "\n",
        "Use a for loop to print each supply in the list.\n",
        "3. Add Conditions within the Loop:\n",
        "\n",
        "Check if a supply is \"Notebook\". If it is, print \"Don't forget to write your notes!\"\n",
        "Check if a supply is \"Pencil\". If it is, print \"Pencils are essential for writing.\"\n",
        "For any other supply, print the supply name normally."
      ],
      "metadata": {
        "id": "V5n7BC3FGm7e"
      }
    },
    {
      "cell_type": "code",
      "source": [
        "school_supplies = [\"pencil\", \"pen\", \"notebook\", \"folder\", \"books\"]"
      ],
      "metadata": {
        "id": "2JJTHVa9Gsq9"
      },
      "execution_count": 58,
      "outputs": []
    },
    {
      "cell_type": "code",
      "source": [
        "for supplies in school_supplies:\n",
        "  print(supplies)"
      ],
      "metadata": {
        "id": "wSGRmoIkG315",
        "colab": {
          "base_uri": "https://localhost:8080/"
        },
        "outputId": "6fff6282-2356-46eb-951f-8e08c4da921e"
      },
      "execution_count": 59,
      "outputs": [
        {
          "output_type": "stream",
          "name": "stdout",
          "text": [
            "pencil\n",
            "pen\n",
            "notebook\n",
            "folder\n",
            "books\n"
          ]
        }
      ]
    },
    {
      "cell_type": "code",
      "source": [
        "for supplies in school_supplies:\n",
        "  if supplies == \"pencil\":\n",
        "    print(\"pencils are very useful in class\")\n",
        "  if supplies == \"folder\":\n",
        "      print(\"folders are very useful when storing papers\")"
      ],
      "metadata": {
        "colab": {
          "base_uri": "https://localhost:8080/"
        },
        "id": "v_gyisDeB0i0",
        "outputId": "f61d46ec-d41a-4bca-9560-4ceeef57c60d"
      },
      "execution_count": 61,
      "outputs": [
        {
          "output_type": "stream",
          "name": "stdout",
          "text": [
            "pencils are very useful in class\n",
            "folders are very useful when storing papers\n"
          ]
        }
      ]
    },
    {
      "cell_type": "markdown",
      "source": [
        "# Task 3\n",
        "\n",
        "1. Create the List:\n",
        "\n",
        "Create a list named daily_activities that contains the names of five activities you do in a day.\n",
        "Print the list.\n",
        "2. Use a Loop to Print Each Activity:\n",
        "\n",
        "Use a for loop to print each activity in the list.\n",
        "3. Add Conditions within the Loop:\n",
        "\n",
        "Check if an activity is \"Homework\". If it is, print \"Make sure to finish your homework on time!\"\n",
        "Check if an activity is \"Exercise\". If it is, print \"Stay fit and healthy!\"\n",
        "For any other activity, print the activity name normally."
      ],
      "metadata": {
        "id": "CIjjqVj8G5oH"
      }
    },
    {
      "cell_type": "code",
      "source": [],
      "metadata": {
        "id": "Wjis4VY6G_yH"
      },
      "execution_count": null,
      "outputs": []
    }
  ]
}