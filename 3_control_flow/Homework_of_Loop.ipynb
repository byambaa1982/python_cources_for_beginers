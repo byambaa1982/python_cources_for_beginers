{
  "nbformat": 4,
  "nbformat_minor": 0,
  "metadata": {
    "colab": {
      "provenance": [],
      "include_colab_link": true
    },
    "kernelspec": {
      "name": "python3",
      "display_name": "Python 3"
    },
    "language_info": {
      "name": "python"
    }
  },
  "cells": [
    {
      "cell_type": "markdown",
      "metadata": {
        "id": "view-in-github",
        "colab_type": "text"
      },
      "source": [
        "<a href=\"https://colab.research.google.com/github/byambaa1982/python_cources_for_beginers/blob/class_zero_tuggy/3_control_flow/Homework_of_Loop.ipynb\" target=\"_parent\"><img src=\"https://colab.research.google.com/assets/colab-badge.svg\" alt=\"Open In Colab\"/></a>"
      ]
    },
    {
      "cell_type": "code",
      "execution_count": null,
      "metadata": {
        "id": "VY_Of4oQEZyO"
      },
      "outputs": [],
      "source": []
    },
    {
      "cell_type": "code",
      "source": [],
      "metadata": {
        "id": "h8g-1v1jjWi2"
      },
      "execution_count": null,
      "outputs": []
    },
    {
      "cell_type": "code",
      "source": [
        "movies = [\"20th century girl\", \"Edward Scissorhands\", \"Corpse Bride\"]"
      ],
      "metadata": {
        "id": "am5BY_OUGcZe"
      },
      "execution_count": null,
      "outputs": []
    },
    {
      "cell_type": "code",
      "source": [
        "for movie in movies:\n",
        "  print(movie)"
      ],
      "metadata": {
        "colab": {
          "base_uri": "https://localhost:8080/"
        },
        "id": "NSLkJFwe6DKQ",
        "outputId": "6109b161-4fe0-4a60-bd22-d4a64f8d970d"
      },
      "execution_count": null,
      "outputs": [
        {
          "output_type": "stream",
          "name": "stdout",
          "text": [
            "20th century girl\n",
            "Edward Scissorhands\n",
            "Corpse Bride\n"
          ]
        }
      ]
    },
    {
      "cell_type": "code",
      "source": [
        "for movie in movies:\n",
        "  if movie == \"Corpse Bride\":\n",
        "    print(\"Cropse Bride is a movie made by Tim Burton\")\n",
        "  if movie == \"20th century girl\":\n",
        "    print(\"20th century is a very sad movies\")\n"
      ],
      "metadata": {
        "colab": {
          "base_uri": "https://localhost:8080/"
        },
        "id": "64zwpnYY_GX9",
        "outputId": "72ea4864-7c1c-40cf-d6eb-b282a375ad83"
      },
      "execution_count": null,
      "outputs": [
        {
          "output_type": "stream",
          "name": "stdout",
          "text": [
            "20th century is a very sad movies\n",
            "Cropse Bride is a movie made by Tim Burton\n"
          ]
        }
      ]
    },
    {
      "cell_type": "code",
      "source": [
        "for movie in movies:\n",
        "  if movie == \"Corpse Bride\":\n",
        "    print(f' {movie.title()} a movie made by Tim Burton')\n",
        "  if movie == \"20th century girl\":\n",
        "    print(f' {movie.title()}is a very sad movies')\n",
        "  else:\n",
        "    print(f' {movie.title()} are really good movies')"
      ],
      "metadata": {
        "id": "hoKZc4fzJy7t",
        "outputId": "9d21e8d0-4ee3-4b8f-aaac-12e1602c4bb9",
        "colab": {
          "base_uri": "https://localhost:8080/"
        }
      },
      "execution_count": null,
      "outputs": [
        {
          "output_type": "stream",
          "name": "stdout",
          "text": [
            " 20Th Century Girlis a very sad movies\n",
            " Edward Scissorhands are really good movies\n",
            " Corpse Bride a movie made by Tim Burton\n",
            " Corpse Bride are really good movies\n"
          ]
        }
      ]
    },
    {
      "cell_type": "markdown",
      "source": [
        "# Task 2\n",
        "\n",
        "1. Create the List:\n",
        "\n",
        "Create a list named school_supplies that contains the names of five school supplies.\n",
        "Print the list.\n",
        "2. Use a Loop to Print Each Supply:\n",
        "\n",
        "Use a for loop to print each supply in the list.\n",
        "3. Add Conditions within the Loop:\n",
        "\n",
        "Check if a supply is \"Notebook\". If it is, print \"Don't forget to write your notes!\"\n",
        "Check if a supply is \"Pencil\". If it is, print \"Pencils are essential for writing.\"\n",
        "For any other supply, print the supply name normally."
      ],
      "metadata": {
        "id": "V5n7BC3FGm7e"
      }
    },
    {
      "cell_type": "code",
      "source": [
        "school_supplies = [\"pencil\", \"pen\", \"notebook\", \"folder\", \"books\"]"
      ],
      "metadata": {
        "id": "2JJTHVa9Gsq9"
      },
      "execution_count": null,
      "outputs": []
    },
    {
      "cell_type": "code",
      "source": [
        "for supplies in school_supplies:\n",
        "  print(supplies)"
      ],
      "metadata": {
        "id": "wSGRmoIkG315",
        "colab": {
          "base_uri": "https://localhost:8080/"
        },
        "outputId": "6fff6282-2356-46eb-951f-8e08c4da921e"
      },
      "execution_count": null,
      "outputs": [
        {
          "output_type": "stream",
          "name": "stdout",
          "text": [
            "pencil\n",
            "pen\n",
            "notebook\n",
            "folder\n",
            "books\n"
          ]
        }
      ]
    },
    {
      "cell_type": "code",
      "source": [
        "for supplies in school_supplies:\n",
        "  if supplies == \"pencil\":\n",
        "    print(\"pencils are very useful in class\")\n",
        "  if supplies == \"folder\":\n",
        "      print(\"folders are very useful when storing papers\")\n",
        "  else:\n",
        "      print(supplies)"
      ],
      "metadata": {
        "colab": {
          "base_uri": "https://localhost:8080/"
        },
        "id": "v_gyisDeB0i0",
        "outputId": "65205d99-6203-4446-88bd-b24295544bbe"
      },
      "execution_count": null,
      "outputs": [
        {
          "output_type": "stream",
          "name": "stdout",
          "text": [
            "pencils are very useful in class\n",
            "pencil\n",
            "pen\n",
            "notebook\n",
            "folders are very useful when storing papers\n",
            "books\n"
          ]
        }
      ]
    },
    {
      "cell_type": "code",
      "source": [
        "for supplies in school_supplies:\n",
        "  if supplies == \"pencil\":\n",
        "    print(f' {supplies.title()} are very useful in class')\n",
        "  if supplies == \"folder\":\n",
        "      print(f' {supplies.title()} are very useful when storing papers')\n",
        "  else:\n",
        "      print(f' {supplies.title()} are very useful in class')"
      ],
      "metadata": {
        "id": "VRHDWdpUIgtc",
        "outputId": "a637fe3f-54c3-403b-c14d-08961ee11df0",
        "colab": {
          "base_uri": "https://localhost:8080/"
        }
      },
      "execution_count": null,
      "outputs": [
        {
          "output_type": "stream",
          "name": "stdout",
          "text": [
            " Pencil are very useful in class\n",
            " Pencil are very useful in class\n",
            " Pen are very useful in class\n",
            " Notebook are very useful in class\n",
            " Folder are very useful when storing papers\n",
            " Books are very useful in class\n"
          ]
        }
      ]
    },
    {
      "cell_type": "markdown",
      "source": [
        "# Task 3\n",
        "\n",
        "1. Create the List:\n",
        "\n",
        "Create a list named daily_activities that contains the names of five activities you do in a day.\n",
        "Print the list.\n",
        "2. Use a Loop to Print Each Activity:\n",
        "\n",
        "Use a for loop to print each activity in the list.\n",
        "3. Add Conditions within the Loop:\n",
        "\n",
        "Check if an activity is \"Homework\". If it is, print \"Make sure to finish your homework on time!\"\n",
        "Check if an activity is \"Exercise\". If it is, print \"Stay fit and healthy!\"\n",
        "For any other activity, print the activity name normally."
      ],
      "metadata": {
        "id": "CIjjqVj8G5oH"
      }
    },
    {
      "cell_type": "code",
      "source": [
        "daily_activities = [\"sleep\", \"eat\", \"walk\", \"read\"]"
      ],
      "metadata": {
        "id": "Wjis4VY6G_yH"
      },
      "execution_count": null,
      "outputs": []
    },
    {
      "cell_type": "code",
      "source": [
        "for activities in daily_activities:\n",
        "    print(activities)"
      ],
      "metadata": {
        "colab": {
          "base_uri": "https://localhost:8080/"
        },
        "id": "8j8rjEgiEMQg",
        "outputId": "bbfb4dcf-6fc8-4960-d1a9-22cfad49a923"
      },
      "execution_count": null,
      "outputs": [
        {
          "output_type": "stream",
          "name": "stdout",
          "text": [
            "sleep\n",
            "eat\n",
            "walk\n",
            "read\n"
          ]
        }
      ]
    },
    {
      "cell_type": "code",
      "source": [
        "for activities in daily_activities:\n",
        "  if activities == \"sleep\":\n",
        "      print(\"sleep is very important for a human to function.\")\n",
        "  if activities == \"eat\":\n",
        "      print(\"eating is also very important for the human so they can get the nutrients that they need.\")\n",
        "  else:\n",
        "      print(activities)"
      ],
      "metadata": {
        "colab": {
          "base_uri": "https://localhost:8080/"
        },
        "id": "fjALbAuPEgiQ",
        "outputId": "379ed8b7-32f9-46f0-c1bb-46c771192877"
      },
      "execution_count": null,
      "outputs": [
        {
          "output_type": "stream",
          "name": "stdout",
          "text": [
            "sleep is very important for a human to function.\n",
            "sleep\n",
            "eating is also very important for the human so they can get the nutrients that they need.\n",
            "walk\n",
            "read\n"
          ]
        }
      ]
    },
    {
      "cell_type": "code",
      "source": [
        " for activities in daily_activities:\n",
        "  if activities == \"sleep\":\n",
        "      print(f'{activities.title()} is very important for a human to function.')\n",
        "  if activities == \"eat\":\n",
        "      print(f' {activities.title()} is also very important for the human so they can get the nutrients that they need.')\n",
        "  else:\n",
        "      print(f' {activities.title()} is a daily activite')"
      ],
      "metadata": {
        "id": "Jn6WLbHRGw82",
        "outputId": "9b1e5dce-f90d-453f-967d-fc541c696678",
        "colab": {
          "base_uri": "https://localhost:8080/"
        }
      },
      "execution_count": null,
      "outputs": [
        {
          "output_type": "stream",
          "name": "stdout",
          "text": [
            "Sleep is very important for a human to function.\n",
            " Sleep is a daily activite\n",
            " Eat is also very important for the human so they can get the nutrients that they need.\n",
            " Walk is a daily activite\n",
            " Read is a daily activite\n"
          ]
        }
      ]
    },
    {
      "cell_type": "code",
      "source": [
        "my_favortite_activity = [\"volleyball\", \"basketball\", \"gym\", \"fishing\", \"swimming\"]\n",
        "daily_activities = [\"sleep\", \"eat\", \"walk\", \"read\"]\n",
        "for activity in my_favortite_activity:\n",
        "  daily_activities.append(activity)"
      ],
      "metadata": {
        "id": "e1iW_dwpjY0b"
      },
      "execution_count": 8,
      "outputs": []
    },
    {
      "cell_type": "code",
      "source": [
        "my_favortite_activity = [\"volleyball\", \"basketball\", \"gym\", \"fishing\", \"swimming\"]\n",
        "daily_activities = [\"sleep\", \"eat\", \"walk\", \"read\"]\n",
        "# only volleyball and basketball\n",
        "for activity in my_favortite_activity:\n",
        "  daily_activities.append(activity)\n",
        "  if activity == \"volleyball\":\n",
        "    daily_activities.append(activity)\n",
        "  elif activity == \"gym\":\n",
        "    daily_activities.append(activity)\n",
        "print(daily_activities)"
      ],
      "metadata": {
        "colab": {
          "base_uri": "https://localhost:8080/"
        },
        "id": "KsGg5YgJmM71",
        "outputId": "58370d83-7b81-409a-ab3e-3c7bdd46e5e0"
      },
      "execution_count": 17,
      "outputs": [
        {
          "output_type": "stream",
          "name": "stdout",
          "text": [
            "['sleep', 'eat', 'walk', 'read', 'volleyball', 'volleyball', 'basketball', 'gym', 'gym', 'fishing', 'swimming']\n"
          ]
        }
      ]
    },
    {
      "cell_type": "code",
      "source": [
        "number = [1, 2, 3, 4, 5, 6, 7, 8, 9, 10, 11, 12, 13, 14, 15, 16, 17, 18, 19, 20]\n",
        "even = [2, 4, 6, 8, 10, 12, 14, 16, 18, 20]\n",
        "odd = []\n",
        "\n",
        "for i in number:\n",
        "  if i not in even:\n",
        "    odd.append(i)\n",
        "  else:\n",
        "    print(f\"{i} not odd number\")\n",
        "\n",
        "print(odd)"
      ],
      "metadata": {
        "id": "3gJKC-93qGq4",
        "outputId": "94f46a97-32da-41f6-ace2-fd5a0da73369",
        "colab": {
          "base_uri": "https://localhost:8080/"
        }
      },
      "execution_count": 25,
      "outputs": [
        {
          "output_type": "stream",
          "name": "stdout",
          "text": [
            "2 not odd number\n",
            "4 not odd number\n",
            "6 not odd number\n",
            "8 not odd number\n",
            "10 not odd number\n",
            "12 not odd number\n",
            "14 not odd number\n",
            "16 not odd number\n",
            "18 not odd number\n",
            "20 not odd number\n",
            "[1, 3, 5, 7, 9, 11, 13, 15, 17, 19]\n"
          ]
        }
      ]
    },
    {
      "cell_type": "code",
      "source": [
        "number = []\n",
        "for i in range(1, 20):\n",
        "  number.append(i)\n",
        "print(number)"
      ],
      "metadata": {
        "id": "8hnCBK6mstHX",
        "outputId": "54db8d5b-cad3-4f08-a6e4-afd2760ba077",
        "colab": {
          "base_uri": "https://localhost:8080/"
        }
      },
      "execution_count": 29,
      "outputs": [
        {
          "output_type": "stream",
          "name": "stdout",
          "text": [
            "[1, 2, 3, 4, 5, 6, 7, 8, 9, 10, 11, 12, 13, 14, 15, 16, 17, 18, 19]\n"
          ]
        }
      ]
    },
    {
      "cell_type": "code",
      "source": [
        "for i in range(1, 20):\n",
        "  if i%2 ==0:\n",
        "    print(i)"
      ],
      "metadata": {
        "id": "LfUCz972tYJP",
        "outputId": "b6c889ba-79f4-4501-bb6d-ef1c041bbc1f",
        "colab": {
          "base_uri": "https://localhost:8080/"
        }
      },
      "execution_count": 30,
      "outputs": [
        {
          "output_type": "stream",
          "name": "stdout",
          "text": [
            "2\n",
            "4\n",
            "6\n",
            "8\n",
            "10\n",
            "12\n",
            "14\n",
            "16\n",
            "18\n"
          ]
        }
      ]
    }
  ]
}