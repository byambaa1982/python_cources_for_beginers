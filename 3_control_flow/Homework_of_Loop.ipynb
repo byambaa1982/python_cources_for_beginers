{
  "nbformat": 4,
  "nbformat_minor": 0,
  "metadata": {
    "colab": {
      "provenance": [],
      "include_colab_link": true
    },
    "kernelspec": {
      "name": "python3",
      "display_name": "Python 3"
    },
    "language_info": {
      "name": "python"
    }
  },
  "cells": [
    {
      "cell_type": "markdown",
      "metadata": {
        "id": "view-in-github",
        "colab_type": "text"
      },
      "source": [
        "<a href=\"https://colab.research.google.com/github/byambaa1982/python_cources_for_beginers/blob/class_zero_burentugs/3_control_flow/Homework_of_Loop.ipynb\" target=\"_parent\"><img src=\"https://colab.research.google.com/assets/colab-badge.svg\" alt=\"Open In Colab\"/></a>"
      ]
    },
    {
      "cell_type": "code",
      "execution_count": null,
      "metadata": {
        "id": "VY_Of4oQEZyO"
      },
      "outputs": [],
      "source": []
    },
    {
      "cell_type": "markdown",
      "source": [
        "# Task 1:\n",
        "\n",
        "1. Create the List:\n",
        "\n",
        "Create a list named favorite_animals that contains the names of five of your favorite animals.\n",
        "Print the list.\n",
        "2. Use a Loop to Print Each Animal:\n",
        "\n",
        "Use a for loop to print each animal in the list.\n",
        "3. Add Conditions within the Loop:\n",
        "\n",
        "Check if an animal is \"Dog\". If it is, print \"Dogs are very loyal!\" Otherwise, print the animal name normally.\n",
        "Additionally, check if an animal is \"Cat\". If it is, print \"Cats are very independent!\""
      ],
      "metadata": {
        "id": "aueaQf_9EgLd"
      }
    },
    {
      "cell_type": "code",
      "source": [
        "favorite_animals = [\"dog\", \"cat\", \"horse\", \"zebra\", \"elephant\"]\n",
        "for animal in favorite_animals:\n",
        "  print(animal)\n"
      ],
      "metadata": {
        "id": "am5BY_OUGcZe",
        "colab": {
          "base_uri": "https://localhost:8080/"
        },
        "outputId": "6c7bab20-fa06-4a77-dc53-9b7e2b4edf9b"
      },
      "execution_count": 5,
      "outputs": [
        {
          "output_type": "stream",
          "name": "stdout",
          "text": [
            "dog\n",
            "cat\n",
            "horse\n",
            "zebra\n",
            "elephant\n"
          ]
        }
      ]
    },
    {
      "cell_type": "code",
      "source": [
        "for animal in favorite_animals:\n",
        " if animal == \"dog\":\n",
        "  print(\"dogs are a man's bestfriend\")\n",
        " if animal == \"cat\":\n",
        "  print(\"cats are very independent\")"
      ],
      "metadata": {
        "colab": {
          "base_uri": "https://localhost:8080/"
        },
        "id": "b_MkJGvC_ZV2",
        "outputId": "fba67ba2-9dbf-49df-c2aa-4f5d9f811cf3"
      },
      "execution_count": 11,
      "outputs": [
        {
          "output_type": "stream",
          "name": "stdout",
          "text": [
            "dogs are a man's bestfriend\n",
            "cats are very independent\n"
          ]
        }
      ]
    },
    {
      "cell_type": "markdown",
      "source": [
        "# Task 2\n",
        "\n",
        "1. Create the List:\n",
        "\n",
        "Create a list named school_supplies that contains the names of five school supplies.\n",
        "Print the list.\n",
        "2. Use a Loop to Print Each Supply:\n",
        "\n",
        "Use a for loop to print each supply in the list.\n",
        "3. Add Conditions within the Loop:\n",
        "\n",
        "Check if a supply is \"Notebook\". If it is, print \"Don't forget to write your notes!\"\n",
        "Check if a supply is \"Pencil\". If it is, print \"Pencils are essential for writing.\"\n",
        "For any other supply, print the supply name normally."
      ],
      "metadata": {
        "id": "V5n7BC3FGm7e"
      }
    },
    {
      "cell_type": "code",
      "source": [
        "supplies = [\"pencil\", \"marker\", \"sciccors\", \"pen\", \"notebook\"]\n",
        "for supply in supplies:\n",
        " print(supply)"
      ],
      "metadata": {
        "id": "2JJTHVa9Gsq9",
        "colab": {
          "base_uri": "https://localhost:8080/"
        },
        "outputId": "4cd3ee9c-9da6-4cb5-c718-ea5443ba378a"
      },
      "execution_count": 15,
      "outputs": [
        {
          "output_type": "stream",
          "name": "stdout",
          "text": [
            "pencil\n",
            "marker\n",
            "sciccors\n",
            "pen\n",
            "notebook\n"
          ]
        }
      ]
    },
    {
      "cell_type": "code",
      "source": [
        "for supply in supplies:\n",
        " if supply == \"notebook\":\n",
        "  print(\"Don't forget to write your notes!\")\n",
        " if supply == \"pencil\":\n",
        "  print(\"Pencils are essential for writing.\")\n",
        " else:\n",
        "  print(supply)"
      ],
      "metadata": {
        "colab": {
          "base_uri": "https://localhost:8080/"
        },
        "id": "gY-cwXRzBmW8",
        "outputId": "08cc0df8-9bd9-4f41-f270-f8396ce50e09"
      },
      "execution_count": 19,
      "outputs": [
        {
          "output_type": "stream",
          "name": "stdout",
          "text": [
            "Pencils are essential for writing.\n",
            "marker\n",
            "sciccors\n",
            "pen\n",
            "Don't forget to write your notes!\n",
            "notebook\n"
          ]
        }
      ]
    },
    {
      "cell_type": "code",
      "source": [],
      "metadata": {
        "id": "wSGRmoIkG315"
      },
      "execution_count": null,
      "outputs": []
    },
    {
      "cell_type": "markdown",
      "source": [
        "# Task 3\n",
        "\n",
        "1. Create the List:\n",
        "\n",
        "Create a list named daily_activities that contains the names of five activities you do in a day.\n",
        "Print the list.\n",
        "2. Use a Loop to Print Each Activity:\n",
        "\n",
        "Use a for loop to print each activity in the list.\n",
        "3. Add Conditions within the Loop:\n",
        "\n",
        "Check if an activity is \"Homework\". If it is, print \"Make sure to finish your homework on time!\"\n",
        "Check if an activity is \"Exercise\". If it is, print \"Stay fit and healthy!\"\n",
        "For any other activity, print the activity name normally."
      ],
      "metadata": {
        "id": "CIjjqVj8G5oH"
      }
    },
    {
      "cell_type": "code",
      "source": [
        "activities = [\"eat breakfast\", \"exercise\", \"go outside\", \"play games\", \"do chores\"]\n",
        "for activity in daily_activities:\n",
        "  print(activity)"
      ],
      "metadata": {
        "id": "Wjis4VY6G_yH",
        "colab": {
          "base_uri": "https://localhost:8080/"
        },
        "outputId": "85b1c51a-36e3-402d-da1e-a85058f6c196"
      },
      "execution_count": 29,
      "outputs": [
        {
          "output_type": "stream",
          "name": "stdout",
          "text": [
            "eat breakfast\n",
            "exercise\n",
            "go outside\n",
            "play games\n",
            "do chores\n"
          ]
        }
      ]
    },
    {
      "cell_type": "code",
      "source": [
        "for activity in activities:\n",
        "  if activity == \"exercise\":\n",
        "    print(\"Stay healthy and fit!\")\n",
        "  elif activity == \"eat breakfast\":\n",
        "    print(\"Breakfast is the most important time to eat!\")\n",
        "  else:\n",
        "    print(activity)"
      ],
      "metadata": {
        "id": "Db7BFXzMD0wh",
        "outputId": "bbfb639d-c0eb-4439-81bf-ac626054ccd6",
        "colab": {
          "base_uri": "https://localhost:8080/"
        }
      },
      "execution_count": 35,
      "outputs": [
        {
          "output_type": "stream",
          "name": "stdout",
          "text": [
            "Breakfast is the most important time to eat!\n",
            "Stay healthy and fit!\n",
            "go outside\n",
            "play games\n",
            "do chores\n"
          ]
        }
      ]
    },
    {
      "cell_type": "markdown",
      "source": [],
      "metadata": {
        "id": "qLyMEI0tDbM9"
      }
    }
  ]
}