{
  "nbformat": 4,
  "nbformat_minor": 0,
  "metadata": {
    "colab": {
      "provenance": [],
      "include_colab_link": true
    },
    "kernelspec": {
      "name": "python3",
      "display_name": "Python 3"
    },
    "language_info": {
      "name": "python"
    }
  },
  "cells": [
    {
      "cell_type": "markdown",
      "metadata": {
        "id": "view-in-github",
        "colab_type": "text"
      },
      "source": [
        "<a href=\"https://colab.research.google.com/github/byambaa1982/python_cources_for_beginers/blob/class_zero_hannah/3_control_flow/Homework_of_Loop.ipynb\" target=\"_parent\"><img src=\"https://colab.research.google.com/assets/colab-badge.svg\" alt=\"Open In Colab\"/></a>"
      ]
    },
    {
      "cell_type": "code",
      "execution_count": null,
      "metadata": {
        "id": "VY_Of4oQEZyO"
      },
      "outputs": [],
      "source": []
    },
    {
      "cell_type": "markdown",
      "source": [
        "# Task 1:\n",
        "\n",
        "1. Create the List:\n",
        "\n",
        "Create a list named favorite_animals that contains the names of five of your favorite animals.\n",
        "Print the list.\n",
        "2. Use a Loop to Print Each Animal:\n",
        "\n",
        "Use a for loop to print each animal in the list.\n",
        "3. Add Conditions within the Loop:\n",
        "\n",
        "Check if an animal is \"Dog\". If it is, print \"Dogs are very loyal!\" Otherwise, print the animal name normally.\n",
        "Additionally, check if an animal is \"Cat\". If it is, print \"Cats are very independent!\""
      ],
      "metadata": {
        "id": "aueaQf_9EgLd"
      }
    },
    {
      "cell_type": "code",
      "source": [
        "animals = ['horse', 'dog', 'fish', 'cat', 'whale']"
      ],
      "metadata": {
        "id": "am5BY_OUGcZe"
      },
      "execution_count": null,
      "outputs": []
    },
    {
      "cell_type": "code",
      "source": [
        "for animal in animals:\n",
        "  if animal == 'dog':\n",
        "    print('Dog is smart')\n",
        "  if animal == 'cat':\n",
        "    print('Cat is very clean animal')"
      ],
      "metadata": {
        "colab": {
          "base_uri": "https://localhost:8080/"
        },
        "id": "G0FVybGU854u",
        "outputId": "7c1a5887-4078-4121-fb8f-57317fe307a9"
      },
      "execution_count": null,
      "outputs": [
        {
          "output_type": "stream",
          "name": "stdout",
          "text": [
            "Dog is smart\n",
            "Cat is very clean animal\n"
          ]
        }
      ]
    },
    {
      "cell_type": "code",
      "source": [
        "for animal in animals:\n",
        "  if animal == 'dog':\n",
        "    print(f'{animal} is smart')\n",
        "  elif animal == 'cat':\n",
        "    print(f'{animal} is very clean animal')\n",
        "  else:\n",
        "    print(f'{animal} is one of my favorite animals')"
      ],
      "metadata": {
        "colab": {
          "base_uri": "https://localhost:8080/"
        },
        "id": "uio_nVrlFNv2",
        "outputId": "8c29c464-2a92-4cc9-befb-216f741ec635"
      },
      "execution_count": null,
      "outputs": [
        {
          "output_type": "stream",
          "name": "stdout",
          "text": [
            "horse is one of my favorite animals\n",
            "dog is smart\n",
            "fish is one of my favorite animals\n",
            "cat is very clean animal\n",
            "whale is one of my favorite animals\n"
          ]
        }
      ]
    },
    {
      "cell_type": "code",
      "source": [
        "for animal in animals:\n",
        "  if animal == 'dog':\n",
        "    print(f'{animal.title()} is smart')\n",
        "  elif animal == 'cat':\n",
        "    print(f'{animal.title()} is very clean animal')\n",
        "  else:\n",
        "    print(f'{animal.title()} is one of my favorite animals')"
      ],
      "metadata": {
        "colab": {
          "base_uri": "https://localhost:8080/"
        },
        "id": "Chq9vCDNIDdK",
        "outputId": "350ca8ae-56c1-41b2-b5ed-dac057f643f0"
      },
      "execution_count": null,
      "outputs": [
        {
          "output_type": "stream",
          "name": "stdout",
          "text": [
            "Horse is one of my favorite animals\n",
            "Dog is smart\n",
            "Fish is one of my favorite animals\n",
            "Cat is very clean animal\n",
            "Whale is one of my favorite animals\n"
          ]
        }
      ]
    },
    {
      "cell_type": "code",
      "source": [
        "animals = ['horse', 'dog', 'fish', 'cat', 'whale', 'roach']\n",
        "my_favorite_animals = ['horse', 'dog']"
      ],
      "metadata": {
        "id": "6AvisIqzI-f1"
      },
      "execution_count": null,
      "outputs": []
    },
    {
      "cell_type": "code",
      "source": [
        "for animal in animals:\n",
        "  if animal in my_favorite_animals:\n",
        "    print(f'{animal.title()} is one of my favorite animals')\n",
        "  else:\n",
        "    print(f'{animal.title()} is not one of my favorite animals')"
      ],
      "metadata": {
        "id": "ItXVR22pIudp",
        "outputId": "c71d0593-d126-47e5-8678-8e586ae5c9b6",
        "colab": {
          "base_uri": "https://localhost:8080/"
        }
      },
      "execution_count": null,
      "outputs": [
        {
          "output_type": "stream",
          "name": "stdout",
          "text": [
            "Horse is one of my favorite animals\n",
            "Dog is one of my favorite animals\n",
            "Fish is not one of my favorite animals\n",
            "Cat is not one of my favorite animals\n",
            "Whale is not one of my favorite animals\n",
            "Roach is not one of my favorite animals\n"
          ]
        }
      ]
    },
    {
      "cell_type": "markdown",
      "source": [
        "# Task 2\n",
        "\n",
        "1. Create the List:\n",
        "\n",
        "Create a list named school_supplies that contains the names of five school supplies.\n",
        "Print the list.\n",
        "2. Use a Loop to Print Each Supply:\n",
        "\n",
        "Use a for loop to print each supply in the list.\n",
        "3. Add Conditions within the Loop:\n",
        "\n",
        "Check if a supply is \"Notebook\". If it is, print \"Don't forget to write your notes!\"\n",
        "Check if a supply is \"Pencil\". If it is, print \"Pencils are essential for writing.\"\n",
        "For any other supply, print the supply name normally."
      ],
      "metadata": {
        "id": "V5n7BC3FGm7e"
      }
    },
    {
      "cell_type": "code",
      "source": [
        "school_supplies = [\"pencils\", \"markers\", \"notebooks\", \"erasers\", \"pens\"]\n",
        "for supply in school_supplies:\n",
        "    print(supply)"
      ],
      "metadata": {
        "id": "2JJTHVa9Gsq9",
        "collapsed": true,
        "outputId": "dcfbad90-a8ae-4e56-8601-bfd417fcf72a",
        "colab": {
          "base_uri": "https://localhost:8080/"
        }
      },
      "execution_count": 3,
      "outputs": [
        {
          "output_type": "stream",
          "name": "stdout",
          "text": [
            "pencils\n",
            "markers\n",
            "notebooks\n",
            "erasers\n",
            "pens\n"
          ]
        }
      ]
    },
    {
      "cell_type": "code",
      "source": [],
      "metadata": {
        "id": "wSGRmoIkG315"
      },
      "execution_count": null,
      "outputs": []
    },
    {
      "cell_type": "markdown",
      "source": [
        "# Task 3\n",
        "\n",
        "1. Create the List:\n",
        "\n",
        "Create a list named daily_activities that contains the names of five activities you do in a day.\n",
        "Print the list.\n",
        "2. Use a Loop to Print Each Activity:\n",
        "\n",
        "Use a for loop to print each activity in the list.\n",
        "3. Add Conditions within the Loop:\n",
        "\n",
        "Check if an activity is \"Homework\". If it is, print \"Make sure to finish your homework on time!\"\n",
        "Check if an activity is \"Exercise\". If it is, print \"Stay fit and healthy!\"\n",
        "For any other activity, print the activity name normally."
      ],
      "metadata": {
        "id": "CIjjqVj8G5oH"
      }
    },
    {
      "cell_type": "code",
      "source": [],
      "metadata": {
        "id": "Wjis4VY6G_yH"
      },
      "execution_count": null,
      "outputs": []
    }
  ]
}