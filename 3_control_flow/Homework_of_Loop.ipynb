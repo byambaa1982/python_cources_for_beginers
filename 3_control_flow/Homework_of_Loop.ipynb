{
  "nbformat": 4,
  "nbformat_minor": 0,
  "metadata": {
    "colab": {
      "provenance": [],
      "include_colab_link": true
    },
    "kernelspec": {
      "name": "python3",
      "display_name": "Python 3"
    },
    "language_info": {
      "name": "python"
    }
  },
  "cells": [
    {
      "cell_type": "markdown",
      "metadata": {
        "id": "view-in-github",
        "colab_type": "text"
      },
      "source": [
        "<a href=\"https://colab.research.google.com/github/byambaa1982/python_cources_for_beginers/blob/class_zero_hannah/3_control_flow/Homework_of_Loop.ipynb\" target=\"_parent\"><img src=\"https://colab.research.google.com/assets/colab-badge.svg\" alt=\"Open In Colab\"/></a>"
      ]
    },
    {
      "cell_type": "code",
      "execution_count": null,
      "metadata": {
        "id": "VY_Of4oQEZyO"
      },
      "outputs": [],
      "source": []
    },
    {
      "cell_type": "markdown",
      "source": [
        "# Task 1:\n",
        "\n",
        "1. Create the List:\n",
        "\n",
        "Create a list named favorite_animals that contains the names of five of your favorite animals.\n",
        "Print the list.\n",
        "2. Use a Loop to Print Each Animal:\n",
        "\n",
        "Use a for loop to print each animal in the list.\n",
        "3. Add Conditions within the Loop:\n",
        "\n",
        "Check if an animal is \"Dog\". If it is, print \"Dogs are very loyal!\" Otherwise, print the animal name normally.\n",
        "Additionally, check if an animal is \"Cat\". If it is, print \"Cats are very independent!\""
      ],
      "metadata": {
        "id": "aueaQf_9EgLd"
      }
    },
    {
      "cell_type": "code",
      "source": [
        "favorite_animals = [\"dog\", \"cat\", \"horse\", \"zebra\", \"elephant\"]\n",
        "for animal in favorite_animals:\n",
        "  print(animal)\n"
      ],
      "metadata": {
        "id": "am5BY_OUGcZe",
        "colab": {
          "base_uri": "https://localhost:8080/"
        },
        "outputId": "f7313092-ac0c-417c-9faf-4dd6dc49a5cd"
      },
      "execution_count": 1,
      "outputs": [
        {
          "output_type": "stream",
          "name": "stdout",
          "text": [
            "dog\n",
            "cat\n",
            "horse\n",
            "zebra\n",
            "elephant\n"
          ]
        }
      ]
    },
    {
      "cell_type": "code",
      "source": [
        "for animal in favorite_animals:\n",
        " if animal == \"dog\":\n",
        "  print(f\"{animal} are a man's bestfriend\")\n",
        " elif animal == \"cat\":\n",
        "  print(f\"{animal} are very cautious\")\n",
        " else:\n",
        "  print(f\"{animal} is one of my favorite animals\")"
      ],
      "metadata": {
        "colab": {
          "base_uri": "https://localhost:8080/"
        },
        "id": "b_MkJGvC_ZV2",
        "outputId": "c4f62064-b305-4fad-9bad-6adea8160479"
      },
      "execution_count": 2,
      "outputs": [
        {
          "output_type": "stream",
          "name": "stdout",
          "text": [
            "dog are a man's bestfriend\n",
            "cat are very cautious\n",
            "horse is one of my favorite animals\n",
            "zebra is one of my favorite animals\n",
            "elephant is one of my favorite animals\n"
          ]
        }
      ]
    },
    {
      "cell_type": "markdown",
      "source": [
        "# Task 2\n",
        "\n",
        "1. Create the List:\n",
        "\n",
        "Create a list named school_supplies that contains the names of five school supplies.\n",
        "Print the list.\n",
        "2. Use a Loop to Print Each Supply:\n",
        "\n",
        "Use a for loop to print each supply in the list.\n",
        "3. Add Conditions within the Loop:\n",
        "\n",
        "Check if a supply is \"Notebook\". If it is, print \"Don't forget to write your notes!\"\n",
        "Check if a supply is \"Pencil\". If it is, print \"Pencils are essential for writing.\"\n",
        "For any other supply, print the supply name normally."
      ],
      "metadata": {
        "id": "V5n7BC3FGm7e"
      }
    },
    {
      "cell_type": "code",
      "source": [
        "supplies = [\"pencil\", \"marker\", \"sciccors\", \"pen\", \"notebook\"]\n",
        "for supply in supplies:\n",
        " print(supply)"
      ],
      "metadata": {
        "id": "2JJTHVa9Gsq9",
        "colab": {
          "base_uri": "https://localhost:8080/"
        },
        "outputId": "bef571a2-8098-4875-8671-ac257ffd1b44"
      },
      "execution_count": 3,
      "outputs": [
        {
          "output_type": "stream",
          "name": "stdout",
          "text": [
            "pencil\n",
            "marker\n",
            "sciccors\n",
            "pen\n",
            "notebook\n"
          ]
        }
      ]
    },
    {
      "cell_type": "code",
      "source": [
        "for supply in supplies:\n",
        " if supply == \"notebook\":\n",
        "  print(f\"{supply} is where you can store your notes!\")\n",
        " elif supply == \"pencil\":\n",
        "  print(f\"{supply} are used for writing.\")\n",
        " else:\n",
        "  print(f\"{supply} are essential for school.\")"
      ],
      "metadata": {
        "colab": {
          "base_uri": "https://localhost:8080/"
        },
        "id": "gY-cwXRzBmW8",
        "outputId": "65b00f8a-4d62-4e3b-e3aa-8eb5a7dfcc60"
      },
      "execution_count": 4,
      "outputs": [
        {
          "output_type": "stream",
          "name": "stdout",
          "text": [
            "pencil are used for writing.\n",
            "marker are essential for school.\n",
            "sciccors are essential for school.\n",
            "pen are essential for school.\n",
            "notebook is where you can store your notes!\n"
          ]
        }
      ]
    },
    {
      "cell_type": "code",
      "source": [],
      "metadata": {
        "id": "wSGRmoIkG315"
      },
      "execution_count": 4,
      "outputs": []
    },
    {
      "cell_type": "markdown",
      "source": [
        "Task 3"
      ],
      "metadata": {
        "id": "0ujrY_Uh2s4_"
      }
    },
    {
      "cell_type": "code",
      "source": [
        "activities = [\"eating breakfast\", \"exercise\", \"going outside\", \"playing games\", \"doing chores\"]\n",
        "for activity in activities:\n",
        "  print(activity)"
      ],
      "metadata": {
        "id": "Wjis4VY6G_yH",
        "colab": {
          "base_uri": "https://localhost:8080/"
        },
        "outputId": "b9c02fa2-77a7-4ad5-a51b-37234a5edf89"
      },
      "execution_count": 5,
      "outputs": [
        {
          "output_type": "stream",
          "name": "stdout",
          "text": [
            "eating breakfast\n",
            "exercise\n",
            "going outside\n",
            "playing games\n",
            "doing chores\n"
          ]
        }
      ]
    },
    {
      "cell_type": "code",
      "source": [
        "for activity in activities:\n",
        "  if activity == \"exercise\":\n",
        "    print(f\"{activity} is very important to stay fit!\")\n",
        "  elif activity == \"eating breakfast\":\n",
        "    print(f\"{activity} is a significant time to eat!\")\n",
        "  else:\n",
        "    print(f\"{activity} are exercises which require movement.\")"
      ],
      "metadata": {
        "id": "Db7BFXzMD0wh",
        "outputId": "8898f0d9-3df9-4c9e-bc3f-887e1a042eca",
        "colab": {
          "base_uri": "https://localhost:8080/"
        }
      },
      "execution_count": 6,
      "outputs": [
        {
          "output_type": "stream",
          "name": "stdout",
          "text": [
            "eating breakfast is a significant time to eat!\n",
            "exercise is very important to stay fit!\n",
            "going outside are exercises which require movement.\n",
            "playing games are exercises which require movement.\n",
            "doing chores are exercises which require movement.\n"
          ]
        }
      ]
    },
    {
      "cell_type": "code",
      "source": [
        "my_activities = [\"swimming\", \"playing games\", \"go to the park\", \"hanging out with my friends\"]"
      ],
      "metadata": {
        "id": "OiFTrDd-kLi6"
      },
      "execution_count": 7,
      "outputs": []
    },
    {
      "cell_type": "code",
      "source": [
        "for a in my_activities:\n",
        "  activities.append(a)"
      ],
      "metadata": {
        "id": "FsBoO1eNkwqe"
      },
      "execution_count": 10,
      "outputs": []
    },
    {
      "cell_type": "code",
      "source": [
        "activities"
      ],
      "metadata": {
        "colab": {
          "base_uri": "https://localhost:8080/"
        },
        "id": "iRUDTZyPlYyO",
        "outputId": "a9fda37e-de5b-42cf-f6b9-3800f46d7168"
      },
      "execution_count": 11,
      "outputs": [
        {
          "output_type": "execute_result",
          "data": {
            "text/plain": [
              "['eating breakfast',\n",
              " 'exercise',\n",
              " 'going outside',\n",
              " 'playing games',\n",
              " 'doing chores',\n",
              " 'swimming',\n",
              " 'playing games',\n",
              " 'go to the park',\n",
              " 'hanging out with my friends']"
            ]
          },
          "metadata": {},
          "execution_count": 11
        }
      ]
    },
    {
      "cell_type": "code",
      "source": [
        "for a in my_activities:\n",
        "  activities.append(a)\n",
        "  print(f\"I like {a}\")\n"
      ],
      "metadata": {
        "colab": {
          "base_uri": "https://localhost:8080/"
        },
        "id": "7cc8tcpilYcS",
        "outputId": "b38a5781-0dc2-4639-b0ba-00948c12c4a7"
      },
      "execution_count": 13,
      "outputs": [
        {
          "output_type": "stream",
          "name": "stdout",
          "text": [
            "I like swimming\n",
            "I like playing games\n",
            "I like go to the park\n",
            "I like hanging out with my friends\n"
          ]
        }
      ]
    },
    {
      "cell_type": "code",
      "source": [
        "for a in my_activities:\n",
        "  activities.append(a)\n",
        "  if a== \"swimming\":\n",
        "    print(f\"i like {a}\")\n",
        "  if a== \"playing games\":\n",
        "    print (f\"i like {a}\")"
      ],
      "metadata": {
        "colab": {
          "base_uri": "https://localhost:8080/"
        },
        "id": "UQz3d8BGm5IP",
        "outputId": "4e501f8f-2aab-47a2-e8d5-6e530d26234b"
      },
      "execution_count": 25,
      "outputs": [
        {
          "output_type": "stream",
          "name": "stdout",
          "text": [
            "i like swimming\n",
            "i like playing games\n"
          ]
        }
      ]
    },
    {
      "cell_type": "code",
      "source": [
        "my_favorite_numbers = 2 , 7\n",
        "print (f\"i like {my_favorite_numbers}\")"
      ],
      "metadata": {
        "colab": {
          "base_uri": "https://localhost:8080/"
        },
        "id": "5dzaVWa9qVxD",
        "outputId": "e7611539-a50a-4e5d-b8f8-2f4af9ac3064"
      },
      "execution_count": 32,
      "outputs": [
        {
          "output_type": "stream",
          "name": "stdout",
          "text": [
            "i like (2, 7)\n"
          ]
        }
      ]
    },
    {
      "cell_type": "code",
      "source": [
        "n = [1, 2, 3, 4]\n",
        "for i in n:\n",
        "  print(i)"
      ],
      "metadata": {
        "id": "w84RmJ8Qq2Jh",
        "outputId": "dacaa112-f27d-46b2-abcb-6c305f80b143",
        "colab": {
          "base_uri": "https://localhost:8080/"
        }
      },
      "execution_count": 33,
      "outputs": [
        {
          "output_type": "stream",
          "name": "stdout",
          "text": [
            "1\n",
            "2\n",
            "3\n",
            "4\n"
          ]
        }
      ]
    },
    {
      "cell_type": "code",
      "source": [
        " n= [1, 2, 3, 4]\n",
        "for i in n:\n",
        "  if i== 2:\n",
        "    print(f\"i like {i}\")\n"
      ],
      "metadata": {
        "id": "1YWXzmjnuX8F",
        "outputId": "f12a6396-8bfb-47ca-b1a9-eee6f192bb04",
        "colab": {
          "base_uri": "https://localhost:8080/"
        }
      },
      "execution_count": 38,
      "outputs": [
        {
          "output_type": "stream",
          "name": "stdout",
          "text": [
            "i like 2\n"
          ]
        }
      ]
    },
    {
      "cell_type": "code",
      "source": [
        "text = '''\n",
        "Hurricane Beryl made landfall on Grenada’s Carriacou Island as a Category 4 storm Monday morning as it continued its path into the Caribbean that could bring its center close to Jamaica, forecasters said.\n",
        "\n",
        "The hurricane had 150 mph winds when its eye made landfall on Carriacou, part of the Windward Islands, at 11:10 a.m., the National Hurricane Center said. People on Grenada, the Grenadine Islands, and Carriacou Island were warned to stay in their shelters.\n",
        "'''"
      ],
      "metadata": {
        "id": "w8seJ2smzFpq"
      },
      "execution_count": 39,
      "outputs": []
    },
    {
      "cell_type": "code",
      "source": [
        "my_list = text.split(\" \")\n",
        "total_word = len(my_list)\n",
        "total_word"
      ],
      "metadata": {
        "id": "fIpjJUwgzQG5",
        "outputId": "cbe70943-4e44-4c83-fcf5-923650121430",
        "colab": {
          "base_uri": "https://localhost:8080/"
        }
      },
      "execution_count": 42,
      "outputs": [
        {
          "output_type": "execute_result",
          "data": {
            "text/plain": [
              "75"
            ]
          },
          "metadata": {},
          "execution_count": 42
        }
      ]
    },
    {
      "cell_type": "code",
      "source": [
        "n = [1, 2, 3, 4]\n",
        "for i in n:\n",
        "  if i== 2:\n",
        "    print(f\"i like {i}\")\n",
        "  if i == 4:\n",
        "    print(f\"I like {i} too\")\n",
        "  else:\n",
        "    print(f\"I don't like {i}\")"
      ],
      "metadata": {
        "id": "jxTrYxhYzmMm",
        "outputId": "dd8781ed-c151-4b43-9e24-d6beb4401233",
        "colab": {
          "base_uri": "https://localhost:8080/"
        }
      },
      "execution_count": 52,
      "outputs": [
        {
          "output_type": "stream",
          "name": "stdout",
          "text": [
            "I don't like 1\n",
            "i like 2\n",
            "I don't like 2\n",
            "I don't like 3\n",
            "I like 4 too\n"
          ]
        }
      ]
    }
  ]
}