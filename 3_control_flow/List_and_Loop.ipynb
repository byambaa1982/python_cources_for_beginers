{
  "nbformat": 4,
  "nbformat_minor": 0,
  "metadata": {
    "colab": {
      "provenance": [],
      "include_colab_link": true
    },
    "kernelspec": {
      "name": "python3",
      "display_name": "Python 3"
    },
    "language_info": {
      "name": "python"
    }
  },
  "cells": [
    {
      "cell_type": "markdown",
      "metadata": {
        "id": "view-in-github",
        "colab_type": "text"
      },
      "source": [
        "<a href=\"https://colab.research.google.com/github/byambaa1982/python_cources_for_beginers/blob/class_zero_urangoo/3_control_flow/List_and_Loop.ipynb\" target=\"_parent\"><img src=\"https://colab.research.google.com/assets/colab-badge.svg\" alt=\"Open In Colab\"/></a>"
      ]
    },
    {
      "cell_type": "markdown",
      "source": [
        "# Introduction:\n",
        "\n",
        "A list in Python is like a collection or a group of things, similar to how you might have a list of your favorite toys or a list of things you need to pack for a trip.\n",
        "\n",
        "## Key Points:\n",
        "- Definition: A list is a way to store multiple items in one place.\n",
        "- Structure: Lists are written with square brackets [], and items are separated by commas.\n",
        "- Example Items: Lists can hold anything, like numbers, words, or even other lists!"
      ],
      "metadata": {
        "id": "C7qlD9o8eV83"
      }
    },
    {
      "cell_type": "code",
      "execution_count": 3,
      "metadata": {
        "id": "KXO4e9HSeSf5"
      },
      "outputs": [],
      "source": [
        "favorite_toys = [\"Lego\", \"Barbie\", \"Hot Wheels\", \"Rubik's Cube\"]"
      ]
    },
    {
      "cell_type": "code",
      "source": [],
      "metadata": {
        "id": "dKrT_UIq0stO"
      },
      "execution_count": null,
      "outputs": []
    },
    {
      "cell_type": "code",
      "source": [
        "print(favorite_toys)\n"
      ],
      "metadata": {
        "id": "VDgSz6b2edHQ",
        "colab": {
          "base_uri": "https://localhost:8080/",
          "height": 139
        },
        "outputId": "00a1b9a7-2a80-4ef0-d32a-cf249d55e081"
      },
      "execution_count": 1,
      "outputs": [
        {
          "output_type": "error",
          "ename": "NameError",
          "evalue": "name 'favorite_toys' is not defined",
          "traceback": [
            "\u001b[0;31m---------------------------------------------------------------------------\u001b[0m",
            "\u001b[0;31mNameError\u001b[0m                                 Traceback (most recent call last)",
            "\u001b[0;32m<ipython-input-1-6e5e7422a42d>\u001b[0m in \u001b[0;36m<cell line: 1>\u001b[0;34m()\u001b[0m\n\u001b[0;32m----> 1\u001b[0;31m \u001b[0mprint\u001b[0m\u001b[0;34m(\u001b[0m\u001b[0mfavorite_toys\u001b[0m\u001b[0;34m)\u001b[0m\u001b[0;34m\u001b[0m\u001b[0;34m\u001b[0m\u001b[0m\n\u001b[0m",
            "\u001b[0;31mNameError\u001b[0m: name 'favorite_toys' is not defined"
          ]
        }
      ]
    },
    {
      "cell_type": "code",
      "source": [
        "print(favorite_toys[0])"
      ],
      "metadata": {
        "id": "YumrWKTZezB-"
      },
      "execution_count": null,
      "outputs": []
    },
    {
      "cell_type": "code",
      "source": [
        "favorite_toys.append(\"Puzzle\")\n",
        "print(favorite_toys)"
      ],
      "metadata": {
        "id": "7A1L-dmne1Jw"
      },
      "execution_count": null,
      "outputs": []
    },
    {
      "cell_type": "code",
      "source": [
        "favorite_toys.append(\"board game\")\n",
        "print(favorite_toys)"
      ],
      "metadata": {
        "colab": {
          "base_uri": "https://localhost:8080/"
        },
        "id": "z-gcCM5I1kYi",
        "outputId": "0c1e2ab4-0680-417e-93fa-cd8d1528906c"
      },
      "execution_count": 5,
      "outputs": [
        {
          "output_type": "stream",
          "name": "stdout",
          "text": [
            "['Lego', 'Barbie', 'Hot Wheels', \"Rubik's Cube\", 'volleyball', 'board game']\n"
          ]
        }
      ]
    },
    {
      "cell_type": "code",
      "source": [
        "favorite_toys.append(\"basketball\")\n",
        "print(favorite_toys)"
      ],
      "metadata": {
        "colab": {
          "base_uri": "https://localhost:8080/"
        },
        "id": "HTXPS1Lr1sKM",
        "outputId": "3287811a-f394-4cef-9c53-92d07b8b4023"
      },
      "execution_count": 6,
      "outputs": [
        {
          "output_type": "stream",
          "name": "stdout",
          "text": [
            "['Lego', 'Barbie', 'Hot Wheels', \"Rubik's Cube\", 'volleyball', 'board game', 'basketball']\n"
          ]
        }
      ]
    },
    {
      "cell_type": "code",
      "source": [
        "favorite_toys.append(\"volleyball\")\n",
        "print(favorite_toys)"
      ],
      "metadata": {
        "colab": {
          "base_uri": "https://localhost:8080/"
        },
        "id": "6k71MlD_002U",
        "outputId": "7a1afa2b-ebb2-41c9-8104-8e5155e46424"
      },
      "execution_count": 4,
      "outputs": [
        {
          "output_type": "stream",
          "name": "stdout",
          "text": [
            "['Lego', 'Barbie', 'Hot Wheels', \"Rubik's Cube\", 'volleyball']\n"
          ]
        }
      ]
    },
    {
      "cell_type": "code",
      "source": [],
      "metadata": {
        "id": "8ir7fpNZ1eU0"
      },
      "execution_count": null,
      "outputs": []
    },
    {
      "cell_type": "code",
      "source": [
        "favorite_toys.remove(\"Barbie\")\n",
        "print(favorite_toys)"
      ],
      "metadata": {
        "id": "-gSslRnGe7E_"
      },
      "execution_count": null,
      "outputs": []
    },
    {
      "cell_type": "code",
      "source": [
        "if 'Bargie' in favorite_toys:\n",
        "  print(\"Yes, Bargie in your list\")\n",
        "else:\n",
        "  print(\"No, there is no such item in your list\")"
      ],
      "metadata": {
        "id": "ebnRxoH1kD2h"
      },
      "execution_count": null,
      "outputs": []
    },
    {
      "cell_type": "markdown",
      "source": [
        "# Task 1:\n",
        "1. Create the List:\n",
        "\n",
        "- Create a list named favorite_fruits that contains the names of five of your favorite fruits.\n",
        "- Print the list.\n",
        "2. Access Items by Index:\n",
        "\n",
        "- Print the first fruit in the list.\n",
        "- Print the last fruit in the list.\n",
        "3. Append a New Item:\n",
        "\n",
        "- Add another fruit to the list.\n",
        "- Print the updated list.\n",
        "4. Remove an Item:\n",
        "\n",
        "- Remove one fruit from the list.\n",
        "- Print the updated list."
      ],
      "metadata": {
        "id": "C630Hb5rfpO6"
      }
    },
    {
      "cell_type": "code",
      "source": [
        "# Your code is here\n",
        "favorite_fruits = [\"mango\", \"apple\", \"banana\", \"strawberry\", \"peach\"]\n"
      ],
      "metadata": {
        "id": "y7Fp15iPf-2o"
      },
      "execution_count": 24,
      "outputs": []
    },
    {
      "cell_type": "code",
      "source": [
        "favorite_fruits[0]"
      ],
      "metadata": {
        "colab": {
          "base_uri": "https://localhost:8080/",
          "height": 35
        },
        "id": "Ha5hvGFm3ch0",
        "outputId": "ef3fef46-9a47-4ccc-b5a9-a22e716c0800"
      },
      "execution_count": 19,
      "outputs": [
        {
          "output_type": "execute_result",
          "data": {
            "text/plain": [
              "'mango'"
            ],
            "application/vnd.google.colaboratory.intrinsic+json": {
              "type": "string"
            }
          },
          "metadata": {},
          "execution_count": 19
        }
      ]
    },
    {
      "cell_type": "code",
      "source": [
        "favorite_fruits[-1]"
      ],
      "metadata": {
        "colab": {
          "base_uri": "https://localhost:8080/",
          "height": 35
        },
        "id": "WbCYJ_Y34Qzr",
        "outputId": "20e38a20-7405-41c6-ef29-bf94b8ee0caa"
      },
      "execution_count": 20,
      "outputs": [
        {
          "output_type": "execute_result",
          "data": {
            "text/plain": [
              "'peach'"
            ],
            "application/vnd.google.colaboratory.intrinsic+json": {
              "type": "string"
            }
          },
          "metadata": {},
          "execution_count": 20
        }
      ]
    },
    {
      "cell_type": "code",
      "source": [
        "favorite_fruits.append(\"pear\")\n",
        "print(favorite_fruits)"
      ],
      "metadata": {
        "colab": {
          "base_uri": "https://localhost:8080/"
        },
        "id": "DDd2jQxf47DA",
        "outputId": "86f32fa3-5c7e-4e7a-bed6-96f874a4da8f"
      },
      "execution_count": 25,
      "outputs": [
        {
          "output_type": "stream",
          "name": "stdout",
          "text": [
            "['mango', 'apple', 'banana', 'strawberry', 'peach', 'pear']\n"
          ]
        }
      ]
    },
    {
      "cell_type": "code",
      "source": [
        "favorite_fruits.remove(\"pear\")\n",
        "print(favorite_fruits)"
      ],
      "metadata": {
        "colab": {
          "base_uri": "https://localhost:8080/"
        },
        "id": "6dUd5Wl049dL",
        "outputId": "30e2f7de-17b1-4103-a029-758f77a864a8"
      },
      "execution_count": 26,
      "outputs": [
        {
          "output_type": "stream",
          "name": "stdout",
          "text": [
            "['mango', 'apple', 'banana', 'strawberry', 'peach']\n"
          ]
        }
      ]
    },
    {
      "cell_type": "code",
      "source": [
        "print(favorite_fruits)"
      ],
      "metadata": {
        "colab": {
          "base_uri": "https://localhost:8080/"
        },
        "id": "Vr6R9K5S5H1u",
        "outputId": "f3c298ab-974e-4cb9-d837-75864d4491ad"
      },
      "execution_count": 27,
      "outputs": [
        {
          "output_type": "stream",
          "name": "stdout",
          "text": [
            "['mango', 'apple', 'banana', 'strawberry', 'peach']\n"
          ]
        }
      ]
    },
    {
      "cell_type": "markdown",
      "source": [
        "# Example Output:\n",
        "```python\n",
        "Favorite Fruits: ['Apple', 'Banana', 'Cherry', 'Date', 'Elderberry']\n",
        "First fruit: Apple\n",
        "Last fruit: Elderberry\n",
        "Updated Favorite Fruits: ['Apple', 'Banana', 'Cherry', 'Date', 'Elderberry', 'Fig']\n",
        "Final Favorite Fruits: ['Apple', 'Banana', 'Cherry', 'Elderberry', 'Fig']\n",
        "\n",
        "```"
      ],
      "metadata": {
        "id": "pxu-KXxHgCKJ"
      }
    },
    {
      "cell_type": "code",
      "source": [],
      "metadata": {
        "id": "CQgiTKsIgNtW"
      },
      "execution_count": null,
      "outputs": []
    },
    {
      "cell_type": "markdown",
      "source": [
        "# Task 2\n",
        "1. Create the List:\n",
        "\n",
        "- Create a list named favorite_books that contains the names of five of your favorite books.\n",
        "- Print the list.\n",
        "2. Access Items by Index:\n",
        "\n",
        "- Print the first book in the list.\n",
        "- Print the third book in the list.\n",
        "- Print the last book in the list.\n",
        "3. Append a New Item:\n",
        "\n",
        "- Add another book to the list.\n",
        "- Print the updated list.\n",
        "4. Remove an Item:\n",
        "\n",
        "- Remove the second book from the list.\n",
        "- Print the updated list.\n",
        "5. Sort the List:\n",
        "\n",
        "- Sort the list in alphabetical order.\n",
        "- Print the sorted list."
      ],
      "metadata": {
        "id": "gK2p8cvEg8cz"
      }
    },
    {
      "cell_type": "code",
      "source": [],
      "metadata": {
        "id": "ZYCD4UR2hSBI"
      },
      "execution_count": null,
      "outputs": []
    }
  ]
}