{
  "nbformat": 4,
  "nbformat_minor": 0,
  "metadata": {
    "colab": {
      "provenance": [],
      "include_colab_link": true
    },
    "kernelspec": {
      "name": "python3",
      "display_name": "Python 3"
    },
    "language_info": {
      "name": "python"
    }
  },
  "cells": [
    {
      "cell_type": "markdown",
      "metadata": {
        "id": "view-in-github",
        "colab_type": "text"
      },
      "source": [
        "<a href=\"https://colab.research.google.com/github/byambaa1982/python_cources_for_beginers/blob/class_zero_urangoo/3_control_flow/List_and_Loop.ipynb\" target=\"_parent\"><img src=\"https://colab.research.google.com/assets/colab-badge.svg\" alt=\"Open In Colab\"/></a>"
      ]
    },
    {
      "cell_type": "markdown",
      "source": [
        "# Introduction:\n",
        "\n",
        "A list in Python is like a collection or a group of things, similar to how you might have a list of your favorite toys or a list of things you need to pack for a trip.\n",
        "\n",
        "## Key Points:\n",
        "- Definition: A list is a way to store multiple items in one place.\n",
        "- Structure: Lists are written with square brackets [], and items are separated by commas.\n",
        "- Example Items: Lists can hold anything, like numbers, words, or even other lists!"
      ],
      "metadata": {
        "id": "C7qlD9o8eV83"
      }
    },
    {
      "cell_type": "code",
      "execution_count": null,
      "metadata": {
        "id": "KXO4e9HSeSf5"
      },
      "outputs": [],
      "source": [
        "favorite_toys = [\"Lego\", \"Barbie\", \"Hot Wheels\", \"Rubik's Cube\"]"
      ]
    },
    {
      "cell_type": "code",
      "source": [],
      "metadata": {
        "id": "dKrT_UIq0stO"
      },
      "execution_count": null,
      "outputs": []
    },
    {
      "cell_type": "code",
      "source": [
        "print(favorite_toys)\n"
      ],
      "metadata": {
        "id": "VDgSz6b2edHQ",
        "colab": {
          "base_uri": "https://localhost:8080/"
        },
        "outputId": "a5f64b32-7ffd-4b61-9d26-d7f84552b9e7"
      },
      "execution_count": null,
      "outputs": [
        {
          "output_type": "stream",
          "name": "stdout",
          "text": [
            "['Lego', 'Barbie', 'Hot Wheels', \"Rubik's Cube\"]\n"
          ]
        }
      ]
    },
    {
      "cell_type": "code",
      "source": [
        "print(favorite_toys[0])"
      ],
      "metadata": {
        "id": "YumrWKTZezB-"
      },
      "execution_count": null,
      "outputs": []
    },
    {
      "cell_type": "code",
      "source": [
        "favorite_toys.append(\"Puzzle\")\n",
        "print(favorite_toys)"
      ],
      "metadata": {
        "id": "7A1L-dmne1Jw"
      },
      "execution_count": null,
      "outputs": []
    },
    {
      "cell_type": "code",
      "source": [
        "favorite_toys.append(\"board game\")\n",
        "print(favorite_toys)"
      ],
      "metadata": {
        "colab": {
          "base_uri": "https://localhost:8080/"
        },
        "id": "z-gcCM5I1kYi",
        "outputId": "0c1e2ab4-0680-417e-93fa-cd8d1528906c"
      },
      "execution_count": null,
      "outputs": [
        {
          "output_type": "stream",
          "name": "stdout",
          "text": [
            "['Lego', 'Barbie', 'Hot Wheels', \"Rubik's Cube\", 'volleyball', 'board game']\n"
          ]
        }
      ]
    },
    {
      "cell_type": "code",
      "source": [
        "favorite_toys.append(\"basketball\")\n",
        "print(favorite_toys)"
      ],
      "metadata": {
        "colab": {
          "base_uri": "https://localhost:8080/"
        },
        "id": "HTXPS1Lr1sKM",
        "outputId": "3287811a-f394-4cef-9c53-92d07b8b4023"
      },
      "execution_count": null,
      "outputs": [
        {
          "output_type": "stream",
          "name": "stdout",
          "text": [
            "['Lego', 'Barbie', 'Hot Wheels', \"Rubik's Cube\", 'volleyball', 'board game', 'basketball']\n"
          ]
        }
      ]
    },
    {
      "cell_type": "code",
      "source": [
        "favorite_toys.append(\"volleyball\")\n",
        "print(favorite_toys)"
      ],
      "metadata": {
        "colab": {
          "base_uri": "https://localhost:8080/"
        },
        "id": "6k71MlD_002U",
        "outputId": "7a1afa2b-ebb2-41c9-8104-8e5155e46424"
      },
      "execution_count": null,
      "outputs": [
        {
          "output_type": "stream",
          "name": "stdout",
          "text": [
            "['Lego', 'Barbie', 'Hot Wheels', \"Rubik's Cube\", 'volleyball']\n"
          ]
        }
      ]
    },
    {
      "cell_type": "code",
      "source": [],
      "metadata": {
        "id": "8ir7fpNZ1eU0"
      },
      "execution_count": null,
      "outputs": []
    },
    {
      "cell_type": "code",
      "source": [
        "favorite_toys.remove(\"Barbie\")\n",
        "print(favorite_toys)"
      ],
      "metadata": {
        "id": "-gSslRnGe7E_"
      },
      "execution_count": null,
      "outputs": []
    },
    {
      "cell_type": "code",
      "source": [
        "if 'Bargie' in favorite_toys:\n",
        "  print(\"Yes, Bargie in your list\")\n",
        "else:\n",
        "  print(\"No, there is no such item in your list\")"
      ],
      "metadata": {
        "id": "ebnRxoH1kD2h"
      },
      "execution_count": null,
      "outputs": []
    },
    {
      "cell_type": "markdown",
      "source": [
        "# Task 1:\n",
        "1. Create the List:\n",
        "\n",
        "- Create a list named favorite_fruits that contains the names of five of your favorite fruits.\n",
        "- Print the list.\n",
        "2. Access Items by Index:\n",
        "\n",
        "- Print the first fruit in the list.\n",
        "- Print the last fruit in the list.\n",
        "3. Append a New Item:\n",
        "\n",
        "- Add another fruit to the list.\n",
        "- Print the updated list.\n",
        "4. Remove an Item:\n",
        "\n",
        "- Remove one fruit from the list.\n",
        "- Print the updated list."
      ],
      "metadata": {
        "id": "C630Hb5rfpO6"
      }
    },
    {
      "cell_type": "code",
      "source": [
        "# Your code is here\n",
        "favorite_fruits = [\"mango\", \"apple\", \"banana\", \"strawberry\", \"peach\"]\n"
      ],
      "metadata": {
        "id": "y7Fp15iPf-2o"
      },
      "execution_count": null,
      "outputs": []
    },
    {
      "cell_type": "code",
      "source": [
        "favorite_fruits[0]"
      ],
      "metadata": {
        "colab": {
          "base_uri": "https://localhost:8080/",
          "height": 35
        },
        "id": "Ha5hvGFm3ch0",
        "outputId": "ef3fef46-9a47-4ccc-b5a9-a22e716c0800"
      },
      "execution_count": null,
      "outputs": [
        {
          "output_type": "execute_result",
          "data": {
            "text/plain": [
              "'mango'"
            ],
            "application/vnd.google.colaboratory.intrinsic+json": {
              "type": "string"
            }
          },
          "metadata": {},
          "execution_count": 19
        }
      ]
    },
    {
      "cell_type": "code",
      "source": [
        "favorite_fruits[-1]"
      ],
      "metadata": {
        "colab": {
          "base_uri": "https://localhost:8080/",
          "height": 35
        },
        "id": "WbCYJ_Y34Qzr",
        "outputId": "20e38a20-7405-41c6-ef29-bf94b8ee0caa"
      },
      "execution_count": null,
      "outputs": [
        {
          "output_type": "execute_result",
          "data": {
            "text/plain": [
              "'peach'"
            ],
            "application/vnd.google.colaboratory.intrinsic+json": {
              "type": "string"
            }
          },
          "metadata": {},
          "execution_count": 20
        }
      ]
    },
    {
      "cell_type": "code",
      "source": [
        "favorite_fruits.append(\"pear\")\n",
        "print(favorite_fruits)"
      ],
      "metadata": {
        "colab": {
          "base_uri": "https://localhost:8080/"
        },
        "id": "DDd2jQxf47DA",
        "outputId": "86f32fa3-5c7e-4e7a-bed6-96f874a4da8f"
      },
      "execution_count": null,
      "outputs": [
        {
          "output_type": "stream",
          "name": "stdout",
          "text": [
            "['mango', 'apple', 'banana', 'strawberry', 'peach', 'pear']\n"
          ]
        }
      ]
    },
    {
      "cell_type": "code",
      "source": [
        "favorite_fruits.remove(\"pear\")\n",
        "print(favorite_fruits)"
      ],
      "metadata": {
        "colab": {
          "base_uri": "https://localhost:8080/"
        },
        "id": "6dUd5Wl049dL",
        "outputId": "30e2f7de-17b1-4103-a029-758f77a864a8"
      },
      "execution_count": null,
      "outputs": [
        {
          "output_type": "stream",
          "name": "stdout",
          "text": [
            "['mango', 'apple', 'banana', 'strawberry', 'peach']\n"
          ]
        }
      ]
    },
    {
      "cell_type": "code",
      "source": [
        "print(favorite_fruits)"
      ],
      "metadata": {
        "colab": {
          "base_uri": "https://localhost:8080/"
        },
        "id": "Vr6R9K5S5H1u",
        "outputId": "f3c298ab-974e-4cb9-d837-75864d4491ad"
      },
      "execution_count": null,
      "outputs": [
        {
          "output_type": "stream",
          "name": "stdout",
          "text": [
            "['mango', 'apple', 'banana', 'strawberry', 'peach']\n"
          ]
        }
      ]
    },
    {
      "cell_type": "markdown",
      "source": [
        "# Example Output:\n",
        "```python\n",
        "Favorite Fruits: ['Apple', 'Banana', 'Cherry', 'Date', 'Elderberry']\n",
        "First fruit: Apple\n",
        "Last fruit: Elderberry\n",
        "Updated Favorite Fruits: ['Apple', 'Banana', 'Cherry', 'Date', 'Elderberry', 'Fig']\n",
        "Final Favorite Fruits: ['Apple', 'Banana', 'Cherry', 'Elderberry', 'Fig']\n",
        "\n",
        "```"
      ],
      "metadata": {
        "id": "pxu-KXxHgCKJ"
      }
    },
    {
      "cell_type": "code",
      "source": [],
      "metadata": {
        "id": "CQgiTKsIgNtW"
      },
      "execution_count": null,
      "outputs": []
    },
    {
      "cell_type": "markdown",
      "source": [
        "# Task 2\n",
        "1. Create the List:\n",
        "\n",
        "- Create a list named favorite_books that contains the names of five of your favorite books.\n",
        "- Print the list.\n",
        "2. Access Items by Index:\n",
        "\n",
        "- Print the first book in the list.\n",
        "- Print the third book in the list.\n",
        "- Print the last book in the list.\n",
        "3. Append a New Item:\n",
        "\n",
        "- Add another book to the list.\n",
        "- Print the updated list.\n",
        "4. Remove an Item:\n",
        "\n",
        "- Remove the second book from the list.\n",
        "- Print the updated list.\n",
        "5. Sort the List:\n",
        "\n",
        "- Sort the list in alphabetical order.\n",
        "- Print the sorted list."
      ],
      "metadata": {
        "id": "gK2p8cvEg8cz"
      }
    },
    {
      "cell_type": "code",
      "source": [
        "favorite_book = [\"Harry Potter\", \"that's not what happened\", \"wonder\", \"the invention\", \"A Little Night Music\"]"
      ],
      "metadata": {
        "id": "ZYCD4UR2hSBI"
      },
      "execution_count": 34,
      "outputs": []
    },
    {
      "cell_type": "code",
      "source": [
        "print(favorite_book)"
      ],
      "metadata": {
        "id": "AwQ_QWhm8Bgc",
        "outputId": "c2ec67ea-537d-4547-f089-7ae4fa2562ec",
        "colab": {
          "base_uri": "https://localhost:8080/"
        }
      },
      "execution_count": 35,
      "outputs": [
        {
          "output_type": "stream",
          "name": "stdout",
          "text": [
            "['Harry Potter', \"that's not what happened\", 'wonder', 'the invention', 'A Little Night Music']\n"
          ]
        }
      ]
    },
    {
      "cell_type": "code",
      "source": [
        "print(favorite_book[0])"
      ],
      "metadata": {
        "id": "0Of5eH_D7juj",
        "outputId": "0d3ecc3c-93db-41fe-ff7e-7e949f3fe5fe",
        "colab": {
          "base_uri": "https://localhost:8080/"
        }
      },
      "execution_count": 36,
      "outputs": [
        {
          "output_type": "stream",
          "name": "stdout",
          "text": [
            "Harry Potter\n"
          ]
        }
      ]
    },
    {
      "cell_type": "code",
      "source": [
        "print(favorite_book[-1])"
      ],
      "metadata": {
        "id": "lumB1T-z73JT",
        "outputId": "40733cf8-2321-467b-ab5e-8166046877fc",
        "colab": {
          "base_uri": "https://localhost:8080/"
        }
      },
      "execution_count": 37,
      "outputs": [
        {
          "output_type": "stream",
          "name": "stdout",
          "text": [
            "A Little Night Music\n"
          ]
        }
      ]
    },
    {
      "cell_type": "code",
      "source": [
        "print(favorite_book[-3])"
      ],
      "metadata": {
        "id": "9YB2PRx376hW",
        "outputId": "400f4220-da22-40eb-e7ef-6ce48010833e",
        "colab": {
          "base_uri": "https://localhost:8080/"
        }
      },
      "execution_count": 38,
      "outputs": [
        {
          "output_type": "stream",
          "name": "stdout",
          "text": [
            "wonder\n"
          ]
        }
      ]
    },
    {
      "cell_type": "code",
      "source": [
        "favorite_book.append(\"Dracula\")\n",
        "print(favorite_book)"
      ],
      "metadata": {
        "id": "zrCn5Svi-n8r",
        "outputId": "e253e9ad-5570-4b66-a211-3d9a4caf6a85",
        "colab": {
          "base_uri": "https://localhost:8080/"
        }
      },
      "execution_count": 39,
      "outputs": [
        {
          "output_type": "stream",
          "name": "stdout",
          "text": [
            "['Harry Potter', \"that's not what happened\", 'wonder', 'the invention', 'A Little Night Music', 'Dracula']\n"
          ]
        }
      ]
    },
    {
      "cell_type": "code",
      "source": [
        "favorite_book.append(\"A Little Night Music\")\n",
        "print(favorite_book)"
      ],
      "metadata": {
        "id": "49K0dSCm_Dv-",
        "outputId": "b3c68464-ec54-4289-a602-a0601a3139ff",
        "colab": {
          "base_uri": "https://localhost:8080/"
        }
      },
      "execution_count": 40,
      "outputs": [
        {
          "output_type": "stream",
          "name": "stdout",
          "text": [
            "['Harry Potter', \"that's not what happened\", 'wonder', 'the invention', 'A Little Night Music', 'Dracula', 'A Little Night Music']\n"
          ]
        }
      ]
    },
    {
      "cell_type": "code",
      "source": [
        "favorite_book.remove(\"A Little Night Music\")\n",
        "print(favorite_book)"
      ],
      "metadata": {
        "id": "fA7pb5WZ_Qt9",
        "outputId": "da4dabe4-f401-473a-8eee-b9d558bd501c",
        "colab": {
          "base_uri": "https://localhost:8080/"
        }
      },
      "execution_count": 41,
      "outputs": [
        {
          "output_type": "stream",
          "name": "stdout",
          "text": [
            "['Harry Potter', \"that's not what happened\", 'wonder', 'the invention', 'Dracula', 'A Little Night Music']\n"
          ]
        }
      ]
    },
    {
      "cell_type": "code",
      "source": [
        "favorite_book.remove(\"Dracula\")\n",
        "print(favorite_book)"
      ],
      "metadata": {
        "id": "bE3Nomui_cfo",
        "outputId": "1074a394-650d-4b7f-8a40-64076a3b4e31",
        "colab": {
          "base_uri": "https://localhost:8080/"
        }
      },
      "execution_count": 42,
      "outputs": [
        {
          "output_type": "stream",
          "name": "stdout",
          "text": [
            "['Harry Potter', \"that's not what happened\", 'wonder', 'the invention', 'A Little Night Music']\n"
          ]
        }
      ]
    },
    {
      "cell_type": "code",
      "source": [
        "for book in favorite_book:\n",
        "  print(book)"
      ],
      "metadata": {
        "id": "u6Xl8mQ9_mib",
        "outputId": "e837a054-d193-4faa-ec82-1cd229836592",
        "colab": {
          "base_uri": "https://localhost:8080/"
        }
      },
      "execution_count": 43,
      "outputs": [
        {
          "output_type": "stream",
          "name": "stdout",
          "text": [
            "Harry Potter\n",
            "that's not what happened\n",
            "wonder\n",
            "the invention\n",
            "A Little Night Music\n"
          ]
        }
      ]
    },
    {
      "cell_type": "code",
      "source": [
        "for book in favorite_book:\n",
        "  print(book + \"is a book\")"
      ],
      "metadata": {
        "id": "Khl9cFGjBCk1",
        "outputId": "58dbf915-ee38-497b-9c37-e28d2c207002",
        "colab": {
          "base_uri": "https://localhost:8080/"
        }
      },
      "execution_count": 45,
      "outputs": [
        {
          "output_type": "stream",
          "name": "stdout",
          "text": [
            "Harry Potteris a book\n",
            "that's not what happenedis a book\n",
            "wonderis a book\n",
            "the inventionis a book\n",
            "A Little Night Musicis a book\n"
          ]
        }
      ]
    },
    {
      "cell_type": "code",
      "source": [
        "favorite_book\n",
        "print(sorted(favorite_book))"
      ],
      "metadata": {
        "id": "O3NzToxTDNft",
        "outputId": "77549621-08d2-43d3-e256-7dfcbc9740e1",
        "colab": {
          "base_uri": "https://localhost:8080/"
        }
      },
      "execution_count": 62,
      "outputs": [
        {
          "output_type": "stream",
          "name": "stdout",
          "text": [
            "['A Little Night Music', 'Harry Potter', \"that's not what happened\", 'the invention', 'wonder']\n"
          ]
        }
      ]
    },
    {
      "cell_type": "code",
      "source": [
        "number = [1, 2, 3, 4, 5]\n",
        "\n",
        "for i in number:\n",
        "  print(i)\n"
      ],
      "metadata": {
        "id": "_yPEEzm6_2tq",
        "outputId": "88cf8806-4dda-426c-ae15-99c500a61025",
        "colab": {
          "base_uri": "https://localhost:8080/"
        }
      },
      "execution_count": 32,
      "outputs": [
        {
          "output_type": "stream",
          "name": "stdout",
          "text": [
            "1\n",
            "2\n",
            "3\n",
            "4\n",
            "5\n"
          ]
        }
      ]
    },
    {
      "cell_type": "code",
      "source": [
        "number = [1, 2, 3, 4, 5]\n",
        "\n",
        "for i in number:\n",
        "  print(i +1)"
      ],
      "metadata": {
        "id": "1tDJF1J7BSwv",
        "outputId": "f99ebc22-5549-4927-ce3f-78175b8297f2",
        "colab": {
          "base_uri": "https://localhost:8080/"
        }
      },
      "execution_count": 46,
      "outputs": [
        {
          "output_type": "stream",
          "name": "stdout",
          "text": [
            "2\n",
            "3\n",
            "4\n",
            "5\n",
            "6\n"
          ]
        }
      ]
    },
    {
      "cell_type": "code",
      "source": [
        "number = [1, 2, 3, 4, 5]\n",
        "\n",
        "for i in number:\n",
        "  if i ==1 or i ==3 or i ==5:\n",
        "    print(i)"
      ],
      "metadata": {
        "id": "u5tDC7ntBZqY",
        "outputId": "e7fa6312-058e-4978-dbb5-ab7d075034f9",
        "colab": {
          "base_uri": "https://localhost:8080/"
        }
      },
      "execution_count": 61,
      "outputs": [
        {
          "output_type": "stream",
          "name": "stdout",
          "text": [
            "1\n",
            "3\n",
            "5\n"
          ]
        }
      ]
    }
  ]
}