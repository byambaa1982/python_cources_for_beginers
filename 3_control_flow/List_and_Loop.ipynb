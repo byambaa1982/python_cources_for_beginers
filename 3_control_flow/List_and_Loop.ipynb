{
  "nbformat": 4,
  "nbformat_minor": 0,
  "metadata": {
    "colab": {
      "provenance": [],
      "include_colab_link": true
    },
    "kernelspec": {
      "name": "python3",
      "display_name": "Python 3"
    },
    "language_info": {
      "name": "python"
    }
  },
  "cells": [
    {
      "cell_type": "markdown",
      "metadata": {
        "id": "view-in-github",
        "colab_type": "text"
      },
      "source": [
        "<a href=\"https://colab.research.google.com/github/byambaa1982/python_cources_for_beginers/blob/class_zero_tuggy/3_control_flow/List_and_Loop.ipynb\" target=\"_parent\"><img src=\"https://colab.research.google.com/assets/colab-badge.svg\" alt=\"Open In Colab\"/></a>"
      ]
    },
    {
      "cell_type": "markdown",
      "source": [
        "# Introduction:\n",
        "\n",
        "A list in Python is like a collection or a group of things, similar to how you might have a list of your favorite toys or a list of things you need to pack for a trip.\n",
        "\n",
        "## Key Points:\n",
        "- Definition: A list is a way to store multiple items in one place.\n",
        "- Structure: Lists are written with square brackets [], and items are separated by commas.\n",
        "- Example Items: Lists can hold anything, like numbers, words, or even other lists!"
      ],
      "metadata": {
        "id": "C7qlD9o8eV83"
      }
    },
    {
      "cell_type": "code",
      "source": [
        "x = [1, 2, 3, 4]"
      ],
      "metadata": {
        "id": "e0t8qpkfysju"
      },
      "execution_count": 1,
      "outputs": []
    },
    {
      "cell_type": "code",
      "source": [
        "x= [True, False]"
      ],
      "metadata": {
        "id": "ne1q3_LezkVY"
      },
      "execution_count": 7,
      "outputs": []
    },
    {
      "cell_type": "code",
      "execution_count": 15,
      "metadata": {
        "id": "KXO4e9HSeSf5"
      },
      "outputs": [],
      "source": [
        "favorite_toys = [\"Lego\", \"Barbie\", \"Hot Wheels\", \"Rubik's Cube\", \"doll\", \"blocks\", \"controller\"]"
      ]
    },
    {
      "cell_type": "code",
      "source": [
        "print(favorite_toys)\n"
      ],
      "metadata": {
        "id": "VDgSz6b2edHQ",
        "colab": {
          "base_uri": "https://localhost:8080/"
        },
        "outputId": "2335ee51-6154-4e1b-ca06-50b5c749cbb6"
      },
      "execution_count": 20,
      "outputs": [
        {
          "output_type": "stream",
          "name": "stdout",
          "text": [
            "['Lego', 'Hot Wheels', \"Rubik's Cube\", 'doll', 'blocks', 'controller', 'car']\n"
          ]
        }
      ]
    },
    {
      "cell_type": "code",
      "source": [
        "print(favorite_toys[0])"
      ],
      "metadata": {
        "id": "YumrWKTZezB-",
        "colab": {
          "base_uri": "https://localhost:8080/"
        },
        "outputId": "f9b8a0e3-3494-4369-a5a5-056fddbf18f4"
      },
      "execution_count": 21,
      "outputs": [
        {
          "output_type": "stream",
          "name": "stdout",
          "text": [
            "Lego\n"
          ]
        }
      ]
    },
    {
      "cell_type": "code",
      "source": [
        "# access list by index\n",
        "favorite_toys[-1]"
      ],
      "metadata": {
        "colab": {
          "base_uri": "https://localhost:8080/",
          "height": 35
        },
        "id": "5UnuBkkXzI-j",
        "outputId": "cd3e49e9-c47f-4e8c-c0d9-17ccbc65478c"
      },
      "execution_count": 19,
      "outputs": [
        {
          "output_type": "execute_result",
          "data": {
            "text/plain": [
              "'car'"
            ],
            "application/vnd.google.colaboratory.intrinsic+json": {
              "type": "string"
            }
          },
          "metadata": {},
          "execution_count": 19
        }
      ]
    },
    {
      "cell_type": "code",
      "source": [
        "# adding new item into the list\n",
        "favorite_toys.append(\"car\")\n",
        "print(favorite_toys)"
      ],
      "metadata": {
        "id": "7A1L-dmne1Jw",
        "colab": {
          "base_uri": "https://localhost:8080/"
        },
        "outputId": "dda7b3e8-94f5-4f11-b787-5c8e2fe069dd"
      },
      "execution_count": 18,
      "outputs": [
        {
          "output_type": "stream",
          "name": "stdout",
          "text": [
            "['Lego', 'Hot Wheels', \"Rubik's Cube\", 'doll', 'blocks', 'controller', 'car']\n"
          ]
        }
      ]
    },
    {
      "cell_type": "code",
      "source": [
        "favorite_toys.remove(\"Barbie\")\n",
        "print(favorite_toys)"
      ],
      "metadata": {
        "id": "-gSslRnGe7E_",
        "colab": {
          "base_uri": "https://localhost:8080/"
        },
        "outputId": "e398736d-5977-4aad-c0a4-5b9617dfe7c9"
      },
      "execution_count": 16,
      "outputs": [
        {
          "output_type": "stream",
          "name": "stdout",
          "text": [
            "['Lego', 'Hot Wheels', \"Rubik's Cube\", 'doll', 'blocks', 'controller']\n"
          ]
        }
      ]
    },
    {
      "cell_type": "code",
      "source": [
        "if 'Bargie' in favorite_toys:\n",
        "  print(\"Yes, Bargie in your list\")\n",
        "else:\n",
        "  print(\"No, there is no such item in your list\")"
      ],
      "metadata": {
        "id": "ebnRxoH1kD2h",
        "colab": {
          "base_uri": "https://localhost:8080/"
        },
        "outputId": "5302720a-e913-4116-8d1a-fd493faaa93c"
      },
      "execution_count": 17,
      "outputs": [
        {
          "output_type": "stream",
          "name": "stdout",
          "text": [
            "No, there is no such item in your list\n"
          ]
        }
      ]
    },
    {
      "cell_type": "markdown",
      "source": [
        "# Task 1:\n",
        "1. Create the List:\n",
        "\n",
        "- Create a list named favorite_fruits that contains the names of five of your favorite fruits.\n",
        "- Print the list.\n",
        "2. Access Items by Index:\n",
        "\n",
        "- Print the first fruit in the list.\n",
        "- Print the last fruit in the list.\n",
        "3. Append a New Item:\n",
        "\n",
        "- Add another fruit to the list.\n",
        "- Print the updated list.\n",
        "4. Remove an Item:\n",
        "\n",
        "- Remove one fruit from the list.\n",
        "- Print the updated list."
      ],
      "metadata": {
        "id": "C630Hb5rfpO6"
      }
    },
    {
      "cell_type": "code",
      "source": [
        "# Your code is here\n",
        "favorite_fruits = [\"strawberry\", \"banana\", \"apple\", \"blueberry\", \"watermellon\"]\n",
        "print(favorite_fruits)"
      ],
      "metadata": {
        "id": "y7Fp15iPf-2o",
        "colab": {
          "base_uri": "https://localhost:8080/"
        },
        "outputId": "f6adad2e-d818-440b-e340-1b9820ec831b"
      },
      "execution_count": 37,
      "outputs": [
        {
          "output_type": "stream",
          "name": "stdout",
          "text": [
            "['strawberry', 'banana', 'apple', 'blueberry', 'watermellon']\n"
          ]
        }
      ]
    },
    {
      "cell_type": "code",
      "source": [
        "favorite_fruits = [\"strawberry\", \"banana\", \"apple\", \"blueberry\", \"watermellon\"]\n",
        "print(favorite_fruits[-1])"
      ],
      "metadata": {
        "colab": {
          "base_uri": "https://localhost:8080/"
        },
        "id": "aUSczrBP2pNQ",
        "outputId": "2d6bd45f-1a6c-43a9-a4b6-1cf881dc7aa0"
      },
      "execution_count": 38,
      "outputs": [
        {
          "output_type": "stream",
          "name": "stdout",
          "text": [
            "watermellon\n"
          ]
        }
      ]
    },
    {
      "cell_type": "code",
      "source": [
        "favorite_fruits.append(\"grape\")\n",
        "print(favorite_fruits)"
      ],
      "metadata": {
        "colab": {
          "base_uri": "https://localhost:8080/"
        },
        "id": "thosbxzv23OX",
        "outputId": "cf4e7a84-4e2d-41d6-bb9e-6dfb76936afa"
      },
      "execution_count": 39,
      "outputs": [
        {
          "output_type": "stream",
          "name": "stdout",
          "text": [
            "['strawberry', 'banana', 'apple', 'blueberry', 'watermellon', 'grape']\n"
          ]
        }
      ]
    },
    {
      "cell_type": "code",
      "source": [
        "favorite_fruits.remove(\"strawberry\")\n",
        "print(favorite_fruits)"
      ],
      "metadata": {
        "colab": {
          "base_uri": "https://localhost:8080/"
        },
        "id": "rft4fHm_3G1V",
        "outputId": "6619c8fd-d47c-44a3-b377-743b34564288"
      },
      "execution_count": 40,
      "outputs": [
        {
          "output_type": "stream",
          "name": "stdout",
          "text": [
            "['banana', 'apple', 'blueberry', 'watermellon', 'grape']\n"
          ]
        }
      ]
    },
    {
      "cell_type": "markdown",
      "source": [
        "# Example Output:\n",
        "```python\n",
        "Favorite Fruits: ['Apple', 'Banana', 'Cherry', 'Date', 'Elderberry']\n",
        "First fruit: Apple\n",
        "Last fruit: Elderberry\n",
        "Updated Favorite Fruits: ['Apple', 'Banana', 'Cherry', 'Date', 'Elderberry', 'Fig']\n",
        "Final Favorite Fruits: ['Apple', 'Banana', 'Cherry', 'Elderberry', 'Fig']\n",
        "\n",
        "```"
      ],
      "metadata": {
        "id": "pxu-KXxHgCKJ"
      }
    },
    {
      "cell_type": "code",
      "source": [
        "favorite_fruits"
      ],
      "metadata": {
        "id": "CQgiTKsIgNtW",
        "colab": {
          "base_uri": "https://localhost:8080/"
        },
        "outputId": "6d66d6bb-096d-4ba6-ec78-3b16564ca5b0"
      },
      "execution_count": 50,
      "outputs": [
        {
          "output_type": "execute_result",
          "data": {
            "text/plain": [
              "['banana', 'apple', 'blueberry', 'watermellon', 'grape']"
            ]
          },
          "metadata": {},
          "execution_count": 50
        }
      ]
    },
    {
      "cell_type": "code",
      "source": [
        "for fruits in favorite_fruits:\n",
        "  print(fruits)"
      ],
      "metadata": {
        "id": "Ke0XF6P29-cu",
        "outputId": "89a95572-187e-4ab5-cebc-b325b900ab5d",
        "colab": {
          "base_uri": "https://localhost:8080/"
        }
      },
      "execution_count": 55,
      "outputs": [
        {
          "output_type": "stream",
          "name": "stdout",
          "text": [
            "banana\n",
            "apple\n",
            "blueberry\n",
            "watermellon\n",
            "grape\n"
          ]
        }
      ]
    },
    {
      "cell_type": "code",
      "source": [
        "numbers = [1, 2, 3, 4]\n",
        "\n",
        "for n in numbers:\n",
        "  print(n)"
      ],
      "metadata": {
        "id": "-a6Q_Ryv-jG2",
        "outputId": "951bffa3-3ba2-48d1-ba80-f4e3a544a382",
        "colab": {
          "base_uri": "https://localhost:8080/"
        }
      },
      "execution_count": 56,
      "outputs": [
        {
          "output_type": "stream",
          "name": "stdout",
          "text": [
            "1\n",
            "2\n",
            "3\n",
            "4\n"
          ]
        }
      ]
    },
    {
      "cell_type": "code",
      "source": [],
      "metadata": {
        "id": "XjSqH2bX-w9I"
      },
      "execution_count": null,
      "outputs": []
    },
    {
      "cell_type": "markdown",
      "source": [
        "# Task 2\n",
        "1. Create the List:\n",
        "\n",
        "- Create a list named favorite_books that contains the names of five of your favorite books.\n",
        "- Print the list.\n",
        "2. Access Items by Index:\n",
        "\n",
        "- Print the first book in the list.\n",
        "- Print the third book in the list.\n",
        "- Print the last book in the list.\n",
        "3. Append a New Item:\n",
        "\n",
        "- Add another book to the list.\n",
        "- Print the updated list.\n",
        "4. Remove an Item:\n",
        "\n",
        "- Remove the second book from the list.\n",
        "- Print the updated list.\n",
        "5. Sort the List:\n",
        "\n",
        "- Sort the list in alphabetical order.\n",
        "- Print the sorted list."
      ],
      "metadata": {
        "id": "gK2p8cvEg8cz"
      }
    },
    {
      "cell_type": "code",
      "source": [
        "favorite_books = (\"Outsiders\", \"Bomb\", \"space case\", \"tuesday with morrie\", \"the silver eyes\")\n",
        "for books in favorite_books:\n",
        "  print(books)"
      ],
      "metadata": {
        "id": "ZYCD4UR2hSBI",
        "colab": {
          "base_uri": "https://localhost:8080/"
        },
        "outputId": "9d1fe9a8-991c-48fb-efc6-5d94336f59f3"
      },
      "execution_count": 49,
      "outputs": [
        {
          "output_type": "stream",
          "name": "stdout",
          "text": [
            "Outsiders\n",
            "Bomb\n",
            "space case\n",
            "tuesday with morrie\n",
            "the silver eyes\n"
          ]
        }
      ]
    },
    {
      "cell_type": "code",
      "source": [
        "print(favorite_books[0])\n",
        "print(favorite_books[2])\n",
        "print(favorite_books[-1])"
      ],
      "metadata": {
        "id": "UwzcB-y6701W",
        "outputId": "4f505c14-ed39-4950-b2f7-4d437536efde",
        "colab": {
          "base_uri": "https://localhost:8080/"
        }
      },
      "execution_count": 46,
      "outputs": [
        {
          "output_type": "stream",
          "name": "stdout",
          "text": [
            "Outsiders\n",
            "space case\n",
            "the silver eyes\n"
          ]
        }
      ]
    },
    {
      "cell_type": "code",
      "source": [
        "favorite_books.append(\"the book theif\")\n",
        "print(favorite_books)"
      ],
      "metadata": {
        "id": "rugq7r9w8hil",
        "outputId": "b77a63f1-e769-43f9-f76b-e92154265153",
        "colab": {
          "base_uri": "https://localhost:8080/",
          "height": 162
        }
      },
      "execution_count": 47,
      "outputs": [
        {
          "output_type": "error",
          "ename": "AttributeError",
          "evalue": "'tuple' object has no attribute 'append'",
          "traceback": [
            "\u001b[0;31m---------------------------------------------------------------------------\u001b[0m",
            "\u001b[0;31mAttributeError\u001b[0m                            Traceback (most recent call last)",
            "\u001b[0;32m<ipython-input-47-5d74becc8086>\u001b[0m in \u001b[0;36m<cell line: 1>\u001b[0;34m()\u001b[0m\n\u001b[0;32m----> 1\u001b[0;31m \u001b[0mfavorite_books\u001b[0m\u001b[0;34m.\u001b[0m\u001b[0mappend\u001b[0m\u001b[0;34m(\u001b[0m\u001b[0;34m\"the book theif\"\u001b[0m\u001b[0;34m)\u001b[0m\u001b[0;34m\u001b[0m\u001b[0;34m\u001b[0m\u001b[0m\n\u001b[0m\u001b[1;32m      2\u001b[0m \u001b[0mprint\u001b[0m\u001b[0;34m(\u001b[0m\u001b[0mfavorite_books\u001b[0m\u001b[0;34m)\u001b[0m\u001b[0;34m\u001b[0m\u001b[0;34m\u001b[0m\u001b[0m\n",
            "\u001b[0;31mAttributeError\u001b[0m: 'tuple' object has no attribute 'append'"
          ]
        }
      ]
    }
  ]
}