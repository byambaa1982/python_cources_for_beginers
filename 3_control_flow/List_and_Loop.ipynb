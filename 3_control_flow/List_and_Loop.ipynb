{
  "nbformat": 4,
  "nbformat_minor": 0,
  "metadata": {
    "colab": {
      "provenance": [],
      "authorship_tag": "ABX9TyO0PXr2d5ctIXo4PjSpriMn",
      "include_colab_link": true
    },
    "kernelspec": {
      "name": "python3",
      "display_name": "Python 3"
    },
    "language_info": {
      "name": "python"
    }
  },
  "cells": [
    {
      "cell_type": "markdown",
      "metadata": {
        "id": "view-in-github",
        "colab_type": "text"
      },
      "source": [
        "<a href=\"https://colab.research.google.com/github/byambaa1982/python_cources_for_beginers/blob/main/3_control_flow/List_and_Loop.ipynb\" target=\"_parent\"><img src=\"https://colab.research.google.com/assets/colab-badge.svg\" alt=\"Open In Colab\"/></a>"
      ]
    },
    {
      "cell_type": "markdown",
      "source": [
        "# Introduction:\n",
        "\n",
        "A list in Python is like a collection or a group of things, similar to how you might have a list of your favorite toys or a list of things you need to pack for a trip.\n",
        "\n",
        "## Key Points:\n",
        "- Definition: A list is a way to store multiple items in one place.\n",
        "- Structure: Lists are written with square brackets [], and items are separated by commas.\n",
        "- Example Items: Lists can hold anything, like numbers, words, or even other lists!"
      ],
      "metadata": {
        "id": "C7qlD9o8eV83"
      }
    },
    {
      "cell_type": "code",
      "execution_count": 1,
      "metadata": {
        "id": "KXO4e9HSeSf5"
      },
      "outputs": [],
      "source": [
        "favorite_toys = [\"Lego\", \"Barbie\", \"Hot Wheels\", \"Rubik's Cube\"]"
      ]
    },
    {
      "cell_type": "code",
      "source": [
        "print(favorite_toys)\n"
      ],
      "metadata": {
        "colab": {
          "base_uri": "https://localhost:8080/"
        },
        "id": "VDgSz6b2edHQ",
        "outputId": "d182e5d1-997b-4a35-8408-8bc70d2e6a43"
      },
      "execution_count": 2,
      "outputs": [
        {
          "output_type": "stream",
          "name": "stdout",
          "text": [
            "['Lego', 'Barbie', 'Hot Wheels', \"Rubik's Cube\"]\n"
          ]
        }
      ]
    },
    {
      "cell_type": "code",
      "source": [
        "print(favorite_toys[0])"
      ],
      "metadata": {
        "colab": {
          "base_uri": "https://localhost:8080/"
        },
        "id": "YumrWKTZezB-",
        "outputId": "c211b161-6c14-4db1-e85e-0fec9443877b"
      },
      "execution_count": 3,
      "outputs": [
        {
          "output_type": "stream",
          "name": "stdout",
          "text": [
            "Lego\n"
          ]
        }
      ]
    },
    {
      "cell_type": "code",
      "source": [
        "favorite_toys.append(\"Puzzle\")\n",
        "print(favorite_toys)"
      ],
      "metadata": {
        "colab": {
          "base_uri": "https://localhost:8080/"
        },
        "id": "7A1L-dmne1Jw",
        "outputId": "e6a0c05e-9afc-4085-f29f-ae02f0aba0b9"
      },
      "execution_count": 4,
      "outputs": [
        {
          "output_type": "stream",
          "name": "stdout",
          "text": [
            "['Lego', 'Barbie', 'Hot Wheels', \"Rubik's Cube\", 'Puzzle']\n"
          ]
        }
      ]
    },
    {
      "cell_type": "code",
      "source": [
        "favorite_toys.remove(\"Barbie\")\n",
        "print(favorite_toys)"
      ],
      "metadata": {
        "colab": {
          "base_uri": "https://localhost:8080/"
        },
        "id": "-gSslRnGe7E_",
        "outputId": "425d3511-caec-4ddb-d497-cb5723a7c6b8"
      },
      "execution_count": 5,
      "outputs": [
        {
          "output_type": "stream",
          "name": "stdout",
          "text": [
            "['Lego', 'Hot Wheels', \"Rubik's Cube\", 'Puzzle']\n"
          ]
        }
      ]
    },
    {
      "cell_type": "markdown",
      "source": [
        "# Task 1:\n",
        "1. Create the List:\n",
        "\n",
        "- Create a list named favorite_fruits that contains the names of five of your favorite fruits.\n",
        "- Print the list.\n",
        "2. Access Items by Index:\n",
        "\n",
        "- Print the first fruit in the list.\n",
        "- Print the last fruit in the list.\n",
        "3. Append a New Item:\n",
        "\n",
        "- Add another fruit to the list.\n",
        "- Print the updated list.\n",
        "4. Remove an Item:\n",
        "\n",
        "- Remove one fruit from the list.\n",
        "- Print the updated list."
      ],
      "metadata": {
        "id": "C630Hb5rfpO6"
      }
    },
    {
      "cell_type": "code",
      "source": [
        "# Your code is here"
      ],
      "metadata": {
        "id": "y7Fp15iPf-2o"
      },
      "execution_count": null,
      "outputs": []
    },
    {
      "cell_type": "markdown",
      "source": [
        "# Example Output:\n",
        "```python\n",
        "Favorite Fruits: ['Apple', 'Banana', 'Cherry', 'Date', 'Elderberry']\n",
        "First fruit: Apple\n",
        "Last fruit: Elderberry\n",
        "Updated Favorite Fruits: ['Apple', 'Banana', 'Cherry', 'Date', 'Elderberry', 'Fig']\n",
        "Final Favorite Fruits: ['Apple', 'Banana', 'Cherry', 'Elderberry', 'Fig']\n",
        "\n",
        "```"
      ],
      "metadata": {
        "id": "pxu-KXxHgCKJ"
      }
    },
    {
      "cell_type": "code",
      "source": [],
      "metadata": {
        "id": "CQgiTKsIgNtW"
      },
      "execution_count": null,
      "outputs": []
    },
    {
      "cell_type": "markdown",
      "source": [
        "# Task 2\n",
        "1. Create the List:\n",
        "\n",
        "- Create a list named favorite_books that contains the names of five of your favorite books.\n",
        "- Print the list.\n",
        "2. Access Items by Index:\n",
        "\n",
        "- Print the first book in the list.\n",
        "- Print the third book in the list.\n",
        "- Print the last book in the list.\n",
        "3. Append a New Item:\n",
        "\n",
        "- Add another book to the list.\n",
        "- Print the updated list.\n",
        "4. Remove an Item:\n",
        "\n",
        "- Remove the second book from the list.\n",
        "- Print the updated list.\n",
        "5. Sort the List:\n",
        "\n",
        "- Sort the list in alphabetical order.\n",
        "- Print the sorted list."
      ],
      "metadata": {
        "id": "gK2p8cvEg8cz"
      }
    },
    {
      "cell_type": "code",
      "source": [],
      "metadata": {
        "id": "ZYCD4UR2hSBI"
      },
      "execution_count": null,
      "outputs": []
    }
  ]
}