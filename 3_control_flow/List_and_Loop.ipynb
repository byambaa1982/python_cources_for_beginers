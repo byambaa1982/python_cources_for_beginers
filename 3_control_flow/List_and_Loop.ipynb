{
  "nbformat": 4,
  "nbformat_minor": 0,
  "metadata": {
    "colab": {
      "provenance": [],
      "include_colab_link": true
    },
    "kernelspec": {
      "name": "python3",
      "display_name": "Python 3"
    },
    "language_info": {
      "name": "python"
    }
  },
  "cells": [
    {
      "cell_type": "markdown",
      "metadata": {
        "id": "view-in-github",
        "colab_type": "text"
      },
      "source": [
        "<a href=\"https://colab.research.google.com/github/byambaa1982/python_cources_for_beginers/blob/class_zero_tuggy/3_control_flow/List_and_Loop.ipynb\" target=\"_parent\"><img src=\"https://colab.research.google.com/assets/colab-badge.svg\" alt=\"Open In Colab\"/></a>"
      ]
    },
    {
      "cell_type": "markdown",
      "source": [
        "# Introduction:\n",
        "\n",
        "A list in Python is like a collection or a group of things, similar to how you might have a list of your favorite toys or a list of things you need to pack for a trip.\n",
        "\n",
        "## Key Points:\n",
        "- Definition: A list is a way to store multiple items in one place.\n",
        "- Structure: Lists are written with square brackets [], and items are separated by commas.\n",
        "- Example Items: Lists can hold anything, like numbers, words, or even other lists!"
      ],
      "metadata": {
        "id": "C7qlD9o8eV83"
      }
    },
    {
      "cell_type": "code",
      "source": [
        "x = [1, 2, 3, 4]"
      ],
      "metadata": {
        "id": "e0t8qpkfysju"
      },
      "execution_count": 1,
      "outputs": []
    },
    {
      "cell_type": "code",
      "source": [
        "x= [True, False]"
      ],
      "metadata": {
        "id": "ne1q3_LezkVY"
      },
      "execution_count": 7,
      "outputs": []
    },
    {
      "cell_type": "code",
      "execution_count": 15,
      "metadata": {
        "id": "KXO4e9HSeSf5"
      },
      "outputs": [],
      "source": [
        "favorite_toys = [\"Lego\", \"Barbie\", \"Hot Wheels\", \"Rubik's Cube\", \"doll\", \"blocks\", \"controller\"]"
      ]
    },
    {
      "cell_type": "code",
      "source": [
        "print(favorite_toys)\n"
      ],
      "metadata": {
        "id": "VDgSz6b2edHQ",
        "outputId": "b514d3aa-73ed-47ac-bc73-68d363196f50",
        "colab": {
          "base_uri": "https://localhost:8080/"
        }
      },
      "execution_count": 13,
      "outputs": [
        {
          "output_type": "stream",
          "name": "stdout",
          "text": [
            "['Lego', 'Hot Wheels', \"Rubik's Cube\", 'Puzzle', 'car']\n"
          ]
        }
      ]
    },
    {
      "cell_type": "code",
      "source": [
        "print(favorite_toys[0])"
      ],
      "metadata": {
        "id": "YumrWKTZezB-",
        "outputId": "dcadcb05-f855-4f25-84ca-d93c3389cdcd",
        "colab": {
          "base_uri": "https://localhost:8080/"
        }
      },
      "execution_count": 4,
      "outputs": [
        {
          "output_type": "stream",
          "name": "stdout",
          "text": [
            "Lego\n"
          ]
        }
      ]
    },
    {
      "cell_type": "code",
      "source": [
        "# access list by index\n",
        "favorite_toys[-1]"
      ],
      "metadata": {
        "id": "5UnuBkkXzI-j",
        "outputId": "f6aa2ac9-163c-420a-f3f7-10dfe6c345cc",
        "colab": {
          "base_uri": "https://localhost:8080/",
          "height": 35
        }
      },
      "execution_count": 10,
      "outputs": [
        {
          "output_type": "execute_result",
          "data": {
            "text/plain": [
              "'car'"
            ],
            "application/vnd.google.colaboratory.intrinsic+json": {
              "type": "string"
            }
          },
          "metadata": {},
          "execution_count": 10
        }
      ]
    },
    {
      "cell_type": "code",
      "source": [
        "# adding new item into the list\n",
        "favorite_toys.append(\"car\")\n",
        "print(favorite_toys)"
      ],
      "metadata": {
        "id": "7A1L-dmne1Jw",
        "outputId": "f7295a66-8664-45ab-e58f-e62a481fe6f2",
        "colab": {
          "base_uri": "https://localhost:8080/"
        }
      },
      "execution_count": 9,
      "outputs": [
        {
          "output_type": "stream",
          "name": "stdout",
          "text": [
            "['Lego', 'Barbie', 'Hot Wheels', \"Rubik's Cube\", 'Puzzle', 'car']\n"
          ]
        }
      ]
    },
    {
      "cell_type": "code",
      "source": [
        "favorite_toys.remove(\"Barbie\")\n",
        "print(favorite_toys)"
      ],
      "metadata": {
        "id": "-gSslRnGe7E_",
        "outputId": "bb24d3ba-231a-4ea3-b2ff-0c2fb4ca2eb5",
        "colab": {
          "base_uri": "https://localhost:8080/",
          "height": 162
        }
      },
      "execution_count": 14,
      "outputs": [
        {
          "output_type": "error",
          "ename": "ValueError",
          "evalue": "list.remove(x): x not in list",
          "traceback": [
            "\u001b[0;31m---------------------------------------------------------------------------\u001b[0m",
            "\u001b[0;31mValueError\u001b[0m                                Traceback (most recent call last)",
            "\u001b[0;32m<ipython-input-14-8bc4a0b7e14e>\u001b[0m in \u001b[0;36m<cell line: 1>\u001b[0;34m()\u001b[0m\n\u001b[0;32m----> 1\u001b[0;31m \u001b[0mfavorite_toys\u001b[0m\u001b[0;34m.\u001b[0m\u001b[0mremove\u001b[0m\u001b[0;34m(\u001b[0m\u001b[0;34m\"Barbie\"\u001b[0m\u001b[0;34m)\u001b[0m\u001b[0;34m\u001b[0m\u001b[0;34m\u001b[0m\u001b[0m\n\u001b[0m\u001b[1;32m      2\u001b[0m \u001b[0mprint\u001b[0m\u001b[0;34m(\u001b[0m\u001b[0mfavorite_toys\u001b[0m\u001b[0;34m)\u001b[0m\u001b[0;34m\u001b[0m\u001b[0;34m\u001b[0m\u001b[0m\n",
            "\u001b[0;31mValueError\u001b[0m: list.remove(x): x not in list"
          ]
        }
      ]
    },
    {
      "cell_type": "code",
      "source": [
        "if 'Bargie' in favorite_toys:\n",
        "  print(\"Yes, Bargie in your list\")\n",
        "else:\n",
        "  print(\"No, there is no such item in your list\")"
      ],
      "metadata": {
        "id": "ebnRxoH1kD2h",
        "outputId": "dd1e01b4-63a9-498d-b8ec-dbf20372f721",
        "colab": {
          "base_uri": "https://localhost:8080/"
        }
      },
      "execution_count": 12,
      "outputs": [
        {
          "output_type": "stream",
          "name": "stdout",
          "text": [
            "No, there is no such item in your list\n"
          ]
        }
      ]
    },
    {
      "cell_type": "markdown",
      "source": [
        "# Task 1:\n",
        "1. Create the List:\n",
        "\n",
        "- Create a list named favorite_fruits that contains the names of five of your favorite fruits.\n",
        "- Print the list.\n",
        "2. Access Items by Index:\n",
        "\n",
        "- Print the first fruit in the list.\n",
        "- Print the last fruit in the list.\n",
        "3. Append a New Item:\n",
        "\n",
        "- Add another fruit to the list.\n",
        "- Print the updated list.\n",
        "4. Remove an Item:\n",
        "\n",
        "- Remove one fruit from the list.\n",
        "- Print the updated list."
      ],
      "metadata": {
        "id": "C630Hb5rfpO6"
      }
    },
    {
      "cell_type": "code",
      "source": [
        "# Your code is here"
      ],
      "metadata": {
        "id": "y7Fp15iPf-2o"
      },
      "execution_count": null,
      "outputs": []
    },
    {
      "cell_type": "markdown",
      "source": [
        "# Example Output:\n",
        "```python\n",
        "Favorite Fruits: ['Apple', 'Banana', 'Cherry', 'Date', 'Elderberry']\n",
        "First fruit: Apple\n",
        "Last fruit: Elderberry\n",
        "Updated Favorite Fruits: ['Apple', 'Banana', 'Cherry', 'Date', 'Elderberry', 'Fig']\n",
        "Final Favorite Fruits: ['Apple', 'Banana', 'Cherry', 'Elderberry', 'Fig']\n",
        "\n",
        "```"
      ],
      "metadata": {
        "id": "pxu-KXxHgCKJ"
      }
    },
    {
      "cell_type": "code",
      "source": [],
      "metadata": {
        "id": "CQgiTKsIgNtW"
      },
      "execution_count": null,
      "outputs": []
    },
    {
      "cell_type": "markdown",
      "source": [
        "# Task 2\n",
        "1. Create the List:\n",
        "\n",
        "- Create a list named favorite_books that contains the names of five of your favorite books.\n",
        "- Print the list.\n",
        "2. Access Items by Index:\n",
        "\n",
        "- Print the first book in the list.\n",
        "- Print the third book in the list.\n",
        "- Print the last book in the list.\n",
        "3. Append a New Item:\n",
        "\n",
        "- Add another book to the list.\n",
        "- Print the updated list.\n",
        "4. Remove an Item:\n",
        "\n",
        "- Remove the second book from the list.\n",
        "- Print the updated list.\n",
        "5. Sort the List:\n",
        "\n",
        "- Sort the list in alphabetical order.\n",
        "- Print the sorted list."
      ],
      "metadata": {
        "id": "gK2p8cvEg8cz"
      }
    },
    {
      "cell_type": "code",
      "source": [],
      "metadata": {
        "id": "ZYCD4UR2hSBI"
      },
      "execution_count": null,
      "outputs": []
    }
  ]
}