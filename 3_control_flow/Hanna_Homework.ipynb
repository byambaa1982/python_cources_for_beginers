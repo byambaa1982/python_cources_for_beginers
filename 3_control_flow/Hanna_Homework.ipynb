{
  "nbformat": 4,
  "nbformat_minor": 0,
  "metadata": {
    "colab": {
      "provenance": [],
      "include_colab_link": true
    },
    "kernelspec": {
      "name": "python3",
      "display_name": "Python 3"
    },
    "language_info": {
      "name": "python"
    }
  },
  "cells": [
    {
      "cell_type": "markdown",
      "metadata": {
        "id": "view-in-github",
        "colab_type": "text"
      },
      "source": [
        "<a href=\"https://colab.research.google.com/github/byambaa1982/python_cources_for_beginers/blob/class_zero_hannah/3_control_flow/Hanna_Homework.ipynb\" target=\"_parent\"><img src=\"https://colab.research.google.com/assets/colab-badge.svg\" alt=\"Open In Colab\"/></a>"
      ]
    },
    {
      "cell_type": "code",
      "execution_count": null,
      "metadata": {
        "colab": {
          "base_uri": "https://localhost:8080/"
        },
        "id": "gOn_NE9sX1hz",
        "outputId": "340d4849-09bf-4950-8952-c7c508256d10"
      },
      "outputs": [
        {
          "output_type": "stream",
          "name": "stdout",
          "text": [
            "Hello, my name is Alice. I am 30 years old and 5.5 feet tall.\n",
            "Hello, my name is Alice. I am 30 years old and 5.5 feet tall.\n"
          ]
        }
      ],
      "source": [
        "# Define some variables\n",
        "name = \"Alice\"\n",
        "age = 30\n",
        "height = 5.5\n",
        "\n",
        "# Using print with concatenation\n",
        "print(\"Hello, my name is \" + name + \". I am \" + str(age) + \" years old and \" + str(height) + \" feet tall.\")\n",
        "\n",
        "# Using print with f-strings\n",
        "print(f\"Hello, my name is {name}. I am {age} years old and {height} feet tall.\")\n"
      ]
    },
    {
      "cell_type": "code",
      "source": [],
      "metadata": {
        "id": "zsqGTQWcmLUk"
      },
      "execution_count": null,
      "outputs": []
    },
    {
      "cell_type": "code",
      "source": [
        "# Step 1: Create some variables\n",
        "name = \"Hannah\"\n",
        "age = 10\n",
        "hobby = \"swimming\"\n",
        "\n",
        "# Step 3: Print Using F-Strings\n",
        "print( f\"Hello, my name is\" {Hannah}\".I am {10} years old and I love\" {\"swimming\"}\".\")\n"
      ],
      "metadata": {
        "id": "lMEn10--YO5Q",
        "outputId": "eeeeccdf-a455-429a-9284-f10f52c8fce7",
        "colab": {
          "base_uri": "https://localhost:8080/",
          "height": 109
        }
      },
      "execution_count": 22,
      "outputs": [
        {
          "output_type": "error",
          "ename": "SyntaxError",
          "evalue": "invalid syntax. Perhaps you forgot a comma? (<ipython-input-22-2956ae0314b7>, line 7)",
          "traceback": [
            "\u001b[0;36m  File \u001b[0;32m\"<ipython-input-22-2956ae0314b7>\"\u001b[0;36m, line \u001b[0;32m7\u001b[0m\n\u001b[0;31m    print( f\"Hello, my name is\" {Hannah}\".I am {10} years old and I love\" {\"swimming\"}\".\")\u001b[0m\n\u001b[0m           ^\u001b[0m\n\u001b[0;31mSyntaxError\u001b[0m\u001b[0;31m:\u001b[0m invalid syntax. Perhaps you forgot a comma?\n"
          ]
        }
      ]
    },
    {
      "cell_type": "markdown",
      "source": [
        "# 1. Complete ths code"
      ],
      "metadata": {
        "id": "Pq_wCJayYRn0"
      }
    },
    {
      "cell_type": "markdown",
      "source": [
        "# 2. Complete the code"
      ],
      "metadata": {
        "id": "cviO41EcZKKS"
      }
    },
    {
      "cell_type": "code",
      "source": [
        "# Step 1: Create Variables\n",
        "name =\n",
        "favorite_movie =\n",
        "movie_year =\n",
        "\n",
        "# Step 2: Print Using Concatenation\n",
        "print(\"Hello, my name is \" \". My favorite movie is \"  \" which was released in \" + str(movie_year) + \".\")\n",
        "\n",
        "# Step 3: Print Using F-Strings\n",
        "print(f\"Hello, my name is {name}. My favorite movie is {favorite_movie} which was released in {movie_year}.\")\n"
      ],
      "metadata": {
        "id": "MIx8ThaDZPI0"
      },
      "execution_count": null,
      "outputs": []
    },
    {
      "cell_type": "markdown",
      "source": [
        "# 3. Complete the if else code"
      ],
      "metadata": {
        "id": "43a1-h8iZwWZ"
      }
    },
    {
      "cell_type": "code",
      "source": [
        "# Step 1: Create a Variable\n",
        "number = 5  # You can change this value to test different cases\n",
        "\n",
        "# Step 2: Use if-else Statement\n",
        "if number > 0:\n",
        "    print(f\"The number {number} is positive.\")\n",
        "elif number < 0:\n",
        "    print(f\"The number {number} is negative.\")\n",
        "else:\n",
        "    print(f\"The number is zero.\")\n"
      ],
      "metadata": {
        "colab": {
          "base_uri": "https://localhost:8080/"
        },
        "id": "AvQDIVODZ0Od",
        "outputId": "d1d66b96-a0e1-40c7-bd2c-b60e42a1b3ce"
      },
      "execution_count": null,
      "outputs": [
        {
          "output_type": "stream",
          "name": "stdout",
          "text": [
            "The number 5 is positive.\n"
          ]
        }
      ]
    },
    {
      "cell_type": "code",
      "source": [
        "# Step 1: Create a Variable\n",
        "number = 7  # You can change this value to test different cases\n",
        "\n",
        "# Step 2: Use if-else Statement\n",
        "if number % 2 == 0:\n",
        "    print(f\"The number {} is even.\")\n",
        "else:\n",
        "    print(f\"The number {} is odd.\")\n"
      ],
      "metadata": {
        "id": "ZIP6XTguZ3SF"
      },
      "execution_count": null,
      "outputs": []
    },
    {
      "cell_type": "code",
      "source": [
        "# Step 1: Create a Variable\n",
        "age = 16  # You can change this value to test different cases\n",
        "\n",
        "# Step 2: Use if-else Statement\n",
        "if age >= 18:\n",
        "    print(f\"You are {} years old and eligible to vote.\")\n",
        "else:\n",
        "    print(f\"You are {} years old and not eligible to vote.\")\n"
      ],
      "metadata": {
        "id": "uCud9k4raPIS"
      },
      "execution_count": null,
      "outputs": []
    },
    {
      "cell_type": "code",
      "source": [
        "# Step 1: Create a Variable\n",
        "score =   # You can change this value to test different cases\n",
        "\n",
        "# Step 2: Use if-else Statement to Classify Grades\n",
        "if score >= 90:\n",
        "    print(f\"Your score is {score}. You got an A.\")\n",
        "elif score >= 80:\n",
        "    print(f\"Your score is {score}. You got a B.\")\n",
        "elif score >= 70:\n",
        "    print(f\"Your score is {score}. You got a C.\")\n",
        "elif score >= 60:\n",
        "    print(f\"Your score is {score}. You got a D.\")\n",
        "else:\n",
        "    print(f\"Your score is {score}. You got an F.\")\n"
      ],
      "metadata": {
        "id": "-fdPiZxJamIn"
      },
      "execution_count": null,
      "outputs": []
    },
    {
      "cell_type": "code",
      "source": [
        "# Step 1: Create a Variable\n",
        "temperature = 30  # You can change this value to test different cases\n",
        "\n",
        "# Step 2: Use if-else Statement to Describe Temperature\n",
        "if temperature > 30:\n",
        "    print(f\"The temperature is {temperature}°C. It's hot outside.\")\n",
        "elif temperature > 20:\n",
        "    print(f\"The temperature is {temperature}°C. It's warm outside.\")\n",
        "elif temperature > 10:\n",
        "    print(f\"The temperature is {temperature}°C. It's cool outside.\")\n",
        "else:\n",
        "    print(f\"The temperature is {temperature}°C. It's cold outside.\")\n"
      ],
      "metadata": {
        "id": "2qfT17oVapri"
      },
      "execution_count": null,
      "outputs": []
    },
    {
      "cell_type": "markdown",
      "source": [
        "# for loop tasks"
      ],
      "metadata": {
        "id": "tKM1wSK-a1W4"
      }
    },
    {
      "cell_type": "code",
      "source": [
        "# Using a for loop to print numbers from 1 to 5\n",
        "for i in range(1, 6):\n",
        "    print(i)\n"
      ],
      "metadata": {
        "colab": {
          "base_uri": "https://localhost:8080/"
        },
        "id": "CeSgxtQBa0gz",
        "outputId": "3b7d91d6-35fa-4f93-bcae-9e9dd99a283b"
      },
      "execution_count": null,
      "outputs": [
        {
          "output_type": "stream",
          "name": "stdout",
          "text": [
            "1\n",
            "2\n",
            "3\n",
            "4\n",
            "5\n"
          ]
        }
      ]
    },
    {
      "cell_type": "code",
      "source": [
        "# Using a for loop to print numbers from 1 to 5 with f-strings\n",
        "for i in range(1, 6):\n",
        "    print(f\"The current number is {}\")\n"
      ],
      "metadata": {
        "id": "yLtEUwqsa7N8"
      },
      "execution_count": null,
      "outputs": []
    },
    {
      "cell_type": "code",
      "source": [
        "# Step 1: Create a List of Fruits\n",
        "fruits = [\"apple\", \"banana\", \"cherry\", \"date\", \"elderberry\"]\n",
        "\n",
        "# Step 2: Using a for loop to print each fruit with f-strings\n",
        "for  in fruits:\n",
        "    print(f\"I like to eat {fruit}.\")\n"
      ],
      "metadata": {
        "id": "IVOc-YvUbOwu"
      },
      "execution_count": null,
      "outputs": []
    },
    {
      "cell_type": "code",
      "source": [
        "# Step 1: Create a List of Colors\n",
        "colors = []\n",
        "\n",
        "# Step 2: Using a for loop to print each color with f-strings\n",
        "for color in colors:\n",
        "    print(f\"My favorite color is {color}.\")\n"
      ],
      "metadata": {
        "id": "u6bI2lxPbct4"
      },
      "execution_count": null,
      "outputs": []
    },
    {
      "cell_type": "code",
      "source": [
        "# Step 1: Create a List of Animals\n",
        "animals = [\"dog\", \"cat\", \"elephant\", \"giraffe\", \"lion\"]\n",
        "\n",
        "# Step 2: Using a for loop to print each animal with f-strings\n",
        "for animal in :\n",
        "    print(f\"The zoo has a {animal}.\")\n"
      ],
      "metadata": {
        "id": "T7_gT6YvbiIi"
      },
      "execution_count": null,
      "outputs": []
    },
    {
      "cell_type": "code",
      "source": [
        "# Step 1: Create a List of Fruits\n",
        "fruits = [\"apple\", \"banana\", \"cherry\", \"date\", \"elderberry\"]\n",
        "\n",
        "# Step 2: Using a for loop and if-else statement to print each fruit with f-strings\n",
        "for fruit in fruits:\n",
        "    if len(fruit) < 6:\n",
        "        print(f\"The fruit {fruit} has a short name.\")\n",
        "    else:\n",
        "        print(f\"The fruit {fruit} has a long name.\")\n"
      ],
      "metadata": {
        "id": "UC7yd_a4btNv"
      },
      "execution_count": null,
      "outputs": []
    }
  ]
}