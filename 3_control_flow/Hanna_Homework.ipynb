{
  "nbformat": 4,
  "nbformat_minor": 0,
  "metadata": {
    "colab": {
      "provenance": [],
      "include_colab_link": true
    },
    "kernelspec": {
      "name": "python3",
      "display_name": "Python 3"
    },
    "language_info": {
      "name": "python"
    }
  },
  "cells": [
    {
      "cell_type": "markdown",
      "metadata": {
        "id": "view-in-github",
        "colab_type": "text"
      },
      "source": [
        "<a href=\"https://colab.research.google.com/github/byambaa1982/python_cources_for_beginers/blob/class_zero_hannah/3_control_flow/Hanna_Homework.ipynb\" target=\"_parent\"><img src=\"https://colab.research.google.com/assets/colab-badge.svg\" alt=\"Open In Colab\"/></a>"
      ]
    },
    {
      "cell_type": "code",
      "execution_count": null,
      "metadata": {
        "colab": {
          "base_uri": "https://localhost:8080/"
        },
        "id": "gOn_NE9sX1hz",
        "outputId": "340d4849-09bf-4950-8952-c7c508256d10"
      },
      "outputs": [
        {
          "output_type": "stream",
          "name": "stdout",
          "text": [
            "Hello, my name is Alice. I am 30 years old and 5.5 feet tall.\n",
            "Hello, my name is Alice. I am 30 years old and 5.5 feet tall.\n"
          ]
        }
      ],
      "source": [
        "# Define some variables\n",
        "name = \"Alice\"\n",
        "age = 30\n",
        "height = 5.5\n",
        "\n",
        "# Using print with concatenation\n",
        "print(\"Hello, my name is \" + name + \". I am \" + str(age) + \" years old and \" + str(height) + \" feet tall.\")\n",
        "\n",
        "# Using print with f-strings\n",
        "print(f\"Hello, my name is {name}. I am {age} years old and {height} feet tall.\")\n"
      ]
    },
    {
      "cell_type": "code",
      "source": [],
      "metadata": {
        "id": "zsqGTQWcmLUk"
      },
      "execution_count": null,
      "outputs": []
    },
    {
      "cell_type": "code",
      "source": [
        "# Step 1: Create some variables\n",
        "name = \"Hannah\"\n",
        "age = 10\n",
        "hobby = \"swimming\"\n",
        "\n",
        "# Step 3: Print Using F-Strings\n",
        "print(f\"Hello, my name is {name}.I am {age} years old and I love {hobby}.\")\n"
      ],
      "metadata": {
        "id": "lMEn10--YO5Q",
        "outputId": "a47dad1d-1c9a-42a0-8d53-eaddb2b4bd26",
        "colab": {
          "base_uri": "https://localhost:8080/"
        }
      },
      "execution_count": null,
      "outputs": [
        {
          "output_type": "stream",
          "name": "stdout",
          "text": [
            "Hello, my name is Hannah.I am 10 years old and I love swimming.\n"
          ]
        }
      ]
    },
    {
      "cell_type": "markdown",
      "source": [
        "# 1. Complete ths code"
      ],
      "metadata": {
        "id": "Pq_wCJayYRn0"
      }
    },
    {
      "cell_type": "markdown",
      "source": [
        "# 2. Complete the code"
      ],
      "metadata": {
        "id": "cviO41EcZKKS"
      }
    },
    {
      "cell_type": "code",
      "source": [
        "# Step 1: Create Variables\n",
        "name = \"Hannah\"\n",
        "favorite_movie = \"rush hour\"\n",
        "movie_year  = \"1998\"\n",
        "\n",
        "# Step 3: Print Using F-Strings\n",
        "print(f\"Hello, my name is {name}. My favorite movie is {favorite_movie} which was released in {movie_year}.\")\n"
      ],
      "metadata": {
        "id": "MIx8ThaDZPI0",
        "colab": {
          "base_uri": "https://localhost:8080/"
        },
        "outputId": "f374b6ca-9d91-49ef-efb7-f08ecc1d3fef"
      },
      "execution_count": null,
      "outputs": [
        {
          "output_type": "stream",
          "name": "stdout",
          "text": [
            "Hello, my name is Hannah. My favorite movie is rush hour which was released in 1998.\n"
          ]
        }
      ]
    },
    {
      "cell_type": "markdown",
      "source": [
        "# 3. Complete the if else code"
      ],
      "metadata": {
        "id": "43a1-h8iZwWZ"
      }
    },
    {
      "cell_type": "code",
      "source": [
        "# Step 1: Create a Variable\n",
        "number = 5  # You can change this value to test different cases\n",
        "\n",
        "# Step 2: Use if-else Statement\n",
        "if number > 0:\n",
        "    print(f\"The number {number} is positive.\")\n",
        "elif number < 0:\n",
        "    print(f\"The number {number} is negative.\")\n",
        "else:\n",
        "    print(f\"The number is zero.\")\n"
      ],
      "metadata": {
        "colab": {
          "base_uri": "https://localhost:8080/"
        },
        "id": "AvQDIVODZ0Od",
        "outputId": "d1d66b96-a0e1-40c7-bd2c-b60e42a1b3ce"
      },
      "execution_count": null,
      "outputs": [
        {
          "output_type": "stream",
          "name": "stdout",
          "text": [
            "The number 5 is positive.\n"
          ]
        }
      ]
    },
    {
      "cell_type": "code",
      "source": [
        "# Step 1: Create a Variable\n",
        "number = 7  # You can change this value to test different cases\n",
        "\n",
        "# Step 2: Use if-else Statement\n",
        "if number % 2 == 0:\n",
        "    print(f\"The number {2} is even.\")\n",
        "else:\n",
        "    print(f\"The number {3} is odd.\")\n"
      ],
      "metadata": {
        "id": "ZIP6XTguZ3SF",
        "colab": {
          "base_uri": "https://localhost:8080/"
        },
        "outputId": "5094f9f5-f4a5-48c2-90eb-dfa4dc63f71e"
      },
      "execution_count": 2,
      "outputs": [
        {
          "output_type": "stream",
          "name": "stdout",
          "text": [
            "The number 3 is odd.\n"
          ]
        }
      ]
    },
    {
      "cell_type": "code",
      "source": [
        "# Step 1: Create a Variable\n",
        "age = 16  # You can change this value to test different cases\n",
        "\n",
        "# Step 2: Use if-else Statement\n",
        "if age >= 18:\n",
        "    print (f\"You are {age} years old and eligible to vote.\")\n",
        "else:\n",
        "    print (f\"You are {age} years old and not eligible to vote.\")\n"
      ],
      "metadata": {
        "id": "uCud9k4raPIS",
        "colab": {
          "base_uri": "https://localhost:8080/"
        },
        "outputId": "b1005500-03e7-47f5-edbd-f5670b68d1b8"
      },
      "execution_count": 5,
      "outputs": [
        {
          "output_type": "stream",
          "name": "stdout",
          "text": [
            "You are 16 years old and not eligible to vote.\n"
          ]
        }
      ]
    },
    {
      "cell_type": "code",
      "source": [
        "# Step 1: Create a Variable\n",
        "score = 50\n",
        "\n",
        "# Step 2: Use if-else Statement to Classify Grades\n",
        "if score >= 90:\n",
        "    print(f\"Your score is {score}. You got an A.\")\n",
        "elif score >= 80:\n",
        "    print(f\"Your score is {score}. You got a B.\")\n",
        "elif score >= 70:\n",
        "    print(f\"Your score is {score}. You got a C.\")\n",
        "elif score >= 60:\n",
        "    print(f\"Your score is {score}. You got a D.\")\n",
        "else:\n",
        "    print(f\"Your score is {score}. You got an F.\")\n"
      ],
      "metadata": {
        "id": "-fdPiZxJamIn",
        "colab": {
          "base_uri": "https://localhost:8080/"
        },
        "outputId": "8b08f811-dc17-418a-fc1a-a20a4584fdf8"
      },
      "execution_count": 7,
      "outputs": [
        {
          "output_type": "stream",
          "name": "stdout",
          "text": [
            "Your score is 50. You got an F.\n"
          ]
        }
      ]
    },
    {
      "cell_type": "code",
      "source": [],
      "metadata": {
        "id": "VDyN-E9rkZxx"
      },
      "execution_count": null,
      "outputs": []
    },
    {
      "cell_type": "code",
      "source": [
        "# Step 1: Create a Variable\n",
        "temperature = 30\n",
        "\n",
        "# Step 2: Use if-else Statement to Describe Temperature\n",
        "if temperature > 30:\n",
        "    print(f\"The temperature is {temperature}°C. It's hot outside.\")\n",
        "elif temperature > 20:\n",
        "    print(f\"The temperature is {temperature}°C. It's warm outside.\")\n",
        "elif temperature > 10:\n",
        "    print(f\"The temperature is {temperature}°C. It's cool outside.\")\n",
        "else:\n",
        "    print(f\"The temperature is {temperature}°C. It's cold outside.\")\n"
      ],
      "metadata": {
        "id": "2qfT17oVapri",
        "colab": {
          "base_uri": "https://localhost:8080/"
        },
        "outputId": "38348d23-00cf-4fa1-9e9e-203cae8c72d1"
      },
      "execution_count": 8,
      "outputs": [
        {
          "output_type": "stream",
          "name": "stdout",
          "text": [
            "The temperature is 30°C. It's warm outside.\n"
          ]
        }
      ]
    },
    {
      "cell_type": "markdown",
      "source": [
        "# for loop tasks"
      ],
      "metadata": {
        "id": "tKM1wSK-a1W4"
      }
    },
    {
      "cell_type": "code",
      "source": [
        "# Using a for loop to print numbers from 1 to 5\n",
        "for i in range(1, 6):\n",
        "    print(i)\n"
      ],
      "metadata": {
        "colab": {
          "base_uri": "https://localhost:8080/"
        },
        "id": "CeSgxtQBa0gz",
        "outputId": "59c20d6d-71c7-4920-b064-041d3142faab"
      },
      "execution_count": 9,
      "outputs": [
        {
          "output_type": "stream",
          "name": "stdout",
          "text": [
            "1\n",
            "2\n",
            "3\n",
            "4\n",
            "5\n"
          ]
        }
      ]
    },
    {
      "cell_type": "code",
      "source": [
        "# Using a for loop to print numbers from 1 to 5 with f-strings\n",
        "for i in range(1, 6):\n",
        "    print(f\"The current number is {i}\")\n"
      ],
      "metadata": {
        "id": "yLtEUwqsa7N8",
        "colab": {
          "base_uri": "https://localhost:8080/"
        },
        "outputId": "ac3a22f0-670c-4a60-e7d1-e8dc1373bcef"
      },
      "execution_count": 10,
      "outputs": [
        {
          "output_type": "stream",
          "name": "stdout",
          "text": [
            "The current number is 1\n",
            "The current number is 2\n",
            "The current number is 3\n",
            "The current number is 4\n",
            "The current number is 5\n"
          ]
        }
      ]
    },
    {
      "cell_type": "code",
      "source": [
        "# Step 1: Create a List of Fruits\n",
        "fruits = [\"apple\", \"banana\", \"cherry\", \"date\", \"elderberry\"],\n",
        "\n",
        "# Step 2: Using a for loop to print each fruit with f-strings\n",
        "for i in fruits:\n",
        "    print(f\"I like to eat {fruits}.\")\n"
      ],
      "metadata": {
        "id": "IVOc-YvUbOwu",
        "colab": {
          "base_uri": "https://localhost:8080/"
        },
        "outputId": "69f27e5b-edd1-4e9d-ed6d-a6d5d85fa897"
      },
      "execution_count": 13,
      "outputs": [
        {
          "output_type": "stream",
          "name": "stdout",
          "text": [
            "I like to eat (['apple', 'banana', 'cherry', 'date', 'elderberry'],).\n"
          ]
        }
      ]
    },
    {
      "cell_type": "code",
      "source": [
        "# Step 1: Create a List of Colors\n",
        "colors = [\"rose peach\"]\n",
        "\n",
        "# Step 2: Using a for loop to print each color with f-strings\n",
        "for color in colors:\n",
        "    print(f\"My favorite color is {color}.\")\n"
      ],
      "metadata": {
        "id": "u6bI2lxPbct4",
        "colab": {
          "base_uri": "https://localhost:8080/"
        },
        "outputId": "074d77ba-1acf-4749-b292-9e92a573d9ab"
      },
      "execution_count": 15,
      "outputs": [
        {
          "output_type": "stream",
          "name": "stdout",
          "text": [
            "My favorite color is rose peach.\n"
          ]
        }
      ]
    },
    {
      "cell_type": "code",
      "source": [
        "# Step 1: Create a List of Animals\n",
        "animals = [\"dog\", \"cat\", \"elephant\", \"giraffe\", \"lion\"]\n",
        "\n",
        "# Step 2: Using a for loop to print each animal with f-strings\n",
        "for animal in animals:\n",
        "    print(f\"The zoo has a {animal}.\")\n"
      ],
      "metadata": {
        "id": "T7_gT6YvbiIi",
        "colab": {
          "base_uri": "https://localhost:8080/"
        },
        "outputId": "974e558a-0983-4222-c5c9-3b83b9f6cbca"
      },
      "execution_count": 16,
      "outputs": [
        {
          "output_type": "stream",
          "name": "stdout",
          "text": [
            "The zoo has a dog.\n",
            "The zoo has a cat.\n",
            "The zoo has a elephant.\n",
            "The zoo has a giraffe.\n",
            "The zoo has a lion.\n"
          ]
        }
      ]
    },
    {
      "cell_type": "code",
      "source": [
        "# Step 1: Create a List of Fruits\n",
        "fruits = [\"apple\", \"banana\", \"cherry\", \"date\", \"elderberry\"]\n",
        "\n",
        "# Step 2: Using a for loop and if-else statement to print each fruit with f-stringsr\n",
        "for fruit in fruits:\n",
        "    if len(fruit) < 6:\n",
        "        print(f\"The fruit {fruit} has a short name.\")\n",
        "    else:\n",
        "        print(f\"The fruit {fruit} has a long name.\")\n"
      ],
      "metadata": {
        "id": "UC7yd_a4btNv"
      },
      "execution_count": null,
      "outputs": []
    }
  ]
}