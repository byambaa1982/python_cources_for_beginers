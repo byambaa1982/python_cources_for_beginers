{
  "nbformat": 4,
  "nbformat_minor": 0,
  "metadata": {
    "colab": {
      "provenance": [],
      "include_colab_link": true
    },
    "kernelspec": {
      "name": "python3",
      "display_name": "Python 3"
    },
    "language_info": {
      "name": "python"
    }
  },
  "cells": [
    {
      "cell_type": "markdown",
      "metadata": {
        "id": "view-in-github",
        "colab_type": "text"
      },
      "source": [
        "<a href=\"https://colab.research.google.com/github/byambaa1982/python_cources_for_beginers/blob/class_zero_burentugs/3_control_flow/conditional.ipynb\" target=\"_parent\"><img src=\"https://colab.research.google.com/assets/colab-badge.svg\" alt=\"Open In Colab\"/></a>"
      ]
    },
    {
      "cell_type": "code",
      "execution_count": null,
      "metadata": {
        "colab": {
          "base_uri": "https://localhost:8080/",
          "height": 35
        },
        "id": "9MX4lNnxC6Ys",
        "outputId": "9e8d1635-2a7f-48fc-8537-f7fea8901b63"
      },
      "outputs": [
        {
          "output_type": "execute_result",
          "data": {
            "text/plain": [
              "'Hi'"
            ],
            "application/vnd.google.colaboratory.intrinsic+json": {
              "type": "string"
            }
          },
          "metadata": {},
          "execution_count": 1
        }
      ],
      "source": [
        "\"Hi\""
      ]
    },
    {
      "cell_type": "code",
      "source": [
        "x = 5\n",
        "if x > 5:\n",
        "    print(\"x is more than 5\")\n",
        "else :\n",
        "    print(\"x is less than 5\")"
      ],
      "metadata": {
        "colab": {
          "base_uri": "https://localhost:8080/"
        },
        "id": "izqZ4fxzGrTW",
        "outputId": "a36627a6-af28-43c3-c0a1-8a92375b3415"
      },
      "execution_count": 8,
      "outputs": [
        {
          "output_type": "stream",
          "name": "stdout",
          "text": [
            "x is less than 5\n"
          ]
        }
      ]
    },
    {
      "cell_type": "code",
      "source": [
        "my_height = 179\n",
        "dad_height = 178\n",
        "if my_height < dad_height:\n",
        "    print(\"I am shorter than dad\")\n",
        "elif my_height == dad_height:\n",
        "    print(\"I am the same height as dad\")\n",
        "else:\n",
        "    print(\"I am taller than dad\")"
      ],
      "metadata": {
        "colab": {
          "base_uri": "https://localhost:8080/"
        },
        "id": "RGlJqYpMHdEn",
        "outputId": "5e177101-fdca-41b1-fa4b-8a5883eca1c0"
      },
      "execution_count": 14,
      "outputs": [
        {
          "output_type": "stream",
          "name": "stdout",
          "text": [
            "I am taller than dad\n"
          ]
        }
      ]
    }
  ]
}