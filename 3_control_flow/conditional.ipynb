{
  "nbformat": 4,
  "nbformat_minor": 0,
  "metadata": {
    "colab": {
      "provenance": [],
      "authorship_tag": "ABX9TyN9bpaDKtYLKa63WAbqLEKp",
      "include_colab_link": true
    },
    "kernelspec": {
      "name": "python3",
      "display_name": "Python 3"
    },
    "language_info": {
      "name": "python"
    }
  },
  "cells": [
    {
      "cell_type": "markdown",
      "metadata": {
        "id": "view-in-github",
        "colab_type": "text"
      },
      "source": [
        "<a href=\"https://colab.research.google.com/github/byambaa1982/python_cources_for_beginers/blob/main/3_control_flow/conditional.ipynb\" target=\"_parent\"><img src=\"https://colab.research.google.com/assets/colab-badge.svg\" alt=\"Open In Colab\"/></a>"
      ]
    },
    {
      "cell_type": "code",
      "execution_count": 1,
      "metadata": {
        "colab": {
          "base_uri": "https://localhost:8080/",
          "height": 35
        },
        "id": "9MX4lNnxC6Ys",
        "outputId": "06f467e1-daab-4cc1-b5c7-4738a0e0e497"
      },
      "outputs": [
        {
          "output_type": "execute_result",
          "data": {
            "text/plain": [
              "'Hello'"
            ],
            "application/vnd.google.colaboratory.intrinsic+json": {
              "type": "string"
            }
          },
          "metadata": {},
          "execution_count": 1
        }
      ],
      "source": [
        "\"Hello\""
      ]
    },
    {
      "cell_type": "code",
      "source": [
        "x = 6\n",
        "\n",
        "if x > 5:\n",
        "  print(\"x is more than 5\")\n",
        "if x<=5:\n",
        "  print(\"x is less than 5\")"
      ],
      "metadata": {
        "colab": {
          "base_uri": "https://localhost:8080/"
        },
        "id": "c6CgV0jkGlHD",
        "outputId": "8ce99899-808f-441e-acee-d532debe97f1"
      },
      "execution_count": 25,
      "outputs": [
        {
          "output_type": "stream",
          "name": "stdout",
          "text": [
            "x is more than 5\n"
          ]
        }
      ]
    },
    {
      "cell_type": "code",
      "source": [
        "x = 6\n",
        "\n",
        "if x > 5:\n",
        "  print(\"x is more than 5\")\n",
        "else:\n",
        "  print(\"x is less than 5\")"
      ],
      "metadata": {
        "colab": {
          "base_uri": "https://localhost:8080/"
        },
        "id": "j0XbzxliDnGu",
        "outputId": "a6efd892-ab54-4da8-97a3-23bb231d124a"
      },
      "execution_count": 26,
      "outputs": [
        {
          "output_type": "stream",
          "name": "stdout",
          "text": [
            "x is more than 5\n"
          ]
        }
      ]
    },
    {
      "cell_type": "code",
      "source": [
        "my_age = 10\n",
        "your_age = 10"
      ],
      "metadata": {
        "id": "4hRl6d57DrBW"
      },
      "execution_count": 39,
      "outputs": []
    },
    {
      "cell_type": "code",
      "source": [
        "print(my_age)"
      ],
      "metadata": {
        "colab": {
          "base_uri": "https://localhost:8080/"
        },
        "id": "euknLy_SGSaP",
        "outputId": "51498c4d-650c-46cd-c73a-c981a3d10bb4"
      },
      "execution_count": 36,
      "outputs": [
        {
          "output_type": "stream",
          "name": "stdout",
          "text": [
            "0\n"
          ]
        }
      ]
    },
    {
      "cell_type": "code",
      "source": [
        "if my_age == your_age:\n",
        "  print(\"Yes, you are same ages\")"
      ],
      "metadata": {
        "colab": {
          "base_uri": "https://localhost:8080/"
        },
        "id": "ZA2fPJ1uGfck",
        "outputId": "09711128-545e-4628-d9c9-20f26475ae3f"
      },
      "execution_count": 40,
      "outputs": [
        {
          "output_type": "stream",
          "name": "stdout",
          "text": [
            "Yes, you are same ages\n"
          ]
        }
      ]
    },
    {
      "cell_type": "code",
      "source": [
        "my_age = your_age"
      ],
      "metadata": {
        "id": "iWijDr3aDztm"
      },
      "execution_count": 33,
      "outputs": []
    },
    {
      "cell_type": "code",
      "source": [
        "print(my_age)"
      ],
      "metadata": {
        "colab": {
          "base_uri": "https://localhost:8080/"
        },
        "id": "aXIediKtGVd-",
        "outputId": "72602e04-500f-487a-d196-db82a7b900c0"
      },
      "execution_count": 34,
      "outputs": [
        {
          "output_type": "stream",
          "name": "stdout",
          "text": [
            "10\n"
          ]
        }
      ]
    },
    {
      "cell_type": "code",
      "source": [
        "my_age"
      ],
      "metadata": {
        "colab": {
          "base_uri": "https://localhost:8080/"
        },
        "id": "MiBexOfgGOYt",
        "outputId": "00a1f4cc-cdb0-4264-c216-1ea5656c0746"
      },
      "execution_count": 30,
      "outputs": [
        {
          "output_type": "execute_result",
          "data": {
            "text/plain": [
              "10"
            ]
          },
          "metadata": {},
          "execution_count": 30
        }
      ]
    },
    {
      "cell_type": "code",
      "source": [
        "my_age = 20\n",
        "your_age = 10\n",
        "\n",
        "if my_age > your_age:\n",
        "  print(\"I am older than you\")\n",
        "elif my_age == your_age:\n",
        "  print(\"I am the same age as you\")\n",
        "elif my_age == 0:\n",
        "  print(\"I am baby\")\n",
        "else:\n",
        "  print(\"I am younger than you\")"
      ],
      "metadata": {
        "colab": {
          "base_uri": "https://localhost:8080/"
        },
        "id": "QqlLwPe4HXIM",
        "outputId": "2fd86c6e-7c7a-4790-809e-aef280ec7af8"
      },
      "execution_count": 43,
      "outputs": [
        {
          "output_type": "stream",
          "name": "stdout",
          "text": [
            "I am older than you\n"
          ]
        }
      ]
    },
    {
      "cell_type": "markdown",
      "source": [
        "# Task 1\n",
        "\n",
        "1. Open a new Python file in your code editor.\n",
        "2. Write the example code provided above.\n",
        "3. Change the value of the age variable to different numbers to see the different outputs.\n",
        "4. Add more age ranges and messages, such as for toddlers, seniors, etc."
      ],
      "metadata": {
        "id": "jvLp-h37I-AL"
      }
    },
    {
      "cell_type": "code",
      "source": [
        "age = 13\n",
        "\n",
        "if age < 3:\n",
        "  print(\"I am a baby\")\n",
        "elif age >=3 and age <13:\n",
        "  print(\"I am a child\")\n",
        "elif age >= 13 and age <18:\n",
        "  print(\"I am a teenager\")\n",
        "else:\n",
        "  print(\"I am an adult\")"
      ],
      "metadata": {
        "colab": {
          "base_uri": "https://localhost:8080/"
        },
        "id": "EGVqz-MGJFEB",
        "outputId": "7163d382-aba0-403d-8ab2-1e9426f216a0"
      },
      "execution_count": 51,
      "outputs": [
        {
          "output_type": "stream",
          "name": "stdout",
          "text": [
            "I am a teenager\n"
          ]
        }
      ]
    },
    {
      "cell_type": "code",
      "source": [],
      "metadata": {
        "id": "f-lJuJe2KNcX"
      },
      "execution_count": null,
      "outputs": []
    },
    {
      "cell_type": "markdown",
      "source": [
        "# Task 2\n",
        "\n",
        "1. Define a variable called favorite_color and assign it a value.\n",
        "2. Use if and else statements to print different messages based on the value of favorite_color.\n",
        "3. If the favorite color is \"blue\", print a message saying \"You like the color of the sky.\"\n",
        "4. If the favorite color is \"green\", print a message saying \"You like the color of the grass.\"\n",
        "5. For any other color, print a message saying \"That's a nice color!\""
      ],
      "metadata": {
        "id": "DbMzDKUoNwZe"
      }
    },
    {
      "cell_type": "code",
      "source": [],
      "metadata": {
        "id": "hqvIs_T0N3rU"
      },
      "execution_count": null,
      "outputs": []
    },
    {
      "cell_type": "markdown",
      "source": [
        "# Task 3\n",
        "\n",
        "1. Define a variable called favorite_animal and assign it a value.\n",
        "2. Use if and else statements to print different messages based on the value of favorite_animal.\n",
        "3. If the favorite animal is \"dog\", print a message saying \"Dogs are very loyal.\"\n",
        "4. If the favorite animal is \"cat\", print a message saying \"Cats are very independent.\"\n",
        "5. For any other animal, print a message saying \"That's an interesting animal!\""
      ],
      "metadata": {
        "id": "ifQekdfiOH8I"
      }
    },
    {
      "cell_type": "code",
      "source": [],
      "metadata": {
        "id": "Y4bpfMm4Ogbm"
      },
      "execution_count": null,
      "outputs": []
    },
    {
      "cell_type": "markdown",
      "source": [
        "# Task 4\n",
        "\n",
        "1. Define a boolean variable called is_raining.\n",
        "2. Use if and else statements to print different messages based on the value of is_raining.\n",
        "3. If is_raining is True, print a message saying \"Take an umbrella.\"\n",
        "4. If is_raining is False, print a message saying \"Enjoy the sunshine!\""
      ],
      "metadata": {
        "id": "iR4b0bN_PTHc"
      }
    },
    {
      "cell_type": "code",
      "source": [],
      "metadata": {
        "id": "T58c1Qc9PZTv"
      },
      "execution_count": null,
      "outputs": []
    },
    {
      "cell_type": "markdown",
      "source": [
        "# Task 5\n",
        "\n",
        "1. Define a boolean variable called has_discount.\n",
        "2. Define two variables for prices: original_price and discounted_price.\n",
        "3. Use if and else statements to calculate the final price based on whether the discount is applied or not.\n",
        "4. Print the final price."
      ],
      "metadata": {
        "id": "EltRNKvEPxWF"
      }
    },
    {
      "cell_type": "code",
      "source": [
        "\n",
        "favorite_toys = [\"Lego\", \"Barbie\", \"Hot Wheels\", \"Rubik's Cube\"]"
      ],
      "metadata": {
        "id": "mTzKymo3PvPv"
      },
      "execution_count": 52,
      "outputs": []
    },
    {
      "cell_type": "code",
      "source": [
        "print(favorite_toys)"
      ],
      "metadata": {
        "colab": {
          "base_uri": "https://localhost:8080/"
        },
        "id": "3hcrXk2bIGP9",
        "outputId": "393e14f0-baf0-4bbe-a228-e45e6f0c4c21"
      },
      "execution_count": 53,
      "outputs": [
        {
          "output_type": "stream",
          "name": "stdout",
          "text": [
            "['Lego', 'Barbie', 'Hot Wheels', \"Rubik's Cube\"]\n"
          ]
        }
      ]
    },
    {
      "cell_type": "code",
      "source": [
        "for toy in favorite_toys:\n",
        "  print(toy)"
      ],
      "metadata": {
        "colab": {
          "base_uri": "https://localhost:8080/"
        },
        "id": "7wqyG88yIIJg",
        "outputId": "4c84df05-0a82-4739-d0f1-f1413e5b26d8"
      },
      "execution_count": 54,
      "outputs": [
        {
          "output_type": "stream",
          "name": "stdout",
          "text": [
            "Lego\n",
            "Barbie\n",
            "Hot Wheels\n",
            "Rubik's Cube\n"
          ]
        }
      ]
    },
    {
      "cell_type": "code",
      "source": [
        "ages = [2, 4, 19, 34, 41]\n",
        "\n",
        "for age in ages:\n",
        "  if age > 10:\n",
        "    print(\"I am not a baby\")\n",
        "  else:\n",
        "    print(\"I am a baby\")"
      ],
      "metadata": {
        "colab": {
          "base_uri": "https://localhost:8080/"
        },
        "id": "tYx3NYYJIhe_",
        "outputId": "cfc9b129-5a3f-466a-81a0-e7b80263d02a"
      },
      "execution_count": 56,
      "outputs": [
        {
          "output_type": "stream",
          "name": "stdout",
          "text": [
            "I am a baby\n",
            "I am a baby\n",
            "I am not a baby\n",
            "I am not a baby\n",
            "I am not a baby\n"
          ]
        }
      ]
    },
    {
      "cell_type": "code",
      "source": [
        "names = [\"Alice\", \"Bob\", \"Charlie\", \"Diana\"]\n",
        "\n",
        "for name in names:\n",
        "  mail = f\"Hi, Mr/Ms {name}. How are you?\"\n",
        "  print(mail)\n",
        "  send_email(mail)"
      ],
      "metadata": {
        "id": "oerLJbo-LcrC",
        "outputId": "cff59f27-eb90-466e-e2e5-91c3a197393b",
        "colab": {
          "base_uri": "https://localhost:8080/"
        }
      },
      "execution_count": 58,
      "outputs": [
        {
          "output_type": "stream",
          "name": "stdout",
          "text": [
            "Hi, Mr/Ms Alice. How are you?\n",
            "Hi, Mr/Ms Bob. How are you?\n",
            "Hi, Mr/Ms Charlie. How are you?\n",
            "Hi, Mr/Ms Diana. How are you?\n"
          ]
        }
      ]
    },
    {
      "cell_type": "code",
      "source": [
        "count = 5\n",
        "\n",
        "while count > 0:\n",
        "  print(f\"Counting down: {count}\")\n",
        "  count -=1"
      ],
      "metadata": {
        "id": "Cz1U6ObhLy1I",
        "outputId": "6b7bc75c-3d02-471f-d9a6-84f4c4bad986",
        "colab": {
          "base_uri": "https://localhost:8080/"
        }
      },
      "execution_count": 59,
      "outputs": [
        {
          "output_type": "stream",
          "name": "stdout",
          "text": [
            "Counting down: 5\n",
            "Counting down: 4\n",
            "Counting down: 3\n",
            "Counting down: 2\n",
            "Counting down: 1\n"
          ]
        }
      ]
    },
    {
      "cell_type": "code",
      "source": [
        "count = 0\n",
        "\n",
        "while count < 5:\n",
        "  print(f\"Counting up: {count}\")\n",
        "  count +=1"
      ],
      "metadata": {
        "id": "3cJAtrS-PRZ6",
        "outputId": "0fc34a1e-f2bb-4f36-9f36-8217772c3157",
        "colab": {
          "base_uri": "https://localhost:8080/"
        }
      },
      "execution_count": 61,
      "outputs": [
        {
          "output_type": "stream",
          "name": "stdout",
          "text": [
            "Counting up: 0\n",
            "Counting up: 1\n",
            "Counting up: 2\n",
            "Counting up: 3\n",
            "Counting up: 4\n"
          ]
        }
      ]
    }
  ]
}