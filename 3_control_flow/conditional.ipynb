{
  "nbformat": 4,
  "nbformat_minor": 0,
  "metadata": {
    "colab": {
      "provenance": [],
      "include_colab_link": true
    },
    "kernelspec": {
      "name": "python3",
      "display_name": "Python 3"
    },
    "language_info": {
      "name": "python"
    }
  },
  "cells": [
    {
      "cell_type": "markdown",
      "metadata": {
        "id": "view-in-github",
        "colab_type": "text"
      },
      "source": [
        "<a href=\"https://colab.research.google.com/github/byambaa1982/python_cources_for_beginers/blob/class_zero_enko/3_control_flow/conditional.ipynb\" target=\"_parent\"><img src=\"https://colab.research.google.com/assets/colab-badge.svg\" alt=\"Open In Colab\"/></a>"
      ]
    },
    {
      "cell_type": "code",
      "execution_count": null,
      "metadata": {
        "colab": {
          "base_uri": "https://localhost:8080/",
          "height": 35
        },
        "id": "9MX4lNnxC6Ys",
        "outputId": "f89653f7-373c-4a11-c156-83e74cd59c82"
      },
      "outputs": [
        {
          "output_type": "execute_result",
          "data": {
            "text/plain": [
              "'Hi'"
            ],
            "application/vnd.google.colaboratory.intrinsic+json": {
              "type": "string"
            }
          },
          "metadata": {},
          "execution_count": 11
        }
      ],
      "source": [
        "\"Hello\""
      ]
    },
    {
      "cell_type": "code",
      "source": [
        "x = 6\n",
        "\n",
        "if x > 5:\n",
        "  print(\"x is more than 5\")\n",
        "else:\n",
        "  print(\"x is less than 5\")"
      ],
      "metadata": {
        "colab": {
          "base_uri": "https://localhost:8080/"
        },
        "id": "c6CgV0jkGlHD",
        "outputId": "fc243eb5-5a52-46de-8964-0687ba7feb93"
      },
      "execution_count": null,
      "outputs": [
        {
          "output_type": "stream",
          "name": "stdout",
          "text": [
            "x is more than 5\n"
          ]
        }
      ]
    },
    {
      "cell_type": "code",
      "source": [
        "my_age = 5\n",
        "your_age = 10\n",
        "\n",
        "if my_age > your_age:\n",
        "  print(\"I am older than you\")\n",
        "elif my_age == your_age:\n",
        "  print(\"I am the same age as you\")\n",
        "else:\n",
        "  print(\"I am younger than you\")"
      ],
      "metadata": {
        "colab": {
          "base_uri": "https://localhost:8080/"
        },
        "id": "QqlLwPe4HXIM",
        "outputId": "66cea2f3-96e8-4869-9359-9b5920b12d1e"
      },
      "execution_count": null,
      "outputs": [
        {
          "output_type": "stream",
          "name": "stdout",
          "text": [
            "I am younger than you\n"
          ]
        }
      ]
    },
    {
      "cell_type": "markdown",
      "source": [
        "# Task 1\n",
        "\n",
        "1. Open a new Python file in your code editor.\n",
        "2. Write the example code provided above.\n",
        "3. Change the value of the age variable to different numbers to see the different outputs.\n",
        "4. Add more age ranges and messages, such as for toddlers, seniors, etc."
      ],
      "metadata": {
        "id": "jvLp-h37I-AL"
      }
    },
    {
      "cell_type": "code",
      "source": [
        "age = 34\n",
        "\n",
        "if age < 3:\n",
        "  print(\"I am a baby\")\n",
        "elif age >=3 and age <13:\n",
        "  print(\"I am a child\")\n",
        "elif age >=13 and age <18:\n",
        "  print(\"I am a teenager\")\n",
        "else:\n",
        "  print(\"I am an adult\")"
      ],
      "metadata": {
        "colab": {
          "base_uri": "https://localhost:8080/"
        },
        "id": "EGVqz-MGJFEB",
        "outputId": "1aca2c97-9a87-4b05-bf06-ec427a48d119"
      },
      "execution_count": null,
      "outputs": [
        {
          "output_type": "stream",
          "name": "stdout",
          "text": [
            "I am an adult\n"
          ]
        }
      ]
    },
    {
      "cell_type": "code",
      "source": [
        "age = 13\n",
        "if age < 3:\n",
        "  print(\"I am a baby\")\n",
        "elif age >=3 and age <10:\n",
        "  print(\"I am a child\")\n",
        "elif age >=13 and age <18:\n",
        "  print(\"I am a teenager\")\n",
        "else:\n",
        "  print(\"I am an adult\")"
      ],
      "metadata": {
        "id": "f-lJuJe2KNcX",
        "outputId": "c1669c8c-0db6-405e-c562-4523130b3ddf",
        "colab": {
          "base_uri": "https://localhost:8080/"
        }
      },
      "execution_count": 1,
      "outputs": [
        {
          "output_type": "stream",
          "name": "stdout",
          "text": [
            "I am a teenager\n"
          ]
        }
      ]
    },
    {
      "cell_type": "markdown",
      "source": [
        "# Task 2\n",
        "\n",
        "1. Define a variable called favorite_color and assign it a value.\n",
        "2. Use if and else statements to print different messages based on the value of favorite_color.\n",
        "3. If the favorite color is \"blue\", print a message saying \"You like the color of the sky.\"\n",
        "4. If the favorite color is \"green\", print a message saying \"You like the color of the grass.\"\n",
        "5. For any other color, print a message saying \"That's a nice color!\""
      ],
      "metadata": {
        "id": "DbMzDKUoNwZe"
      }
    },
    {
      "cell_type": "code",
      "source": [],
      "metadata": {
        "id": "hqvIs_T0N3rU"
      },
      "execution_count": null,
      "outputs": []
    },
    {
      "cell_type": "markdown",
      "source": [
        "# Task 3\n",
        "\n",
        "1. Define a variable called favorite_animal and assign it a value.\n",
        "2. Use if and else statements to print different messages based on the value of favorite_animal.\n",
        "3. If the favorite animal is \"dog\", print a message saying \"Dogs are very loyal.\"\n",
        "4. If the favorite animal is \"cat\", print a message saying \"Cats are very independent.\"\n",
        "5. For any other animal, print a message saying \"That's an interesting animal!\""
      ],
      "metadata": {
        "id": "ifQekdfiOH8I"
      }
    },
    {
      "cell_type": "code",
      "source": [],
      "metadata": {
        "id": "Y4bpfMm4Ogbm"
      },
      "execution_count": null,
      "outputs": []
    },
    {
      "cell_type": "markdown",
      "source": [
        "# Task 4\n",
        "\n",
        "1. Define a boolean variable called is_raining.\n",
        "2. Use if and else statements to print different messages based on the value of is_raining.\n",
        "3. If is_raining is True, print a message saying \"Take an umbrella.\"\n",
        "4. If is_raining is False, print a message saying \"Enjoy the sunshine!\""
      ],
      "metadata": {
        "id": "iR4b0bN_PTHc"
      }
    },
    {
      "cell_type": "code",
      "source": [],
      "metadata": {
        "id": "T58c1Qc9PZTv"
      },
      "execution_count": null,
      "outputs": []
    },
    {
      "cell_type": "markdown",
      "source": [
        "# Task 5\n",
        "\n",
        "1. Define a boolean variable called has_discount.\n",
        "2. Define two variables for prices: original_price and discounted_price.\n",
        "3. Use if and else statements to calculate the final price based on whether the discount is applied or not.\n",
        "4. Print the final price."
      ],
      "metadata": {
        "id": "EltRNKvEPxWF"
      }
    },
    {
      "cell_type": "code",
      "source": [],
      "metadata": {
        "id": "mTzKymo3PvPv"
      },
      "execution_count": null,
      "outputs": []
    }
  ]
}