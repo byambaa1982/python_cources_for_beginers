{
  "nbformat": 4,
  "nbformat_minor": 0,
  "metadata": {
    "colab": {
      "provenance": [],
      "authorship_tag": "ABX9TyORk1Lymg6oY3jVr2Ulw5nA",
      "include_colab_link": true
    },
    "kernelspec": {
      "name": "python3",
      "display_name": "Python 3"
    },
    "language_info": {
      "name": "python"
    }
  },
  "cells": [
    {
      "cell_type": "markdown",
      "metadata": {
        "id": "view-in-github",
        "colab_type": "text"
      },
      "source": [
        "<a href=\"https://colab.research.google.com/github/byambaa1982/python_cources_for_beginers/blob/main/3_control_flow/conditional.ipynb\" target=\"_parent\"><img src=\"https://colab.research.google.com/assets/colab-badge.svg\" alt=\"Open In Colab\"/></a>"
      ]
    },
    {
      "cell_type": "code",
      "execution_count": 11,
      "metadata": {
        "colab": {
          "base_uri": "https://localhost:8080/",
          "height": 35
        },
        "id": "9MX4lNnxC6Ys",
        "outputId": "f89653f7-373c-4a11-c156-83e74cd59c82"
      },
      "outputs": [
        {
          "output_type": "execute_result",
          "data": {
            "text/plain": [
              "'Hi'"
            ],
            "application/vnd.google.colaboratory.intrinsic+json": {
              "type": "string"
            }
          },
          "metadata": {},
          "execution_count": 11
        }
      ],
      "source": [
        "\"Hi\""
      ]
    },
    {
      "cell_type": "code",
      "source": [
        "x = 6\n",
        "\n",
        "if x > 5:\n",
        "  print(\"x is more than 5\")\n",
        "else:\n",
        "  print(\"x is less than 5\")"
      ],
      "metadata": {
        "colab": {
          "base_uri": "https://localhost:8080/"
        },
        "id": "c6CgV0jkGlHD",
        "outputId": "fc243eb5-5a52-46de-8964-0687ba7feb93"
      },
      "execution_count": 12,
      "outputs": [
        {
          "output_type": "stream",
          "name": "stdout",
          "text": [
            "x is more than 5\n"
          ]
        }
      ]
    },
    {
      "cell_type": "code",
      "source": [
        "my_age = 5\n",
        "your_age = 10\n",
        "\n",
        "if my_age > your_age:\n",
        "  print(\"I am older than you\")\n",
        "elif my_age == your_age:\n",
        "  print(\"I am the same age as you\")\n",
        "else:\n",
        "  print(\"I am younger than you\")"
      ],
      "metadata": {
        "colab": {
          "base_uri": "https://localhost:8080/"
        },
        "id": "QqlLwPe4HXIM",
        "outputId": "66cea2f3-96e8-4869-9359-9b5920b12d1e"
      },
      "execution_count": 13,
      "outputs": [
        {
          "output_type": "stream",
          "name": "stdout",
          "text": [
            "I am younger than you\n"
          ]
        }
      ]
    },
    {
      "cell_type": "markdown",
      "source": [
        "# Task 1\n",
        "\n",
        "1. Open a new Python file in your code editor.\n",
        "2. Write the example code provided above.\n",
        "3. Change the value of the age variable to different numbers to see the different outputs.\n",
        "4. Add more age ranges and messages, such as for toddlers, seniors, etc."
      ],
      "metadata": {
        "id": "jvLp-h37I-AL"
      }
    },
    {
      "cell_type": "code",
      "source": [
        "age = 34\n",
        "\n",
        "if age < 3:\n",
        "  print(\"I am a baby\")\n",
        "elif age >=3 and age <13:\n",
        "  print(\"I am a child\")\n",
        "elif age >=13 and age <18:\n",
        "  print(\"I am a teenager\")\n",
        "else:\n",
        "  print(\"I am an adult\")"
      ],
      "metadata": {
        "id": "EGVqz-MGJFEB",
        "outputId": "1aca2c97-9a87-4b05-bf06-ec427a48d119",
        "colab": {
          "base_uri": "https://localhost:8080/"
        }
      },
      "execution_count": 18,
      "outputs": [
        {
          "output_type": "stream",
          "name": "stdout",
          "text": [
            "I am an adult\n"
          ]
        }
      ]
    },
    {
      "cell_type": "code",
      "source": [],
      "metadata": {
        "id": "f-lJuJe2KNcX"
      },
      "execution_count": null,
      "outputs": []
    }
  ]
}