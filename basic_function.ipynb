{
  "nbformat": 4,
  "nbformat_minor": 0,
  "metadata": {
    "colab": {
      "provenance": [],
      "include_colab_link": true
    },
    "kernelspec": {
      "name": "python3",
      "display_name": "Python 3"
    },
    "language_info": {
      "name": "python"
    }
  },
  "cells": [
    {
      "cell_type": "markdown",
      "metadata": {
        "id": "view-in-github",
        "colab_type": "text"
      },
      "source": [
        "<a href=\"https://colab.research.google.com/github/byambaa1982/python_cources_for_beginers/blob/nurmaa/basic_function.ipynb\" target=\"_parent\"><img src=\"https://colab.research.google.com/assets/colab-badge.svg\" alt=\"Open In Colab\"/></a>"
      ]
    },
    {
      "cell_type": "markdown",
      "source": [
        "# Basic Structure"
      ],
      "metadata": {
        "id": "6PKUxX7pA3dd"
      }
    },
    {
      "cell_type": "code",
      "source": [
        "def function_name():\n",
        "    # code block that runs when function is called\n",
        "    print(\"Hello, this is a function!\")\n"
      ],
      "metadata": {
        "id": "kIALIe6eAoYs"
      },
      "execution_count": null,
      "outputs": []
    },
    {
      "cell_type": "markdown",
      "source": [],
      "metadata": {
        "id": "5_gSMDaxOK8G"
      }
    },
    {
      "cell_type": "code",
      "source": [
        "name = \"Tsogoo\"\n",
        "def help(name):\n",
        "  print(f\"Can I have your favor, {name}\")\n",
        "help(name)"
      ],
      "metadata": {
        "id": "_S4u3NpvBAs1",
        "outputId": "6e353dbf-2fde-446e-b334-9a35773364d6",
        "colab": {
          "base_uri": "https://localhost:8080/"
        }
      },
      "execution_count": 4,
      "outputs": [
        {
          "output_type": "stream",
          "name": "stdout",
          "text": [
            "Can I have your favor, Tsogoo\n"
          ]
        }
      ]
    },
    {
      "cell_type": "code",
      "source": [
        "names = [\"Tsogoo\",\"Byambaa\",\"Haraa\"]\n",
        "for e in names:\n",
        "  help(e)"
      ],
      "metadata": {
        "id": "KblMTE8TOmFH",
        "outputId": "9543a98c-c6a6-4e52-8a0f-85d231e5530a",
        "colab": {
          "base_uri": "https://localhost:8080/"
        }
      },
      "execution_count": 9,
      "outputs": [
        {
          "output_type": "stream",
          "name": "stdout",
          "text": [
            "Can I have your favor, Tsogoo\n",
            "Can I have your favor, Byambaa\n",
            "Can I have your favor, Haraa\n"
          ]
        }
      ]
    },
    {
      "cell_type": "markdown",
      "source": [
        "# Why Use Functions?"
      ],
      "metadata": {
        "id": "Fc1ZuMyTBFSk"
      }
    },
    {
      "cell_type": "code",
      "source": [
        "def help():\n",
        "    print(\"Can I have your favor?\")\n",
        "\n",
        "help()  # This will print \"Hello!\"\n"
      ],
      "metadata": {
        "id": "h1IMx7cdBGTn",
        "outputId": "c847c20b-3c6a-48a2-a259-302783e8a11f",
        "colab": {
          "base_uri": "https://localhost:8080/"
        }
      },
      "execution_count": null,
      "outputs": [
        {
          "output_type": "stream",
          "name": "stdout",
          "text": [
            "Can I have your favor?\n"
          ]
        }
      ]
    },
    {
      "cell_type": "code",
      "source": [
        "def say_hello():\n",
        "    print(\"Hello, Python learners!\")\n",
        "\n",
        "say_hello()\n"
      ],
      "metadata": {
        "id": "s4TIiOweBIam",
        "outputId": "a8253fce-2fe2-4c76-b2f9-88d825f38cf2",
        "colab": {
          "base_uri": "https://localhost:8080/"
        }
      },
      "execution_count": 10,
      "outputs": [
        {
          "output_type": "stream",
          "name": "stdout",
          "text": [
            "Hello, Python learners!\n"
          ]
        }
      ]
    },
    {
      "cell_type": "code",
      "source": [
        "def greet(name):\n",
        "    print(f\"Hello, {name}!\")\n",
        "\n",
        "greet(\"Alice\")\n",
        "greet(\"Bob\")\n"
      ],
      "metadata": {
        "id": "OmKiWxjoBMnN",
        "outputId": "5bef5bcf-db21-46fc-8c04-ab7a9b2b7071",
        "colab": {
          "base_uri": "https://localhost:8080/"
        }
      },
      "execution_count": null,
      "outputs": [
        {
          "output_type": "stream",
          "name": "stdout",
          "text": [
            "Hello, Alice!\n",
            "Hello, Bob!\n"
          ]
        }
      ]
    },
    {
      "cell_type": "markdown",
      "source": [
        "# Return Values"
      ],
      "metadata": {
        "id": "9XCT9VO_BR24"
      }
    },
    {
      "cell_type": "code",
      "source": [
        "def add_numbers(a, b):\n",
        "    return a + b\n",
        "\n",
        "result = add_numbers(3, 4)\n",
        "print(result)  # This will print 7\n"
      ],
      "metadata": {
        "id": "19SoyyzhBTHo",
        "outputId": "b2734aa9-d0b3-4eb4-9a62-1827b50c6f8b",
        "colab": {
          "base_uri": "https://localhost:8080/"
        }
      },
      "execution_count": 11,
      "outputs": [
        {
          "output_type": "stream",
          "name": "stdout",
          "text": [
            "7\n"
          ]
        }
      ]
    },
    {
      "cell_type": "code",
      "source": [],
      "metadata": {
        "id": "cvsuAOvwQKi_"
      },
      "execution_count": null,
      "outputs": []
    },
    {
      "cell_type": "code",
      "source": [
        "def add_numbers(a, b):\n",
        "    return a - b\n",
        "\n",
        "add_numbers(3, 4)\n",
        "\n"
      ],
      "metadata": {
        "id": "BTXsubD6Pj5l",
        "outputId": "389184aa-223d-47ad-ed81-c5fe386a48ad",
        "colab": {
          "base_uri": "https://localhost:8080/"
        }
      },
      "execution_count": 16,
      "outputs": [
        {
          "output_type": "execute_result",
          "data": {
            "text/plain": [
              "-1"
            ]
          },
          "metadata": {},
          "execution_count": 16
        }
      ]
    },
    {
      "cell_type": "code",
      "source": [
        "def add_numbers(a, b):\n",
        "    print(a + b)\n",
        "\n",
        "result = add_numbers(3, 4)\n"
      ],
      "metadata": {
        "id": "ClcXcxOtP7S-",
        "outputId": "37239321-f1c5-41af-8c14-da691ac0e7cf",
        "colab": {
          "base_uri": "https://localhost:8080/"
        }
      },
      "execution_count": 13,
      "outputs": [
        {
          "output_type": "stream",
          "name": "stdout",
          "text": [
            "7\n"
          ]
        }
      ]
    },
    {
      "cell_type": "markdown",
      "source": [
        "# Function Challenges"
      ],
      "metadata": {
        "id": "ypHKQO9UBaaL"
      }
    },
    {
      "cell_type": "code",
      "source": [
        "def check_odd_even(number):\n",
        "    if number % 2 == 0:\n",
        "        return \"Even\"\n",
        "    else:\n",
        "        return \"Odd\"\n",
        "\n",
        "check_odd_even(5)\n"
      ],
      "metadata": {
        "id": "WUozcxsUBb5g",
        "outputId": "d6c84beb-d24d-45e6-a243-cf9a04a2417b",
        "colab": {
          "base_uri": "https://localhost:8080/",
          "height": 35
        }
      },
      "execution_count": 30,
      "outputs": [
        {
          "output_type": "execute_result",
          "data": {
            "text/plain": [
              "'Odd'"
            ],
            "application/vnd.google.colaboratory.intrinsic+json": {
              "type": "string"
            }
          },
          "metadata": {},
          "execution_count": 30
        }
      ]
    },
    {
      "cell_type": "code",
      "source": [
        "numbers=[4,6,7,0,13,56]\n",
        "for i in numbers:\n",
        "  if i!=0:\n",
        "   check_odd_even(i)"
      ],
      "metadata": {
        "id": "ehWIGmlORTKM",
        "outputId": "460a0a57-9484-40e0-ee64-d3d6e6b3959d",
        "colab": {
          "base_uri": "https://localhost:8080/"
        }
      },
      "execution_count": 23,
      "outputs": [
        {
          "output_type": "stream",
          "name": "stdout",
          "text": [
            "Even\n",
            "Even\n",
            "Odd\n",
            "Odd\n",
            "Even\n"
          ]
        }
      ]
    },
    {
      "cell_type": "code",
      "source": [
        "numbers=[4,6,7,0,13,56]\n",
        "for i in numbers:\n",
        "  if i!=0:\n",
        "   print(f\"{i} is {check_odd_even(i)}\")"
      ],
      "metadata": {
        "id": "Wc4U1aFmSOQ6",
        "outputId": "a46e8717-78e8-4c44-c62b-1aa72dce6602",
        "colab": {
          "base_uri": "https://localhost:8080/"
        }
      },
      "execution_count": 28,
      "outputs": [
        {
          "output_type": "stream",
          "name": "stdout",
          "text": [
            "Even\n",
            "4 is None\n",
            "Even\n",
            "6 is None\n",
            "Odd\n",
            "7 is None\n",
            "Odd\n",
            "13 is None\n",
            "Even\n",
            "56 is None\n"
          ]
        }
      ]
    },
    {
      "cell_type": "code",
      "source": [
        "numbers=[4,6,7,0,13,56]\n",
        "for i in numbers:\n",
        "   print(f\"{i} is {check_odd_even(i)}\")\n"
      ],
      "metadata": {
        "id": "94SybkE-TQdI",
        "outputId": "6a8a5ffe-6112-41fe-e21d-dd84c01e4553",
        "colab": {
          "base_uri": "https://localhost:8080/"
        }
      },
      "execution_count": 32,
      "outputs": [
        {
          "output_type": "stream",
          "name": "stdout",
          "text": [
            "4 is Even\n",
            "6 is Even\n",
            "7 is Odd\n",
            "0 is Even\n",
            "13 is Odd\n",
            "56 is Even\n"
          ]
        }
      ]
    },
    {
      "cell_type": "code",
      "source": [
        "4%2"
      ],
      "metadata": {
        "id": "MvnYPKfaRDxT",
        "outputId": "ef4f93b8-a4bc-4e0d-bfe1-50c4e5152d1e",
        "colab": {
          "base_uri": "https://localhost:8080/"
        }
      },
      "execution_count": 18,
      "outputs": [
        {
          "output_type": "execute_result",
          "data": {
            "text/plain": [
              "0"
            ]
          },
          "metadata": {},
          "execution_count": 18
        }
      ]
    },
    {
      "cell_type": "code",
      "source": [
        "def calculate_area(length, width):\n",
        "    return length * width\n",
        "\n",
        "area = calculate_area(5, 3)\n",
        "print(area)  # Output: 15\n"
      ],
      "metadata": {
        "id": "ulPGPtbSBeyS",
        "outputId": "c9557fc7-03be-4758-c340-f8feac637104",
        "colab": {
          "base_uri": "https://localhost:8080/"
        }
      },
      "execution_count": null,
      "outputs": [
        {
          "output_type": "stream",
          "name": "stdout",
          "text": [
            "15\n"
          ]
        }
      ]
    }
  ]
}