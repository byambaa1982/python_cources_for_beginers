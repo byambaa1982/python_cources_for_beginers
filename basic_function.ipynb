{
  "nbformat": 4,
  "nbformat_minor": 0,
  "metadata": {
    "colab": {
      "provenance": [],
      "include_colab_link": true
    },
    "kernelspec": {
      "name": "python3",
      "display_name": "Python 3"
    },
    "language_info": {
      "name": "python"
    }
  },
  "cells": [
    {
      "cell_type": "markdown",
      "metadata": {
        "id": "view-in-github",
        "colab_type": "text"
      },
      "source": [
        "<a href=\"https://colab.research.google.com/github/byambaa1982/python_cources_for_beginers/blob/nurmaa/basic_function.ipynb\" target=\"_parent\"><img src=\"https://colab.research.google.com/assets/colab-badge.svg\" alt=\"Open In Colab\"/></a>"
      ]
    },
    {
      "cell_type": "markdown",
      "source": [
        "# Basic Structure"
      ],
      "metadata": {
        "id": "6PKUxX7pA3dd"
      }
    },
    {
      "cell_type": "code",
      "source": [
        "def function_name():\n",
        "    # code block that runs when function is called\n",
        "    print(\"Hello, this is a function!\")\n"
      ],
      "metadata": {
        "id": "kIALIe6eAoYs"
      },
      "execution_count": null,
      "outputs": []
    },
    {
      "cell_type": "code",
      "source": [
        "  name = [\"Tsogoo\", \"Byambaa\", \"Haraa\"]\n",
        "def help():\n",
        "  print(f\"Can I have your favor, {name}\")\n",
        "  help"
      ],
      "metadata": {
        "id": "_S4u3NpvBAs1",
        "outputId": "9deeb06d-ab1a-4da0-bb10-3a6131956bc2",
        "colab": {
          "base_uri": "https://localhost:8080/",
          "height": 105
        }
      },
      "execution_count": null,
      "outputs": [
        {
          "output_type": "error",
          "ename": "IndentationError",
          "evalue": "expected an indented block after function definition on line 2 (<ipython-input-4-8a3bfa142e8f>, line 3)",
          "traceback": [
            "\u001b[0;36m  File \u001b[0;32m\"<ipython-input-4-8a3bfa142e8f>\"\u001b[0;36m, line \u001b[0;32m3\u001b[0m\n\u001b[0;31m    print(f\"Can I have your favor, {name}\")\u001b[0m\n\u001b[0m    ^\u001b[0m\n\u001b[0;31mIndentationError\u001b[0m\u001b[0;31m:\u001b[0m expected an indented block after function definition on line 2\n"
          ]
        }
      ]
    },
    {
      "cell_type": "markdown",
      "source": [
        "# Why Use Functions?"
      ],
      "metadata": {
        "id": "Fc1ZuMyTBFSk"
      }
    },
    {
      "cell_type": "code",
      "source": [
        "def help():\n",
        "    print(\"Can I have your favor?\")\n",
        "\n",
        "help()  # This will print \"Hello!\"\n"
      ],
      "metadata": {
        "id": "h1IMx7cdBGTn",
        "outputId": "c847c20b-3c6a-48a2-a259-302783e8a11f",
        "colab": {
          "base_uri": "https://localhost:8080/"
        }
      },
      "execution_count": null,
      "outputs": [
        {
          "output_type": "stream",
          "name": "stdout",
          "text": [
            "Can I have your favor?\n"
          ]
        }
      ]
    },
    {
      "cell_type": "code",
      "source": [
        "def say_hello():\n",
        "    print(\"Hello, Python learners!\")\n",
        "\n",
        "say_hello()\n"
      ],
      "metadata": {
        "id": "s4TIiOweBIam",
        "outputId": "57a55c6c-cd65-4885-9893-362eefa8b7ac",
        "colab": {
          "base_uri": "https://localhost:8080/"
        }
      },
      "execution_count": null,
      "outputs": [
        {
          "output_type": "stream",
          "name": "stdout",
          "text": [
            "Hello, Python learners!\n"
          ]
        }
      ]
    },
    {
      "cell_type": "code",
      "source": [
        "def greet(name):\n",
        "    print(f\"Hello, {name}!\")\n",
        "\n",
        "greet(\"Alice\")\n",
        "greet(\"Bob\")\n"
      ],
      "metadata": {
        "id": "OmKiWxjoBMnN",
        "outputId": "5bef5bcf-db21-46fc-8c04-ab7a9b2b7071",
        "colab": {
          "base_uri": "https://localhost:8080/"
        }
      },
      "execution_count": null,
      "outputs": [
        {
          "output_type": "stream",
          "name": "stdout",
          "text": [
            "Hello, Alice!\n",
            "Hello, Bob!\n"
          ]
        }
      ]
    },
    {
      "cell_type": "markdown",
      "source": [
        "# Return Values"
      ],
      "metadata": {
        "id": "9XCT9VO_BR24"
      }
    },
    {
      "cell_type": "code",
      "source": [
        "def add_numbers(a, b):\n",
        "    return a + b\n",
        "\n",
        "result = add_numbers(3, 4)\n",
        "print(result)  # This will print 7\n"
      ],
      "metadata": {
        "id": "19SoyyzhBTHo",
        "outputId": "b2d6b48d-a75b-414a-fc5a-278790d8a5f7",
        "colab": {
          "base_uri": "https://localhost:8080/"
        }
      },
      "execution_count": null,
      "outputs": [
        {
          "output_type": "stream",
          "name": "stdout",
          "text": [
            "7\n"
          ]
        }
      ]
    },
    {
      "cell_type": "markdown",
      "source": [
        "# Function Challenges"
      ],
      "metadata": {
        "id": "ypHKQO9UBaaL"
      }
    },
    {
      "cell_type": "code",
      "source": [
        "def check_odd_even(number):\n",
        "    if number % 2 == 0:\n",
        "        print(\"Even\")\n",
        "    else:\n",
        "        print(\"Odd\")\n",
        "\n",
        "check_odd_even(5)\n"
      ],
      "metadata": {
        "id": "WUozcxsUBb5g",
        "outputId": "bde54c1b-c24b-48f5-f43d-2761a29aa605",
        "colab": {
          "base_uri": "https://localhost:8080/"
        }
      },
      "execution_count": null,
      "outputs": [
        {
          "output_type": "stream",
          "name": "stdout",
          "text": [
            "Odd\n"
          ]
        }
      ]
    },
    {
      "cell_type": "code",
      "source": [
        "def calculate_area(length, width):\n",
        "    return length * width\n",
        "\n",
        "area = calculate_area(5, 3)\n",
        "print(area)  # Output: 15\n"
      ],
      "metadata": {
        "id": "ulPGPtbSBeyS",
        "outputId": "c9557fc7-03be-4758-c340-f8feac637104",
        "colab": {
          "base_uri": "https://localhost:8080/"
        }
      },
      "execution_count": null,
      "outputs": [
        {
          "output_type": "stream",
          "name": "stdout",
          "text": [
            "15\n"
          ]
        }
      ]
    }
  ]
}