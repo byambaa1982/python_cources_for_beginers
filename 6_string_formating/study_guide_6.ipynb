{
  "nbformat": 4,
  "nbformat_minor": 0,
  "metadata": {
    "colab": {
      "provenance": [],
      "include_colab_link": true
    },
    "kernelspec": {
      "name": "python3",
      "display_name": "Python 3"
    },
    "language_info": {
      "name": "python"
    }
  },
  "cells": [
    {
      "cell_type": "markdown",
      "metadata": {
        "id": "view-in-github",
        "colab_type": "text"
      },
      "source": [
        "<a href=\"https://colab.research.google.com/github/byambaa1982/python_cources_for_beginers/blob/class_zero_hannah/6_string_formating/study_guide_6.ipynb\" target=\"_parent\"><img src=\"https://colab.research.google.com/assets/colab-badge.svg\" alt=\"Open In Colab\"/></a>"
      ]
    },
    {
      "cell_type": "code",
      "source": [],
      "metadata": {
        "id": "UxyMG-He7KEL"
      },
      "execution_count": null,
      "outputs": []
    },
    {
      "cell_type": "code",
      "execution_count": 1,
      "metadata": {
        "colab": {
          "base_uri": "https://localhost:8080/"
        },
        "id": "vSGBYa2XhFxo",
        "outputId": "c9d0e93a-d35e-44c0-c281-ec779f116647"
      },
      "outputs": [
        {
          "output_type": "stream",
          "name": "stdout",
          "text": [
            "sting\n"
          ]
        }
      ],
      "source": [
        "print('sting')"
      ]
    },
    {
      "cell_type": "code",
      "source": [],
      "metadata": {
        "id": "8PwIjDba7L39"
      },
      "execution_count": 1,
      "outputs": []
    },
    {
      "cell_type": "markdown",
      "source": [
        "## String\n",
        "\n",
        "Python strings are sequences of characters enclosed in quotes (either single quotes ' or double quotes \"). They are used to represent text data in Python programs. Strings are an example of a built-in data type in Python.\n",
        "\n",
        "Here's a brief explanation of Python strings and some simple examples:\n",
        "\n",
        "1. `Creating strings`: Strings can be created using single quotes or double quotes. You can also use triple quotes (''' or \"\"\") to create multiline strings."
      ],
      "metadata": {
        "id": "e6RqxzGelbxd"
      }
    },
    {
      "cell_type": "code",
      "source": [
        "# Creating strings\n",
        "string1 = 'Hello, World!'\n",
        "string2 = \"Python is fun!\"\n",
        "string3 = '''This is a\n",
        "multiline\n",
        "string.'''"
      ],
      "metadata": {
        "id": "Z4NHvSEBhMth"
      },
      "execution_count": 2,
      "outputs": []
    },
    {
      "cell_type": "code",
      "source": [
        "print(string1)"
      ],
      "metadata": {
        "colab": {
          "base_uri": "https://localhost:8080/"
        },
        "id": "_3Hf0-li7NMn",
        "outputId": "8c66f5f8-c0d8-4a3e-a61e-08eb08b6a58f"
      },
      "execution_count": 3,
      "outputs": [
        {
          "output_type": "stream",
          "name": "stdout",
          "text": [
            "Hello, World!\n"
          ]
        }
      ]
    },
    {
      "cell_type": "code",
      "source": [
        "print(string3)"
      ],
      "metadata": {
        "colab": {
          "base_uri": "https://localhost:8080/"
        },
        "id": "74rTDIIm7X4Q",
        "outputId": "ef2ce5c9-5527-4792-f046-8b066fa0e4c8"
      },
      "execution_count": 4,
      "outputs": [
        {
          "output_type": "stream",
          "name": "stdout",
          "text": [
            "This is a\n",
            "multiline\n",
            "string.\n"
          ]
        }
      ]
    },
    {
      "cell_type": "code",
      "source": [
        "string4 = ''' i like\n",
        "volleyball.\n",
        "i like to read\n",
        "i like to walk  '''"
      ],
      "metadata": {
        "id": "qGWiawkH7nxt"
      },
      "execution_count": 5,
      "outputs": []
    },
    {
      "cell_type": "code",
      "source": [
        "print(string4)"
      ],
      "metadata": {
        "colab": {
          "base_uri": "https://localhost:8080/"
        },
        "id": "tePfIj898q4L",
        "outputId": "9ccc562b-2896-4813-d4ac-2c3ddb689c1b"
      },
      "execution_count": 6,
      "outputs": [
        {
          "output_type": "stream",
          "name": "stdout",
          "text": [
            " i like\n",
            "volleyball.\n",
            "i like to read\n",
            "i like to walk  \n"
          ]
        }
      ]
    },
    {
      "cell_type": "code",
      "source": [],
      "metadata": {
        "id": "k3E-sVSt9Cow"
      },
      "execution_count": null,
      "outputs": []
    },
    {
      "cell_type": "markdown",
      "source": [
        "2. `Accessing characters`: You can access individual characters in a string using indexing, with the index starting from 0."
      ],
      "metadata": {
        "id": "SWMZohwClo_X"
      }
    },
    {
      "cell_type": "code",
      "source": [
        "name = 'charlie'\n",
        "first_char = name[0]  # 'A'\n",
        "second_char = name[1]  # 'l'"
      ],
      "metadata": {
        "id": "y1t6gNvslw11"
      },
      "execution_count": 8,
      "outputs": []
    },
    {
      "cell_type": "code",
      "source": [
        "print(first_char)"
      ],
      "metadata": {
        "colab": {
          "base_uri": "https://localhost:8080/"
        },
        "id": "Nr2lRwvL9G2O",
        "outputId": "3e50db4b-35c2-4346-9848-69743c301a2d"
      },
      "execution_count": 10,
      "outputs": [
        {
          "output_type": "stream",
          "name": "stdout",
          "text": [
            "c\n"
          ]
        }
      ]
    },
    {
      "cell_type": "code",
      "source": [
        "print(second_char)"
      ],
      "metadata": {
        "colab": {
          "base_uri": "https://localhost:8080/"
        },
        "id": "PZe-KreN95Hu",
        "outputId": "5a835d2e-edf0-4640-e323-d847710daa85"
      },
      "execution_count": 13,
      "outputs": [
        {
          "output_type": "stream",
          "name": "stdout",
          "text": [
            "h\n"
          ]
        }
      ]
    },
    {
      "cell_type": "code",
      "source": [
        "name[2]"
      ],
      "metadata": {
        "colab": {
          "base_uri": "https://localhost:8080/",
          "height": 36
        },
        "id": "6GGEtiON-Ryy",
        "outputId": "efe32b7f-43af-417f-d331-af3aa9be2945"
      },
      "execution_count": 15,
      "outputs": [
        {
          "output_type": "execute_result",
          "data": {
            "text/plain": [
              "'a'"
            ],
            "application/vnd.google.colaboratory.intrinsic+json": {
              "type": "string"
            }
          },
          "metadata": {},
          "execution_count": 15
        }
      ]
    },
    {
      "cell_type": "code",
      "source": [
        "name[3]"
      ],
      "metadata": {
        "colab": {
          "base_uri": "https://localhost:8080/",
          "height": 36
        },
        "id": "NqUkD4nF-dEi",
        "outputId": "d0786c08-4763-40e6-89f5-303b60d49c09"
      },
      "execution_count": 17,
      "outputs": [
        {
          "output_type": "execute_result",
          "data": {
            "text/plain": [
              "'r'"
            ],
            "application/vnd.google.colaboratory.intrinsic+json": {
              "type": "string"
            }
          },
          "metadata": {},
          "execution_count": 17
        }
      ]
    },
    {
      "cell_type": "code",
      "source": [
        "name[4]"
      ],
      "metadata": {
        "colab": {
          "base_uri": "https://localhost:8080/",
          "height": 36
        },
        "id": "b2VYKVgi-cya",
        "outputId": "3772482f-5371-4eb8-a8b6-4bc9a134eb1f"
      },
      "execution_count": 18,
      "outputs": [
        {
          "output_type": "execute_result",
          "data": {
            "text/plain": [
              "'l'"
            ],
            "application/vnd.google.colaboratory.intrinsic+json": {
              "type": "string"
            }
          },
          "metadata": {},
          "execution_count": 18
        }
      ]
    },
    {
      "cell_type": "code",
      "source": [
        "name[5]"
      ],
      "metadata": {
        "colab": {
          "base_uri": "https://localhost:8080/",
          "height": 36
        },
        "id": "n2MLKhVg_wkI",
        "outputId": "daa5a64c-bb5b-4a42-ab28-1276653cb4b9"
      },
      "execution_count": 20,
      "outputs": [
        {
          "output_type": "execute_result",
          "data": {
            "text/plain": [
              "'i'"
            ],
            "application/vnd.google.colaboratory.intrinsic+json": {
              "type": "string"
            }
          },
          "metadata": {},
          "execution_count": 20
        }
      ]
    },
    {
      "cell_type": "code",
      "source": [
        "name[6]"
      ],
      "metadata": {
        "colab": {
          "base_uri": "https://localhost:8080/",
          "height": 36
        },
        "id": "_4PUwvyKACZK",
        "outputId": "19f3e7ac-af5f-4c5e-9b37-6ddea2593720"
      },
      "execution_count": 22,
      "outputs": [
        {
          "output_type": "execute_result",
          "data": {
            "text/plain": [
              "'e'"
            ],
            "application/vnd.google.colaboratory.intrinsic+json": {
              "type": "string"
            }
          },
          "metadata": {},
          "execution_count": 22
        }
      ]
    },
    {
      "cell_type": "markdown",
      "source": [
        "3. `String slicin`g: You can extract a substring from a string using slicing. The syntax for slicing is `string[start:stop:step]`, where `start` is the starting index, `stop` is the ending index (exclusive), and `step` is the interval between characters."
      ],
      "metadata": {
        "id": "qMxF_HN4l1dF"
      }
    },
    {
      "cell_type": "code",
      "source": [
        "text = 'Python strings write'\n",
        "substring = text[0:6]  # 'Python'"
      ],
      "metadata": {
        "id": "TQKBdWQ_mET3"
      },
      "execution_count": 24,
      "outputs": []
    },
    {
      "cell_type": "code",
      "source": [
        "print(text)"
      ],
      "metadata": {
        "colab": {
          "base_uri": "https://localhost:8080/"
        },
        "id": "_zCslDecClhQ",
        "outputId": "7906552a-2d09-4e83-cfae-25877991df33"
      },
      "execution_count": 25,
      "outputs": [
        {
          "output_type": "stream",
          "name": "stdout",
          "text": [
            "Python strings write\n"
          ]
        }
      ]
    },
    {
      "cell_type": "code",
      "source": [],
      "metadata": {
        "id": "eD0MdZX-ClK-"
      },
      "execution_count": 27,
      "outputs": []
    },
    {
      "cell_type": "code",
      "source": [],
      "metadata": {
        "id": "2JQWM0vzAYx-"
      },
      "execution_count": 27,
      "outputs": []
    },
    {
      "cell_type": "code",
      "source": [
        "substring = text[1:8]"
      ],
      "metadata": {
        "id": "WhwGrm_yAhKt"
      },
      "execution_count": 28,
      "outputs": []
    },
    {
      "cell_type": "code",
      "source": [
        "text[7:14]"
      ],
      "metadata": {
        "colab": {
          "base_uri": "https://localhost:8080/",
          "height": 36
        },
        "id": "5STazLAzBJq4",
        "outputId": "0ce016d9-51c6-499a-d7cc-3459b8d6ac30"
      },
      "execution_count": 29,
      "outputs": [
        {
          "output_type": "execute_result",
          "data": {
            "text/plain": [
              "'strings'"
            ],
            "application/vnd.google.colaboratory.intrinsic+json": {
              "type": "string"
            }
          },
          "metadata": {},
          "execution_count": 29
        }
      ]
    },
    {
      "cell_type": "markdown",
      "source": [],
      "metadata": {
        "id": "eOtdWMZAAYmT"
      }
    },
    {
      "cell_type": "markdown",
      "source": [
        "4. `String length`: You can find the length of a string using the built-in `len()` function."
      ],
      "metadata": {
        "id": "LF6ZdSPtmIfz"
      }
    },
    {
      "cell_type": "code",
      "source": [
        "message = 'Hello, World!'\n",
        "length = len(message)  # 13"
      ],
      "metadata": {
        "id": "DhZyu3Y9mPBa"
      },
      "execution_count": 30,
      "outputs": []
    },
    {
      "cell_type": "markdown",
      "source": [
        "5. `String concatenation`: You can join two strings together using the `+` operator."
      ],
      "metadata": {
        "id": "9CU3LnJRmS5j"
      }
    },
    {
      "cell_type": "code",
      "source": [
        "greeting = 'Hello'\n",
        "name = 'Alice'\n",
        "message = greeting + ', ' + name  # 'Hello, Alice'"
      ],
      "metadata": {
        "id": "dQ37E-8Qmbmh"
      },
      "execution_count": 31,
      "outputs": []
    },
    {
      "cell_type": "markdown",
      "source": [
        "6. `String methods`: Strings have many built-in methods that you can use to perform various operations, such as converting to uppercase, replacing characters, splitting strings, etc."
      ],
      "metadata": {
        "id": "EmN76v_gmeOt"
      }
    },
    {
      "cell_type": "code",
      "source": [
        "text = 'python programming'\n",
        "\n",
        "# Convert to uppercase\n",
        "uppercase_text = text.upper()  # 'PYTHON PROGRAMMING'\n",
        "\n",
        "# Replace characters\n",
        "replaced_text = text.replace('python', 'Java')  # 'Java programming'\n",
        "\n",
        "# Split string\n",
        "words = text.split(' ')  # ['python', 'programming']"
      ],
      "metadata": {
        "id": "c3mKV9inmjg7"
      },
      "execution_count": 32,
      "outputs": []
    },
    {
      "cell_type": "code",
      "source": [],
      "metadata": {
        "id": "X5gh9H1PmqCD"
      },
      "execution_count": null,
      "outputs": []
    },
    {
      "cell_type": "markdown",
      "source": [
        "## Problem 1:\n",
        "\n",
        "You are given a list of dictionaries, each containing a user's information: first name, last name, age, and country. Your task is to write a Python script that iterates through the list and prints out the user's information in a formatted string as follows:"
      ],
      "metadata": {
        "id": "JnxLBbZYh4oK"
      }
    },
    {
      "cell_type": "code",
      "source": [
        "<First Name> <Last Name> is <Age> years old and comes from <Country>."
      ],
      "metadata": {
        "id": "CYJxOk-Qh9V4",
        "outputId": "e704f8e7-81e3-4434-fcc3-50d49e1a1d46",
        "colab": {
          "base_uri": "https://localhost:8080/",
          "height": 109
        }
      },
      "execution_count": 35,
      "outputs": [
        {
          "output_type": "error",
          "ename": "SyntaxError",
          "evalue": "invalid syntax (<ipython-input-35-5546d067f8e8>, line 1)",
          "traceback": [
            "\u001b[0;36m  File \u001b[0;32m\"<ipython-input-35-5546d067f8e8>\"\u001b[0;36m, line \u001b[0;32m1\u001b[0m\n\u001b[0;31m    <First Name> <Last Name> is <Age> years old and comes from <Country>.\u001b[0m\n\u001b[0m    ^\u001b[0m\n\u001b[0;31mSyntaxError\u001b[0m\u001b[0;31m:\u001b[0m invalid syntax\n"
          ]
        }
      ]
    },
    {
      "cell_type": "markdown",
      "source": [
        "Here's the list of dictionaries:"
      ],
      "metadata": {
        "id": "Xe4qLHk5h_5p"
      }
    },
    {
      "cell_type": "code",
      "source": [
        "users = [\n",
        "    {'first_name': 'John', 'last_name': 'Doe', 'age': 30, 'country': 'USA'},\n",
        "    {'first_name': 'Jane', 'last_name': 'Doe', 'age': 28, 'country': 'Canada'},\n",
        "    {'first_name': 'Alice', 'last_name': 'Johnson', 'age': 25, 'country': 'UK'},\n",
        "    {'first_name': 'Bob', 'last_name': 'Smith', 'age': 32, 'country': 'Australia'}\n",
        "]"
      ],
      "metadata": {
        "id": "LZqP2UX0iB4J"
      },
      "execution_count": 36,
      "outputs": []
    },
    {
      "cell_type": "markdown",
      "source": [
        "### Output:\n",
        "\n",
        "```python\n",
        "John Doe is 30 years old and comes from USA.\n",
        "Jane Doe is 28 years old and comes from Canada.\n",
        "Alice Johnson is 25 years old and comes from UK.\n",
        "Bob Smith is 32 years old and comes from Australia.\n",
        "```"
      ],
      "metadata": {
        "id": "sx8VYOkyibIN"
      }
    },
    {
      "cell_type": "code",
      "source": [],
      "metadata": {
        "id": "3bP0ATV3iHFi"
      },
      "execution_count": null,
      "outputs": []
    },
    {
      "cell_type": "markdown",
      "source": [
        "## Problem 2:\n",
        "\n",
        "You are given a list of products, where each product is represented as a tuple containing the product's name, price, and quantity. Your task is to write a Python script that iterates through the list and prints out the product information in a formatted string as follows:\n",
        "\n",
        "```html\n",
        "<Product Name> - Price: $<Price> - Quantity: <Quantity>\n",
        "```\n",
        "Here's the list of products:\n",
        "\n",
        "```python\n",
        "products = [\n",
        "    ('Laptop', 999.99, 5),\n",
        "    ('Smartphone', 799.99, 10),\n",
        "    ('Tablet', 399.99, 7),\n",
        "    ('Headphones', 149.99, 25)\n",
        "]\n",
        "```\n",
        "## Output:\n",
        "\n",
        "```python\n",
        "Laptop - Price: $999.99 - Quantity: 5\n",
        "Smartphone - Price: $799.99 - Quantity: 10\n",
        "Tablet - Price: $399.99 - Quantity: 7\n",
        "Headphones - Price: $149.99 - Quantity: 25\n",
        "```\n"
      ],
      "metadata": {
        "id": "ymiEvDZ9isUN"
      }
    },
    {
      "cell_type": "code",
      "source": [],
      "metadata": {
        "id": "fLjO1IQMivPR"
      },
      "execution_count": null,
      "outputs": []
    },
    {
      "cell_type": "markdown",
      "source": [
        "## Problem 3:\n",
        "\n",
        "You are given a list of students, where each student is represented as a dictionary containing the student's name and a list of their test scores. Your task is to write a Python script that calculates the average score for each student and prints out the student's name along with their average score, formatted as follows:\n",
        "\n",
        "```python\n",
        "<Student Name>: Average Score: <Average Score>\n",
        "```\n",
        "Here's the list of students:\n",
        "\n",
        "```python\n",
        "students = [\n",
        "    {'name': 'John', 'scores': [85, 90, 78, 92, 88]},\n",
        "    {'name': 'Jane', 'scores': [80, 85, 91, 89, 93]},\n",
        "    {'name': 'Alice', 'scores': [92, 96, 80, 81, 85]},\n",
        "    {'name': 'Bob', 'scores': [82, 84, 90, 78, 79]}\n",
        "]\n",
        "```\n",
        "## Output:\n",
        "\n",
        "```python\n",
        "John: Average Score: 86.60\n",
        "Jane: Average Score: 87.60\n",
        "Alice: Average Score: 86.80\n",
        "Bob: Average Score: 82.60\n",
        "```\n"
      ],
      "metadata": {
        "id": "IqW_UmEQj-ek"
      }
    },
    {
      "cell_type": "code",
      "source": [],
      "metadata": {
        "id": "okU7w8-6kBNf"
      },
      "execution_count": null,
      "outputs": []
    }
  ]
}