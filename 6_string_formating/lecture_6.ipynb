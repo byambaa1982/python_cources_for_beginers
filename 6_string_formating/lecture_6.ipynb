{
  "nbformat": 4,
  "nbformat_minor": 0,
  "metadata": {
    "colab": {
      "provenance": [],
      "authorship_tag": "ABX9TyMYo8MkpIUfoopU6gwEO60l",
      "include_colab_link": true
    },
    "kernelspec": {
      "name": "python3",
      "display_name": "Python 3"
    },
    "language_info": {
      "name": "python"
    }
  },
  "cells": [
    {
      "cell_type": "markdown",
      "metadata": {
        "id": "view-in-github",
        "colab_type": "text"
      },
      "source": [
        "<a href=\"https://colab.research.google.com/github/byambaa1982/python_cources_for_beginers/blob/main/6_string_formating/working_with_strings.ipynb\" target=\"_parent\"><img src=\"https://colab.research.google.com/assets/colab-badge.svg\" alt=\"Open In Colab\"/></a>"
      ]
    },
    {
      "cell_type": "code",
      "execution_count": null,
      "metadata": {
        "colab": {
          "base_uri": "https://localhost:8080/"
        },
        "id": "vSGBYa2XhFxo",
        "outputId": "7d990a30-c405-4604-b1e9-53637e75e0bb"
      },
      "outputs": [
        {
          "output_type": "stream",
          "name": "stdout",
          "text": [
            "sting\n"
          ]
        }
      ],
      "source": [
        "print('sting')"
      ]
    },
    {
      "cell_type": "markdown",
      "source": [
        "## String\n",
        "\n",
        "Python strings are sequences of characters enclosed in quotes (either single quotes ' or double quotes \"). They are used to represent text data in Python programs. Strings are an example of a built-in data type in Python.\n",
        "\n",
        "Here's a brief explanation of Python strings and some simple examples:\n",
        "\n",
        "1. `Creating strings`: Strings can be created using single quotes or double quotes. You can also use triple quotes (''' or \"\"\") to create multiline strings."
      ],
      "metadata": {
        "id": "e6RqxzGelbxd"
      }
    },
    {
      "cell_type": "code",
      "source": [
        "# Creating strings\n",
        "string1 = 'Hello, World!'\n",
        "string2 = \"Python is fun!\"\n",
        "string3 = '''This is a\n",
        "multiline\n",
        "string.'''"
      ],
      "metadata": {
        "id": "Z4NHvSEBhMth"
      },
      "execution_count": 2,
      "outputs": []
    },
    {
      "cell_type": "markdown",
      "source": [
        "2. `Accessing characters`: You can access individual characters in a string using indexing, with the index starting from 0."
      ],
      "metadata": {
        "id": "SWMZohwClo_X"
      }
    },
    {
      "cell_type": "code",
      "source": [
        "name = 'Alice'\n",
        "first_char = name[0]  # 'A'\n",
        "second_char = name[1]  # 'l'"
      ],
      "metadata": {
        "id": "y1t6gNvslw11"
      },
      "execution_count": 3,
      "outputs": []
    },
    {
      "cell_type": "markdown",
      "source": [
        "3. `String slicin`g: You can extract a substring from a string using slicing. The syntax for slicing is `string[start:stop:step]`, where `start` is the starting index, `stop` is the ending index (exclusive), and `step` is the interval between characters."
      ],
      "metadata": {
        "id": "qMxF_HN4l1dF"
      }
    },
    {
      "cell_type": "code",
      "source": [
        "text = 'Python strings'\n",
        "substring = text[0:6]  # 'Python'"
      ],
      "metadata": {
        "id": "TQKBdWQ_mET3"
      },
      "execution_count": 4,
      "outputs": []
    },
    {
      "cell_type": "markdown",
      "source": [
        "4. `String length`: You can find the length of a string using the built-in `len()` function."
      ],
      "metadata": {
        "id": "LF6ZdSPtmIfz"
      }
    },
    {
      "cell_type": "code",
      "source": [
        "message = 'Hello, World!'\n",
        "length = len(message)  # 13"
      ],
      "metadata": {
        "id": "DhZyu3Y9mPBa"
      },
      "execution_count": 5,
      "outputs": []
    },
    {
      "cell_type": "markdown",
      "source": [
        "5. `String concatenation`: You can join two strings together using the `+` operator."
      ],
      "metadata": {
        "id": "9CU3LnJRmS5j"
      }
    },
    {
      "cell_type": "code",
      "source": [
        "greeting = 'Hello'\n",
        "name = 'Alice'\n",
        "message = greeting + ', ' + name  # 'Hello, Alice'"
      ],
      "metadata": {
        "id": "dQ37E-8Qmbmh"
      },
      "execution_count": 6,
      "outputs": []
    },
    {
      "cell_type": "markdown",
      "source": [
        "6. `String methods`: Strings have many built-in methods that you can use to perform various operations, such as converting to uppercase, replacing characters, splitting strings, etc."
      ],
      "metadata": {
        "id": "EmN76v_gmeOt"
      }
    },
    {
      "cell_type": "code",
      "source": [
        "text = 'python programming'\n",
        "\n",
        "# Convert to uppercase\n",
        "uppercase_text = text.upper()  # 'PYTHON PROGRAMMING'\n",
        "\n",
        "# Replace characters\n",
        "replaced_text = text.replace('python', 'Java')  # 'Java programming'\n",
        "\n",
        "# Split string\n",
        "words = text.split(' ')  # ['python', 'programming']"
      ],
      "metadata": {
        "id": "c3mKV9inmjg7"
      },
      "execution_count": 7,
      "outputs": []
    },
    {
      "cell_type": "code",
      "source": [],
      "metadata": {
        "id": "X5gh9H1PmqCD"
      },
      "execution_count": null,
      "outputs": []
    },
    {
      "cell_type": "markdown",
      "source": [
        "## Problem 1:\n",
        "\n",
        "You are given a list of dictionaries, each containing a user's information: first name, last name, age, and country. Your task is to write a Python script that iterates through the list and prints out the user's information in a formatted string as follows:"
      ],
      "metadata": {
        "id": "JnxLBbZYh4oK"
      }
    },
    {
      "cell_type": "code",
      "source": [
        "<First Name> <Last Name> is <Age> years old and comes from <Country>."
      ],
      "metadata": {
        "id": "CYJxOk-Qh9V4"
      },
      "execution_count": null,
      "outputs": []
    },
    {
      "cell_type": "markdown",
      "source": [
        "Here's the list of dictionaries:"
      ],
      "metadata": {
        "id": "Xe4qLHk5h_5p"
      }
    },
    {
      "cell_type": "code",
      "source": [
        "users = [\n",
        "    {'first_name': 'John', 'last_name': 'Doe', 'age': 30, 'country': 'USA'},\n",
        "    {'first_name': 'Jane', 'last_name': 'Doe', 'age': 28, 'country': 'Canada'},\n",
        "    {'first_name': 'Alice', 'last_name': 'Johnson', 'age': 25, 'country': 'UK'},\n",
        "    {'first_name': 'Bob', 'last_name': 'Smith', 'age': 32, 'country': 'Australia'}\n",
        "]"
      ],
      "metadata": {
        "id": "LZqP2UX0iB4J"
      },
      "execution_count": 1,
      "outputs": []
    },
    {
      "cell_type": "markdown",
      "source": [
        "### Output:\n",
        "\n",
        "```python\n",
        "John Doe is 30 years old and comes from USA.\n",
        "Jane Doe is 28 years old and comes from Canada.\n",
        "Alice Johnson is 25 years old and comes from UK.\n",
        "Bob Smith is 32 years old and comes from Australia.\n",
        "```"
      ],
      "metadata": {
        "id": "sx8VYOkyibIN"
      }
    },
    {
      "cell_type": "code",
      "source": [],
      "metadata": {
        "id": "3bP0ATV3iHFi"
      },
      "execution_count": null,
      "outputs": []
    },
    {
      "cell_type": "markdown",
      "source": [
        "## Problem 2:\n",
        "\n",
        "You are given a list of products, where each product is represented as a tuple containing the product's name, price, and quantity. Your task is to write a Python script that iterates through the list and prints out the product information in a formatted string as follows:\n",
        "\n",
        "```html\n",
        "<Product Name> - Price: $<Price> - Quantity: <Quantity>\n",
        "```\n",
        "Here's the list of products:\n",
        "\n",
        "```python\n",
        "products = [\n",
        "    ('Laptop', 999.99, 5),\n",
        "    ('Smartphone', 799.99, 10),\n",
        "    ('Tablet', 399.99, 7),\n",
        "    ('Headphones', 149.99, 25)\n",
        "]\n",
        "```\n",
        "## Output:\n",
        "\n",
        "```python\n",
        "Laptop - Price: $999.99 - Quantity: 5\n",
        "Smartphone - Price: $799.99 - Quantity: 10\n",
        "Tablet - Price: $399.99 - Quantity: 7\n",
        "Headphones - Price: $149.99 - Quantity: 25\n",
        "```\n"
      ],
      "metadata": {
        "id": "ymiEvDZ9isUN"
      }
    },
    {
      "cell_type": "code",
      "source": [],
      "metadata": {
        "id": "fLjO1IQMivPR"
      },
      "execution_count": null,
      "outputs": []
    },
    {
      "cell_type": "markdown",
      "source": [
        "## Problem 3:\n",
        "\n",
        "You are given a list of students, where each student is represented as a dictionary containing the student's name and a list of their test scores. Your task is to write a Python script that calculates the average score for each student and prints out the student's name along with their average score, formatted as follows:\n",
        "\n",
        "```python\n",
        "<Student Name>: Average Score: <Average Score>\n",
        "```\n",
        "Here's the list of students:\n",
        "\n",
        "```python\n",
        "students = [\n",
        "    {'name': 'John', 'scores': [85, 90, 78, 92, 88]},\n",
        "    {'name': 'Jane', 'scores': [80, 85, 91, 89, 93]},\n",
        "    {'name': 'Alice', 'scores': [92, 96, 80, 81, 85]},\n",
        "    {'name': 'Bob', 'scores': [82, 84, 90, 78, 79]}\n",
        "]\n",
        "```\n",
        "## Output:\n",
        "\n",
        "```python\n",
        "John: Average Score: 86.60\n",
        "Jane: Average Score: 87.60\n",
        "Alice: Average Score: 86.80\n",
        "Bob: Average Score: 82.60\n",
        "```\n"
      ],
      "metadata": {
        "id": "IqW_UmEQj-ek"
      }
    },
    {
      "cell_type": "code",
      "source": [],
      "metadata": {
        "id": "okU7w8-6kBNf"
      },
      "execution_count": null,
      "outputs": []
    }
  ]
}