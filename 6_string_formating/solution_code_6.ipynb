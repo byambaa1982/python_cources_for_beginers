{
  "nbformat": 4,
  "nbformat_minor": 0,
  "metadata": {
    "colab": {
      "provenance": [],
      "authorship_tag": "ABX9TyNnPa9ENO2SdpxCdPaqL3VB",
      "include_colab_link": true
    },
    "kernelspec": {
      "name": "python3",
      "display_name": "Python 3"
    },
    "language_info": {
      "name": "python"
    }
  },
  "cells": [
    {
      "cell_type": "markdown",
      "metadata": {
        "id": "view-in-github",
        "colab_type": "text"
      },
      "source": [
        "<a href=\"https://colab.research.google.com/github/byambaa1982/python_cources_for_beginers/blob/main/6_string_formating/working_with_strings_solution_code.ipynb\" target=\"_parent\"><img src=\"https://colab.research.google.com/assets/colab-badge.svg\" alt=\"Open In Colab\"/></a>"
      ]
    },
    {
      "cell_type": "markdown",
      "source": [
        "## Solution 1:\n",
        "\n",
        "Here's one way to implement the solution using f-strings in Python:"
      ],
      "metadata": {
        "id": "WKXgfksRiPq_"
      }
    },
    {
      "cell_type": "code",
      "source": [
        "users = [\n",
        "    {'first_name': 'John', 'last_name': 'Doe', 'age': 30, 'country': 'USA'},\n",
        "    {'first_name': 'Jane', 'last_name': 'Doe', 'age': 28, 'country': 'Canada'},\n",
        "    {'first_name': 'Alice', 'last_name': 'Johnson', 'age': 25, 'country': 'UK'},\n",
        "    {'first_name': 'Bob', 'last_name': 'Smith', 'age': 32, 'country': 'Australia'}\n",
        "]\n",
        "\n",
        "for user in users:\n",
        "    formatted_string = f\"{user['first_name']} {user['last_name']} is {user['age']} years old and comes from {user['country']}.\"\n",
        "    print(formatted_string)"
      ],
      "metadata": {
        "id": "4jPDrM-UiTx_",
        "outputId": "6d2cdba0-52cb-4761-dc71-70e737eee261",
        "colab": {
          "base_uri": "https://localhost:8080/"
        }
      },
      "execution_count": 1,
      "outputs": [
        {
          "output_type": "stream",
          "name": "stdout",
          "text": [
            "John Doe is 30 years old and comes from USA.\n",
            "Jane Doe is 28 years old and comes from Canada.\n",
            "Alice Johnson is 25 years old and comes from UK.\n",
            "Bob Smith is 32 years old and comes from Australia.\n"
          ]
        }
      ]
    },
    {
      "cell_type": "markdown",
      "source": [
        "## Solution 2:\n",
        "\n",
        "Here's one way to implement the solution using f-strings in Python:"
      ],
      "metadata": {
        "id": "KvGQlK88jOfL"
      }
    },
    {
      "cell_type": "code",
      "source": [
        "products = [\n",
        "    ('Laptop', 999.99, 5),\n",
        "    ('Smartphone', 799.99, 10),\n",
        "    ('Tablet', 399.99, 7),\n",
        "    ('Headphones', 149.99, 25)\n",
        "]\n",
        "\n",
        "for product in products:\n",
        "    name, price, quantity = product\n",
        "    formatted_string = f\"{name} - Price: ${price:.2f} - Quantity: {quantity}\"\n",
        "    print(formatted_string)"
      ],
      "metadata": {
        "id": "yAteOBM9iXV6",
        "outputId": "65477596-058d-48d1-a763-c5a89698e615",
        "colab": {
          "base_uri": "https://localhost:8080/"
        }
      },
      "execution_count": 2,
      "outputs": [
        {
          "output_type": "stream",
          "name": "stdout",
          "text": [
            "Laptop - Price: $999.99 - Quantity: 5\n",
            "Smartphone - Price: $799.99 - Quantity: 10\n",
            "Tablet - Price: $399.99 - Quantity: 7\n",
            "Headphones - Price: $149.99 - Quantity: 25\n"
          ]
        }
      ]
    },
    {
      "cell_type": "markdown",
      "source": [
        "## Solution 3:\n",
        "\n",
        "Here's one way to implement the solution using f-strings in Python:"
      ],
      "metadata": {
        "id": "sZm4fB2UkpMJ"
      }
    },
    {
      "cell_type": "code",
      "source": [
        "students = [\n",
        "    {'name': 'John', 'scores': [85, 90, 78, 92, 88]},\n",
        "    {'name': 'Jane', 'scores': [80, 85, 91, 89, 93]},\n",
        "    {'name': 'Alice', 'scores': [92, 96, 80, 81, 85]},\n",
        "    {'name': 'Bob', 'scores': [82, 84, 90, 78, 79]}\n",
        "]\n",
        "\n",
        "for student in students:\n",
        "    average_score = sum(student['scores']) / len(student['scores'])\n",
        "    formatted_string = f\"{student['name']}: Average Score: {average_score:.2f}\"\n",
        "    print(formatted_string)\n",
        "    "
      ],
      "metadata": {
        "id": "YH_ik6g-jL8h"
      },
      "execution_count": null,
      "outputs": []
    }
  ]
}