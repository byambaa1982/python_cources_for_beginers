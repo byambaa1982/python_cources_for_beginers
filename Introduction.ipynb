{
 "cells": [
  {
   "cell_type": "code",
   "execution_count": 1,
   "id": "977b5c30",
   "metadata": {},
   "outputs": [
    {
     "name": "stdout",
     "output_type": "stream",
     "text": [
      "hi\n"
     ]
    }
   ],
   "source": [
    "print(\"hi\")"
   ]
  },
  {
   "cell_type": "code",
   "execution_count": 4,
   "id": "8fe37a45",
   "metadata": {},
   "outputs": [],
   "source": [
    "import pandas as pd"
   ]
  },
  {
   "cell_type": "code",
   "execution_count": 3,
   "id": "a35459b8",
   "metadata": {},
   "outputs": [
    {
     "name": "stdout",
     "output_type": "stream",
     "text": [
      "Collecting pandas\n",
      "  Downloading pandas-2.0.0-cp311-cp311-win_amd64.whl (11.2 MB)\n",
      "                                              0.0/11.2 MB ? eta -:--:--\n",
      "                                              0.3/11.2 MB 8.6 MB/s eta 0:00:02\n",
      "     ---                                      0.8/11.2 MB 10.8 MB/s eta 0:00:01\n",
      "     -----                                    1.4/11.2 MB 11.2 MB/s eta 0:00:01\n",
      "     -------                                  2.0/11.2 MB 11.4 MB/s eta 0:00:01\n",
      "     ---------                                2.5/11.2 MB 11.6 MB/s eta 0:00:01\n",
      "     -----------                              3.1/11.2 MB 11.7 MB/s eta 0:00:01\n",
      "     -------------                            3.7/11.2 MB 11.7 MB/s eta 0:00:01\n",
      "     --------------                           4.1/11.2 MB 11.9 MB/s eta 0:00:01\n",
      "     ----------------                         4.6/11.2 MB 11.4 MB/s eta 0:00:01\n",
      "     ------------------                       5.2/11.2 MB 11.5 MB/s eta 0:00:01\n",
      "     --------------------                     5.7/11.2 MB 11.7 MB/s eta 0:00:01\n",
      "     ----------------------                   6.3/11.2 MB 11.8 MB/s eta 0:00:01\n",
      "     ------------------------                 6.8/11.2 MB 11.8 MB/s eta 0:00:01\n",
      "     --------------------------               7.4/11.2 MB 11.8 MB/s eta 0:00:01\n",
      "     ----------------------------             7.9/11.2 MB 11.7 MB/s eta 0:00:01\n",
      "     ------------------------------           8.5/11.2 MB 11.9 MB/s eta 0:00:01\n",
      "     --------------------------------         9.1/11.2 MB 11.9 MB/s eta 0:00:01\n",
      "     ----------------------------------       9.6/11.2 MB 11.9 MB/s eta 0:00:01\n",
      "     -----------------------------------     10.2/11.2 MB 11.7 MB/s eta 0:00:01\n",
      "     -------------------------------------   10.6/11.2 MB 11.9 MB/s eta 0:00:01\n",
      "     --------------------------------------  11.2/11.2 MB 11.7 MB/s eta 0:00:01\n",
      "     --------------------------------------- 11.2/11.2 MB 11.5 MB/s eta 0:00:00\n",
      "Requirement already satisfied: python-dateutil>=2.8.2 in c:\\python311\\lib\\site-packages (from pandas) (2.8.2)\n",
      "Collecting pytz>=2020.1 (from pandas)\n",
      "  Downloading pytz-2023.3-py2.py3-none-any.whl (502 kB)\n",
      "                                              0.0/502.3 kB ? eta -:--:--\n",
      "     ------------------------------------  501.8/502.3 kB 10.5 MB/s eta 0:00:01\n",
      "     -------------------------------------- 502.3/502.3 kB 7.8 MB/s eta 0:00:00\n",
      "Collecting tzdata>=2022.1 (from pandas)\n",
      "  Downloading tzdata-2023.3-py2.py3-none-any.whl (341 kB)\n",
      "                                              0.0/341.8 kB ? eta -:--:--\n",
      "     ------------------------------------- 341.8/341.8 kB 10.7 MB/s eta 0:00:00\n",
      "Collecting numpy>=1.21.0 (from pandas)\n",
      "  Downloading numpy-1.24.2-cp311-cp311-win_amd64.whl (14.8 MB)\n",
      "                                              0.0/14.8 MB ? eta -:--:--\n",
      "     -                                        0.5/14.8 MB 14.2 MB/s eta 0:00:02\n",
      "     --                                       1.0/14.8 MB 10.6 MB/s eta 0:00:02\n",
      "     ----                                     1.6/14.8 MB 11.0 MB/s eta 0:00:02\n",
      "     -----                                    2.1/14.8 MB 12.4 MB/s eta 0:00:02\n",
      "     -------                                  2.7/14.8 MB 11.5 MB/s eta 0:00:02\n",
      "     --------                                 3.3/14.8 MB 11.6 MB/s eta 0:00:01\n",
      "     ---------                                3.7/14.8 MB 11.3 MB/s eta 0:00:01\n",
      "     -----------                              4.4/14.8 MB 11.7 MB/s eta 0:00:01\n",
      "     -------------                            5.0/14.8 MB 11.7 MB/s eta 0:00:01\n",
      "     --------------                           5.4/14.8 MB 11.8 MB/s eta 0:00:01\n",
      "     ---------------                          5.6/14.8 MB 10.8 MB/s eta 0:00:01\n",
      "     ----------------                         6.2/14.8 MB 11.0 MB/s eta 0:00:01\n",
      "     -----------------                        6.6/14.8 MB 10.9 MB/s eta 0:00:01\n",
      "     -------------------                      7.2/14.8 MB 11.0 MB/s eta 0:00:01\n",
      "     --------------------                     7.8/14.8 MB 11.0 MB/s eta 0:00:01\n",
      "     ----------------------                   8.3/14.8 MB 11.1 MB/s eta 0:00:01\n",
      "     -----------------------                  8.9/14.8 MB 11.2 MB/s eta 0:00:01\n",
      "     -------------------------                9.5/14.8 MB 11.2 MB/s eta 0:00:01\n",
      "     --------------------------              10.0/14.8 MB 11.2 MB/s eta 0:00:01\n",
      "     ---------------------------             10.6/14.8 MB 11.3 MB/s eta 0:00:01\n",
      "     -----------------------------           11.2/14.8 MB 11.3 MB/s eta 0:00:01\n",
      "     ------------------------------          11.7/14.8 MB 11.3 MB/s eta 0:00:01\n",
      "     --------------------------------        12.3/14.8 MB 11.3 MB/s eta 0:00:01\n",
      "     ---------------------------------       12.8/14.8 MB 11.3 MB/s eta 0:00:01\n",
      "     -----------------------------------     13.3/14.8 MB 11.3 MB/s eta 0:00:01\n",
      "     ------------------------------------    13.9/14.8 MB 11.3 MB/s eta 0:00:01\n",
      "     --------------------------------------  14.5/14.8 MB 11.3 MB/s eta 0:00:01\n",
      "     --------------------------------------  14.8/14.8 MB 11.3 MB/s eta 0:00:01\n",
      "     --------------------------------------- 14.8/14.8 MB 10.9 MB/s eta 0:00:00\n",
      "Requirement already satisfied: six>=1.5 in c:\\python311\\lib\\site-packages (from python-dateutil>=2.8.2->pandas) (1.16.0)\n",
      "Installing collected packages: pytz, tzdata, numpy, pandas\n",
      "Successfully installed numpy-1.24.2 pandas-2.0.0 pytz-2023.3 tzdata-2023.3\n"
     ]
    },
    {
     "name": "stderr",
     "output_type": "stream",
     "text": [
      "  WARNING: The script f2py.exe is installed in 'C:\\Python311\\Scripts' which is not on PATH.\n",
      "  Consider adding this directory to PATH or, if you prefer to suppress this warning, use --no-warn-script-location.\n"
     ]
    }
   ],
   "source": [
    "!pip install pandas"
   ]
  },
  {
   "cell_type": "code",
   "execution_count": 5,
   "id": "eaeef63a",
   "metadata": {},
   "outputs": [],
   "source": [
    "data ={\"col1\":[1,2,2], \"col2\":[2,3,4]}"
   ]
  },
  {
   "cell_type": "code",
   "execution_count": 7,
   "id": "1d3a6b33",
   "metadata": {},
   "outputs": [],
   "source": [
    "df = pd.DataFrame(data)"
   ]
  },
  {
   "cell_type": "code",
   "execution_count": 8,
   "id": "fd9a3633",
   "metadata": {},
   "outputs": [
    {
     "data": {
      "text/html": [
       "<div>\n",
       "<style scoped>\n",
       "    .dataframe tbody tr th:only-of-type {\n",
       "        vertical-align: middle;\n",
       "    }\n",
       "\n",
       "    .dataframe tbody tr th {\n",
       "        vertical-align: top;\n",
       "    }\n",
       "\n",
       "    .dataframe thead th {\n",
       "        text-align: right;\n",
       "    }\n",
       "</style>\n",
       "<table border=\"1\" class=\"dataframe\">\n",
       "  <thead>\n",
       "    <tr style=\"text-align: right;\">\n",
       "      <th></th>\n",
       "      <th>col1</th>\n",
       "      <th>col2</th>\n",
       "    </tr>\n",
       "  </thead>\n",
       "  <tbody>\n",
       "    <tr>\n",
       "      <th>0</th>\n",
       "      <td>1</td>\n",
       "      <td>2</td>\n",
       "    </tr>\n",
       "    <tr>\n",
       "      <th>1</th>\n",
       "      <td>2</td>\n",
       "      <td>3</td>\n",
       "    </tr>\n",
       "    <tr>\n",
       "      <th>2</th>\n",
       "      <td>2</td>\n",
       "      <td>4</td>\n",
       "    </tr>\n",
       "  </tbody>\n",
       "</table>\n",
       "</div>"
      ],
      "text/plain": [
       "   col1  col2\n",
       "0     1     2\n",
       "1     2     3\n",
       "2     2     4"
      ]
     },
     "metadata": {},
     "output_type": "display_data"
    }
   ],
   "source": [
    "display(df)"
   ]
  },
  {
   "cell_type": "code",
   "execution_count": null,
   "id": "2a8cc2e0",
   "metadata": {},
   "outputs": [],
   "source": []
  }
 ],
 "metadata": {
  "kernelspec": {
   "display_name": "Python 3 (ipykernel)",
   "language": "python",
   "name": "python3"
  },
  "language_info": {
   "codemirror_mode": {
    "name": "ipython",
    "version": 3
   },
   "file_extension": ".py",
   "mimetype": "text/x-python",
   "name": "python",
   "nbconvert_exporter": "python",
   "pygments_lexer": "ipython3",
   "version": "3.11.3"
  }
 },
 "nbformat": 4,
 "nbformat_minor": 5
}
