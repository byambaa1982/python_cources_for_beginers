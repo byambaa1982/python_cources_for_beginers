{
  "nbformat": 4,
  "nbformat_minor": 0,
  "metadata": {
    "colab": {
      "provenance": [],
      "authorship_tag": "ABX9TyNVGKrVLziY2xjyDq9SxCzq",
      "include_colab_link": true
    },
    "kernelspec": {
      "name": "python3",
      "display_name": "Python 3"
    },
    "language_info": {
      "name": "python"
    }
  },
  "cells": [
    {
      "cell_type": "markdown",
      "metadata": {
        "id": "view-in-github",
        "colab_type": "text"
      },
      "source": [
        "<a href=\"https://colab.research.google.com/github/byambaa1982/python_cources_for_beginers/blob/main/10_working_with_APIs%20/API_notebook.ipynb\" target=\"_parent\"><img src=\"https://colab.research.google.com/assets/colab-badge.svg\" alt=\"Open In Colab\"/></a>"
      ]
    },
    {
      "cell_type": "code",
      "execution_count": 42,
      "metadata": {
        "id": "rsYTY_y4CRw2"
      },
      "outputs": [],
      "source": [
        "import requests\n",
        "\n",
        "# API URL\n",
        "url = \"https://pokeapi.co/api/v2/pokemon/arbok\"  # Replace with your API endpoint\n",
        "\n",
        "\n",
        "# Sending GET request\n",
        "response = requests.get(url)\n"
      ]
    },
    {
      "cell_type": "code",
      "source": [
        "# API URL\n",
        "\n",
        "name = \"gholdengo\"\n",
        "url = f\"https://pokeapi.co/api/v2/pokemon/{name}\"  # Replace with your API endpoint\n",
        "# Sending GET request\n",
        "response = requests.get(url)\n",
        "raw_data = response.json()\n",
        "ability = raw_data['abilities'][0]['ability']['name']\n",
        "height = raw_data['height']\n",
        "print(f\"{name}'s abitility is {ability} and height is {height}.\")"
      ],
      "metadata": {
        "colab": {
          "base_uri": "https://localhost:8080/"
        },
        "id": "7F_x5p-aM-88",
        "outputId": "ec6dd5af-0f62-44b5-f4a2-c7036379a3ed"
      },
      "execution_count": 43,
      "outputs": [
        {
          "output_type": "stream",
          "name": "stdout",
          "text": [
            "gholdengo's abitility is good-as-gold and height is 12.\n"
          ]
        }
      ]
    },
    {
      "cell_type": "code",
      "source": [
        "def show_ability(name):\n",
        "  url = f\"https://pokeapi.co/api/v2/pokemon/{name}\"  # Replace with your API endpoint\n",
        "  # Sending GET request\n",
        "  response = requests.get(url)\n",
        "  raw_data = response.json()\n",
        "  ability = raw_data['abilities'][0]['ability']['name']\n",
        "  height = raw_data['height']\n",
        "  order = raw_data['order']\n",
        "  print(f\"{name}'s abitility is {ability} and height is {height}. Order is {order}\")"
      ],
      "metadata": {
        "id": "lCmaC87xP6D8"
      },
      "execution_count": 44,
      "outputs": []
    },
    {
      "cell_type": "code",
      "source": [
        "pokemon_names = [\n",
        "    \"Pikachu\",\n",
        "    \"Charmander\",\n",
        "    \"Bulbasaur\",\n",
        "    \"Squirtle\",\n",
        "    \"Mewtwo\",\n",
        "    \"Eevee\",\n",
        "    \"Gengar\",\n",
        "    \"Lucario\",\n",
        "    \"Dragonite\",\n",
        "    \"Arceus\"\n",
        "]"
      ],
      "metadata": {
        "id": "oeWBtR34QTYk"
      },
      "execution_count": 45,
      "outputs": []
    },
    {
      "cell_type": "code",
      "source": [
        "for name in pokemon_names:\n",
        "  print(name)\n",
        "  show_ability(name.lower())"
      ],
      "metadata": {
        "colab": {
          "base_uri": "https://localhost:8080/"
        },
        "id": "XOxXKs7tQWy3",
        "outputId": "7df2357c-d6c0-49eb-ba1d-df00eb5a84f7"
      },
      "execution_count": 46,
      "outputs": [
        {
          "output_type": "stream",
          "name": "stdout",
          "text": [
            "Pikachu\n",
            "pikachu's abitility is static and height is 4. Order is 35\n",
            "Charmander\n",
            "charmander's abitility is blaze and height is 6. Order is 5\n",
            "Bulbasaur\n",
            "bulbasaur's abitility is overgrow and height is 7. Order is 1\n",
            "Squirtle\n",
            "squirtle's abitility is torrent and height is 5. Order is 10\n",
            "Mewtwo\n",
            "mewtwo's abitility is pressure and height is 20. Order is 245\n",
            "Eevee\n",
            "eevee's abitility is run-away and height is 3. Order is 215\n",
            "Gengar\n",
            "gengar's abitility is cursed-body and height is 15. Order is 149\n",
            "Lucario\n",
            "lucario's abitility is steadfast and height is 12. Order is 573\n",
            "Dragonite\n",
            "dragonite's abitility is inner-focus and height is 22. Order is 244\n",
            "Arceus\n",
            "arceus's abitility is multitype and height is 32. Order is 608\n"
          ]
        }
      ]
    },
    {
      "cell_type": "code",
      "source": [
        "import requests\n",
        "import matplotlib.pyplot as plt\n",
        "from PIL import Image\n",
        "from io import BytesIO\n",
        "\n",
        "# Function to fetch Pokémon sprite\n",
        "def fetch_pokemon_sprite(pokemon_name):\n",
        "    url = f\"https://pokeapi.co/api/v2/pokemon/{pokemon_name}\"  # API endpoint\n",
        "    response = requests.get(url)\n",
        "\n",
        "    if response.status_code == 200:\n",
        "        raw_data = response.json()\n",
        "        sprite_url = raw_data['sprites']['front_default']\n",
        "        return sprite_url\n",
        "    else:\n",
        "        print(f\"Error: Couldn't find Pokémon {pokemon_name}\")\n",
        "        return None\n",
        "\n",
        "# Function to display Pokémon sprite\n",
        "def display_pokemon_sprite(sprite_url, pokemon_name):\n",
        "    response = requests.get(sprite_url)\n",
        "    if response.status_code == 200:\n",
        "        image = Image.open(BytesIO(response.content))\n",
        "\n",
        "        # Display image using matplotlib\n",
        "        plt.imshow(image)\n",
        "        plt.axis('off')  # Turn off axes\n",
        "        plt.title(f\"{pokemon_name.capitalize()} Sprite\")\n",
        "        plt.show()\n",
        "    else:\n",
        "        print(\"Error: Unable to fetch sprite image.\")\n",
        "\n",
        "# Main script\n",
        "if __name__ == \"__main__\":\n",
        "    pokemon_name = input(\"Enter the name of the Pokémon: \").lower()\n",
        "    sprite_url = fetch_pokemon_sprite(pokemon_name)\n",
        "\n",
        "    if sprite_url:\n",
        "        display_pokemon_sprite(sprite_url, pokemon_name)\n"
      ],
      "metadata": {
        "id": "il9AIduoVL1g",
        "outputId": "d4d948a9-2c01-432a-b4e7-889f32dd77b1",
        "colab": {
          "base_uri": "https://localhost:8080/",
          "height": 445
        }
      },
      "execution_count": 41,
      "outputs": [
        {
          "name": "stdout",
          "output_type": "stream",
          "text": [
            "Enter the name of the Pokémon: Eevee\n"
          ]
        },
        {
          "output_type": "display_data",
          "data": {
            "text/plain": [
              "<Figure size 640x480 with 1 Axes>"
            ],
            "image/png": "[encoded data removed]"
          },
          "metadata": {}
        }
      ]
    },
    {
      "cell_type": "code",
      "source": [],
      "metadata": {
        "id": "MEgiEJ7_VXOV"
      },
      "execution_count": null,
      "outputs": []
    }
  ]
}