{
  "nbformat": 4,
  "nbformat_minor": 0,
  "metadata": {
    "colab": {
      "provenance": [],
      "authorship_tag": "ABX9TyMaeSgU1WkLT6cehWPoiz9o",
      "include_colab_link": true
    },
    "kernelspec": {
      "name": "python3",
      "display_name": "Python 3"
    },
    "language_info": {
      "name": "python"
    }
  },
  "cells": [
    {
      "cell_type": "markdown",
      "metadata": {
        "id": "view-in-github",
        "colab_type": "text"
      },
      "source": [
        "<a href=\"https://colab.research.google.com/github/byambaa1982/python_cources_for_beginers/blob/main/practice_exercise/practice_dictionaries_solution.ipynb\" target=\"_parent\"><img src=\"https://colab.research.google.com/assets/colab-badge.svg\" alt=\"Open In Colab\"/></a>"
      ]
    },
    {
      "cell_type": "code",
      "source": [
        "# A dictionary with some fruits and their colors\n",
        "fruit_colors = {\n",
        "    \"apple\": \"red\",\n",
        "    \"banana\": \"yellow\",\n",
        "    \"grape\": \"purple\",\n",
        "    \"orange\": \"orange\",\n",
        "    \"kiwi\": \"green\"\n",
        "}\n",
        "print(fruit_colors[\"apple\"])\n",
        "\n"
      ],
      "metadata": {
        "id": "iCLvyna3ZMfZ",
        "outputId": "4a9d5ba4-d284-462b-b404-6cb4e5b73536",
        "colab": {
          "base_uri": "https://localhost:8080/"
        }
      },
      "execution_count": null,
      "outputs": [
        {
          "output_type": "stream",
          "name": "stdout",
          "text": [
            "red\n"
          ]
        }
      ]
    },
    {
      "cell_type": "markdown",
      "source": [
        "# Task 1: Adding to a Dictionary\n",
        "\n",
        "Task: Write a Python dictionary to store three favorite animals and the sounds they make (e.g., \"dog\": \"bark\"). Then, add another animal and its sound to the dictionary."
      ],
      "metadata": {
        "id": "_PaeU0AJYcV3"
      }
    },
    {
      "cell_type": "code",
      "source": [
        "animal_sounds = {\n",
        "    \"dog\": \"bark\",\n",
        "    \"cat\": \"meow\",\n",
        "    \"cow\": \"moo\"\n",
        "}\n"
      ],
      "metadata": {
        "id": "-iFJNRV0YfCr"
      },
      "execution_count": null,
      "outputs": []
    },
    {
      "cell_type": "markdown",
      "source": [
        " # Task 2: Accessing Values\n",
        "\n",
        "Task: Given the dictionary below, print out the color of the banana."
      ],
      "metadata": {
        "id": "JtnHqhLyYtZh"
      }
    },
    {
      "cell_type": "code",
      "source": [
        "fruit_colors = {\n",
        "    \"apple\": \"red\",\n",
        "    \"banana\": \"yellow\",\n",
        "    \"grape\": \"purple\"\n",
        "}\n"
      ],
      "metadata": {
        "id": "1-anIVkNYqJy"
      },
      "execution_count": 1,
      "outputs": []
    },
    {
      "cell_type": "code",
      "source": [
        "fruit_colors['banana']"
      ],
      "metadata": {
        "id": "n6_0GgdHWFlf",
        "outputId": "c0686afb-4081-44bb-91ef-cb6de58b7bb9",
        "colab": {
          "base_uri": "https://localhost:8080/",
          "height": 35
        }
      },
      "execution_count": 2,
      "outputs": [
        {
          "output_type": "execute_result",
          "data": {
            "text/plain": [
              "'yellow'"
            ],
            "application/vnd.google.colaboratory.intrinsic+json": {
              "type": "string"
            }
          },
          "metadata": {},
          "execution_count": 2
        }
      ]
    },
    {
      "cell_type": "markdown",
      "source": [
        "# Task 3: Looping through a Dictionary\n",
        "\n",
        "Task: Use a for loop to print out all the fruit names from the dictionary below."
      ],
      "metadata": {
        "id": "KDzRa5PlY-sN"
      }
    },
    {
      "cell_type": "code",
      "source": [
        "fruit_colors = {\n",
        "    \"apple\": \"red\",\n",
        "    \"banana\": \"yellow\",\n",
        "    \"grape\": \"purple\"\n",
        "}\n"
      ],
      "metadata": {
        "id": "9wwf4mjOYrZ8"
      },
      "execution_count": null,
      "outputs": []
    },
    {
      "cell_type": "code",
      "source": [
        "for fruit in fruit_colors:\n",
        "    print(fruit)\n"
      ],
      "metadata": {
        "id": "70WoQjPTT4nP",
        "outputId": "e1f32dc7-b473-4b10-cbeb-31b0ddc581fa",
        "colab": {
          "base_uri": "https://localhost:8080/"
        }
      },
      "execution_count": null,
      "outputs": [
        {
          "output_type": "stream",
          "name": "stdout",
          "text": [
            "apple\n",
            "banana\n",
            "grape\n"
          ]
        }
      ]
    },
    {
      "cell_type": "markdown",
      "source": [
        "# Task 4: Updating a Value\n",
        "Task: The dictionary below has the wrong color for the grape. Change the color of the grape to \"green\"."
      ],
      "metadata": {
        "id": "04n3CjvvZTBr"
      }
    },
    {
      "cell_type": "code",
      "source": [
        "fruit_colors = {\n",
        "    \"apple\": \"red\",\n",
        "    \"banana\": \"yellow\",\n",
        "    \"grape\": \"purple\"\n",
        "}"
      ],
      "metadata": {
        "id": "DRgqAE9LZV3b"
      },
      "execution_count": null,
      "outputs": []
    },
    {
      "cell_type": "code",
      "source": [
        "fruit_colors[\"grape\"] = \"green\""
      ],
      "metadata": {
        "id": "YfJUTYmLUE9e"
      },
      "execution_count": null,
      "outputs": []
    },
    {
      "cell_type": "markdown",
      "source": [
        "# Task 5: Checking for a Key\n",
        "\n",
        "Task: Write a program to check if the fruit \"orange\" is in the dictionary. If it is, print \"Orange is in the list!\", otherwise print \"Orange is not in the list!\"."
      ],
      "metadata": {
        "id": "fu45lDBEZb4N"
      }
    },
    {
      "cell_type": "code",
      "source": [
        "fruit_colors = {\n",
        "    \"apple\": \"red\",\n",
        "    \"banana\": \"yellow\",\n",
        "    \"grape\": \"green\"\n",
        "}\n"
      ],
      "metadata": {
        "id": "dB4fcU1AZeNS"
      },
      "execution_count": null,
      "outputs": []
    },
    {
      "cell_type": "code",
      "source": [
        "if \"orange\" in fruit_colors.values():\n",
        "    print(\"Orange is in the list!\")\n",
        "else:\n",
        "    print(\"Orange is not in the list!\")\n"
      ],
      "metadata": {
        "id": "NyFw2p3wUPQb",
        "outputId": "dba8c0c9-0a42-4e87-8fce-0717aac87ee5",
        "colab": {
          "base_uri": "https://localhost:8080/"
        }
      },
      "execution_count": null,
      "outputs": [
        {
          "output_type": "stream",
          "name": "stdout",
          "text": [
            "Orange is not in the list!\n"
          ]
        }
      ]
    },
    {
      "cell_type": "markdown",
      "source": [
        "# Task 6: Counting with Dictionaries\n",
        "\n",
        "Task: Create a dictionary to store how many toys each child has. Example:\n"
      ],
      "metadata": {
        "id": "n7XVubweZkUx"
      }
    },
    {
      "cell_type": "code",
      "source": [
        "toy_count = {\n",
        "    \"Alice\": 5,\n",
        "    \"Bob\": 3,\n",
        "    \"Charlie\": 7\n",
        "}\n"
      ],
      "metadata": {
        "id": "vZkPZuKvZjxG"
      },
      "execution_count": null,
      "outputs": []
    },
    {
      "cell_type": "code",
      "source": [
        "toy_count[\"Bob\"] += 1\n"
      ],
      "metadata": {
        "id": "Hk_grBbPUuth"
      },
      "execution_count": null,
      "outputs": []
    },
    {
      "cell_type": "code",
      "source": [
        "toy_count"
      ],
      "metadata": {
        "id": "x8jgH9lAUxh1",
        "outputId": "7b643146-0538-427c-9785-b591171b1594",
        "colab": {
          "base_uri": "https://localhost:8080/"
        }
      },
      "execution_count": null,
      "outputs": [
        {
          "output_type": "execute_result",
          "data": {
            "text/plain": [
              "{'Alice': 5, 'Bob': 4, 'Charlie': 7}"
            ]
          },
          "metadata": {},
          "execution_count": 16
        }
      ]
    },
    {
      "cell_type": "code",
      "source": [],
      "metadata": {
        "id": "nm2l230laIub"
      },
      "execution_count": null,
      "outputs": []
    }
  ]
}