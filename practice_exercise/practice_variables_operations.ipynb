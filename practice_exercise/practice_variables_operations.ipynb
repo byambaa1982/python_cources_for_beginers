{
  "nbformat": 4,
  "nbformat_minor": 0,
  "metadata": {
    "colab": {
      "provenance": [],
      "include_colab_link": true
    },
    "kernelspec": {
      "name": "python3",
      "display_name": "Python 3"
    },
    "language_info": {
      "name": "python"
    }
  },
  "cells": [
    {
      "cell_type": "markdown",
      "metadata": {
        "id": "view-in-github",
        "colab_type": "text"
      },
      "source": [
        "<a href=\"https://colab.research.google.com/github/byambaa1982/python_cources_for_beginers/blob/class_zero_hannah/practice_exercise/practice_variables_operations.ipynb\" target=\"_parent\"><img src=\"https://colab.research.google.com/assets/colab-badge.svg\" alt=\"Open In Colab\"/></a>"
      ]
    },
    {
      "cell_type": "markdown",
      "source": [
        "# Task 1: Simple Math Operations\n",
        "Instructions: Write a program that:\n",
        "\n",
        "- Adds 15 and 20 and prints the result.\n",
        "- Multiplies 7 by 8 and prints the result.\n",
        "- Divides 56 by 8 and prints the result."
      ],
      "metadata": {
        "id": "_PaeU0AJYcV3"
      }
    },
    {
      "cell_type": "code",
      "source": [
        "# Addition\n",
        "result_add = 15 + 20\n",
        "print(\"15 + 20 =\", result_add)\n",
        "\n",
        "# Multiplication\n",
        "#your code\n",
        "result_multiply = 5 * 2\n",
        "print(\"5 * 2 =\", result_multiply)\n",
        "# Division\n",
        "result_divide = 72/9\n",
        "print(\"72/9 =\", result_divide)\n"
      ],
      "metadata": {
        "id": "jTAarq8XaRXW",
        "colab": {
          "base_uri": "https://localhost:8080/"
        },
        "outputId": "94fe9e87-1a5e-4f98-b38e-70015212cdfe"
      },
      "execution_count": 8,
      "outputs": [
        {
          "output_type": "stream",
          "name": "stdout",
          "text": [
            "15 + 20 = 35\n",
            "5 * 2 = 10\n",
            "72/9 = 8.0\n"
          ]
        }
      ]
    },
    {
      "cell_type": "markdown",
      "source": [
        " # Task 2: Using Variables\n",
        "Instructions:\n",
        "\n",
        "- Create a variable called name and set it to \"Alex\".\n",
        "- Create another variable age and set it to 11.\n",
        "- Print a sentence saying, \"Hello, my name is Alex and I am 11 years old,\" but use the variables name and age to construct the sentence."
      ],
      "metadata": {
        "id": "JtnHqhLyYtZh"
      }
    },
    {
      "cell_type": "code",
      "source": [
        "# Creating variables\n",
        "name = \"Sally\"\n",
        "age = 37\n",
        "\n",
        "# Printing sentence using variables\n",
        "print(\"hello, my name is\", name, \"and I am \", age, \"years old.\")\n"
      ],
      "metadata": {
        "id": "1-anIVkNYqJy",
        "outputId": "7216ce99-d209-4ade-ff33-1f1892ac48b6",
        "colab": {
          "base_uri": "https://localhost:8080/"
        }
      },
      "execution_count": 9,
      "outputs": [
        {
          "output_type": "stream",
          "name": "stdout",
          "text": [
            "hello, my name is Sally and I am  37 years old.\n"
          ]
        }
      ]
    },
    {
      "cell_type": "markdown",
      "source": [
        "# Task 3: Simple If Statement\n",
        "Instructions: Write a program that:\n",
        "\n",
        "- Takes a number and stores it in a variable called my_number.\n",
        "- Checks if my_number is greater than 10.\n",
        "- If it is, print \"my_number is greater than 10!\". If not, print \"my_number is 10 or less!\"."
      ],
      "metadata": {
        "id": "KDzRa5PlY-sN"
      }
    },
    {
      "cell_type": "code",
      "source": [
        "# Defining the number\n",
        "my_number = 16\n",
        "\n",
        "# Checking the condition\n",
        "if my_number > 10:\n",
        "  print(\"my_number is greater than 10\")\n",
        "else:\n",
        "  print(\"my_number is 10 or less\")\n"
      ],
      "metadata": {
        "id": "9wwf4mjOYrZ8",
        "outputId": "e1b050c2-469c-4379-a739-61a95f04deca",
        "colab": {
          "base_uri": "https://localhost:8080/"
        }
      },
      "execution_count": 10,
      "outputs": [
        {
          "output_type": "stream",
          "name": "stdout",
          "text": [
            "my_number is greater than 10\n"
          ]
        }
      ]
    },
    {
      "cell_type": "markdown",
      "source": [
        "# Task 4: Area of a Rectangle\n",
        "Instructions:\n",
        "\n",
        "- Create two variables, length and width, and set them to 10 and 5 respectively.\n",
        "- nCalculate the area of the rectangle (use the formula area = length * width).\n",
        "- Print the result with the message: \"The area of the rectangle is: [area]\"."
      ],
      "metadata": {
        "id": "04n3CjvvZTBr"
      }
    },
    {
      "cell_type": "code",
      "source": [
        "# Defining variables for length and width\n",
        "length = 7\n",
        "width = 9\n",
        "\n",
        "# Calculating the area\n",
        "area = length * width\n",
        "\n",
        "# Printing the result\n",
        "print(\"The area of the rectangle is:\", area)\n"
      ],
      "metadata": {
        "id": "DRgqAE9LZV3b",
        "outputId": "773a2088-2682-4851-9745-304d8a6287c5",
        "colab": {
          "base_uri": "https://localhost:8080/"
        }
      },
      "execution_count": 11,
      "outputs": [
        {
          "output_type": "stream",
          "name": "stdout",
          "text": [
            "The area of the rectangle is: 63\n"
          ]
        }
      ]
    },
    {
      "cell_type": "markdown",
      "source": [
        "# Task 5: Combining Strings\n",
        "Instructions:\n",
        "\n",
        "- Create a variable first_name and set it to \"Sarah\".\n",
        "- Create another variable last_name and set it to \"Connor\".\n",
        "- Combine first_name and last_name with a space in between to create a full name and print it as: \"Full name: Sarah Connor\"."
      ],
      "metadata": {
        "id": "fu45lDBEZb4N"
      }
    },
    {
      "cell_type": "code",
      "source": [
        "# Defining first and last names\n",
        "first_name = \"Sarah\"\n",
        "\n",
        "last_name = \"Connor\"\n",
        "\n",
        "mid_name = \"sandy\"\n",
        "# Combining names\n",
        "full_name = first_name  +  mid_name  + last_name\n",
        "\n",
        "# Printing full name\n",
        "print(\"Full name:\", full_name)\n"
      ],
      "metadata": {
        "id": "dB4fcU1AZeNS",
        "outputId": "e25a008c-b3f8-4a37-dbaf-14a91104cd96",
        "colab": {
          "base_uri": "https://localhost:8080/"
        }
      },
      "execution_count": 14,
      "outputs": [
        {
          "output_type": "stream",
          "name": "stdout",
          "text": [
            "Full name: SarahsandyConnor\n"
          ]
        }
      ]
    },
    {
      "cell_type": "markdown",
      "source": [
        "# Task 6:  Temperature Conversion\n",
        "Instructions:\n",
        "\n",
        "- Create a variable called celsius and set it to 25.\n",
        "- Convert this temperature to Fahrenheit using the formula fahrenheit = (celsius * 9/5) + 32.\n",
        "- Print the result as: \"Temperature in Fahrenheit: [fahrenheit]\"."
      ],
      "metadata": {
        "id": "FbUwGQUvpZ-u"
      }
    },
    {
      "cell_type": "code",
      "source": [
        "# Defining the Celsius temperature\n",
        "celsius = 48\n",
        "\n",
        "# Converting to Fahrenheit\n",
        "fahrenheit = (celsius * 9/5) + 32\n",
        "\n",
        "# Printing the result\n",
        "print(\"Temperature in fahrenheit:\", fahrenheit)\n",
        "\n"
      ],
      "metadata": {
        "id": "6ffRWzIVZITP",
        "outputId": "46005228-29a5-428b-e021-710b4ffe9a43",
        "colab": {
          "base_uri": "https://localhost:8080/"
        }
      },
      "execution_count": 16,
      "outputs": [
        {
          "output_type": "stream",
          "name": "stdout",
          "text": [
            "Temperature in fahrenheit: 118.4\n"
          ]
        }
      ]
    },
    {
      "cell_type": "markdown",
      "source": [
        "# Task 7: Favorite Animal Facts\n",
        "Instructions:\n",
        "\n",
        "- Create a variable called animal_name and set it to your favorite animal (e.g., \"Dolphin\").\n",
        "- Create another variable animal_sound and set it to a sound the animal makes (e.g., \"Click\").\n",
        "- Create a final variable animal_habitat and set it to where the animal lives (e.g., \"Ocean\").\n",
        "Print a fun sentence like, \"A Dolphin lives in the Ocean and makes a sound like Click!\""
      ],
      "metadata": {
        "id": "mRB9AobypgeV"
      }
    },
    {
      "cell_type": "code",
      "source": [
        "# Defining animal details\n",
        "animal_name = \"Dolphin\"\n",
        "#your code\n",
        "\n",
        "# Printing the sentence\n",
        "#your code\n"
      ],
      "metadata": {
        "id": "blq_l8l-pid3",
        "outputId": "d2014300-804a-4a45-abea-57eb89b5e312",
        "colab": {
          "base_uri": "https://localhost:8080/"
        }
      },
      "execution_count": null,
      "outputs": [
        {
          "output_type": "stream",
          "name": "stdout",
          "text": [
            "A Dolphin lives in the Ocean and makes a sound like Click!\n"
          ]
        }
      ]
    },
    {
      "cell_type": "markdown",
      "source": [
        "# Task 8: Story Time - Create Your Adventure\n",
        "Instructions:\n",
        "\n",
        "- Create a variable hero_name and set it to a character name of your choice.\n",
        "- Create a variable place and set it to a fictional place (e.g., \"Enchanted Forest\").\n",
        "- Create a variable goal and set it to something the character is trying to find (e.g., \"magic stone\").\n",
        "- Print a short story like, \"Once upon a time, [hero_name] traveled through the [place] in search of the [goal].\""
      ],
      "metadata": {
        "id": "XA9SCRMapoWZ"
      }
    },
    {
      "cell_type": "code",
      "source": [
        "# Defining story elements\n",
        "hero_name = \"Luna\"\n",
        "#your code\n",
        "\n",
        "# Printing the story\n",
        "#your code\n"
      ],
      "metadata": {
        "id": "Fl2S4pmrpq12",
        "outputId": "ef78ed85-6aac-45cd-d8bd-6b922aa256ec",
        "colab": {
          "base_uri": "https://localhost:8080/"
        }
      },
      "execution_count": null,
      "outputs": [
        {
          "output_type": "stream",
          "name": "stdout",
          "text": [
            "Once upon a time, Luna traveled through the Enchanted Forest in search of the magic stone.\n"
          ]
        }
      ]
    },
    {
      "cell_type": "code",
      "source": [],
      "metadata": {
        "id": "4N9E7WIvdM9E"
      },
      "execution_count": null,
      "outputs": []
    },
    {
      "cell_type": "code",
      "source": [],
      "metadata": {
        "id": "kv1aYSIzcV0Z"
      },
      "execution_count": null,
      "outputs": []
    }
  ]
}