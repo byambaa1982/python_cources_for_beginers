{
  "nbformat": 4,
  "nbformat_minor": 0,
  "metadata": {
    "colab": {
      "provenance": [],
      "include_colab_link": true
    },
    "kernelspec": {
      "name": "python3",
      "display_name": "Python 3"
    },
    "language_info": {
      "name": "python"
    }
  },
  "cells": [
    {
      "cell_type": "markdown",
      "metadata": {
        "id": "view-in-github",
        "colab_type": "text"
      },
      "source": [
        "<a href=\"https://colab.research.google.com/github/byambaa1982/python_cources_for_beginers/blob/enkhuils/practice_exercise/practice_functions.ipynb\" target=\"_parent\"><img src=\"https://colab.research.google.com/assets/colab-badge.svg\" alt=\"Open In Colab\"/></a>"
      ]
    },
    {
      "cell_type": "markdown",
      "source": [
        "# Task 1: Add Two Numbers\n",
        "Create a function that takes two numbers as arguments and returns their sum."
      ],
      "metadata": {
        "id": "_PaeU0AJYcV3"
      }
    },
    {
      "cell_type": "code",
      "source": [
        "def add_numbers(a, b):\n",
        "    return a + b\n"
      ],
      "metadata": {
        "id": "-iFJNRV0YfCr"
      },
      "execution_count": 4,
      "outputs": []
    },
    {
      "cell_type": "code",
      "source": [
        "def add_numbers(a, b):\n",
        "    return a + b\n",
        "result = add_numbers(5, 10)\n",
        "print(result)"
      ],
      "metadata": {
        "id": "TnrMprJ-VBX4",
        "outputId": "233ea8c9-bc03-4792-80b6-1e58a6366c9c",
        "colab": {
          "base_uri": "https://localhost:8080/"
        }
      },
      "execution_count": 2,
      "outputs": [
        {
          "output_type": "stream",
          "name": "stdout",
          "text": [
            "15\n"
          ]
        }
      ]
    },
    {
      "cell_type": "code",
      "source": [
        "def add_numbers(a, b):\n",
        "    return a + b"
      ],
      "metadata": {
        "id": "dFBJ0ZOhGfej"
      },
      "execution_count": 6,
      "outputs": []
    },
    {
      "cell_type": "code",
      "source": [
        "def make_title(word):\n",
        "    return word.title\n",
        "favorite_foods = [\"pizza, hamburger, nachos, chicken, bacon\"]\n",
        "for food in favorite_foods\n",
        "    print(make_title(food))"
      ],
      "metadata": {
        "id": "rvxqd8DsHF8F",
        "outputId": "99a80faa-a84d-444b-dcc0-eaeb923d4091",
        "colab": {
          "base_uri": "https://localhost:8080/",
          "height": 106
        }
      },
      "execution_count": 17,
      "outputs": [
        {
          "output_type": "error",
          "ename": "SyntaxError",
          "evalue": "expected ':' (<ipython-input-17-2d331b2b7490>, line 4)",
          "traceback": [
            "\u001b[0;36m  File \u001b[0;32m\"<ipython-input-17-2d331b2b7490>\"\u001b[0;36m, line \u001b[0;32m4\u001b[0m\n\u001b[0;31m    for food in favorite_foods\u001b[0m\n\u001b[0m                              ^\u001b[0m\n\u001b[0;31mSyntaxError\u001b[0m\u001b[0;31m:\u001b[0m expected ':'\n"
          ]
        }
      ]
    },
    {
      "cell_type": "markdown",
      "source": [
        " # Task 2: Multiply Two Numbers\n",
        "\n",
        "Create a function that takes two numbers as arguments and returns their product."
      ],
      "metadata": {
        "id": "JtnHqhLyYtZh"
      }
    },
    {
      "cell_type": "code",
      "source": [
        "def multiply_numbers(a, b):\n",
        "   return a * b\n",
        "result = multiply_numbers(5, 7)\n",
        "print(result)"
      ],
      "metadata": {
        "id": "1-anIVkNYqJy",
        "outputId": "47f2780b-28b6-4acb-9a3b-78a3f67d4d54",
        "colab": {
          "base_uri": "https://localhost:8080/"
        }
      },
      "execution_count": 8,
      "outputs": [
        {
          "output_type": "stream",
          "name": "stdout",
          "text": [
            "35\n"
          ]
        }
      ]
    },
    {
      "cell_type": "code",
      "source": [
        "# Your code is here\n"
      ],
      "metadata": {
        "id": "phJ0DyBTVVX8",
        "outputId": "34bc4ec3-47af-4a3e-b241-cf8f7cb9e7f6",
        "colab": {
          "base_uri": "https://localhost:8080/"
        }
      },
      "execution_count": null,
      "outputs": [
        {
          "output_type": "stream",
          "name": "stdout",
          "text": [
            "50\n"
          ]
        }
      ]
    },
    {
      "cell_type": "markdown",
      "source": [
        "# Task 3: Subtract Two Numbers\n",
        "Create a function that takes two numbers as arguments and returns their difference (first number minus the second number)."
      ],
      "metadata": {
        "id": "KDzRa5PlY-sN"
      }
    },
    {
      "cell_type": "code",
      "source": [
        "# Your code is here"
      ],
      "metadata": {
        "id": "9wwf4mjOYrZ8"
      },
      "execution_count": null,
      "outputs": []
    },
    {
      "cell_type": "code",
      "source": [
        "# Example usage\n",
        "result = subtract_numbers(10, 5)\n",
        "print(result)  # Output: 5\n",
        "\n"
      ],
      "metadata": {
        "colab": {
          "base_uri": "https://localhost:8080/"
        },
        "id": "70WoQjPTT4nP",
        "outputId": "b4645a89-961b-4c87-950a-2aeb74d9e1ed"
      },
      "execution_count": null,
      "outputs": [
        {
          "output_type": "stream",
          "name": "stdout",
          "text": [
            "5\n"
          ]
        }
      ]
    },
    {
      "cell_type": "markdown",
      "source": [
        "# Task 4: Concatenate Two Strings\n",
        "Create a function that takes two strings as arguments and returns their concatenation (joined together)."
      ],
      "metadata": {
        "id": "04n3CjvvZTBr"
      }
    },
    {
      "cell_type": "code",
      "source": [
        "# Your code is here"
      ],
      "metadata": {
        "id": "DRgqAE9LZV3b"
      },
      "execution_count": null,
      "outputs": []
    },
    {
      "cell_type": "code",
      "source": [
        "# Example usage\n",
        "result = concatenate_strings(\"Hello, \", \"world!\")\n",
        "print(result)  # Output: Hello, world!\n"
      ],
      "metadata": {
        "id": "YfJUTYmLUE9e",
        "colab": {
          "base_uri": "https://localhost:8080/"
        },
        "outputId": "d140cc6c-277a-43c3-e263-5a3f3cbd9db4"
      },
      "execution_count": null,
      "outputs": [
        {
          "output_type": "stream",
          "name": "stdout",
          "text": [
            "Hello, world!\n"
          ]
        }
      ]
    },
    {
      "cell_type": "markdown",
      "source": [
        "# Task 5: Repeat a String\n",
        "Create a function that takes a string and a number as arguments and returns the string repeated that many times."
      ],
      "metadata": {
        "id": "fu45lDBEZb4N"
      }
    },
    {
      "cell_type": "code",
      "source": [
        "# Your code is here"
      ],
      "metadata": {
        "id": "dB4fcU1AZeNS"
      },
      "execution_count": null,
      "outputs": []
    },
    {
      "cell_type": "code",
      "source": [
        "# Example usage\n",
        "result = repeat_string(\"Hello\", 3)\n",
        "print(result)  # Output: HelloHelloHello\n",
        "\n"
      ],
      "metadata": {
        "colab": {
          "base_uri": "https://localhost:8080/"
        },
        "id": "NyFw2p3wUPQb",
        "outputId": "73f66adf-eba6-49f0-d45f-64d128a3fa6e"
      },
      "execution_count": null,
      "outputs": [
        {
          "output_type": "stream",
          "name": "stdout",
          "text": [
            "HelloHelloHello\n"
          ]
        }
      ]
    },
    {
      "cell_type": "code",
      "source": [],
      "metadata": {
        "id": "6ffRWzIVZITP"
      },
      "execution_count": null,
      "outputs": []
    },
    {
      "cell_type": "markdown",
      "source": [
        "# Task 6: Get the First Character of a String\n",
        "Create a function that takes a string as an argument and returns the first character of the string."
      ],
      "metadata": {
        "id": "9nA3nMqsZI_l"
      }
    },
    {
      "cell_type": "code",
      "source": [
        "# Your code is here"
      ],
      "metadata": {
        "id": "v438vXNcZLpI"
      },
      "execution_count": null,
      "outputs": []
    },
    {
      "cell_type": "code",
      "source": [
        "# Example usage\n",
        "result = first_character(\"Python\")\n",
        "print(result)  # Output: P\n"
      ],
      "metadata": {
        "colab": {
          "base_uri": "https://localhost:8080/"
        },
        "id": "fXJUbsDmZNSg",
        "outputId": "73d7c4af-ef44-4026-dd32-4a66a5e1a3c1"
      },
      "execution_count": null,
      "outputs": [
        {
          "output_type": "stream",
          "name": "stdout",
          "text": [
            "P\n"
          ]
        }
      ]
    },
    {
      "cell_type": "markdown",
      "source": [
        "# Task 7: Get the Second Character of a String\n",
        "Create a function that takes a string as an argument and returns the second character of the string."
      ],
      "metadata": {
        "id": "DSuCyQgeZa5a"
      }
    },
    {
      "cell_type": "code",
      "source": [
        "# Your code is here"
      ],
      "metadata": {
        "id": "8RfwvtNiZdwY"
      },
      "execution_count": null,
      "outputs": []
    },
    {
      "cell_type": "code",
      "source": [
        "# Example usage\n",
        "result = second_character(\"Python\")\n",
        "print(result)  # Output: P"
      ],
      "metadata": {
        "colab": {
          "base_uri": "https://localhost:8080/"
        },
        "id": "RSVu65CIZmCE",
        "outputId": "e56e2c5b-3970-4fe7-aba7-52e24b0ac1f1"
      },
      "execution_count": null,
      "outputs": [
        {
          "output_type": "stream",
          "name": "stdout",
          "text": [
            "y\n"
          ]
        }
      ]
    },
    {
      "cell_type": "markdown",
      "source": [
        "# Task 8: Find the Length of a String\n",
        "Create a function that takes a string as an argument and returns the length of the string (how many characters it has)."
      ],
      "metadata": {
        "id": "xDXAQuVRZ8wA"
      }
    },
    {
      "cell_type": "code",
      "source": [
        "# Your code is here\n",
        "\n",
        "# Example usage\n",
        "result = string_length(\"Hello\")\n",
        "print(result)  # Output: 5\n"
      ],
      "metadata": {
        "colab": {
          "base_uri": "https://localhost:8080/"
        },
        "id": "4WoATAfkZs7Y",
        "outputId": "a74a8909-7d1e-46ce-d154-4ee4bc7dd509"
      },
      "execution_count": null,
      "outputs": [
        {
          "output_type": "stream",
          "name": "stdout",
          "text": [
            "5\n"
          ]
        }
      ]
    },
    {
      "cell_type": "markdown",
      "source": [
        "# Task 9: Convert a String to Uppercase\n",
        "Create a function that takes a string as an argument and returns the string in all uppercase letters."
      ],
      "metadata": {
        "id": "Qu-lkN03aD1T"
      }
    },
    {
      "cell_type": "code",
      "source": [
        "# Your code is here\n",
        "\n",
        "# Example usage\n",
        "result = to_uppercase(\"hello\")\n",
        "print(result)  # Output: HELLO\n"
      ],
      "metadata": {
        "colab": {
          "base_uri": "https://localhost:8080/"
        },
        "id": "hG67oF3NaGCw",
        "outputId": "2be9a840-e422-4717-b39a-3f4848d4c531"
      },
      "execution_count": null,
      "outputs": [
        {
          "output_type": "stream",
          "name": "stdout",
          "text": [
            "HELLO\n"
          ]
        }
      ]
    }
  ]
}