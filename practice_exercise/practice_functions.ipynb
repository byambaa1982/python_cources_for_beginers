{
  "nbformat": 4,
  "nbformat_minor": 0,
  "metadata": {
    "colab": {
      "provenance": [],
      "include_colab_link": true
    },
    "kernelspec": {
      "name": "python3",
      "display_name": "Python 3"
    },
    "language_info": {
      "name": "python"
    }
  },
  "cells": [
    {
      "cell_type": "markdown",
      "metadata": {
        "id": "view-in-github",
        "colab_type": "text"
      },
      "source": [
        "<a href=\"https://colab.research.google.com/github/byambaa1982/python_cources_for_beginers/blob/class_zero_enko/practice_exercise/practice_functions.ipynb\" target=\"_parent\"><img src=\"https://colab.research.google.com/assets/colab-badge.svg\" alt=\"Open In Colab\"/></a>"
      ]
    },
    {
      "cell_type": "markdown",
      "source": [
        "# Task 1: Add Two Numbers\n",
        "Create a function that takes two numbers as arguments and returns their sum."
      ],
      "metadata": {
        "id": "_PaeU0AJYcV3"
      }
    },
    {
      "cell_type": "code",
      "source": [
        "def add_numbers(a, b):\n",
        "    return a + b\n"
      ],
      "metadata": {
        "id": "-iFJNRV0YfCr"
      },
      "execution_count": 41,
      "outputs": []
    },
    {
      "cell_type": "code",
      "source": [
        "# Example usage\n",
        "result = add_numbers(10, 10)\n",
        "print(result)"
      ],
      "metadata": {
        "id": "TnrMprJ-VBX4",
        "outputId": "d07d619c-9eaa-4059-acbe-40af52df6f82",
        "colab": {
          "base_uri": "https://localhost:8080/"
        }
      },
      "execution_count": 42,
      "outputs": [
        {
          "output_type": "stream",
          "name": "stdout",
          "text": [
            "20\n"
          ]
        }
      ]
    },
    {
      "cell_type": "markdown",
      "source": [
        " # Task 2: Multiply Two Numbers\n",
        "\n",
        "Create a function that takes two numbers as arguments and returns their product."
      ],
      "metadata": {
        "id": "JtnHqhLyYtZh"
      }
    },
    {
      "cell_type": "code",
      "source": [
        "def product_numbers(a, b):\n",
        "    return a * b"
      ],
      "metadata": {
        "id": "1-anIVkNYqJy"
      },
      "execution_count": 43,
      "outputs": []
    },
    {
      "cell_type": "code",
      "source": [
        "# Your code is here\n",
        "# Example usage\n",
        "result = product_numbers(10, 30)\n",
        "print(result)"
      ],
      "metadata": {
        "id": "phJ0DyBTVVX8",
        "outputId": "9689c835-3cad-49de-f3b7-897ed58ac2aa",
        "colab": {
          "base_uri": "https://localhost:8080/"
        }
      },
      "execution_count": 44,
      "outputs": [
        {
          "output_type": "stream",
          "name": "stdout",
          "text": [
            "300\n"
          ]
        }
      ]
    },
    {
      "cell_type": "markdown",
      "source": [
        "# Task 3: Subtract Two Numbers\n",
        "Create a function that takes two numbers as arguments and returns their difference (first number minus the second number)."
      ],
      "metadata": {
        "id": "KDzRa5PlY-sN"
      }
    },
    {
      "cell_type": "code",
      "source": [
        "# Your code is here\n",
        "def subtract_numbers(a, b):\n",
        "    return a - b"
      ],
      "metadata": {
        "id": "9wwf4mjOYrZ8"
      },
      "execution_count": 45,
      "outputs": []
    },
    {
      "cell_type": "code",
      "source": [
        "# Example usage\n",
        "result = subtract_numbers(10, 5)\n",
        "print(result)  # Output: 5\n",
        "\n"
      ],
      "metadata": {
        "colab": {
          "base_uri": "https://localhost:8080/"
        },
        "id": "70WoQjPTT4nP",
        "outputId": "1afb2368-81fc-4ac2-aabe-3399043d0c0f"
      },
      "execution_count": 46,
      "outputs": [
        {
          "output_type": "stream",
          "name": "stdout",
          "text": [
            "5\n"
          ]
        }
      ]
    },
    {
      "cell_type": "markdown",
      "source": [
        "# Task 4: Concatenate Two Strings\n",
        "Create a function that takes two strings as arguments and returns their concatenation (joined together)."
      ],
      "metadata": {
        "id": "04n3CjvvZTBr"
      }
    },
    {
      "cell_type": "code",
      "source": [
        "# Your code is here\n",
        "def concatenate_strings(st1, st2):\n",
        "    return st1 + st2"
      ],
      "metadata": {
        "id": "DRgqAE9LZV3b"
      },
      "execution_count": 47,
      "outputs": []
    },
    {
      "cell_type": "code",
      "source": [
        "# Example usage\n",
        "result = concatenate_strings(\"Hello, \", \"world!\")\n",
        "print(result)  # Output: Hello, world!\n"
      ],
      "metadata": {
        "id": "YfJUTYmLUE9e",
        "colab": {
          "base_uri": "https://localhost:8080/"
        },
        "outputId": "4a75d663-5e57-4fe7-c61b-a8a0b22b4624"
      },
      "execution_count": 48,
      "outputs": [
        {
          "output_type": "stream",
          "name": "stdout",
          "text": [
            "Hello, world!\n"
          ]
        }
      ]
    },
    {
      "cell_type": "markdown",
      "source": [
        "# Task 5: Repeat a String\n",
        "Create a function that takes a string and a number as arguments and returns the string repeated that many times."
      ],
      "metadata": {
        "id": "fu45lDBEZb4N"
      }
    },
    {
      "cell_type": "code",
      "source": [
        "# Your code is here\n",
        "def repeat_string(a, b):\n",
        "  return a * b"
      ],
      "metadata": {
        "id": "dB4fcU1AZeNS"
      },
      "execution_count": 49,
      "outputs": []
    },
    {
      "cell_type": "code",
      "source": [
        "# Example usage\n",
        "result = repeat_string(\"Hello\", 3)\n",
        "print(result)  # Output: HelloHelloHello\n",
        "\n"
      ],
      "metadata": {
        "colab": {
          "base_uri": "https://localhost:8080/"
        },
        "id": "NyFw2p3wUPQb",
        "outputId": "05b57a7c-e22f-436c-b67d-df3f530da193"
      },
      "execution_count": 50,
      "outputs": [
        {
          "output_type": "stream",
          "name": "stdout",
          "text": [
            "HelloHelloHello\n"
          ]
        }
      ]
    },
    {
      "cell_type": "code",
      "source": [],
      "metadata": {
        "id": "6ffRWzIVZITP"
      },
      "execution_count": 50,
      "outputs": []
    },
    {
      "cell_type": "markdown",
      "source": [
        "# Task 6: Get the First Character of a String\n",
        "Create a function that takes a string as an argument and returns the first character of the string."
      ],
      "metadata": {
        "id": "9nA3nMqsZI_l"
      }
    },
    {
      "cell_type": "code",
      "source": [
        "# Your code is here\n",
        "def first_character(p):\n",
        "  return p[0]"
      ],
      "metadata": {
        "id": "v438vXNcZLpI"
      },
      "execution_count": 51,
      "outputs": []
    },
    {
      "cell_type": "code",
      "source": [
        "# Example usage\n",
        "result = first_character(\"Python\")\n",
        "print(result)  # Output: P\n"
      ],
      "metadata": {
        "colab": {
          "base_uri": "https://localhost:8080/"
        },
        "id": "fXJUbsDmZNSg",
        "outputId": "c12983f8-e738-43d6-cfb4-62c405cd5992"
      },
      "execution_count": 52,
      "outputs": [
        {
          "output_type": "stream",
          "name": "stdout",
          "text": [
            "P\n"
          ]
        }
      ]
    },
    {
      "cell_type": "markdown",
      "source": [
        "# Task 7: Get the Second Character of a String\n",
        "Create a function that takes a string as an argument and returns the second character of the string."
      ],
      "metadata": {
        "id": "DSuCyQgeZa5a"
      }
    },
    {
      "cell_type": "code",
      "source": [
        "# Your code is here\n",
        "def second_character(p):\n",
        "  return p[1]"
      ],
      "metadata": {
        "id": "8RfwvtNiZdwY"
      },
      "execution_count": 53,
      "outputs": []
    },
    {
      "cell_type": "code",
      "source": [
        "# Example usage\n",
        "result = second_character(\"Python\")\n",
        "print(result)  # Output: P"
      ],
      "metadata": {
        "colab": {
          "base_uri": "https://localhost:8080/"
        },
        "id": "RSVu65CIZmCE",
        "outputId": "1d7b7dfe-dbf4-4157-d5fd-defccbf7fed0"
      },
      "execution_count": 54,
      "outputs": [
        {
          "output_type": "stream",
          "name": "stdout",
          "text": [
            "y\n"
          ]
        }
      ]
    },
    {
      "cell_type": "markdown",
      "source": [
        "# Task 8: Find the Length of a String\n",
        "Create a function that takes a string as an argument and returns the length of the string (how many characters it has)."
      ],
      "metadata": {
        "id": "xDXAQuVRZ8wA"
      }
    },
    {
      "cell_type": "code",
      "source": [
        "# Your code is here\n",
        "def string_length(str):\n",
        "  return len(str)\n",
        "\n",
        "# Example usage\n",
        "result = string_length(\"Hello\")\n",
        "print(result)  # Output: 5\n"
      ],
      "metadata": {
        "colab": {
          "base_uri": "https://localhost:8080/"
        },
        "id": "4WoATAfkZs7Y",
        "outputId": "8c8fd957-eefd-4d5f-db6a-a0a3eeea069c"
      },
      "execution_count": 55,
      "outputs": [
        {
          "output_type": "stream",
          "name": "stdout",
          "text": [
            "5\n"
          ]
        }
      ]
    },
    {
      "cell_type": "markdown",
      "source": [
        "# Task 9: Convert a String to Uppercase\n",
        "Create a function that takes a string as an argument and returns the string in all uppercase letters."
      ],
      "metadata": {
        "id": "Qu-lkN03aD1T"
      }
    },
    {
      "cell_type": "code",
      "source": [
        "# Your code is here\n",
        "def to_uppercase(up):\n",
        "  return up.upper()\n",
        "\n",
        "\n",
        "# Example usage\n",
        "result = to_uppercase(\"hello\")\n",
        "print(result)  # Output: HELLO\n"
      ],
      "metadata": {
        "colab": {
          "base_uri": "https://localhost:8080/"
        },
        "id": "hG67oF3NaGCw",
        "outputId": "7fee1ce7-77e1-43fc-94cd-fc587d762adf"
      },
      "execution_count": 56,
      "outputs": [
        {
          "output_type": "stream",
          "name": "stdout",
          "text": [
            "HELLO\n"
          ]
        }
      ]
    }
  ]
}