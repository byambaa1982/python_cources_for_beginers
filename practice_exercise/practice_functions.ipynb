{
  "nbformat": 4,
  "nbformat_minor": 0,
  "metadata": {
    "colab": {
      "provenance": [],
      "include_colab_link": true
    },
    "kernelspec": {
      "name": "python3",
      "display_name": "Python 3"
    },
    "language_info": {
      "name": "python"
    }
  },
  "cells": [
    {
      "cell_type": "markdown",
      "metadata": {
        "id": "view-in-github",
        "colab_type": "text"
      },
      "source": [
        "<a href=\"https://colab.research.google.com/github/byambaa1982/python_cources_for_beginers/blob/class_zero_hannah/practice_exercise/practice_functions.ipynb\" target=\"_parent\"><img src=\"https://colab.research.google.com/assets/colab-badge.svg\" alt=\"Open In Colab\"/></a>"
      ]
    },
    {
      "cell_type": "markdown",
      "source": [
        "# Task 1: Add Two Numbers\n",
        "Create a function that takes two numbers as arguments and returns their sum."
      ],
      "metadata": {
        "id": "_PaeU0AJYcV3"
      }
    },
    {
      "cell_type": "code",
      "source": [
        "def add_numbers(a, b):\n",
        "    return a + b\n"
      ],
      "metadata": {
        "id": "-iFJNRV0YfCr"
      },
      "execution_count": 1,
      "outputs": []
    },
    {
      "cell_type": "code",
      "source": [
        "# Example usage\n",
        "result = add_numbers(5, 10)\n",
        "print(result)"
      ],
      "metadata": {
        "id": "TnrMprJ-VBX4",
        "outputId": "8ae8b4e6-c587-49b4-ab2b-55f07d4f214c",
        "colab": {
          "base_uri": "https://localhost:8080/"
        }
      },
      "execution_count": 2,
      "outputs": [
        {
          "output_type": "stream",
          "name": "stdout",
          "text": [
            "15\n"
          ]
        }
      ]
    },
    {
      "cell_type": "markdown",
      "source": [
        " # Task 2: Multiply Two Numbers\n",
        "\n",
        "Create a function that takes two numbers as arguments and returns their product."
      ],
      "metadata": {
        "id": "JtnHqhLyYtZh"
      }
    },
    {
      "cell_type": "code",
      "source": [
        "def multiply_numbers(a,b):\n",
        "    return a + b"
      ],
      "metadata": {
        "id": "1-anIVkNYqJy"
      },
      "execution_count": 3,
      "outputs": []
    },
    {
      "cell_type": "code",
      "source": [
        "# Your code is here\n",
        "result = add_numbers(25,25)\n",
        "print(result)"
      ],
      "metadata": {
        "id": "phJ0DyBTVVX8",
        "outputId": "b404fe48-a52c-466f-a2dd-55550d3ace58",
        "colab": {
          "base_uri": "https://localhost:8080/"
        }
      },
      "execution_count": 4,
      "outputs": [
        {
          "output_type": "stream",
          "name": "stdout",
          "text": [
            "50\n"
          ]
        }
      ]
    },
    {
      "cell_type": "markdown",
      "source": [
        "# Task 3: Subtract Two Numbers\n",
        "Create a function that takes two numbers as arguments and returns their difference (first number minus the second number)."
      ],
      "metadata": {
        "id": "KDzRa5PlY-sN"
      }
    },
    {
      "cell_type": "code",
      "source": [
        "def subtract_numbers(a,b):\n",
        "    return a - b\n"
      ],
      "metadata": {
        "id": "9wwf4mjOYrZ8"
      },
      "execution_count": 5,
      "outputs": []
    },
    {
      "cell_type": "code",
      "source": [
        "# Example usage\n",
        "result = subtract_numbers(10, 5)\n",
        "print(result)\n"
      ],
      "metadata": {
        "colab": {
          "base_uri": "https://localhost:8080/"
        },
        "id": "70WoQjPTT4nP",
        "outputId": "763fc80f-f26d-4878-afdd-5c7fa660c9f8"
      },
      "execution_count": 6,
      "outputs": [
        {
          "output_type": "stream",
          "name": "stdout",
          "text": [
            "5\n"
          ]
        }
      ]
    },
    {
      "cell_type": "markdown",
      "source": [
        "# Task 4: Concatenate Two Strings\n",
        "Create a function that takes two strings as arguments and returns their concatenation (joined together)."
      ],
      "metadata": {
        "id": "04n3CjvvZTBr"
      }
    },
    {
      "cell_type": "code",
      "source": [
        "def concatenate_strings(str1,str2):\n",
        "    return str1 + str2"
      ],
      "metadata": {
        "id": "DRgqAE9LZV3b"
      },
      "execution_count": 8,
      "outputs": []
    },
    {
      "cell_type": "code",
      "source": [
        "# Example usage\n",
        "result = concatenate_strings(\"Hello, \", \"world!\")\n",
        "print(result)  # Output: Hello, world!\n"
      ],
      "metadata": {
        "id": "YfJUTYmLUE9e",
        "colab": {
          "base_uri": "https://localhost:8080/"
        },
        "outputId": "0dc92e98-bfdb-40fa-f68c-4cdf9241d412"
      },
      "execution_count": 9,
      "outputs": [
        {
          "output_type": "stream",
          "name": "stdout",
          "text": [
            "Hello, world!\n"
          ]
        }
      ]
    },
    {
      "cell_type": "markdown",
      "source": [
        "# Task 5: Repeat a String\n",
        "Create a function that takes a string and a number as arguments and returns the string repeated that many times."
      ],
      "metadata": {
        "id": "fu45lDBEZb4N"
      }
    },
    {
      "cell_type": "code",
      "source": [
        "def repeat_string(w,l):\n",
        "    return w * l\n"
      ],
      "metadata": {
        "id": "dB4fcU1AZeNS"
      },
      "execution_count": 10,
      "outputs": []
    },
    {
      "cell_type": "code",
      "source": [
        "# Example usage\n",
        "result = repeat_string(\"Hello\", 3)\n",
        "print(result)  # Output: HelloHelloHello\n",
        "\n"
      ],
      "metadata": {
        "colab": {
          "base_uri": "https://localhost:8080/"
        },
        "id": "NyFw2p3wUPQb",
        "outputId": "f346211c-e5f2-4f83-95c4-002aa1188ffe"
      },
      "execution_count": 11,
      "outputs": [
        {
          "output_type": "stream",
          "name": "stdout",
          "text": [
            "HelloHelloHello\n"
          ]
        }
      ]
    },
    {
      "cell_type": "code",
      "source": [],
      "metadata": {
        "id": "6ffRWzIVZITP"
      },
      "execution_count": null,
      "outputs": []
    },
    {
      "cell_type": "markdown",
      "source": [
        "# Task 6: Get the First Character of a String\n",
        "Create a function that takes a string as an argument and returns the first character of the string."
      ],
      "metadata": {
        "id": "9nA3nMqsZI_l"
      }
    },
    {
      "cell_type": "code",
      "source": [
        "# Your code is here\n",
        "def first_character(s):\n",
        "    return s[0]"
      ],
      "metadata": {
        "id": "v438vXNcZLpI"
      },
      "execution_count": 12,
      "outputs": []
    },
    {
      "cell_type": "code",
      "source": [
        "# Example usage\n",
        "result = first_character(\"Python\")\n",
        "print(result)  # Output: P\n"
      ],
      "metadata": {
        "colab": {
          "base_uri": "https://localhost:8080/"
        },
        "id": "fXJUbsDmZNSg",
        "outputId": "0fb394bd-b52c-4da0-dbde-95529dd481e7"
      },
      "execution_count": 13,
      "outputs": [
        {
          "output_type": "stream",
          "name": "stdout",
          "text": [
            "P\n"
          ]
        }
      ]
    },
    {
      "cell_type": "markdown",
      "source": [
        "# Task 7: Get the Second Character of a String\n",
        "Create a function that takes a string as an argument and returns the second character of the string."
      ],
      "metadata": {
        "id": "DSuCyQgeZa5a"
      }
    },
    {
      "cell_type": "code",
      "source": [
        "# Your code is here"
      ],
      "metadata": {
        "id": "8RfwvtNiZdwY"
      },
      "execution_count": null,
      "outputs": []
    },
    {
      "cell_type": "code",
      "source": [
        "# Example usage\n",
        "result = second_character(\"Python\")\n",
        "print(result)  # Output: P"
      ],
      "metadata": {
        "colab": {
          "base_uri": "https://localhost:8080/"
        },
        "id": "RSVu65CIZmCE",
        "outputId": "e56e2c5b-3970-4fe7-aba7-52e24b0ac1f1"
      },
      "execution_count": null,
      "outputs": [
        {
          "output_type": "stream",
          "name": "stdout",
          "text": [
            "y\n"
          ]
        }
      ]
    },
    {
      "cell_type": "markdown",
      "source": [
        "# Task 8: Find the Length of a String\n",
        "Create a function that takes a string as an argument and returns the length of the string (how many characters it has)."
      ],
      "metadata": {
        "id": "xDXAQuVRZ8wA"
      }
    },
    {
      "cell_type": "code",
      "source": [
        "# Your code is here\n",
        "\n",
        "# Example usage\n",
        "result = string_length(\"Hello\")\n",
        "print(result)  # Output: 5\n"
      ],
      "metadata": {
        "colab": {
          "base_uri": "https://localhost:8080/"
        },
        "id": "4WoATAfkZs7Y",
        "outputId": "a74a8909-7d1e-46ce-d154-4ee4bc7dd509"
      },
      "execution_count": null,
      "outputs": [
        {
          "output_type": "stream",
          "name": "stdout",
          "text": [
            "5\n"
          ]
        }
      ]
    },
    {
      "cell_type": "markdown",
      "source": [
        "# Task 9: Convert a String to Uppercase\n",
        "Create a function that takes a string as an argument and returns the string in all uppercase letters."
      ],
      "metadata": {
        "id": "Qu-lkN03aD1T"
      }
    },
    {
      "cell_type": "code",
      "source": [
        "# Your code is here\n",
        "\n",
        "# Example usage\n",
        "result = to_uppercase(\"hello\")\n",
        "print(result)  # Output: HELLO\n"
      ],
      "metadata": {
        "colab": {
          "base_uri": "https://localhost:8080/"
        },
        "id": "hG67oF3NaGCw",
        "outputId": "2be9a840-e422-4717-b39a-3f4848d4c531"
      },
      "execution_count": null,
      "outputs": [
        {
          "output_type": "stream",
          "name": "stdout",
          "text": [
            "HELLO\n"
          ]
        }
      ]
    }
  ]
}