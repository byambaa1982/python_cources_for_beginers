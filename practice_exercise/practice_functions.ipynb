{
  "nbformat": 4,
  "nbformat_minor": 0,
  "metadata": {
    "colab": {
      "provenance": [],
      "include_colab_link": true
    },
    "kernelspec": {
      "name": "python3",
      "display_name": "Python 3"
    },
    "language_info": {
      "name": "python"
    }
  },
  "cells": [
    {
      "cell_type": "markdown",
      "metadata": {
        "id": "view-in-github",
        "colab_type": "text"
      },
      "source": [
        "<a href=\"https://colab.research.google.com/github/byambaa1982/python_cources_for_beginers/blob/class_zero_hannah/practice_exercise/practice_functions.ipynb\" target=\"_parent\"><img src=\"https://colab.research.google.com/assets/colab-badge.svg\" alt=\"Open In Colab\"/></a>"
      ]
    },
    {
      "cell_type": "markdown",
      "source": [
        "# Task 1: Add Two Numbers\n",
        "Create a function that takes two numbers as arguments and returns their sum."
      ],
      "metadata": {
        "id": "_PaeU0AJYcV3"
      }
    },
    {
      "cell_type": "code",
      "source": [
        "def add_numbers(a, b):\n",
        "    return a + b\n"
      ],
      "metadata": {
        "id": "-iFJNRV0YfCr"
      },
      "execution_count": 1,
      "outputs": []
    },
    {
      "cell_type": "code",
      "source": [
        "# Example usage\n",
        "result = add_numbers(5, 10)\n",
        "print(result)"
      ],
      "metadata": {
        "id": "TnrMprJ-VBX4",
        "outputId": "905fa5f2-aa4e-45cc-c6cd-f1e176558b17",
        "colab": {
          "base_uri": "https://localhost:8080/"
        }
      },
      "execution_count": 2,
      "outputs": [
        {
          "output_type": "stream",
          "name": "stdout",
          "text": [
            "15\n"
          ]
        }
      ]
    },
    {
      "cell_type": "markdown",
      "source": [
        " # Task 2: Multiply Two Numbers\n",
        "\n",
        "Create a function that takes two numbers as arguments and returns their product."
      ],
      "metadata": {
        "id": "JtnHqhLyYtZh"
      }
    },
    {
      "cell_type": "code",
      "source": [
        "def multiply_numbers(a,b):\n",
        "    return a + b"
      ],
      "metadata": {
        "id": "1-anIVkNYqJy"
      },
      "execution_count": 3,
      "outputs": []
    },
    {
      "cell_type": "code",
      "source": [
        "# Your code is here\n",
        "result = add_numbers(25,25)\n",
        "print(result)"
      ],
      "metadata": {
        "id": "phJ0DyBTVVX8",
        "outputId": "669d8f8c-e124-42a2-8efa-5cfe8f0470eb",
        "colab": {
          "base_uri": "https://localhost:8080/"
        }
      },
      "execution_count": 4,
      "outputs": [
        {
          "output_type": "stream",
          "name": "stdout",
          "text": [
            "50\n"
          ]
        }
      ]
    },
    {
      "cell_type": "markdown",
      "source": [
        "# Task 3: Subtract Two Numbers\n",
        "Create a function that takes two numbers as arguments and returns their difference (first number minus the second number)."
      ],
      "metadata": {
        "id": "KDzRa5PlY-sN"
      }
    },
    {
      "cell_type": "code",
      "source": [
        "def subtract_numbers(a,b):\n",
        "    return a - b\n"
      ],
      "metadata": {
        "id": "9wwf4mjOYrZ8"
      },
      "execution_count": 5,
      "outputs": []
    },
    {
      "cell_type": "code",
      "source": [
        "# Example usage\n",
        "result = subtract_numbers(10, 5)\n",
        "print(result)\n"
      ],
      "metadata": {
        "colab": {
          "base_uri": "https://localhost:8080/"
        },
        "id": "70WoQjPTT4nP",
        "outputId": "de6d8ea2-dfda-4fee-c5b2-be9d581e06c0"
      },
      "execution_count": 6,
      "outputs": [
        {
          "output_type": "stream",
          "name": "stdout",
          "text": [
            "5\n"
          ]
        }
      ]
    },
    {
      "cell_type": "markdown",
      "source": [
        "# Task 4: Concatenate Two Strings\n",
        "Create a function that takes two strings as arguments and returns their concatenation (joined together)."
      ],
      "metadata": {
        "id": "04n3CjvvZTBr"
      }
    },
    {
      "cell_type": "code",
      "source": [
        "def concatenate_strings(str1,str2):\n",
        "    return str1 + str2"
      ],
      "metadata": {
        "id": "DRgqAE9LZV3b"
      },
      "execution_count": 7,
      "outputs": []
    },
    {
      "cell_type": "code",
      "source": [
        "# Example usage\n",
        "result = concatenate_strings(\"Hello, \", \"world!\")\n",
        "print(result)  # Output: Hello, world!\n"
      ],
      "metadata": {
        "id": "YfJUTYmLUE9e",
        "colab": {
          "base_uri": "https://localhost:8080/"
        },
        "outputId": "3c49f8a5-a437-4fcc-ff68-bc183150067f"
      },
      "execution_count": 8,
      "outputs": [
        {
          "output_type": "stream",
          "name": "stdout",
          "text": [
            "Hello, world!\n"
          ]
        }
      ]
    },
    {
      "cell_type": "markdown",
      "source": [
        "# Task 5: Repeat a String\n",
        "Create a function that takes a string and a number as arguments and returns the string repeated that many times."
      ],
      "metadata": {
        "id": "fu45lDBEZb4N"
      }
    },
    {
      "cell_type": "code",
      "source": [
        "def repeat_string(w,l):\n",
        "    return w * l\n"
      ],
      "metadata": {
        "id": "dB4fcU1AZeNS"
      },
      "execution_count": 9,
      "outputs": []
    },
    {
      "cell_type": "code",
      "source": [
        "# Example usage\n",
        "result = repeat_string(\"Hello\", 3)\n",
        "print(result)  # Output: HelloHelloHello\n",
        "\n"
      ],
      "metadata": {
        "colab": {
          "base_uri": "https://localhost:8080/"
        },
        "id": "NyFw2p3wUPQb",
        "outputId": "656f89f1-12e1-40f2-ecbf-539efd86ba49"
      },
      "execution_count": 10,
      "outputs": [
        {
          "output_type": "stream",
          "name": "stdout",
          "text": [
            "HelloHelloHello\n"
          ]
        }
      ]
    },
    {
      "cell_type": "code",
      "source": [],
      "metadata": {
        "id": "6ffRWzIVZITP"
      },
      "execution_count": 10,
      "outputs": []
    },
    {
      "cell_type": "markdown",
      "source": [
        "# Task 6: Get the First Character of a String\n",
        "Create a function that takes a string as an argument and returns the first character of the string."
      ],
      "metadata": {
        "id": "9nA3nMqsZI_l"
      }
    },
    {
      "cell_type": "code",
      "source": [
        "# Your code is here\n",
        "def first_character(s):\n",
        "    return s[0]"
      ],
      "metadata": {
        "id": "v438vXNcZLpI"
      },
      "execution_count": 11,
      "outputs": []
    },
    {
      "cell_type": "code",
      "source": [
        "# Example usage\n",
        "result = first_character(\"Python\")\n",
        "print(result)\n"
      ],
      "metadata": {
        "colab": {
          "base_uri": "https://localhost:8080/"
        },
        "id": "fXJUbsDmZNSg",
        "outputId": "541ad2e9-fd68-40fa-93f1-e88488221ec1"
      },
      "execution_count": 12,
      "outputs": [
        {
          "output_type": "stream",
          "name": "stdout",
          "text": [
            "P\n"
          ]
        }
      ]
    },
    {
      "cell_type": "markdown",
      "source": [
        "# Task 7: Get the Second Character of a String\n",
        "Create a function that takes a string as an argument and returns the second character of the string."
      ],
      "metadata": {
        "id": "DSuCyQgeZa5a"
      }
    },
    {
      "cell_type": "code",
      "source": [
        "# Your code is here\n",
        "def second_character(s):\n",
        "    return s[1]"
      ],
      "metadata": {
        "id": "8RfwvtNiZdwY"
      },
      "execution_count": 19,
      "outputs": []
    },
    {
      "cell_type": "code",
      "source": [
        "result = second_character(\"Python\")\n",
        "print(result)"
      ],
      "metadata": {
        "colab": {
          "base_uri": "https://localhost:8080/"
        },
        "id": "RSVu65CIZmCE",
        "outputId": "f46ef528-805c-4b94-e1cd-040bfc4ebe0e"
      },
      "execution_count": 20,
      "outputs": [
        {
          "output_type": "stream",
          "name": "stdout",
          "text": [
            "y\n"
          ]
        }
      ]
    },
    {
      "cell_type": "markdown",
      "source": [
        "# Task 8: Find the Length of a String\n",
        "Create a function that takes a string as an argument and returns the length of the string (how many characters it has)."
      ],
      "metadata": {
        "id": "xDXAQuVRZ8wA"
      }
    },
    {
      "cell_type": "code",
      "source": [
        "# Your code is here\n",
        "def string_length(s):\n",
        "    return len(s)\n",
        "\n",
        "# Example usage\n",
        "result = string_length(\"Hello\")\n",
        "print(result)  # Output: 5\n"
      ],
      "metadata": {
        "colab": {
          "base_uri": "https://localhost:8080/"
        },
        "id": "4WoATAfkZs7Y",
        "outputId": "e100f719-1830-470f-abcb-8084822f08bb"
      },
      "execution_count": 21,
      "outputs": [
        {
          "output_type": "stream",
          "name": "stdout",
          "text": [
            "5\n"
          ]
        }
      ]
    },
    {
      "cell_type": "markdown",
      "source": [
        "# Task 9: Convert a String to Uppercase\n",
        "Create a function that takes a string as an argument and returns the string in all uppercase letters."
      ],
      "metadata": {
        "id": "Qu-lkN03aD1T"
      }
    },
    {
      "cell_type": "code",
      "source": [
        "# Your code is here\n",
        "def to_uppercase(s):\n",
        "    return s.upper()\n",
        "\n",
        "# Example usage\n",
        "result = to_uppercase(\"hello\")\n",
        "print(result)  # Output: HELLO\n"
      ],
      "metadata": {
        "colab": {
          "base_uri": "https://localhost:8080/"
        },
        "id": "hG67oF3NaGCw",
        "outputId": "8f95aa25-0da8-4d61-e448-96e0513e8514"
      },
      "execution_count": 22,
      "outputs": [
        {
          "output_type": "stream",
          "name": "stdout",
          "text": [
            "HELLO\n"
          ]
        }
      ]
    }
  ]
}