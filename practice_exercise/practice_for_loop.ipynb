{
  "nbformat": 4,
  "nbformat_minor": 0,
  "metadata": {
    "colab": {
      "provenance": [],
      "include_colab_link": true
    },
    "kernelspec": {
      "name": "python3",
      "display_name": "Python 3"
    },
    "language_info": {
      "name": "python"
    }
  },
  "cells": [
    {
      "cell_type": "markdown",
      "metadata": {
        "id": "view-in-github",
        "colab_type": "text"
      },
      "source": [
        "<a href=\"https://colab.research.google.com/github/byambaa1982/python_cources_for_beginers/blob/class_zero_hannah/practice_exercise/practice_for_loop.ipynb\" target=\"_parent\"><img src=\"https://colab.research.google.com/assets/colab-badge.svg\" alt=\"Open In Colab\"/></a>"
      ]
    },
    {
      "cell_type": "code",
      "source": [
        "animals = ['cat', 'dog', 'rabbit', 'elephant', 'tiger']\n",
        "for animal in animals:\n",
        "    print(animal)\n"
      ],
      "metadata": {
        "colab": {
          "base_uri": "https://localhost:8080/"
        },
        "id": "iCLvyna3ZMfZ",
        "outputId": "87750cbf-b0c9-434e-a350-ebc45299779f"
      },
      "execution_count": 18,
      "outputs": [
        {
          "output_type": "stream",
          "name": "stdout",
          "text": [
            "cat\n",
            "dog\n",
            "rabbit\n",
            "elephant\n",
            "tiger\n"
          ]
        }
      ]
    },
    {
      "cell_type": "markdown",
      "source": [
        "# Double the Numbers\n",
        "Create a list of numbers and use a for loop to double each number, printing the result."
      ],
      "metadata": {
        "id": "_PaeU0AJYcV3"
      }
    },
    {
      "cell_type": "code",
      "source": [
        "numbers = [2, 4, 6, 8, 10]\n",
        "for num in numbers:\n",
        "    print(num * 2)"
      ],
      "metadata": {
        "colab": {
          "base_uri": "https://localhost:8080/"
        },
        "id": "-iFJNRV0YfCr",
        "outputId": "89ca3ba2-c65d-4a2c-b5fb-ee5b6d878ed9"
      },
      "execution_count": 19,
      "outputs": [
        {
          "output_type": "stream",
          "name": "stdout",
          "text": [
            "4\n",
            "8\n",
            "12\n",
            "16\n",
            "20\n"
          ]
        }
      ]
    },
    {
      "cell_type": "markdown",
      "source": [
        " # Student Grades\n",
        "Given a dictionary of students and their grades, use a for loop to print each student’s name and their grade."
      ],
      "metadata": {
        "id": "JtnHqhLyYtZh"
      }
    },
    {
      "cell_type": "code",
      "source": [
        "grades = {'Alice': 85, 'Bob': 78, 'Charlie': 92, 'Daisy': 88}\n",
        "for student, grade in grades.items():\n",
        "    print(f\"{student}: {grade}\")"
      ],
      "metadata": {
        "colab": {
          "base_uri": "https://localhost:8080/"
        },
        "id": "1-anIVkNYqJy",
        "outputId": "6d865190-28b8-4d56-b805-867b4eaca60f"
      },
      "execution_count": 20,
      "outputs": [
        {
          "output_type": "stream",
          "name": "stdout",
          "text": [
            "Alice: 85\n",
            "Bob: 78\n",
            "Charlie: 92\n",
            "Daisy: 88\n"
          ]
        }
      ]
    },
    {
      "cell_type": "markdown",
      "source": [
        "# Task 1: Fruits in Uppercase\n",
        "Given a list of fruits, use a for loop to print each fruit in uppercase."
      ],
      "metadata": {
        "id": "KDzRa5PlY-sN"
      }
    },
    {
      "cell_type": "code",
      "source": [
        "Fruits = ['apple', 'banana', 'cherry', 'date']\n",
        "# your code\n",
        "for apple, Fruits in Fruits.items():\n",
        "  print(f\"{apple}: {Fruits}\")\n"
      ],
      "metadata": {
        "colab": {
          "base_uri": "https://localhost:8080/",
          "height": 199
        },
        "id": "9wwf4mjOYrZ8",
        "outputId": "3a3c31d3-d11f-4abb-da3a-4104bd3ca667"
      },
      "execution_count": 26,
      "outputs": [
        {
          "output_type": "error",
          "ename": "AttributeError",
          "evalue": "'list' object has no attribute 'items'",
          "traceback": [
            "\u001b[0;31m---------------------------------------------------------------------------\u001b[0m",
            "\u001b[0;31mAttributeError\u001b[0m                            Traceback (most recent call last)",
            "\u001b[0;32m<ipython-input-26-a0f0b132a9b1>\u001b[0m in \u001b[0;36m<cell line: 3>\u001b[0;34m()\u001b[0m\n\u001b[1;32m      1\u001b[0m \u001b[0mFruits\u001b[0m \u001b[0;34m=\u001b[0m \u001b[0;34m[\u001b[0m\u001b[0;34m'apple'\u001b[0m\u001b[0;34m,\u001b[0m \u001b[0;34m'banana'\u001b[0m\u001b[0;34m,\u001b[0m \u001b[0;34m'cherry'\u001b[0m\u001b[0;34m,\u001b[0m \u001b[0;34m'date'\u001b[0m\u001b[0;34m]\u001b[0m\u001b[0;34m\u001b[0m\u001b[0;34m\u001b[0m\u001b[0m\n\u001b[1;32m      2\u001b[0m \u001b[0;31m# your code\u001b[0m\u001b[0;34m\u001b[0m\u001b[0;34m\u001b[0m\u001b[0m\n\u001b[0;32m----> 3\u001b[0;31m \u001b[0;32mfor\u001b[0m \u001b[0mapple\u001b[0m\u001b[0;34m,\u001b[0m \u001b[0mFruits\u001b[0m \u001b[0;32min\u001b[0m \u001b[0mFruits\u001b[0m\u001b[0;34m.\u001b[0m\u001b[0mitems\u001b[0m\u001b[0;34m(\u001b[0m\u001b[0;34m)\u001b[0m\u001b[0;34m:\u001b[0m\u001b[0;34m\u001b[0m\u001b[0;34m\u001b[0m\u001b[0m\n\u001b[0m\u001b[1;32m      4\u001b[0m   \u001b[0mprint\u001b[0m\u001b[0;34m(\u001b[0m\u001b[0;34mf\"{apple}: {Fruits}\"\u001b[0m\u001b[0;34m)\u001b[0m\u001b[0;34m\u001b[0m\u001b[0;34m\u001b[0m\u001b[0m\n",
            "\u001b[0;31mAttributeError\u001b[0m: 'list' object has no attribute 'items'"
          ]
        }
      ]
    },
    {
      "cell_type": "code",
      "source": [
        "the oru"
      ],
      "metadata": {
        "id": "j9DQU3dXmCR3"
      },
      "execution_count": null,
      "outputs": []
    },
    {
      "cell_type": "code",
      "source": [],
      "metadata": {
        "id": "CpHW8zxdmB_i"
      },
      "execution_count": null,
      "outputs": []
    },
    {
      "cell_type": "markdown",
      "source": [
        "# Task 2: Counting Letters\n",
        "Create a list of words, and use a for loop to print the word and the number of letters in each word."
      ],
      "metadata": {
        "id": "04n3CjvvZTBr"
      }
    },
    {
      "cell_type": "code",
      "source": [
        "words = ['python', 'loop', 'kids', 'practice']\n",
        "# Your code\n"
      ],
      "metadata": {
        "colab": {
          "base_uri": "https://localhost:8080/"
        },
        "id": "DRgqAE9LZV3b",
        "outputId": "712daa5a-ae83-4bca-f6e4-67671ca9f927"
      },
      "execution_count": null,
      "outputs": [
        {
          "output_type": "stream",
          "name": "stdout",
          "text": [
            "python: 6 letters\n",
            "loop: 4 letters\n",
            "kids: 4 letters\n",
            "practice: 8 letters\n"
          ]
        }
      ]
    },
    {
      "cell_type": "markdown",
      "source": [
        "# Task 3: Square of Numbers\n",
        "Given a list of numbers, use a for loop to print the square of each number."
      ],
      "metadata": {
        "id": "fu45lDBEZb4N"
      }
    },
    {
      "cell_type": "code",
      "source": [
        "numbers = [1, 3, 5, 7, 9]\n",
        "# your code\n"
      ],
      "metadata": {
        "colab": {
          "base_uri": "https://localhost:8080/"
        },
        "id": "dB4fcU1AZeNS",
        "outputId": "08fd6eaf-feb5-41ef-df39-2b86fb29fc6d"
      },
      "execution_count": null,
      "outputs": [
        {
          "output_type": "stream",
          "name": "stdout",
          "text": [
            "1\n",
            "9\n",
            "25\n",
            "49\n",
            "81\n"
          ]
        }
      ]
    },
    {
      "cell_type": "markdown",
      "source": [
        "# Task 4: Favorite Colors\n",
        "Given a dictionary of people and their favorite colors, use a for loop to print each person’s name and their favorite color."
      ],
      "metadata": {
        "id": "n7XVubweZkUx"
      }
    },
    {
      "cell_type": "code",
      "source": [
        "favorite_colors = {'John': 'blue', 'Sarah': 'green', 'Mike': 'red', 'Emma': 'yellow'}\n",
        "# your code\n"
      ],
      "metadata": {
        "colab": {
          "base_uri": "https://localhost:8080/"
        },
        "id": "vZkPZuKvZjxG",
        "outputId": "d44fd3d4-dd60-48d6-d80e-10f3103c9a8c"
      },
      "execution_count": null,
      "outputs": [
        {
          "output_type": "stream",
          "name": "stdout",
          "text": [
            "John's favorite color is blue\n",
            "Sarah's favorite color is green\n",
            "Mike's favorite color is red\n",
            "Emma's favorite color is yellow\n"
          ]
        }
      ]
    },
    {
      "cell_type": "markdown",
      "source": [
        "# Task 5: Even or Odd Numbers\n",
        "Given a list of numbers, use a for loop to check if each number is even or odd and print the result."
      ],
      "metadata": {
        "id": "xF_H05gWZ5OP"
      }
    },
    {
      "cell_type": "code",
      "source": [
        "numbers = [10, 15, 22, 33, 42]\n",
        "for num in numbers:\n",
        "    if num % 2 == 0:\n",
        "# Finish the code\n"
      ],
      "metadata": {
        "colab": {
          "base_uri": "https://localhost:8080/"
        },
        "id": "LGMRsNFBZo0b",
        "outputId": "603c7ed7-3827-4679-aaf1-1183a5f8a4c4"
      },
      "execution_count": null,
      "outputs": [
        {
          "output_type": "stream",
          "name": "stdout",
          "text": [
            "10 is even\n",
            "15 is odd\n",
            "22 is even\n",
            "33 is odd\n",
            "42 is even\n"
          ]
        }
      ]
    },
    {
      "cell_type": "markdown",
      "source": [
        "# Task 6: Passing or Failing Grades\n",
        "\n",
        "Given a dictionary of students and their grades, use a for loop to check if each student passed or failed. Assume the passing grade is 60 or above."
      ],
      "metadata": {
        "id": "vagyYZ8NaCAo"
      }
    },
    {
      "cell_type": "code",
      "source": [
        "grades = {'Alice': 85, 'Bob': 55, 'Charlie': 92, 'Daisy': 45}\n",
        "# your code\n",
        "\n"
      ],
      "metadata": {
        "colab": {
          "base_uri": "https://localhost:8080/"
        },
        "id": "Q8WE4p2waBdf",
        "outputId": "32e8615a-0d26-4e98-e417-d341a0f3afee"
      },
      "execution_count": null,
      "outputs": [
        {
          "output_type": "stream",
          "name": "stdout",
          "text": [
            "Alice passed with a grade of 85\n",
            "Bob failed with a grade of 55\n",
            "Charlie passed with a grade of 92\n",
            "Daisy failed with a grade of 45\n"
          ]
        }
      ]
    },
    {
      "cell_type": "code",
      "source": [],
      "metadata": {
        "id": "nm2l230laIub"
      },
      "execution_count": null,
      "outputs": []
    }
  ]
}