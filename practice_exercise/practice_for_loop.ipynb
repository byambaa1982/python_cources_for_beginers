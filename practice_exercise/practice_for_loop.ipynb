{
  "nbformat": 4,
  "nbformat_minor": 0,
  "metadata": {
    "colab": {
      "provenance": [],
      "include_colab_link": true
    },
    "kernelspec": {
      "name": "python3",
      "display_name": "Python 3"
    },
    "language_info": {
      "name": "python"
    }
  },
  "cells": [
    {
      "cell_type": "markdown",
      "metadata": {
        "id": "view-in-github",
        "colab_type": "text"
      },
      "source": [
        "<a href=\"https://colab.research.google.com/github/byambaa1982/python_cources_for_beginers/blob/class_zero_enko/practice_exercise/practice_for_loop.ipynb\" target=\"_parent\"><img src=\"https://colab.research.google.com/assets/colab-badge.svg\" alt=\"Open In Colab\"/></a>"
      ]
    },
    {
      "cell_type": "code",
      "source": [
        "animals = ['cat', 'dog', 'rabbit', 'elephant', 'tiger']\n",
        "for animal in animals:\n",
        "    print(animal)\n"
      ],
      "metadata": {
        "colab": {
          "base_uri": "https://localhost:8080/"
        },
        "id": "iCLvyna3ZMfZ",
        "outputId": "d05fc477-c7f5-4f54-ffbc-14019c5c6e55"
      },
      "execution_count": 1,
      "outputs": [
        {
          "output_type": "stream",
          "name": "stdout",
          "text": [
            "cat\n",
            "dog\n",
            "rabbit\n",
            "elephant\n",
            "tiger\n"
          ]
        }
      ]
    },
    {
      "cell_type": "markdown",
      "source": [
        "# Double the Numbers\n",
        "Create a list of numbers and use a for loop to double each number, printing the result."
      ],
      "metadata": {
        "id": "_PaeU0AJYcV3"
      }
    },
    {
      "cell_type": "code",
      "source": [
        "numbers = [2, 4, 6, 8, 10]\n",
        "for num in numbers:\n",
        "    print(num * 2)"
      ],
      "metadata": {
        "colab": {
          "base_uri": "https://localhost:8080/"
        },
        "id": "-iFJNRV0YfCr",
        "outputId": "78042d77-c254-42b3-c30c-205e953056e8"
      },
      "execution_count": 2,
      "outputs": [
        {
          "output_type": "stream",
          "name": "stdout",
          "text": [
            "4\n",
            "8\n",
            "12\n",
            "16\n",
            "20\n"
          ]
        }
      ]
    },
    {
      "cell_type": "markdown",
      "source": [
        " # Student Grades\n",
        "Given a dictionary of students and their grades, use a for loop to print each student’s name and their grade."
      ],
      "metadata": {
        "id": "JtnHqhLyYtZh"
      }
    },
    {
      "cell_type": "code",
      "source": [
        "grades = {'Alice': 85, 'Bob': 78, 'Charlie': 92, 'Daisy': 88}\n",
        "for student, grade in grades.items():\n",
        "    print(f\"{student}: {grade}\")"
      ],
      "metadata": {
        "colab": {
          "base_uri": "https://localhost:8080/"
        },
        "id": "1-anIVkNYqJy",
        "outputId": "c7da76bd-9a57-4df7-c8de-2f2ab0e154ce"
      },
      "execution_count": 3,
      "outputs": [
        {
          "output_type": "stream",
          "name": "stdout",
          "text": [
            "Alice: 85\n",
            "Bob: 78\n",
            "Charlie: 92\n",
            "Daisy: 88\n"
          ]
        }
      ]
    },
    {
      "cell_type": "markdown",
      "source": [
        "# Task 1: Fruits in Uppercase\n",
        "Given a list of fruits, use a for loop to print each fruit in uppercase."
      ],
      "metadata": {
        "id": "KDzRa5PlY-sN"
      }
    },
    {
      "cell_type": "code",
      "source": [
        "fruits = ['apple', 'banana', 'orange', 'grape']\n",
        "# your code\n",
        "for fruit in fruits:\n",
        "    print(fruit.upper())"
      ],
      "metadata": {
        "colab": {
          "base_uri": "https://localhost:8080/"
        },
        "id": "9wwf4mjOYrZ8",
        "outputId": "58be18c7-2ded-4a03-d7d1-87caed1382f6"
      },
      "execution_count": 16,
      "outputs": [
        {
          "output_type": "stream",
          "name": "stdout",
          "text": [
            "APPLE\n",
            "BANANA\n",
            "ORANGE\n",
            "GRAPE\n"
          ]
        }
      ]
    },
    {
      "cell_type": "markdown",
      "source": [
        "# Task 2: Counting Letters\n",
        "Create a list of words, and use a for loop to print the word and the number of letters in each word."
      ],
      "metadata": {
        "id": "04n3CjvvZTBr"
      }
    },
    {
      "cell_type": "code",
      "source": [
        "words = ['python', 'loop', 'kids', 'practice']\n",
        "# Your code\n",
        "for word in words:\n",
        "    print(f\"{word}: {len(word)} letters\")\n"
      ],
      "metadata": {
        "colab": {
          "base_uri": "https://localhost:8080/"
        },
        "id": "DRgqAE9LZV3b",
        "outputId": "bc3fb6e8-2b48-455f-e2b5-eab2e38e2e11"
      },
      "execution_count": 15,
      "outputs": [
        {
          "output_type": "stream",
          "name": "stdout",
          "text": [
            "python: 6 letters\n",
            "loop: 4 letters\n",
            "kids: 4 letters\n",
            "practice: 8 letters\n"
          ]
        }
      ]
    },
    {
      "cell_type": "markdown",
      "source": [
        "# Task 3: Square of Numbers\n",
        "Given a list of numbers, use a for loop to print the square of each number."
      ],
      "metadata": {
        "id": "fu45lDBEZb4N"
      }
    },
    {
      "cell_type": "code",
      "source": [
        "numbers = [1, 3, 5, 7, 9]\n",
        "# your code\n",
        "for num in numbers:\n",
        "    print(num ** 2)"
      ],
      "metadata": {
        "colab": {
          "base_uri": "https://localhost:8080/"
        },
        "id": "dB4fcU1AZeNS",
        "outputId": "75642295-e724-4af6-d145-f4c9a39674b7"
      },
      "execution_count": 14,
      "outputs": [
        {
          "output_type": "stream",
          "name": "stdout",
          "text": [
            "1\n",
            "9\n",
            "25\n",
            "49\n",
            "81\n"
          ]
        }
      ]
    },
    {
      "cell_type": "markdown",
      "source": [
        "# Task 4: Favorite Colors\n",
        "Given a dictionary of people and their favorite colors, use a for loop to print each person’s name and their favorite color."
      ],
      "metadata": {
        "id": "n7XVubweZkUx"
      }
    },
    {
      "cell_type": "code",
      "source": [
        "favorite_colors = {'John': 'blue', 'Sarah': 'green', 'Mike': 'red', 'Emma': 'yellow'}\n",
        "# your code\n",
        "for person, color in favorite_colors.items():\n",
        "    print(f\"{person}'s favorite color is {color}\")\n"
      ],
      "metadata": {
        "colab": {
          "base_uri": "https://localhost:8080/"
        },
        "id": "vZkPZuKvZjxG",
        "outputId": "21676825-3c4c-4315-a755-16d5a39a2613"
      },
      "execution_count": 17,
      "outputs": [
        {
          "output_type": "stream",
          "name": "stdout",
          "text": [
            "John's favorite color is blue\n",
            "Sarah's favorite color is green\n",
            "Mike's favorite color is red\n",
            "Emma's favorite color is yellow\n"
          ]
        }
      ]
    },
    {
      "cell_type": "markdown",
      "source": [
        "# Task 5: Even or Odd Numbers\n",
        "Given a list of numbers, use a for loop to check if each number is even or odd and print the result."
      ],
      "metadata": {
        "id": "xF_H05gWZ5OP"
      }
    },
    {
      "cell_type": "code",
      "source": [
        "numbers = [10, 15, 22, 33, 42]\n",
        "for num in numbers:\n",
        "    if num % 2 == 0:\n",
        "# Finish the code\n",
        "      print(f\"{num} is even\")\n",
        "else:\n",
        "      print(f\"{num} is odd\")"
      ],
      "metadata": {
        "colab": {
          "base_uri": "https://localhost:8080/"
        },
        "id": "LGMRsNFBZo0b",
        "outputId": "575bba41-ce1a-4e8e-a738-76d56474ad47"
      },
      "execution_count": 18,
      "outputs": [
        {
          "output_type": "stream",
          "name": "stdout",
          "text": [
            "10 is even\n",
            "22 is even\n",
            "42 is even\n",
            "42 is odd\n"
          ]
        }
      ]
    },
    {
      "cell_type": "markdown",
      "source": [
        "# Task 6: Passing or Failing Grades\n",
        "\n",
        "Given a dictionary of students and their grades, use a for loop to check if each student passed or failed. Assume the passing grade is 60 or above."
      ],
      "metadata": {
        "id": "vagyYZ8NaCAo"
      }
    },
    {
      "cell_type": "code",
      "source": [
        "grades = {'Alice': 85, 'Bob': 55, 'Charlie': 92, 'Daisy': 45}\n",
        "# your code\n",
        "for student, grade in grades.items():\n",
        "    if grade >= 60:\n",
        "        print(f\"{student} passed with a grade of {grade}\")\n",
        "    else:\n",
        "        print(f\"{student} failed with a grade of {grade}\")"
      ],
      "metadata": {
        "colab": {
          "base_uri": "https://localhost:8080/"
        },
        "id": "Q8WE4p2waBdf",
        "outputId": "59393985-81c5-415a-95eb-4efa8d568822"
      },
      "execution_count": 21,
      "outputs": [
        {
          "output_type": "stream",
          "name": "stdout",
          "text": [
            "Alice passed with a grade of 85\n",
            "Bob failed with a grade of 55\n",
            "Charlie passed with a grade of 92\n",
            "Daisy failed with a grade of 45\n"
          ]
        }
      ]
    },
    {
      "cell_type": "code",
      "source": [],
      "metadata": {
        "id": "nm2l230laIub"
      },
      "execution_count": 9,
      "outputs": []
    }
  ]
}