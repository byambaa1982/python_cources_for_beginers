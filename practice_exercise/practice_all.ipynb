{
  "nbformat": 4,
  "nbformat_minor": 0,
  "metadata": {
    "colab": {
      "provenance": [],
      "include_colab_link": true
    },
    "kernelspec": {
      "name": "python3",
      "display_name": "Python 3"
    },
    "language_info": {
      "name": "python"
    }
  },
  "cells": [
    {
      "cell_type": "markdown",
      "metadata": {
        "id": "view-in-github",
        "colab_type": "text"
      },
      "source": [
        "<a href=\"https://colab.research.google.com/github/byambaa1982/python_cources_for_beginers/blob/class_zero_enko/practice_exercise/practice_all.ipynb\" target=\"_parent\"><img src=\"https://colab.research.google.com/assets/colab-badge.svg\" alt=\"Open In Colab\"/></a>"
      ]
    },
    {
      "cell_type": "markdown",
      "source": [
        "## Task 1: Working with Lists\n",
        "Write a program that creates a list of three of your favorite fruits, then prints each fruit on a separate line.\n",
        "\n",
        "### Instructions\n",
        "- Create a list called `favorite_fruits` with three different fruit names.\n",
        "- Use a loop to print each fruit from the list on a new line.\n"
      ],
      "metadata": {
        "id": "_PaeU0AJYcV3"
      }
    },
    {
      "cell_type": "code",
      "source": [
        "# Your code is here!\n",
        "favorite_fruits = [\"grape\", \"apple\", \"orange\"]\n",
        "for fruit in favorite_fruits:\n",
        "    print(fruit)"
      ],
      "metadata": {
        "id": "-iFJNRV0YfCr",
        "colab": {
          "base_uri": "https://localhost:8080/"
        },
        "outputId": "784b0725-54ef-4d87-aa7b-5ae676782c40"
      },
      "execution_count": 1,
      "outputs": [
        {
          "output_type": "stream",
          "name": "stdout",
          "text": [
            "grape\n",
            "apple\n",
            "orange\n"
          ]
        }
      ]
    },
    {
      "cell_type": "markdown",
      "source": [
        "## Task 2: Modifying Lists\n",
        "Write a program that adds a new fruit to the list and then prints the updated list.\n",
        "\n",
        "### Instructions\n",
        "- Start with the `favorite_fruits` list you created.\n",
        "- Use the `append()` method to add another fruit to the list.\n",
        "- Print the entire list to see the updated version."
      ],
      "metadata": {
        "id": "JtnHqhLyYtZh"
      }
    },
    {
      "cell_type": "code",
      "source": [
        "# Your code is here!\n",
        "favorite_fruits.append(\"banana\")\n",
        "print(\"Updated list of fruits:\", favorite_fruits)\n",
        ""
      ],
      "metadata": {
        "id": "1-anIVkNYqJy",
        "colab": {
          "base_uri": "https://localhost:8080/"
        },
        "outputId": "fcd6c020-30f3-42c1-fbdf-7f16634b926d"
      },
      "execution_count": 23,
      "outputs": [
        {
          "output_type": "stream",
          "name": "stdout",
          "text": [
            "Updated list of fruits: ['grape', 'apple', 'orange', 'orange', 'orange', 'orange', 'orange', 'orange', 'banana', 'banana', 'banana', 'banana', 'banana', 'banana', 'banana', 'banana', 'banana', 'banana', 'banana', 'banana', 'banana']\n"
          ]
        }
      ]
    },
    {
      "cell_type": "markdown",
      "source": [
        "## Task 3: Working with Dictionaries\n",
        "Write a program that creates a dictionary with three of your favorite books and their authors. Then, print each book and its author.\n",
        "\n",
        "### Instructions\n",
        "- Create a dictionary called `favorite_books` where the keys are book titles and the values are author names.\n",
        "- Use a loop to print each book and its author in the format: \"Book: [title], Author: [author]\".\n"
      ],
      "metadata": {
        "id": "KDzRa5PlY-sN"
      }
    },
    {
      "cell_type": "code",
      "source": [
        "# Your code is here!\n",
        "favorite_books = {\n",
        "    \"dogman\": \"Dav Pikley\",\n",
        "    \"Harry Potter\": \"J.K. Rowling\",\n",
        "    \"Escape for the Race\": \"Christopher Edge\"\n",
        "}\n",
        "for book, author in favorite_books.items():\n",
        "    print(\"Book:\", book, \", Author:\", author)"
      ],
      "metadata": {
        "id": "9wwf4mjOYrZ8",
        "colab": {
          "base_uri": "https://localhost:8080/"
        },
        "outputId": "62937a62-e524-4048-c47b-4320c7389694"
      },
      "execution_count": 25,
      "outputs": [
        {
          "output_type": "stream",
          "name": "stdout",
          "text": [
            "Book: dogman , Author: Dav Pikley\n",
            "Book: Harry Potter , Author: J.K. Rowling\n",
            "Book: Escape for the Race , Author: Christopher Edge\n"
          ]
        }
      ]
    },
    {
      "cell_type": "markdown",
      "source": [
        "## Task 4: Adding to a Dictionary\n",
        "\n",
        "Write a program that adds another book and author to the `favorite_books` dictionary and then prints the updated dictionary.\n",
        "\n",
        "### Instructions\n",
        "\n",
        "- Use the `favorite_books` dictionary from the previous task.\n",
        "- Add a new book title and author to the dictionary.\n",
        "- Print the entire dictionary to see the updated version."
      ],
      "metadata": {
        "id": "fu45lDBEZb4N"
      }
    },
    {
      "cell_type": "code",
      "source": [
        "# Your code is here!\n",
        "favorite_books[\"Matilda\"] = \"Roald Dahl\"\n",
        "print(\"Updated dictionary of favorite books:\", favorite_books)"
      ],
      "metadata": {
        "id": "dB4fcU1AZeNS",
        "colab": {
          "base_uri": "https://localhost:8080/"
        },
        "outputId": "9ebd42d1-6eb4-4f17-c5a2-39097c5aedb1"
      },
      "execution_count": 27,
      "outputs": [
        {
          "output_type": "stream",
          "name": "stdout",
          "text": [
            "Updated dictionary of favorite books: {'dogman': 'Dav Pikley', 'Harry Potter': 'J.K. Rowling', 'Escape for the Race': 'Christopher Edge', 'Matilda': 'Roald Dahl'}\n"
          ]
        }
      ]
    },
    {
      "cell_type": "markdown",
      "source": [
        "## Task 5: Creating a Simple Function\n",
        "Write a function called `greet_user` that takes a person's name as input and prints a greeting message.\n",
        "\n",
        "### Instructions\n",
        "- Define a function named `greet_user` that accepts a parameter `name`.\n",
        "- Inside the function, print a message that says \"Hello, [name]!\".\n",
        "- Test the function by calling it with your name as an argument."
      ],
      "metadata": {
        "id": "9nA3nMqsZI_l"
      }
    },
    {
      "cell_type": "code",
      "source": [
        "# Your code is here!\n",
        "def greet_user(name):\n",
        "    print(\"Hello, \" + name + \"!\")\n",
        "\n",
        "# Testing the function\n",
        "greet_user(\"Enko\")"
      ],
      "metadata": {
        "id": "v438vXNcZLpI",
        "colab": {
          "base_uri": "https://localhost:8080/"
        },
        "outputId": "9ad6710f-1ded-4590-9e7c-bbb0bd8c8a47"
      },
      "execution_count": 28,
      "outputs": [
        {
          "output_type": "stream",
          "name": "stdout",
          "text": [
            "Hello, Enko!\n"
          ]
        }
      ]
    },
    {
      "cell_type": "markdown",
      "source": [
        "## Task 6: Function with Return Value\n",
        "Write a function called `add_numbers` that takes two numbers as input, adds them together, and returns the result.\n",
        "\n",
        "### Instructions\n",
        "- Define a function named `add_numbers` that accepts two parameters: `num1` and `num2`.\n",
        "- Inside the function, add `num1` and `num2` and return the result.\n",
        "- Test the function by calling it with two numbers and printing the result.\n"
      ],
      "metadata": {
        "id": "DSuCyQgeZa5a"
      }
    },
    {
      "cell_type": "code",
      "source": [
        "# Your code is here!\n",
        "def add_numbers(num1, num2):\n",
        "    return num1 + num2\n",
        "result = add_numbers(5, 50)\n",
        "print(\"The sum is:\", result)"
      ],
      "metadata": {
        "id": "8RfwvtNiZdwY",
        "colab": {
          "base_uri": "https://localhost:8080/"
        },
        "outputId": "25e624e5-0005-4bca-bd6d-27f16adcb975"
      },
      "execution_count": 29,
      "outputs": [
        {
          "output_type": "stream",
          "name": "stdout",
          "text": [
            "The sum is: 55\n"
          ]
        }
      ]
    }
  ]
}