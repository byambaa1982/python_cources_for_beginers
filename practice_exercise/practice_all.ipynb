{
  "nbformat": 4,
  "nbformat_minor": 0,
  "metadata": {
    "colab": {
      "provenance": [],
      "authorship_tag": "ABX9TyP1x9j/P4EeNQHfr7V/kWmT",
      "include_colab_link": true
    },
    "kernelspec": {
      "name": "python3",
      "display_name": "Python 3"
    },
    "language_info": {
      "name": "python"
    }
  },
  "cells": [
    {
      "cell_type": "markdown",
      "metadata": {
        "id": "view-in-github",
        "colab_type": "text"
      },
      "source": [
        "<a href=\"https://colab.research.google.com/github/byambaa1982/python_cources_for_beginers/blob/main/practice_exercise/practice_all.ipynb\" target=\"_parent\"><img src=\"https://colab.research.google.com/assets/colab-badge.svg\" alt=\"Open In Colab\"/></a>"
      ]
    },
    {
      "cell_type": "markdown",
      "source": [
        "## Task 1: Working with Lists\n",
        "Write a program that creates a list of three of your favorite fruits, then prints each fruit on a separate line.\n",
        "\n",
        "### Instructions\n",
        "- Create a list called `favorite_fruits` with three different fruit names.\n",
        "- Use a loop to print each fruit from the list on a new line.\n"
      ],
      "metadata": {
        "id": "_PaeU0AJYcV3"
      }
    },
    {
      "cell_type": "code",
      "source": [
        "# Your code is here!"
      ],
      "metadata": {
        "id": "-iFJNRV0YfCr",
        "colab": {
          "base_uri": "https://localhost:8080/"
        },
        "outputId": "e9edeb7e-227a-4c7a-e1b4-b66fdd8c8300"
      },
      "execution_count": null,
      "outputs": [
        {
          "output_type": "stream",
          "name": "stdout",
          "text": [
            "apple\n",
            "banana\n",
            "cherry\n"
          ]
        }
      ]
    },
    {
      "cell_type": "markdown",
      "source": [
        "## Task 2: Modifying Lists\n",
        "Write a program that adds a new fruit to the list and then prints the updated list.\n",
        "\n",
        "### Instructions\n",
        "- Start with the `favorite_fruits` list you created.\n",
        "- Use the `append()` method to add another fruit to the list.\n",
        "- Print the entire list to see the updated version."
      ],
      "metadata": {
        "id": "JtnHqhLyYtZh"
      }
    },
    {
      "cell_type": "code",
      "source": [
        "# Your code is here!"
      ],
      "metadata": {
        "id": "1-anIVkNYqJy",
        "colab": {
          "base_uri": "https://localhost:8080/"
        },
        "outputId": "b14940b3-c58b-4663-a046-73bbba41757e"
      },
      "execution_count": null,
      "outputs": [
        {
          "output_type": "stream",
          "name": "stdout",
          "text": [
            "Updated list of fruits: ['apple', 'banana', 'cherry', 'orange']\n"
          ]
        }
      ]
    },
    {
      "cell_type": "markdown",
      "source": [
        "## Task 3: Working with Dictionaries\n",
        "Write a program that creates a dictionary with three of your favorite books and their authors. Then, print each book and its author.\n",
        "\n",
        "### Instructions\n",
        "- Create a dictionary called `favorite_books` where the keys are book titles and the values are author names.\n",
        "- Use a loop to print each book and its author in the format: \"Book: [title], Author: [author]\".\n"
      ],
      "metadata": {
        "id": "KDzRa5PlY-sN"
      }
    },
    {
      "cell_type": "code",
      "source": [
        "# Your code is here!"
      ],
      "metadata": {
        "id": "9wwf4mjOYrZ8",
        "colab": {
          "base_uri": "https://localhost:8080/"
        },
        "outputId": "3bc0d08e-1926-49a0-a8a4-e3345dceade4"
      },
      "execution_count": null,
      "outputs": [
        {
          "output_type": "stream",
          "name": "stdout",
          "text": [
            "Book: Harry Potter , Author: J.K. Rowling\n",
            "Book: The Hobbit , Author: J.R.R. Tolkien\n",
            "Book: Charlotte's Web , Author: E.B. White\n"
          ]
        }
      ]
    },
    {
      "cell_type": "markdown",
      "source": [
        "# Task 4: Concatenate Two Strings\n",
        "Create a function that takes two strings as arguments and returns their concatenation (joined together)."
      ],
      "metadata": {
        "id": "04n3CjvvZTBr"
      }
    },
    {
      "cell_type": "code",
      "source": [
        "# Your code is here"
      ],
      "metadata": {
        "id": "DRgqAE9LZV3b"
      },
      "execution_count": null,
      "outputs": []
    },
    {
      "cell_type": "markdown",
      "source": [
        "## Task 4: Adding to a Dictionary\n",
        "\n",
        "Write a program that adds another book and author to the `favorite_books` dictionary and then prints the updated dictionary.\n",
        "\n",
        "### Instructions\n",
        "\n",
        "- Use the `favorite_books` dictionary from the previous task.\n",
        "- Add a new book title and author to the dictionary.\n",
        "- Print the entire dictionary to see the updated version."
      ],
      "metadata": {
        "id": "fu45lDBEZb4N"
      }
    },
    {
      "cell_type": "code",
      "source": [
        "# Your code is here!"
      ],
      "metadata": {
        "id": "dB4fcU1AZeNS",
        "colab": {
          "base_uri": "https://localhost:8080/"
        },
        "outputId": "526c6311-fa3d-4017-cb48-9bebdc1505b2"
      },
      "execution_count": null,
      "outputs": [
        {
          "output_type": "stream",
          "name": "stdout",
          "text": [
            "Updated dictionary of favorite books: {'Harry Potter': 'J.K. Rowling', 'The Hobbit': 'J.R.R. Tolkien', \"Charlotte's Web\": 'E.B. White', 'Matilda': 'Roald Dahl'}\n"
          ]
        }
      ]
    },
    {
      "cell_type": "markdown",
      "source": [
        "## Task 5: Creating a Simple Function\n",
        "Write a function called `greet_user` that takes a person's name as input and prints a greeting message.\n",
        "\n",
        "### Instructions\n",
        "- Define a function named `greet_user` that accepts a parameter `name`.\n",
        "- Inside the function, print a message that says \"Hello, [name]!\".\n",
        "- Test the function by calling it with your name as an argument."
      ],
      "metadata": {
        "id": "9nA3nMqsZI_l"
      }
    },
    {
      "cell_type": "code",
      "source": [
        "# Your code is here!"
      ],
      "metadata": {
        "id": "v438vXNcZLpI",
        "colab": {
          "base_uri": "https://localhost:8080/"
        },
        "outputId": "a3c7764b-3f6a-4b38-e16a-7216e87e28d9"
      },
      "execution_count": null,
      "outputs": [
        {
          "output_type": "stream",
          "name": "stdout",
          "text": [
            "Hello, Alice!\n"
          ]
        }
      ]
    },
    {
      "cell_type": "markdown",
      "source": [
        "## Task 6: Function with Return Value\n",
        "Write a function called `add_numbers` that takes two numbers as input, adds them together, and returns the result.\n",
        "\n",
        "### Instructions\n",
        "- Define a function named `add_numbers` that accepts two parameters: `num1` and `num2`.\n",
        "- Inside the function, add `num1` and `num2` and return the result.\n",
        "- Test the function by calling it with two numbers and printing the result.\n"
      ],
      "metadata": {
        "id": "DSuCyQgeZa5a"
      }
    },
    {
      "cell_type": "code",
      "source": [
        "# Your code is here!"
      ],
      "metadata": {
        "id": "8RfwvtNiZdwY",
        "colab": {
          "base_uri": "https://localhost:8080/"
        },
        "outputId": "78e698ac-300c-4cff-c04b-8cb55b9682a5"
      },
      "execution_count": null,
      "outputs": [
        {
          "output_type": "stream",
          "name": "stdout",
          "text": [
            "The sum is: 8\n"
          ]
        }
      ]
    }
  ]
}