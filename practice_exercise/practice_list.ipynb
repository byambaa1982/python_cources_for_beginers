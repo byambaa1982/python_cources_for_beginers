{
  "nbformat": 4,
  "nbformat_minor": 0,
  "metadata": {
    "colab": {
      "provenance": [],
      "include_colab_link": true
    },
    "kernelspec": {
      "name": "python3",
      "display_name": "Python 3"
    },
    "language_info": {
      "name": "python"
    }
  },
  "cells": [
    {
      "cell_type": "markdown",
      "metadata": {
        "id": "view-in-github",
        "colab_type": "text"
      },
      "source": [
        "<a href=\"https://colab.research.google.com/github/byambaa1982/python_cources_for_beginers/blob/class_zero_hannah/practice_exercise/practice_list.ipynb\" target=\"_parent\"><img src=\"https://colab.research.google.com/assets/colab-badge.svg\" alt=\"Open In Colab\"/></a>"
      ]
    },
    {
      "cell_type": "markdown",
      "source": [
        "# Task 1: Add a New Item to the List\n",
        "Start with a list of 3 colors. Then, add a new color to the list and print the updated list."
      ],
      "metadata": {
        "id": "_PaeU0AJYcV3"
      }
    },
    {
      "cell_type": "code",
      "source": [
        "# your code is here\n",
        "colors = [\"pink\", \"yellow\", \"purple\"]\n",
        "colors.append(\"blue\")\n",
        "print(colors)"
      ],
      "metadata": {
        "id": "-iFJNRV0YfCr",
        "outputId": "877ce336-c85c-4d5d-f43f-7ffe2a96a433",
        "colab": {
          "base_uri": "https://localhost:8080/"
        }
      },
      "execution_count": 1,
      "outputs": [
        {
          "output_type": "stream",
          "name": "stdout",
          "text": [
            "['pink', 'yellow', 'purple', 'blue']\n"
          ]
        }
      ]
    },
    {
      "cell_type": "markdown",
      "source": [
        " # Task 2: Find the Largest Number in a List\n",
        "Create a list of 5 numbers and use the max() function to find and print the largest number."
      ],
      "metadata": {
        "id": "JtnHqhLyYtZh"
      }
    },
    {
      "cell_type": "code",
      "source": [
        "numbers = [2,9,4,3,6]\n",
        "largest = max(numbers)\n",
        "print(\"The largest number is:\", largest)\n"
      ],
      "metadata": {
        "id": "1-anIVkNYqJy",
        "outputId": "bc3542a6-55e9-4add-a666-c7fdce77a4b9",
        "colab": {
          "base_uri": "https://localhost:8080/"
        }
      },
      "execution_count": 2,
      "outputs": [
        {
          "output_type": "stream",
          "name": "stdout",
          "text": [
            "The largest number is: 9\n"
          ]
        }
      ]
    },
    {
      "cell_type": "markdown",
      "source": [
        "# Task 3: Reverse a List\n",
        "Create a list of 5 numbers and print the list in reverse order."
      ],
      "metadata": {
        "id": "KDzRa5PlY-sN"
      }
    },
    {
      "cell_type": "code",
      "source": [
        "# your code is here\n",
        "numbers = [10,9,8,7,6,5]\n",
        "reversed_numbers = numbers\n",
        "print(reversed_numbers)\n"
      ],
      "metadata": {
        "id": "9wwf4mjOYrZ8",
        "outputId": "b164228c-3697-4070-8ef1-8c8209ad6130",
        "colab": {
          "base_uri": "https://localhost:8080/"
        }
      },
      "execution_count": 1,
      "outputs": [
        {
          "output_type": "stream",
          "name": "stdout",
          "text": [
            "[10, 9, 8, 7, 6, 5]\n"
          ]
        }
      ]
    },
    {
      "cell_type": "markdown",
      "source": [
        "# Task 4: Remove an Item from the List\n",
        "Start with a list of 4 animals. Remove one animal from the list and print the updated list."
      ],
      "metadata": {
        "id": "04n3CjvvZTBr"
      }
    },
    {
      "cell_type": "code",
      "source": [
        "# your code is here\n",
        "animals = [\"lion\", \"pig\", \"horse\", \"fish\"]\n",
        "animals.remove(\"lion\")\n",
        "print(animals)\n"
      ],
      "metadata": {
        "id": "DRgqAE9LZV3b",
        "outputId": "001bb422-1bdb-4f82-fa1e-6bec77a37de1",
        "colab": {
          "base_uri": "https://localhost:8080/"
        }
      },
      "execution_count": 2,
      "outputs": [
        {
          "output_type": "stream",
          "name": "stdout",
          "text": [
            "['pig', 'horse', 'fish']\n"
          ]
        }
      ]
    },
    {
      "cell_type": "markdown",
      "source": [
        "# Task 5: Count Items in a List\n",
        "Create a list with some repeated items (e.g., colors). Use the count() method to find out how many times a specific item appears in the list."
      ],
      "metadata": {
        "id": "fu45lDBEZb4N"
      }
    },
    {
      "cell_type": "code",
      "source": [
        "# your code is here\n",
        "colors = [\"red\", \"purple\", \"red\", \"purple\", \"red\"]\n",
        "red_count = colors.count(\"red\")\n",
        "print(\"Red appears\", red_count, \"times in the list.\")\n"
      ],
      "metadata": {
        "id": "dB4fcU1AZeNS",
        "outputId": "1d913009-c3f7-4a41-8a7b-566adf41f9a9",
        "colab": {
          "base_uri": "https://localhost:8080/"
        }
      },
      "execution_count": 4,
      "outputs": [
        {
          "output_type": "stream",
          "name": "stdout",
          "text": [
            "Red appears 3 times in the list.\n"
          ]
        }
      ]
    },
    {
      "cell_type": "markdown",
      "source": [
        "# Task 6: Sum of All Numbers\n",
        "Create a list of 5 numbers and use the sum() function to calculate and print the total sum of the numbers."
      ],
      "metadata": {
        "id": "FbUwGQUvpZ-u"
      }
    },
    {
      "cell_type": "code",
      "source": [
        "# your code is here\n",
        "\n",
        "print(\"The sum of the numbers is:\", total_sum)\n"
      ],
      "metadata": {
        "id": "6ffRWzIVZITP",
        "outputId": "7c89318a-d396-4ad2-80c4-8d2c77222414",
        "colab": {
          "base_uri": "https://localhost:8080/"
        }
      },
      "execution_count": null,
      "outputs": [
        {
          "output_type": "stream",
          "name": "stdout",
          "text": [
            "The sum of the numbers is: 150\n"
          ]
        }
      ]
    },
    {
      "cell_type": "markdown",
      "source": [
        "# Task 7: Find the Smallest Number\n",
        "Create a list of 6 numbers and use the min() function to find and print the smallest number in the list."
      ],
      "metadata": {
        "id": "mRB9AobypgeV"
      }
    },
    {
      "cell_type": "code",
      "source": [
        "# your code is here\n",
        "\n",
        "print(\"The smallest number is:\", smallest_number)\n"
      ],
      "metadata": {
        "id": "blq_l8l-pid3",
        "outputId": "42feb0c1-8ddf-47f0-dc6f-0fa1c982091e",
        "colab": {
          "base_uri": "https://localhost:8080/"
        }
      },
      "execution_count": null,
      "outputs": [
        {
          "output_type": "stream",
          "name": "stdout",
          "text": [
            "The smallest number is: 5\n"
          ]
        }
      ]
    },
    {
      "cell_type": "markdown",
      "source": [
        "# Task 7: Combine Two Lists\n",
        "Create two lists of three items each (e.g., fruits and vegetables). Combine them into one list and print the new combined list."
      ],
      "metadata": {
        "id": "XA9SCRMapoWZ"
      }
    },
    {
      "cell_type": "code",
      "source": [
        "# your code is here\n",
        "print(combined_list)\n"
      ],
      "metadata": {
        "id": "Fl2S4pmrpq12",
        "outputId": "77d8e5eb-3d86-4f3b-d84e-1af0b8a6011d",
        "colab": {
          "base_uri": "https://localhost:8080/"
        }
      },
      "execution_count": null,
      "outputs": [
        {
          "output_type": "stream",
          "name": "stdout",
          "text": [
            "['Apple', 'Banana', 'Orange', 'Carrot', 'Spinach', 'Broccoli']\n"
          ]
        }
      ]
    }
  ]
}