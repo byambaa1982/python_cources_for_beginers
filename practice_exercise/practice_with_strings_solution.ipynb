{
  "nbformat": 4,
  "nbformat_minor": 0,
  "metadata": {
    "colab": {
      "provenance": [],
      "authorship_tag": "ABX9TyN4N9aUVuPSnYqdz+hEuLFQ",
      "include_colab_link": true
    },
    "kernelspec": {
      "name": "python3",
      "display_name": "Python 3"
    },
    "language_info": {
      "name": "python"
    }
  },
  "cells": [
    {
      "cell_type": "markdown",
      "metadata": {
        "id": "view-in-github",
        "colab_type": "text"
      },
      "source": [
        "<a href=\"https://colab.research.google.com/github/byambaa1982/python_cources_for_beginers/blob/main/practice_exercise/practice_with_strings_solution.ipynb\" target=\"_parent\"><img src=\"https://colab.research.google.com/assets/colab-badge.svg\" alt=\"Open In Colab\"/></a>"
      ]
    },
    {
      "cell_type": "markdown",
      "source": [
        "## Task 1: Using `replace()` to Fix Text\n",
        "Write a program that replaces all occurrences of a specific word in a sentence with another word.\n",
        "\n",
        "### Instructions\n",
        "- Define a variable `sentence` with the text \"I love programming. Programming is fun!\"\n",
        "- Use the `replace()` method to replace the word \"Programming\" with \"Coding\".\n",
        "- Print the updated sentence.\n"
      ],
      "metadata": {
        "id": "_PaeU0AJYcV3"
      }
    },
    {
      "cell_type": "code",
      "source": [
        "# Solution\n",
        "sentence = \"I love programming. Programming is fun!\"\n",
        "updated_sentence = sentence.replace(\"Programming\", \"Coding\")\n",
        "print(\"Updated Sentence:\", updated_sentence)"
      ],
      "metadata": {
        "id": "-iFJNRV0YfCr",
        "colab": {
          "base_uri": "https://localhost:8080/"
        },
        "outputId": "27b43d48-a2e5-4b45-91c0-3830feab1e91"
      },
      "execution_count": null,
      "outputs": [
        {
          "output_type": "stream",
          "name": "stdout",
          "text": [
            "Updated Sentence: I love programming. Coding is fun!\n"
          ]
        }
      ]
    },
    {
      "cell_type": "markdown",
      "source": [
        "## Task 2: Capitalizing Text\n",
        "Write a program that capitalizes the first letter of each sentence in a paragraph.\n",
        "\n",
        "### Instructions\n",
        "- Define a variable `paragraph` with a multi-sentence string.\n",
        "- Use the `capitalize()` method to capitalize the first letter of each sentence.\n",
        "- Print the updated paragraph."
      ],
      "metadata": {
        "id": "JtnHqhLyYtZh"
      }
    },
    {
      "cell_type": "code",
      "source": [
        "# Solution\n",
        "paragraph = \"python is amazing. it helps solve many problems. everyone should learn it!\"\n",
        "sentences = paragraph.split(\". \")\n",
        "capitalized_sentences = [sentence.capitalize() for sentence in sentences]\n",
        "updated_paragraph = \". \".join(capitalized_sentences)\n",
        "print(\"Updated Paragraph:\", updated_paragraph)"
      ],
      "metadata": {
        "id": "1-anIVkNYqJy",
        "colab": {
          "base_uri": "https://localhost:8080/"
        },
        "outputId": "872ceab3-9d9e-414c-b10c-7a2001b0e188"
      },
      "execution_count": null,
      "outputs": [
        {
          "output_type": "stream",
          "name": "stdout",
          "text": [
            "Updated Paragraph: Python is amazing. It helps solve many problems. Everyone should learn it!\n"
          ]
        }
      ]
    },
    {
      "cell_type": "markdown",
      "source": [
        "## Task 3: Checking for a Word in Text\n",
        "Write a program that checks if a specific word is present in a given text.\n",
        "\n",
        "### Instructions\n",
        "- Define a variable `text` with a sentence of your choice.\n",
        "- Ask the user to input a word to search for.\n",
        "- Use the `in` keyword to check if the word is present in `text`.\n",
        "- Print a message indicating whether the word is found or not.\n"
      ],
      "metadata": {
        "id": "KDzRa5PlY-sN"
      }
    },
    {
      "cell_type": "code",
      "source": [
        "# Solution\n",
        "text = \"Learning Python is both fun and rewarding.\"\n",
        "word = input(\"Enter a word to search for: \")\n",
        "if word in text:\n",
        "    print(f\"The word '{word}' is present in the text.\")\n",
        "else:\n",
        "    print(f\"The word '{word}' is not found in the text.\")"
      ],
      "metadata": {
        "id": "9wwf4mjOYrZ8",
        "colab": {
          "base_uri": "https://localhost:8080/"
        },
        "outputId": "ff4ea08c-11f1-421f-cf1d-c9e3fe4a3a5f"
      },
      "execution_count": null,
      "outputs": [
        {
          "output_type": "stream",
          "name": "stdout",
          "text": [
            "Enter a word to search for: Byamba\n",
            "The word 'Byamba' is not found in the text.\n"
          ]
        }
      ]
    },
    {
      "cell_type": "markdown",
      "source": [
        "## Task 4: Using `f-strings` for Input and Output\n",
        "Write a program that asks the user for their name and a favorite activity, then prints a formatted sentence.\n",
        "\n",
        "### Instructions\n",
        "\n",
        "- Use `input()` to ask the user for their `name` and `favorite_activity`.\n",
        "- Use an `f-string` to print a sentence like \"Hello [name]! It's great to know you enjoy [favorite_activity].\"\n"
      ],
      "metadata": {
        "id": "fu45lDBEZb4N"
      }
    },
    {
      "cell_type": "code",
      "source": [
        "\n",
        "name = input(\"What is your name? \")\n",
        "favorite_activity = input(\"What is your favorite activity? \")\n",
        "print(f\"Hello {name}! It's great to know you enjoy {favorite_activity}.\")"
      ],
      "metadata": {
        "id": "dB4fcU1AZeNS",
        "colab": {
          "base_uri": "https://localhost:8080/"
        },
        "outputId": "c265c52f-6ebc-4357-f604-a2b37d9b91d3"
      },
      "execution_count": null,
      "outputs": [
        {
          "output_type": "stream",
          "name": "stdout",
          "text": [
            "What is your name? Byamba\n",
            "What is your favorite activity? golg\n",
            "Hello Byamba! It's great to know you enjoy golg.\n"
          ]
        }
      ]
    },
    {
      "cell_type": "markdown",
      "source": [
        "## Task 5: Creating a Function to Clean and Construct Sentences\n",
        "Write a function `clean_and_construct` that takes a string as input, cleans it, and constructs a well-formed sentence.\n",
        "\n",
        "### Instructions\n",
        "- The function should:\n",
        "   1. Replace unwanted words (e.g., \"bad\" with \"good\").\n",
        "   2. Capitalize the first letter of the sentence.\n",
        "   3. Ensure it ends with a period if it doesn’t already.\n",
        " - Test the function with various inputs and print the results."
      ],
      "metadata": {
        "id": "9nA3nMqsZI_l"
      }
    },
    {
      "cell_type": "code",
      "source": [
        "# Solution\n",
        "def clean_and_construct(text):\n",
        "    # Replace unwanted words\n",
        "    text = text.replace(\"bad\", \"good\")\n",
        "    # Capitalize the first letter\n",
        "    text = text.capitalize()\n",
        "    # Ensure the sentence ends with a period\n",
        "    if not text.endswith(\".\"):\n",
        "        text += \".\"\n",
        "    return text\n",
        "\n",
        "# Testing the function\n",
        "input_text = input(\"Enter a sentence to clean and construct: \")\n",
        "cleaned_sentence = clean_and_construct(input_text)\n",
        "print(\"Cleaned and Constructed Sentence:\", cleaned_sentence)"
      ],
      "metadata": {
        "id": "v438vXNcZLpI",
        "colab": {
          "base_uri": "https://localhost:8080/"
        },
        "outputId": "7adf7fe6-5b61-4052-9cf3-4b306ebbb4c7"
      },
      "execution_count": null,
      "outputs": [
        {
          "output_type": "stream",
          "name": "stdout",
          "text": [
            "Enter a sentence to clean and construct: kdjf dgjd;kf  \n",
            "Cleaned and Constructed Sentence: Kdjf dgjd;kf  .\n"
          ]
        }
      ]
    }
  ]
}