{
  "nbformat": 4,
  "nbformat_minor": 0,
  "metadata": {
    "colab": {
      "provenance": [],
      "authorship_tag": "ABX9TyN0qa88f7dOXPGUBz6PEw38",
      "include_colab_link": true
    },
    "kernelspec": {
      "name": "python3",
      "display_name": "Python 3"
    },
    "language_info": {
      "name": "python"
    }
  },
  "cells": [
    {
      "cell_type": "markdown",
      "metadata": {
        "id": "view-in-github",
        "colab_type": "text"
      },
      "source": [
        "<a href=\"https://colab.research.google.com/github/byambaa1982/python_cources_for_beginers/blob/main/practice_exercise/practice_variables_operations_solution.ipynb\" target=\"_parent\"><img src=\"https://colab.research.google.com/assets/colab-badge.svg\" alt=\"Open In Colab\"/></a>"
      ]
    },
    {
      "cell_type": "markdown",
      "source": [
        "# Task 1: Simple Math Operations\n",
        "Instructions: Write a program that:\n",
        "\n",
        "- Adds 15 and 20 and prints the result.\n",
        "- Multiplies 7 by 8 and prints the result.\n",
        "- Divides 56 by 8 and prints the result."
      ],
      "metadata": {
        "id": "_PaeU0AJYcV3"
      }
    },
    {
      "cell_type": "code",
      "source": [
        "# Addition\n",
        "result_add = 15 + 20\n",
        "print(\"15 + 20 =\", result_add)\n",
        "\n",
        "# Multiplication\n",
        "result_multiply = 7 * 8\n",
        "print(\"7 * 8 =\", result_multiply)\n",
        "\n",
        "# Division\n",
        "result_divide = 56 / 8\n",
        "print(\"56 / 8 =\", result_divide)\n"
      ],
      "metadata": {
        "id": "jTAarq8XaRXW",
        "colab": {
          "base_uri": "https://localhost:8080/"
        },
        "outputId": "15f145c4-f0c4-4c37-837e-e632f559e619"
      },
      "execution_count": null,
      "outputs": [
        {
          "output_type": "stream",
          "name": "stdout",
          "text": [
            "15 + 20 = 35\n",
            "7 * 8 = 56\n",
            "56 / 8 = 7.0\n"
          ]
        }
      ]
    },
    {
      "cell_type": "markdown",
      "source": [
        " # Task 2: Using Variables\n",
        "Instructions:\n",
        "\n",
        "- Create a variable called name and set it to \"Alex\".\n",
        "- Create another variable age and set it to 11.\n",
        "- Print a sentence saying, \"Hello, my name is Alex and I am 11 years old,\" but use the variables name and age to construct the sentence."
      ],
      "metadata": {
        "id": "JtnHqhLyYtZh"
      }
    },
    {
      "cell_type": "code",
      "source": [
        "# Creating variables\n",
        "name = \"Alex\"\n",
        "age = 11\n",
        "\n",
        "# Printing sentence using variables\n",
        "print(\"Hello, my name is\", name, \"and I am\", age, \"years old.\")\n"
      ],
      "metadata": {
        "id": "1-anIVkNYqJy",
        "outputId": "09e0e1db-c230-44d9-afd9-d47112eda843",
        "colab": {
          "base_uri": "https://localhost:8080/"
        }
      },
      "execution_count": null,
      "outputs": [
        {
          "output_type": "stream",
          "name": "stdout",
          "text": [
            "Hello, my name is Alex and I am 11 years old.\n"
          ]
        }
      ]
    },
    {
      "cell_type": "markdown",
      "source": [
        "# Task 3: Simple If Statement\n",
        "Instructions: Write a program that:\n",
        "\n",
        "- Takes a number and stores it in a variable called my_number.\n",
        "- Checks if my_number is greater than 10.\n",
        "- If it is, print \"my_number is greater than 10!\". If not, print \"my_number is 10 or less!\"."
      ],
      "metadata": {
        "id": "KDzRa5PlY-sN"
      }
    },
    {
      "cell_type": "code",
      "source": [
        "# Defining the number\n",
        "my_number = 12\n",
        "\n",
        "# Checking the condition\n",
        "if my_number > 10:\n",
        "    print(\"my_number is greater than 10!\")\n",
        "else:\n",
        "    print(\"my_number is 10 or less!\")\n"
      ],
      "metadata": {
        "id": "9wwf4mjOYrZ8",
        "outputId": "c8833aff-7f0c-439b-b5e5-938d288d536c",
        "colab": {
          "base_uri": "https://localhost:8080/"
        }
      },
      "execution_count": null,
      "outputs": [
        {
          "output_type": "stream",
          "name": "stdout",
          "text": [
            "my_number is greater than 10!\n"
          ]
        }
      ]
    },
    {
      "cell_type": "markdown",
      "source": [
        "# Task 4: Area of a Rectangle\n",
        "Instructions:\n",
        "\n",
        "- Create two variables, length and width, and set them to 10 and 5 respectively.\n",
        "- nCalculate the area of the rectangle (use the formula area = length * width).\n",
        "- Print the result with the message: \"The area of the rectangle is: [area]\"."
      ],
      "metadata": {
        "id": "04n3CjvvZTBr"
      }
    },
    {
      "cell_type": "code",
      "source": [
        "# Defining variables for length and width\n",
        "length = 10\n",
        "width = 5\n",
        "\n",
        "# Calculating the area\n",
        "area = length * width\n",
        "\n",
        "# Printing the result\n",
        "print(\"The area of the rectangle is:\", area)\n"
      ],
      "metadata": {
        "id": "DRgqAE9LZV3b",
        "outputId": "1b964e96-79a8-4e09-c445-d5ab64400a15",
        "colab": {
          "base_uri": "https://localhost:8080/"
        }
      },
      "execution_count": null,
      "outputs": [
        {
          "output_type": "stream",
          "name": "stdout",
          "text": [
            "The area of the rectangle is: 50\n"
          ]
        }
      ]
    },
    {
      "cell_type": "markdown",
      "source": [
        "# Task 5: Combining Strings\n",
        "Instructions:\n",
        "\n",
        "- Create a variable first_name and set it to \"Sarah\".\n",
        "- Create another variable last_name and set it to \"Connor\".\n",
        "- Combine first_name and last_name with a space in between to create a full name and print it as: \"Full name: Sarah Connor\"."
      ],
      "metadata": {
        "id": "fu45lDBEZb4N"
      }
    },
    {
      "cell_type": "code",
      "source": [
        "# Defining first and last names\n",
        "first_name = \"Sarah\"\n",
        "last_name = \"Connor\"\n",
        "\n",
        "# Combining names\n",
        "full_name = first_name + \" \" + last_name\n",
        "\n",
        "# Printing full name\n",
        "print(\"Full name:\", full_name)\n"
      ],
      "metadata": {
        "id": "dB4fcU1AZeNS",
        "outputId": "be122267-0378-4965-8b34-3495801e2765",
        "colab": {
          "base_uri": "https://localhost:8080/"
        }
      },
      "execution_count": null,
      "outputs": [
        {
          "output_type": "stream",
          "name": "stdout",
          "text": [
            "Full name: Sarah Connor\n"
          ]
        }
      ]
    },
    {
      "cell_type": "markdown",
      "source": [
        "# Task 6:  Temperature Conversion\n",
        "Instructions:\n",
        "\n",
        "- Create a variable called celsius and set it to 25.\n",
        "- Convert this temperature to Fahrenheit using the formula fahrenheit = (celsius * 9/5) + 32.\n",
        "- Print the result as: \"Temperature in Fahrenheit: [fahrenheit]\"."
      ],
      "metadata": {
        "id": "FbUwGQUvpZ-u"
      }
    },
    {
      "cell_type": "code",
      "source": [
        "# Defining the Celsius temperature\n",
        "celsius = 25\n",
        "\n",
        "# Converting to Fahrenheit\n",
        "fahrenheit = (celsius * 9/5) + 32\n",
        "\n",
        "# Printing the result\n",
        "print(\"Temperature in Fahrenheit:\", fahrenheit)\n",
        "\n"
      ],
      "metadata": {
        "id": "6ffRWzIVZITP",
        "outputId": "71a9acf5-dd91-4ac0-ae4f-fbe959d6ccb8",
        "colab": {
          "base_uri": "https://localhost:8080/"
        }
      },
      "execution_count": null,
      "outputs": [
        {
          "output_type": "stream",
          "name": "stdout",
          "text": [
            "Temperature in Fahrenheit: 77.0\n"
          ]
        }
      ]
    },
    {
      "cell_type": "markdown",
      "source": [
        "# Task 7: Favorite Animal Facts\n",
        "Instructions:\n",
        "\n",
        "- Create a variable called animal_name and set it to your favorite animal (e.g., \"Dolphin\").\n",
        "- Create another variable animal_sound and set it to a sound the animal makes (e.g., \"Click\").\n",
        "- Create a final variable animal_habitat and set it to where the animal lives (e.g., \"Ocean\").\n",
        "Print a fun sentence like, \"A Dolphin lives in the Ocean and makes a sound like Click!\""
      ],
      "metadata": {
        "id": "mRB9AobypgeV"
      }
    },
    {
      "cell_type": "code",
      "source": [
        "# Defining animal details\n",
        "animal_name = \"Dolphin\"\n",
        "animal_sound = \"Click\"\n",
        "animal_habitat = \"Ocean\"\n",
        "\n",
        "# Printing the sentence\n",
        "print(f\"A {animal_name} lives in the {animal_habitat} and makes a sound like {animal_sound}!\")\n"
      ],
      "metadata": {
        "id": "blq_l8l-pid3",
        "outputId": "d2014300-804a-4a45-abea-57eb89b5e312",
        "colab": {
          "base_uri": "https://localhost:8080/"
        }
      },
      "execution_count": null,
      "outputs": [
        {
          "output_type": "stream",
          "name": "stdout",
          "text": [
            "A Dolphin lives in the Ocean and makes a sound like Click!\n"
          ]
        }
      ]
    },
    {
      "cell_type": "markdown",
      "source": [
        "# Task 8: Story Time - Create Your Adventure\n",
        "Instructions:\n",
        "\n",
        "- Create a variable hero_name and set it to a character name of your choice.\n",
        "- Create a variable place and set it to a fictional place (e.g., \"Enchanted Forest\").\n",
        "- Create a variable goal and set it to something the character is trying to find (e.g., \"magic stone\").\n",
        "- Print a short story like, \"Once upon a time, [hero_name] traveled through the [place] in search of the [goal].\""
      ],
      "metadata": {
        "id": "XA9SCRMapoWZ"
      }
    },
    {
      "cell_type": "code",
      "source": [
        "# Defining story elements\n",
        "hero_name = \"Luna\"\n",
        "place = \"Enchanted Forest\"\n",
        "goal = \"magic stone\"\n",
        "\n",
        "# Printing the story\n",
        "print(f\"Once upon a time, {hero_name} traveled through the {place} in search of the {goal}.\")\n"
      ],
      "metadata": {
        "id": "Fl2S4pmrpq12",
        "outputId": "ef78ed85-6aac-45cd-d8bd-6b922aa256ec",
        "colab": {
          "base_uri": "https://localhost:8080/"
        }
      },
      "execution_count": null,
      "outputs": [
        {
          "output_type": "stream",
          "name": "stdout",
          "text": [
            "Once upon a time, Luna traveled through the Enchanted Forest in search of the magic stone.\n"
          ]
        }
      ]
    },
    {
      "cell_type": "code",
      "source": [],
      "metadata": {
        "id": "kv1aYSIzcV0Z"
      },
      "execution_count": null,
      "outputs": []
    }
  ]
}