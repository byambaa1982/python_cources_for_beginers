{
  "nbformat": 4,
  "nbformat_minor": 0,
  "metadata": {
    "colab": {
      "provenance": [],
      "authorship_tag": "ABX9TyPDv2umEJM0SZhJILj5a64W",
      "include_colab_link": true
    },
    "kernelspec": {
      "name": "python3",
      "display_name": "Python 3"
    },
    "language_info": {
      "name": "python"
    }
  },
  "cells": [
    {
      "cell_type": "markdown",
      "metadata": {
        "id": "view-in-github",
        "colab_type": "text"
      },
      "source": [
        "<a href=\"https://colab.research.google.com/github/byambaa1982/python_cources_for_beginers/blob/main/practice_exercise/practice_loop.ipynb\" target=\"_parent\"><img src=\"https://colab.research.google.com/assets/colab-badge.svg\" alt=\"Open In Colab\"/></a>"
      ]
    },
    {
      "cell_type": "markdown",
      "source": [
        "# Merge Tables\n"
      ],
      "metadata": {
        "id": "NNpzcNqt0GLF"
      }
    },
    {
      "cell_type": "code",
      "source": [
        "data = {\n",
        "    \"name\": \"John Doe\",           # String\n",
        "    \"age\": 28,                    # Number\n",
        "    \"hobbies\": [\"reading\", \"swimming\", \"coding\"],  # List of strings\n",
        "    \"scores\": [85, 90, 78],       # List of numbers\n",
        "    \"address\": {\n",
        "        \"city\": \"New York\",       # Nested dictionary with strings\n",
        "        \"zip_code\": 10001         # Number\n",
        "    },\n",
        "    \"graduated\": True,            # Boolean value\n",
        "    \"languages\": [\"English\", \"Spanish\"]  # List of strings\n",
        "}\n",
        "\n",
        "print(data)"
      ],
      "metadata": {
        "id": "MjO6zeDrZiJ6",
        "colab": {
          "base_uri": "https://localhost:8080/"
        },
        "outputId": "79821913-f157-4864-fde6-21cae310dfbd"
      },
      "execution_count": null,
      "outputs": [
        {
          "output_type": "stream",
          "name": "stdout",
          "text": [
            "{'name': 'John Doe', 'age': 28, 'hobbies': ['reading', 'swimming', 'coding'], 'scores': [85, 90, 78], 'address': {'city': 'New York', 'zip_code': 10001}, 'graduated': True, 'languages': ['English', 'Spanish']}\n"
          ]
        }
      ]
    },
    {
      "cell_type": "code",
      "source": [
        "data['name']"
      ],
      "metadata": {
        "id": "V3dTmJ6dX7Mt",
        "outputId": "da9075bb-acdf-4a25-c9f2-2b4519fb47b1",
        "colab": {
          "base_uri": "https://localhost:8080/",
          "height": 35
        }
      },
      "execution_count": null,
      "outputs": [
        {
          "output_type": "execute_result",
          "data": {
            "text/plain": [
              "'John Doe'"
            ],
            "application/vnd.google.colaboratory.intrinsic+json": {
              "type": "string"
            }
          },
          "metadata": {},
          "execution_count": 6
        }
      ]
    },
    {
      "cell_type": "code",
      "source": [
        "data['scores']"
      ],
      "metadata": {
        "id": "qr8sZpARYQmo",
        "outputId": "87f76701-eb4b-4071-90b7-ae7d7f2c224d",
        "colab": {
          "base_uri": "https://localhost:8080/"
        }
      },
      "execution_count": null,
      "outputs": [
        {
          "output_type": "execute_result",
          "data": {
            "text/plain": [
              "[85, 90, 78]"
            ]
          },
          "metadata": {},
          "execution_count": 8
        }
      ]
    },
    {
      "cell_type": "code",
      "source": [
        "for hobby in my_dict['hobbies']:\n",
        "  print(hobby)"
      ],
      "metadata": {
        "colab": {
          "base_uri": "https://localhost:8080/"
        },
        "id": "oDAY67MIWmR7",
        "outputId": "537933ae-b183-4c61-b5b5-9921d6afc0de"
      },
      "execution_count": null,
      "outputs": [
        {
          "output_type": "stream",
          "name": "stdout",
          "text": [
            "reading\n",
            "swimming\n",
            "coding\n"
          ]
        }
      ]
    },
    {
      "cell_type": "code",
      "source": [
        "for score in my_dict['scores']:\n",
        "  print(score)"
      ],
      "metadata": {
        "colab": {
          "base_uri": "https://localhost:8080/"
        },
        "id": "4NKWJNnwWvUc",
        "outputId": "53e5bab9-3614-48da-8721-39a7864fb156"
      },
      "execution_count": null,
      "outputs": [
        {
          "output_type": "stream",
          "name": "stdout",
          "text": [
            "85\n",
            "90\n",
            "78\n"
          ]
        }
      ]
    },
    {
      "cell_type": "markdown",
      "source": [
        "# Task 1: Create a Python dictionary that represents your own profile.\n",
        "\n",
        "```python\n",
        "\n",
        "profile = {\n",
        "    \"name\": \"Your Name\",\n",
        "    \"age\": Your Age,\n",
        "    \"favorite_foods\": [\"Food1\", \"Food2\", \"Food3\"],  # List of your favorite foods\n",
        "    \"hobbies\": [\"Hobby1\", \"Hobby2\"],                # List of your hobbies\n",
        "    \"is_student\": True,                             # Boolean, are you a student?\n",
        "}\n",
        "\n",
        "# Print the profile\n",
        "print(profile)\n",
        "```"
      ],
      "metadata": {
        "id": "taDDrgn1V2CH"
      }
    },
    {
      "cell_type": "code",
      "source": [
        "# Create a dictionary with your own information\n",
        "\n",
        "profile = {\n",
        "    \"name\": \"Your Name\",\n",
        "    \"age\": 10,\n",
        "    \"favorite_foods\": [\"Food1\", \"Food2\", \"Food3\"],\n",
        "    \"hobbies\": [\"Hobby1\", \"Hobby2\"],\n",
        "    \"is_student\": True,\n",
        "}"
      ],
      "metadata": {
        "id": "piO-lpP6alPr"
      },
      "execution_count": null,
      "outputs": []
    },
    {
      "cell_type": "code",
      "source": [
        "# Create a for loop and print your favorite foods"
      ],
      "metadata": {
        "id": "V20qSQQMamy4"
      },
      "execution_count": null,
      "outputs": []
    },
    {
      "cell_type": "code",
      "source": [
        "# Create a for loop and print your hobbies"
      ],
      "metadata": {
        "id": "coNBvyZHVHEi"
      },
      "execution_count": null,
      "outputs": []
    },
    {
      "cell_type": "code",
      "source": [
        "a = [1, 2, 3, 4,]\n",
        "a.append(5)\n",
        "a"
      ],
      "metadata": {
        "id": "bk7p28B8dLhH",
        "outputId": "9b04178e-3068-43ee-9fca-772340819b3d",
        "colab": {
          "base_uri": "https://localhost:8080/"
        }
      },
      "execution_count": null,
      "outputs": [
        {
          "output_type": "execute_result",
          "data": {
            "text/plain": [
              "[1, 2, 3, 4, 5]"
            ]
          },
          "metadata": {},
          "execution_count": 13
        }
      ]
    },
    {
      "cell_type": "code",
      "source": [
        "# Append a food into favorite_foods"
      ],
      "metadata": {
        "id": "eonmPrmDi3h6"
      },
      "execution_count": null,
      "outputs": []
    },
    {
      "cell_type": "code",
      "source": [
        "#Append a hobby into hobbies."
      ],
      "metadata": {
        "id": "vF-LfrjGdHBP"
      },
      "execution_count": null,
      "outputs": []
    },
    {
      "cell_type": "code",
      "source": [
        "data = {\n",
        "    \"name\": \"John Doe\",           # String\n",
        "    \"age\": 28,                    # Number\n",
        "    \"hobbies\": [\"reading\", \"swimming\", \"coding\"],  # List of strings\n",
        "    \"scores\": [85, 90, 78, 23, 34, 5, 67],       # List of numbers\n",
        "    \"address\": {\n",
        "        \"city\": \"New York\",       # Nested dictionary with strings\n",
        "        \"zip_code\": 10001         # Number\n",
        "    },\n",
        "    \"graduated\": True,            # Boolean value\n",
        "    \"languages\": [\"English\", \"Spanish\"]  # List of strings\n",
        "}"
      ],
      "metadata": {
        "id": "JVW-9erTdKhG"
      },
      "execution_count": null,
      "outputs": []
    },
    {
      "cell_type": "code",
      "source": [
        "# print scores if it is more than 50"
      ],
      "metadata": {
        "id": "Ga1D_UV6dhW-"
      },
      "execution_count": null,
      "outputs": []
    },
    {
      "cell_type": "code",
      "source": [],
      "metadata": {
        "id": "ZGBgrcPsdmq2"
      },
      "execution_count": null,
      "outputs": []
    }
  ]
}