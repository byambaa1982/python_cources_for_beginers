{
 "cells": [
  {
   "cell_type": "markdown",
   "metadata": {},
   "source": [
    "<a href=\"https://colab.research.google.com/github/your-repo/python_basics_lists_if_else_loops_easier.ipynb\" target=\"_parent\"><img src=\"https://colab.research.google.com/assets/colab-badge.svg\" alt=\"Open In Colab\"/></a>\n",
    "\n",
    "# Python Basics: Lists, If-Else, and Loops\n",
    "This notebook is beginner-friendly, with easier tasks and step-by-step guidance.\n",
    "\n",
    "## Task 1: Creating and Accessing Lists\n",
    "Write a program to create a list of three of your favorite foods and print each food item.\n",
    "\n",
    "### Instructions\n",
    "- Complete the `favorite_foods` list below by adding 3 foods.\n",
    "- Use a `for` loop to print each food on a new line."
   ]
  },
  {
   "cell_type": "code",
   "execution_count": null,
   "metadata": {
    "vscode": {
     "languageId": "plaintext"
    }
   },
   "outputs": [],
   "source": [
    "\n",
    "\n",
    "# Partial Code\n",
    "favorite_foods = [\"pizza\", \"sushi\", \"\"]  # Add one more food here\n",
    "for food in favorite_foods:\n",
    "    print(food)  # This will print each food in the list\n",
    "\n"
   ]
  },
  {
   "cell_type": "markdown",
   "metadata": {},
   "source": [
    "# ## Task 2: Checking for an Item in a List\n",
    "# Write a program that checks if a specific food is in your list of favorite foods.\n",
    "\n",
    "# ### Instructions\n",
    "# - Use the `favorite_foods` list from Task 1.\n",
    "# - Ask the user to input a food name.\n",
    "# - Use `if \"word\" in list` to check if the food is in the list."
   ]
  }
 ],
 "metadata": {
  "language_info": {
   "name": "python"
  }
 },
 "nbformat": 4,
 "nbformat_minor": 2
}
