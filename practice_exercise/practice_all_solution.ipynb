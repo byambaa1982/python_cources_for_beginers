{
 "cells": [
  {
   "cell_type": "markdown",
   "metadata": {
    "colab_type": "text",
    "id": "view-in-github"
   },
   "source": [
    "<a href=\"https://colab.research.google.com/github/byambaa1982/python_cources_for_beginers/blob/main/practice_exercise/practice_all_solution.ipynb\" target=\"_parent\"><img src=\"https://colab.research.google.com/assets/colab-badge.svg\" alt=\"Open In Colab\"/></a>"
   ]
  },
  {
   "cell_type": "markdown",
   "metadata": {
    "id": "_PaeU0AJYcV3"
   },
   "source": [
    "## Task 1: Working with Lists\n",
    "Write a program that creates a list of three of your favorite fruits, then prints each fruit on a separate line.\n",
    "\n",
    "### Instructions\n",
    "- Create a list called `favorite_fruits` with three different fruit names.\n",
    "- Use a loop to print each fruit from the list on a new line.\n"
   ]
  },
  {
   "cell_type": "code",
   "execution_count": null,
   "metadata": {
    "colab": {
     "base_uri": "https://localhost:8080/"
    },
    "id": "-iFJNRV0YfCr",
    "outputId": "e9edeb7e-227a-4c7a-e1b4-b66fdd8c8300"
   },
   "outputs": [
    {
     "name": "stdout",
     "output_type": "stream",
     "text": [
      "apple\n",
      "banana\n",
      "cherry\n"
     ]
    }
   ],
   "source": [
    "# Solution\n",
    "favorite_fruits = [\"apple\", \"banana\", \"cherry\"]\n",
    "for fruit in favorite_fruits:\n",
    "    print(fruit)"
   ]
  },
  {
   "cell_type": "markdown",
   "metadata": {
    "id": "JtnHqhLyYtZh"
   },
   "source": [
    "## Task 2: Modifying Lists\n",
    "Write a program that adds a new fruit to the list and then prints the updated list.\n",
    "\n",
    "### Instructions\n",
    "- Start with the `favorite_fruits` list you created.\n",
    "- Use the `append()` method to add another fruit to the list.\n",
    "- Print the entire list to see the updated version."
   ]
  },
  {
   "cell_type": "code",
   "execution_count": null,
   "metadata": {
    "colab": {
     "base_uri": "https://localhost:8080/"
    },
    "id": "1-anIVkNYqJy",
    "outputId": "b14940b3-c58b-4663-a046-73bbba41757e"
   },
   "outputs": [
    {
     "name": "stdout",
     "output_type": "stream",
     "text": [
      "Updated list of fruits: ['apple', 'banana', 'cherry', 'orange']\n"
     ]
    }
   ],
   "source": [
    "# Solution\n",
    "favorite_fruits.append(\"orange\")\n",
    "print(\"Updated list of fruits:\", favorite_fruits)"
   ]
  },
  {
   "cell_type": "markdown",
   "metadata": {
    "id": "KDzRa5PlY-sN"
   },
   "source": [
    "## Task 3: Working with Dictionaries\n",
    "Write a program that creates a dictionary with three of your favorite books and their authors. Then, print each book and its author.\n",
    "\n",
    "### Instructions\n",
    "- Create a dictionary called `favorite_books` where the keys are book titles and the values are author names.\n",
    "- Use a loop to print each book and its author in the format: \"Book: [title], Author: [author]\".\n"
   ]
  },
  {
   "cell_type": "code",
   "execution_count": null,
   "metadata": {
    "colab": {
     "base_uri": "https://localhost:8080/"
    },
    "id": "9wwf4mjOYrZ8",
    "outputId": "3bc0d08e-1926-49a0-a8a4-e3345dceade4"
   },
   "outputs": [
    {
     "name": "stdout",
     "output_type": "stream",
     "text": [
      "Book: Harry Potter , Author: J.K. Rowling\n",
      "Book: The Hobbit , Author: J.R.R. Tolkien\n",
      "Book: Charlotte's Web , Author: E.B. White\n"
     ]
    }
   ],
   "source": [
    "# Solution\n",
    "favorite_books = {\n",
    "    \"Harry Potter\": \"J.K. Rowling\",\n",
    "    \"The Hobbit\": \"J.R.R. Tolkien\",\n",
    "    \"Charlotte's Web\": \"E.B. White\"\n",
    "}\n",
    "for book, author in favorite_books.items():\n",
    "    print(\"Book:\", book, \", Author:\", author)"
   ]
  },
  {
   "cell_type": "markdown",
   "metadata": {
    "id": "fu45lDBEZb4N"
   },
   "source": [
    "## Task 4: Adding to a Dictionary\n",
    "\n",
    "Write a program that adds another book and author to the `favorite_books` dictionary and then prints the updated dictionary.\n",
    "\n",
    "### Instructions\n",
    "\n",
    "- Use the `favorite_books` dictionary from the previous task.\n",
    "- Add a new book title and author to the dictionary.\n",
    "- Print the entire dictionary to see the updated version."
   ]
  },
  {
   "cell_type": "code",
   "execution_count": null,
   "metadata": {
    "colab": {
     "base_uri": "https://localhost:8080/"
    },
    "id": "dB4fcU1AZeNS",
    "outputId": "526c6311-fa3d-4017-cb48-9bebdc1505b2"
   },
   "outputs": [
    {
     "name": "stdout",
     "output_type": "stream",
     "text": [
      "Updated dictionary of favorite books: {'Harry Potter': 'J.K. Rowling', 'The Hobbit': 'J.R.R. Tolkien', \"Charlotte's Web\": 'E.B. White', 'Matilda': 'Roald Dahl'}\n"
     ]
    }
   ],
   "source": [
    "# Solution\n",
    "favorite_books[\"Matilda\"] = \"Roald Dahl\"\n",
    "print(\"Updated dictionary of favorite books:\", favorite_books)"
   ]
  },
  {
   "cell_type": "markdown",
   "metadata": {
    "id": "9nA3nMqsZI_l"
   },
   "source": [
    "## Task 5: Creating a Simple Function\n",
    "Write a function called `greet_user` that takes a person's name as input and prints a greeting message.\n",
    "\n",
    "### Instructions\n",
    "- Define a function named `greet_user` that accepts a parameter `name`.\n",
    "- Inside the function, print a message that says \"Hello, [name]!\".\n",
    "- Test the function by calling it with your name as an argument."
   ]
  },
  {
   "cell_type": "code",
   "execution_count": null,
   "metadata": {
    "colab": {
     "base_uri": "https://localhost:8080/"
    },
    "id": "v438vXNcZLpI",
    "outputId": "a3c7764b-3f6a-4b38-e16a-7216e87e28d9"
   },
   "outputs": [
    {
     "name": "stdout",
     "output_type": "stream",
     "text": [
      "Hello, Alice!\n"
     ]
    }
   ],
   "source": [
    "# Solution\n",
    "def greet_user(name):\n",
    "    print(\"Hello, \" + name + \"!\")\n",
    "\n",
    "# Testing the function\n",
    "greet_user(\"Alice\")"
   ]
  },
  {
   "cell_type": "markdown",
   "metadata": {
    "id": "DSuCyQgeZa5a"
   },
   "source": [
    "## Task 6: Function with Return Value\n",
    "Write a function called `add_numbers` that takes two numbers as input, adds them together, and returns the result.\n",
    "\n",
    "### Instructions\n",
    "- Define a function named `add_numbers` that accepts two parameters: `num1` and `num2`.\n",
    "- Inside the function, add `num1` and `num2` and return the result.\n",
    "- Test the function by calling it with two numbers and printing the result.\n"
   ]
  },
  {
   "cell_type": "code",
   "execution_count": null,
   "metadata": {
    "colab": {
     "base_uri": "https://localhost:8080/"
    },
    "id": "8RfwvtNiZdwY",
    "outputId": "78e698ac-300c-4cff-c04b-8cb55b9682a5"
   },
   "outputs": [
    {
     "name": "stdout",
     "output_type": "stream",
     "text": [
      "The sum is: 8\n"
     ]
    }
   ],
   "source": [
    "# Solution\n",
    "def add_numbers(num1, num2):\n",
    "    return num1 + num2\n",
    "\n",
    "# Testing the function\n",
    "result = add_numbers(5, 3)\n",
    "print(\"The sum is:\", result)"
   ]
  }
 ],
 "metadata": {
  "colab": {
   "authorship_tag": "ABX9TyNoVhjZDSQjUkK/NqkKPZdQ",
   "include_colab_link": true,
   "provenance": []
  },
  "kernelspec": {
   "display_name": "Python 3",
   "name": "python3"
  },
  "language_info": {
   "name": "python"
  }
 },
 "nbformat": 4,
 "nbformat_minor": 0
}
