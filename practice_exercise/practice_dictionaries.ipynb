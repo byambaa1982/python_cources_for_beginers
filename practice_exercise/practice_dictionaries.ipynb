{
  "nbformat": 4,
  "nbformat_minor": 0,
  "metadata": {
    "colab": {
      "provenance": [],
      "include_colab_link": true
    },
    "kernelspec": {
      "name": "python3",
      "display_name": "Python 3"
    },
    "language_info": {
      "name": "python"
    }
  },
  "cells": [
    {
      "cell_type": "markdown",
      "metadata": {
        "id": "view-in-github",
        "colab_type": "text"
      },
      "source": [
        "<a href=\"https://colab.research.google.com/github/byambaa1982/python_cources_for_beginers/blob/class_zero_enko/practice_exercise/practice_dictionaries.ipynb\" target=\"_parent\"><img src=\"https://colab.research.google.com/assets/colab-badge.svg\" alt=\"Open In Colab\"/></a>"
      ]
    },
    {
      "cell_type": "code",
      "source": [
        "# A dictionary with some fruits and their colors\n",
        "fruit_colors = {\n",
        "    \"apple\": \"red\",\n",
        "    \"banana\": \"yellow\",\n",
        "    \"grape\": \"purple\",\n",
        "    \"orange\": \"orange\",\n",
        "    \"kiwi\": \"green\"\n",
        "}\n",
        "print(fruit_colors[\"apple\"])\n",
        "\n"
      ],
      "metadata": {
        "id": "iCLvyna3ZMfZ",
        "outputId": "61b1caaf-fa51-44b3-e180-f3209419eef3",
        "colab": {
          "base_uri": "https://localhost:8080/"
        }
      },
      "execution_count": 1,
      "outputs": [
        {
          "output_type": "stream",
          "name": "stdout",
          "text": [
            "red\n"
          ]
        }
      ]
    },
    {
      "cell_type": "markdown",
      "source": [
        "# Task 1: Adding to a Dictionary\n",
        "\n",
        "Task: Write a Python dictionary to store three favorite animals and the sounds they make (e.g., \"dog\": \"bark\"). Then, add another animal and its sound to the dictionary."
      ],
      "metadata": {
        "id": "_PaeU0AJYcV3"
      }
    },
    {
      "cell_type": "code",
      "source": [
        "animal_sounds = {\n",
        "    \"dog\": \"bark\",\n",
        "    \"horse\": \"neigh\",\n",
        "    \"cat\": \"meow\"\n",
        "}\n",
        "\n"
      ],
      "metadata": {
        "id": "-iFJNRV0YfCr"
      },
      "execution_count": 2,
      "outputs": []
    },
    {
      "cell_type": "code",
      "source": [
        "animal_sounds"
      ],
      "metadata": {
        "id": "TnrMprJ-VBX4",
        "outputId": "350b79ca-d7fd-40b2-f228-55816daa3e6c",
        "colab": {
          "base_uri": "https://localhost:8080/"
        }
      },
      "execution_count": 3,
      "outputs": [
        {
          "output_type": "execute_result",
          "data": {
            "text/plain": [
              "{'dog': 'bark', 'horse': 'neigh', 'cat': 'meow'}"
            ]
          },
          "metadata": {},
          "execution_count": 3
        }
      ]
    },
    {
      "cell_type": "markdown",
      "source": [
        "## Extra: Create a dictionary to store three types of vehicles and their top speeds (e.g., \"car\": 120). Add another vehicle and its speed to the dictionary."
      ],
      "metadata": {
        "id": "4-M8vZoaW0Wc"
      }
    },
    {
      "cell_type": "code",
      "source": [
        "vehicle_speeds = {\n",
        " # your code is here\n",
        "}"
      ],
      "metadata": {
        "id": "LXG7kgNgW9HS"
      },
      "execution_count": null,
      "outputs": []
    },
    {
      "cell_type": "markdown",
      "source": [
        " # Task 2: Accessing Values\n",
        "\n",
        "Task: Given the dictionary below, print out the color of the banana."
      ],
      "metadata": {
        "id": "JtnHqhLyYtZh"
      }
    },
    {
      "cell_type": "code",
      "source": [
        "fruit_colors = {\n",
        "  \"apple\": \"red\",\n",
        "  \"banana\": \"yellow\",\n",
        "  \"grape\": \"purple\"\n",
        "}\n",
        "\n"
      ],
      "metadata": {
        "id": "1-anIVkNYqJy"
      },
      "execution_count": 6,
      "outputs": []
    },
    {
      "cell_type": "code",
      "source": [
        "# your code is here\n",
        "\n",
        "fruit_colors['banana']"
      ],
      "metadata": {
        "id": "phJ0DyBTVVX8",
        "outputId": "3bd26d2a-1eac-45cb-8d40-f740f87604d1",
        "colab": {
          "base_uri": "https://localhost:8080/",
          "height": 35
        }
      },
      "execution_count": 7,
      "outputs": [
        {
          "output_type": "execute_result",
          "data": {
            "text/plain": [
              "'yellow'"
            ],
            "application/vnd.google.colaboratory.intrinsic+json": {
              "type": "string"
            }
          },
          "metadata": {},
          "execution_count": 7
        }
      ]
    },
    {
      "cell_type": "markdown",
      "source": [
        "## Extra: Use the dictionary below and print the capital city of France."
      ],
      "metadata": {
        "id": "pcUdyTAGXNcJ"
      }
    },
    {
      "cell_type": "code",
      "source": [
        "capitals_country = {\n",
        "    \"USA\": \"Washington, D.C.\",\n",
        "    \"France\": \"Paris\",\n",
        "    \"Japan\": \"Tokyo\"\n",
        "}\n"
      ],
      "metadata": {
        "id": "eg3P5BfuXItr"
      },
      "execution_count": 18,
      "outputs": []
    },
    {
      "cell_type": "code",
      "source": [
        "capitals_country['France']"
      ],
      "metadata": {
        "id": "0lmKV_fUw7i-",
        "outputId": "a70e0334-e0a2-4b16-f782-f7e237291430",
        "colab": {
          "base_uri": "https://localhost:8080/",
          "height": 35
        }
      },
      "execution_count": 20,
      "outputs": [
        {
          "output_type": "execute_result",
          "data": {
            "text/plain": [
              "'Paris'"
            ],
            "application/vnd.google.colaboratory.intrinsic+json": {
              "type": "string"
            }
          },
          "metadata": {},
          "execution_count": 20
        }
      ]
    },
    {
      "cell_type": "markdown",
      "source": [
        "# Task 3: Looping through a Dictionary\n",
        "\n",
        "Task: Use a for loop to print out all the fruit names from the dictionary below."
      ],
      "metadata": {
        "id": "KDzRa5PlY-sN"
      }
    },
    {
      "cell_type": "code",
      "source": [
        "fruit_colors = {\n",
        "    \"apple\": \"red\",\n",
        "    \"banana\": \"yellow\",\n",
        "    \"grape\": \"purple\"\n",
        "}\n"
      ],
      "metadata": {
        "id": "9wwf4mjOYrZ8"
      },
      "execution_count": 11,
      "outputs": []
    },
    {
      "cell_type": "code",
      "source": [
        "# your code is here\n",
        "\n",
        "for fruit in fruit_colors:\n",
        "    print(fruit)"
      ],
      "metadata": {
        "colab": {
          "base_uri": "https://localhost:8080/"
        },
        "id": "70WoQjPTT4nP",
        "outputId": "6580b637-4a97-49b4-a953-d78bf1dd319e"
      },
      "execution_count": 12,
      "outputs": [
        {
          "output_type": "stream",
          "name": "stdout",
          "text": [
            "apple\n",
            "banana\n",
            "grape\n"
          ]
        }
      ]
    },
    {
      "cell_type": "markdown",
      "source": [
        "## Extra: Use a for loop to print out all the countries from the dictionary below."
      ],
      "metadata": {
        "id": "nLIZ0VG0XXcw"
      }
    },
    {
      "cell_type": "code",
      "source": [
        "capitals_country = {\n",
        "    \"USA\": \"Washington, D.C.\",\n",
        "    \"France\": \"Paris\",\n",
        "    \"Japan\": \"Tokyo\"\n",
        "}\n"
      ],
      "metadata": {
        "id": "tSeC-XrdXZ5R"
      },
      "execution_count": 13,
      "outputs": []
    },
    {
      "cell_type": "code",
      "source": [
        "for capitals in capitals_country:\n",
        "  print(capitals)"
      ],
      "metadata": {
        "id": "7l13QUpaxOz9",
        "outputId": "923fd3bb-34e9-4720-e3d5-0c5d9c6b45bd",
        "colab": {
          "base_uri": "https://localhost:8080/"
        }
      },
      "execution_count": 21,
      "outputs": [
        {
          "output_type": "stream",
          "name": "stdout",
          "text": [
            "USA\n",
            "France\n",
            "Japan\n"
          ]
        }
      ]
    },
    {
      "cell_type": "markdown",
      "source": [
        "# Task 4: Updating a Value\n",
        "Task: The dictionary below has the wrong color for the grape. Change the color of the grape to \"green\"."
      ],
      "metadata": {
        "id": "04n3CjvvZTBr"
      }
    },
    {
      "cell_type": "code",
      "source": [
        "fruit_colors = {\n",
        "    \"apple\": \"red\",\n",
        "    \"banana\": \"yellow\",\n",
        "    \"grape\": \"purple\"\n",
        "}"
      ],
      "metadata": {
        "id": "DRgqAE9LZV3b"
      },
      "execution_count": 22,
      "outputs": []
    },
    {
      "cell_type": "code",
      "source": [
        "# your code is here\n",
        "fruit_colors[\"grape\"] = \"green\""
      ],
      "metadata": {
        "id": "YfJUTYmLUE9e"
      },
      "execution_count": 27,
      "outputs": []
    },
    {
      "cell_type": "code",
      "source": [
        "fruit_colors"
      ],
      "metadata": {
        "id": "iTAS1HjgVly6",
        "outputId": "30d8dc4d-7018-40c2-a043-9023ae26cef3",
        "colab": {
          "base_uri": "https://localhost:8080/"
        }
      },
      "execution_count": 28,
      "outputs": [
        {
          "output_type": "execute_result",
          "data": {
            "text/plain": [
              "{'apple': 'red', 'banana': 'yellow', 'grape': 'green'}"
            ]
          },
          "metadata": {},
          "execution_count": 28
        }
      ]
    },
    {
      "cell_type": "markdown",
      "source": [
        "## Extra: The top speed for the bike is incorrect in the dictionary below. Change it to 70."
      ],
      "metadata": {
        "id": "-i_UuqfsXhi0"
      }
    },
    {
      "cell_type": "code",
      "source": [
        "vehicle_speeds = {\n",
        "    \"car\": 120,\n",
        "    \"bike\": 60,\n",
        "    \"bus\": 80\n",
        "}\n"
      ],
      "metadata": {
        "id": "MqQPdhsGXlB-"
      },
      "execution_count": 29,
      "outputs": []
    },
    {
      "cell_type": "code",
      "source": [
        "vehicle_speeds['bike'] = '70'"
      ],
      "metadata": {
        "id": "0Nl7OTu31GFM"
      },
      "execution_count": 30,
      "outputs": []
    },
    {
      "cell_type": "code",
      "source": [
        "vehicle_speeds"
      ],
      "metadata": {
        "id": "K8-fvAQ01RVM",
        "outputId": "f43a9716-303f-4f31-82ee-ed00f3106144",
        "colab": {
          "base_uri": "https://localhost:8080/"
        }
      },
      "execution_count": 31,
      "outputs": [
        {
          "output_type": "execute_result",
          "data": {
            "text/plain": [
              "{'car': 120, 'bike': '70', 'bus': 80}"
            ]
          },
          "metadata": {},
          "execution_count": 31
        }
      ]
    },
    {
      "cell_type": "markdown",
      "source": [
        "# Task 5: Checking for a Key\n",
        "\n",
        "Task: Write a program to check if the fruit \"orange\" is in the dictionary. If it is, print \"Orange is in the list!\", otherwise print \"Orange is not in the list!\"."
      ],
      "metadata": {
        "id": "fu45lDBEZb4N"
      }
    },
    {
      "cell_type": "code",
      "source": [
        "fruit_colors = {\n",
        "    \"apple\": \"red\",\n",
        "    \"banana\": \"yellow\",\n",
        "    \"grape\": \"green\"\n",
        "}\n"
      ],
      "metadata": {
        "id": "dB4fcU1AZeNS"
      },
      "execution_count": null,
      "outputs": []
    },
    {
      "cell_type": "code",
      "source": [
        "# Your code is here\n",
        "if \"Orange\" in fruit_colors.values():\n",
        "    print(\"Orange is in the list!\")\n",
        "else:\n",
        "    print(\"Orange is not in the list!\")"
      ],
      "metadata": {
        "colab": {
          "base_uri": "https://localhost:8080/"
        },
        "id": "NyFw2p3wUPQb",
        "outputId": "808012ef-a418-4182-c3a2-31387ab1dfc7"
      },
      "execution_count": 33,
      "outputs": [
        {
          "output_type": "stream",
          "name": "stdout",
          "text": [
            "Orange is not in the list!\n"
          ]
        }
      ]
    },
    {
      "cell_type": "markdown",
      "source": [
        "## Extra: Write a program to check if \"Canada\" is in the capitals dictionary. If it is, print \"Canada is in the list!\", otherwise print \"Canada is not in the list!\"."
      ],
      "metadata": {
        "id": "qDUy8g3QXqzy"
      }
    },
    {
      "cell_type": "code",
      "source": [
        "capitals = {\n",
        "    \"USA\": \"Washington, D.C.\",\n",
        "    \"France\": \"Paris\",\n",
        "    \"Japan\": \"Tokyo\"\n",
        "}\n"
      ],
      "metadata": {
        "id": "QzRAiKPQXqRc"
      },
      "execution_count": 35,
      "outputs": []
    },
    {
      "cell_type": "code",
      "source": [
        "if 'Canada' in capitals.values():\n",
        "    print(\"Canada is in the list!\")\n",
        "else:\n",
        "    print('Canada is not in the list')"
      ],
      "metadata": {
        "id": "NydpTKB01g4t",
        "outputId": "63a08b22-8982-460c-c509-2f4a7070c2b1",
        "colab": {
          "base_uri": "https://localhost:8080/"
        }
      },
      "execution_count": 37,
      "outputs": [
        {
          "output_type": "stream",
          "name": "stdout",
          "text": [
            "Canada is not in the list\n"
          ]
        }
      ]
    },
    {
      "cell_type": "markdown",
      "source": [
        "# Task 6: Counting with Dictionaries\n",
        "\n",
        "Task: Create a dictionary to store how many toys each child has. Example:\n"
      ],
      "metadata": {
        "id": "n7XVubweZkUx"
      }
    },
    {
      "cell_type": "code",
      "source": [
        "toy_count = {\n",
        "    \"Alice\": 5,\n",
        "    \"Bob\": 3,\n",
        "    \"Charlie\": 7\n",
        "}\n"
      ],
      "metadata": {
        "id": "vZkPZuKvZjxG"
      },
      "execution_count": 38,
      "outputs": []
    },
    {
      "cell_type": "code",
      "source": [
        "# Your code is here\n",
        "toy_count[\"Bob\"] += 2"
      ],
      "metadata": {
        "id": "Hk_grBbPUuth"
      },
      "execution_count": 43,
      "outputs": []
    },
    {
      "cell_type": "code",
      "source": [
        "toy_count"
      ],
      "metadata": {
        "colab": {
          "base_uri": "https://localhost:8080/"
        },
        "id": "x8jgH9lAUxh1",
        "outputId": "1c1aec6c-02bd-40a9-d429-635736172a1d"
      },
      "execution_count": 44,
      "outputs": [
        {
          "output_type": "execute_result",
          "data": {
            "text/plain": [
              "{'Alice': 5, 'Bob': 9, 'Charlie': 7}"
            ]
          },
          "metadata": {},
          "execution_count": 44
        }
      ]
    },
    {
      "cell_type": "markdown",
      "source": [
        "## Extra: Create a dictionary to store the scores of students in a quiz. Add 5 points to Alice’s score, and print the total score of Charlie."
      ],
      "metadata": {
        "id": "SxqMcSNIYFM4"
      }
    },
    {
      "cell_type": "code",
      "source": [
        "quiz_scores = {\n",
        "    \"Alice\": 10,\n",
        "    \"Bob\": 8,\n",
        "    \"Charlie\": 15\n",
        "}\n"
      ],
      "metadata": {
        "id": "nm2l230laIub"
      },
      "execution_count": 45,
      "outputs": []
    },
    {
      "cell_type": "code",
      "source": [
        "quiz_scores['Alice'] +=5"
      ],
      "metadata": {
        "id": "IriRn74q2PDJ"
      },
      "execution_count": 46,
      "outputs": []
    },
    {
      "cell_type": "code",
      "source": [
        "quiz_scores"
      ],
      "metadata": {
        "id": "q_Ypk6gB2WrH",
        "outputId": "ad1d74f9-12c0-4824-c242-364323b3ef16",
        "colab": {
          "base_uri": "https://localhost:8080/"
        }
      },
      "execution_count": 47,
      "outputs": [
        {
          "output_type": "execute_result",
          "data": {
            "text/plain": [
              "{'Alice': 15, 'Bob': 8, 'Charlie': 15}"
            ]
          },
          "metadata": {},
          "execution_count": 47
        }
      ]
    }
  ]
}