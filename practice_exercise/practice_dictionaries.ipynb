{
  "nbformat": 4,
  "nbformat_minor": 0,
  "metadata": {
    "colab": {
      "provenance": [],
      "include_colab_link": true
    },
    "kernelspec": {
      "name": "python3",
      "display_name": "Python 3"
    },
    "language_info": {
      "name": "python"
    }
  },
  "cells": [
    {
      "cell_type": "markdown",
      "metadata": {
        "id": "view-in-github",
        "colab_type": "text"
      },
      "source": [
        "<a href=\"https://colab.research.google.com/github/byambaa1982/python_cources_for_beginers/blob/enkhuils/practice_exercise/practice_dictionaries.ipynb\" target=\"_parent\"><img src=\"https://colab.research.google.com/assets/colab-badge.svg\" alt=\"Open In Colab\"/></a>"
      ]
    },
    {
      "cell_type": "code",
      "source": [
        "# A dictionary with some fruits and their colors\n",
        "fruit_colors = {\n",
        "    \"apple\": \"red\",\n",
        "    \"banana\": \"yellow\",\n",
        "    \"grape\": \"purple\",\n",
        "    \"orange\": \"orange\",\n",
        "    \"kiwi\": \"green\"\n",
        "}\n",
        "print(fruit_colors[\"apple\"])\n",
        "\n"
      ],
      "metadata": {
        "id": "iCLvyna3ZMfZ",
        "outputId": "cfb76e1d-d3df-4cd0-f3f4-fb30389f8c5a",
        "colab": {
          "base_uri": "https://localhost:8080/"
        }
      },
      "execution_count": 1,
      "outputs": [
        {
          "output_type": "stream",
          "name": "stdout",
          "text": [
            "red\n"
          ]
        }
      ]
    },
    {
      "cell_type": "markdown",
      "source": [
        "# Task 1: Adding to a Dictionary\n",
        "\n",
        "Task: Write a Python dictionary to store three favorite animals and the sounds they make (e.g., \"dog\": \"bark\"). Then, add another animal and its sound to the dictionary."
      ],
      "metadata": {
        "id": "_PaeU0AJYcV3"
      }
    },
    {
      "cell_type": "code",
      "source": [
        "animal_sounds = {\n",
        "    \"Cow\" : \"Moo\",\n",
        "    \"Pig\" : \"Oink\",\n",
        "    \"Cat\" : \"Meow\"\n",
        "}\n"
      ],
      "metadata": {
        "id": "-iFJNRV0YfCr"
      },
      "execution_count": 6,
      "outputs": []
    },
    {
      "cell_type": "code",
      "source": [
        "animal_sounds"
      ],
      "metadata": {
        "id": "TnrMprJ-VBX4",
        "outputId": "d6de8c09-41ba-4d8a-aeb9-37c9465b7436",
        "colab": {
          "base_uri": "https://localhost:8080/"
        }
      },
      "execution_count": null,
      "outputs": [
        {
          "output_type": "execute_result",
          "data": {
            "text/plain": [
              "{'dog': 'bark', 'cat': 'meow', 'cow': 'moo'}"
            ]
          },
          "metadata": {},
          "execution_count": 18
        }
      ]
    },
    {
      "cell_type": "markdown",
      "source": [
        "## Extra: Create a dictionary to store three types of vehicles and their top speeds (e.g., \"car\": 120). Add another vehicle and its speed to the dictionary."
      ],
      "metadata": {
        "id": "4-M8vZoaW0Wc"
      }
    },
    {
      "cell_type": "code",
      "source": [
        "vehicle_speeds = {\n",
        "\"Airplane\" : \"600 mph\",\n",
        "\"Bus\" : \"50 mph\",\n",
        "\"Train\" : \"125 mph\"\n",
        "}\n",
        "vehicle_speeds[\"Car\"] = \"120 mph\"\n",
        "vehicle_speeds"
      ],
      "metadata": {
        "id": "LXG7kgNgW9HS",
        "outputId": "dcea7985-fd2c-435d-d481-6835c9ee353b",
        "colab": {
          "base_uri": "https://localhost:8080/"
        }
      },
      "execution_count": 8,
      "outputs": [
        {
          "output_type": "execute_result",
          "data": {
            "text/plain": [
              "{'Airplane': '600 mph', 'Bus': '50 mph', 'Train': '125 mph', 'Car': '120 mph'}"
            ]
          },
          "metadata": {},
          "execution_count": 8
        }
      ]
    },
    {
      "cell_type": "markdown",
      "source": [
        " # Task 2: Accessing Values\n",
        "\n",
        "Task: Given the dictionary below, print out the color of the banana."
      ],
      "metadata": {
        "id": "JtnHqhLyYtZh"
      }
    },
    {
      "cell_type": "code",
      "source": [
        "fruit_colors = {\n",
        "    \"apple\": \"red\",\n",
        "    \"banana\": \"yellow\",\n",
        "    \"grape\": \"purple\"\n",
        "}\n"
      ],
      "metadata": {
        "id": "1-anIVkNYqJy"
      },
      "execution_count": null,
      "outputs": []
    },
    {
      "cell_type": "code",
      "source": [
        "# your code is here"
      ],
      "metadata": {
        "id": "phJ0DyBTVVX8",
        "outputId": "45a98438-aa3d-494b-fce9-81949e60b0d8",
        "colab": {
          "base_uri": "https://localhost:8080/",
          "height": 35
        }
      },
      "execution_count": null,
      "outputs": [
        {
          "output_type": "execute_result",
          "data": {
            "text/plain": [
              "'yellow'"
            ],
            "application/vnd.google.colaboratory.intrinsic+json": {
              "type": "string"
            }
          },
          "metadata": {},
          "execution_count": 20
        }
      ]
    },
    {
      "cell_type": "markdown",
      "source": [
        "## Extra: Use the dictionary below and print the capital city of France."
      ],
      "metadata": {
        "id": "pcUdyTAGXNcJ"
      }
    },
    {
      "cell_type": "code",
      "source": [
        "capitals = {\n",
        "    \"USA\": \"Washington, D.C.\",\n",
        "    \"France\": \"Paris\",\n",
        "    \"Japan\": \"Tokyo\"\n",
        "}\n",
        "\n"
      ],
      "metadata": {
        "id": "eg3P5BfuXItr"
      },
      "execution_count": null,
      "outputs": []
    },
    {
      "cell_type": "markdown",
      "source": [
        "# Task 3: Looping through a Dictionary\n",
        "\n",
        "Task: Use a for loop to print out all the fruit names from the dictionary below."
      ],
      "metadata": {
        "id": "KDzRa5PlY-sN"
      }
    },
    {
      "cell_type": "code",
      "source": [
        "fruit_colors = {\n",
        "    \"apple\": \"red\",\n",
        "    \"banana\": \"yellow\",\n",
        "    \"grape\": \"purple\"\n",
        "}\n"
      ],
      "metadata": {
        "id": "9wwf4mjOYrZ8"
      },
      "execution_count": null,
      "outputs": []
    },
    {
      "cell_type": "code",
      "source": [
        "# your code is here"
      ],
      "metadata": {
        "colab": {
          "base_uri": "https://localhost:8080/"
        },
        "id": "70WoQjPTT4nP",
        "outputId": "e1f32dc7-b473-4b10-cbeb-31b0ddc581fa"
      },
      "execution_count": null,
      "outputs": [
        {
          "output_type": "stream",
          "name": "stdout",
          "text": [
            "apple\n",
            "banana\n",
            "grape\n"
          ]
        }
      ]
    },
    {
      "cell_type": "markdown",
      "source": [
        "## Extra: Use a for loop to print out all the countries from the dictionary below."
      ],
      "metadata": {
        "id": "nLIZ0VG0XXcw"
      }
    },
    {
      "cell_type": "code",
      "source": [
        "capitals = {\n",
        "    \"USA\": \"Washington, D.C.\",\n",
        "    \"France\": \"Paris\",\n",
        "    \"Japan\": \"Tokyo\"\n",
        "}\n",
        "print(capitals[\"USA\"])\n"
      ],
      "metadata": {
        "id": "tSeC-XrdXZ5R",
        "outputId": "d7d66e2d-2ccd-433d-8487-62ec1e03c33b",
        "colab": {
          "base_uri": "https://localhost:8080/"
        }
      },
      "execution_count": 9,
      "outputs": [
        {
          "output_type": "stream",
          "name": "stdout",
          "text": [
            "Washington, D.C.\n"
          ]
        }
      ]
    },
    {
      "cell_type": "markdown",
      "source": [
        "# Task 4: Updating a Value\n",
        "Task: The dictionary below has the wrong color for the grape. Change the color of the grape to \"green\"."
      ],
      "metadata": {
        "id": "04n3CjvvZTBr"
      }
    },
    {
      "cell_type": "code",
      "source": [
        "fruit_colors = {\n",
        "    \"apple\": \"red\",\n",
        "    \"banana\": \"yellow\",\n",
        "    \"grape\": \"purple\"\n",
        "}\n",
        "for fruit in fruit_colors.keys():\n",
        "  print(fruit)"
      ],
      "metadata": {
        "id": "DRgqAE9LZV3b",
        "outputId": "8650d7f0-bd91-47d8-f30b-b14e3b3cf31b",
        "colab": {
          "base_uri": "https://localhost:8080/"
        }
      },
      "execution_count": 10,
      "outputs": [
        {
          "output_type": "stream",
          "name": "stdout",
          "text": [
            "apple\n",
            "banana\n",
            "grape\n"
          ]
        }
      ]
    },
    {
      "cell_type": "code",
      "source": [
        "for fruit in fruit_colors.values():\n",
        "  print(fruit)"
      ],
      "metadata": {
        "id": "3aAfsL8GbtUx",
        "outputId": "02deb3a8-a258-4fcb-a2a1-45cd7709baa4",
        "colab": {
          "base_uri": "https://localhost:8080/"
        }
      },
      "execution_count": 11,
      "outputs": [
        {
          "output_type": "stream",
          "name": "stdout",
          "text": [
            "red\n",
            "yellow\n",
            "purple\n"
          ]
        }
      ]
    },
    {
      "cell_type": "code",
      "source": [
        "for key, value in fruit_colors.items():\n",
        "  print(f\"Color of {key} is {value}.\")"
      ],
      "metadata": {
        "id": "YfJUTYmLUE9e",
        "outputId": "8cdcee70-af38-4603-90e1-9dff50fb5625",
        "colab": {
          "base_uri": "https://localhost:8080/"
        }
      },
      "execution_count": 12,
      "outputs": [
        {
          "output_type": "stream",
          "name": "stdout",
          "text": [
            "Color of apple is red.\n",
            "Color of banana is yellow.\n",
            "Color of grape is purple.\n"
          ]
        }
      ]
    },
    {
      "cell_type": "code",
      "source": [
        "fruit_colors"
      ],
      "metadata": {
        "id": "iTAS1HjgVly6",
        "outputId": "6a39d783-9184-4ec5-bd4a-09df9a4dd55f",
        "colab": {
          "base_uri": "https://localhost:8080/"
        }
      },
      "execution_count": null,
      "outputs": [
        {
          "output_type": "execute_result",
          "data": {
            "text/plain": [
              "{'apple': 'red', 'banana': 'yellow', 'grape': 'green'}"
            ]
          },
          "metadata": {},
          "execution_count": 23
        }
      ]
    },
    {
      "cell_type": "markdown",
      "source": [
        "## Extra: The top speed for the bike is incorrect in the dictionary below. Change it to 70."
      ],
      "metadata": {
        "id": "-i_UuqfsXhi0"
      }
    },
    {
      "cell_type": "code",
      "source": [
        "vehicle_speeds = {\n",
        "    \"car\": 120,\n",
        "    \"bike\": 60,\n",
        "    \"bus\": 80\n",
        "}\n"
      ],
      "metadata": {
        "id": "MqQPdhsGXlB-"
      },
      "execution_count": null,
      "outputs": []
    },
    {
      "cell_type": "markdown",
      "source": [
        "# Task 5: Checking for a Key\n",
        "\n",
        "Task: Write a program to check if the fruit \"orange\" is in the dictionary. If it is, print \"Orange is in the list!\", otherwise print \"Orange is not in the list!\"."
      ],
      "metadata": {
        "id": "fu45lDBEZb4N"
      }
    },
    {
      "cell_type": "code",
      "source": [
        "fruit_colors = {\n",
        "    \"apple\": \"red\",\n",
        "    \"banana\": \"yellow\",\n",
        "    \"grape\": \"green\"\n",
        "}\n"
      ],
      "metadata": {
        "id": "dB4fcU1AZeNS"
      },
      "execution_count": null,
      "outputs": []
    },
    {
      "cell_type": "code",
      "source": [
        "# Your code is here\n"
      ],
      "metadata": {
        "colab": {
          "base_uri": "https://localhost:8080/"
        },
        "id": "NyFw2p3wUPQb",
        "outputId": "dba8c0c9-0a42-4e87-8fce-0717aac87ee5"
      },
      "execution_count": null,
      "outputs": [
        {
          "output_type": "stream",
          "name": "stdout",
          "text": [
            "Orange is not in the list!\n"
          ]
        }
      ]
    },
    {
      "cell_type": "markdown",
      "source": [
        "## Extra: Write a program to check if \"Canada\" is in the capitals dictionary. If it is, print \"Canada is in the list!\", otherwise print \"Canada is not in the list!\"."
      ],
      "metadata": {
        "id": "qDUy8g3QXqzy"
      }
    },
    {
      "cell_type": "code",
      "source": [
        "capitals = {\n",
        "    \"USA\": \"Washington, D.C.\",\n",
        "    \"France\": \"Paris\",\n",
        "    \"Japan\": \"Tokyo\"\n",
        "}\n"
      ],
      "metadata": {
        "id": "QzRAiKPQXqRc"
      },
      "execution_count": null,
      "outputs": []
    },
    {
      "cell_type": "markdown",
      "source": [
        "# Task 6: Counting with Dictionaries\n",
        "\n",
        "Task: Create a dictionary to store how many toys each child has. Example:\n"
      ],
      "metadata": {
        "id": "n7XVubweZkUx"
      }
    },
    {
      "cell_type": "code",
      "source": [
        "toy_count = {\n",
        "    \"Alice\": 5,\n",
        "    \"Bob\": 3,\n",
        "    \"Charlie\": 7\n",
        "}\n"
      ],
      "metadata": {
        "id": "vZkPZuKvZjxG"
      },
      "execution_count": null,
      "outputs": []
    },
    {
      "cell_type": "code",
      "source": [
        "# Your code is here\n"
      ],
      "metadata": {
        "id": "Hk_grBbPUuth"
      },
      "execution_count": null,
      "outputs": []
    },
    {
      "cell_type": "code",
      "source": [
        "toy_count"
      ],
      "metadata": {
        "colab": {
          "base_uri": "https://localhost:8080/"
        },
        "id": "x8jgH9lAUxh1",
        "outputId": "7b643146-0538-427c-9785-b591171b1594"
      },
      "execution_count": null,
      "outputs": [
        {
          "output_type": "execute_result",
          "data": {
            "text/plain": [
              "{'Alice': 5, 'Bob': 4, 'Charlie': 7}"
            ]
          },
          "metadata": {},
          "execution_count": 16
        }
      ]
    },
    {
      "cell_type": "markdown",
      "source": [
        "## Extra: Create a dictionary to store the scores of students in a quiz. Add 5 points to Alice’s score, and print the total score of Charlie."
      ],
      "metadata": {
        "id": "SxqMcSNIYFM4"
      }
    },
    {
      "cell_type": "code",
      "source": [
        "quiz_scores = {\n",
        "    \"Alice\": 10,\n",
        "    \"Bob\": 8,\n",
        "    \"Charlie\": 15\n",
        "}\n"
      ],
      "metadata": {
        "id": "nm2l230laIub"
      },
      "execution_count": null,
      "outputs": []
    }
  ]
}