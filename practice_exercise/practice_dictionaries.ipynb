{
  "nbformat": 4,
  "nbformat_minor": 0,
  "metadata": {
    "colab": {
      "provenance": [],
      "authorship_tag": "ABX9TyPe3b3nRQS7wdD8qQ6eBmRE",
      "include_colab_link": true
    },
    "kernelspec": {
      "name": "python3",
      "display_name": "Python 3"
    },
    "language_info": {
      "name": "python"
    }
  },
  "cells": [
    {
      "cell_type": "markdown",
      "metadata": {
        "id": "view-in-github",
        "colab_type": "text"
      },
      "source": [
        "<a href=\"https://colab.research.google.com/github/byambaa1982/python_cources_for_beginers/blob/main/practice_exercise/practice_dictionaries.ipynb\" target=\"_parent\"><img src=\"https://colab.research.google.com/assets/colab-badge.svg\" alt=\"Open In Colab\"/></a>"
      ]
    },
    {
      "cell_type": "code",
      "source": [
        "# A dictionary with some fruits and their colors\n",
        "fruit_colors = {\n",
        "    \"apple\": \"red\",\n",
        "    \"banana\": \"yellow\",\n",
        "    \"grape\": \"purple\",\n",
        "    \"orange\": \"orange\",\n",
        "    \"kiwi\": \"green\"\n",
        "}\n",
        "print(fruit_colors[\"apple\"])\n",
        "\n"
      ],
      "metadata": {
        "id": "iCLvyna3ZMfZ",
        "outputId": "4a9d5ba4-d284-462b-b404-6cb4e5b73536",
        "colab": {
          "base_uri": "https://localhost:8080/"
        }
      },
      "execution_count": 1,
      "outputs": [
        {
          "output_type": "stream",
          "name": "stdout",
          "text": [
            "red\n"
          ]
        }
      ]
    },
    {
      "cell_type": "markdown",
      "source": [
        "# Task 1: Adding to a Dictionary\n",
        "\n",
        "Task: Write a Python dictionary to store three favorite animals and the sounds they make (e.g., \"dog\": \"bark\"). Then, add another animal and its sound to the dictionary."
      ],
      "metadata": {
        "id": "_PaeU0AJYcV3"
      }
    },
    {
      "cell_type": "code",
      "source": [
        "animal_sounds = # your code is here\n"
      ],
      "metadata": {
        "id": "-iFJNRV0YfCr"
      },
      "execution_count": 17,
      "outputs": []
    },
    {
      "cell_type": "code",
      "source": [
        "animal_sounds"
      ],
      "metadata": {
        "id": "TnrMprJ-VBX4",
        "outputId": "d6de8c09-41ba-4d8a-aeb9-37c9465b7436",
        "colab": {
          "base_uri": "https://localhost:8080/"
        }
      },
      "execution_count": 18,
      "outputs": [
        {
          "output_type": "execute_result",
          "data": {
            "text/plain": [
              "{'dog': 'bark', 'cat': 'meow', 'cow': 'moo'}"
            ]
          },
          "metadata": {},
          "execution_count": 18
        }
      ]
    },
    {
      "cell_type": "markdown",
      "source": [
        " # Task 2: Accessing Values\n",
        "\n",
        "Task: Given the dictionary below, print out the color of the banana."
      ],
      "metadata": {
        "id": "JtnHqhLyYtZh"
      }
    },
    {
      "cell_type": "code",
      "source": [
        "fruit_colors = {\n",
        "    \"apple\": \"red\",\n",
        "    \"banana\": \"yellow\",\n",
        "    \"grape\": \"purple\"\n",
        "}\n"
      ],
      "metadata": {
        "id": "1-anIVkNYqJy"
      },
      "execution_count": 19,
      "outputs": []
    },
    {
      "cell_type": "code",
      "source": [
        "# your code is here"
      ],
      "metadata": {
        "id": "phJ0DyBTVVX8",
        "outputId": "45a98438-aa3d-494b-fce9-81949e60b0d8",
        "colab": {
          "base_uri": "https://localhost:8080/",
          "height": 35
        }
      },
      "execution_count": 20,
      "outputs": [
        {
          "output_type": "execute_result",
          "data": {
            "text/plain": [
              "'yellow'"
            ],
            "application/vnd.google.colaboratory.intrinsic+json": {
              "type": "string"
            }
          },
          "metadata": {},
          "execution_count": 20
        }
      ]
    },
    {
      "cell_type": "markdown",
      "source": [
        "# Task 3: Looping through a Dictionary\n",
        "\n",
        "Task: Use a for loop to print out all the fruit names from the dictionary below."
      ],
      "metadata": {
        "id": "KDzRa5PlY-sN"
      }
    },
    {
      "cell_type": "code",
      "source": [
        "fruit_colors = {\n",
        "    \"apple\": \"red\",\n",
        "    \"banana\": \"yellow\",\n",
        "    \"grape\": \"purple\"\n",
        "}\n"
      ],
      "metadata": {
        "id": "9wwf4mjOYrZ8"
      },
      "execution_count": 4,
      "outputs": []
    },
    {
      "cell_type": "code",
      "source": [
        "# your code is here"
      ],
      "metadata": {
        "colab": {
          "base_uri": "https://localhost:8080/"
        },
        "id": "70WoQjPTT4nP",
        "outputId": "e1f32dc7-b473-4b10-cbeb-31b0ddc581fa"
      },
      "execution_count": 5,
      "outputs": [
        {
          "output_type": "stream",
          "name": "stdout",
          "text": [
            "apple\n",
            "banana\n",
            "grape\n"
          ]
        }
      ]
    },
    {
      "cell_type": "markdown",
      "source": [
        "# Task 4: Updating a Value\n",
        "Task: The dictionary below has the wrong color for the grape. Change the color of the grape to \"green\"."
      ],
      "metadata": {
        "id": "04n3CjvvZTBr"
      }
    },
    {
      "cell_type": "code",
      "source": [
        "fruit_colors = {\n",
        "    \"apple\": \"red\",\n",
        "    \"banana\": \"yellow\",\n",
        "    \"grape\": \"purple\"\n",
        "}"
      ],
      "metadata": {
        "id": "DRgqAE9LZV3b"
      },
      "execution_count": 22,
      "outputs": []
    },
    {
      "cell_type": "code",
      "source": [
        "# your code is here"
      ],
      "metadata": {
        "id": "YfJUTYmLUE9e"
      },
      "execution_count": 7,
      "outputs": []
    },
    {
      "cell_type": "code",
      "source": [
        "fruit_colors"
      ],
      "metadata": {
        "id": "iTAS1HjgVly6",
        "outputId": "6a39d783-9184-4ec5-bd4a-09df9a4dd55f",
        "colab": {
          "base_uri": "https://localhost:8080/"
        }
      },
      "execution_count": 23,
      "outputs": [
        {
          "output_type": "execute_result",
          "data": {
            "text/plain": [
              "{'apple': 'red', 'banana': 'yellow', 'grape': 'green'}"
            ]
          },
          "metadata": {},
          "execution_count": 23
        }
      ]
    },
    {
      "cell_type": "markdown",
      "source": [
        "# Task 5: Checking for a Key\n",
        "\n",
        "Task: Write a program to check if the fruit \"orange\" is in the dictionary. If it is, print \"Orange is in the list!\", otherwise print \"Orange is not in the list!\"."
      ],
      "metadata": {
        "id": "fu45lDBEZb4N"
      }
    },
    {
      "cell_type": "code",
      "source": [
        "fruit_colors = {\n",
        "    \"apple\": \"red\",\n",
        "    \"banana\": \"yellow\",\n",
        "    \"grape\": \"green\"\n",
        "}\n"
      ],
      "metadata": {
        "id": "dB4fcU1AZeNS"
      },
      "execution_count": 11,
      "outputs": []
    },
    {
      "cell_type": "code",
      "source": [
        "# Your code is here\n"
      ],
      "metadata": {
        "colab": {
          "base_uri": "https://localhost:8080/"
        },
        "id": "NyFw2p3wUPQb",
        "outputId": "dba8c0c9-0a42-4e87-8fce-0717aac87ee5"
      },
      "execution_count": 13,
      "outputs": [
        {
          "output_type": "stream",
          "name": "stdout",
          "text": [
            "Orange is not in the list!\n"
          ]
        }
      ]
    },
    {
      "cell_type": "markdown",
      "source": [
        "# Task 6: Counting with Dictionaries\n",
        "\n",
        "Task: Create a dictionary to store how many toys each child has. Example:\n"
      ],
      "metadata": {
        "id": "n7XVubweZkUx"
      }
    },
    {
      "cell_type": "code",
      "source": [
        "toy_count = {\n",
        "    \"Alice\": 5,\n",
        "    \"Bob\": 3,\n",
        "    \"Charlie\": 7\n",
        "}\n"
      ],
      "metadata": {
        "id": "vZkPZuKvZjxG"
      },
      "execution_count": 14,
      "outputs": []
    },
    {
      "cell_type": "code",
      "source": [
        "# Your code is here\n"
      ],
      "metadata": {
        "id": "Hk_grBbPUuth"
      },
      "execution_count": 15,
      "outputs": []
    },
    {
      "cell_type": "code",
      "source": [
        "toy_count"
      ],
      "metadata": {
        "colab": {
          "base_uri": "https://localhost:8080/"
        },
        "id": "x8jgH9lAUxh1",
        "outputId": "7b643146-0538-427c-9785-b591171b1594"
      },
      "execution_count": 16,
      "outputs": [
        {
          "output_type": "execute_result",
          "data": {
            "text/plain": [
              "{'Alice': 5, 'Bob': 4, 'Charlie': 7}"
            ]
          },
          "metadata": {},
          "execution_count": 16
        }
      ]
    },
    {
      "cell_type": "code",
      "source": [],
      "metadata": {
        "id": "nm2l230laIub"
      },
      "execution_count": null,
      "outputs": []
    }
  ]
}