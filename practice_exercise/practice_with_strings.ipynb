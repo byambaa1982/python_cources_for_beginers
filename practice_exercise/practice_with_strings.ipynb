{
  "nbformat": 4,
  "nbformat_minor": 0,
  "metadata": {
    "colab": {
      "provenance": [],
      "include_colab_link": true
    },
    "kernelspec": {
      "name": "python3",
      "display_name": "Python 3"
    },
    "language_info": {
      "name": "python"
    }
  },
  "cells": [
    {
      "cell_type": "markdown",
      "metadata": {
        "id": "view-in-github",
        "colab_type": "text"
      },
      "source": [
        "<a href=\"https://colab.research.google.com/github/byambaa1982/python_cources_for_beginers/blob/class_zero_hannah/practice_exercise/practice_with_strings.ipynb\" target=\"_parent\"><img src=\"https://colab.research.google.com/assets/colab-badge.svg\" alt=\"Open In Colab\"/></a>"
      ]
    },
    {
      "cell_type": "markdown",
      "source": [
        "## Task 1: Using `replace()` to Fix Text\n",
        "Write a program that replaces all occurrences of a specific word in a sentence with another word.\n",
        "\n",
        "### Instructions\n",
        "- Define a variable `sentence` with the text \"I love programming. Programming is fun!\"\n",
        "- Use the `replace()` method to replace the word \"Programming\" with \"Coding\".\n",
        "- Print the updated sentence.\n"
      ],
      "metadata": {
        "id": "_PaeU0AJYcV3"
      }
    },
    {
      "cell_type": "code",
      "source": [
        "sentence = \"I love progamming, Progamming is fun\"\n",
        "sentence"
      ],
      "metadata": {
        "id": "-iFJNRV0YfCr",
        "colab": {
          "base_uri": "https://localhost:8080/",
          "height": 36
        },
        "outputId": "c82022eb-3eb2-4c71-dc4d-f9470db41d58"
      },
      "execution_count": null,
      "outputs": [
        {
          "output_type": "execute_result",
          "data": {
            "text/plain": [
              "'I love progamming, Progamming is fun'"
            ],
            "application/vnd.google.colaboratory.intrinsic+json": {
              "type": "string"
            }
          },
          "metadata": {},
          "execution_count": 3
        }
      ]
    },
    {
      "cell_type": "markdown",
      "source": [
        "## Task 2: Capitalizing Text\n",
        "Write a program that capitalizes the first letter of each sentence in a paragraph.\n",
        "\n",
        "### Instructions\n",
        "- Define a variable `paragraph` with a multi-sentence string.\n",
        "- Use the `capitalize()` method to capitalize the first letter of each sentence.\n",
        "- Print the updated paragraph."
      ],
      "metadata": {
        "id": "JtnHqhLyYtZh"
      }
    },
    {
      "cell_type": "code",
      "source": [
        "paragraph = \"Updated paragraph: Python is amazing. It helps solve many problems. Everyone should learn it!\"\n",
        "paragraph"
      ],
      "metadata": {
        "id": "1-anIVkNYqJy",
        "colab": {
          "base_uri": "https://localhost:8080/",
          "height": 36
        },
        "outputId": "9d82c569-2202-430c-9da1-a9225439cff4"
      },
      "execution_count": null,
      "outputs": [
        {
          "output_type": "execute_result",
          "data": {
            "text/plain": [
              "'Updated paragraph: Python is amazing. It helps solve many problems. Everyone should learn it!'"
            ],
            "application/vnd.google.colaboratory.intrinsic+json": {
              "type": "string"
            }
          },
          "metadata": {},
          "execution_count": 4
        }
      ]
    },
    {
      "cell_type": "markdown",
      "source": [
        "## Task 3: Checking for a Word in Text\n",
        "Write a program that checks if a specific word is present in a given text.\n",
        "\n",
        "### Instructions\n",
        "- Define a variable `text` with a sentence of your choice.\n",
        "- Ask the user to input a word to search for.\n",
        "- Use the `in` keyword to check if the word is present in `text`.\n",
        "- Print a message indicating whether the word is found or not.\n"
      ],
      "metadata": {
        "id": "KDzRa5PlY-sN"
      }
    },
    {
      "cell_type": "code",
      "source": [
        "text = \"Learning Python is both fun and rewarding.\"\n",
        "text"
      ],
      "metadata": {
        "id": "9wwf4mjOYrZ8",
        "colab": {
          "base_uri": "https://localhost:8080/",
          "height": 36
        },
        "outputId": "d77ee682-a5d4-442f-889a-6af1f6cf10e6"
      },
      "execution_count": 1,
      "outputs": [
        {
          "output_type": "execute_result",
          "data": {
            "text/plain": [
              "'Learning Python is both fun and rewarding.'"
            ],
            "application/vnd.google.colaboratory.intrinsic+json": {
              "type": "string"
            }
          },
          "metadata": {},
          "execution_count": 1
        }
      ]
    },
    {
      "cell_type": "markdown",
      "source": [
        "## Task 4: Using `f-strings` for Input and Output\n",
        "Write a program that asks the user for their name and a favorite activity, then prints a formatted sentence.\n",
        "\n",
        "### Instructions\n",
        "\n",
        "- Use `input()` to ask the user for their `name` and `favorite_activity`.\n",
        "- Use an `f-string` to print a sentence like \"Hello [name]! It's great to know you enjoy [favorite_activity].\"\n"
      ],
      "metadata": {
        "id": "fu45lDBEZb4N"
      }
    },
    {
      "cell_type": "code",
      "source": [
        "name = input(\"What is your name?\")\n",
        "favorite_activity = input(\"What is you favorite activity?\")"
      ],
      "metadata": {
        "id": "dB4fcU1AZeNS",
        "colab": {
          "base_uri": "https://localhost:8080/"
        },
        "outputId": "23d64dfb-9426-4cd0-97c6-3c0457f82b8b"
      },
      "execution_count": 2,
      "outputs": [
        {
          "name": "stdout",
          "output_type": "stream",
          "text": [
            "What is your name?Hannah\n",
            "What is you favorite activity?Volleyball\n"
          ]
        }
      ]
    },
    {
      "cell_type": "markdown",
      "source": [
        "## Task 5: Creating a Function to Clean and Construct Sentences\n",
        "Write a function `clean_and_construct` that takes a string as input, cleans it, and constructs a well-formed sentence.\n",
        "\n",
        "### Instructions\n",
        "- The function should:\n",
        "   1. Replace unwanted words (e.g., \"bad\" with \"good\").\n",
        "   2. Capitalize the first letter of the sentence.\n",
        "   3. Ensure it ends with a period if it doesn’t already.\n",
        " - Test the function with various inputs and print the results."
      ],
      "metadata": {
        "id": "9nA3nMqsZI_l"
      }
    },
    {
      "cell_type": "code",
      "source": [],
      "metadata": {
        "id": "v438vXNcZLpI",
        "colab": {
          "base_uri": "https://localhost:8080/"
        },
        "outputId": "7adf7fe6-5b61-4052-9cf3-4b306ebbb4c7"
      },
      "execution_count": null,
      "outputs": [
        {
          "output_type": "stream",
          "name": "stdout",
          "text": [
            "Enter a sentence to clean and construct: kdjf dgjd;kf  \n",
            "Cleaned and Constructed Sentence: Kdjf dgjd;kf  .\n"
          ]
        }
      ]
    }
  ]
}