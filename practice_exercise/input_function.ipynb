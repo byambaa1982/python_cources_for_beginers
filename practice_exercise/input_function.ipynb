{
  "nbformat": 4,
  "nbformat_minor": 0,
  "metadata": {
    "colab": {
      "provenance": [],
      "authorship_tag": "ABX9TyORcdjVkh+i5MDypQv8P9Ps",
      "include_colab_link": true
    },
    "kernelspec": {
      "name": "python3",
      "display_name": "Python 3"
    },
    "language_info": {
      "name": "python"
    }
  },
  "cells": [
    {
      "cell_type": "markdown",
      "metadata": {
        "id": "view-in-github",
        "colab_type": "text"
      },
      "source": [
        "<a href=\"https://colab.research.google.com/github/byambaa1982/python_cources_for_beginers/blob/main/practice_exercise/input_function.ipynb\" target=\"_parent\"><img src=\"https://colab.research.google.com/assets/colab-badge.svg\" alt=\"Open In Colab\"/></a>"
      ]
    },
    {
      "cell_type": "markdown",
      "source": [
        "# Input Funcion\n"
      ],
      "metadata": {
        "id": "ZIFahcMgwQFA"
      }
    },
    {
      "cell_type": "code",
      "source": [
        "name = input(\"What is your name? \")\n",
        "print(\"Hello, \" + name + \"!\")\n"
      ],
      "metadata": {
        "colab": {
          "base_uri": "https://localhost:8080/"
        },
        "id": "aFeiYKhdwUjG",
        "outputId": "89f0a341-2ac5-49e9-898a-9589c36a9bd0"
      },
      "execution_count": null,
      "outputs": [
        {
          "output_type": "stream",
          "name": "stdout",
          "text": [
            "What is your name? Byamba\n",
            "Hello, Byamba!\n"
          ]
        }
      ]
    },
    {
      "cell_type": "markdown",
      "source": [
        " # Task 1: Favorite Animal List\n",
        "\n",
        "\n",
        "Steps:\n",
        "1. Create an Empty List: Set up a list to store favorite animals.\n",
        "2. Add Animals to the List: Let the user add animals by name.\n",
        "3. Show the List: Display all the animals in the list when the user is done."
      ],
      "metadata": {
        "id": "JtnHqhLyYtZh"
      }
    },
    {
      "cell_type": "code",
      "source": [
        "# Step 1: Create an empty list for favorite animals\n",
        "favorite_animals = []\n",
        "\n",
        "# Step 2: Add animals to the list\n",
        "while True:\n",
        "# ---   Your code is here -----\n",
        "    print(animal, \"added to the list.\")\n",
        "\n",
        "# Step 3: Show the list\n",
        "print(\"Your favorite animals are:\", favorite_animals)"
      ],
      "metadata": {
        "id": "1-anIVkNYqJy",
        "outputId": "db45ac89-0b15-4e9e-e103-7351542b9dce",
        "colab": {
          "base_uri": "https://localhost:8080/"
        }
      },
      "execution_count": null,
      "outputs": [
        {
          "output_type": "stream",
          "name": "stdout",
          "text": [
            "Enter the name of a favorite animal (or 'done' to stop): dog\n",
            "dog added to the list.\n",
            "Enter the name of a favorite animal (or 'done' to stop): cat\n",
            "cat added to the list.\n",
            "Enter the name of a favorite animal (or 'done' to stop): mouse\n",
            "mouse added to the list.\n",
            "Enter the name of a favorite animal (or 'done' to stop): done\n",
            "Your favorite animals are: ['dog', 'cat', 'mouse']\n"
          ]
        }
      ]
    },
    {
      "cell_type": "markdown",
      "source": [
        "# Task 2: Magic 8-Ball\n",
        "\n",
        "\n",
        "Steps:\n",
        "1. Create a List of Answers: Store answers like “Yes,” “No,” and “Maybe” in a list.\n",
        "2. Ask a Question: Use input to let the user ask a yes-or-no question.\n",
        "3. Show a Random Answer: Pick a random answer from the list and show it to the user."
      ],
      "metadata": {
        "id": "KDzRa5PlY-sN"
      }
    },
    {
      "cell_type": "code",
      "source": [
        "import random\n",
        "\n",
        "# Step 1: Create a list of possible answers\n",
        "answers = [\"Yes\", \"No\", \"Maybe\", \"Ask again later\", \"Definitely!\", \"I'm not sure\"]\n",
        "\n",
        "# Step 2: Function to ask a question\n",
        "def ask_question():\n",
        " # ---   Your code is here -----\n",
        "# Run the game\n",
        "ask_question()\n"
      ],
      "metadata": {
        "id": "9wwf4mjOYrZ8",
        "outputId": "ea281bfb-2980-41d4-f6cd-1f5ece83e5d1",
        "colab": {
          "base_uri": "https://localhost:8080/"
        }
      },
      "execution_count": null,
      "outputs": [
        {
          "output_type": "stream",
          "name": "stdout",
          "text": [
            "What would you like to ask the Magic 8-Ball? 4\n",
            "Magic 8-Ball says: Yes\n"
          ]
        }
      ]
    },
    {
      "cell_type": "markdown",
      "source": [
        "# Task 3: Days of the Week Reminder\n",
        "\n",
        "\n",
        "Steps:\n",
        "1. Create a List of Days: Store the days of the week in a list.\n",
        "2. Ask for the Day: Get the current day from the user.\n",
        "3. Show a Message: Use if-else statements to display a fun reminder or fact for that day."
      ],
      "metadata": {
        "id": "mRB9AobypgeV"
      }
    },
    {
      "cell_type": "code",
      "source": [
        "# Step 1: List of days with reminders\n",
        "days_of_week = {\n",
        "    \"monday\": \"Start the week with a smile!\",\n",
        "    \"tuesday\": \"Keep going, it's still early in the week!\",\n",
        "    \"wednesday\": \"You're halfway through!\",\n",
        "    \"thursday\": \"Almost Friday!\",\n",
        "    \"friday\": \"Yay, it's Friday!\",\n",
        "    \"saturday\": \"Enjoy your weekend!\",\n",
        "    \"sunday\": \"Relax and recharge for the week ahead!\"\n",
        "}\n",
        "\n",
        "# ---   Your code is here -----\n"
      ],
      "metadata": {
        "id": "blq_l8l-pid3",
        "outputId": "eff75f43-0add-4559-e1f3-efdc82a362a0",
        "colab": {
          "base_uri": "https://localhost:8080/"
        }
      },
      "execution_count": null,
      "outputs": [
        {
          "output_type": "stream",
          "name": "stdout",
          "text": [
            "What day is it today? tuesday\n",
            "Keep going, it's still early in the week!\n"
          ]
        }
      ]
    },
    {
      "cell_type": "markdown",
      "source": [
        "# Task 4: Compliment Generator\n",
        "\n",
        "\n",
        "Steps:\n",
        "1. Create a List of Compliments: Store compliments like \"You are awesome!\" in a list.\n",
        "2. Define a Function: Make a function that picks a random compliment from the list.\n",
        "3. Run the Function: Call the function to display a compliment each time the code runs."
      ],
      "metadata": {
        "id": "XA9SCRMapoWZ"
      }
    },
    {
      "cell_type": "code",
      "source": [
        "import random\n",
        "\n",
        "# Step 1: List of compliments\n",
        "compliments = [\"You're amazing!\", \"You're super smart!\", \"You have a great sense of humor!\", \"You're a wonderful person!\", \"You're really creative!\"]\n",
        "\n",
        "# ---   Your code is here -----\n"
      ],
      "metadata": {
        "id": "Fl2S4pmrpq12",
        "outputId": "dece13a9-72a7-4c99-ce53-27dbd58170d7",
        "colab": {
          "base_uri": "https://localhost:8080/"
        }
      },
      "execution_count": null,
      "outputs": [
        {
          "output_type": "stream",
          "name": "stdout",
          "text": [
            "You have a great sense of humor!\n"
          ]
        }
      ]
    },
    {
      "cell_type": "markdown",
      "source": [
        "# Task 5: Fruit Counter\n",
        "\n",
        "\n",
        "Steps:\n",
        "1. Create a List of Fruits: Add different fruit names to a list.\n",
        "2. Count Occurrences: Use a for loop to count the number of times each fruit appears.\n",
        "3. Display Results: Show how many of each fruit there are.\n"
      ],
      "metadata": {
        "id": "mgEDvQQDulm-"
      }
    },
    {
      "cell_type": "code",
      "source": [
        "# Step 1: Create a list of fruits\n",
        "fruits = [\"apple\", \"banana\", \"apple\", \"orange\", \"banana\", \"apple\"]\n",
        "\n",
        "# ---   Your code is here -----\n"
      ],
      "metadata": {
        "colab": {
          "base_uri": "https://localhost:8080/"
        },
        "id": "KrCdVYHouauo",
        "outputId": "2920181d-75ce-48df-8e0d-f954a714bd6f"
      },
      "execution_count": null,
      "outputs": [
        {
          "output_type": "stream",
          "name": "stdout",
          "text": [
            "Fruit counts:\n",
            "apple: 3\n",
            "banana: 2\n",
            "orange: 1\n"
          ]
        }
      ]
    },
    {
      "cell_type": "markdown",
      "source": [
        "# Task 6: Simple Calculator\n",
        "\n",
        "In this task, you will make a simple calculator to add, subtract, multiply, or divide two numbers.\n",
        "\n",
        "Steps:\n",
        "1. Ask for Two Numbers: Get two numbers from the user.\n",
        "2. Choose an Operation: Ask the user if they want to add, subtract, multiply, or divide.\n",
        "3. Calculate and Show the Result: Use if-else to perform the chosen operation and display the result."
      ],
      "metadata": {
        "id": "_PaeU0AJYcV3"
      }
    },
    {
      "cell_type": "code",
      "source": [
        "# Step 1: Get two numbers from the user\n",
        "num1 = float(input(\"Enter the first number: \"))\n",
        "num2 = float(input(\"Enter the second number: \"))\n",
        "\n",
        "# Step 2: Choose an operation\n",
        "operation = input(\"Choose an operation (+, -, *, /): \")\n",
        "\n",
        "# Step 3: Perform the calculation\n",
        "# ---   Your code is here -----\n",
        "\n",
        "print(\"Result:\", result)\n"
      ],
      "metadata": {
        "id": "-iFJNRV0YfCr",
        "outputId": "22aa27db-0d3f-4c41-c6cc-4caad12db526",
        "colab": {
          "base_uri": "https://localhost:8080/"
        }
      },
      "execution_count": null,
      "outputs": [
        {
          "output_type": "stream",
          "name": "stdout",
          "text": [
            "Enter the first number: 5\n",
            "Enter the second number: 4\n",
            "Choose an operation (+, -, *, /): +\n",
            "Result: 9.0\n"
          ]
        }
      ]
    }
  ]
}