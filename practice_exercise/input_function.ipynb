{
  "nbformat": 4,
  "nbformat_minor": 0,
  "metadata": {
    "colab": {
      "provenance": [],
      "include_colab_link": true
    },
    "kernelspec": {
      "name": "python3",
      "display_name": "Python 3"
    },
    "language_info": {
      "name": "python"
    }
  },
  "cells": [
    {
      "cell_type": "markdown",
      "metadata": {
        "id": "view-in-github",
        "colab_type": "text"
      },
      "source": [
        "<a href=\"https://colab.research.google.com/github/byambaa1982/python_cources_for_beginers/blob/class_zero_hannah/practice_exercise/input_function.ipynb\" target=\"_parent\"><img src=\"https://colab.research.google.com/assets/colab-badge.svg\" alt=\"Open In Colab\"/></a>"
      ]
    },
    {
      "cell_type": "markdown",
      "source": [
        "# Input Funcion\n"
      ],
      "metadata": {
        "id": "ZIFahcMgwQFA"
      }
    },
    {
      "cell_type": "code",
      "source": [
        "name = input(\"What is your name? \")\n",
        "print(\"Hello, \" + name + \"!\")\n"
      ],
      "metadata": {
        "colab": {
          "base_uri": "https://localhost:8080/"
        },
        "id": "aFeiYKhdwUjG",
        "outputId": "6e97b24f-76a6-4189-e21a-11beaa5009a4"
      },
      "execution_count": 1,
      "outputs": [
        {
          "output_type": "stream",
          "name": "stdout",
          "text": [
            "What is your name? Hannah\n",
            "Hello, Hannah!\n"
          ]
        }
      ]
    },
    {
      "cell_type": "code",
      "source": [
        " name = input(\"What is your name?\")\n",
        " age = input(\"What is your age?\")\n",
        " print(f\"my name is {name}, and my age is {age}\")"
      ],
      "metadata": {
        "colab": {
          "base_uri": "https://localhost:8080/"
        },
        "id": "gr4sr4P30McF",
        "outputId": "a2ce19e5-d77a-4955-a89d-8639999eb08b"
      },
      "execution_count": 2,
      "outputs": [
        {
          "output_type": "stream",
          "name": "stdout",
          "text": [
            "What is your name?Hannah\n",
            "What is your age?10\n",
            "my name is Hannah, and my age is 10\n"
          ]
        }
      ]
    },
    {
      "cell_type": "markdown",
      "source": [
        " # Task 1: Favorite Animal List\n",
        "\n",
        "\n",
        "Steps:\n",
        "1. Create an Empty List: Set up a list to store favorite animals.\n",
        "2. Add Animals to the List: Let the user add animals by name.\n",
        "3. Show the List: Display all the animals in the list when the user is done."
      ],
      "metadata": {
        "id": "JtnHqhLyYtZh"
      }
    },
    {
      "cell_type": "code",
      "source": [
        "# Step 1: Create an empty list for favorite animals\n",
        "favorite_animals = []\n",
        "\n",
        "# Step 2: Add animals to the list\n",
        "while True:\n",
        "    animal = input(\"Enter animal name of a favorite animal (or 'done' to stop):\")\n",
        "    print(animal, \"added to the list.\")\n",
        "\n",
        "# Step 3: Show the list\n",
        "print(\"Your favorite animals are:\", favorite_animals)\n",
        "if animal.lower() == \"done\":\n",
        "  break\n",
        "favorite_animals,append(animal)\n",
        "print(animal, \"added to the list\")\n",
        "print(\"your favorite animals are\", favorite_animals)"
      ],
      "metadata": {
        "id": "1-anIVkNYqJy",
        "outputId": "c9f59977-3c45-41ae-8bb4-ea5e5e7e2392",
        "colab": {
          "base_uri": "https://localhost:8080/",
          "height": 673
        }
      },
      "execution_count": 8,
      "outputs": [
        {
          "output_type": "stream",
          "name": "stdout",
          "text": [
            "Enter animal name of a favorite animal (or 'done' to stop):Dog\n",
            "Dog added to the list.\n",
            "Enter animal name of a favorite animal (or 'done' to stop):Cat\n",
            "Cat added to the list.\n",
            "Enter animal name of a favorite animal (or 'done' to stop):Panda\n",
            "Panda added to the list.\n",
            "Enter animal name of a favorite animal (or 'done' to stop):Bird\n",
            "Bird added to the list.\n",
            "Enter animal name of a favorite animal (or 'done' to stop):Fish\n",
            "Fish added to the list.\n"
          ]
        },
        {
          "output_type": "error",
          "ename": "KeyboardInterrupt",
          "evalue": "Interrupted by user",
          "traceback": [
            "\u001b[0;31m---------------------------------------------------------------------------\u001b[0m",
            "\u001b[0;31mKeyboardInterrupt\u001b[0m                         Traceback (most recent call last)",
            "\u001b[0;32m<ipython-input-8-4c0dfe7444ad>\u001b[0m in \u001b[0;36m<cell line: 5>\u001b[0;34m()\u001b[0m\n\u001b[1;32m      4\u001b[0m \u001b[0;31m# Step 2: Add animals to the list\u001b[0m\u001b[0;34m\u001b[0m\u001b[0;34m\u001b[0m\u001b[0m\n\u001b[1;32m      5\u001b[0m \u001b[0;32mwhile\u001b[0m \u001b[0;32mTrue\u001b[0m\u001b[0;34m:\u001b[0m\u001b[0;34m\u001b[0m\u001b[0;34m\u001b[0m\u001b[0m\n\u001b[0;32m----> 6\u001b[0;31m     \u001b[0manimal\u001b[0m \u001b[0;34m=\u001b[0m \u001b[0minput\u001b[0m\u001b[0;34m(\u001b[0m\u001b[0;34m\"Enter animal name of a favorite animal (or 'done' to stop):\"\u001b[0m\u001b[0;34m)\u001b[0m\u001b[0;34m\u001b[0m\u001b[0;34m\u001b[0m\u001b[0m\n\u001b[0m\u001b[1;32m      7\u001b[0m     \u001b[0mprint\u001b[0m\u001b[0;34m(\u001b[0m\u001b[0manimal\u001b[0m\u001b[0;34m,\u001b[0m \u001b[0;34m\"added to the list.\"\u001b[0m\u001b[0;34m)\u001b[0m\u001b[0;34m\u001b[0m\u001b[0;34m\u001b[0m\u001b[0m\n\u001b[1;32m      8\u001b[0m \u001b[0;34m\u001b[0m\u001b[0m\n",
            "\u001b[0;32m/usr/local/lib/python3.10/dist-packages/ipykernel/kernelbase.py\u001b[0m in \u001b[0;36mraw_input\u001b[0;34m(self, prompt)\u001b[0m\n\u001b[1;32m    849\u001b[0m                 \u001b[0;34m\"raw_input was called, but this frontend does not support input requests.\"\u001b[0m\u001b[0;34m\u001b[0m\u001b[0;34m\u001b[0m\u001b[0m\n\u001b[1;32m    850\u001b[0m             )\n\u001b[0;32m--> 851\u001b[0;31m         return self._input_request(str(prompt),\n\u001b[0m\u001b[1;32m    852\u001b[0m             \u001b[0mself\u001b[0m\u001b[0;34m.\u001b[0m\u001b[0m_parent_ident\u001b[0m\u001b[0;34m,\u001b[0m\u001b[0;34m\u001b[0m\u001b[0;34m\u001b[0m\u001b[0m\n\u001b[1;32m    853\u001b[0m             \u001b[0mself\u001b[0m\u001b[0;34m.\u001b[0m\u001b[0m_parent_header\u001b[0m\u001b[0;34m,\u001b[0m\u001b[0;34m\u001b[0m\u001b[0;34m\u001b[0m\u001b[0m\n",
            "\u001b[0;32m/usr/local/lib/python3.10/dist-packages/ipykernel/kernelbase.py\u001b[0m in \u001b[0;36m_input_request\u001b[0;34m(self, prompt, ident, parent, password)\u001b[0m\n\u001b[1;32m    893\u001b[0m             \u001b[0;32mexcept\u001b[0m \u001b[0mKeyboardInterrupt\u001b[0m\u001b[0;34m:\u001b[0m\u001b[0;34m\u001b[0m\u001b[0;34m\u001b[0m\u001b[0m\n\u001b[1;32m    894\u001b[0m                 \u001b[0;31m# re-raise KeyboardInterrupt, to truncate traceback\u001b[0m\u001b[0;34m\u001b[0m\u001b[0;34m\u001b[0m\u001b[0m\n\u001b[0;32m--> 895\u001b[0;31m                 \u001b[0;32mraise\u001b[0m \u001b[0mKeyboardInterrupt\u001b[0m\u001b[0;34m(\u001b[0m\u001b[0;34m\"Interrupted by user\"\u001b[0m\u001b[0;34m)\u001b[0m \u001b[0;32mfrom\u001b[0m \u001b[0;32mNone\u001b[0m\u001b[0;34m\u001b[0m\u001b[0;34m\u001b[0m\u001b[0m\n\u001b[0m\u001b[1;32m    896\u001b[0m             \u001b[0;32mexcept\u001b[0m \u001b[0mException\u001b[0m \u001b[0;32mas\u001b[0m \u001b[0me\u001b[0m\u001b[0;34m:\u001b[0m\u001b[0;34m\u001b[0m\u001b[0;34m\u001b[0m\u001b[0m\n\u001b[1;32m    897\u001b[0m                 \u001b[0mself\u001b[0m\u001b[0;34m.\u001b[0m\u001b[0mlog\u001b[0m\u001b[0;34m.\u001b[0m\u001b[0mwarning\u001b[0m\u001b[0;34m(\u001b[0m\u001b[0;34m\"Invalid Message:\"\u001b[0m\u001b[0;34m,\u001b[0m \u001b[0mexc_info\u001b[0m\u001b[0;34m=\u001b[0m\u001b[0;32mTrue\u001b[0m\u001b[0;34m)\u001b[0m\u001b[0;34m\u001b[0m\u001b[0;34m\u001b[0m\u001b[0m\n",
            "\u001b[0;31mKeyboardInterrupt\u001b[0m: Interrupted by user"
          ]
        }
      ]
    },
    {
      "cell_type": "markdown",
      "source": [
        "# Task 2: Magic 8-Ball\n",
        "\n",
        "\n",
        "Steps:\n",
        "1. Create a List of Answers: Store answers like “Yes,” “No,” and “Maybe” in a list.\n",
        "2. Ask a Question: Use input to let the user ask a yes-or-no question.\n",
        "3. Show a Random Answer: Pick a random answer from the list and show it to the user."
      ],
      "metadata": {
        "id": "KDzRa5PlY-sN"
      }
    },
    {
      "cell_type": "code",
      "source": [
        "import random\n",
        "\n",
        "random.randint(1, 10)"
      ],
      "metadata": {
        "colab": {
          "base_uri": "https://localhost:8080/"
        },
        "id": "Elhky0ck7LHA",
        "outputId": "f2f1de77-020a-40ae-9d65-8cbb1d801a14"
      },
      "execution_count": 12,
      "outputs": [
        {
          "output_type": "execute_result",
          "data": {
            "text/plain": [
              "6"
            ]
          },
          "metadata": {},
          "execution_count": 12
        }
      ]
    },
    {
      "cell_type": "code",
      "source": [],
      "metadata": {
        "id": "3KaUyUfm7h92"
      },
      "execution_count": null,
      "outputs": []
    },
    {
      "cell_type": "code",
      "source": [
        "colors = [\"red\", \"blue\", \"purple\"]\n",
        "random.choice(colors)"
      ],
      "metadata": {
        "colab": {
          "base_uri": "https://localhost:8080/",
          "height": 36
        },
        "id": "89TQors-7SXi",
        "outputId": "144fc96b-c254-4b17-c603-32072a824038"
      },
      "execution_count": 14,
      "outputs": [
        {
          "output_type": "execute_result",
          "data": {
            "text/plain": [
              "'purple'"
            ],
            "application/vnd.google.colaboratory.intrinsic+json": {
              "type": "string"
            }
          },
          "metadata": {},
          "execution_count": 14
        }
      ]
    },
    {
      "cell_type": "code",
      "source": [],
      "metadata": {
        "id": "ehk7nqSv7bau"
      },
      "execution_count": null,
      "outputs": []
    },
    {
      "cell_type": "code",
      "source": [
        "import random\n",
        "\n",
        "# Step 1: Create a list of possible answers\n",
        "answers = [\"Yes\", \"No\", \"Maybe\", \"Ask again later\", \"Definitely!\", \"I'm not sure\"]\n",
        "\n",
        "# Step 2: Function to ask a question\n",
        "def ask_question():\n",
        " # ---   Your code is here -----\n",
        "# Run the game\n",
        "ask_question()\n"
      ],
      "metadata": {
        "id": "9wwf4mjOYrZ8",
        "outputId": "ea281bfb-2980-41d4-f6cd-1f5ece83e5d1",
        "colab": {
          "base_uri": "https://localhost:8080/"
        }
      },
      "execution_count": null,
      "outputs": [
        {
          "output_type": "stream",
          "name": "stdout",
          "text": [
            "What would you like to ask the Magic 8-Ball? 4\n",
            "Magic 8-Ball says: Yes\n"
          ]
        }
      ]
    },
    {
      "cell_type": "markdown",
      "source": [
        "# Task 3: Days of the Week Reminder\n",
        "\n",
        "\n",
        "Steps:\n",
        "1. Create a List of Days: Store the days of the week in a list.\n",
        "2. Ask for the Day: Get the current day from the user.\n",
        "3. Show a Message: Use if-else statements to display a fun reminder or fact for that day."
      ],
      "metadata": {
        "id": "mRB9AobypgeV"
      }
    },
    {
      "cell_type": "code",
      "source": [
        "# Step 1: List of days with reminders\n",
        "days_of_week = {\n",
        "    \"monday\": \"Start the week with a smile!\",\n",
        "    \"tuesday\": \"Keep going, it's still early in the week!\",\n",
        "    \"wednesday\": \"You're halfway through!\",\n",
        "    \"thursday\": \"Almost Friday!\",\n",
        "    \"friday\": \"Yay, it's Friday!\",\n",
        "    \"saturday\": \"Enjoy your weekend!\",\n",
        "    \"sunday\": \"Relax and recharge for the week ahead!\"\n",
        "}\n",
        "\n",
        "# ---   Your code is here -----\n"
      ],
      "metadata": {
        "id": "blq_l8l-pid3",
        "outputId": "eff75f43-0add-4559-e1f3-efdc82a362a0",
        "colab": {
          "base_uri": "https://localhost:8080/"
        }
      },
      "execution_count": null,
      "outputs": [
        {
          "output_type": "stream",
          "name": "stdout",
          "text": [
            "What day is it today? tuesday\n",
            "Keep going, it's still early in the week!\n"
          ]
        }
      ]
    },
    {
      "cell_type": "markdown",
      "source": [
        "# Task 4: Compliment Generator\n",
        "\n",
        "\n",
        "Steps:\n",
        "1. Create a List of Compliments: Store compliments like \"You are awesome!\" in a list.\n",
        "2. Define a Function: Make a function that picks a random compliment from the list.\n",
        "3. Run the Function: Call the function to display a compliment each time the code runs."
      ],
      "metadata": {
        "id": "XA9SCRMapoWZ"
      }
    },
    {
      "cell_type": "code",
      "source": [
        "import random\n",
        "\n",
        "# Step 1: List of compliments\n",
        "compliments = [\"You're amazing!\", \"You're super smart!\", \"You have a great sense of humor!\", \"You're a wonderful person!\", \"You're really creative!\"]\n",
        "\n",
        "# ---   Your code is here -----\n"
      ],
      "metadata": {
        "id": "Fl2S4pmrpq12",
        "outputId": "dece13a9-72a7-4c99-ce53-27dbd58170d7",
        "colab": {
          "base_uri": "https://localhost:8080/"
        }
      },
      "execution_count": null,
      "outputs": [
        {
          "output_type": "stream",
          "name": "stdout",
          "text": [
            "You have a great sense of humor!\n"
          ]
        }
      ]
    },
    {
      "cell_type": "markdown",
      "source": [
        "# Task 5: Fruit Counter\n",
        "\n",
        "\n",
        "Steps:\n",
        "1. Create a List of Fruits: Add different fruit names to a list.\n",
        "2. Count Occurrences: Use a for loop to count the number of times each fruit appears.\n",
        "3. Display Results: Show how many of each fruit there are.\n"
      ],
      "metadata": {
        "id": "mgEDvQQDulm-"
      }
    },
    {
      "cell_type": "code",
      "source": [
        "# Step 1: Create a list of fruits\n",
        "fruits = [\"apple\", \"banana\", \"apple\", \"orange\", \"banana\", \"apple\"]\n",
        "\n",
        "# ---   Your code is here -----\n"
      ],
      "metadata": {
        "colab": {
          "base_uri": "https://localhost:8080/"
        },
        "id": "KrCdVYHouauo",
        "outputId": "2920181d-75ce-48df-8e0d-f954a714bd6f"
      },
      "execution_count": null,
      "outputs": [
        {
          "output_type": "stream",
          "name": "stdout",
          "text": [
            "Fruit counts:\n",
            "apple: 3\n",
            "banana: 2\n",
            "orange: 1\n"
          ]
        }
      ]
    },
    {
      "cell_type": "markdown",
      "source": [
        "# Task 6: Simple Calculator\n",
        "\n",
        "In this task, you will make a simple calculator to add, subtract, multiply, or divide two numbers.\n",
        "\n",
        "Steps:\n",
        "1. Ask for Two Numbers: Get two numbers from the user.\n",
        "2. Choose an Operation: Ask the user if they want to add, subtract, multiply, or divide.\n",
        "3. Calculate and Show the Result: Use if-else to perform the chosen operation and display the result."
      ],
      "metadata": {
        "id": "_PaeU0AJYcV3"
      }
    },
    {
      "cell_type": "code",
      "source": [
        "# Step 1: Get two numbers from the user\n",
        "num1 = float(input(\"Enter the first number: \"))\n",
        "num2 = float(input(\"Enter the second number: \"))\n",
        "\n",
        "# Step 2: Choose an operation\n",
        "operation = input(\"Choose an operation (+, -, *, /): \")\n",
        "\n",
        "# Step 3: Perform the calculation\n",
        "# ---   Your code is here -----\n",
        "\n",
        "print(\"Result:\", result)\n"
      ],
      "metadata": {
        "id": "-iFJNRV0YfCr",
        "outputId": "22aa27db-0d3f-4c41-c6cc-4caad12db526",
        "colab": {
          "base_uri": "https://localhost:8080/"
        }
      },
      "execution_count": null,
      "outputs": [
        {
          "output_type": "stream",
          "name": "stdout",
          "text": [
            "Enter the first number: 5\n",
            "Enter the second number: 4\n",
            "Choose an operation (+, -, *, /): +\n",
            "Result: 9.0\n"
          ]
        }
      ]
    }
  ]
}