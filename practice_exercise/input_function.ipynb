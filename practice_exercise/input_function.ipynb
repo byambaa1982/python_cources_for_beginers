{
  "nbformat": 4,
  "nbformat_minor": 0,
  "metadata": {
    "colab": {
      "provenance": [],
      "include_colab_link": true
    },
    "kernelspec": {
      "name": "python3",
      "display_name": "Python 3"
    },
    "language_info": {
      "name": "python"
    }
  },
  "cells": [
    {
      "cell_type": "markdown",
      "metadata": {
        "id": "view-in-github",
        "colab_type": "text"
      },
      "source": [
        "<a href=\"https://colab.research.google.com/github/byambaa1982/python_cources_for_beginers/blob/class_zero_enko/practice_exercise/input_function.ipynb\" target=\"_parent\"><img src=\"https://colab.research.google.com/assets/colab-badge.svg\" alt=\"Open In Colab\"/></a>"
      ]
    },
    {
      "cell_type": "markdown",
      "source": [
        "# Input Funcion\n"
      ],
      "metadata": {
        "id": "ZIFahcMgwQFA"
      }
    },
    {
      "cell_type": "code",
      "source": [
        "name = input(\"What is your name? \")\n",
        "print(\"Hello, \" + name + \"!\")\n"
      ],
      "metadata": {
        "colab": {
          "base_uri": "https://localhost:8080/"
        },
        "id": "aFeiYKhdwUjG",
        "outputId": "7ec9ceda-3bc1-4ace-e624-c9452095f5da"
      },
      "execution_count": 2,
      "outputs": [
        {
          "output_type": "stream",
          "name": "stdout",
          "text": [
            "What is your name? Enko\n",
            "Hello, Enko!\n"
          ]
        }
      ]
    },
    {
      "cell_type": "markdown",
      "source": [
        " # Task 1: Favorite Animal List\n",
        "\n",
        "\n",
        "Steps:\n",
        "1. Create an Empty List: Set up a list to store favorite animals.\n",
        "2. Add Animals to the List: Let the user add animals by name.\n",
        "3. Show the List: Display all the animals in the list when the user is done."
      ],
      "metadata": {
        "id": "JtnHqhLyYtZh"
      }
    },
    {
      "cell_type": "code",
      "source": [
        "# Step 1: Create an empty list for favorite animals\n",
        "favorite_animals = []\n",
        "\n",
        "# Step 2: Add animals to the list\n",
        "while True:\n",
        "  animal = input(\"Enter the name of a favorite animal (or 'done' to stop): \")\n",
        "  if animal.lower() == \"done\":\n",
        "        break\n",
        "  favorite_animals.append(animal)\n",
        "# ---   Your code is here -----\n",
        "print(animal, \"added to the list.\")\n",
        "\n",
        "# Step 3: Show the list\n",
        "print(\"Your favorite animals are:\", favorite_animals)"
      ],
      "metadata": {
        "id": "1-anIVkNYqJy",
        "outputId": "7b1a3062-2201-4f5d-bc17-96b417b8a2f0",
        "colab": {
          "base_uri": "https://localhost:8080/"
        }
      },
      "execution_count": 10,
      "outputs": [
        {
          "output_type": "stream",
          "name": "stdout",
          "text": [
            "Enter the name of a favorite animal (or 'done' to stop): bear\n",
            "Enter the name of a favorite animal (or 'done' to stop): lion\n",
            "Enter the name of a favorite animal (or 'done' to stop): tiger\n",
            "Enter the name of a favorite animal (or 'done' to stop): dog\n",
            "Enter the name of a favorite animal (or 'done' to stop): done\n",
            "done added to the list.\n",
            "Your favorite animals are: ['bear', 'lion', 'tiger', 'dog']\n"
          ]
        }
      ]
    },
    {
      "cell_type": "markdown",
      "source": [
        "# Task 2: Magic 8-Ball\n",
        "\n",
        "\n",
        "Steps:\n",
        "1. Create a List of Answers: Store answers like “Yes,” “No,” and “Maybe” in a list.\n",
        "2. Ask a Question: Use input to let the user ask a yes-or-no question.\n",
        "3. Show a Random Answer: Pick a random answer from the list and show it to the user."
      ],
      "metadata": {
        "id": "KDzRa5PlY-sN"
      }
    },
    {
      "cell_type": "code",
      "source": [
        "import random\n",
        "\n",
        "# Step 1: Create a list of possible answers\n",
        "answers = [\"Yes\", \"No\", \"Maybe\", \"Ask again later\", \"Definitely!\", \"I'm not sure\"]\n",
        "\n",
        "# Step 2: Function to ask a question\n",
        "def ask_question():\n",
        "  input(\"What would you like to ask the Magic 8-Ball? \")\n",
        " # ---   Your code is here -----\n",
        "  print(\"Magic 8-Ball says:\", random.choice(answers))\n",
        "# Run the game\n",
        "ask_question()\n"
      ],
      "metadata": {
        "id": "9wwf4mjOYrZ8",
        "outputId": "32237a4b-1a80-4519-bf58-048289a78f36",
        "colab": {
          "base_uri": "https://localhost:8080/"
        }
      },
      "execution_count": 12,
      "outputs": [
        {
          "output_type": "stream",
          "name": "stdout",
          "text": [
            "What would you like to ask the Magic 8-Ball? is today saturday\n",
            "Magic 8-Ball says: I'm not sure\n"
          ]
        }
      ]
    },
    {
      "cell_type": "markdown",
      "source": [
        "# Task 3: Days of the Week Reminder\n",
        "\n",
        "\n",
        "Steps:\n",
        "1. Create a List of Days: Store the days of the week in a list.\n",
        "2. Ask for the Day: Get the current day from the user.\n",
        "3. Show a Message: Use if-else statements to display a fun reminder or fact for that day."
      ],
      "metadata": {
        "id": "mRB9AobypgeV"
      }
    },
    {
      "cell_type": "code",
      "source": [
        "# Step 1: List of days with reminders\n",
        "days_of_week = {\n",
        "    \"monday\": \"Start the week with a smile!\",\n",
        "    \"tuesday\": \"Keep going, it's still early in the week!\",\n",
        "    \"wednesday\": \"You're halfway through!\",\n",
        "    \"thursday\": \"Almost Friday!\",\n",
        "    \"friday\": \"Yay, it's Friday!\",\n",
        "    \"saturday\": \"Enjoy your weekend!\",\n",
        "    \"sunday\": \"Relax and recharge for the week ahead!\"\n",
        "}\n",
        "\n",
        "# ---   Your code is here -----\n",
        "day = input(\"What day is it today? \").lower()\n",
        "if day in days_of_week:\n",
        "    print(days_of_week[day])\n",
        "else:\n",
        "    print(\"That's not a valid day.\")"
      ],
      "metadata": {
        "id": "blq_l8l-pid3",
        "outputId": "14c67d99-51db-49d8-f8e6-450f545122d7",
        "colab": {
          "base_uri": "https://localhost:8080/"
        }
      },
      "execution_count": 13,
      "outputs": [
        {
          "output_type": "stream",
          "name": "stdout",
          "text": [
            "What day is it today? saturday\n",
            "Enjoy your weekend!\n"
          ]
        }
      ]
    },
    {
      "cell_type": "markdown",
      "source": [
        "# Task 4: Compliment Generator\n",
        "\n",
        "\n",
        "Steps:\n",
        "1. Create a List of Compliments: Store compliments like \"You are awesome!\" in a list.\n",
        "2. Define a Function: Make a function that picks a random compliment from the list.\n",
        "3. Run the Function: Call the function to display a compliment each time the code runs."
      ],
      "metadata": {
        "id": "XA9SCRMapoWZ"
      }
    },
    {
      "cell_type": "code",
      "source": [
        "import random\n",
        "\n",
        "# Step 1: List of compliments\n",
        "compliments = [\"You're amazing!\", \"You're super smart!\", \"You have a great sense of humor!\", \"You're a wonderful person!\", \"You're really creative!\", \"You are awesome!\"]\n",
        "\n",
        "# ---   Your code is here -----\n",
        "def give_compliment():\n",
        "    print(random.choice(compliments))\n",
        "give_compliment()\n"
      ],
      "metadata": {
        "id": "Fl2S4pmrpq12",
        "outputId": "81d4c666-9aad-4602-b286-6906c82e1818",
        "colab": {
          "base_uri": "https://localhost:8080/"
        }
      },
      "execution_count": 28,
      "outputs": [
        {
          "output_type": "stream",
          "name": "stdout",
          "text": [
            "You are awesome!\n"
          ]
        }
      ]
    },
    {
      "cell_type": "markdown",
      "source": [
        "# Task 5: Fruit Counter\n",
        "\n",
        "\n",
        "Steps:\n",
        "1. Create a List of Fruits: Add different fruit names to a list.\n",
        "2. Count Occurrences: Use a for loop to count the number of times each fruit appears.\n",
        "3. Display Results: Show how many of each fruit there are.\n"
      ],
      "metadata": {
        "id": "mgEDvQQDulm-"
      }
    },
    {
      "cell_type": "code",
      "source": [
        "# Step 1: Create a list of fruits\n",
        "fruits = [\"apple\", \"apple\", \"apple\", \"orange\", \"banana\", \"orange\"]\n",
        "\n",
        "# ---   Your code is here -----\n",
        "fruit_count = {}\n",
        "for fruit in fruits:\n",
        "    if fruit in fruit_count:\n",
        "        fruit_count[fruit] += 1\n",
        "    else:\n",
        "        fruit_count[fruit] = 1\n",
        "print(\"Fruit counts:\")\n",
        "for fruit, count in fruit_count.items():\n",
        "    print(f\"{fruit}: {count}\")"
      ],
      "metadata": {
        "colab": {
          "base_uri": "https://localhost:8080/"
        },
        "id": "KrCdVYHouauo",
        "outputId": "d94364fa-4785-4074-f644-2c1d7b33c3ec"
      },
      "execution_count": 31,
      "outputs": [
        {
          "output_type": "stream",
          "name": "stdout",
          "text": [
            "Fruit counts:\n",
            "apple: 3\n",
            "orange: 2\n",
            "banana: 1\n"
          ]
        }
      ]
    },
    {
      "cell_type": "markdown",
      "source": [
        "# Task 6: Simple Calculator\n",
        "\n",
        "In this task, you will make a simple calculator to add, subtract, multiply, or divide two numbers.\n",
        "\n",
        "Steps:\n",
        "1. Ask for Two Numbers: Get two numbers from the user.\n",
        "2. Choose an Operation: Ask the user if they want to add, subtract, multiply, or divide.\n",
        "3. Calculate and Show the Result: Use if-else to perform the chosen operation and display the result."
      ],
      "metadata": {
        "id": "_PaeU0AJYcV3"
      }
    },
    {
      "cell_type": "code",
      "source": [
        "# Step 1: Get two numbers from the user\n",
        "num1 = float(input(\"Enter the first number: \"))\n",
        "num2 = float(input(\"Enter the second number: \"))\n",
        "\n",
        "# Step 2: Choose an operation\n",
        "operation = input(\"Choose an operation (+, -, *, /): \")\n",
        "\n",
        "# Step 3: Perform the calculation\n",
        "# ---   Your code is here -----\n",
        "if operation == \"+\":\n",
        "    result = num1 + num2\n",
        "elif operation == \"-\":\n",
        "    result = num1 - num2\n",
        "elif operation == \"*\":\n",
        "    result = num1 * num2\n",
        "elif operation == \"/\":\n",
        "    result = num1 / num2\n",
        "else:\n",
        "    result = \"Invalid operation\"\n",
        "\n",
        "print(\"Result:\", result)\n"
      ],
      "metadata": {
        "id": "-iFJNRV0YfCr",
        "outputId": "ad33f8f5-80bc-4b1d-a89d-b7f7b211bcef",
        "colab": {
          "base_uri": "https://localhost:8080/"
        }
      },
      "execution_count": 32,
      "outputs": [
        {
          "output_type": "stream",
          "name": "stdout",
          "text": [
            "Enter the first number: 10\n",
            "Enter the second number: 5\n",
            "Choose an operation (+, -, *, /): *\n",
            "Result: 50.0\n"
          ]
        }
      ]
    }
  ]
}