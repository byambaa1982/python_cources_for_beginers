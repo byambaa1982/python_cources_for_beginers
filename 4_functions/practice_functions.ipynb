{
  "nbformat": 4,
  "nbformat_minor": 0,
  "metadata": {
    "colab": {
      "provenance": [],
      "authorship_tag": "ABX9TyPeDFCY49CwXurH7Ht7YurW",
      "include_colab_link": true
    },
    "kernelspec": {
      "name": "python3",
      "display_name": "Python 3"
    },
    "language_info": {
      "name": "python"
    }
  },
  "cells": [
    {
      "cell_type": "markdown",
      "metadata": {
        "id": "view-in-github",
        "colab_type": "text"
      },
      "source": [
        "<a href=\"https://colab.research.google.com/github/byambaa1982/python_cources_for_beginers/blob/main/practice_exercise/practice_functions.ipynb\" target=\"_parent\"><img src=\"https://colab.research.google.com/assets/colab-badge.svg\" alt=\"Open In Colab\"/></a>"
      ]
    },
    {
      "cell_type": "markdown",
      "source": [
        "# Task 1: Add Two Numbers\n",
        "Create a function that takes two numbers as arguments and returns their sum."
      ],
      "metadata": {
        "id": "_PaeU0AJYcV3"
      }
    },
    {
      "cell_type": "code",
      "source": [
        "def add_numbers(a, b):\n",
        "    return a + b\n"
      ],
      "metadata": {
        "id": "-iFJNRV0YfCr"
      },
      "execution_count": 2,
      "outputs": []
    },
    {
      "cell_type": "code",
      "source": [
        "# Example usage\n",
        "result = add_numbers(5, 10)\n",
        "print(result)"
      ],
      "metadata": {
        "id": "TnrMprJ-VBX4",
        "outputId": "b301a227-9306-482b-9325-e59d86c00da6",
        "colab": {
          "base_uri": "https://localhost:8080/"
        }
      },
      "execution_count": 3,
      "outputs": [
        {
          "output_type": "stream",
          "name": "stdout",
          "text": [
            "15\n"
          ]
        }
      ]
    },
    {
      "cell_type": "markdown",
      "source": [
        " # Task 2: Multiply Two Numbers\n",
        "\n",
        "Create a function that takes two numbers as arguments and returns their product."
      ],
      "metadata": {
        "id": "JtnHqhLyYtZh"
      }
    },
    {
      "cell_type": "code",
      "source": [],
      "metadata": {
        "id": "1-anIVkNYqJy"
      },
      "execution_count": 4,
      "outputs": []
    },
    {
      "cell_type": "code",
      "source": [
        "# Your code is here\n"
      ],
      "metadata": {
        "id": "phJ0DyBTVVX8",
        "outputId": "34bc4ec3-47af-4a3e-b241-cf8f7cb9e7f6",
        "colab": {
          "base_uri": "https://localhost:8080/"
        }
      },
      "execution_count": 5,
      "outputs": [
        {
          "output_type": "stream",
          "name": "stdout",
          "text": [
            "50\n"
          ]
        }
      ]
    },
    {
      "cell_type": "markdown",
      "source": [
        "# Task 3: Subtract Two Numbers\n",
        "Create a function that takes two numbers as arguments and returns their difference (first number minus the second number)."
      ],
      "metadata": {
        "id": "KDzRa5PlY-sN"
      }
    },
    {
      "cell_type": "code",
      "source": [
        "# Your code is here"
      ],
      "metadata": {
        "id": "9wwf4mjOYrZ8"
      },
      "execution_count": 6,
      "outputs": []
    },
    {
      "cell_type": "code",
      "source": [
        "# Example usage\n",
        "result = subtract_numbers(10, 5)\n",
        "print(result)  # Output: 5\n",
        "\n"
      ],
      "metadata": {
        "colab": {
          "base_uri": "https://localhost:8080/"
        },
        "id": "70WoQjPTT4nP",
        "outputId": "b4645a89-961b-4c87-950a-2aeb74d9e1ed"
      },
      "execution_count": 7,
      "outputs": [
        {
          "output_type": "stream",
          "name": "stdout",
          "text": [
            "5\n"
          ]
        }
      ]
    },
    {
      "cell_type": "markdown",
      "source": [
        "# Task 4: Concatenate Two Strings\n",
        "Create a function that takes two strings as arguments and returns their concatenation (joined together)."
      ],
      "metadata": {
        "id": "04n3CjvvZTBr"
      }
    },
    {
      "cell_type": "code",
      "source": [
        "# Your code is here"
      ],
      "metadata": {
        "id": "DRgqAE9LZV3b"
      },
      "execution_count": 9,
      "outputs": []
    },
    {
      "cell_type": "code",
      "source": [
        "# Example usage\n",
        "result = concatenate_strings(\"Hello, \", \"world!\")\n",
        "print(result)  # Output: Hello, world!\n"
      ],
      "metadata": {
        "id": "YfJUTYmLUE9e",
        "colab": {
          "base_uri": "https://localhost:8080/"
        },
        "outputId": "d140cc6c-277a-43c3-e263-5a3f3cbd9db4"
      },
      "execution_count": 10,
      "outputs": [
        {
          "output_type": "stream",
          "name": "stdout",
          "text": [
            "Hello, world!\n"
          ]
        }
      ]
    },
    {
      "cell_type": "markdown",
      "source": [
        "# Task 5: Repeat a String\n",
        "Create a function that takes a string and a number as arguments and returns the string repeated that many times."
      ],
      "metadata": {
        "id": "fu45lDBEZb4N"
      }
    },
    {
      "cell_type": "code",
      "source": [
        "# Your code is here"
      ],
      "metadata": {
        "id": "dB4fcU1AZeNS"
      },
      "execution_count": 11,
      "outputs": []
    },
    {
      "cell_type": "code",
      "source": [
        "# Example usage\n",
        "result = repeat_string(\"Hello\", 3)\n",
        "print(result)  # Output: HelloHelloHello\n",
        "\n"
      ],
      "metadata": {
        "colab": {
          "base_uri": "https://localhost:8080/"
        },
        "id": "NyFw2p3wUPQb",
        "outputId": "73f66adf-eba6-49f0-d45f-64d128a3fa6e"
      },
      "execution_count": 12,
      "outputs": [
        {
          "output_type": "stream",
          "name": "stdout",
          "text": [
            "HelloHelloHello\n"
          ]
        }
      ]
    },
    {
      "cell_type": "code",
      "source": [],
      "metadata": {
        "id": "6ffRWzIVZITP"
      },
      "execution_count": null,
      "outputs": []
    },
    {
      "cell_type": "markdown",
      "source": [
        "# Task 6: Get the First Character of a String\n",
        "Create a function that takes a string as an argument and returns the first character of the string."
      ],
      "metadata": {
        "id": "9nA3nMqsZI_l"
      }
    },
    {
      "cell_type": "code",
      "source": [
        "# Your code is here"
      ],
      "metadata": {
        "id": "v438vXNcZLpI"
      },
      "execution_count": 14,
      "outputs": []
    },
    {
      "cell_type": "code",
      "source": [
        "# Example usage\n",
        "result = first_character(\"Python\")\n",
        "print(result)  # Output: P\n"
      ],
      "metadata": {
        "colab": {
          "base_uri": "https://localhost:8080/"
        },
        "id": "fXJUbsDmZNSg",
        "outputId": "73d7c4af-ef44-4026-dd32-4a66a5e1a3c1"
      },
      "execution_count": 15,
      "outputs": [
        {
          "output_type": "stream",
          "name": "stdout",
          "text": [
            "P\n"
          ]
        }
      ]
    },
    {
      "cell_type": "markdown",
      "source": [
        "# Task 7: Get the Second Character of a String\n",
        "Create a function that takes a string as an argument and returns the second character of the string."
      ],
      "metadata": {
        "id": "DSuCyQgeZa5a"
      }
    },
    {
      "cell_type": "code",
      "source": [
        "# Your code is here"
      ],
      "metadata": {
        "id": "8RfwvtNiZdwY"
      },
      "execution_count": 17,
      "outputs": []
    },
    {
      "cell_type": "code",
      "source": [
        "# Example usage\n",
        "result = second_character(\"Python\")\n",
        "print(result)  # Output: P"
      ],
      "metadata": {
        "colab": {
          "base_uri": "https://localhost:8080/"
        },
        "id": "RSVu65CIZmCE",
        "outputId": "e56e2c5b-3970-4fe7-aba7-52e24b0ac1f1"
      },
      "execution_count": 18,
      "outputs": [
        {
          "output_type": "stream",
          "name": "stdout",
          "text": [
            "y\n"
          ]
        }
      ]
    },
    {
      "cell_type": "markdown",
      "source": [
        "# Task 8: Find the Length of a String\n",
        "Create a function that takes a string as an argument and returns the length of the string (how many characters it has)."
      ],
      "metadata": {
        "id": "xDXAQuVRZ8wA"
      }
    },
    {
      "cell_type": "code",
      "source": [
        "# Your code is here\n",
        "\n",
        "# Example usage\n",
        "result = string_length(\"Hello\")\n",
        "print(result)  # Output: 5\n"
      ],
      "metadata": {
        "colab": {
          "base_uri": "https://localhost:8080/"
        },
        "id": "4WoATAfkZs7Y",
        "outputId": "a74a8909-7d1e-46ce-d154-4ee4bc7dd509"
      },
      "execution_count": 19,
      "outputs": [
        {
          "output_type": "stream",
          "name": "stdout",
          "text": [
            "5\n"
          ]
        }
      ]
    },
    {
      "cell_type": "markdown",
      "source": [
        "# Task 9: Convert a String to Uppercase\n",
        "Create a function that takes a string as an argument and returns the string in all uppercase letters."
      ],
      "metadata": {
        "id": "Qu-lkN03aD1T"
      }
    },
    {
      "cell_type": "code",
      "source": [
        "# Your code is here\n",
        "\n",
        "# Example usage\n",
        "result = to_uppercase(\"hello\")\n",
        "print(result)  # Output: HELLO\n"
      ],
      "metadata": {
        "colab": {
          "base_uri": "https://localhost:8080/"
        },
        "id": "hG67oF3NaGCw",
        "outputId": "2be9a840-e422-4717-b39a-3f4848d4c531"
      },
      "execution_count": 20,
      "outputs": [
        {
          "output_type": "stream",
          "name": "stdout",
          "text": [
            "HELLO\n"
          ]
        }
      ]
    }
  ]
}