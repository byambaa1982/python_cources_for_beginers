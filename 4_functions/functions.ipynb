{
  "nbformat": 4,
  "nbformat_minor": 0,
  "metadata": {
    "colab": {
      "provenance": [],
      "include_colab_link": true
    },
    "kernelspec": {
      "name": "python3",
      "display_name": "Python 3"
    },
    "language_info": {
      "name": "python"
    }
  },
  "cells": [
    {
      "cell_type": "markdown",
      "metadata": {
        "id": "view-in-github",
        "colab_type": "text"
      },
      "source": [
        "<a href=\"https://colab.research.google.com/github/byambaa1982/python_cources_for_beginers/blob/class_zero_urangoo/4_functions/functions.ipynb\" target=\"_parent\"><img src=\"https://colab.research.google.com/assets/colab-badge.svg\" alt=\"Open In Colab\"/></a>"
      ]
    },
    {
      "cell_type": "code",
      "execution_count": null,
      "metadata": {
        "colab": {
          "base_uri": "https://localhost:8080/"
        },
        "id": "zywuH_7Id-Ns",
        "outputId": "af74b0bd-2412-4bd3-d864-5b79cb62a69c"
      },
      "outputs": [
        {
          "output_type": "stream",
          "name": "stdout",
          "text": [
            "'Donald Trump's 11 July sentencing in his hush money case may be delayed after his lawyers asked Elephant judge to set asideElephant wake of Supreme Court's immunity ruling.In a letter\n"
          ]
        }
      ],
      "source": [
        "burnee_text = \"\"\"\n",
        "'\\nDonald Trump\\'s 11 July sentencing in his hush money case may be delayed after his lawyers asked Elephant judge to set aside\n",
        "Elephant wake of Supreme Court\\'s immunity ruling.\\nIn a letter\n",
        "\n",
        "\"\"\"\n",
        "clean_text = burnee_text.replace(\"\\n\", \"\")\n",
        "print(clean_text)"
      ]
    },
    {
      "cell_type": "code",
      "source": [
        "second_text = \"\"\"“I couldn’t clip in” to the bike, she said. “And I was like,\n",
        "'Why is this not working?' I was starting to get really embarrassed.\n",
        "Finally, we realized I just had incompatible cleats and pedals.”\"\"\"\n",
        "clean_text = second_text.replace(\",\", \"\")\n",
        "print(clean_text)"
      ],
      "metadata": {
        "colab": {
          "base_uri": "https://localhost:8080/"
        },
        "id": "kbU7VnWwjXWk",
        "outputId": "537e42d8-d571-4e2e-a3b3-f4ded89488c0"
      },
      "execution_count": null,
      "outputs": [
        {
          "output_type": "stream",
          "name": "stdout",
          "text": [
            "“I couldn’t clip in” to the bike she said. “And I was like\n",
            "'Why is this not working?' I was starting to get really embarrassed.\n",
            "Finally we realized I just had incompatible cleats and pedals.”\n"
          ]
        }
      ]
    },
    {
      "cell_type": "code",
      "source": [
        "def text_cleaning(text):\n",
        "  clean_text = text.replace(\",\", \"\")\n",
        "  return clean_text"
      ],
      "metadata": {
        "id": "bBoF82z9jz8Z"
      },
      "execution_count": null,
      "outputs": []
    },
    {
      "cell_type": "code",
      "source": [
        "\n",
        "text_cleaning(second_text)"
      ],
      "metadata": {
        "colab": {
          "base_uri": "https://localhost:8080/",
          "height": 52
        },
        "id": "dbusuGwokGui",
        "outputId": "d68c88a6-7f30-408c-a9e4-ddf85939fb95"
      },
      "execution_count": null,
      "outputs": [
        {
          "output_type": "execute_result",
          "data": {
            "text/plain": [
              "\"“I couldn’t clip in” to the bike she said. “And I was like\\n'Why is this not working?' I was starting to get really embarrassed.\\nFinally we realized I just had incompatible cleats and pedals.”\""
            ],
            "application/vnd.google.colaboratory.intrinsic+json": {
              "type": "string"
            }
          },
          "metadata": {},
          "execution_count": 12
        }
      ]
    },
    {
      "cell_type": "code",
      "source": [
        "my_text = \"kahjg , kldkg, lgkdas, gdkaj , gedkj, \"\n",
        "text_cleaning(my_text)"
      ],
      "metadata": {
        "colab": {
          "base_uri": "https://localhost:8080/",
          "height": 35
        },
        "id": "_7Xasbj7kPOI",
        "outputId": "57e7483d-fb38-40f2-e485-cd5ba76c20a1"
      },
      "execution_count": null,
      "outputs": [
        {
          "output_type": "execute_result",
          "data": {
            "text/plain": [
              "'kahjg  kldkg lgkdas gdkaj  gedkj '"
            ],
            "application/vnd.google.colaboratory.intrinsic+json": {
              "type": "string"
            }
          },
          "metadata": {},
          "execution_count": 13
        }
      ]
    },
    {
      "cell_type": "code",
      "source": [
        "x = 4\n",
        "y = 5\n",
        "z = x+y\n",
        "print(z)"
      ],
      "metadata": {
        "colab": {
          "base_uri": "https://localhost:8080/"
        },
        "id": "Mmg39V4Ekm4w",
        "outputId": "76246163-bba7-47a6-9271-e92a96255d78"
      },
      "execution_count": null,
      "outputs": [
        {
          "output_type": "stream",
          "name": "stdout",
          "text": [
            "9\n"
          ]
        }
      ]
    },
    {
      "cell_type": "code",
      "source": [
        "def subtract_numbers(a, b):\n",
        "  return a-b"
      ],
      "metadata": {
        "id": "1ddGk6djktyq"
      },
      "execution_count": null,
      "outputs": []
    },
    {
      "cell_type": "code",
      "source": [
        "subtract_numbers(44897, 6)"
      ],
      "metadata": {
        "colab": {
          "base_uri": "https://localhost:8080/"
        },
        "id": "mZGaiGUkk11f",
        "outputId": "21d50aea-ea79-4a07-cb6f-c99a32493fd3"
      },
      "execution_count": null,
      "outputs": [
        {
          "output_type": "execute_result",
          "data": {
            "text/plain": [
              "44891"
            ]
          },
          "metadata": {},
          "execution_count": 18
        }
      ]
    },
    {
      "cell_type": "code",
      "source": [
        "for i in range(1, 20):\n",
        "  if i%2 ==0:\n",
        "    print(f\"{i} is even number\")\n",
        "  else:\n",
        "    print(f\"{i} is odd number\")"
      ],
      "metadata": {
        "colab": {
          "base_uri": "https://localhost:8080/"
        },
        "id": "6SvZXe0fn1yn",
        "outputId": "0ac714d7-a7cb-4404-aad9-f6abc465a717"
      },
      "execution_count": null,
      "outputs": [
        {
          "output_type": "stream",
          "name": "stdout",
          "text": [
            "1 is odd number\n",
            "2 is even number\n",
            "3 is odd number\n",
            "4 is even number\n",
            "5 is odd number\n",
            "6 is even number\n",
            "7 is odd number\n",
            "8 is even number\n",
            "9 is odd number\n",
            "10 is even number\n",
            "11 is odd number\n",
            "12 is even number\n",
            "13 is odd number\n",
            "14 is even number\n",
            "15 is odd number\n",
            "16 is even number\n",
            "17 is odd number\n",
            "18 is even number\n",
            "19 is odd number\n"
          ]
        }
      ]
    },
    {
      "cell_type": "code",
      "source": [
        "my_text = \"my name is Urangoo and I am 12 years old\""
      ],
      "metadata": {
        "id": "nJauE5Q-AFYy"
      },
      "execution_count": 28,
      "outputs": []
    },
    {
      "cell_type": "code",
      "source": [
        "# make a function that turn text into a list\n",
        "my_list = my_text.split(\" \")\n",
        "my_list\n",
        "def text_to_list(my_text):\n",
        "  my_list = my_text.split(\" \")\n",
        "  return my_list"
      ],
      "metadata": {
        "id": "MU49ZXDi9NP4"
      },
      "execution_count": 29,
      "outputs": []
    },
    {
      "cell_type": "code",
      "source": [
        "text_to_list(my_text)"
      ],
      "metadata": {
        "colab": {
          "base_uri": "https://localhost:8080/"
        },
        "id": "8g9RfnoIBfGl",
        "outputId": "778a4386-f4a5-486c-e130-a72e409dee77"
      },
      "execution_count": 31,
      "outputs": [
        {
          "output_type": "execute_result",
          "data": {
            "text/plain": [
              "['my', 'name', 'is', 'Urangoo', 'and', 'I', 'am', '12', 'years', 'old']"
            ]
          },
          "metadata": {},
          "execution_count": 31
        }
      ]
    },
    {
      "cell_type": "code",
      "source": [
        "# Make a function that count words in text\n",
        "my_text = \"my name is Urangoo and I am 12 years old\"\n",
        "\n",
        "def count_words(my_text):\n",
        "  my_list = my_text.split(\" \")\n",
        "  return len(my_list)"
      ],
      "metadata": {
        "id": "Genq2QKG9O8b"
      },
      "execution_count": 46,
      "outputs": []
    },
    {
      "cell_type": "code",
      "source": [
        "count_words(my_text)"
      ],
      "metadata": {
        "id": "XgRjCkAfIfPh",
        "outputId": "5874dfcd-dd83-4ce9-905d-cf90e6d14459",
        "colab": {
          "base_uri": "https://localhost:8080/"
        }
      },
      "execution_count": 47,
      "outputs": [
        {
          "output_type": "execute_result",
          "data": {
            "text/plain": [
              "10"
            ]
          },
          "metadata": {},
          "execution_count": 47
        }
      ]
    },
    {
      "cell_type": "code",
      "source": [
        "# Make a function that replace any \"the\" with \"THE\" in a give text"
      ],
      "metadata": {
        "id": "SsaVcL9B9Q9L"
      },
      "execution_count": null,
      "outputs": []
    }
  ]
}