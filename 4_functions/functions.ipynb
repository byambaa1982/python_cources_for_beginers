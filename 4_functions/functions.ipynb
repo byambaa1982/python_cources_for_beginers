{
  "nbformat": 4,
  "nbformat_minor": 0,
  "metadata": {
    "colab": {
      "provenance": [],
      "include_colab_link": true
    },
    "kernelspec": {
      "name": "python3",
      "display_name": "Python 3"
    },
    "language_info": {
      "name": "python"
    }
  },
  "cells": [
    {
      "cell_type": "markdown",
      "metadata": {
        "id": "view-in-github",
        "colab_type": "text"
      },
      "source": [
        "<a href=\"https://colab.research.google.com/github/byambaa1982/python_cources_for_beginers/blob/class_zero_urangoo/4_functions/functions.ipynb\" target=\"_parent\"><img src=\"https://colab.research.google.com/assets/colab-badge.svg\" alt=\"Open In Colab\"/></a>"
      ]
    },
    {
      "cell_type": "code",
      "execution_count": null,
      "metadata": {
        "colab": {
          "base_uri": "https://localhost:8080/"
        },
        "id": "zywuH_7Id-Ns",
        "outputId": "af74b0bd-2412-4bd3-d864-5b79cb62a69c"
      },
      "outputs": [
        {
          "output_type": "stream",
          "name": "stdout",
          "text": [
            "'Donald Trump's 11 July sentencing in his hush money case may be delayed after his lawyers asked Elephant judge to set asideElephant wake of Supreme Court's immunity ruling.In a letter\n"
          ]
        }
      ],
      "source": [
        "burnee_text = \"\"\"\n",
        "'\\nDonald Trump\\'s 11 July sentencing in his hush money case may be delayed after his lawyers asked Elephant judge to set aside\n",
        "Elephant wake of Supreme Court\\'s immunity ruling.\\nIn a letter\n",
        "\n",
        "\"\"\"\n",
        "clean_text = burnee_text.replace(\"\\n\", \"\")\n",
        "print(clean_text)"
      ]
    },
    {
      "cell_type": "code",
      "source": [
        "second_text = \"\"\"“I couldn’t clip in” to the bike, she said. “And I was like,\n",
        "'Why is this not working?' I was starting to get really embarrassed.\n",
        "Finally, we realized I just had incompatible cleats and pedals.”\"\"\"\n",
        "clean_text = second_text.replace(\",\", \"\")\n",
        "print(clean_text)"
      ],
      "metadata": {
        "colab": {
          "base_uri": "https://localhost:8080/"
        },
        "id": "kbU7VnWwjXWk",
        "outputId": "537e42d8-d571-4e2e-a3b3-f4ded89488c0"
      },
      "execution_count": null,
      "outputs": [
        {
          "output_type": "stream",
          "name": "stdout",
          "text": [
            "“I couldn’t clip in” to the bike she said. “And I was like\n",
            "'Why is this not working?' I was starting to get really embarrassed.\n",
            "Finally we realized I just had incompatible cleats and pedals.”\n"
          ]
        }
      ]
    },
    {
      "cell_type": "code",
      "source": [
        "def text_cleaning(text):\n",
        "  clean_text = text.replace(\",\", \"\")\n",
        "  return clean_text"
      ],
      "metadata": {
        "id": "bBoF82z9jz8Z"
      },
      "execution_count": null,
      "outputs": []
    },
    {
      "cell_type": "code",
      "source": [
        "\n",
        "text_cleaning(second_text)"
      ],
      "metadata": {
        "colab": {
          "base_uri": "https://localhost:8080/",
          "height": 52
        },
        "id": "dbusuGwokGui",
        "outputId": "d68c88a6-7f30-408c-a9e4-ddf85939fb95"
      },
      "execution_count": null,
      "outputs": [
        {
          "output_type": "execute_result",
          "data": {
            "text/plain": [
              "\"“I couldn’t clip in” to the bike she said. “And I was like\\n'Why is this not working?' I was starting to get really embarrassed.\\nFinally we realized I just had incompatible cleats and pedals.”\""
            ],
            "application/vnd.google.colaboratory.intrinsic+json": {
              "type": "string"
            }
          },
          "metadata": {},
          "execution_count": 12
        }
      ]
    },
    {
      "cell_type": "code",
      "source": [
        "my_text = \"kahjg , kldkg, lgkdas, gdkaj , gedkj, \"\n",
        "text_cleaning(my_text)"
      ],
      "metadata": {
        "colab": {
          "base_uri": "https://localhost:8080/",
          "height": 35
        },
        "id": "_7Xasbj7kPOI",
        "outputId": "57e7483d-fb38-40f2-e485-cd5ba76c20a1"
      },
      "execution_count": null,
      "outputs": [
        {
          "output_type": "execute_result",
          "data": {
            "text/plain": [
              "'kahjg  kldkg lgkdas gdkaj  gedkj '"
            ],
            "application/vnd.google.colaboratory.intrinsic+json": {
              "type": "string"
            }
          },
          "metadata": {},
          "execution_count": 13
        }
      ]
    },
    {
      "cell_type": "code",
      "source": [
        "x = 4\n",
        "y = 5\n",
        "z = x+y\n",
        "print(z)"
      ],
      "metadata": {
        "colab": {
          "base_uri": "https://localhost:8080/"
        },
        "id": "Mmg39V4Ekm4w",
        "outputId": "76246163-bba7-47a6-9271-e92a96255d78"
      },
      "execution_count": null,
      "outputs": [
        {
          "output_type": "stream",
          "name": "stdout",
          "text": [
            "9\n"
          ]
        }
      ]
    },
    {
      "cell_type": "code",
      "source": [
        "def subtract_numbers(a, b):\n",
        "  return a-b"
      ],
      "metadata": {
        "id": "1ddGk6djktyq"
      },
      "execution_count": null,
      "outputs": []
    },
    {
      "cell_type": "code",
      "source": [
        "subtract_numbers(44897, 6)"
      ],
      "metadata": {
        "colab": {
          "base_uri": "https://localhost:8080/"
        },
        "id": "mZGaiGUkk11f",
        "outputId": "21d50aea-ea79-4a07-cb6f-c99a32493fd3"
      },
      "execution_count": null,
      "outputs": [
        {
          "output_type": "execute_result",
          "data": {
            "text/plain": [
              "44891"
            ]
          },
          "metadata": {},
          "execution_count": 18
        }
      ]
    },
    {
      "cell_type": "code",
      "source": [
        "for i in range(1, 20):\n",
        "  if i%2 ==0:\n",
        "    print(f\"{i} is even number\")\n",
        "  else:\n",
        "    print(f\"{i} is odd number\")"
      ],
      "metadata": {
        "colab": {
          "base_uri": "https://localhost:8080/"
        },
        "id": "6SvZXe0fn1yn",
        "outputId": "0ac714d7-a7cb-4404-aad9-f6abc465a717"
      },
      "execution_count": null,
      "outputs": [
        {
          "output_type": "stream",
          "name": "stdout",
          "text": [
            "1 is odd number\n",
            "2 is even number\n",
            "3 is odd number\n",
            "4 is even number\n",
            "5 is odd number\n",
            "6 is even number\n",
            "7 is odd number\n",
            "8 is even number\n",
            "9 is odd number\n",
            "10 is even number\n",
            "11 is odd number\n",
            "12 is even number\n",
            "13 is odd number\n",
            "14 is even number\n",
            "15 is odd number\n",
            "16 is even number\n",
            "17 is odd number\n",
            "18 is even number\n",
            "19 is odd number\n"
          ]
        }
      ]
    },
    {
      "cell_type": "code",
      "source": [
        "my_text = \"my name is Urangoo and I am 12 years old\""
      ],
      "metadata": {
        "id": "nJauE5Q-AFYy"
      },
      "execution_count": null,
      "outputs": []
    },
    {
      "cell_type": "code",
      "source": [
        "# make a function that turn text into a list\n",
        "my_list = my_text.split(\" \")\n",
        "my_list\n",
        "def text_to_list(my_text):\n",
        "  my_list = my_text.split(\" \")\n",
        "  return my_list"
      ],
      "metadata": {
        "id": "MU49ZXDi9NP4"
      },
      "execution_count": null,
      "outputs": []
    },
    {
      "cell_type": "code",
      "source": [
        "text_to_list(my_text)"
      ],
      "metadata": {
        "colab": {
          "base_uri": "https://localhost:8080/"
        },
        "id": "8g9RfnoIBfGl",
        "outputId": "778a4386-f4a5-486c-e130-a72e409dee77"
      },
      "execution_count": null,
      "outputs": [
        {
          "output_type": "execute_result",
          "data": {
            "text/plain": [
              "['my', 'name', 'is', 'Urangoo', 'and', 'I', 'am', '12', 'years', 'old']"
            ]
          },
          "metadata": {},
          "execution_count": 31
        }
      ]
    },
    {
      "cell_type": "code",
      "source": [
        "# Make a function that count words in text\n",
        "my_text = \"my name is Urangoo and I am 12 years old\"\n",
        "\n",
        "def count_words(my_text):\n",
        "  my_list = my_text.split(\" \")\n",
        "  return len(my_list)"
      ],
      "metadata": {
        "id": "Genq2QKG9O8b"
      },
      "execution_count": null,
      "outputs": []
    },
    {
      "cell_type": "code",
      "source": [
        "count_words(my_text)"
      ],
      "metadata": {
        "colab": {
          "base_uri": "https://localhost:8080/"
        },
        "id": "XgRjCkAfIfPh",
        "outputId": "5874dfcd-dd83-4ce9-905d-cf90e6d14459"
      },
      "execution_count": null,
      "outputs": [
        {
          "output_type": "execute_result",
          "data": {
            "text/plain": [
              "10"
            ]
          },
          "metadata": {},
          "execution_count": 47
        }
      ]
    },
    {
      "cell_type": "code",
      "source": [
        "# Make a function that count words in text\n",
        "my_text = \"my name is Urangoo and I am 12 years old\"\n",
        "\n",
        "def count_words(my_text):\n",
        "  my_list = my_text.split(\" \")\n",
        "  return (f\"There are {len(my_list)} words in this text\")"
      ],
      "metadata": {
        "id": "gWFdn9jyKyqH"
      },
      "execution_count": null,
      "outputs": []
    },
    {
      "cell_type": "code",
      "source": [
        "count_words(my_text)"
      ],
      "metadata": {
        "colab": {
          "base_uri": "https://localhost:8080/",
          "height": 35
        },
        "id": "eznPAo6tLUE_",
        "outputId": "71bb9675-f323-42a9-eca3-5fe1d5ee338b"
      },
      "execution_count": null,
      "outputs": [
        {
          "output_type": "execute_result",
          "data": {
            "text/plain": [
              "'There are 10 words in this text'"
            ],
            "application/vnd.google.colaboratory.intrinsic+json": {
              "type": "string"
            }
          },
          "metadata": {},
          "execution_count": 58
        }
      ]
    },
    {
      "cell_type": "code",
      "source": [
        "# Make a function that replace any \"the\" with \"THE\" in a give text\n",
        "def word_replacer(any_text):\n",
        "  print(any_text.replace(\"Urangoo\", \"Bob\"))"
      ],
      "metadata": {
        "id": "SsaVcL9B9Q9L"
      },
      "execution_count": null,
      "outputs": []
    },
    {
      "cell_type": "code",
      "source": [
        "word_replacer(\"my name is Urangoo and I am 12 years old\")"
      ],
      "metadata": {
        "colab": {
          "base_uri": "https://localhost:8080/"
        },
        "id": "0Qb7XE7DL-KN",
        "outputId": "4526df39-fc68-4af3-d79c-c113340efb9b"
      },
      "execution_count": null,
      "outputs": [
        {
          "output_type": "stream",
          "name": "stdout",
          "text": [
            "my name is Bob and I am 12 years old\n"
          ]
        }
      ]
    },
    {
      "cell_type": "code",
      "source": [
        "# Make a function that replace any \"the\" with \"THE\" in a give text\n",
        "def word_replacer(any_text):\n",
        "  print(any_text.replace(\"12\", \"25\"))"
      ],
      "metadata": {
        "id": "69imDoBxNic9"
      },
      "execution_count": null,
      "outputs": []
    },
    {
      "cell_type": "code",
      "source": [
        "word_replacer(\"my name is Urangoo and I am 12 years old\")"
      ],
      "metadata": {
        "colab": {
          "base_uri": "https://localhost:8080/"
        },
        "id": "ePTRJJqsNoUr",
        "outputId": "b35a3f7a-9f70-435d-afef-8ee8b996a308"
      },
      "execution_count": null,
      "outputs": [
        {
          "output_type": "stream",
          "name": "stdout",
          "text": [
            "my name is Urangoo and I am 25 years old\n"
          ]
        }
      ]
    },
    {
      "cell_type": "code",
      "source": [
        "# Make a function that replace any \"the\" with \"THE\" in a give text\n",
        "def word_replacer(any_text, a, b):\n",
        "  print(any_text.replace(a, b))"
      ],
      "metadata": {
        "id": "sTI5MDyWPHmI"
      },
      "execution_count": null,
      "outputs": []
    },
    {
      "cell_type": "code",
      "source": [
        "word_replacer(\"my name is Urangoo and I am 12 years old\")"
      ],
      "metadata": {
        "id": "pgA30Jv8RJkw"
      },
      "execution_count": null,
      "outputs": []
    },
    {
      "cell_type": "code",
      "source": [
        "My_text = \"today is a nice day\""
      ],
      "metadata": {
        "id": "ZNij36CmTI1m"
      },
      "execution_count": null,
      "outputs": []
    },
    {
      "cell_type": "code",
      "source": [
        "def word_counter(any_text):\n",
        " print(len(text.split))"
      ],
      "metadata": {
        "id": "dOUMr34sPG70"
      },
      "execution_count": null,
      "outputs": []
    },
    {
      "cell_type": "code",
      "source": [
        "my_text = \"today is a nice day\"\n",
        "my_list = my_text.split(\" \")\n",
        "my_list"
      ],
      "metadata": {
        "id": "p4_TbNR5UIFL",
        "outputId": "5c364887-1b0c-4b17-e6df-ad7ced909f5d",
        "colab": {
          "base_uri": "https://localhost:8080/"
        }
      },
      "execution_count": null,
      "outputs": [
        {
          "output_type": "execute_result",
          "data": {
            "text/plain": [
              "['today', 'is', 'a', 'nice', 'day']"
            ]
          },
          "metadata": {},
          "execution_count": 9
        }
      ]
    },
    {
      "cell_type": "code",
      "source": [
        "my_text = \"today is a nice day\""
      ],
      "metadata": {
        "id": "oMmuRU2qo82a"
      },
      "execution_count": 4,
      "outputs": []
    },
    {
      "cell_type": "code",
      "source": [
        "def word_counter(any_text):\n",
        "  for i in my_list:\n",
        "   print(len(text.split))\n",
        "   print(i)"
      ],
      "metadata": {
        "id": "6Xet1WFlpzTA"
      },
      "execution_count": 13,
      "outputs": []
    },
    {
      "cell_type": "code",
      "source": [
        "\n",
        "def word_counter(any_text):\n",
        "  total_words = len(any_text.split(\" \"))\n",
        "  return total_words\n",
        ""
      ],
      "metadata": {
        "id": "Y3ZiSyo8tPfs"
      },
      "execution_count": 14,
      "outputs": []
    },
    {
      "cell_type": "code",
      "source": [
        "\n",
        "word_counter(\"It a a test\")"
      ],
      "metadata": {
        "colab": {
          "base_uri": "https://localhost:8080/"
        },
        "id": "3EiaHpcdtQxI",
        "outputId": "caad2284-a1dc-48f4-d268-b317a6579dd3"
      },
      "execution_count": 15,
      "outputs": [
        {
          "output_type": "execute_result",
          "data": {
            "text/plain": [
              "4"
            ]
          },
          "metadata": {},
          "execution_count": 15
        }
      ]
    },
    {
      "cell_type": "code",
      "source": [
        "\n",
        "my_text = \"I am testing a function\"\n",
        "word_counter(my_text)\n",
        ""
      ],
      "metadata": {
        "colab": {
          "base_uri": "https://localhost:8080/"
        },
        "id": "moAlEihPtTiA",
        "outputId": "f15ddb6c-325c-47c4-e58a-e9c7a00a1993"
      },
      "execution_count": 16,
      "outputs": [
        {
          "output_type": "execute_result",
          "data": {
            "text/plain": [
              "5"
            ]
          },
          "metadata": {},
          "execution_count": 16
        }
      ]
    },
    {
      "cell_type": "code",
      "source": [
        "\n",
        "your_text= \"I am testing a function with different words\"\n",
        "word_counter(your_text)"
      ],
      "metadata": {
        "colab": {
          "base_uri": "https://localhost:8080/"
        },
        "id": "I4p--5XztWJ_",
        "outputId": "4dd1c0f2-b9ee-4149-b77f-a9b5c0059178"
      },
      "execution_count": 17,
      "outputs": [
        {
          "output_type": "execute_result",
          "data": {
            "text/plain": [
              "8"
            ]
          },
          "metadata": {},
          "execution_count": 17
        }
      ]
    },
    {
      "cell_type": "code",
      "source": [
        "\n",
        "word_counter(\"It a test for my new function\")"
      ],
      "metadata": {
        "colab": {
          "base_uri": "https://localhost:8080/"
        },
        "id": "7nJ8nkSTtYbm",
        "outputId": "28eae870-ce15-47ad-93a1-0b15a0557007"
      },
      "execution_count": 18,
      "outputs": [
        {
          "output_type": "execute_result",
          "data": {
            "text/plain": [
              "7"
            ]
          },
          "metadata": {},
          "execution_count": 18
        }
      ]
    },
    {
      "cell_type": "code",
      "source": [
        "def word_counter(any_text):\n",
        "  my_list = any_text.split(\" \")\n",
        "  total_words = len(my_list)\n",
        "  long_words = []\n",
        "  for word in my_list:\n",
        "    if len(word) >2:\n",
        "      long_words.append(word)\n",
        "  return f'There are {total_words} words in this text and {len(long_words)} have more than 2 letters'"
      ],
      "metadata": {
        "id": "GwcOJLNtvb5V"
      },
      "execution_count": 19,
      "outputs": []
    },
    {
      "cell_type": "code",
      "source": [
        "word_counter(\"It a a test\")\n",
        ""
      ],
      "metadata": {
        "colab": {
          "base_uri": "https://localhost:8080/",
          "height": 35
        },
        "id": "YAGt9_5Wvgp3",
        "outputId": "85b6119b-460c-4256-bf4f-bb22bdc9f249"
      },
      "execution_count": 20,
      "outputs": [
        {
          "output_type": "execute_result",
          "data": {
            "text/plain": [
              "'There are 4 words in this text and 1 have more than 2 letters'"
            ],
            "application/vnd.google.colaboratory.intrinsic+json": {
              "type": "string"
            }
          },
          "metadata": {},
          "execution_count": 20
        }
      ]
    },
    {
      "cell_type": "code",
      "source": [
        "my_text = \"I am testing a function\"\n",
        "word_counter(my_text)"
      ],
      "metadata": {
        "colab": {
          "base_uri": "https://localhost:8080/",
          "height": 35
        },
        "id": "AMEulMevvjYf",
        "outputId": "22618102-fe9b-4f5c-9684-59186b9cdd1c"
      },
      "execution_count": 21,
      "outputs": [
        {
          "output_type": "execute_result",
          "data": {
            "text/plain": [
              "'There are 5 words in this text and 2 have more than 2 letters'"
            ],
            "application/vnd.google.colaboratory.intrinsic+json": {
              "type": "string"
            }
          },
          "metadata": {},
          "execution_count": 21
        }
      ]
    },
    {
      "cell_type": "code",
      "source": [
        "\n",
        "your_text= \"I am testing a function with different words\"\n",
        "word_counter(your_text)\n",
        ""
      ],
      "metadata": {
        "colab": {
          "base_uri": "https://localhost:8080/",
          "height": 35
        },
        "id": "MOQJZmp-vneN",
        "outputId": "ec1d1f3c-95eb-4af6-e766-c5ae1d3617ba"
      },
      "execution_count": 22,
      "outputs": [
        {
          "output_type": "execute_result",
          "data": {
            "text/plain": [
              "'There are 8 words in this text and 5 have more than 2 letters'"
            ],
            "application/vnd.google.colaboratory.intrinsic+json": {
              "type": "string"
            }
          },
          "metadata": {},
          "execution_count": 22
        }
      ]
    },
    {
      "cell_type": "code",
      "source": [
        "\n",
        "word_counter(\"It a test for my new function\")"
      ],
      "metadata": {
        "colab": {
          "base_uri": "https://localhost:8080/",
          "height": 35
        },
        "id": "1DuVtWfFvp_-",
        "outputId": "6986c517-1457-4121-fe9a-cf26eecd5c1a"
      },
      "execution_count": 23,
      "outputs": [
        {
          "output_type": "execute_result",
          "data": {
            "text/plain": [
              "'There are 7 words in this text and 4 have more than 2 letters'"
            ],
            "application/vnd.google.colaboratory.intrinsic+json": {
              "type": "string"
            }
          },
          "metadata": {},
          "execution_count": 23
        }
      ]
    },
    {
      "cell_type": "code",
      "source": [
        "def word_counter(any_text):\n",
        "  my_list = any_text.split(\" \")\n",
        "  total_words = len(my_list)\n",
        "  long_words = []\n",
        "  medium_words = []\n",
        "  short_words = []\n",
        "  for word in my_list:\n",
        "    if len(word) >4:\n",
        "      long_words.append(word)\n",
        "    elif len(word ==3):\n",
        "      medium_words.append(word)\n",
        "    else:\n",
        "      short_words.append(word)\n",
        "  return f\"There are {total_words} words in this text, {len(long_words)} have more than 5 letters,  {len(medium_words)} is , and {len(short_words)}  have less than  letters\""
      ],
      "metadata": {
        "id": "YzOLZK7cwTs9"
      },
      "execution_count": 61,
      "outputs": []
    },
    {
      "cell_type": "code",
      "source": [
        "word_counter(\"It a test for my new function\")"
      ],
      "metadata": {
        "colab": {
          "base_uri": "https://localhost:8080/",
          "height": 258
        },
        "id": "RV85PFQyw4Zz",
        "outputId": "143ab0d3-b96f-445f-d958-8204e08777a7"
      },
      "execution_count": 62,
      "outputs": [
        {
          "output_type": "error",
          "ename": "TypeError",
          "evalue": "object of type 'bool' has no len()",
          "traceback": [
            "\u001b[0;31m---------------------------------------------------------------------------\u001b[0m",
            "\u001b[0;31mTypeError\u001b[0m                                 Traceback (most recent call last)",
            "\u001b[0;32m<ipython-input-62-efe07bc5aafc>\u001b[0m in \u001b[0;36m<cell line: 1>\u001b[0;34m()\u001b[0m\n\u001b[0;32m----> 1\u001b[0;31m \u001b[0mword_counter\u001b[0m\u001b[0;34m(\u001b[0m\u001b[0;34m\"It a test for my new function\"\u001b[0m\u001b[0;34m)\u001b[0m\u001b[0;34m\u001b[0m\u001b[0;34m\u001b[0m\u001b[0m\n\u001b[0m",
            "\u001b[0;32m<ipython-input-61-3bf799a2a782>\u001b[0m in \u001b[0;36mword_counter\u001b[0;34m(any_text)\u001b[0m\n\u001b[1;32m      8\u001b[0m     \u001b[0;32mif\u001b[0m \u001b[0mlen\u001b[0m\u001b[0;34m(\u001b[0m\u001b[0mword\u001b[0m\u001b[0;34m)\u001b[0m \u001b[0;34m>\u001b[0m\u001b[0;36m4\u001b[0m\u001b[0;34m:\u001b[0m\u001b[0;34m\u001b[0m\u001b[0;34m\u001b[0m\u001b[0m\n\u001b[1;32m      9\u001b[0m       \u001b[0mlong_words\u001b[0m\u001b[0;34m.\u001b[0m\u001b[0mappend\u001b[0m\u001b[0;34m(\u001b[0m\u001b[0mword\u001b[0m\u001b[0;34m)\u001b[0m\u001b[0;34m\u001b[0m\u001b[0;34m\u001b[0m\u001b[0m\n\u001b[0;32m---> 10\u001b[0;31m     \u001b[0;32melif\u001b[0m \u001b[0mlen\u001b[0m\u001b[0;34m(\u001b[0m\u001b[0mword\u001b[0m \u001b[0;34m==\u001b[0m\u001b[0;36m3\u001b[0m\u001b[0;34m)\u001b[0m\u001b[0;34m:\u001b[0m\u001b[0;34m\u001b[0m\u001b[0;34m\u001b[0m\u001b[0m\n\u001b[0m\u001b[1;32m     11\u001b[0m       \u001b[0mmedium_words\u001b[0m\u001b[0;34m.\u001b[0m\u001b[0mappend\u001b[0m\u001b[0;34m(\u001b[0m\u001b[0mword\u001b[0m\u001b[0;34m)\u001b[0m\u001b[0;34m\u001b[0m\u001b[0;34m\u001b[0m\u001b[0m\n\u001b[1;32m     12\u001b[0m     \u001b[0;32melse\u001b[0m\u001b[0;34m:\u001b[0m\u001b[0;34m\u001b[0m\u001b[0;34m\u001b[0m\u001b[0m\n",
            "\u001b[0;31mTypeError\u001b[0m: object of type 'bool' has no len()"
          ]
        }
      ]
    },
    {
      "cell_type": "code",
      "source": [
        "your_text= \"I am testing a function with different words\"\n",
        "word_counter(your_text)"
      ],
      "metadata": {
        "colab": {
          "base_uri": "https://localhost:8080/",
          "height": 35
        },
        "id": "oGqofQZgxCB_",
        "outputId": "7a60753b-752b-4e80-8262-11bf1d475446"
      },
      "execution_count": 48,
      "outputs": [
        {
          "output_type": "execute_result",
          "data": {
            "text/plain": [
              "'There are 8 words in this text, 5 have more than 2 letters, and 3 have less than 2 letters'"
            ],
            "application/vnd.google.colaboratory.intrinsic+json": {
              "type": "string"
            }
          },
          "metadata": {},
          "execution_count": 48
        }
      ]
    },
    {
      "cell_type": "code",
      "source": [
        "my_text = \"I am testing a function\"\n",
        "word_counter(my_text)"
      ],
      "metadata": {
        "colab": {
          "base_uri": "https://localhost:8080/",
          "height": 35
        },
        "id": "fmZoOB8hxE_i",
        "outputId": "f930a235-df25-43aa-826c-cb4945e91c8b"
      },
      "execution_count": 49,
      "outputs": [
        {
          "output_type": "execute_result",
          "data": {
            "text/plain": [
              "'There are 5 words in this text, 2 have more than 2 letters, and 3 have less than 2 letters'"
            ],
            "application/vnd.google.colaboratory.intrinsic+json": {
              "type": "string"
            }
          },
          "metadata": {},
          "execution_count": 49
        }
      ]
    },
    {
      "cell_type": "code",
      "source": [
        "word_counter(\"It a a test\")"
      ],
      "metadata": {
        "colab": {
          "base_uri": "https://localhost:8080/",
          "height": 35
        },
        "id": "8ykQFEE6xH81",
        "outputId": "c12890e2-1972-4a35-939c-9d0de2fabd17"
      },
      "execution_count": 50,
      "outputs": [
        {
          "output_type": "execute_result",
          "data": {
            "text/plain": [
              "'There are 4 words in this text, 1 have more than 2 letters, and 3 have less than 2 letters'"
            ],
            "application/vnd.google.colaboratory.intrinsic+json": {
              "type": "string"
            }
          },
          "metadata": {},
          "execution_count": 50
        }
      ]
    }
  ]
}