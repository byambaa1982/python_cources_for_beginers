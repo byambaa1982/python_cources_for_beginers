{
  "nbformat": 4,
  "nbformat_minor": 0,
  "metadata": {
    "colab": {
      "provenance": [],
      "include_colab_link": true
    },
    "kernelspec": {
      "name": "python3",
      "display_name": "Python 3"
    },
    "language_info": {
      "name": "python"
    }
  },
  "cells": [
    {
      "cell_type": "markdown",
      "metadata": {
        "id": "view-in-github",
        "colab_type": "text"
      },
      "source": [
        "<a href=\"https://colab.research.google.com/github/byambaa1982/python_cources_for_beginers/blob/class_zero_burentugs/4_functions/functions.ipynb\" target=\"_parent\"><img src=\"https://colab.research.google.com/assets/colab-badge.svg\" alt=\"Open In Colab\"/></a>"
      ]
    },
    {
      "cell_type": "code",
      "execution_count": null,
      "metadata": {
        "colab": {
          "base_uri": "https://localhost:8080/"
        },
        "id": "zywuH_7Id-Ns",
        "outputId": "f2cfebea-fa8d-4248-e36f-f7e523feb6c1"
      },
      "outputs": [
        {
          "output_type": "stream",
          "name": "stdout",
          "text": [
            "'Donald Trump's 11 July sentencing in his hush money case may be delayed after his lawyers asked Elephant judge to set aside Elephant wake of Supreme Court's immunity ruling.In a letter\n"
          ]
        }
      ],
      "source": [
        "burnee_text = \"\"\"\n",
        "'\\nDonald Trump\\'s 11 July sentencing in his hush money case may be delayed after his lawyers asked Elephant judge to set aside\n",
        "Elephant wake of Supreme Court\\'s immunity ruling.\\nIn a letter\n",
        "\n",
        "\"\"\"\n",
        "clean_text = burnee_text.replace(\"\\n\", \"\")\n",
        "print(clean_text)"
      ]
    },
    {
      "cell_type": "code",
      "source": [
        "second_text = \"\"\"“I couldn’t clip in” to the bike, she said. “And I was like,\n",
        "'Why is this not working?' I was starting to get really embarrassed.\n",
        "Finally, we realized I just had incompatible cleats and pedals.”\"\"\"\n",
        "clean_text = second_text.replace(\",\", \"\")\n",
        "print(clean_text)"
      ],
      "metadata": {
        "colab": {
          "base_uri": "https://localhost:8080/"
        },
        "id": "kbU7VnWwjXWk",
        "outputId": "8dfc50b7-e037-4d21-c00e-24a1bf6fdd51"
      },
      "execution_count": null,
      "outputs": [
        {
          "output_type": "stream",
          "name": "stdout",
          "text": [
            "“I couldn’t clip in” to the bike she said. “And I was like \n",
            "'Why is this not working?' I was starting to get really embarrassed. \n",
            "Finally we realized I just had incompatible cleats and pedals.”\n"
          ]
        }
      ]
    },
    {
      "cell_type": "code",
      "source": [
        "def text_cleaning(text):\n",
        "  clean_text = text.replace(\",\", \"\")\n",
        "  return clean_text"
      ],
      "metadata": {
        "id": "bBoF82z9jz8Z"
      },
      "execution_count": null,
      "outputs": []
    },
    {
      "cell_type": "code",
      "source": [
        "\n",
        "text_cleaning(second_text)"
      ],
      "metadata": {
        "colab": {
          "base_uri": "https://localhost:8080/",
          "height": 35
        },
        "id": "dbusuGwokGui",
        "outputId": "ced6aa94-c512-455a-c484-1eb735e036e8"
      },
      "execution_count": null,
      "outputs": [
        {
          "output_type": "execute_result",
          "data": {
            "text/plain": [
              "\"“I couldn’t clip in” to the bike she said. “And I was like \\n'Why is this not working?' I was starting to get really embarrassed. \\nFinally we realized I just had incompatible cleats and pedals.”\""
            ],
            "application/vnd.google.colaboratory.intrinsic+json": {
              "type": "string"
            }
          },
          "metadata": {},
          "execution_count": 11
        }
      ]
    },
    {
      "cell_type": "code",
      "source": [
        "my_text = \"kahjg , kldkg, lgkdas, gdkaj , gedkj, \"\n",
        "text_cleaning(my_text)"
      ],
      "metadata": {
        "colab": {
          "base_uri": "https://localhost:8080/",
          "height": 35
        },
        "id": "_7Xasbj7kPOI",
        "outputId": "1256e36e-41cd-431d-f5ec-a5478b5b1049"
      },
      "execution_count": null,
      "outputs": [
        {
          "output_type": "execute_result",
          "data": {
            "text/plain": [
              "'kahjg  kldkg lgkdas gdkaj  gedkj '"
            ],
            "application/vnd.google.colaboratory.intrinsic+json": {
              "type": "string"
            }
          },
          "metadata": {},
          "execution_count": 12
        }
      ]
    },
    {
      "cell_type": "code",
      "source": [
        "x = 4\n",
        "y = 5\n",
        "z = x+y\n",
        "print(z)"
      ],
      "metadata": {
        "colab": {
          "base_uri": "https://localhost:8080/"
        },
        "id": "Mmg39V4Ekm4w",
        "outputId": "1021e05e-2857-4fc6-bf6d-b5ee597a5adf"
      },
      "execution_count": null,
      "outputs": [
        {
          "output_type": "stream",
          "name": "stdout",
          "text": [
            "9\n"
          ]
        }
      ]
    },
    {
      "cell_type": "code",
      "source": [
        "def add_numbers(a, b):\n",
        "  return a+b"
      ],
      "metadata": {
        "id": "1ddGk6djktyq"
      },
      "execution_count": null,
      "outputs": []
    },
    {
      "cell_type": "code",
      "source": [
        "add_numbers(44897, 6)"
      ],
      "metadata": {
        "colab": {
          "base_uri": "https://localhost:8080/"
        },
        "id": "mZGaiGUkk11f",
        "outputId": "02c89a45-4487-49af-fb35-54fe66f6fc75"
      },
      "execution_count": null,
      "outputs": [
        {
          "output_type": "execute_result",
          "data": {
            "text/plain": [
              "44903"
            ]
          },
          "metadata": {},
          "execution_count": 17
        }
      ]
    },
    {
      "cell_type": "code",
      "source": [
        "def numbers_1(a, b):\n",
        "  return a-b*4"
      ],
      "metadata": {
        "id": "pTeEOVfjmKfW"
      },
      "execution_count": null,
      "outputs": []
    },
    {
      "cell_type": "code",
      "source": [
        "numbers_1(542, 82)"
      ],
      "metadata": {
        "colab": {
          "base_uri": "https://localhost:8080/"
        },
        "id": "3ZPF1F00mc5e",
        "outputId": "bd08f84b-611d-4adf-bb71-34409860125a"
      },
      "execution_count": null,
      "outputs": [
        {
          "output_type": "execute_result",
          "data": {
            "text/plain": [
              "214"
            ]
          },
          "metadata": {},
          "execution_count": 4
        }
      ]
    },
    {
      "cell_type": "code",
      "source": [
        "for i in range(1, 20):\n",
        "  if i%2 ==0:\n",
        "    print(i)"
      ],
      "metadata": {
        "colab": {
          "base_uri": "https://localhost:8080/"
        },
        "id": "0W_lgdNZqCoy",
        "outputId": "beaa54d5-74e3-4dcc-ba1d-92b222848eda"
      },
      "execution_count": null,
      "outputs": [
        {
          "output_type": "stream",
          "name": "stdout",
          "text": [
            "2\n",
            "4\n",
            "6\n",
            "8\n",
            "10\n",
            "12\n",
            "14\n",
            "16\n",
            "18\n"
          ]
        }
      ]
    },
    {
      "cell_type": "code",
      "source": [
        "def even_numbers (a, b):\n",
        "  for i in range(a, b):\n",
        "    if i%2 ==0:\n",
        "      print(i)"
      ],
      "metadata": {
        "id": "wtet_Yw_r5gx"
      },
      "execution_count": null,
      "outputs": []
    },
    {
      "cell_type": "code",
      "source": [
        "even_numbers(5, 30)"
      ],
      "metadata": {
        "colab": {
          "base_uri": "https://localhost:8080/"
        },
        "id": "jkYom920sfsS",
        "outputId": "e18e4c24-53e2-4e08-825b-f03a3e902355"
      },
      "execution_count": null,
      "outputs": [
        {
          "output_type": "stream",
          "name": "stdout",
          "text": [
            "6\n",
            "8\n",
            "10\n",
            "12\n",
            "14\n",
            "16\n",
            "18\n",
            "20\n",
            "22\n",
            "24\n",
            "26\n",
            "28\n"
          ]
        }
      ]
    },
    {
      "cell_type": "code",
      "source": [
        "def even_odd_numbers (a, b):\n",
        "  for i in range(a, b):\n",
        "    if i%2 ==0:\n",
        "      print(i)\n",
        "    else:\n",
        "      print(i+100)"
      ],
      "metadata": {
        "id": "W4c56_pgsnNh"
      },
      "execution_count": null,
      "outputs": []
    },
    {
      "cell_type": "code",
      "source": [
        "even_odd_numbers(10, 25)"
      ],
      "metadata": {
        "colab": {
          "base_uri": "https://localhost:8080/"
        },
        "id": "0LAyZtSptRvB",
        "outputId": "b41d303a-68cb-432b-e4a5-f29be263491b"
      },
      "execution_count": null,
      "outputs": [
        {
          "output_type": "stream",
          "name": "stdout",
          "text": [
            "10\n",
            "111\n",
            "12\n",
            "113\n",
            "14\n",
            "115\n",
            "16\n",
            "117\n",
            "18\n",
            "119\n",
            "20\n",
            "121\n",
            "22\n",
            "123\n",
            "24\n"
          ]
        }
      ]
    },
    {
      "cell_type": "code",
      "source": [
        "def odd_even_numbers (a, b):\n",
        "  for i in range(a, b):\n",
        "    if i%2 ==0:\n",
        "      print(f\"{i} is an even number\")\n",
        "    else:\n",
        "      print(f\"{i} Is an odd number\")"
      ],
      "metadata": {
        "id": "nT6FWR9ztmL6"
      },
      "execution_count": null,
      "outputs": []
    },
    {
      "cell_type": "code",
      "source": [
        "odd_even_numbers(1, 20)"
      ],
      "metadata": {
        "colab": {
          "base_uri": "https://localhost:8080/"
        },
        "id": "G8IdiW3gtuTj",
        "outputId": "3bdbac83-953e-449d-f499-35af45e34943"
      },
      "execution_count": null,
      "outputs": [
        {
          "output_type": "stream",
          "name": "stdout",
          "text": [
            "1 Is an odd number\n",
            "2 is an even number\n",
            "3 Is an odd number\n",
            "4 is an even number\n",
            "5 Is an odd number\n",
            "6 is an even number\n",
            "7 Is an odd number\n",
            "8 is an even number\n",
            "9 Is an odd number\n",
            "10 is an even number\n",
            "11 Is an odd number\n",
            "12 is an even number\n",
            "13 Is an odd number\n",
            "14 is an even number\n",
            "15 Is an odd number\n",
            "16 is an even number\n",
            "17 Is an odd number\n",
            "18 is an even number\n",
            "19 Is an odd number\n"
          ]
        }
      ]
    },
    {
      "cell_type": "code",
      "source": [
        "text = \"\"\"\n",
        "'\\nDonald Trump\\'s 11 July sentencing in his hush money case may be delayed after his lawyers asked Elephant judge to set aside\n",
        "Elephant wake of Supreme Court\\'s immunity ruling.\\nIn a letter\n",
        "\n",
        "\"\"\""
      ],
      "metadata": {
        "id": "dO1_2C3EwTsJ"
      },
      "execution_count": null,
      "outputs": []
    },
    {
      "cell_type": "code",
      "source": [
        "my_list = text.split(\" \")\n",
        "print(f\"total of chracters are {len(text)}\")\n",
        "print(f\"total of character are {len(my_list)}\")"
      ],
      "metadata": {
        "id": "OMmem2LZvGQ9",
        "outputId": "0e48d405-0de2-40b8-8f05-578e7b2f3ca1",
        "colab": {
          "base_uri": "https://localhost:8080/"
        }
      },
      "execution_count": null,
      "outputs": [
        {
          "output_type": "stream",
          "name": "stdout",
          "text": [
            "total of chracters are 190\n",
            "total of character are 30\n"
          ]
        }
      ]
    },
    {
      "cell_type": "code",
      "source": [
        "def count(news_paragraph, w):\n",
        "  return news_paragraph.count(\"Trump\")"
      ],
      "metadata": {
        "id": "wl5BtM6fvGMO"
      },
      "execution_count": null,
      "outputs": []
    },
    {
      "cell_type": "code",
      "source": [
        "t = \"kkkk this is Trump, text text text\"\n",
        "count(t, \"text\")"
      ],
      "metadata": {
        "id": "xa92sT8JwATM",
        "outputId": "77814897-f2e1-4f08-c192-889a137c420e",
        "colab": {
          "base_uri": "https://localhost:8080/"
        }
      },
      "execution_count": null,
      "outputs": [
        {
          "output_type": "execute_result",
          "data": {
            "text/plain": [
              "1"
            ]
          },
          "metadata": {},
          "execution_count": 14
        }
      ]
    },
    {
      "cell_type": "code",
      "source": [
        "my_text = '''\n",
        "July 7 (Reuters) - British fintech company Revolut's CEO Nikolay Storonsky will cash in part of his multibillion dollar stake in the company as part of a $500 million share sale, Sky News reported on Sunday.\n",
        "The Financial Times reported last month that the digital finance app is working with bankers on the share sale, including shares held by employees, which could value it at more than $40 billion.\n",
        "The size of Storonsky's stake in the company is unclear, the report added, and the scale of any disposal would depend on the valuation that Revolut is able to attract from new investors as well as final allocation decisions by the company.\n",
        "Revolut declined to comment when contacted by Reuters.\n",
        "The company has signalled its aim to list publicly but its interim chief financial officer Victor Stinga declined earlier this month to comment on any timeline for an IPO.\n",
        "Revolut made a record pretax profit of 438 million pounds ($553.8 million) in 2023 on strong user growth and soaring interest-related income, as it looks to cement its place as Europe's most valuable startup.\n",
        "Britain's fintech industry has faced a funding crunch in recent years as investors have become more skeptical of sky-high pandemic-era valuations and put pressure on companies to become profitable.\n",
        "'''"
      ],
      "metadata": {
        "id": "StJ36mSNvGGv"
      },
      "execution_count": null,
      "outputs": []
    },
    {
      "cell_type": "code",
      "source": [
        "def replacer(my_text):\n",
        "  print(my_text.replace(\"The\", \"Penguino\"))"
      ],
      "metadata": {
        "id": "uM-YNSPkvGDq"
      },
      "execution_count": null,
      "outputs": []
    },
    {
      "cell_type": "code",
      "source": [
        "replacer(my_text)"
      ],
      "metadata": {
        "colab": {
          "base_uri": "https://localhost:8080/"
        },
        "id": "Idcsrz4lKcbr",
        "outputId": "c77a3fd7-efee-4c38-a1dd-9de23d2dd7c6"
      },
      "execution_count": null,
      "outputs": [
        {
          "output_type": "stream",
          "name": "stdout",
          "text": [
            "\n",
            "July 7 (Reuters) - British fintech company Revolut's CEO Nikolay Storonsky will cash in part of his multibillion dollar stake in the company as part of a $500 million share sale, Sky News reported on Sunday.\n",
            "Penguino Financial Times reported last month that the digital finance app is working with bankers on the share sale, including shares held by employees, which could value it at more than $40 billion.\n",
            "Penguino size of Storonsky's stake in the company is unclear, the report added, and the scale of any disposal would depend on the valuation that Revolut is able to attract from new investors as well as final allocation decisions by the company.\n",
            "Revolut declined to comment when contacted by Reuters.\n",
            "Penguino company has signalled its aim to list publicly but its interim chief financial officer Victor Stinga declined earlier this month to comment on any timeline for an IPO.\n",
            "Revolut made a record pretax profit of 438 million pounds ($553.8 million) in 2023 on strong user growth and soaring interest-related income, as it looks to cement its place as Europe's most valuable startup.\n",
            "Britain's fintech industry has faced a funding crunch in recent years as investors have become more skeptical of sky-high pandemic-era valuations and put pressure on companies to become profitable.\n",
            "\n"
          ]
        }
      ]
    },
    {
      "cell_type": "code",
      "source": [
        "def word_counter(any_text):\n",
        " print(len(any_text.split(\" \")))"
      ],
      "metadata": {
        "id": "BC-kaqOzNyqM"
      },
      "execution_count": 11,
      "outputs": []
    },
    {
      "cell_type": "code",
      "source": [
        "my_text = \"Today I went for a swim at the pool.\""
      ],
      "metadata": {
        "id": "SLYHmYcOrn4S"
      },
      "execution_count": 12,
      "outputs": []
    },
    {
      "cell_type": "code",
      "source": [
        "word_counter(\"Today I went for a swim at the pool.\")"
      ],
      "metadata": {
        "colab": {
          "base_uri": "https://localhost:8080/"
        },
        "id": "AicUW_duNEkf",
        "outputId": "89ff380e-6ffb-4f89-d50e-d9edb48f6bee"
      },
      "execution_count": 13,
      "outputs": [
        {
          "output_type": "stream",
          "name": "stdout",
          "text": [
            "9\n"
          ]
        }
      ]
    },
    {
      "cell_type": "code",
      "source": [
        "def word_counter(any_text):\n",
        "  total_words = len(any_text.split(\" \"))\n",
        "  my_list = any_text.split(\" \")\n",
        "  long_words = []\n",
        "  for word in my_list:\n",
        "    if len(word) >2:\n",
        "      long_words.append(word)\n",
        "  return f'there are {total_words} words this text and {len(long_words)} have more than 2 letters.'"
      ],
      "metadata": {
        "id": "RGw2QkfPr5pG"
      },
      "execution_count": 32,
      "outputs": []
    },
    {
      "cell_type": "code",
      "source": [
        "word_counter(\"Today we're studying functions!\")"
      ],
      "metadata": {
        "colab": {
          "base_uri": "https://localhost:8080/",
          "height": 36
        },
        "id": "XAs7XNeFsbyd",
        "outputId": "ee0c714d-4149-4ff1-df45-f78b10cbe34e"
      },
      "execution_count": 33,
      "outputs": [
        {
          "output_type": "execute_result",
          "data": {
            "text/plain": [
              "'there are 4 words this text and 4 have more than 2 letters.'"
            ],
            "application/vnd.google.colaboratory.intrinsic+json": {
              "type": "string"
            }
          },
          "metadata": {},
          "execution_count": 33
        }
      ]
    },
    {
      "cell_type": "code",
      "source": [
        "my_text = (\"Today we're studying functions with different words.\")\n",
        "word_counter(my_text)"
      ],
      "metadata": {
        "colab": {
          "base_uri": "https://localhost:8080/",
          "height": 36
        },
        "id": "3cXfZ8fHszWw",
        "outputId": "69dceaba-d1d4-4815-dea4-9aa54404f3eb"
      },
      "execution_count": 34,
      "outputs": [
        {
          "output_type": "execute_result",
          "data": {
            "text/plain": [
              "'there are 7 words this text and 7 have more than 2 letters.'"
            ],
            "application/vnd.google.colaboratory.intrinsic+json": {
              "type": "string"
            }
          },
          "metadata": {},
          "execution_count": 34
        }
      ]
    },
    {
      "cell_type": "code",
      "source": [
        "anyone_text = (\"Today I was exhausted with work.\")\n",
        "word_counter(anyone_text)"
      ],
      "metadata": {
        "colab": {
          "base_uri": "https://localhost:8080/",
          "height": 36
        },
        "id": "Ct3uRHEntCBQ",
        "outputId": "f47c9a9c-8d9e-4439-8bd2-1b2d7518c784"
      },
      "execution_count": 35,
      "outputs": [
        {
          "output_type": "execute_result",
          "data": {
            "text/plain": [
              "'there are 6 words this text and 5 have more than 2 letters.'"
            ],
            "application/vnd.google.colaboratory.intrinsic+json": {
              "type": "string"
            }
          },
          "metadata": {},
          "execution_count": 35
        }
      ]
    },
    {
      "cell_type": "code",
      "source": [
        "def word_counter(any_text):\n",
        "  total_words = len(any_text.split(\" \"))\n",
        "  my_list = any_text.split(\" \")\n",
        "  long_words = []\n",
        "  for word in my_list:\n",
        "    if len(word) >2:\n",
        "      long_words.append(word)\n",
        "  return f'there are {total_words} words this text and {len(long_words)} have more than 2 letters.'"
      ],
      "metadata": {
        "id": "jNYqJkjOuKjB"
      },
      "execution_count": 36,
      "outputs": []
    },
    {
      "cell_type": "code",
      "source": [
        "word_counter(\"I have a feeling that it's gonna be a wonderful day\")"
      ],
      "metadata": {
        "colab": {
          "base_uri": "https://localhost:8080/",
          "height": 36
        },
        "id": "Q6K81Atku0pn",
        "outputId": "079b1661-82ea-4897-83ea-ab14d06c5198"
      },
      "execution_count": 37,
      "outputs": [
        {
          "output_type": "execute_result",
          "data": {
            "text/plain": [
              "'there are 11 words this text and len(long_words) have more than 2 letters.'"
            ],
            "application/vnd.google.colaboratory.intrinsic+json": {
              "type": "string"
            }
          },
          "metadata": {},
          "execution_count": 37
        }
      ]
    },
    {
      "cell_type": "code",
      "source": [],
      "metadata": {
        "id": "1j9m2PUdwQkl"
      },
      "execution_count": null,
      "outputs": []
    },
    {
      "cell_type": "code",
      "source": [
        "def word_counter(any_text):\n",
        "  total_words = len(any_text.split(\" \"))\n",
        "  my_list = any_text.split(\" \")\n",
        "  short_words = []\n",
        "  long_words =[]\n",
        "  medium_words = []\n",
        "  for word in my_list:\n",
        "    if len(word) >5:\n",
        "      short_words.append(word)\n",
        "    elif len(word) == 3:\n",
        "      medium_words.append(word)\n",
        "    else:\n",
        "      long_words.append(word)\n",
        "  return f'There are {total_words} words in this text, {len(long_words)} have more than 5 letters, {len(medium_words)} is equal to 3 letters, {len(short_words)} have less than 5 letters.'\n"
      ],
      "metadata": {
        "id": "F3UxvVyTwRq1"
      },
      "execution_count": 58,
      "outputs": []
    },
    {
      "cell_type": "code",
      "source": [
        "word_counter(\"Google is worth over 300 Trillion dollars right now as of 2024.\")"
      ],
      "metadata": {
        "colab": {
          "base_uri": "https://localhost:8080/",
          "height": 36
        },
        "id": "TgwHuG9EworW",
        "outputId": "dcadedb2-d98d-4e39-8b1a-40c34513741f"
      },
      "execution_count": 59,
      "outputs": [
        {
          "output_type": "execute_result",
          "data": {
            "text/plain": [
              "'There are 12 words in this text, 7 have more than 5 letters, 2 is equal to 3 letters, 3 have less than 5 letters.'"
            ],
            "application/vnd.google.colaboratory.intrinsic+json": {
              "type": "string"
            }
          },
          "metadata": {},
          "execution_count": 59
        }
      ]
    }
  ]
}