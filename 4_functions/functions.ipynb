{
  "nbformat": 4,
  "nbformat_minor": 0,
  "metadata": {
    "colab": {
      "provenance": [],
      "include_colab_link": true
    },
    "kernelspec": {
      "name": "python3",
      "display_name": "Python 3"
    },
    "language_info": {
      "name": "python"
    }
  },
  "cells": [
    {
      "cell_type": "markdown",
      "metadata": {
        "id": "view-in-github",
        "colab_type": "text"
      },
      "source": [
        "<a href=\"https://colab.research.google.com/github/byambaa1982/python_cources_for_beginers/blob/byamba_branch/4_functions/functions.ipynb\" target=\"_parent\"><img src=\"https://colab.research.google.com/assets/colab-badge.svg\" alt=\"Open In Colab\"/></a>"
      ]
    },
    {
      "cell_type": "code",
      "execution_count": null,
      "metadata": {
        "colab": {
          "base_uri": "https://localhost:8080/"
        },
        "id": "zywuH_7Id-Ns",
        "outputId": "af74b0bd-2412-4bd3-d864-5b79cb62a69c"
      },
      "outputs": [
        {
          "output_type": "stream",
          "name": "stdout",
          "text": [
            "'Donald Trump's 11 July sentencing in his hush money case may be delayed after his lawyers asked Elephant judge to set asideElephant wake of Supreme Court's immunity ruling.In a letter\n"
          ]
        }
      ],
      "source": [
        "burnee_text = \"\"\"\n",
        "'\\nDonald Trump\\'s 11 July sentencing in his hush money case may be delayed after his lawyers asked Elephant judge to set aside\n",
        "Elephant wake of Supreme Court\\'s immunity ruling.\\nIn a letter\n",
        "\n",
        "\"\"\"\n",
        "clean_text = burnee_text.replace(\"\\n\", \"\")\n",
        "print(clean_text)"
      ]
    },
    {
      "cell_type": "code",
      "source": [
        "second_text = \"\"\"“I couldn’t clip in” to the bike, she said. “And I was like,\n",
        "'Why is this not working?' I was starting to get really embarrassed.\n",
        "Finally, we realized I just had incompatible cleats and pedals.”\"\"\"\n",
        "clean_text = second_text.replace(\",\", \"\")\n",
        "print(clean_text)"
      ],
      "metadata": {
        "colab": {
          "base_uri": "https://localhost:8080/"
        },
        "id": "kbU7VnWwjXWk",
        "outputId": "537e42d8-d571-4e2e-a3b3-f4ded89488c0"
      },
      "execution_count": null,
      "outputs": [
        {
          "output_type": "stream",
          "name": "stdout",
          "text": [
            "“I couldn’t clip in” to the bike she said. “And I was like\n",
            "'Why is this not working?' I was starting to get really embarrassed.\n",
            "Finally we realized I just had incompatible cleats and pedals.”\n"
          ]
        }
      ]
    },
    {
      "cell_type": "code",
      "source": [
        "def text_cleaning(text):\n",
        "  clean_text = text.replace(\",\", \"\")\n",
        "  return clean_text"
      ],
      "metadata": {
        "id": "bBoF82z9jz8Z"
      },
      "execution_count": null,
      "outputs": []
    },
    {
      "cell_type": "code",
      "source": [
        "\n",
        "text_cleaning(second_text)"
      ],
      "metadata": {
        "colab": {
          "base_uri": "https://localhost:8080/",
          "height": 52
        },
        "id": "dbusuGwokGui",
        "outputId": "d68c88a6-7f30-408c-a9e4-ddf85939fb95"
      },
      "execution_count": null,
      "outputs": [
        {
          "output_type": "execute_result",
          "data": {
            "text/plain": [
              "\"“I couldn’t clip in” to the bike she said. “And I was like\\n'Why is this not working?' I was starting to get really embarrassed.\\nFinally we realized I just had incompatible cleats and pedals.”\""
            ],
            "application/vnd.google.colaboratory.intrinsic+json": {
              "type": "string"
            }
          },
          "metadata": {},
          "execution_count": 12
        }
      ]
    },
    {
      "cell_type": "code",
      "source": [
        "my_text = \"kahjg , kldkg, lgkdas, gdkaj , gedkj, \"\n",
        "text_cleaning(my_text)"
      ],
      "metadata": {
        "colab": {
          "base_uri": "https://localhost:8080/",
          "height": 35
        },
        "id": "_7Xasbj7kPOI",
        "outputId": "57e7483d-fb38-40f2-e485-cd5ba76c20a1"
      },
      "execution_count": null,
      "outputs": [
        {
          "output_type": "execute_result",
          "data": {
            "text/plain": [
              "'kahjg  kldkg lgkdas gdkaj  gedkj '"
            ],
            "application/vnd.google.colaboratory.intrinsic+json": {
              "type": "string"
            }
          },
          "metadata": {},
          "execution_count": 13
        }
      ]
    },
    {
      "cell_type": "code",
      "source": [
        "x = 4\n",
        "y = 5\n",
        "z = x+y\n",
        "print(z)"
      ],
      "metadata": {
        "colab": {
          "base_uri": "https://localhost:8080/"
        },
        "id": "Mmg39V4Ekm4w",
        "outputId": "76246163-bba7-47a6-9271-e92a96255d78"
      },
      "execution_count": null,
      "outputs": [
        {
          "output_type": "stream",
          "name": "stdout",
          "text": [
            "9\n"
          ]
        }
      ]
    },
    {
      "cell_type": "code",
      "source": [
        "def subtract_numbers(a, b):\n",
        "  return a-b"
      ],
      "metadata": {
        "id": "1ddGk6djktyq"
      },
      "execution_count": null,
      "outputs": []
    },
    {
      "cell_type": "code",
      "source": [
        "subtract_numbers(44897, 6)"
      ],
      "metadata": {
        "colab": {
          "base_uri": "https://localhost:8080/"
        },
        "id": "mZGaiGUkk11f",
        "outputId": "21d50aea-ea79-4a07-cb6f-c99a32493fd3"
      },
      "execution_count": null,
      "outputs": [
        {
          "output_type": "execute_result",
          "data": {
            "text/plain": [
              "44891"
            ]
          },
          "metadata": {},
          "execution_count": 18
        }
      ]
    },
    {
      "cell_type": "code",
      "source": [
        "for i in range(1, 20):\n",
        "  if i%2 ==0:\n",
        "    print(f\"{i} is even number\")\n",
        "  else:\n",
        "    print(f\"{i} is odd number\")"
      ],
      "metadata": {
        "colab": {
          "base_uri": "https://localhost:8080/"
        },
        "id": "6SvZXe0fn1yn",
        "outputId": "0ac714d7-a7cb-4404-aad9-f6abc465a717"
      },
      "execution_count": null,
      "outputs": [
        {
          "output_type": "stream",
          "name": "stdout",
          "text": [
            "1 is odd number\n",
            "2 is even number\n",
            "3 is odd number\n",
            "4 is even number\n",
            "5 is odd number\n",
            "6 is even number\n",
            "7 is odd number\n",
            "8 is even number\n",
            "9 is odd number\n",
            "10 is even number\n",
            "11 is odd number\n",
            "12 is even number\n",
            "13 is odd number\n",
            "14 is even number\n",
            "15 is odd number\n",
            "16 is even number\n",
            "17 is odd number\n",
            "18 is even number\n",
            "19 is odd number\n"
          ]
        }
      ]
    },
    {
      "cell_type": "code",
      "source": [
        "my_text = \"my name is Urangoo and I am 12 years old\""
      ],
      "metadata": {
        "id": "nJauE5Q-AFYy"
      },
      "execution_count": null,
      "outputs": []
    },
    {
      "cell_type": "code",
      "source": [
        "# make a function that turn text into a list\n",
        "my_list = my_text.split(\" \")\n",
        "my_list\n",
        "def text_to_list(my_text):\n",
        "  my_list = my_text.split(\" \")\n",
        "  return my_list"
      ],
      "metadata": {
        "id": "MU49ZXDi9NP4"
      },
      "execution_count": null,
      "outputs": []
    },
    {
      "cell_type": "code",
      "source": [
        "text_to_list(my_text)"
      ],
      "metadata": {
        "colab": {
          "base_uri": "https://localhost:8080/"
        },
        "id": "8g9RfnoIBfGl",
        "outputId": "778a4386-f4a5-486c-e130-a72e409dee77"
      },
      "execution_count": null,
      "outputs": [
        {
          "output_type": "execute_result",
          "data": {
            "text/plain": [
              "['my', 'name', 'is', 'Urangoo', 'and', 'I', 'am', '12', 'years', 'old']"
            ]
          },
          "metadata": {},
          "execution_count": 31
        }
      ]
    },
    {
      "cell_type": "code",
      "source": [
        "# Make a function that count words in text\n",
        "my_text = \"my name is Urangoo and I am 12 years old\"\n",
        "\n",
        "def count_words(my_text):\n",
        "  my_list = my_text.split(\" \")\n",
        "  return len(my_list)"
      ],
      "metadata": {
        "id": "Genq2QKG9O8b"
      },
      "execution_count": null,
      "outputs": []
    },
    {
      "cell_type": "code",
      "source": [
        "count_words(my_text)"
      ],
      "metadata": {
        "colab": {
          "base_uri": "https://localhost:8080/"
        },
        "id": "XgRjCkAfIfPh",
        "outputId": "5874dfcd-dd83-4ce9-905d-cf90e6d14459"
      },
      "execution_count": null,
      "outputs": [
        {
          "output_type": "execute_result",
          "data": {
            "text/plain": [
              "10"
            ]
          },
          "metadata": {},
          "execution_count": 47
        }
      ]
    },
    {
      "cell_type": "code",
      "source": [
        "# Make a function that count words in text\n",
        "my_text = \"my name is Urangoo and I am 12 years old\"\n",
        "\n",
        "def count_words(my_text):\n",
        "  my_list = my_text.split(\" \")\n",
        "  return (f\"There are {len(my_list)} words in this text\")"
      ],
      "metadata": {
        "id": "gWFdn9jyKyqH"
      },
      "execution_count": null,
      "outputs": []
    },
    {
      "cell_type": "code",
      "source": [
        "count_words(my_text)"
      ],
      "metadata": {
        "colab": {
          "base_uri": "https://localhost:8080/",
          "height": 35
        },
        "id": "eznPAo6tLUE_",
        "outputId": "71bb9675-f323-42a9-eca3-5fe1d5ee338b"
      },
      "execution_count": null,
      "outputs": [
        {
          "output_type": "execute_result",
          "data": {
            "text/plain": [
              "'There are 10 words in this text'"
            ],
            "application/vnd.google.colaboratory.intrinsic+json": {
              "type": "string"
            }
          },
          "metadata": {},
          "execution_count": 58
        }
      ]
    },
    {
      "cell_type": "code",
      "source": [
        "# Make a function that replace any \"the\" with \"THE\" in a give text\n",
        "def word_replacer(any_text):\n",
        "  print(any_text.replace(\"Urangoo\", \"Bob\"))"
      ],
      "metadata": {
        "id": "SsaVcL9B9Q9L"
      },
      "execution_count": null,
      "outputs": []
    },
    {
      "cell_type": "code",
      "source": [
        "word_replacer(\"my name is Urangoo and I am 12 years old\")"
      ],
      "metadata": {
        "colab": {
          "base_uri": "https://localhost:8080/"
        },
        "id": "0Qb7XE7DL-KN",
        "outputId": "4526df39-fc68-4af3-d79c-c113340efb9b"
      },
      "execution_count": null,
      "outputs": [
        {
          "output_type": "stream",
          "name": "stdout",
          "text": [
            "my name is Bob and I am 12 years old\n"
          ]
        }
      ]
    },
    {
      "cell_type": "code",
      "source": [
        "# Make a function that replace any \"the\" with \"THE\" in a give text\n",
        "def word_replacer(any_text):\n",
        "  print(any_text.replace(\"12\", \"25\"))"
      ],
      "metadata": {
        "id": "69imDoBxNic9"
      },
      "execution_count": null,
      "outputs": []
    },
    {
      "cell_type": "code",
      "source": [
        "word_replacer(\"my name is Urangoo and I am 12 years old\")"
      ],
      "metadata": {
        "colab": {
          "base_uri": "https://localhost:8080/"
        },
        "id": "ePTRJJqsNoUr",
        "outputId": "b35a3f7a-9f70-435d-afef-8ee8b996a308"
      },
      "execution_count": null,
      "outputs": [
        {
          "output_type": "stream",
          "name": "stdout",
          "text": [
            "my name is Urangoo and I am 25 years old\n"
          ]
        }
      ]
    },
    {
      "cell_type": "code",
      "source": [
        "# Make a function that replace any \"the\" with \"THE\" in a give text\n",
        "def word_replacer(any_text, a, b):\n",
        "  print(any_text.replace(a, b))"
      ],
      "metadata": {
        "id": "sTI5MDyWPHmI"
      },
      "execution_count": null,
      "outputs": []
    },
    {
      "cell_type": "code",
      "source": [
        "word_replacer(\"my name is Urangoo and I am 12 years old\")"
      ],
      "metadata": {
        "id": "pgA30Jv8RJkw"
      },
      "execution_count": null,
      "outputs": []
    },
    {
      "cell_type": "code",
      "source": [
        "My_text = \"today is a nice day. I am very happy\""
      ],
      "metadata": {
        "id": "ZNij36CmTI1m"
      },
      "execution_count": 2,
      "outputs": []
    },
    {
      "cell_type": "code",
      "source": [
        "def word_counter(any_text):\n",
        "  my_list = any_text.split(\" \")\n",
        "  total_words = len(my_list)\n",
        "  long_words = []\n",
        "  medium_words = []\n",
        "  short_words = []\n",
        "  for word in my_list:\n",
        "    if len(word) >5:\n",
        "      long_words.append(word)\n",
        "    elif len(word) > 2 and len(word)<=5:\n",
        "      medium_words.append(word)\n",
        "    else:\n",
        "      short_words.append(word)\n",
        "  return f\"There are {total_words} words in this text, long words: {len(long_words)} ,  medium words: {len(medium_words)}, short words: {len(short_words)}\""
      ],
      "metadata": {
        "id": "dOUMr34sPG70"
      },
      "execution_count": 69,
      "outputs": []
    },
    {
      "cell_type": "code",
      "source": [
        "word_counter(\"It a test\")"
      ],
      "metadata": {
        "id": "p4_TbNR5UIFL",
        "outputId": "d12dfe3d-281f-4c9f-9b71-e0106eb6be83",
        "colab": {
          "base_uri": "https://localhost:8080/",
          "height": 35
        }
      },
      "execution_count": 71,
      "outputs": [
        {
          "output_type": "execute_result",
          "data": {
            "text/plain": [
              "'There are 3 words in this text, long words: 0 ,  medium words: 1, short words: 2'"
            ],
            "application/vnd.google.colaboratory.intrinsic+json": {
              "type": "string"
            }
          },
          "metadata": {},
          "execution_count": 71
        }
      ]
    },
    {
      "cell_type": "code",
      "source": [
        "my_text = \"I am testing a function\"\n",
        "word_counter(my_text)"
      ],
      "metadata": {
        "colab": {
          "base_uri": "https://localhost:8080/",
          "height": 35
        },
        "id": "qBXALL-ksd9N",
        "outputId": "2e119e92-1031-4ddb-b409-ab0a5478e15b"
      },
      "execution_count": 72,
      "outputs": [
        {
          "output_type": "execute_result",
          "data": {
            "text/plain": [
              "'There are 5 words in this text, long words: 2 ,  medium words: 0, short words: 3'"
            ],
            "application/vnd.google.colaboratory.intrinsic+json": {
              "type": "string"
            }
          },
          "metadata": {},
          "execution_count": 72
        }
      ]
    },
    {
      "cell_type": "code",
      "source": [
        "your_text= \"I am testing a function with different words\"\n",
        "word_counter(your_text)"
      ],
      "metadata": {
        "colab": {
          "base_uri": "https://localhost:8080/",
          "height": 35
        },
        "id": "eUtP0HM8snQe",
        "outputId": "2323ca8f-c046-4dde-fe91-d2aba34baa75"
      },
      "execution_count": 73,
      "outputs": [
        {
          "output_type": "execute_result",
          "data": {
            "text/plain": [
              "'There are 8 words in this text, long words: 3 ,  medium words: 2, short words: 3'"
            ],
            "application/vnd.google.colaboratory.intrinsic+json": {
              "type": "string"
            }
          },
          "metadata": {},
          "execution_count": 73
        }
      ]
    },
    {
      "cell_type": "code",
      "source": [
        "word_counter(\"It a test for my new function\")"
      ],
      "metadata": {
        "colab": {
          "base_uri": "https://localhost:8080/",
          "height": 35
        },
        "id": "n2qwz5jqqHVa",
        "outputId": "98c1273c-ba1c-489a-ffa8-a1ddf32a917b"
      },
      "execution_count": 74,
      "outputs": [
        {
          "output_type": "execute_result",
          "data": {
            "text/plain": [
              "'There are 7 words in this text, long words: 1 ,  medium words: 3, short words: 3'"
            ],
            "application/vnd.google.colaboratory.intrinsic+json": {
              "type": "string"
            }
          },
          "metadata": {},
          "execution_count": 74
        }
      ]
    },
    {
      "cell_type": "code",
      "source": [
        "\n",
        "# Make a function that replace any \"the\" with \"THE\" in a give text\n",
        "def word_replacer(any_text, a, b):\n",
        "  print(any_text.replace(a, b))\n"
      ],
      "metadata": {
        "id": "Uvg27N-MqNL_"
      },
      "execution_count": 67,
      "outputs": []
    },
    {
      "cell_type": "code",
      "source": [
        "word_replacer(\"my name is Enko and I am 12 years old\", \"Enko\", \"Byamba\" )"
      ],
      "metadata": {
        "id": "8etiYRKB1jVp",
        "outputId": "30ee011a-0e34-4976-dbbe-1ed8bd2416e7",
        "colab": {
          "base_uri": "https://localhost:8080/"
        }
      },
      "execution_count": 47,
      "outputs": [
        {
          "output_type": "stream",
          "name": "stdout",
          "text": [
            "my name is Byamba and I am 12 years old\n"
          ]
        }
      ]
    },
    {
      "cell_type": "code",
      "source": [
        "t = \"my name is Enko and I am 12 years old\"\n",
        "a = \"12\"\n",
        "b = \"43\"\n",
        "\n",
        "word_replacer(t, a, b)"
      ],
      "metadata": {
        "id": "bTzQmTyk111e",
        "outputId": "1570a212-ea23-4081-fe09-38ceccf7eeec",
        "colab": {
          "base_uri": "https://localhost:8080/"
        }
      },
      "execution_count": 49,
      "outputs": [
        {
          "output_type": "stream",
          "name": "stdout",
          "text": [
            "my name is Enko and I am 43 years old\n"
          ]
        }
      ]
    },
    {
      "cell_type": "markdown",
      "source": [
        "# Home work"
      ],
      "metadata": {
        "id": "ugLzsNA_6JpA"
      }
    },
    {
      "cell_type": "code",
      "source": [
        "# 5 letters and 6 letters"
      ],
      "metadata": {
        "id": "ZnZML5Eu6Mwu"
      },
      "execution_count": 75,
      "outputs": []
    },
    {
      "cell_type": "code",
      "source": [
        "# grader(score)\n",
        "\n",
        "# score A, B, C , D ,F"
      ],
      "metadata": {
        "id": "PqTG9jg46b0H"
      },
      "execution_count": null,
      "outputs": []
    }
  ]
}