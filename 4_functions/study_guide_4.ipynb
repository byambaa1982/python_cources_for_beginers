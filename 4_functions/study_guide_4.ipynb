{
  "nbformat": 4,
  "nbformat_minor": 0,
  "metadata": {
    "colab": {
      "provenance": [],
      "include_colab_link": true
    },
    "kernelspec": {
      "name": "python3",
      "display_name": "Python 3"
    },
    "language_info": {
      "name": "python"
    }
  },
  "cells": [
    {
      "cell_type": "markdown",
      "metadata": {
        "id": "view-in-github",
        "colab_type": "text"
      },
      "source": [
        "<a href=\"https://colab.research.google.com/github/byambaa1982/python_cources_for_beginers/blob/main/4_functions/Function_Lecture.ipynb\" target=\"_parent\"><img src=\"https://colab.research.google.com/assets/colab-badge.svg\" alt=\"Open In Colab\"/></a>"
      ]
    },
    {
      "cell_type": "markdown",
      "source": [
        "## Python Functions"
      ],
      "metadata": {
        "id": "fxLSN_nvYGu4"
      }
    },
    {
      "cell_type": "code",
      "execution_count": 1,
      "metadata": {
        "id": "N_YIIbFsSNcC"
      },
      "outputs": [],
      "source": [
        "def add_numbers(a, b):\n",
        "    result = a + b\n",
        "    return result"
      ]
    },
    {
      "cell_type": "markdown",
      "source": [
        "## Now let's break down the syntax:\n",
        "\n",
        "1. `def`: This keyword is used to define a new function in Python. It's followed by the name of the function, in this case, add_numbers.\n",
        "\n",
        "2. `(a, b)`: These are the parameters (or input arguments) that the function accepts. The function add_numbers takes two parameters: a and b.\n",
        "\n",
        "3. `:`: The colon marks the beginning of the function body, which is a block of code that defines the behavior of the function.\n",
        "\n",
        "4. Indentation (4 spaces or a tab): Python uses indentation to separate blocks of code. All the lines within the function body should be indented.\n",
        "\n",
        "5. `result = a + b`: This line creates a new variable called result and assigns the sum of a and b to it.\n",
        "\n",
        "6. `return`: This keyword is used to specify the value that the function will return when it's called. In this case, the function returns the value of the result variable."
      ],
      "metadata": {
        "id": "yeuSZvRZYXfo"
      }
    },
    {
      "cell_type": "code",
      "source": [
        "sum_result = add_numbers(3, 5)\n",
        "print(sum_result)"
      ],
      "metadata": {
        "id": "XLj7CWpbSTXN",
        "outputId": "146dd290-6797-43bf-e307-9ecb734dfdb2",
        "colab": {
          "base_uri": "https://localhost:8080/"
        }
      },
      "execution_count": 2,
      "outputs": [
        {
          "output_type": "stream",
          "name": "stdout",
          "text": [
            "8\n"
          ]
        }
      ]
    },
    {
      "cell_type": "code",
      "source": [
        "def concatenate_strings(string1, string2):\n",
        "    result = string1 + \" \" + string2\n",
        "    return result"
      ],
      "metadata": {
        "id": "7gDOh-iwY6wj"
      },
      "execution_count": 3,
      "outputs": []
    },
    {
      "cell_type": "code",
      "source": [
        "a = 'I am'\n",
        "b = 'a python developer'\n",
        "\n",
        "c = concatenate_strings(a, b)\n",
        "\n",
        "print(c)"
      ],
      "metadata": {
        "id": "Y29BeR8gcSDy",
        "outputId": "8599319f-7c6e-4fd0-8eb4-e49afb2b5bed",
        "colab": {
          "base_uri": "https://localhost:8080/"
        }
      },
      "execution_count": 4,
      "outputs": [
        {
          "output_type": "stream",
          "name": "stdout",
          "text": [
            "I am a python developer\n"
          ]
        }
      ]
    },
    {
      "cell_type": "code",
      "source": [
        "def reverse_string(input_string):\n",
        "    reversed_string = input_string[::-1]\n",
        "    return reversed_string"
      ],
      "metadata": {
        "id": "h3g0EYF1cvmB"
      },
      "execution_count": 5,
      "outputs": []
    },
    {
      "cell_type": "code",
      "source": [
        "d = reverse_string(c)\n",
        "\n",
        "print(d)"
      ],
      "metadata": {
        "id": "V7pL2POOc2NC",
        "outputId": "8cafbb57-f1d9-4993-900f-a2f83445896b",
        "colab": {
          "base_uri": "https://localhost:8080/"
        }
      },
      "execution_count": 6,
      "outputs": [
        {
          "output_type": "stream",
          "name": "stdout",
          "text": [
            "repoleved nohtyp a ma I\n"
          ]
        }
      ]
    },
    {
      "cell_type": "markdown",
      "source": [
        "## Title: Understanding Functions in Python\n",
        "\n",
        "### Instructions: Complete the following tasks to practice creating and using functions in Python. Make sure to test your functions by calling them with various inputs."
      ],
      "metadata": {
        "id": "WLXfqf6pdlJB"
      }
    },
    {
      "cell_type": "markdown",
      "source": [
        "1. Write a function named multiply_numbers that takes two numbers as input arguments and returns their product.\n",
        "\n",
        "Example:\n",
        "\n",
        "```python\n",
        "def multiply_numbers(a, b):\n",
        "    # Your code here\n",
        "\n",
        "# Test your function\n",
        "print(multiply_numbers(3, 4))  # Output: 12\n",
        "\n",
        "```"
      ],
      "metadata": {
        "id": "MjEjFDjTdwiq"
      }
    },
    {
      "cell_type": "code",
      "source": [],
      "metadata": {
        "id": "Rbl1hxWHc7gS"
      },
      "execution_count": null,
      "outputs": []
    },
    {
      "cell_type": "markdown",
      "source": [
        "2. Write a function named count_vowels that takes a string as an input argument and returns the number of vowels (a, e, i, o, u) in the string.\n",
        "\n",
        "Example:\n",
        "\n",
        "```python\n",
        "def count_vowels(input_string):\n",
        "    # Your code here\n",
        "\n",
        "# Test your function\n",
        "print(count_vowels(\"hello world\"))  # Output: 3\n",
        "\n",
        "```"
      ],
      "metadata": {
        "id": "omjVi60rd8lu"
      }
    },
    {
      "cell_type": "code",
      "source": [],
      "metadata": {
        "id": "H9rs6cFyeGDj"
      },
      "execution_count": null,
      "outputs": []
    },
    {
      "cell_type": "markdown",
      "source": [
        "3. Write a function named is_palindrome that takes a string as input and returns True if the string is a palindrome (reads the same forwards and backwards) and False otherwise.\n",
        "\n",
        "Example:\n",
        "\n",
        "```python\n",
        "def is_palindrome(input_string):\n",
        "    # Your code here\n",
        "\n",
        "# Test your function\n",
        "print(is_palindrome(\"racecar\"))  # Output: True\n",
        "```"
      ],
      "metadata": {
        "id": "siw2-H-ieH9c"
      }
    },
    {
      "cell_type": "code",
      "source": [],
      "metadata": {
        "id": "NnBgO9fFeQXp"
      },
      "execution_count": null,
      "outputs": []
    },
    {
      "cell_type": "markdown",
      "source": [
        "5. Write a function named convert_temperature that takes two arguments: a temperature value and a string representing the input temperature scale (\"C\" for Celsius or \"F\" for Fahrenheit). The function should convert the temperature to the other scale and return the result.\n",
        "\n",
        "Example:\n",
        "\n",
        "```python\n",
        "\n",
        "def convert_temperature(temperature, scale):\n",
        "    # Your code here\n",
        "\n",
        "# Test your function\n",
        "print(convert_temperature(32, \"F\"))  # Output: 0.0\n",
        "```"
      ],
      "metadata": {
        "id": "k8x87xEGeRKi"
      }
    },
    {
      "cell_type": "code",
      "source": [],
      "metadata": {
        "id": "cfIfilK_eYnK"
      },
      "execution_count": null,
      "outputs": []
    },
    {
      "cell_type": "markdown",
      "source": [
        "6. Write a function named calculate_area that takes two arguments: the length and width of a rectangle. The function should return the area of the rectangle.\n",
        "\n",
        "Example:\n",
        "\n",
        "```python\n",
        "def calculate_area(length, width):\n",
        "    # Your code here\n",
        "\n",
        "# Test your function\n",
        "print(calculate_area(4, 5))  # Output: 20\n",
        "\n",
        "```"
      ],
      "metadata": {
        "id": "miLs7HsbeZbC"
      }
    },
    {
      "cell_type": "code",
      "source": [],
      "metadata": {
        "id": "U2jG_uv0ej2a"
      },
      "execution_count": null,
      "outputs": []
    }
  ]
}