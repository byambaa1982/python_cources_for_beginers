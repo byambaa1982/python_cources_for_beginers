{
  "nbformat": 4,
  "nbformat_minor": 0,
  "metadata": {
    "colab": {
      "provenance": [],
      "authorship_tag": "ABX9TyNJbqwHysQn5kRgJcKpxeDq",
      "include_colab_link": true
    },
    "kernelspec": {
      "name": "python3",
      "display_name": "Python 3"
    },
    "language_info": {
      "name": "python"
    }
  },
  "cells": [
    {
      "cell_type": "markdown",
      "metadata": {
        "id": "view-in-github",
        "colab_type": "text"
      },
      "source": [
        "<a href=\"https://colab.research.google.com/github/byambaa1982/python_cources_for_beginers/blob/class_zero_hannah/4_functions/Functions_Hanna.ipynb\" target=\"_parent\"><img src=\"https://colab.research.google.com/assets/colab-badge.svg\" alt=\"Open In Colab\"/></a>"
      ]
    },
    {
      "cell_type": "markdown",
      "source": [
        "# Functions"
      ],
      "metadata": {
        "id": "h1NN1R1subfu"
      }
    },
    {
      "cell_type": "code",
      "execution_count": 2,
      "metadata": {
        "id": "yjcOwtKctR9V"
      },
      "outputs": [],
      "source": [
        "def add_numbers(a, b):\n",
        "    result = a + b\n",
        "    return result"
      ]
    },
    {
      "cell_type": "code",
      "source": [
        "add_numbers(3, 5)"
      ],
      "metadata": {
        "colab": {
          "base_uri": "https://localhost:8080/"
        },
        "id": "TUk5QyKBtb0v",
        "outputId": "48ba81ed-7ecf-47b1-fcc2-8709fc1b5098"
      },
      "execution_count": 3,
      "outputs": [
        {
          "output_type": "execute_result",
          "data": {
            "text/plain": [
              "8"
            ]
          },
          "metadata": {},
          "execution_count": 3
        }
      ]
    },
    {
      "cell_type": "markdown",
      "source": [
        "## Example 1"
      ],
      "metadata": {
        "id": "KuSyrKi6uKki"
      }
    },
    {
      "cell_type": "code",
      "source": [
        "a = 4\n",
        "b = 5\n",
        "print(f\"if you add {a} and {b}, it is {add_numbers(a, b)}\")"
      ],
      "metadata": {
        "colab": {
          "base_uri": "https://localhost:8080/"
        },
        "id": "WH_CL6YotfN4",
        "outputId": "17340f0a-a445-4b2c-c7d8-cf21d226e3fb"
      },
      "execution_count": 5,
      "outputs": [
        {
          "output_type": "stream",
          "name": "stdout",
          "text": [
            "if you add 4 and 5, it is 9\n"
          ]
        }
      ]
    },
    {
      "cell_type": "code",
      "source": [
        "# change variables and run\n",
        "\n",
        "a =\n",
        "b =\n",
        "print(f\"if you add {a} and {b}, it is {add_numbers(a, b)}\")"
      ],
      "metadata": {
        "id": "FGzI2HB_twd5"
      },
      "execution_count": null,
      "outputs": []
    },
    {
      "cell_type": "code",
      "source": [
        "# Complete the function\n",
        "\n",
        "def substract_numbers():"
      ],
      "metadata": {
        "id": "EIpIKlnSuA03"
      },
      "execution_count": null,
      "outputs": []
    },
    {
      "cell_type": "code",
      "source": [
        "# Create similar code to example 1"
      ],
      "metadata": {
        "id": "7ko0lsuauHSR"
      },
      "execution_count": 6,
      "outputs": []
    },
    {
      "cell_type": "code",
      "source": [
        "# change variables and run"
      ],
      "metadata": {
        "id": "Q71wC0A7uZqI"
      },
      "execution_count": null,
      "outputs": []
    },
    {
      "cell_type": "markdown",
      "source": [
        "# Example 2"
      ],
      "metadata": {
        "id": "RGHPtQCnusUA"
      }
    },
    {
      "cell_type": "code",
      "source": [
        "def hello(name):\n",
        "  print(f'Hello, {name}, it is a nice day')"
      ],
      "metadata": {
        "id": "oJ3qCxBTvjua"
      },
      "execution_count": 10,
      "outputs": []
    },
    {
      "cell_type": "code",
      "source": [
        "hello(\"Hanna\")"
      ],
      "metadata": {
        "colab": {
          "base_uri": "https://localhost:8080/"
        },
        "id": "A9BiIOeWvugZ",
        "outputId": "32fa0f68-076b-4659-d04b-75dcfdd4625b"
      },
      "execution_count": 11,
      "outputs": [
        {
          "output_type": "stream",
          "name": "stdout",
          "text": [
            "Hello, Hanna, it is a nice day\n"
          ]
        }
      ]
    },
    {
      "cell_type": "code",
      "source": [],
      "metadata": {
        "id": "kMJmBkwbvzj4"
      },
      "execution_count": null,
      "outputs": []
    }
  ]
}