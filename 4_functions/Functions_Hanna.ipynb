{
  "nbformat": 4,
  "nbformat_minor": 0,
  "metadata": {
    "colab": {
      "provenance": [],
      "include_colab_link": true
    },
    "kernelspec": {
      "name": "python3",
      "display_name": "Python 3"
    },
    "language_info": {
      "name": "python"
    }
  },
  "cells": [
    {
      "cell_type": "markdown",
      "metadata": {
        "id": "view-in-github",
        "colab_type": "text"
      },
      "source": [
        "<a href=\"https://colab.research.google.com/github/byambaa1982/python_cources_for_beginers/blob/class_zero_hannah/4_functions/Functions_Hanna.ipynb\" target=\"_parent\"><img src=\"https://colab.research.google.com/assets/colab-badge.svg\" alt=\"Open In Colab\"/></a>"
      ]
    },
    {
      "cell_type": "markdown",
      "source": [
        "# Functions"
      ],
      "metadata": {
        "id": "h1NN1R1subfu"
      }
    },
    {
      "cell_type": "code",
      "execution_count": 1,
      "metadata": {
        "id": "yjcOwtKctR9V"
      },
      "outputs": [],
      "source": [
        "def add_numbers(a, b):\n",
        "    result = a + b\n",
        "    return result"
      ]
    },
    {
      "cell_type": "code",
      "source": [
        "add_numbers(3, 5)"
      ],
      "metadata": {
        "colab": {
          "base_uri": "https://localhost:8080/"
        },
        "id": "TUk5QyKBtb0v",
        "outputId": "a2fd9b91-0f02-4fe2-d635-5daa2849522b"
      },
      "execution_count": 2,
      "outputs": [
        {
          "output_type": "execute_result",
          "data": {
            "text/plain": [
              "8"
            ]
          },
          "metadata": {},
          "execution_count": 2
        }
      ]
    },
    {
      "cell_type": "markdown",
      "source": [
        "## Example 1"
      ],
      "metadata": {
        "id": "KuSyrKi6uKki"
      }
    },
    {
      "cell_type": "code",
      "source": [
        "a = 4\n",
        "b = 5\n",
        "print(f\"if you add {a} and {b}, it is {add_numbers(a, b)}\")"
      ],
      "metadata": {
        "colab": {
          "base_uri": "https://localhost:8080/"
        },
        "id": "WH_CL6YotfN4",
        "outputId": "c9967445-fe13-49c9-9cff-f5122d16144c"
      },
      "execution_count": 3,
      "outputs": [
        {
          "output_type": "stream",
          "name": "stdout",
          "text": [
            "if you add 4 and 5, it is 9\n"
          ]
        }
      ]
    },
    {
      "cell_type": "code",
      "source": [
        "# change variables and run\n",
        "\n",
        "a = 132\n",
        "b = 128\n",
        "print(f\"if you add {a} and {b}, it is {add_numbers(a, b)}\")"
      ],
      "metadata": {
        "id": "FGzI2HB_twd5",
        "colab": {
          "base_uri": "https://localhost:8080/"
        },
        "outputId": "900492b1-70fb-4fbb-91b3-dd9b5a0cf2be"
      },
      "execution_count": 7,
      "outputs": [
        {
          "output_type": "stream",
          "name": "stdout",
          "text": [
            "if you add 132 and 128, it is 260\n"
          ]
        }
      ]
    },
    {
      "cell_type": "code",
      "source": [
        "# Complete the function\n",
        "\n",
        "def substract_numbers[]\"a\"-\"b\"\n",
        "  print(\"132 - 128\")"
      ],
      "metadata": {
        "id": "EIpIKlnSuA03",
        "colab": {
          "base_uri": "https://localhost:8080/",
          "height": 109
        },
        "outputId": "349cc7ce-2458-4446-a1da-75be7eeccb59"
      },
      "execution_count": 11,
      "outputs": [
        {
          "output_type": "error",
          "ename": "SyntaxError",
          "evalue": "invalid syntax (<ipython-input-11-1134558a5ba2>, line 3)",
          "traceback": [
            "\u001b[0;36m  File \u001b[0;32m\"<ipython-input-11-1134558a5ba2>\"\u001b[0;36m, line \u001b[0;32m3\u001b[0m\n\u001b[0;31m    def substract_numbers(\"a\"-\"b\")\u001b[0m\n\u001b[0m                          ^\u001b[0m\n\u001b[0;31mSyntaxError\u001b[0m\u001b[0;31m:\u001b[0m invalid syntax\n"
          ]
        }
      ]
    },
    {
      "cell_type": "code",
      "source": [
        "# Create similar code to example 1"
      ],
      "metadata": {
        "id": "7ko0lsuauHSR"
      },
      "execution_count": null,
      "outputs": []
    },
    {
      "cell_type": "code",
      "source": [
        "# change variables and run"
      ],
      "metadata": {
        "id": "Q71wC0A7uZqI"
      },
      "execution_count": null,
      "outputs": []
    },
    {
      "cell_type": "markdown",
      "source": [
        "# Example 2"
      ],
      "metadata": {
        "id": "RGHPtQCnusUA"
      }
    },
    {
      "cell_type": "code",
      "source": [
        "def hello(name):\n",
        "  print(f'Hello, {name}, it is a nice day')"
      ],
      "metadata": {
        "id": "oJ3qCxBTvjua"
      },
      "execution_count": null,
      "outputs": []
    },
    {
      "cell_type": "code",
      "source": [
        "hello(\"Hanna\")"
      ],
      "metadata": {
        "colab": {
          "base_uri": "https://localhost:8080/"
        },
        "id": "A9BiIOeWvugZ",
        "outputId": "32fa0f68-076b-4659-d04b-75dcfdd4625b"
      },
      "execution_count": null,
      "outputs": [
        {
          "output_type": "stream",
          "name": "stdout",
          "text": [
            "Hello, Hanna, it is a nice day\n"
          ]
        }
      ]
    },
    {
      "cell_type": "code",
      "source": [],
      "metadata": {
        "id": "kMJmBkwbvzj4"
      },
      "execution_count": null,
      "outputs": []
    }
  ]
}