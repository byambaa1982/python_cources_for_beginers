{
  "nbformat": 4,
  "nbformat_minor": 0,
  "metadata": {
    "colab": {
      "provenance": [],
      "include_colab_link": true
    },
    "kernelspec": {
      "name": "python3",
      "display_name": "Python 3"
    },
    "language_info": {
      "name": "python"
    }
  },
  "cells": [
    {
      "cell_type": "markdown",
      "metadata": {
        "id": "view-in-github",
        "colab_type": "text"
      },
      "source": [
        "<a href=\"https://colab.research.google.com/github/byambaa1982/python_cources_for_beginers/blob/class_zero_hannah/4_functions/Functions_Hanna.ipynb\" target=\"_parent\"><img src=\"https://colab.research.google.com/assets/colab-badge.svg\" alt=\"Open In Colab\"/></a>"
      ]
    },
    {
      "cell_type": "markdown",
      "source": [
        "# Functions"
      ],
      "metadata": {
        "id": "h1NN1R1subfu"
      }
    },
    {
      "cell_type": "code",
      "execution_count": null,
      "metadata": {
        "id": "yjcOwtKctR9V"
      },
      "outputs": [],
      "source": [
        "def add_numbers(a, b):\n",
        "\n",
        "    return (a-b)"
      ]
    },
    {
      "cell_type": "code",
      "source": [
        "add_numbers(3, 5)"
      ],
      "metadata": {
        "colab": {
          "base_uri": "https://localhost:8080/"
        },
        "id": "TUk5QyKBtb0v",
        "outputId": "a2fd9b91-0f02-4fe2-d635-5daa2849522b"
      },
      "execution_count": null,
      "outputs": [
        {
          "output_type": "execute_result",
          "data": {
            "text/plain": [
              "8"
            ]
          },
          "metadata": {},
          "execution_count": 2
        }
      ]
    },
    {
      "cell_type": "markdown",
      "source": [
        "## Example 1"
      ],
      "metadata": {
        "id": "KuSyrKi6uKki"
      }
    },
    {
      "cell_type": "code",
      "source": [
        "a = 4\n",
        "b = 5\n",
        "print(f\"if you add {a} and {b}, it is {add_numbers(a, b)}\")"
      ],
      "metadata": {
        "colab": {
          "base_uri": "https://localhost:8080/"
        },
        "id": "WH_CL6YotfN4",
        "outputId": "c9967445-fe13-49c9-9cff-f5122d16144c"
      },
      "execution_count": null,
      "outputs": [
        {
          "output_type": "stream",
          "name": "stdout",
          "text": [
            "if you add 4 and 5, it is 9\n"
          ]
        }
      ]
    },
    {
      "cell_type": "code",
      "source": [
        "# change variables and run\n",
        "\n",
        "a = 132\n",
        "b = 128\n",
        "print(f\"if you add {a} and {b}, it is {add_numbers(a, b)}\")"
      ],
      "metadata": {
        "id": "FGzI2HB_twd5",
        "colab": {
          "base_uri": "https://localhost:8080/"
        },
        "outputId": "900492b1-70fb-4fbb-91b3-dd9b5a0cf2be"
      },
      "execution_count": null,
      "outputs": [
        {
          "output_type": "stream",
          "name": "stdout",
          "text": [
            "if you add 132 and 128, it is 260\n"
          ]
        }
      ]
    },
    {
      "cell_type": "code",
      "source": [
        "# Complete the function\n",
        "\n",
        "def substract_numbers(a, b):\n",
        "  print(a-b)"
      ],
      "metadata": {
        "id": "EIpIKlnSuA03"
      },
      "execution_count": null,
      "outputs": []
    },
    {
      "cell_type": "code",
      "source": [],
      "metadata": {
        "id": "MJkFTNJzMax7"
      },
      "execution_count": null,
      "outputs": []
    },
    {
      "cell_type": "code",
      "source": [
        "\n",
        "# Create similar code to example 1\n",
        "x = 8\n",
        "z = 4\n",
        "print(f\"if you subtract numbers; {x} and {z}, it is {}\")"
      ],
      "metadata": {
        "id": "7ko0lsuauHSR",
        "colab": {
          "base_uri": "https://localhost:8080/"
        },
        "outputId": "29a56c66-4b52-4ffc-b24f-a12e2c39750f"
      },
      "execution_count": null,
      "outputs": [
        {
          "output_type": "stream",
          "name": "stdout",
          "text": [
            "if you add 8 and 4, it is 12\n"
          ]
        }
      ]
    },
    {
      "cell_type": "code",
      "source": [
        "# change variables and run\n",
        "g = 170\n",
        "c = 160\n",
        "print(f\"if you add {g} and {c},it is {330}\")"
      ],
      "metadata": {
        "id": "Q71wC0A7uZqI",
        "colab": {
          "base_uri": "https://localhost:8080/"
        },
        "outputId": "f38cf836-4b96-4737-8454-8cf87da020d0"
      },
      "execution_count": null,
      "outputs": [
        {
          "output_type": "stream",
          "name": "stdout",
          "text": [
            "if you add 170 and 160,it is 330\n"
          ]
        }
      ]
    },
    {
      "cell_type": "markdown",
      "source": [
        "# Example 2"
      ],
      "metadata": {
        "id": "RGHPtQCnusUA"
      }
    },
    {
      "cell_type": "code",
      "source": [
        "def hello(name):\n",
        "  print(f'Hello, {name}, it is a nice day')"
      ],
      "metadata": {
        "id": "oJ3qCxBTvjua"
      },
      "execution_count": 1,
      "outputs": []
    },
    {
      "cell_type": "code",
      "source": [
        "def hello(name, age):\n",
        "  if age < 5 and age > 1:\n",
        "    print(f'Hello, {name}, it is a nice day. i am {age} years old. I am a toddler')\n",
        "  elif age > 1:\n",
        "    print(f'Hello, {name}, it is a nice day. I am {age} years old. I am not a teen')\n",
        "\n",
        "  else:\n",
        "    print(f\"Hello\")\n"
      ],
      "metadata": {
        "id": "iCskNdR6HyoU"
      },
      "execution_count": 36,
      "outputs": []
    },
    {
      "cell_type": "code",
      "source": [],
      "metadata": {
        "id": "A9BiIOeWvugZ"
      },
      "execution_count": 33,
      "outputs": []
    },
    {
      "cell_type": "code",
      "source": [
        "name = \"Hannah\"\n",
        "age = 2\n",
        "hello(name, age)"
      ],
      "metadata": {
        "id": "kMJmBkwbvzj4",
        "outputId": "e0758387-4233-4d2e-9534-f3e3d0ac2c7f",
        "colab": {
          "base_uri": "https://localhost:8080/"
        }
      },
      "execution_count": 37,
      "outputs": [
        {
          "output_type": "stream",
          "name": "stdout",
          "text": [
            "Hello, Hannah, it is a nice day. i am 2 years old. I am a toddler\n"
          ]
        }
      ]
    },
    {
      "cell_type": "code",
      "source": [
        "(f'Hello, {name}, it is a nice day. I am {age} years old')\n",
        "age = 10\n",
        "age"
      ],
      "metadata": {
        "id": "l-3LnNgeoRJD",
        "outputId": "1f8f4e2d-3984-40b7-eb30-0b0d8737dd82",
        "colab": {
          "base_uri": "https://localhost:8080/",
          "height": 36
        }
      },
      "execution_count": 12,
      "outputs": [
        {
          "output_type": "execute_result",
          "data": {
            "text/plain": [
              "'Hello, Hannah, it is a nice day. I am 10 years old'"
            ],
            "application/vnd.google.colaboratory.intrinsic+json": {
              "type": "string"
            }
          },
          "metadata": {},
          "execution_count": 12
        }
      ]
    },
    {
      "cell_type": "code",
      "source": [
        "def weather(temp):\n",
        "  if temp < 10:\n",
        "   print(\"It is a cold day\")\n",
        "\n",
        "  elif temp > 10 and temp < 50:\n",
        "    print(\"It is a warm day\")\n",
        "  else: temp > 10 and temp < 100\n",
        "  print(\"It is a hot day\")"
      ],
      "metadata": {
        "id": "s4eAefouwpt7"
      },
      "execution_count": 56,
      "outputs": []
    },
    {
      "cell_type": "code",
      "source": [
        "temperature = 90\n",
        "weather(temperature)\n",
        "\n"
      ],
      "metadata": {
        "id": "YijCStLDv4Ma",
        "outputId": "0311db22-fdc4-4bf9-dedd-2ffb05580b67",
        "colab": {
          "base_uri": "https://localhost:8080/"
        }
      },
      "execution_count": 58,
      "outputs": [
        {
          "output_type": "stream",
          "name": "stdout",
          "text": [
            "It is a hot day\n"
          ]
        }
      ]
    },
    {
      "cell_type": "code",
      "source": [],
      "metadata": {
        "id": "GiHh7hpfxGAK"
      },
      "execution_count": null,
      "outputs": []
    }
  ]
}