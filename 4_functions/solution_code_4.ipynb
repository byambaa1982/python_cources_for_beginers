{
  "nbformat": 4,
  "nbformat_minor": 0,
  "metadata": {
    "colab": {
      "provenance": [],
      "authorship_tag": "ABX9TyMc5nX+kih/ls4+RULzeJ14",
      "include_colab_link": true
    },
    "kernelspec": {
      "name": "python3",
      "display_name": "Python 3"
    },
    "language_info": {
      "name": "python"
    }
  },
  "cells": [
    {
      "cell_type": "markdown",
      "metadata": {
        "id": "view-in-github",
        "colab_type": "text"
      },
      "source": [
        "<a href=\"https://colab.research.google.com/github/byambaa1982/python_cources_for_beginers/blob/main/4_functions/Function_Solution_Code.ipynb\" target=\"_parent\"><img src=\"https://colab.research.google.com/assets/colab-badge.svg\" alt=\"Open In Colab\"/></a>"
      ]
    },
    {
      "cell_type": "markdown",
      "source": [
        "1. Multiply Numbers"
      ],
      "metadata": {
        "id": "jOCMy1t0fIUR"
      }
    },
    {
      "cell_type": "code",
      "execution_count": 1,
      "metadata": {
        "colab": {
          "base_uri": "https://localhost:8080/"
        },
        "id": "39ruHjIue1xR",
        "outputId": "f90ceed0-2991-40a7-b31e-23ec6ce53558"
      },
      "outputs": [
        {
          "output_type": "stream",
          "name": "stdout",
          "text": [
            "12\n"
          ]
        }
      ],
      "source": [
        "def multiply_numbers(a, b):\n",
        "    return a * b\n",
        "\n",
        "print(multiply_numbers(3, 4))  # Output: 12"
      ]
    },
    {
      "cell_type": "markdown",
      "source": [
        "2. Count Vowels"
      ],
      "metadata": {
        "id": "gkIF4sX8fMR7"
      }
    },
    {
      "cell_type": "code",
      "source": [
        "def count_vowels(input_string):\n",
        "    vowels = 'aeiou'\n",
        "    return sum(1 for char in input_string.lower() if char in vowels)\n",
        "\n",
        "print(count_vowels(\"hello world\"))  # Output: 3"
      ],
      "metadata": {
        "colab": {
          "base_uri": "https://localhost:8080/"
        },
        "id": "MqJKjEUEe9QL",
        "outputId": "3063af60-9f14-421e-95e5-ef259402f82d"
      },
      "execution_count": 2,
      "outputs": [
        {
          "output_type": "stream",
          "name": "stdout",
          "text": [
            "3\n"
          ]
        }
      ]
    },
    {
      "cell_type": "markdown",
      "source": [
        "3. Check Palindrome"
      ],
      "metadata": {
        "id": "YXAH8s18fOlU"
      }
    },
    {
      "cell_type": "code",
      "source": [
        "def is_palindrome(input_string):\n",
        "    return input_string.lower() == input_string[::-1].lower()\n",
        "\n",
        "print(is_palindrome(\"racecar\"))  # Output: True"
      ],
      "metadata": {
        "colab": {
          "base_uri": "https://localhost:8080/"
        },
        "id": "UqVzd_2ie_D5",
        "outputId": "3e65160f-64d2-4993-e3c9-94f81e2a397a"
      },
      "execution_count": 3,
      "outputs": [
        {
          "output_type": "stream",
          "name": "stdout",
          "text": [
            "True\n"
          ]
        }
      ]
    },
    {
      "cell_type": "markdown",
      "source": [
        "4. Convert Temperature"
      ],
      "metadata": {
        "id": "eNEEkk6YfU6j"
      }
    },
    {
      "cell_type": "code",
      "source": [
        "def convert_temperature(temperature, scale):\n",
        "    if scale == \"F\":\n",
        "        return (temperature - 32) * 5 / 9\n",
        "    elif scale == \"C\":\n",
        "        return (temperature * 9 / 5) + 32\n",
        "\n",
        "print(convert_temperature(32, \"F\"))  # Output: 0.0"
      ],
      "metadata": {
        "colab": {
          "base_uri": "https://localhost:8080/"
        },
        "id": "NAGC3pgrfBR6",
        "outputId": "252e2597-e0ea-4cc7-b6ea-d85c99bbe62f"
      },
      "execution_count": 4,
      "outputs": [
        {
          "output_type": "stream",
          "name": "stdout",
          "text": [
            "0.0\n"
          ]
        }
      ]
    },
    {
      "cell_type": "markdown",
      "source": [
        "5. Calculate Area"
      ],
      "metadata": {
        "id": "N0yZFsQ0fZnU"
      }
    },
    {
      "cell_type": "code",
      "source": [
        "def calculate_area(length, width):\n",
        "    return length * width\n",
        "\n",
        "print(calculate_area(4, 5))  # Output: 20"
      ],
      "metadata": {
        "colab": {
          "base_uri": "https://localhost:8080/"
        },
        "id": "Ufp8ssKtfDUp",
        "outputId": "bf7083d5-fba1-4d37-dcd7-10cceab2b4eb"
      },
      "execution_count": 5,
      "outputs": [
        {
          "output_type": "stream",
          "name": "stdout",
          "text": [
            "20\n"
          ]
        }
      ]
    },
    {
      "cell_type": "code",
      "source": [],
      "metadata": {
        "id": "GiT1afcGfFTq"
      },
      "execution_count": null,
      "outputs": []
    }
  ]
}