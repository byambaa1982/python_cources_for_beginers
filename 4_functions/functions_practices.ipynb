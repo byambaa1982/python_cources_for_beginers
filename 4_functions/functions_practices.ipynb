{
  "nbformat": 4,
  "nbformat_minor": 0,
  "metadata": {
    "colab": {
      "provenance": [],
      "authorship_tag": "ABX9TyM3MknqgnDxdx0CfxCSNQ+G",
      "include_colab_link": true
    },
    "kernelspec": {
      "name": "python3",
      "display_name": "Python 3"
    },
    "language_info": {
      "name": "python"
    }
  },
  "cells": [
    {
      "cell_type": "markdown",
      "metadata": {
        "id": "view-in-github",
        "colab_type": "text"
      },
      "source": [
        "<a href=\"https://colab.research.google.com/github/byambaa1982/python_cources_for_beginers/blob/homework_branch/4_functions/functions_practices.ipynb\" target=\"_parent\"><img src=\"https://colab.research.google.com/assets/colab-badge.svg\" alt=\"Open In Colab\"/></a>"
      ]
    },
    {
      "cell_type": "code",
      "source": [
        "def grader(grade):\n",
        "  if grade < 60:\n",
        "    print(f'You got a grade F')\n",
        "  elif grade >= 60 and grade < 70:\n",
        "    print(f'You got a grade D')\n",
        "  elif grade >= 70 and grade < 80:\n",
        "    print(f'You got a grade C')\n",
        "  elif grade >= 80 and grade < 90:\n",
        "    print(f'You got a grade B')\n",
        "  else:\n",
        "    print(f'You got A')"
      ],
      "metadata": {
        "id": "o-Pfx2i3xcvY"
      },
      "execution_count": 2,
      "outputs": []
    },
    {
      "cell_type": "code",
      "source": [
        "grader(92)"
      ],
      "metadata": {
        "id": "kozZmpNdxEuA",
        "outputId": "56565a08-2cb0-4595-dc3d-7676dd224eb2",
        "colab": {
          "base_uri": "https://localhost:8080/"
        }
      },
      "execution_count": 3,
      "outputs": [
        {
          "output_type": "stream",
          "name": "stdout",
          "text": [
            "You got A\n"
          ]
        }
      ]
    },
    {
      "cell_type": "code",
      "source": [
        "\n",
        "grades = [20, 55, 99, 80, 99, 60, 70, 80]\n",
        "for grade in grades:\n",
        "  print(f\"Your score is {grade}\")\n",
        "  grader(grade)\n",
        "\n"
      ],
      "metadata": {
        "id": "WdUKb1cG5IaR",
        "outputId": "91a5ee68-36f6-4dfe-9ea0-feb7a3058795",
        "colab": {
          "base_uri": "https://localhost:8080/"
        }
      },
      "execution_count": 4,
      "outputs": [
        {
          "output_type": "stream",
          "name": "stdout",
          "text": [
            "Your score is 20\n",
            "You got a grade F\n",
            "Your score is 55\n",
            "You got a grade F\n",
            "Your score is 99\n",
            "You got A\n",
            "Your score is 80\n",
            "You got a grade B\n",
            "Your score is 99\n",
            "You got A\n",
            "Your score is 60\n",
            "You got a grade D\n",
            "Your score is 70\n",
            "You got a grade C\n",
            "Your score is 80\n",
            "You got a grade B\n"
          ]
        }
      ]
    },
    {
      "cell_type": "code",
      "source": [
        "bad_grades = []\n",
        "grades = [20, 55, 99, 80, 99, 60, 70, 80, 45, 59]\n",
        "for grade in grades:\n",
        "  if grade < 60:\n",
        "    bad_grades.append(grade)\n",
        "  print(f\"Your score is {grade}\")\n",
        "  grader(grade)"
      ],
      "metadata": {
        "id": "vRRE-R786C_I",
        "outputId": "57e42353-1b3d-4a24-c0b9-b46a83f2983c",
        "colab": {
          "base_uri": "https://localhost:8080/"
        }
      },
      "execution_count": 5,
      "outputs": [
        {
          "output_type": "stream",
          "name": "stdout",
          "text": [
            "Your score is 20\n",
            "You got a grade F\n",
            "Your score is 55\n",
            "You got a grade F\n",
            "Your score is 99\n",
            "You got A\n",
            "Your score is 80\n",
            "You got a grade B\n",
            "Your score is 99\n",
            "You got A\n",
            "Your score is 60\n",
            "You got a grade D\n",
            "Your score is 70\n",
            "You got a grade C\n",
            "Your score is 80\n",
            "You got a grade B\n",
            "Your score is 45\n",
            "You got a grade F\n",
            "Your score is 59\n",
            "You got a grade F\n"
          ]
        }
      ]
    },
    {
      "cell_type": "code",
      "source": [
        "print(bad_grades)"
      ],
      "metadata": {
        "id": "3fIrtRoI61Wh",
        "outputId": "6be79929-6011-43d7-bef0-749326082702",
        "colab": {
          "base_uri": "https://localhost:8080/"
        }
      },
      "execution_count": 6,
      "outputs": [
        {
          "output_type": "stream",
          "name": "stdout",
          "text": [
            "[20, 55, 45, 59]\n"
          ]
        }
      ]
    },
    {
      "cell_type": "code",
      "source": [
        "def grader(grades):\n",
        "  bad_brades = []\n",
        "  good_grades = []\n",
        "  for grade in grades:\n",
        "    if grade < 60:\n",
        "      bad_brades.append(grade)\n",
        "      print(f'You got a grade F')\n",
        "    elif grade >= 60 and grade < 70:\n",
        "      print(f'You got a grade D')\n",
        "    elif grade >= 70 and grade < 80:\n",
        "      print(f'You got a grade C')\n",
        "    elif grade >= 80 and grade < 90:\n",
        "      print(f'You got a grade B')\n",
        "    else:\n",
        "      good_grades.append(grade)\n",
        "      print(f'You got A')\n",
        "  return bad_grades, good_grades"
      ],
      "metadata": {
        "id": "zp_NOyKt9mmZ"
      },
      "execution_count": null,
      "outputs": []
    },
    {
      "cell_type": "code",
      "source": [
        "grader(grades)"
      ],
      "metadata": {
        "id": "nL2KG2ca9oRN",
        "outputId": "5678cf55-6f71-4d4a-aecf-9c6b77cbab18",
        "colab": {
          "base_uri": "https://localhost:8080/"
        }
      },
      "execution_count": null,
      "outputs": [
        {
          "output_type": "stream",
          "name": "stdout",
          "text": [
            "You got a grade F\n",
            "You got a grade F\n",
            "You got A\n",
            "You got a grade B\n",
            "You got A\n",
            "You got a grade D\n",
            "You got a grade C\n",
            "You got a grade B\n",
            "You got a grade F\n",
            "You got a grade F\n"
          ]
        },
        {
          "output_type": "execute_result",
          "data": {
            "text/plain": [
              "([20, 55, 45, 59], [99, 99])"
            ]
          },
          "metadata": {},
          "execution_count": 41
        }
      ]
    },
    {
      "cell_type": "markdown",
      "source": [
        "\n",
        "## Print the numbers 1 to 10:\n",
        "- Write a function called print_numbers that uses a for loop to print numbers from 1 to 10."
      ],
      "metadata": {
        "id": "19CdTfEasKOW"
      }
    },
    {
      "cell_type": "code",
      "source": [
        "def print_numbers():\n",
        "  for i in range(0, 11):\n",
        "    print(i)"
      ],
      "metadata": {
        "id": "6CAHZKgbr42r"
      },
      "execution_count": 14,
      "outputs": []
    },
    {
      "cell_type": "code",
      "source": [
        "print_numbers()"
      ],
      "metadata": {
        "colab": {
          "base_uri": "https://localhost:8080/"
        },
        "id": "eKSf86N5sMEi",
        "outputId": "2c3ab3dc-8846-4d5d-cc43-92e4d65c4765"
      },
      "execution_count": 15,
      "outputs": [
        {
          "output_type": "stream",
          "name": "stdout",
          "text": [
            "0\n",
            "1\n",
            "2\n",
            "3\n",
            "4\n",
            "5\n",
            "6\n",
            "7\n",
            "8\n",
            "9\n",
            "10\n"
          ]
        }
      ]
    },
    {
      "cell_type": "markdown",
      "source": [
        "# Print each letter in your name:\n",
        "\n",
        "Write a function called print_name_letters that takes your name as an input and prints each letter on a new line."
      ],
      "metadata": {
        "id": "fkNFVohCsfSN"
      }
    },
    {
      "cell_type": "code",
      "source": [
        "def print_name_letters(name):\n",
        "  for i in name:\n",
        "    print(i)\n",
        "\n",
        "print_name_letters(\"Byamba\")\n"
      ],
      "metadata": {
        "colab": {
          "base_uri": "https://localhost:8080/"
        },
        "id": "V2_z-n1vsUTr",
        "outputId": "5b45705f-c8f4-496c-87fc-b9ca5b5004af"
      },
      "execution_count": 17,
      "outputs": [
        {
          "output_type": "stream",
          "name": "stdout",
          "text": [
            "B\n",
            "y\n",
            "a\n",
            "m\n",
            "b\n",
            "a\n"
          ]
        }
      ]
    },
    {
      "cell_type": "markdown",
      "source": [
        "## Determine if a letter is a vowel or consonant:\n",
        "Write a function called check_vowel_consonant that takes a letter as input and prints \"Vowel\" if the letter is a vowel, and \"Consonant\" if the letter is a consonant."
      ],
      "metadata": {
        "id": "nYgxWi6Zuhs1"
      }
    },
    {
      "cell_type": "code",
      "source": [
        "def check_vowel_consonant(letter):\n",
        "# ---- Your code here -------\n",
        "  vowel = \"aeiouy\"\n",
        "  if letter in vowel:\n",
        "     print(\"Vowel\")\n",
        "  else:\n",
        "    print(\"Consonant\")\n",
        "\n",
        "check_vowel_consonant('a')\n",
        "check_vowel_consonant('b')"
      ],
      "metadata": {
        "colab": {
          "base_uri": "https://localhost:8080/"
        },
        "id": "wbie5eTbsn9z",
        "outputId": "2634211e-4ffe-420c-b484-77a68aeb74df"
      },
      "execution_count": 19,
      "outputs": [
        {
          "output_type": "stream",
          "name": "stdout",
          "text": [
            "Vowel\n",
            "Consonant\n"
          ]
        }
      ]
    },
    {
      "cell_type": "markdown",
      "source": [
        "# Write a function called count_vowels that takes a word as input and uses a loop to count and print the number of vowels in the word."
      ],
      "metadata": {
        "id": "LR8JGzteu0Uy"
      }
    },
    {
      "cell_type": "code",
      "source": [
        "def count_vowels(word):\n",
        "# ---- Your code here -------\n",
        "count_vowels(\"hello\")\n",
        "count_vowels(\"programming\")"
      ],
      "metadata": {
        "colab": {
          "base_uri": "https://localhost:8080/"
        },
        "id": "4mVdpAGVs0kj",
        "outputId": "9cab2338-88a6-4994-b226-6a170c17370e"
      },
      "execution_count": null,
      "outputs": [
        {
          "output_type": "stream",
          "name": "stdout",
          "text": [
            "Number of vowels in hello is: 2\n",
            "Number of vowels in programming is: 3\n"
          ]
        }
      ]
    },
    {
      "cell_type": "code",
      "source": [
        "\"abc\"\n",
        "\n",
        "def find_vowels(\"abcv\"):\n",
        "\n",
        "\n",
        ""
      ],
      "metadata": {
        "id": "Jo6iVe0_s6mS"
      },
      "execution_count": null,
      "outputs": []
    },
    {
      "cell_type": "code",
      "source": [
        "mixed_animals = ['fish', 'Chicken', 'Dog', 'Cat', 'Salmon', 'Parrot', 'Horse', 'Elephant']\n",
        "mammoths = ['Dog', 'Cat', 'Horse', 'Elephant']\n",
        "# create a list non_mammoths"
      ],
      "metadata": {
        "id": "L3iY35G-vLPe"
      },
      "execution_count": null,
      "outputs": []
    },
    {
      "cell_type": "code",
      "source": [
        "def find_vowels(sentence):\n",
        "    vowels = \"aeiouAEIOU\"\n",
        "    vowel_list = []\n",
        "    consonant_list= []\n",
        "    for char in sentence:\n",
        "        if char in vowels:\n",
        "            vowel_list.append(char)\n",
        "        else:\n",
        "          consonant_list.append(char)\n",
        "    return vowel_list, consonant_list"
      ],
      "metadata": {
        "id": "UbdMXqOdvSHL"
      },
      "execution_count": 23,
      "outputs": []
    },
    {
      "cell_type": "code",
      "source": [
        "find_vowels(\"kdfqwekdfhaz\")"
      ],
      "metadata": {
        "id": "ljFH5EGpx18G",
        "outputId": "bc76d78f-3d3d-4872-edda-7c9ee0ab1d92",
        "colab": {
          "base_uri": "https://localhost:8080/"
        }
      },
      "execution_count": 24,
      "outputs": [
        {
          "output_type": "execute_result",
          "data": {
            "text/plain": [
              "(['e', 'a'], ['k', 'd', 'f', 'q', 'w', 'k', 'd', 'f', 'h', 'z'])"
            ]
          },
          "metadata": {},
          "execution_count": 24
        }
      ]
    },
    {
      "cell_type": "code",
      "source": [],
      "metadata": {
        "id": "D4STF6HTx5-U"
      },
      "execution_count": null,
      "outputs": []
    }
  ]
}