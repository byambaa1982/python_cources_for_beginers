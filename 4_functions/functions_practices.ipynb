{
  "nbformat": 4,
  "nbformat_minor": 0,
  "metadata": {
    "colab": {
      "provenance": [],
      "include_colab_link": true
    },
    "kernelspec": {
      "name": "python3",
      "display_name": "Python 3"
    },
    "language_info": {
      "name": "python"
    }
  },
  "cells": [
    {
      "cell_type": "markdown",
      "metadata": {
        "id": "view-in-github",
        "colab_type": "text"
      },
      "source": [
        "<a href=\"https://colab.research.google.com/github/byambaa1982/python_cources_for_beginers/blob/class_zero_urangoo/4_functions/functions_practices.ipynb\" target=\"_parent\"><img src=\"https://colab.research.google.com/assets/colab-badge.svg\" alt=\"Open In Colab\"/></a>"
      ]
    },
    {
      "cell_type": "code",
      "execution_count": null,
      "metadata": {
        "id": "yyP9U1SHrv8x"
      },
      "outputs": [],
      "source": []
    },
    {
      "cell_type": "markdown",
      "source": [
        "\n",
        "## Print the numbers 1 to 10:\n",
        "- Write a function called print_numbers that uses a for loop to print numbers from 1 to 10."
      ],
      "metadata": {
        "id": "19CdTfEasKOW"
      }
    },
    {
      "cell_type": "code",
      "source": [
        "def print_numbers():\n",
        "# ---- Your code here -------\n",
        "my_numbers"
      ],
      "metadata": {
        "colab": {
          "base_uri": "https://localhost:8080/",
          "height": 105
        },
        "id": "eKSf86N5sMEi",
        "outputId": "917a013b-f599-450a-a00f-c58ae31e0adc"
      },
      "execution_count": 7,
      "outputs": [
        {
          "output_type": "error",
          "ename": "IndentationError",
          "evalue": "expected an indented block after function definition on line 1 (<ipython-input-7-d8304f8a30f0>, line 3)",
          "traceback": [
            "\u001b[0;36m  File \u001b[0;32m\"<ipython-input-7-d8304f8a30f0>\"\u001b[0;36m, line \u001b[0;32m3\u001b[0m\n\u001b[0;31m    my_numbers\u001b[0m\n\u001b[0m    ^\u001b[0m\n\u001b[0;31mIndentationError\u001b[0m\u001b[0;31m:\u001b[0m expected an indented block after function definition on line 1\n"
          ]
        }
      ]
    },
    {
      "cell_type": "markdown",
      "source": [
        "# Print each letter in your name:\n",
        "\n",
        "Write a function called print_name_letters that takes your name as an input and prints each letter on a new line."
      ],
      "metadata": {
        "id": "fkNFVohCsfSN"
      }
    },
    {
      "cell_type": "code",
      "source": [
        "def print_name_letters(name):\n",
        "# complete\n",
        "\n",
        "print_name_letters(\"YourName\")\n"
      ],
      "metadata": {
        "colab": {
          "base_uri": "https://localhost:8080/"
        },
        "id": "V2_z-n1vsUTr",
        "outputId": "6422f31e-7f4d-4134-d74c-f984169db9e4"
      },
      "execution_count": null,
      "outputs": [
        {
          "output_type": "stream",
          "name": "stdout",
          "text": [
            "Y\n",
            "o\n",
            "u\n",
            "r\n",
            "N\n",
            "a\n",
            "m\n",
            "e\n"
          ]
        }
      ]
    },
    {
      "cell_type": "markdown",
      "source": [
        "## Determine if a letter is a vowel or consonant:\n",
        "Write a function called check_vowel_consonant that takes a letter as input and prints \"Vowel\" if the letter is a vowel, and \"Consonant\" if the letter is a consonant."
      ],
      "metadata": {
        "id": "nYgxWi6Zuhs1"
      }
    },
    {
      "cell_type": "code",
      "source": [
        "def check_vowel_consonant(letter):\n",
        "# ---- Your code here -------\n",
        "\n",
        "check_vowel_consonant('a')\n",
        "check_vowel_consonant('b')"
      ],
      "metadata": {
        "colab": {
          "base_uri": "https://localhost:8080/"
        },
        "id": "wbie5eTbsn9z",
        "outputId": "61484420-28cd-4ade-ad85-773a6092a5a0"
      },
      "execution_count": null,
      "outputs": [
        {
          "output_type": "stream",
          "name": "stdout",
          "text": [
            "Vowel\n",
            "Consonant\n"
          ]
        }
      ]
    },
    {
      "cell_type": "markdown",
      "source": [
        "# Write a function called count_vowels that takes a word as input and uses a loop to count and print the number of vowels in the word."
      ],
      "metadata": {
        "id": "LR8JGzteu0Uy"
      }
    },
    {
      "cell_type": "code",
      "source": [
        "def count_vowels(word):\n",
        "# ---- Your code here -------\n",
        "count_vowels(\"hello\")\n",
        "count_vowels(\"programming\")"
      ],
      "metadata": {
        "colab": {
          "base_uri": "https://localhost:8080/"
        },
        "id": "4mVdpAGVs0kj",
        "outputId": "9cab2338-88a6-4994-b226-6a170c17370e"
      },
      "execution_count": null,
      "outputs": [
        {
          "output_type": "stream",
          "name": "stdout",
          "text": [
            "Number of vowels in hello is: 2\n",
            "Number of vowels in programming is: 3\n"
          ]
        }
      ]
    },
    {
      "cell_type": "code",
      "source": [],
      "metadata": {
        "id": "Jo6iVe0_s6mS"
      },
      "execution_count": null,
      "outputs": []
    }
  ]
}