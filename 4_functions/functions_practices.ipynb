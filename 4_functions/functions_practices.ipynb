{
  "nbformat": 4,
  "nbformat_minor": 0,
  "metadata": {
    "colab": {
      "provenance": [],
      "include_colab_link": true
    },
    "kernelspec": {
      "name": "python3",
      "display_name": "Python 3"
    },
    "language_info": {
      "name": "python"
    }
  },
  "cells": [
    {
      "cell_type": "markdown",
      "metadata": {
        "id": "view-in-github",
        "colab_type": "text"
      },
      "source": [
        "<a href=\"https://colab.research.google.com/github/byambaa1982/python_cources_for_beginers/blob/class_zero_enko/4_functions/functions_practices.ipynb\" target=\"_parent\"><img src=\"https://colab.research.google.com/assets/colab-badge.svg\" alt=\"Open In Colab\"/></a>"
      ]
    },
    {
      "cell_type": "code",
      "execution_count": 1,
      "metadata": {
        "id": "yyP9U1SHrv8x"
      },
      "outputs": [],
      "source": [
        "def grader(grade):\n",
        "  if grade < 60:\n",
        "    print(f'You got a grade F')\n",
        "  elif grade > 60 and grade < 70:\n",
        "      print(f'You got a grade D')\n",
        "  elif grade > 60 and grade < 80:\n",
        "      print(f'You got a grade C')\n",
        "  elif grade > 60 and grade < 90:\n",
        "      print(f'You got a grade B')\n",
        "  else:\n",
        "    print(f'You got A')"
      ]
    },
    {
      "cell_type": "code",
      "source": [
        "grader(94)"
      ],
      "metadata": {
        "colab": {
          "base_uri": "https://localhost:8080/"
        },
        "id": "pkoZ-Byl5TcJ",
        "outputId": "00f25d4f-654f-403f-b9b3-8a9ca70bd3a4"
      },
      "execution_count": 2,
      "outputs": [
        {
          "output_type": "stream",
          "name": "stdout",
          "text": [
            "You got A\n"
          ]
        }
      ]
    },
    {
      "cell_type": "code",
      "source": [
        "grades = [20, 55, 80, 99, 60, 70, 80]\n",
        "for grade in grades:\n",
        "  print(f\"Your score is {grade}\")\n",
        "  grader(grade)"
      ],
      "metadata": {
        "colab": {
          "base_uri": "https://localhost:8080/"
        },
        "id": "UntSwEIkxfd0",
        "outputId": "64f3b836-576e-4a37-ca2a-36d27d8b2d98"
      },
      "execution_count": 3,
      "outputs": [
        {
          "output_type": "stream",
          "name": "stdout",
          "text": [
            "Your score is 20\n",
            "You got a grade F\n",
            "Your score is 55\n",
            "You got a grade F\n",
            "Your score is 80\n",
            "You got a grade B\n",
            "Your score is 99\n",
            "You got A\n",
            "Your score is 60\n",
            "You got A\n",
            "Your score is 70\n",
            "You got a grade C\n",
            "Your score is 80\n",
            "You got a grade B\n"
          ]
        }
      ]
    },
    {
      "cell_type": "code",
      "source": [
        "bad_grades = []\n",
        "grades = [20, 55, 99, 80, 99, 60, 70, 80, 45, 59]\n",
        "for grade in grades:\n",
        "  if grade < 60:\n",
        "    bad_grades.append(grade)\n",
        "  print(f\"Your score is {grade}\")\n",
        "  grader(grade)"
      ],
      "metadata": {
        "colab": {
          "base_uri": "https://localhost:8080/"
        },
        "id": "LTLHnaeM6_VC",
        "outputId": "efd65a90-19bd-4b1c-eda6-3f0de64d653a"
      },
      "execution_count": 4,
      "outputs": [
        {
          "output_type": "stream",
          "name": "stdout",
          "text": [
            "Your score is 20\n",
            "You got a grade F\n",
            "Your score is 55\n",
            "You got a grade F\n",
            "Your score is 99\n",
            "You got A\n",
            "Your score is 80\n",
            "You got a grade B\n",
            "Your score is 99\n",
            "You got A\n",
            "Your score is 60\n",
            "You got A\n",
            "Your score is 70\n",
            "You got a grade C\n",
            "Your score is 80\n",
            "You got a grade B\n",
            "Your score is 45\n",
            "You got a grade F\n",
            "Your score is 59\n",
            "You got a grade F\n"
          ]
        }
      ]
    },
    {
      "cell_type": "code",
      "source": [
        "print(bad_grades)"
      ],
      "metadata": {
        "id": "ffKIfpSe9rHa",
        "outputId": "c9cf1e1c-d435-49fc-abc7-349c40430eba",
        "colab": {
          "base_uri": "https://localhost:8080/"
        }
      },
      "execution_count": 5,
      "outputs": [
        {
          "output_type": "stream",
          "name": "stdout",
          "text": [
            "[20, 55, 45, 59]\n"
          ]
        }
      ]
    },
    {
      "cell_type": "code",
      "source": [
        "def grader(grades):\n",
        "  bad_brades = []\n",
        "  good_grades = []\n",
        "  for grade in grades:\n",
        "    if grade < 60:\n",
        "      bad_brades.append(grade)\n",
        "      print(f'You got a grade F')\n",
        "    elif grade >= 60 and grade < 70:\n",
        "      print(f'You got a grade D')\n",
        "    elif grade >= 70 and grade < 80:\n",
        "      print(f'You got a grade C')\n",
        "    elif grade >= 80 and grade < 90:\n",
        "      print(f'You got a grade B')\n",
        "    else:\n",
        "      good_grades.append(grade)\n",
        "      print(f'You got A')\n",
        "  return bad_grades, good_grades\n",
        ""
      ],
      "metadata": {
        "id": "8ycvBgPV66KC"
      },
      "execution_count": 8,
      "outputs": []
    },
    {
      "cell_type": "code",
      "source": [
        "grader(grades)"
      ],
      "metadata": {
        "id": "3hibLfzw9GcJ",
        "outputId": "10d2c343-90ed-4c5e-a251-7a22f6dfda0b",
        "colab": {
          "base_uri": "https://localhost:8080/"
        }
      },
      "execution_count": 9,
      "outputs": [
        {
          "output_type": "stream",
          "name": "stdout",
          "text": [
            "You got a grade F\n",
            "You got a grade F\n",
            "You got A\n",
            "You got a grade B\n",
            "You got A\n",
            "You got a grade D\n",
            "You got a grade C\n",
            "You got a grade B\n",
            "You got a grade F\n",
            "You got a grade F\n"
          ]
        },
        {
          "output_type": "execute_result",
          "data": {
            "text/plain": [
              "([20, 55, 45, 59], [99, 99])"
            ]
          },
          "metadata": {},
          "execution_count": 9
        }
      ]
    },
    {
      "cell_type": "markdown",
      "source": [
        "\n",
        "## Print the numbers 1 to 10:\n",
        "- Write a function called print_numbers that uses a for loop to print numbers from 1 to 10."
      ],
      "metadata": {
        "id": "19CdTfEasKOW"
      }
    },
    {
      "cell_type": "code",
      "source": [
        "def print_numbers():\n",
        "  for i in range(1-10): #adjust the range as needed\n",
        "    print(i)\n",
        "    print_number(1-10)"
      ],
      "metadata": {
        "id": "eKSf86N5sMEi"
      },
      "execution_count": 13,
      "outputs": []
    },
    {
      "cell_type": "markdown",
      "source": [
        "# Print each letter in your name:\n",
        "\n",
        "Write a function called print_name_letters that takes your name as an input and prints each letter on a new line."
      ],
      "metadata": {
        "id": "fkNFVohCsfSN"
      }
    },
    {
      "cell_type": "code",
      "source": [
        "def print_name_letters(name):\n",
        "    for letter in name:\n",
        "      print(letter)\n",
        "\n",
        "print_name_letters(\"Enko\")\n"
      ],
      "metadata": {
        "colab": {
          "base_uri": "https://localhost:8080/"
        },
        "id": "V2_z-n1vsUTr",
        "outputId": "6ad6471a-58da-4ce8-abd3-9bc19ad4de3a"
      },
      "execution_count": 14,
      "outputs": [
        {
          "output_type": "stream",
          "name": "stdout",
          "text": [
            "E\n",
            "n\n",
            "k\n",
            "o\n"
          ]
        }
      ]
    },
    {
      "cell_type": "markdown",
      "source": [
        "## Determine if a letter is a vowel or consonant:\n",
        "Write a function called check_vowel_consonant that takes a letter as input and prints \"Vowel\" if the letter is a vowel, and \"Consonant\" if the letter is a consonant."
      ],
      "metadata": {
        "id": "nYgxWi6Zuhs1"
      }
    },
    {
      "cell_type": "code",
      "source": [
        "def check_vowel_consonant(letter):\n",
        "# ---- Your code here -------\n",
        "    vowels = \"AEIOUaeiou\"\n",
        "    if letter in vowels:\n",
        "        print(\"Vowel\")\n",
        "    else:\n",
        "        print(\"Consonant\")\n",
        "\n",
        "# Test cases\n",
        "check_vowel_consonant('a')  # Vowel\n",
        "check_vowel_consonant('h')  # Consonant\n",
        "check_vowel_consonant('E')  # Vowel\n",
        "check_vowel_consonant('z')  # Consonant\n"
      ],
      "metadata": {
        "colab": {
          "base_uri": "https://localhost:8080/"
        },
        "id": "wbie5eTbsn9z",
        "outputId": "18a503f3-3ec2-4bc7-cc2b-aefb6573280d"
      },
      "execution_count": 18,
      "outputs": [
        {
          "output_type": "stream",
          "name": "stdout",
          "text": [
            "Vowel\n",
            "Consonant\n",
            "Vowel\n",
            "Consonant\n"
          ]
        }
      ]
    },
    {
      "cell_type": "markdown",
      "source": [
        "# Write a function called count_vowels that takes a word as input and uses a loop to count and print the number of vowels in the word."
      ],
      "metadata": {
        "id": "LR8JGzteu0Uy"
      }
    },
    {
      "cell_type": "code",
      "source": [
        "def count_vowels(word):\n",
        "# ---- Your code here -------\n",
        "count_vowels(\"hello\")\n",
        "count_vowels(\"programming\")"
      ],
      "metadata": {
        "colab": {
          "base_uri": "https://localhost:8080/"
        },
        "id": "4mVdpAGVs0kj",
        "outputId": "9cab2338-88a6-4994-b226-6a170c17370e"
      },
      "execution_count": null,
      "outputs": [
        {
          "output_type": "stream",
          "name": "stdout",
          "text": [
            "Number of vowels in hello is: 2\n",
            "Number of vowels in programming is: 3\n"
          ]
        }
      ]
    },
    {
      "cell_type": "code",
      "source": [
        "def count_vowels(word):\n",
        "    vowels = \"aeiouAEIOU\"\n",
        "    count = 0\n",
        "    for char in word:\n",
        "        if char in vowels:\n",
        "            count += 1\n",
        "\n",
        "    print(f'The number of vowels in the word \"{word}\" is: {count}')\n",
        "\n",
        "count_vowels(\"Hello\")\n",
        "count_vowels(\"Bike\")\n",
        "count_vowels(\"Earth\")"
      ],
      "metadata": {
        "id": "Jo6iVe0_s6mS",
        "colab": {
          "base_uri": "https://localhost:8080/"
        },
        "outputId": "8f287c9e-a56f-4235-a11b-57889ecc5153"
      },
      "execution_count": 21,
      "outputs": [
        {
          "output_type": "stream",
          "name": "stdout",
          "text": [
            "The number of vowels in the word \"Hello\" is: 2\n",
            "The number of vowels in the word \"Bike\" is: 2\n",
            "The number of vowels in the word \"Earth\" is: 2\n"
          ]
        }
      ]
    }
  ]
}