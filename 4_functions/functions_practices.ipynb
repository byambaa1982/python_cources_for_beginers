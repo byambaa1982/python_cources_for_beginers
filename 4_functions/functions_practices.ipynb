{
  "nbformat": 4,
  "nbformat_minor": 0,
  "metadata": {
    "colab": {
      "provenance": [],
      "include_colab_link": true
    },
    "kernelspec": {
      "name": "python3",
      "display_name": "Python 3"
    },
    "language_info": {
      "name": "python"
    }
  },
  "cells": [
    {
      "cell_type": "markdown",
      "metadata": {
        "id": "view-in-github",
        "colab_type": "text"
      },
      "source": [
        "<a href=\"https://colab.research.google.com/github/byambaa1982/python_cources_for_beginers/blob/class_zero_burentugs/4_functions/functions_practices.ipynb\" target=\"_parent\"><img src=\"https://colab.research.google.com/assets/colab-badge.svg\" alt=\"Open In Colab\"/></a>"
      ]
    },
    {
      "cell_type": "code",
      "execution_count": 3,
      "metadata": {
        "id": "yyP9U1SHrv8x"
      },
      "outputs": [],
      "source": [
        "def grader(grade):\n",
        "   if grade <60:\n",
        "     print(f'You got a grade F')\n",
        "   elif grade < 69 and grade > 60:\n",
        "     print(f'You got a grade D')\n",
        "   elif grade < 79 and grade > 70:\n",
        "     print(f'You got a grade C')\n",
        "   elif grade < 89 and grade > 80:\n",
        "     print(f'You got a grade B')\n",
        "   elif grade < 100 and grade > 90:\n",
        "    print(f'You got a grade A')"
      ]
    },
    {
      "cell_type": "code",
      "source": [
        "grader(99)"
      ],
      "metadata": {
        "colab": {
          "base_uri": "https://localhost:8080/"
        },
        "id": "-d4kM0UU3SFl",
        "outputId": "bc0aaa45-ee87-4406-bb44-62f80aba55a1"
      },
      "execution_count": 4,
      "outputs": [
        {
          "output_type": "stream",
          "name": "stdout",
          "text": [
            "You got a grade A\n"
          ]
        }
      ]
    },
    {
      "cell_type": "code",
      "source": [
        "grades = [45, 67, 99, 23, 67, 12, 78, 88]\n",
        "for grade in grades:\n",
        " grader(grade)"
      ],
      "metadata": {
        "colab": {
          "base_uri": "https://localhost:8080/"
        },
        "id": "eSEbYcNk3SA2",
        "outputId": "452881dc-d033-4c9c-ab64-3e77c1f78e76"
      },
      "execution_count": 5,
      "outputs": [
        {
          "output_type": "stream",
          "name": "stdout",
          "text": [
            "You got a grade F\n",
            "You got a grade D\n",
            "You got a grade A\n",
            "You got a grade F\n",
            "You got a grade D\n",
            "You got a grade F\n",
            "You got a grade C\n",
            "You got a grade B\n"
          ]
        }
      ]
    },
    {
      "cell_type": "code",
      "source": [
        "grades = [45, 67, 99, 23, 67, 12, 78, 88]\n",
        "for grade in grades:\n",
        "  print(f'You score is {grade}')\n",
        "  grader(grade)"
      ],
      "metadata": {
        "colab": {
          "base_uri": "https://localhost:8080/"
        },
        "id": "zsepppyQ3Rqk",
        "outputId": "a91cbd7c-cb07-448c-efc1-c2976d67e04d"
      },
      "execution_count": 34,
      "outputs": [
        {
          "output_type": "stream",
          "name": "stdout",
          "text": [
            "You score is 45\n",
            "You got a grade F\n",
            "You score is 67\n",
            "You got a grade D\n",
            "You score is 99\n",
            "You got a grade A\n",
            "You score is 23\n",
            "You got a grade F\n",
            "You score is 67\n",
            "You got a grade D\n",
            "You score is 12\n",
            "You got a grade F\n",
            "You score is 78\n",
            "You got a grade C\n",
            "You score is 88\n",
            "You got a grade B\n"
          ]
        }
      ]
    },
    {
      "cell_type": "code",
      "source": [
        "def grader(grade):\n",
        " bad_grades = []\n",
        " for grade in grades:\n",
        "   print(f'You score is {grade}')\n",
        "   if grades <60:\n",
        "     bad_grades.append(grade)\n",
        " return f'The max grade is 100 in this grading system, if you have less than 60 score'"
      ],
      "metadata": {
        "id": "Ea8plBfF7CWl"
      },
      "execution_count": 38,
      "outputs": []
    },
    {
      "cell_type": "code",
      "source": [
        "grader(55, 60, 87, 98, 87)"
      ],
      "metadata": {
        "id": "uvFeT9k18o-5",
        "outputId": "bd8f764f-8636-420d-cb60-bb59843f139d",
        "colab": {
          "base_uri": "https://localhost:8080/",
          "height": 147
        }
      },
      "execution_count": 39,
      "outputs": [
        {
          "output_type": "error",
          "ename": "TypeError",
          "evalue": "grader() takes 1 positional argument but 5 were given",
          "traceback": [
            "\u001b[0;31m---------------------------------------------------------------------------\u001b[0m",
            "\u001b[0;31mTypeError\u001b[0m                                 Traceback (most recent call last)",
            "\u001b[0;32m<ipython-input-39-5bf6a0097763>\u001b[0m in \u001b[0;36m<cell line: 1>\u001b[0;34m()\u001b[0m\n\u001b[0;32m----> 1\u001b[0;31m \u001b[0mgrader\u001b[0m\u001b[0;34m(\u001b[0m\u001b[0;36m55\u001b[0m\u001b[0;34m,\u001b[0m \u001b[0;36m60\u001b[0m\u001b[0;34m,\u001b[0m \u001b[0;36m87\u001b[0m\u001b[0;34m,\u001b[0m \u001b[0;36m98\u001b[0m\u001b[0;34m,\u001b[0m \u001b[0;36m87\u001b[0m\u001b[0;34m)\u001b[0m\u001b[0;34m\u001b[0m\u001b[0;34m\u001b[0m\u001b[0m\n\u001b[0m",
            "\u001b[0;31mTypeError\u001b[0m: grader() takes 1 positional argument but 5 were given"
          ]
        }
      ]
    },
    {
      "cell_type": "markdown",
      "source": [
        "\n",
        "## Print the numbers 1 to 10:\n",
        "- Write a function called print_numbers that uses a for loop to print numbers from 1 to 10."
      ],
      "metadata": {
        "id": "19CdTfEasKOW"
      }
    },
    {
      "cell_type": "code",
      "source": [
        "def print_numbers(number):\n",
        " for number in print_numbers:\n",
        "  print_numbers(number)"
      ],
      "metadata": {
        "id": "eKSf86N5sMEi"
      },
      "execution_count": 33,
      "outputs": []
    },
    {
      "cell_type": "code",
      "source": [
        "\n"
      ],
      "metadata": {
        "id": "JEJ-IDDt6ych"
      },
      "execution_count": null,
      "outputs": []
    },
    {
      "cell_type": "code",
      "source": [
        "print_numbers"
      ],
      "metadata": {
        "colab": {
          "base_uri": "https://localhost:8080/",
          "height": 238
        },
        "id": "La8ggU1N5_mU",
        "outputId": "644a3ba6-7103-405e-f217-f464a1125d19"
      },
      "execution_count": 32,
      "outputs": [
        {
          "output_type": "error",
          "ename": "TypeError",
          "evalue": "'function' object is not iterable",
          "traceback": [
            "\u001b[0;31m---------------------------------------------------------------------------\u001b[0m",
            "\u001b[0;31mTypeError\u001b[0m                                 Traceback (most recent call last)",
            "\u001b[0;32m<ipython-input-32-59fe32b1c360>\u001b[0m in \u001b[0;36m<cell line: 1>\u001b[0;34m()\u001b[0m\n\u001b[0;32m----> 1\u001b[0;31m \u001b[0mprint_numbers\u001b[0m\u001b[0;34m(\u001b[0m\u001b[0;36m1\u001b[0m\u001b[0;34m)\u001b[0m\u001b[0;34m\u001b[0m\u001b[0;34m\u001b[0m\u001b[0m\n\u001b[0m",
            "\u001b[0;32m<ipython-input-30-47835b090a89>\u001b[0m in \u001b[0;36mprint_numbers\u001b[0;34m(number)\u001b[0m\n\u001b[1;32m      1\u001b[0m \u001b[0;32mdef\u001b[0m \u001b[0mprint_numbers\u001b[0m\u001b[0;34m(\u001b[0m\u001b[0mnumber\u001b[0m\u001b[0;34m)\u001b[0m\u001b[0;34m:\u001b[0m\u001b[0;34m\u001b[0m\u001b[0;34m\u001b[0m\u001b[0m\n\u001b[0;32m----> 2\u001b[0;31m  \u001b[0;32mfor\u001b[0m \u001b[0mnumber\u001b[0m \u001b[0;32min\u001b[0m \u001b[0mprint_numbers\u001b[0m\u001b[0;34m:\u001b[0m\u001b[0;34m\u001b[0m\u001b[0;34m\u001b[0m\u001b[0m\n\u001b[0m\u001b[1;32m      3\u001b[0m   \u001b[0mprint_numbers\u001b[0m\u001b[0;34m(\u001b[0m\u001b[0mnumber\u001b[0m\u001b[0;34m)\u001b[0m\u001b[0;34m\u001b[0m\u001b[0;34m\u001b[0m\u001b[0m\n",
            "\u001b[0;31mTypeError\u001b[0m: 'function' object is not iterable"
          ]
        }
      ]
    },
    {
      "cell_type": "code",
      "source": [],
      "metadata": {
        "colab": {
          "base_uri": "https://localhost:8080/",
          "height": 335
        },
        "id": "gTOzVL1D5j53",
        "outputId": "f487df88-1a0f-453e-a324-841d3f6003a3"
      },
      "execution_count": 18,
      "outputs": [
        {
          "output_type": "error",
          "ename": "RecursionError",
          "evalue": "maximum recursion depth exceeded",
          "traceback": [
            "\u001b[0;31m---------------------------------------------------------------------------\u001b[0m",
            "\u001b[0;31mRecursionError\u001b[0m                            Traceback (most recent call last)",
            "\u001b[0;32m<ipython-input-18-2b93ba6e3308>\u001b[0m in \u001b[0;36m<cell line: 2>\u001b[0;34m()\u001b[0m\n\u001b[1;32m      1\u001b[0m \u001b[0mnumbers\u001b[0m \u001b[0;34m=\u001b[0m \u001b[0;34m[\u001b[0m\u001b[0;36m1\u001b[0m\u001b[0;34m,\u001b[0m \u001b[0;36m5\u001b[0m\u001b[0;34m,\u001b[0m \u001b[0;36m7\u001b[0m\u001b[0;34m,\u001b[0m \u001b[0;36m3\u001b[0m\u001b[0;34m,\u001b[0m \u001b[0;36m10\u001b[0m\u001b[0;34m]\u001b[0m\u001b[0;34m\u001b[0m\u001b[0;34m\u001b[0m\u001b[0m\n\u001b[1;32m      2\u001b[0m \u001b[0;32mfor\u001b[0m \u001b[0mnumber\u001b[0m \u001b[0;32min\u001b[0m \u001b[0mnumbers\u001b[0m\u001b[0;34m:\u001b[0m\u001b[0;34m\u001b[0m\u001b[0;34m\u001b[0m\u001b[0m\n\u001b[0;32m----> 3\u001b[0;31m  \u001b[0mprint_numbers\u001b[0m\u001b[0;34m(\u001b[0m\u001b[0mnumber\u001b[0m\u001b[0;34m)\u001b[0m\u001b[0;34m\u001b[0m\u001b[0;34m\u001b[0m\u001b[0m\n\u001b[0m",
            "\u001b[0;32m<ipython-input-17-d6545b0f9b9d>\u001b[0m in \u001b[0;36mprint_numbers\u001b[0;34m(number)\u001b[0m\n\u001b[1;32m      1\u001b[0m \u001b[0;32mdef\u001b[0m \u001b[0mprint_numbers\u001b[0m\u001b[0;34m(\u001b[0m\u001b[0mnumber\u001b[0m\u001b[0;34m)\u001b[0m\u001b[0;34m:\u001b[0m\u001b[0;34m\u001b[0m\u001b[0;34m\u001b[0m\u001b[0m\n\u001b[1;32m      2\u001b[0m \u001b[0;31m# ---- Your code here -------\u001b[0m\u001b[0;34m\u001b[0m\u001b[0;34m\u001b[0m\u001b[0m\n\u001b[0;32m----> 3\u001b[0;31m    \u001b[0mprint_numbers\u001b[0m\u001b[0;34m(\u001b[0m\u001b[0mnumber\u001b[0m\u001b[0;34m)\u001b[0m\u001b[0;34m\u001b[0m\u001b[0;34m\u001b[0m\u001b[0m\n\u001b[0m",
            "... last 1 frames repeated, from the frame below ...\n",
            "\u001b[0;32m<ipython-input-17-d6545b0f9b9d>\u001b[0m in \u001b[0;36mprint_numbers\u001b[0;34m(number)\u001b[0m\n\u001b[1;32m      1\u001b[0m \u001b[0;32mdef\u001b[0m \u001b[0mprint_numbers\u001b[0m\u001b[0;34m(\u001b[0m\u001b[0mnumber\u001b[0m\u001b[0;34m)\u001b[0m\u001b[0;34m:\u001b[0m\u001b[0;34m\u001b[0m\u001b[0;34m\u001b[0m\u001b[0m\n\u001b[1;32m      2\u001b[0m \u001b[0;31m# ---- Your code here -------\u001b[0m\u001b[0;34m\u001b[0m\u001b[0;34m\u001b[0m\u001b[0m\n\u001b[0;32m----> 3\u001b[0;31m    \u001b[0mprint_numbers\u001b[0m\u001b[0;34m(\u001b[0m\u001b[0mnumber\u001b[0m\u001b[0;34m)\u001b[0m\u001b[0;34m\u001b[0m\u001b[0;34m\u001b[0m\u001b[0m\n\u001b[0m",
            "\u001b[0;31mRecursionError\u001b[0m: maximum recursion depth exceeded"
          ]
        }
      ]
    },
    {
      "cell_type": "markdown",
      "source": [
        "# Print each letter in your name:\n",
        "\n",
        "Write a function called print_name_letters that takes your name as an input and prints each letter on a new line."
      ],
      "metadata": {
        "id": "fkNFVohCsfSN"
      }
    },
    {
      "cell_type": "code",
      "source": [
        "def print_name_letters(name):\n",
        "# complete\n",
        "\n",
        "\n",
        "print_name_letters(\"YourName\")\n"
      ],
      "metadata": {
        "colab": {
          "base_uri": "https://localhost:8080/"
        },
        "id": "V2_z-n1vsUTr",
        "outputId": "6422f31e-7f4d-4134-d74c-f984169db9e4"
      },
      "execution_count": null,
      "outputs": [
        {
          "output_type": "stream",
          "name": "stdout",
          "text": [
            "Y\n",
            "o\n",
            "u\n",
            "r\n",
            "N\n",
            "a\n",
            "m\n",
            "e\n"
          ]
        }
      ]
    },
    {
      "cell_type": "markdown",
      "source": [
        "## Determine if a letter is a vowel or consonant:\n",
        "Write a function called check_vowel_consonant that takes a letter as input and prints \"Vowel\" if the letter is a vowel, and \"Consonant\" if the letter is a consonant."
      ],
      "metadata": {
        "id": "nYgxWi6Zuhs1"
      }
    },
    {
      "cell_type": "code",
      "source": [
        "def check_vowel_consonant(letter):\n",
        "# ---- Your code here -------\n",
        "\n",
        "check_vowel_consonant('a')\n",
        "check_vowel_consonant('b')"
      ],
      "metadata": {
        "colab": {
          "base_uri": "https://localhost:8080/"
        },
        "id": "wbie5eTbsn9z",
        "outputId": "61484420-28cd-4ade-ad85-773a6092a5a0"
      },
      "execution_count": null,
      "outputs": [
        {
          "output_type": "stream",
          "name": "stdout",
          "text": [
            "Vowel\n",
            "Consonant\n"
          ]
        }
      ]
    },
    {
      "cell_type": "markdown",
      "source": [
        "# Write a function called count_vowels that takes a word as input and uses a loop to count and print the number of vowels in the word."
      ],
      "metadata": {
        "id": "LR8JGzteu0Uy"
      }
    },
    {
      "cell_type": "code",
      "source": [
        "def count_vowels(word):\n",
        "# ---- Your code here -------\n",
        "count_vowels(\"hello\")\n",
        "count_vowels(\"programming\")"
      ],
      "metadata": {
        "colab": {
          "base_uri": "https://localhost:8080/"
        },
        "id": "4mVdpAGVs0kj",
        "outputId": "9cab2338-88a6-4994-b226-6a170c17370e"
      },
      "execution_count": null,
      "outputs": [
        {
          "output_type": "stream",
          "name": "stdout",
          "text": [
            "Number of vowels in hello is: 2\n",
            "Number of vowels in programming is: 3\n"
          ]
        }
      ]
    },
    {
      "cell_type": "code",
      "source": [],
      "metadata": {
        "id": "Jo6iVe0_s6mS"
      },
      "execution_count": null,
      "outputs": []
    }
  ]
}