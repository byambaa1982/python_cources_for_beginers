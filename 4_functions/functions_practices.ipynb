{
  "nbformat": 4,
  "nbformat_minor": 0,
  "metadata": {
    "colab": {
      "provenance": [],
      "include_colab_link": true
    },
    "kernelspec": {
      "name": "python3",
      "display_name": "Python 3"
    },
    "language_info": {
      "name": "python"
    }
  },
  "cells": [
    {
      "cell_type": "markdown",
      "metadata": {
        "id": "view-in-github",
        "colab_type": "text"
      },
      "source": [
        "<a href=\"https://colab.research.google.com/github/byambaa1982/python_cources_for_beginers/blob/class_zero_urangoo/4_functions/functions_practices.ipynb\" target=\"_parent\"><img src=\"https://colab.research.google.com/assets/colab-badge.svg\" alt=\"Open In Colab\"/></a>"
      ]
    },
    {
      "cell_type": "code",
      "source": [
        "def grader(grade):\n",
        "  if grade <60:\n",
        "    print(f'You got a grade F')\n",
        "  elif grade <69 and grade > 60:\n",
        "    print(f'You got a grade D')\n",
        "  elif grade < 79 and grade > 70:\n",
        "    print(f'You got a grade c')\n",
        "  elif grade < 89 and grade > 80:\n",
        "    print(f'You got a grade b')\n",
        "  elif grade < 100 and grade > 90:\n",
        "    print(f'You got a grade A')"
      ],
      "metadata": {
        "id": "o-Pfx2i3xcvY"
      },
      "execution_count": 32,
      "outputs": []
    },
    {
      "cell_type": "code",
      "source": [
        "grader(92)"
      ],
      "metadata": {
        "id": "kozZmpNdxEuA",
        "outputId": "61b4162f-c187-4f8e-d8ec-c46bd4b8a992",
        "colab": {
          "base_uri": "https://localhost:8080/"
        }
      },
      "execution_count": 33,
      "outputs": [
        {
          "output_type": "stream",
          "name": "stdout",
          "text": [
            "You got a grade A\n"
          ]
        }
      ]
    },
    {
      "cell_type": "code",
      "source": [
        "grades = [20, 55, 99, 80, 99]\n",
        "for grade in grades:\n",
        "  grader(grade)\n",
        ""
      ],
      "metadata": {
        "colab": {
          "base_uri": "https://localhost:8080/"
        },
        "id": "WxR8BdaM2upy",
        "outputId": "77a53311-5153-4048-e101-573ca375cbbf"
      },
      "execution_count": 35,
      "outputs": [
        {
          "output_type": "stream",
          "name": "stdout",
          "text": [
            "You got a grade F\n",
            "You got a grade F\n",
            "You got a grade A\n",
            "You got a grade A\n"
          ]
        }
      ]
    },
    {
      "cell_type": "code",
      "source": [
        "def grader(grader):\n",
        "  my_list = any_text.split(\" \")\n",
        "  total_words = len(my_list)\n",
        "  bad grade = []\n",
        "  good grade = []\n",
        "  for grade in my_list:\n",
        "\n"
      ],
      "metadata": {
        "colab": {
          "base_uri": "https://localhost:8080/",
          "height": 105
        },
        "id": "_cVEggKB7Y8W",
        "outputId": "4af24d4a-6605-4b3b-8179-a4531b3ad35b"
      },
      "execution_count": 1,
      "outputs": [
        {
          "output_type": "error",
          "ename": "SyntaxError",
          "evalue": "invalid syntax (<ipython-input-1-d2c44b674a91>, line 4)",
          "traceback": [
            "\u001b[0;36m  File \u001b[0;32m\"<ipython-input-1-d2c44b674a91>\"\u001b[0;36m, line \u001b[0;32m4\u001b[0m\n\u001b[0;31m    bad grade = []\u001b[0m\n\u001b[0m        ^\u001b[0m\n\u001b[0;31mSyntaxError\u001b[0m\u001b[0;31m:\u001b[0m invalid syntax\n"
          ]
        }
      ]
    },
    {
      "cell_type": "markdown",
      "source": [
        "\n",
        "## Print the numbers 1 to 10:\n",
        "- Write a function called print_numbers that uses a for loop to print numbers from 1 to 10."
      ],
      "metadata": {
        "id": "19CdTfEasKOW"
      }
    },
    {
      "cell_type": "code",
      "source": [
        "def print_numbers():\n",
        "  for i in range(10): #adjust the range as needed\n",
        "    print(i)\n",
        "    print_number()"
      ],
      "metadata": {
        "id": "eKSf86N5sMEi"
      },
      "execution_count": 10,
      "outputs": []
    },
    {
      "cell_type": "markdown",
      "source": [
        "# Print each letter in your name:\n",
        "\n",
        "Write a function called print_name_letters that takes your name as an input and prints each letter on a new line."
      ],
      "metadata": {
        "id": "fkNFVohCsfSN"
      }
    },
    {
      "cell_type": "code",
      "source": [
        "def print_name_letters(name):\n",
        "    for letter in name:\n",
        "        print(letter)\n",
        "\n",
        "# Example usage\n",
        "name = \"Urangoo\"\n",
        "print_name_letters(name)\n"
      ],
      "metadata": {
        "colab": {
          "base_uri": "https://localhost:8080/"
        },
        "id": "V2_z-n1vsUTr",
        "outputId": "dcbb2c77-8dae-4c84-b0e8-dd3da570235b"
      },
      "execution_count": 11,
      "outputs": [
        {
          "output_type": "stream",
          "name": "stdout",
          "text": [
            "U\n",
            "r\n",
            "a\n",
            "n\n",
            "g\n",
            "o\n",
            "o\n"
          ]
        }
      ]
    },
    {
      "cell_type": "markdown",
      "source": [
        "## Determine if a letter is a vowel or consonant:\n",
        "Write a function called check_vowel_consonant that takes a letter as input and prints \"Vowel\" if the letter is a vowel, and \"Consonant\" if the letter is a consonant."
      ],
      "metadata": {
        "id": "nYgxWi6Zuhs1"
      }
    },
    {
      "cell_type": "code",
      "source": [
        "def check_vowel_consonant(letter):\n",
        "# ---- Your code here -------\n",
        "\n",
        "check_vowel_consonant('a')\n",
        "check_vowel_consonant('b')"
      ],
      "metadata": {
        "colab": {
          "base_uri": "https://localhost:8080/"
        },
        "id": "wbie5eTbsn9z",
        "outputId": "61484420-28cd-4ade-ad85-773a6092a5a0"
      },
      "execution_count": null,
      "outputs": [
        {
          "output_type": "stream",
          "name": "stdout",
          "text": [
            "Vowel\n",
            "Consonant\n"
          ]
        }
      ]
    },
    {
      "cell_type": "code",
      "source": [
        "def check_vowel_consonant(letter):\n",
        "    vowels = \"AEIOUaeiou\"\n",
        "    if letter in vowels:\n",
        "        print(\"Vowel\")\n",
        "    else:\n",
        "        print(\"Consonant\")\n",
        "\n",
        "# Test cases\n",
        "check_vowel_consonant('a')  # Vowel\n",
        "check_vowel_consonant('b')  # Consonant\n",
        "check_vowel_consonant('E')  # Vowel\n",
        "check_vowel_consonant('z')  # Consonant\n"
      ],
      "metadata": {
        "id": "T0p9BIwkBlu3",
        "outputId": "8a2937ea-55c8-4059-e68f-edaf291caac6",
        "colab": {
          "base_uri": "https://localhost:8080/"
        }
      },
      "execution_count": 13,
      "outputs": [
        {
          "output_type": "stream",
          "name": "stdout",
          "text": [
            "Vowel\n",
            "Consonant\n",
            "Vowel\n",
            "Consonant\n"
          ]
        }
      ]
    },
    {
      "cell_type": "markdown",
      "source": [
        "# Write a function called count_vowels that takes a word as input and uses a loop to count and print the number of vowels in the word."
      ],
      "metadata": {
        "id": "LR8JGzteu0Uy"
      }
    },
    {
      "cell_type": "code",
      "source": [
        "def count_vowels(word):\n",
        "# ---- Your code here -------\n",
        "count_vowels(\"hello\")\n",
        "count_vowels(\"programming\")"
      ],
      "metadata": {
        "colab": {
          "base_uri": "https://localhost:8080/"
        },
        "id": "4mVdpAGVs0kj",
        "outputId": "9cab2338-88a6-4994-b226-6a170c17370e"
      },
      "execution_count": null,
      "outputs": [
        {
          "output_type": "stream",
          "name": "stdout",
          "text": [
            "Number of vowels in hello is: 2\n",
            "Number of vowels in programming is: 3\n"
          ]
        }
      ]
    },
    {
      "cell_type": "code",
      "source": [
        "def count_vowels(word):\n",
        "    vowels = \"aeiouAEIOU\"\n",
        "    count = 0\n",
        "    for char in word:\n",
        "        if char in vowels:\n",
        "            count += 1\n",
        "\n",
        "    print(f'The number of vowels in the word \"{word}\" is: {count}')\n",
        "\n",
        "# Test the function\n",
        "count_vowels(\"Hello\")\n",
        "count_vowels(\"Python\")\n",
        "count_vowels(\"World\")\n",
        "\n"
      ],
      "metadata": {
        "id": "Jo6iVe0_s6mS",
        "colab": {
          "base_uri": "https://localhost:8080/"
        },
        "outputId": "b1220ce2-152d-4fc6-c4cd-a8e2d1e259cb"
      },
      "execution_count": 14,
      "outputs": [
        {
          "output_type": "stream",
          "name": "stdout",
          "text": [
            "The number of vowels in the word \"Hello\" is: 2\n",
            "The number of vowels in the word \"Python\" is: 1\n",
            "The number of vowels in the word \"World\" is: 1\n"
          ]
        }
      ]
    }
  ]
}