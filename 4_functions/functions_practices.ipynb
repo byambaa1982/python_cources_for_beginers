{
  "nbformat": 4,
  "nbformat_minor": 0,
  "metadata": {
    "colab": {
      "provenance": [],
      "include_colab_link": true
    },
    "kernelspec": {
      "name": "python3",
      "display_name": "Python 3"
    },
    "language_info": {
      "name": "python"
    }
  },
  "cells": [
    {
      "cell_type": "markdown",
      "metadata": {
        "id": "view-in-github",
        "colab_type": "text"
      },
      "source": [
        "<a href=\"https://colab.research.google.com/github/byambaa1982/python_cources_for_beginers/blob/class_zero_burentugs/4_functions/functions_practices.ipynb\" target=\"_parent\"><img src=\"https://colab.research.google.com/assets/colab-badge.svg\" alt=\"Open In Colab\"/></a>"
      ]
    },
    {
      "cell_type": "code",
      "source": [
        "def grader(grade):\n",
        "  if grade < 60:\n",
        "    print(f'You got a grade F')\n",
        "  elif grade >= 60 and grade < 70:\n",
        "    print(f'You got a grade D')\n",
        "  elif grade >= 70 and grade < 80:\n",
        "    print(f'You got a grade C')\n",
        "  elif grade >= 80 and grade < 90:\n",
        "    print(f'You got a grade B')\n",
        "  else:\n",
        "    print(f'You got A')"
      ],
      "metadata": {
        "id": "o-Pfx2i3xcvY"
      },
      "execution_count": 1,
      "outputs": []
    },
    {
      "cell_type": "code",
      "source": [
        "grader(92)"
      ],
      "metadata": {
        "id": "kozZmpNdxEuA",
        "outputId": "d17f9560-9538-4c18-c7e1-7f4f2e6d9894",
        "colab": {
          "base_uri": "https://localhost:8080/"
        }
      },
      "execution_count": 2,
      "outputs": [
        {
          "output_type": "stream",
          "name": "stdout",
          "text": [
            "You got A\n"
          ]
        }
      ]
    },
    {
      "cell_type": "code",
      "source": [
        "\n",
        "grades = [20, 55, 99, 80, 99, 60, 70, 80]\n",
        "for grade in grades:\n",
        "  print(f\"Your score is {grade}\")\n",
        "  grader(grade)\n",
        "\n"
      ],
      "metadata": {
        "id": "WdUKb1cG5IaR",
        "outputId": "01a42c91-e179-4731-b34e-4930618ca7a6",
        "colab": {
          "base_uri": "https://localhost:8080/"
        }
      },
      "execution_count": 3,
      "outputs": [
        {
          "output_type": "stream",
          "name": "stdout",
          "text": [
            "Your score is 20\n",
            "You got a grade F\n",
            "Your score is 55\n",
            "You got a grade F\n",
            "Your score is 99\n",
            "You got A\n",
            "Your score is 80\n",
            "You got a grade B\n",
            "Your score is 99\n",
            "You got A\n",
            "Your score is 60\n",
            "You got a grade D\n",
            "Your score is 70\n",
            "You got a grade C\n",
            "Your score is 80\n",
            "You got a grade B\n"
          ]
        }
      ]
    },
    {
      "cell_type": "code",
      "source": [
        "bad_grades = []\n",
        "grades = [20, 55, 99, 80, 99, 60, 70, 80, 45, 59]\n",
        "for grade in grades:\n",
        "  if grade < 60:\n",
        "    bad_grades.append(grade)\n",
        "  print(f\"Your score is {grade}\")\n",
        "  grader(grade)"
      ],
      "metadata": {
        "id": "vRRE-R786C_I",
        "outputId": "26778e51-5204-4493-c7f7-f2e1dfbe8f42",
        "colab": {
          "base_uri": "https://localhost:8080/"
        }
      },
      "execution_count": 4,
      "outputs": [
        {
          "output_type": "stream",
          "name": "stdout",
          "text": [
            "Your score is 20\n",
            "You got a grade F\n",
            "Your score is 55\n",
            "You got a grade F\n",
            "Your score is 99\n",
            "You got A\n",
            "Your score is 80\n",
            "You got a grade B\n",
            "Your score is 99\n",
            "You got A\n",
            "Your score is 60\n",
            "You got a grade D\n",
            "Your score is 70\n",
            "You got a grade C\n",
            "Your score is 80\n",
            "You got a grade B\n",
            "Your score is 45\n",
            "You got a grade F\n",
            "Your score is 59\n",
            "You got a grade F\n"
          ]
        }
      ]
    },
    {
      "cell_type": "code",
      "source": [
        "print(bad_grades)"
      ],
      "metadata": {
        "id": "3fIrtRoI61Wh",
        "outputId": "1aca3e32-a7d8-4d9d-f7f4-6d0823421a3d",
        "colab": {
          "base_uri": "https://localhost:8080/"
        }
      },
      "execution_count": 5,
      "outputs": [
        {
          "output_type": "stream",
          "name": "stdout",
          "text": [
            "[20, 55, 45, 59]\n"
          ]
        }
      ]
    },
    {
      "cell_type": "code",
      "source": [
        "def grader(grades):\n",
        "  bad_brades = []\n",
        "  good_grades = []\n",
        "  for grade in grades:\n",
        "    if grade < 60:\n",
        "      bad_brades.append(grade)\n",
        "      print(f'You got a grade F')\n",
        "    elif grade >= 60 and grade < 70:\n",
        "      print(f'You got a grade D')\n",
        "    elif grade >= 70 and grade < 80:\n",
        "      print(f'You got a grade C')\n",
        "    elif grade >= 80 and grade < 90:\n",
        "      print(f'You got a grade B')\n",
        "    else:\n",
        "      good_grades.append(grade)\n",
        "      print(f'You got A')\n",
        "  return bad_grades, good_grades"
      ],
      "metadata": {
        "id": "zp_NOyKt9mmZ"
      },
      "execution_count": 6,
      "outputs": []
    },
    {
      "cell_type": "code",
      "source": [
        "grader(grades)"
      ],
      "metadata": {
        "id": "nL2KG2ca9oRN",
        "outputId": "3d8bf5a6-3c1b-41bf-f309-4255860f3524",
        "colab": {
          "base_uri": "https://localhost:8080/"
        }
      },
      "execution_count": 7,
      "outputs": [
        {
          "output_type": "stream",
          "name": "stdout",
          "text": [
            "You got a grade F\n",
            "You got a grade F\n",
            "You got A\n",
            "You got a grade B\n",
            "You got A\n",
            "You got a grade D\n",
            "You got a grade C\n",
            "You got a grade B\n",
            "You got a grade F\n",
            "You got a grade F\n"
          ]
        },
        {
          "output_type": "execute_result",
          "data": {
            "text/plain": [
              "([20, 55, 45, 59], [99, 99])"
            ]
          },
          "metadata": {},
          "execution_count": 7
        }
      ]
    },
    {
      "cell_type": "markdown",
      "source": [
        "\n",
        "## Print the numbers 1 to 10:\n",
        "- Write a function called print_numbers that uses a for loop to print numbers from 1 to 10."
      ],
      "metadata": {
        "id": "19CdTfEasKOW"
      }
    },
    {
      "cell_type": "code",
      "source": [
        "def print_numbers():\n",
        "  for i in range(20):\n",
        "    print(i)"
      ],
      "metadata": {
        "id": "6CAHZKgbr42r"
      },
      "execution_count": 13,
      "outputs": []
    },
    {
      "cell_type": "code",
      "source": [
        "print_numbers()"
      ],
      "metadata": {
        "colab": {
          "base_uri": "https://localhost:8080/"
        },
        "id": "eKSf86N5sMEi",
        "outputId": "d4343d21-7d18-4e07-dc49-9d6ea901e517"
      },
      "execution_count": 14,
      "outputs": [
        {
          "output_type": "stream",
          "name": "stdout",
          "text": [
            "0\n",
            "1\n",
            "2\n",
            "3\n",
            "4\n",
            "5\n",
            "6\n",
            "7\n",
            "8\n",
            "9\n",
            "10\n",
            "11\n",
            "12\n",
            "13\n",
            "14\n",
            "15\n",
            "16\n",
            "17\n",
            "18\n",
            "19\n"
          ]
        }
      ]
    },
    {
      "cell_type": "markdown",
      "source": [
        "# Print each letter in your name:\n",
        "\n",
        "Write a function called print_name_letters that takes your name as an input and prints each letter on a new line."
      ],
      "metadata": {
        "id": "fkNFVohCsfSN"
      }
    },
    {
      "cell_type": "code",
      "source": [
        "def print_name_letters(name):\n",
        "  for i in name:\n",
        "    print(i)\n",
        "\n",
        "\n"
      ],
      "metadata": {
        "id": "V2_z-n1vsUTr"
      },
      "execution_count": 20,
      "outputs": []
    },
    {
      "cell_type": "code",
      "source": [
        "print_name_letters(\"Burentugs\")"
      ],
      "metadata": {
        "id": "U0kAKY4wxtKM",
        "outputId": "f302b2e9-283c-42a6-c8bc-490fec9ef84b",
        "colab": {
          "base_uri": "https://localhost:8080/"
        }
      },
      "execution_count": 21,
      "outputs": [
        {
          "output_type": "stream",
          "name": "stdout",
          "text": [
            "B\n",
            "u\n",
            "r\n",
            "e\n",
            "n\n",
            "t\n",
            "u\n",
            "g\n",
            "s\n"
          ]
        }
      ]
    },
    {
      "cell_type": "markdown",
      "source": [
        "## Determine if a letter is a vowel or consonant:\n",
        "Write a function called check_vowel_consonant that takes a letter as input and prints \"Vowel\" if the letter is a vowel, and \"Consonant\" if the letter is a consonant."
      ],
      "metadata": {
        "id": "nYgxWi6Zuhs1"
      }
    },
    {
      "cell_type": "code",
      "source": [
        "def check_vowel_consonant(letter):\n",
        "# ---- Your code here -------\n",
        "  vowel = \"aeiouy\"\n",
        "  if letter in vowel:\n",
        "     print(\"Vowel\")\n",
        "  else:\n",
        "    print(\"Consonant\")\n",
        "\n",
        "check_vowel_consonant('a')\n",
        "check_vowel_consonant('b')"
      ],
      "metadata": {
        "colab": {
          "base_uri": "https://localhost:8080/"
        },
        "id": "wbie5eTbsn9z",
        "outputId": "2634211e-4ffe-420c-b484-77a68aeb74df"
      },
      "execution_count": null,
      "outputs": [
        {
          "output_type": "stream",
          "name": "stdout",
          "text": [
            "Vowel\n",
            "Consonant\n"
          ]
        }
      ]
    },
    {
      "cell_type": "code",
      "source": [
        "def check_vowel_consonant(letter):\n",
        " vowel = \"aeiou\"\n",
        " if letter in vowel:\n",
        "    print(\"This letter is a vowel\")\n",
        " else:\n",
        "    print(\"this letter is a consonant\")\n"
      ],
      "metadata": {
        "id": "gRoh3eGEyAdl"
      },
      "execution_count": 31,
      "outputs": []
    },
    {
      "cell_type": "code",
      "source": [
        "check_vowel_consonant(\"a\")\n",
        "check_vowel_consonant(\"y\")\n",
        "check_vowel_consonant(\"o\")"
      ],
      "metadata": {
        "id": "pe5IhPOfx8Np",
        "outputId": "215bb6d7-2b7c-4151-d2e6-46a1e49f09cd",
        "colab": {
          "base_uri": "https://localhost:8080/"
        }
      },
      "execution_count": 33,
      "outputs": [
        {
          "output_type": "stream",
          "name": "stdout",
          "text": [
            "This letter is a vowel\n",
            "this letter is a consonant\n",
            "This letter is a vowel\n"
          ]
        }
      ]
    },
    {
      "cell_type": "markdown",
      "source": [
        "# Write a function called count_vowels that takes a word as input and uses a loop to count and print the number of vowels in the word."
      ],
      "metadata": {
        "id": "LR8JGzteu0Uy"
      }
    },
    {
      "cell_type": "code",
      "source": [
        "def count_vowels(word):\n",
        "# ---- Your code here -------\n",
        "count_vowels(\"hello\")\n",
        "count_vowels(\"programming\")"
      ],
      "metadata": {
        "colab": {
          "base_uri": "https://localhost:8080/"
        },
        "id": "4mVdpAGVs0kj",
        "outputId": "9cab2338-88a6-4994-b226-6a170c17370e"
      },
      "execution_count": null,
      "outputs": [
        {
          "output_type": "stream",
          "name": "stdout",
          "text": [
            "Number of vowels in hello is: 2\n",
            "Number of vowels in programming is: 3\n"
          ]
        }
      ]
    },
    {
      "cell_type": "code",
      "source": [
        "def count_vowels(word):\n",
        "    vowels = \"aeiou\"\n",
        "    count = 0\n",
        "    for char in word:\n",
        "        if char in vowels:\n",
        "            count += 1\n",
        "    print(f\"The word '{word}' has {count} vowels.\")"
      ],
      "metadata": {
        "id": "Jo6iVe0_s6mS"
      },
      "execution_count": 41,
      "outputs": []
    },
    {
      "cell_type": "code",
      "source": [
        "count_vowels(\"computer\")\n",
        "count_vowels(\"Wisconsin\")"
      ],
      "metadata": {
        "id": "GpRbp58i2T1C",
        "outputId": "1b959726-f56d-4095-8131-4b464b2eaf0a",
        "colab": {
          "base_uri": "https://localhost:8080/"
        }
      },
      "execution_count": 43,
      "outputs": [
        {
          "output_type": "stream",
          "name": "stdout",
          "text": [
            "The word 'computer' has 3 vowels.\n",
            "The word 'Wisconsin' has 3 vowels.\n"
          ]
        }
      ]
    }
  ]
}