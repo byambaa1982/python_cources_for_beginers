{
  "nbformat": 4,
  "nbformat_minor": 0,
  "metadata": {
    "colab": {
      "provenance": [],
      "authorship_tag": "ABX9TyPOJ5zA3Q7yjuNGOa7qRFo1",
      "include_colab_link": true
    },
    "kernelspec": {
      "name": "python3",
      "display_name": "Python 3"
    },
    "language_info": {
      "name": "python"
    }
  },
  "cells": [
    {
      "cell_type": "markdown",
      "metadata": {
        "id": "view-in-github",
        "colab_type": "text"
      },
      "source": [
        "<a href=\"https://colab.research.google.com/github/byambaa1982/python_cources_for_beginers/blob/homework_branch/4_functions/functions_practices.ipynb\" target=\"_parent\"><img src=\"https://colab.research.google.com/assets/colab-badge.svg\" alt=\"Open In Colab\"/></a>"
      ]
    },
    {
      "cell_type": "code",
      "source": [
        "def grader(grade):\n",
        "  if grade < 60:\n",
        "    print(f'You got a grade F')\n",
        "  elif grade >= 60 and grade < 70:\n",
        "    print(f'You got a grade D')\n",
        "  elif grade >= 70 and grade < 80:\n",
        "    print(f'You got a grade C')\n",
        "  elif grade >= 80 and grade < 90:\n",
        "    print(f'You got a grade B')\n",
        "  else:\n",
        "    print(f'You got A')"
      ],
      "metadata": {
        "id": "o-Pfx2i3xcvY"
      },
      "execution_count": 24,
      "outputs": []
    },
    {
      "cell_type": "code",
      "source": [
        "grader(92)"
      ],
      "metadata": {
        "id": "kozZmpNdxEuA",
        "outputId": "84efab59-57a6-4e0f-ada9-0afc4ac460a8",
        "colab": {
          "base_uri": "https://localhost:8080/"
        }
      },
      "execution_count": 25,
      "outputs": [
        {
          "output_type": "stream",
          "name": "stdout",
          "text": [
            "You got A\n"
          ]
        }
      ]
    },
    {
      "cell_type": "code",
      "source": [
        "\n",
        "grades = [20, 55, 99, 80, 99, 60, 70, 80]\n",
        "for grade in grades:\n",
        "  print(f\"Your score is {grade}\")\n",
        "  grader(grade)\n",
        "\n"
      ],
      "metadata": {
        "id": "WdUKb1cG5IaR",
        "outputId": "23470d28-6e7f-40f8-9afd-768c8a031879",
        "colab": {
          "base_uri": "https://localhost:8080/"
        }
      },
      "execution_count": 26,
      "outputs": [
        {
          "output_type": "stream",
          "name": "stdout",
          "text": [
            "Your score is 20\n",
            "You got a grade F\n",
            "Your score is 55\n",
            "You got a grade F\n",
            "Your score is 99\n",
            "You got A\n",
            "Your score is 80\n",
            "You got a grade B\n",
            "Your score is 99\n",
            "You got A\n",
            "Your score is 60\n",
            "You got a grade D\n",
            "Your score is 70\n",
            "You got a grade C\n",
            "Your score is 80\n",
            "You got a grade B\n"
          ]
        }
      ]
    },
    {
      "cell_type": "code",
      "source": [
        "bad_grades = []\n",
        "grades = [20, 55, 99, 80, 99, 60, 70, 80, 45, 59]\n",
        "for grade in grades:\n",
        "  if grade < 60:\n",
        "    bad_grades.append(grade)\n",
        "  print(f\"Your score is {grade}\")\n",
        "  grader(grade)"
      ],
      "metadata": {
        "id": "vRRE-R786C_I",
        "outputId": "35264e0a-1086-4e2c-b4f5-ddb74a9ae257",
        "colab": {
          "base_uri": "https://localhost:8080/"
        }
      },
      "execution_count": 32,
      "outputs": [
        {
          "output_type": "stream",
          "name": "stdout",
          "text": [
            "Your score is 20\n",
            "You got a grade F\n",
            "Your score is 55\n",
            "You got a grade F\n",
            "Your score is 99\n",
            "You got A\n",
            "Your score is 80\n",
            "You got a grade B\n",
            "Your score is 99\n",
            "You got A\n",
            "Your score is 60\n",
            "You got a grade D\n",
            "Your score is 70\n",
            "You got a grade C\n",
            "Your score is 80\n",
            "You got a grade B\n",
            "Your score is 45\n",
            "You got a grade F\n",
            "Your score is 59\n",
            "You got a grade F\n"
          ]
        }
      ]
    },
    {
      "cell_type": "code",
      "source": [
        "print(bad_grades)"
      ],
      "metadata": {
        "id": "3fIrtRoI61Wh",
        "outputId": "3518fa8c-7cb3-4f32-a12b-431ee9c69210",
        "colab": {
          "base_uri": "https://localhost:8080/"
        }
      },
      "execution_count": 33,
      "outputs": [
        {
          "output_type": "stream",
          "name": "stdout",
          "text": [
            "[20, 55, 45, 59]\n"
          ]
        }
      ]
    },
    {
      "cell_type": "code",
      "source": [
        "def grader(grades):\n",
        "  bad_brades = []\n",
        "  good_grades = []\n",
        "  for grade in grades:\n",
        "    if grade < 60:\n",
        "      bad_brades.append(grade)\n",
        "      print(f'You got a grade F')\n",
        "    elif grade >= 60 and grade < 70:\n",
        "      print(f'You got a grade D')\n",
        "    elif grade >= 70 and grade < 80:\n",
        "      print(f'You got a grade C')\n",
        "    elif grade >= 80 and grade < 90:\n",
        "      print(f'You got a grade B')\n",
        "    else:\n",
        "      good_grades.append(grade)\n",
        "      print(f'You got A')\n",
        "  return bad_grades, good_grades"
      ],
      "metadata": {
        "id": "zp_NOyKt9mmZ"
      },
      "execution_count": 39,
      "outputs": []
    },
    {
      "cell_type": "code",
      "source": [
        "grader(grades)"
      ],
      "metadata": {
        "id": "nL2KG2ca9oRN",
        "outputId": "5678cf55-6f71-4d4a-aecf-9c6b77cbab18",
        "colab": {
          "base_uri": "https://localhost:8080/"
        }
      },
      "execution_count": 41,
      "outputs": [
        {
          "output_type": "stream",
          "name": "stdout",
          "text": [
            "You got a grade F\n",
            "You got a grade F\n",
            "You got A\n",
            "You got a grade B\n",
            "You got A\n",
            "You got a grade D\n",
            "You got a grade C\n",
            "You got a grade B\n",
            "You got a grade F\n",
            "You got a grade F\n"
          ]
        },
        {
          "output_type": "execute_result",
          "data": {
            "text/plain": [
              "([20, 55, 45, 59], [99, 99])"
            ]
          },
          "metadata": {},
          "execution_count": 41
        }
      ]
    },
    {
      "cell_type": "markdown",
      "source": [
        "\n",
        "## Print the numbers 1 to 10:\n",
        "- Write a function called print_numbers that uses a for loop to print numbers from 1 to 10."
      ],
      "metadata": {
        "id": "19CdTfEasKOW"
      }
    },
    {
      "cell_type": "code",
      "source": [
        "def print_numbers():\n",
        "# ---- Your code here -------\n",
        "\n",
        "print_numbers()"
      ],
      "metadata": {
        "colab": {
          "base_uri": "https://localhost:8080/"
        },
        "id": "eKSf86N5sMEi",
        "outputId": "771c4cf7-4175-400a-f1e4-1073c3c584ee"
      },
      "execution_count": null,
      "outputs": [
        {
          "output_type": "stream",
          "name": "stdout",
          "text": [
            "1\n",
            "2\n",
            "3\n",
            "4\n",
            "5\n",
            "6\n",
            "7\n",
            "8\n",
            "9\n",
            "10\n"
          ]
        }
      ]
    },
    {
      "cell_type": "markdown",
      "source": [
        "# Print each letter in your name:\n",
        "\n",
        "Write a function called print_name_letters that takes your name as an input and prints each letter on a new line."
      ],
      "metadata": {
        "id": "fkNFVohCsfSN"
      }
    },
    {
      "cell_type": "code",
      "source": [
        "def print_name_letters(name):\n",
        "# complete\n",
        "\n",
        "print_name_letters(\"YourName\")\n"
      ],
      "metadata": {
        "colab": {
          "base_uri": "https://localhost:8080/"
        },
        "id": "V2_z-n1vsUTr",
        "outputId": "6422f31e-7f4d-4134-d74c-f984169db9e4"
      },
      "execution_count": null,
      "outputs": [
        {
          "output_type": "stream",
          "name": "stdout",
          "text": [
            "Y\n",
            "o\n",
            "u\n",
            "r\n",
            "N\n",
            "a\n",
            "m\n",
            "e\n"
          ]
        }
      ]
    },
    {
      "cell_type": "markdown",
      "source": [
        "## Determine if a letter is a vowel or consonant:\n",
        "Write a function called check_vowel_consonant that takes a letter as input and prints \"Vowel\" if the letter is a vowel, and \"Consonant\" if the letter is a consonant."
      ],
      "metadata": {
        "id": "nYgxWi6Zuhs1"
      }
    },
    {
      "cell_type": "code",
      "source": [
        "def check_vowel_consonant(letter):\n",
        "# ---- Your code here -------\n",
        "\n",
        "check_vowel_consonant('a')\n",
        "check_vowel_consonant('b')"
      ],
      "metadata": {
        "colab": {
          "base_uri": "https://localhost:8080/"
        },
        "id": "wbie5eTbsn9z",
        "outputId": "61484420-28cd-4ade-ad85-773a6092a5a0"
      },
      "execution_count": null,
      "outputs": [
        {
          "output_type": "stream",
          "name": "stdout",
          "text": [
            "Vowel\n",
            "Consonant\n"
          ]
        }
      ]
    },
    {
      "cell_type": "markdown",
      "source": [
        "# Write a function called count_vowels that takes a word as input and uses a loop to count and print the number of vowels in the word."
      ],
      "metadata": {
        "id": "LR8JGzteu0Uy"
      }
    },
    {
      "cell_type": "code",
      "source": [
        "def count_vowels(word):\n",
        "# ---- Your code here -------\n",
        "count_vowels(\"hello\")\n",
        "count_vowels(\"programming\")"
      ],
      "metadata": {
        "colab": {
          "base_uri": "https://localhost:8080/"
        },
        "id": "4mVdpAGVs0kj",
        "outputId": "9cab2338-88a6-4994-b226-6a170c17370e"
      },
      "execution_count": null,
      "outputs": [
        {
          "output_type": "stream",
          "name": "stdout",
          "text": [
            "Number of vowels in hello is: 2\n",
            "Number of vowels in programming is: 3\n"
          ]
        }
      ]
    },
    {
      "cell_type": "code",
      "source": [],
      "metadata": {
        "id": "Jo6iVe0_s6mS"
      },
      "execution_count": null,
      "outputs": []
    }
  ]
}