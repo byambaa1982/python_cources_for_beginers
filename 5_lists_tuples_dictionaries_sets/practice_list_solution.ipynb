{
  "nbformat": 4,
  "nbformat_minor": 0,
  "metadata": {
    "colab": {
      "provenance": [],
      "authorship_tag": "ABX9TyNeAWN4Dmd0ZRzSVSZgzyHQ",
      "include_colab_link": true
    },
    "kernelspec": {
      "name": "python3",
      "display_name": "Python 3"
    },
    "language_info": {
      "name": "python"
    }
  },
  "cells": [
    {
      "cell_type": "markdown",
      "metadata": {
        "id": "view-in-github",
        "colab_type": "text"
      },
      "source": [
        "<a href=\"https://colab.research.google.com/github/byambaa1982/python_cources_for_beginers/blob/main/practice_exercise/practice_list_solution.ipynb\" target=\"_parent\"><img src=\"https://colab.research.google.com/assets/colab-badge.svg\" alt=\"Open In Colab\"/></a>"
      ]
    },
    {
      "cell_type": "markdown",
      "source": [
        "# Task 1: Add a New Item to the List\n",
        "Start with a list of 3 colors. Then, add a new color to the list and print the updated list."
      ],
      "metadata": {
        "id": "_PaeU0AJYcV3"
      }
    },
    {
      "cell_type": "code",
      "source": [
        "colors = [\"Red\", \"Blue\", \"Green\"]\n",
        "colors.append(\"Yellow\")\n",
        "\n",
        "print(colors)"
      ],
      "metadata": {
        "id": "-iFJNRV0YfCr",
        "outputId": "b1981cb4-233c-4845-c3ca-2a28388f90d0",
        "colab": {
          "base_uri": "https://localhost:8080/"
        }
      },
      "execution_count": 1,
      "outputs": [
        {
          "output_type": "stream",
          "name": "stdout",
          "text": [
            "['Red', 'Blue', 'Green', 'Yellow']\n"
          ]
        }
      ]
    },
    {
      "cell_type": "markdown",
      "source": [
        " # Task 2: Find the Largest Number in a List\n",
        "Create a list of 5 numbers and use the max() function to find and print the largest number."
      ],
      "metadata": {
        "id": "JtnHqhLyYtZh"
      }
    },
    {
      "cell_type": "code",
      "source": [
        "numbers = [3, 8, 2, 7, 4]\n",
        "\n",
        "largest = max(numbers)\n",
        "print(\"The largest number is:\", largest)\n"
      ],
      "metadata": {
        "id": "1-anIVkNYqJy",
        "outputId": "8ea0a611-de3e-4bfd-a338-ea776c3f956a",
        "colab": {
          "base_uri": "https://localhost:8080/"
        }
      },
      "execution_count": 2,
      "outputs": [
        {
          "output_type": "stream",
          "name": "stdout",
          "text": [
            "The largest number is: 8\n"
          ]
        }
      ]
    },
    {
      "cell_type": "markdown",
      "source": [
        "# Task 3: Reverse a List\n",
        "Create a list of 5 numbers and print the list in reverse order."
      ],
      "metadata": {
        "id": "KDzRa5PlY-sN"
      }
    },
    {
      "cell_type": "code",
      "source": [
        "numbers = [1, 2, 3, 4, 5]\n",
        "reversed_numbers = numbers[::-1]\n",
        "\n",
        "print(reversed_numbers)\n"
      ],
      "metadata": {
        "id": "9wwf4mjOYrZ8",
        "outputId": "a05c3bb9-7897-464f-8722-156829822160",
        "colab": {
          "base_uri": "https://localhost:8080/"
        }
      },
      "execution_count": 3,
      "outputs": [
        {
          "output_type": "stream",
          "name": "stdout",
          "text": [
            "[5, 4, 3, 2, 1]\n"
          ]
        }
      ]
    },
    {
      "cell_type": "markdown",
      "source": [
        "# Task 4: Remove an Item from the List\n",
        "Start with a list of 4 animals. Remove one animal from the list and print the updated list."
      ],
      "metadata": {
        "id": "04n3CjvvZTBr"
      }
    },
    {
      "cell_type": "code",
      "source": [
        "animals = [\"Lion\", \"Elephant\", \"Giraffe\", \"Zebra\"]\n",
        "animals.remove(\"Elephant\")\n",
        "\n",
        "print(animals)\n"
      ],
      "metadata": {
        "id": "DRgqAE9LZV3b",
        "outputId": "fde4b3b8-0ef2-478f-9a36-86305cf63670",
        "colab": {
          "base_uri": "https://localhost:8080/"
        }
      },
      "execution_count": 4,
      "outputs": [
        {
          "output_type": "stream",
          "name": "stdout",
          "text": [
            "['Lion', 'Giraffe', 'Zebra']\n"
          ]
        }
      ]
    },
    {
      "cell_type": "markdown",
      "source": [
        "# Task 5: Count Items in a List\n",
        "Create a list with some repeated items (e.g., colors). Use the count() method to find out how many times a specific item appears in the list."
      ],
      "metadata": {
        "id": "fu45lDBEZb4N"
      }
    },
    {
      "cell_type": "code",
      "source": [
        "colors = [\"Red\", \"Blue\", \"Red\", \"Green\", \"Red\"]\n",
        "red_count = colors.count(\"Red\")\n",
        "\n",
        "print(\"Red appears\", red_count, \"times in the list.\")\n"
      ],
      "metadata": {
        "id": "dB4fcU1AZeNS",
        "outputId": "b3c89cf3-fa66-4a7f-c21c-bbe1e84f6ac7",
        "colab": {
          "base_uri": "https://localhost:8080/"
        }
      },
      "execution_count": 5,
      "outputs": [
        {
          "output_type": "stream",
          "name": "stdout",
          "text": [
            "Red appears 3 times in the list.\n"
          ]
        }
      ]
    },
    {
      "cell_type": "markdown",
      "source": [
        "# Task 6: Sum of All Numbers\n",
        "Create a list of 5 numbers and use the sum() function to calculate and print the total sum of the numbers."
      ],
      "metadata": {
        "id": "FbUwGQUvpZ-u"
      }
    },
    {
      "cell_type": "code",
      "source": [
        "numbers = [10, 20, 30, 40, 50]\n",
        "total_sum = sum(numbers)\n",
        "\n",
        "print(\"The sum of the numbers is:\", total_sum)\n"
      ],
      "metadata": {
        "id": "6ffRWzIVZITP",
        "outputId": "7c89318a-d396-4ad2-80c4-8d2c77222414",
        "colab": {
          "base_uri": "https://localhost:8080/"
        }
      },
      "execution_count": 6,
      "outputs": [
        {
          "output_type": "stream",
          "name": "stdout",
          "text": [
            "The sum of the numbers is: 150\n"
          ]
        }
      ]
    },
    {
      "cell_type": "markdown",
      "source": [
        "# Task 7: Find the Smallest Number\n",
        "Create a list of 6 numbers and use the min() function to find and print the smallest number in the list."
      ],
      "metadata": {
        "id": "mRB9AobypgeV"
      }
    },
    {
      "cell_type": "code",
      "source": [
        "numbers = [23, 5, 76, 12, 9, 34]\n",
        "smallest_number = min(numbers)\n",
        "\n",
        "print(\"The smallest number is:\", smallest_number)\n"
      ],
      "metadata": {
        "id": "blq_l8l-pid3",
        "outputId": "42feb0c1-8ddf-47f0-dc6f-0fa1c982091e",
        "colab": {
          "base_uri": "https://localhost:8080/"
        }
      },
      "execution_count": 7,
      "outputs": [
        {
          "output_type": "stream",
          "name": "stdout",
          "text": [
            "The smallest number is: 5\n"
          ]
        }
      ]
    },
    {
      "cell_type": "markdown",
      "source": [
        "# Task 7: Combine Two Lists\n",
        "Create two lists of three items each (e.g., fruits and vegetables). Combine them into one list and print the new combined list."
      ],
      "metadata": {
        "id": "XA9SCRMapoWZ"
      }
    },
    {
      "cell_type": "code",
      "source": [
        "fruits = [\"Apple\", \"Banana\", \"Orange\"]\n",
        "vegetables = [\"Carrot\", \"Spinach\", \"Broccoli\"]\n",
        "\n",
        "combined_list = fruits + vegetables\n",
        "print(combined_list)\n"
      ],
      "metadata": {
        "id": "Fl2S4pmrpq12",
        "outputId": "77d8e5eb-3d86-4f3b-d84e-1af0b8a6011d",
        "colab": {
          "base_uri": "https://localhost:8080/"
        }
      },
      "execution_count": 8,
      "outputs": [
        {
          "output_type": "stream",
          "name": "stdout",
          "text": [
            "['Apple', 'Banana', 'Orange', 'Carrot', 'Spinach', 'Broccoli']\n"
          ]
        }
      ]
    }
  ]
}