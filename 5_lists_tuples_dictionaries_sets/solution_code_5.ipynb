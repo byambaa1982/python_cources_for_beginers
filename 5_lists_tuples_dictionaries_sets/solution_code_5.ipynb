{
  "nbformat": 4,
  "nbformat_minor": 0,
  "metadata": {
    "colab": {
      "provenance": [],
      "authorship_tag": "ABX9TyNum7OiKUisoHTY4h18qndi",
      "include_colab_link": true
    },
    "kernelspec": {
      "name": "python3",
      "display_name": "Python 3"
    },
    "language_info": {
      "name": "python"
    }
  },
  "cells": [
    {
      "cell_type": "markdown",
      "metadata": {
        "id": "view-in-github",
        "colab_type": "text"
      },
      "source": [
        "<a href=\"https://colab.research.google.com/github/byambaa1982/python_cources_for_beginers/blob/main/5_lists_tuples_dictionaries_sets/Solution_Code.ipynb\" target=\"_parent\"><img src=\"https://colab.research.google.com/assets/colab-badge.svg\" alt=\"Open In Colab\"/></a>"
      ]
    },
    {
      "cell_type": "markdown",
      "source": [
        "## Problem 1: List Operations"
      ],
      "metadata": {
        "id": "8niqhLa97cbv"
      }
    },
    {
      "cell_type": "code",
      "execution_count": 3,
      "metadata": {
        "colab": {
          "base_uri": "https://localhost:8080/"
        },
        "id": "JC1SYHEc6vNX",
        "outputId": "a212da39-8991-4fe0-99df-60de49350be4"
      },
      "outputs": [
        {
          "output_type": "stream",
          "name": "stdout",
          "text": [
            "Sum: 34\n",
            "Average: 3.4\n",
            "Largest number: 20 at index 9\n",
            "Smallest number: -18 at index 8\n",
            "Modified list: [2, 4, 6, 10, 14, 16, 20]\n",
            "Even numbers: [2, 4, 6, 10, 14, 16, 20]\n"
          ]
        }
      ],
      "source": [
        "# Problem 1: List Operations\n",
        "\n",
        "# 1. Create a list of 10 integers\n",
        "numbers = [2, 4, 6, -8, 10, -12, 14, 16, -18, 20]\n",
        "\n",
        "# 2. Calculate and print the sum and average\n",
        "sum_numbers = sum(numbers)\n",
        "average = sum_numbers / len(numbers)\n",
        "print(\"Sum:\", sum_numbers)\n",
        "print(\"Average:\", average)\n",
        "\n",
        "# 3. Find the largest and smallest numbers and print their indices\n",
        "largest_number = max(numbers)\n",
        "smallest_number = min(numbers)\n",
        "print(\"Largest number:\", largest_number, \"at index\", numbers.index(largest_number))\n",
        "print(\"Smallest number:\", smallest_number, \"at index\", numbers.index(smallest_number))\n",
        "\n",
        "# 4. Remove all negative numbers from the list and print the modified list\n",
        "numbers = [num for num in numbers if num >= 0]\n",
        "print(\"Modified list:\", numbers)\n",
        "\n",
        "# 5. Create a new list containing only the even numbers and print it\n",
        "even_numbers = [num for num in numbers if num % 2 == 0]\n",
        "print(\"Even numbers:\", even_numbers)"
      ]
    },
    {
      "cell_type": "markdown",
      "source": [
        "## Problem 2: Tuple Operations"
      ],
      "metadata": {
        "id": "fcThWVKH7f50"
      }
    },
    {
      "cell_type": "code",
      "source": [
        "# Problem 2: Tuple Operations\n",
        "\n",
        "# 1. Create a tuple containing 5 elements\n",
        "my_tuple = (3, 5, 7, 9, 11)\n",
        "\n",
        "# 2. Access and print the first, third, and last elements of the tuple\n",
        "print(\"First element:\", my_tuple[0])\n",
        "print(\"Third element:\", my_tuple[2])\n",
        "print(\"Last element:\", my_tuple[-1])\n",
        "\n",
        "# 3. Calculate and print the length of the tuple\n",
        "print(\"Length of tuple:\", len(my_tuple))\n",
        "\n",
        "# 4. Try to modify an element in the tuple and explain the error message\n",
        "# my_tuple[0] = 2  # Uncommenting this line will raise a TypeError, as tuples are immutable and cannot be modified\n",
        "\n",
        "# 5. Convert the tuple into a list, modify an element, and convert it back to a tuple\n",
        "my_list = list(my_tuple)\n",
        "my_list[0] = 2\n",
        "my_tuple = tuple(my_list)\n",
        "print(\"Modified tuple:\", my_tuple)"
      ],
      "metadata": {
        "colab": {
          "base_uri": "https://localhost:8080/"
        },
        "id": "lnIPyeDS63fL",
        "outputId": "23e33c72-1d69-4b87-e3e0-83cff53e9537"
      },
      "execution_count": 4,
      "outputs": [
        {
          "output_type": "stream",
          "name": "stdout",
          "text": [
            "First element: 3\n",
            "Third element: 7\n",
            "Last element: 11\n",
            "Length of tuple: 5\n",
            "Modified tuple: (2, 5, 7, 9, 11)\n"
          ]
        }
      ]
    },
    {
      "cell_type": "code",
      "source": [],
      "metadata": {
        "id": "RXCTJaU767zL"
      },
      "execution_count": null,
      "outputs": []
    }
  ]
}