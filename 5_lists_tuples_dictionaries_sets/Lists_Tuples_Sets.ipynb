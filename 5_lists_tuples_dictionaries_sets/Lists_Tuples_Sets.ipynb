{
  "nbformat": 4,
  "nbformat_minor": 0,
  "metadata": {
    "colab": {
      "provenance": [],
      "authorship_tag": "ABX9TyM/mVH6L0xLHq0gFBF7qNIp",
      "include_colab_link": true
    },
    "kernelspec": {
      "name": "python3",
      "display_name": "Python 3"
    },
    "language_info": {
      "name": "python"
    }
  },
  "cells": [
    {
      "cell_type": "markdown",
      "metadata": {
        "id": "view-in-github",
        "colab_type": "text"
      },
      "source": [
        "<a href=\"https://colab.research.google.com/github/byambaa1982/python_cources_for_beginers/blob/main/5_lists_tuples_dictionaries_sets/Lists_Tuples_Sets.ipynb\" target=\"_parent\"><img src=\"https://colab.research.google.com/assets/colab-badge.svg\" alt=\"Open In Colab\"/></a>"
      ]
    },
    {
      "cell_type": "markdown",
      "source": [
        "## Lists: \n",
        "A list is a mutable, ordered collection of items. It allows you to add, remove, or modify elements after the list is created. Lists are dynamic in nature, which means their size can change during runtime. The items in a list can be of any data type, including other lists or tuples. Lists are created using square brackets [], and elements are separated by commas.\n",
        "\n",
        "### A simple exercise to help you understand Python lists. Let's create a program that performs various operations on a list of numbers.\n",
        "\n",
        "1. Create a list of numbers.\n",
        "2. Calculate the sum of all the numbers in the list.\n",
        "3. Find the maximum and minimum values in the list.\n",
        "4. Reverse the order of the list.\n",
        "5. Remove duplicates from the list."
      ],
      "metadata": {
        "id": "kkJ0d_V9zFxD"
      }
    },
    {
      "cell_type": "code",
      "execution_count": null,
      "metadata": {
        "id": "JFvlK-jmyteo"
      },
      "outputs": [],
      "source": [
        "# 1. Create a list of numbers\n",
        "numbers = [5, 3, 7, 2, 8, 3, 10, 5, 1, 8]"
      ]
    },
    {
      "cell_type": "code",
      "source": [
        "# 2. Calculate the sum of all the numbers in the list\n",
        "total = sum(numbers)\n",
        "print(\"Sum of all numbers:\", total)"
      ],
      "metadata": {
        "colab": {
          "base_uri": "https://localhost:8080/"
        },
        "id": "pXfAU_-Cy4jk",
        "outputId": "a556e2a3-cfee-45b0-ce26-3456b939c444"
      },
      "execution_count": null,
      "outputs": [
        {
          "output_type": "stream",
          "name": "stdout",
          "text": [
            "Sum of all numbers: 52\n"
          ]
        }
      ]
    },
    {
      "cell_type": "code",
      "source": [
        "# 3. Find the maximum and minimum values in the list\n",
        "maximum = max(numbers)\n",
        "minimum = min(numbers)\n",
        "print(\"Max value:\", maximum)\n",
        "print(\"Min value:\", minimum)"
      ],
      "metadata": {
        "colab": {
          "base_uri": "https://localhost:8080/"
        },
        "id": "6nflrR4my6dz",
        "outputId": "f90f9111-31d0-4751-80e2-c40a9bae1bbe"
      },
      "execution_count": null,
      "outputs": [
        {
          "output_type": "stream",
          "name": "stdout",
          "text": [
            "Max value: 10\n",
            "Min value: 1\n"
          ]
        }
      ]
    },
    {
      "cell_type": "code",
      "source": [
        "# 4. Reverse the order of the list\n",
        "numbers.reverse()\n",
        "print(\"Reversed list:\", numbers)"
      ],
      "metadata": {
        "colab": {
          "base_uri": "https://localhost:8080/"
        },
        "id": "xuuy5jvoy8N7",
        "outputId": "77c5b2b1-0de5-4267-96de-88ccf5897179"
      },
      "execution_count": null,
      "outputs": [
        {
          "output_type": "stream",
          "name": "stdout",
          "text": [
            "Reversed list: [8, 1, 5, 10, 3, 8, 2, 7, 3, 5]\n"
          ]
        }
      ]
    },
    {
      "cell_type": "code",
      "source": [
        "# 5. Remove duplicates from the list\n",
        "unique_numbers = list(set(numbers))\n",
        "print(\"List without duplicates:\", unique_numbers)"
      ],
      "metadata": {
        "colab": {
          "base_uri": "https://localhost:8080/"
        },
        "id": "RblW1LCjy-gb",
        "outputId": "19b6db61-2a95-4dbd-a7e7-12ef16cfea13"
      },
      "execution_count": null,
      "outputs": [
        {
          "output_type": "stream",
          "name": "stdout",
          "text": [
            "List without duplicates: [1, 2, 3, 5, 7, 8, 10]\n"
          ]
        }
      ]
    },
    {
      "cell_type": "code",
      "source": [
        "# Create a list of integers\n",
        "numbers = [1, 2, 3, 4, 5, 6, 7, 8, 9]\n",
        "\n",
        "# Initialize an empty list to store the updated numbers\n",
        "updated_numbers = []\n",
        "\n",
        "# Use a for loop to iterate over the original list\n",
        "for number in numbers:\n",
        "\n",
        "    # Check if the number is even\n",
        "    if number % 2 == 0:\n",
        "\n",
        "        # Double the value and append it to the new list\n",
        "        updated_numbers.append(number * 2)\n",
        "    else:\n",
        "\n",
        "        # Append the original number\n",
        "        updated_numbers.append(number)\n",
        "\n",
        "# Print the updated list\n",
        "print(\"Updated list:\", updated_numbers)"
      ],
      "metadata": {
        "id": "kvu1BgrtzBpT",
        "outputId": "c69df5db-2f38-4f50-b959-eac25c25881d",
        "colab": {
          "base_uri": "https://localhost:8080/"
        }
      },
      "execution_count": 6,
      "outputs": [
        {
          "output_type": "stream",
          "name": "stdout",
          "text": [
            "Updated list: [1, 4, 3, 8, 5, 12, 7, 16, 9]\n"
          ]
        }
      ]
    },
    {
      "cell_type": "markdown",
      "source": [
        "### Exercises\n",
        "\n",
        "`Problem`: Square odd numbers and halve even numbers in a list\n",
        "\n",
        "Given a list of integers, create a new list that squares the value of every odd number in the original list and halves the value of every even number.\n",
        "\n",
        "1. Create a list of integers containing both positive and negative numbers.\n",
        "2. Initialize an empty list to store the updated numbers.\n",
        "3. Use a for loop to iterate over the original list.\n",
        "4. For each number, check if it's odd.\n",
        "5. If it's odd, square its value and append it to the new list; otherwise, halve the value and append it to the new list.\n",
        "6. Print the updated list."
      ],
      "metadata": {
        "id": "OLOczl303JR5"
      }
    },
    {
      "cell_type": "code",
      "source": [
        "# Problem: Square odd numbers and halve even numbers in a list\n",
        "\n",
        "# 1. Create a list of integers\n",
        "# ...\n",
        "\n",
        "# 2. Initialize an empty list to store the updated numbers\n",
        "# ...\n",
        "\n",
        "# 3. Use a for loop to iterate over the original list\n",
        "# ...\n",
        "\n",
        "# 4. Check if the number is odd\n",
        "# ...\n",
        "\n",
        "# 5. If it's odd, square its value and append it to the new list; otherwise, halve the value and append it to the new list\n",
        "# ...\n",
        "\n",
        "# 6. Print the updated list\n",
        "# ...\n",
        "\n",
        "# Output: ..."
      ],
      "metadata": {
        "id": "c5xzctFU3jXg"
      },
      "execution_count": 7,
      "outputs": []
    },
    {
      "cell_type": "markdown",
      "source": [
        "## Tuples: \n",
        "A tuple is an immutable, ordered collection of items. Once a tuple is created, you cannot change its contents or size. Tuples are fixed-size and often used when you need an immutable sequence of values. Like lists, tuples can store items of any data type, including other lists or tuples. Tuples are created using parentheses () with elements separated by commas, or simply by separating elements with commas (without using parentheses).\n",
        "\n",
        "### A simple exercise to help you understand Python lists. Let's create a program that performs various operations on a list of numbers.\n",
        "\n",
        "1. Create a list of numbers.\n",
        "2. Calculate the sum of all the numbers in the list.\n",
        "3. Find the maximum and minimum values in the list.\n",
        "4. Reverse the order of the list.\n",
        "5. Remove duplicates from the list."
      ],
      "metadata": {
        "id": "fiybUnxu0nkK"
      }
    },
    {
      "cell_type": "code",
      "source": [
        "# 1. Create a tuple of different data types\n",
        "my_tuple = (42, 3.14, \"hello\", True, 42)\n",
        "\n"
      ],
      "metadata": {
        "id": "hHrIPOTT02mj"
      },
      "execution_count": 1,
      "outputs": []
    },
    {
      "cell_type": "code",
      "source": [
        "# 2. Access elements in the tuple using indices\n",
        "print(\"First element:\", my_tuple[0])\n",
        "print(\"Second element:\", my_tuple[1])\n",
        "print(\"Last element:\", my_tuple[-1])\n",
        "\n"
      ],
      "metadata": {
        "id": "iTT6iCLU074B",
        "outputId": "d41ab71b-83a2-4ccf-9f03-c4b22c398a82",
        "colab": {
          "base_uri": "https://localhost:8080/"
        }
      },
      "execution_count": 2,
      "outputs": [
        {
          "output_type": "stream",
          "name": "stdout",
          "text": [
            "First element: 42\n",
            "Second element: 3.14\n",
            "Last element: 42\n"
          ]
        }
      ]
    },
    {
      "cell_type": "code",
      "source": [
        "# 3. Calculate the length of the tuple\n",
        "length = len(my_tuple)\n",
        "print(\"Length of the tuple:\", length)\n"
      ],
      "metadata": {
        "id": "I766e8mC0-gr",
        "outputId": "dd8420fc-b9ce-45fd-a89d-785c90ed28ec",
        "colab": {
          "base_uri": "https://localhost:8080/"
        }
      },
      "execution_count": 3,
      "outputs": [
        {
          "output_type": "stream",
          "name": "stdout",
          "text": [
            "Length of the tuple: 5\n"
          ]
        }
      ]
    },
    {
      "cell_type": "code",
      "source": [
        "\n",
        "# 4. Count the occurrences of a specific value in the tuple\n",
        "occurrences = my_tuple.count(42)\n",
        "print(\"Occurrences of 42 in the tuple:\", occurrences)\n",
        "\n"
      ],
      "metadata": {
        "id": "ccdFssiY1APD",
        "outputId": "a64b6c3e-c085-45df-fbc4-c2426a87451b",
        "colab": {
          "base_uri": "https://localhost:8080/"
        }
      },
      "execution_count": 4,
      "outputs": [
        {
          "output_type": "stream",
          "name": "stdout",
          "text": [
            "Occurrences of 42 in the tuple: 2\n"
          ]
        }
      ]
    },
    {
      "cell_type": "code",
      "source": [
        "# 5. Find the index of a specific value in the tuple\n",
        "index = my_tuple.index(\"hello\")\n",
        "print(\"Index of 'hello' in the tuple:\", index)"
      ],
      "metadata": {
        "id": "2LoGygLm1CIz",
        "outputId": "54302f50-05f6-45ae-e81b-3ed016f2d46c",
        "colab": {
          "base_uri": "https://localhost:8080/"
        }
      },
      "execution_count": 5,
      "outputs": [
        {
          "output_type": "stream",
          "name": "stdout",
          "text": [
            "Index of 'hello' in the tuple: 2\n"
          ]
        }
      ]
    },
    {
      "cell_type": "markdown",
      "source": [
        "### The main difference between lists and tuples in Python is their mutability:\n",
        "\n",
        "1. Mutability:\n",
        "\n",
        "- `Lists` are mutable, which means you can change their contents (add, remove, or modify elements) after they are created. They are dynamic data structures and their size can also be changed during runtime.\n",
        "- `Tuples` are immutable, which means once they are created, you cannot change their contents or size. Their elements and structure are fixed for the lifetime of the tuple.\n",
        "2. Syntax:\n",
        "\n",
        "- `Lists` are created using square brackets [] and elements are separated by commas. For example: my_list = [1, 2, 3].\n",
        "- `Tuples` are created using parentheses () with elements separated by commas, or simply by separating elements with commas (without using parentheses). For example: my_tuple = (1, 2, 3) or my_tuple = 1, 2, 3.\n",
        "3. Performance:\n",
        "\n",
        "- `Tuples` generally have a smaller memory footprint and better performance than lists for certain operations, such as iteration and access by index, due to their immutability. This makes them suitable for use as keys in dictionaries or elements in sets.\n",
        "- `Lists` are more flexible and versatile than tuples, but their mutability can lead to higher memory usage and slower performance for certain operations.\n",
        "\n",
        "\n",
        "In summary, you should choose to use a list when you need a mutable, dynamic data structure that can be modified during runtime, and a tuple when you need an immutable, fixed-size data structure for efficient operations and improved performance."
      ],
      "metadata": {
        "id": "f9csKZXs1m7k"
      }
    },
    {
      "cell_type": "code",
      "source": [],
      "metadata": {
        "id": "zjCSgBAX1DyD"
      },
      "execution_count": null,
      "outputs": []
    }
  ]
}