{
  "nbformat": 4,
  "nbformat_minor": 0,
  "metadata": {
    "colab": {
      "provenance": [],
      "include_colab_link": true
    },
    "kernelspec": {
      "name": "python3",
      "display_name": "Python 3"
    },
    "language_info": {
      "name": "python"
    }
  },
  "cells": [
    {
      "cell_type": "markdown",
      "metadata": {
        "id": "view-in-github",
        "colab_type": "text"
      },
      "source": [
        "<a href=\"https://colab.research.google.com/github/byambaa1982/python_cources_for_beginers/blob/class_zero_hannah/5_lists_tuples_dictionaries_sets/dictionary.ipynb\" target=\"_parent\"><img src=\"https://colab.research.google.com/assets/colab-badge.svg\" alt=\"Open In Colab\"/></a>"
      ]
    },
    {
      "cell_type": "code",
      "execution_count": null,
      "metadata": {
        "id": "zU4GFgYozjBY"
      },
      "outputs": [],
      "source": []
    },
    {
      "cell_type": "markdown",
      "source": [
        "# What is a Dictionary in Python?\n",
        "\n",
        "\n",
        "A dictionary in Python is like a box where you can store pairs of items. Each pair has a key and a value. Think of the key as a word and the value as the definition or information about that word."
      ],
      "metadata": {
        "id": "nwLPBNiozvJQ"
      }
    },
    {
      "cell_type": "code",
      "source": [
        "a_sting = \"name\""
      ],
      "metadata": {
        "id": "fEXU6kKPzzh9"
      },
      "execution_count": null,
      "outputs": []
    },
    {
      "cell_type": "code",
      "source": [
        "34"
      ],
      "metadata": {
        "colab": {
          "base_uri": "https://localhost:8080/"
        },
        "id": "3UW-uzbd2Bv2",
        "outputId": "60a64b96-42bf-46e1-af7d-f069ae8817a7"
      },
      "execution_count": null,
      "outputs": [
        {
          "output_type": "execute_result",
          "data": {
            "text/plain": [
              "34"
            ]
          },
          "metadata": {},
          "execution_count": 2
        }
      ]
    },
    {
      "cell_type": "code",
      "source": [
        "4.5"
      ],
      "metadata": {
        "colab": {
          "base_uri": "https://localhost:8080/"
        },
        "id": "nDtI5OJT2Fcl",
        "outputId": "87d85001-d657-478f-bcea-570862d1024b"
      },
      "execution_count": null,
      "outputs": [
        {
          "output_type": "execute_result",
          "data": {
            "text/plain": [
              "4.5"
            ]
          },
          "metadata": {},
          "execution_count": 3
        }
      ]
    },
    {
      "cell_type": "code",
      "source": [
        "a_list = [3, 3, 5, \"string\"]"
      ],
      "metadata": {
        "id": "iu7LmLf42Kts"
      },
      "execution_count": null,
      "outputs": []
    },
    {
      "cell_type": "code",
      "source": [
        "person = {'age': 10, 'name': 'Hannah', 'height': 152.5 , 'hobby': ['read', 'walk', 'play']}"
      ],
      "metadata": {
        "id": "5LVHVdvs2Sxc"
      },
      "execution_count": 1,
      "outputs": []
    },
    {
      "cell_type": "code",
      "source": [
        "person['age']"
      ],
      "metadata": {
        "colab": {
          "base_uri": "https://localhost:8080/"
        },
        "id": "KcqD18KM2jnN",
        "outputId": "72f97d02-59f3-4e5a-a341-b23a986be357"
      },
      "execution_count": 2,
      "outputs": [
        {
          "output_type": "execute_result",
          "data": {
            "text/plain": [
              "10"
            ]
          },
          "metadata": {},
          "execution_count": 2
        }
      ]
    },
    {
      "cell_type": "code",
      "source": [
        "person['name']"
      ],
      "metadata": {
        "colab": {
          "base_uri": "https://localhost:8080/",
          "height": 36
        },
        "id": "9ARWUeqE23iL",
        "outputId": "e48ff31c-9a98-4483-92a1-911673f3ee6b"
      },
      "execution_count": 3,
      "outputs": [
        {
          "output_type": "execute_result",
          "data": {
            "text/plain": [
              "'Hannah'"
            ],
            "application/vnd.google.colaboratory.intrinsic+json": {
              "type": "string"
            }
          },
          "metadata": {},
          "execution_count": 3
        }
      ]
    },
    {
      "cell_type": "code",
      "source": [
        "person['hobby']"
      ],
      "metadata": {
        "colab": {
          "base_uri": "https://localhost:8080/"
        },
        "id": "rmOy6IW026gT",
        "outputId": "0569d9ad-53ab-49ad-f32a-ff89c6ca5584"
      },
      "execution_count": 4,
      "outputs": [
        {
          "output_type": "execute_result",
          "data": {
            "text/plain": [
              "['read', 'walk', 'play']"
            ]
          },
          "metadata": {},
          "execution_count": 4
        }
      ]
    },
    {
      "cell_type": "code",
      "source": [],
      "metadata": {
        "id": "MbZym__73Kfu"
      },
      "execution_count": null,
      "outputs": []
    }
  ]
}