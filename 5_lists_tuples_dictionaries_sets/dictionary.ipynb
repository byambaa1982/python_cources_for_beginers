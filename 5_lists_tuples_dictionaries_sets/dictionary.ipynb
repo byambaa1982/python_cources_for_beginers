{
  "nbformat": 4,
  "nbformat_minor": 0,
  "metadata": {
    "colab": {
      "provenance": [],
      "include_colab_link": true
    },
    "kernelspec": {
      "name": "python3",
      "display_name": "Python 3"
    },
    "language_info": {
      "name": "python"
    }
  },
  "cells": [
    {
      "cell_type": "markdown",
      "metadata": {
        "id": "view-in-github",
        "colab_type": "text"
      },
      "source": [
        "<a href=\"https://colab.research.google.com/github/byambaa1982/python_cources_for_beginers/blob/class_zero_hannah/5_lists_tuples_dictionaries_sets/dictionary.ipynb\" target=\"_parent\"><img src=\"https://colab.research.google.com/assets/colab-badge.svg\" alt=\"Open In Colab\"/></a>"
      ]
    },
    {
      "cell_type": "code",
      "execution_count": 1,
      "metadata": {
        "id": "zU4GFgYozjBY"
      },
      "outputs": [],
      "source": []
    },
    {
      "cell_type": "markdown",
      "source": [
        "# What is a Dictionary in Python?\n",
        "\n",
        "\n",
        "A dictionary in Python is like a box where you can store pairs of items. Each pair has a key and a value. Think of the key as a word and the value as the definition or information about that word."
      ],
      "metadata": {
        "id": "nwLPBNiozvJQ"
      }
    },
    {
      "cell_type": "code",
      "source": [
        "a_sting = \"name\""
      ],
      "metadata": {
        "id": "fEXU6kKPzzh9"
      },
      "execution_count": 2,
      "outputs": []
    },
    {
      "cell_type": "code",
      "source": [
        "34"
      ],
      "metadata": {
        "colab": {
          "base_uri": "https://localhost:8080/"
        },
        "id": "3UW-uzbd2Bv2",
        "outputId": "97c77e7a-2fdd-4ab1-b2b4-a49fb2cf01bd"
      },
      "execution_count": 3,
      "outputs": [
        {
          "output_type": "execute_result",
          "data": {
            "text/plain": [
              "34"
            ]
          },
          "metadata": {},
          "execution_count": 3
        }
      ]
    },
    {
      "cell_type": "code",
      "source": [
        "4.5"
      ],
      "metadata": {
        "colab": {
          "base_uri": "https://localhost:8080/"
        },
        "id": "nDtI5OJT2Fcl",
        "outputId": "1c8986f1-fe8c-4b83-e709-ccccd1ea674d"
      },
      "execution_count": 4,
      "outputs": [
        {
          "output_type": "execute_result",
          "data": {
            "text/plain": [
              "4.5"
            ]
          },
          "metadata": {},
          "execution_count": 4
        }
      ]
    },
    {
      "cell_type": "code",
      "source": [
        "a_list = [3, 3, 5, \"string\"]"
      ],
      "metadata": {
        "id": "iu7LmLf42Kts"
      },
      "execution_count": 5,
      "outputs": []
    },
    {
      "cell_type": "code",
      "source": [
        "person = {'age': 10, 'name': 'Hannah', 'height': 152.5 , 'hobby': ['sleepover', 'play']}"
      ],
      "metadata": {
        "id": "5LVHVdvs2Sxc"
      },
      "execution_count": 6,
      "outputs": []
    },
    {
      "cell_type": "code",
      "source": [
        "person['age']"
      ],
      "metadata": {
        "colab": {
          "base_uri": "https://localhost:8080/"
        },
        "id": "KcqD18KM2jnN",
        "outputId": "3dfcbcf6-ba61-47e1-acb1-4f7ea6dfba37"
      },
      "execution_count": 7,
      "outputs": [
        {
          "output_type": "execute_result",
          "data": {
            "text/plain": [
              "10"
            ]
          },
          "metadata": {},
          "execution_count": 7
        }
      ]
    },
    {
      "cell_type": "code",
      "source": [
        "person['name']"
      ],
      "metadata": {
        "colab": {
          "base_uri": "https://localhost:8080/",
          "height": 35
        },
        "id": "9ARWUeqE23iL",
        "outputId": "34cb4ef5-9f68-49b4-ec20-fd907980bc03"
      },
      "execution_count": 8,
      "outputs": [
        {
          "output_type": "execute_result",
          "data": {
            "text/plain": [
              "'Hannah'"
            ],
            "application/vnd.google.colaboratory.intrinsic+json": {
              "type": "string"
            }
          },
          "metadata": {},
          "execution_count": 8
        }
      ]
    },
    {
      "cell_type": "code",
      "source": [
        "person['hobby']"
      ],
      "metadata": {
        "colab": {
          "base_uri": "https://localhost:8080/"
        },
        "id": "rmOy6IW026gT",
        "outputId": "bf8ef2f1-8b75-45d9-db09-32a0c64a047c"
      },
      "execution_count": 9,
      "outputs": [
        {
          "output_type": "execute_result",
          "data": {
            "text/plain": [
              "['sleepover', 'play']"
            ]
          },
          "metadata": {},
          "execution_count": 9
        }
      ]
    },
    {
      "cell_type": "code",
      "source": [
        "clothing = {'type':'shirt', 'color': 'red', 'material':'cotton'}"
      ],
      "metadata": {
        "id": "MbZym__73Kfu"
      },
      "execution_count": 10,
      "outputs": []
    },
    {
      "cell_type": "code",
      "source": [
        "clothing['type']"
      ],
      "metadata": {
        "colab": {
          "base_uri": "https://localhost:8080/",
          "height": 35
        },
        "id": "IMZjCZMW7Z2_",
        "outputId": "520061c4-9c05-447c-ca5c-0d7aa5c54f5f"
      },
      "execution_count": 11,
      "outputs": [
        {
          "output_type": "execute_result",
          "data": {
            "text/plain": [
              "'shirt'"
            ],
            "application/vnd.google.colaboratory.intrinsic+json": {
              "type": "string"
            }
          },
          "metadata": {},
          "execution_count": 11
        }
      ]
    },
    {
      "cell_type": "code",
      "source": [
        "clothing['color']"
      ],
      "metadata": {
        "id": "S5M_7kAU8wa6",
        "outputId": "5083f779-eb39-4c48-cec1-2688508a5e36",
        "colab": {
          "base_uri": "https://localhost:8080/",
          "height": 35
        }
      },
      "execution_count": 12,
      "outputs": [
        {
          "output_type": "execute_result",
          "data": {
            "text/plain": [
              "'red'"
            ],
            "application/vnd.google.colaboratory.intrinsic+json": {
              "type": "string"
            }
          },
          "metadata": {},
          "execution_count": 12
        }
      ]
    },
    {
      "cell_type": "code",
      "source": [
        "clothing['material']"
      ],
      "metadata": {
        "id": "nCp1XoSO800z",
        "outputId": "8bc2a848-cd11-46a7-958a-2d58827af7be",
        "colab": {
          "base_uri": "https://localhost:8080/",
          "height": 35
        }
      },
      "execution_count": 13,
      "outputs": [
        {
          "output_type": "execute_result",
          "data": {
            "text/plain": [
              "'cotton'"
            ],
            "application/vnd.google.colaboratory.intrinsic+json": {
              "type": "string"
            }
          },
          "metadata": {},
          "execution_count": 13
        }
      ]
    },
    {
      "cell_type": "markdown",
      "source": [
        "# List, Dictionary, f String, loop, and Funtion"
      ],
      "metadata": {
        "id": "d1gPceMWjXlU"
      }
    },
    {
      "cell_type": "code",
      "source": [
        "def my_name(person):\n",
        "  print(f\"My is {person['name']}\")"
      ],
      "metadata": {
        "id": "Lid0P47kjY_a"
      },
      "execution_count": 14,
      "outputs": []
    },
    {
      "cell_type": "code",
      "source": [
        "def my_age(person):\n",
        "  print(f\"My age is {person['age']}\")"
      ],
      "metadata": {
        "id": "KXMs18TBjbR6"
      },
      "execution_count": 15,
      "outputs": []
    },
    {
      "cell_type": "code",
      "source": [
        "def my_hobby (person):\n",
        "  for hobby in person['hobby']:\n",
        "    print(f\"My favorite things to do is {hobby}\")"
      ],
      "metadata": {
        "id": "E6JdIDOAjmtB"
      },
      "execution_count": 16,
      "outputs": []
    },
    {
      "cell_type": "code",
      "source": [
        "people = [\n",
        "    {\n",
        "        'age': 15,\n",
        "        'name': 'Burentugs',\n",
        "        'height': 164,\n",
        "        'hobbies': ['playing', 'running', 'doing activities with friends', 'reading']\n",
        "    },\n",
        "    {\n",
        "        'age': 12,\n",
        "        'name': 'Urangoo',\n",
        "        'height': 164,\n",
        "        'hobbies': ['reading', 'playing games', 'drawing']\n",
        "    },\n",
        "    {\n",
        "        'age': 21,\n",
        "        'name': 'Kai',\n",
        "        'height': 175,\n",
        "        'hobbies': ['coding', 'playing guitar', 'gaming']\n",
        "    },\n",
        "    {\n",
        "        'age': 17,\n",
        "        'name': 'Lina',\n",
        "        'height': 160,\n",
        "        'hobbies': ['swimming', 'dancing', 'photography']\n",
        "    },\n",
        "    {\n",
        "        'age': 16,\n",
        "        'name': 'Zane',\n",
        "        'height': 180,\n",
        "        'hobbies': ['basketball', 'watching movies', 'travelling']\n",
        "    },\n",
        "    {\n",
        "        'age': 20,\n",
        "        'name': 'Mia',\n",
        "        'height': 165,\n",
        "        'hobbies': ['cooking', 'yoga', 'reading']\n",
        "    },\n",
        "    {\n",
        "        'age': 22,\n",
        "        'name': 'Ethan',\n",
        "        'height': 172,\n",
        "        'hobbies': ['football', 'cycling', 'reading']\n",
        "    },\n",
        "    {\n",
        "        'age': 19,\n",
        "        'name': 'Sofia',\n",
        "        'height': 168,\n",
        "        'hobbies': ['gardening', 'drawing', 'shopping']\n",
        "    },\n",
        "    {\n",
        "        'age': 15,\n",
        "        'name': 'Jin',\n",
        "        'height': 162,\n",
        "        'hobbies': ['gaming', 'skateboarding', 'listening to music']\n",
        "    },\n",
        "    {\n",
        "        'age': 18,\n",
        "        'name': 'Ava',\n",
        "        'height': 158,\n",
        "        'hobbies': ['baking', 'knitting', 'watching TV shows']\n",
        "    }\n",
        "]\n"
      ],
      "metadata": {
        "id": "zQdjlO3vjqtO"
      },
      "execution_count": 17,
      "outputs": []
    },
    {
      "cell_type": "code",
      "source": [
        "for person in people:\n",
        "  print(f\"{person['name']} is {person['age']} year old.\")"
      ],
      "metadata": {
        "id": "UEBMBoNzjuaA",
        "outputId": "a4a7420b-8ed4-496e-8eb6-f21fdf350d13",
        "colab": {
          "base_uri": "https://localhost:8080/"
        }
      },
      "execution_count": 18,
      "outputs": [
        {
          "output_type": "stream",
          "name": "stdout",
          "text": [
            "Burentugs is 15 year old.\n",
            "Urangoo is 12 year old.\n",
            "Kai is 21 year old.\n",
            "Lina is 17 year old.\n",
            "Zane is 16 year old.\n",
            "Mia is 20 year old.\n",
            "Ethan is 22 year old.\n",
            "Sofia is 19 year old.\n",
            "Jin is 15 year old.\n",
            "Ava is 18 year old.\n"
          ]
        }
      ]
    }
  ]
}