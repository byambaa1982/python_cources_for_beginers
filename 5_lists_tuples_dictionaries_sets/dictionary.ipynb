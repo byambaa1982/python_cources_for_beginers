{
  "nbformat": 4,
  "nbformat_minor": 0,
  "metadata": {
    "colab": {
      "provenance": [],
      "authorship_tag": "ABX9TyOUNoBQNJMoqffXq439ZNCY",
      "include_colab_link": true
    },
    "kernelspec": {
      "name": "python3",
      "display_name": "Python 3"
    },
    "language_info": {
      "name": "python"
    }
  },
  "cells": [
    {
      "cell_type": "markdown",
      "metadata": {
        "id": "view-in-github",
        "colab_type": "text"
      },
      "source": [
        "<a href=\"https://colab.research.google.com/github/byambaa1982/python_cources_for_beginers/blob/homework_branch/5_lists_tuples_dictionaries_sets/dictionary.ipynb\" target=\"_parent\"><img src=\"https://colab.research.google.com/assets/colab-badge.svg\" alt=\"Open In Colab\"/></a>"
      ]
    },
    {
      "cell_type": "code",
      "execution_count": null,
      "metadata": {
        "id": "zU4GFgYozjBY"
      },
      "outputs": [],
      "source": []
    },
    {
      "cell_type": "markdown",
      "source": [
        "# What is a Dictionary in Python?\n",
        "\n",
        "\n",
        "A dictionary in Python is like a box where you can store pairs of items. Each pair has a key and a value. Think of the key as a word and the value as the definition or information about that word."
      ],
      "metadata": {
        "id": "nwLPBNiozvJQ"
      }
    },
    {
      "cell_type": "code",
      "source": [
        "a_sting = \"name\""
      ],
      "metadata": {
        "id": "fEXU6kKPzzh9"
      },
      "execution_count": null,
      "outputs": []
    },
    {
      "cell_type": "code",
      "source": [
        "34"
      ],
      "metadata": {
        "colab": {
          "base_uri": "https://localhost:8080/"
        },
        "id": "3UW-uzbd2Bv2",
        "outputId": "60a64b96-42bf-46e1-af7d-f069ae8817a7"
      },
      "execution_count": null,
      "outputs": [
        {
          "output_type": "execute_result",
          "data": {
            "text/plain": [
              "34"
            ]
          },
          "metadata": {},
          "execution_count": 2
        }
      ]
    },
    {
      "cell_type": "code",
      "source": [
        "4.5"
      ],
      "metadata": {
        "colab": {
          "base_uri": "https://localhost:8080/"
        },
        "id": "nDtI5OJT2Fcl",
        "outputId": "87d85001-d657-478f-bcea-570862d1024b"
      },
      "execution_count": null,
      "outputs": [
        {
          "output_type": "execute_result",
          "data": {
            "text/plain": [
              "4.5"
            ]
          },
          "metadata": {},
          "execution_count": 3
        }
      ]
    },
    {
      "cell_type": "code",
      "source": [
        "a_list = [3, 3, 5, \"string\"]"
      ],
      "metadata": {
        "id": "iu7LmLf42Kts"
      },
      "execution_count": null,
      "outputs": []
    },
    {
      "cell_type": "code",
      "source": [
        "person = {'age': 42, 'name': 'Byamba', 'height': 181.3, 'hobby': ['reading ', 'walking ', 'playing chess']}"
      ],
      "metadata": {
        "id": "5LVHVdvs2Sxc"
      },
      "execution_count": 3,
      "outputs": []
    },
    {
      "cell_type": "code",
      "source": [
        "print(f\"My name is {person['name']}. I am {person['age']} old. My height is {person['height']} cm. Also, my hobbies are {person['hobby'][0]}, {person['hobby'][1]}, and {person['hobby'][2]}\")"
      ],
      "metadata": {
        "id": "axwBCPR95o0i",
        "colab": {
          "base_uri": "https://localhost:8080/"
        },
        "outputId": "839cea14-8469-41d6-9e52-d249371aa581"
      },
      "execution_count": 4,
      "outputs": [
        {
          "output_type": "stream",
          "name": "stdout",
          "text": [
            "My name is Byamba. I am 42 old. My height is 181.3 cm. Also, my hobbies are reading , walking , and playing chess\n"
          ]
        }
      ]
    },
    {
      "cell_type": "code",
      "source": [
        "person['age']"
      ],
      "metadata": {
        "colab": {
          "base_uri": "https://localhost:8080/"
        },
        "id": "KcqD18KM2jnN",
        "outputId": "7a069fa8-b0c2-4008-b2dc-f62a6abb817a"
      },
      "execution_count": null,
      "outputs": [
        {
          "output_type": "execute_result",
          "data": {
            "text/plain": [
              "42"
            ]
          },
          "metadata": {},
          "execution_count": 10
        }
      ]
    },
    {
      "cell_type": "code",
      "source": [
        "person['name']"
      ],
      "metadata": {
        "colab": {
          "base_uri": "https://localhost:8080/",
          "height": 35
        },
        "id": "9ARWUeqE23iL",
        "outputId": "18a462c1-667a-435c-ae8d-1b7af55da1bd"
      },
      "execution_count": null,
      "outputs": [
        {
          "output_type": "execute_result",
          "data": {
            "text/plain": [
              "'Byamba'"
            ],
            "application/vnd.google.colaboratory.intrinsic+json": {
              "type": "string"
            }
          },
          "metadata": {},
          "execution_count": 11
        }
      ]
    },
    {
      "cell_type": "code",
      "source": [
        "person['hobby']"
      ],
      "metadata": {
        "colab": {
          "base_uri": "https://localhost:8080/"
        },
        "id": "rmOy6IW026gT",
        "outputId": "cbd56fa6-62e8-4369-fc8b-e54675b5fce5"
      },
      "execution_count": null,
      "outputs": [
        {
          "output_type": "execute_result",
          "data": {
            "text/plain": [
              "['read', 'walk', 'play']"
            ]
          },
          "metadata": {},
          "execution_count": 12
        }
      ]
    },
    {
      "cell_type": "code",
      "source": [
        "a = {\"b\": 3, \"c\": 6, \"d\":[1, 2, 4, 3, 5]}"
      ],
      "metadata": {
        "id": "MbZym__73Kfu"
      },
      "execution_count": null,
      "outputs": []
    },
    {
      "cell_type": "code",
      "source": [
        "a['b']"
      ],
      "metadata": {
        "colab": {
          "base_uri": "https://localhost:8080/"
        },
        "id": "dWaP6K5L7RHU",
        "outputId": "5f9cb642-5c09-4fcc-d072-043b7b4d3e7e"
      },
      "execution_count": null,
      "outputs": [
        {
          "output_type": "execute_result",
          "data": {
            "text/plain": [
              "3"
            ]
          },
          "metadata": {},
          "execution_count": 24
        }
      ]
    },
    {
      "cell_type": "code",
      "source": [
        "a['c']"
      ],
      "metadata": {
        "colab": {
          "base_uri": "https://localhost:8080/"
        },
        "id": "5kudatnF7SvV",
        "outputId": "e3944d9b-3b96-407f-f39a-bd6e0578ae0c"
      },
      "execution_count": null,
      "outputs": [
        {
          "output_type": "execute_result",
          "data": {
            "text/plain": [
              "6"
            ]
          },
          "metadata": {},
          "execution_count": 25
        }
      ]
    },
    {
      "cell_type": "code",
      "source": [
        "#1. print and f string"
      ],
      "metadata": {
        "id": "DNRgVA7b7Ub9"
      },
      "execution_count": null,
      "outputs": []
    },
    {
      "cell_type": "code",
      "source": [
        "#2. at least two dictionary with 4 to 5 keys, at lease one key has a list values"
      ],
      "metadata": {
        "id": "BU7Q8TO19mit"
      },
      "execution_count": null,
      "outputs": []
    },
    {
      "cell_type": "code",
      "source": [
        "#3. Do the same thing with following"
      ],
      "metadata": {
        "id": "OMQdt4bY9th9"
      },
      "execution_count": null,
      "outputs": []
    },
    {
      "cell_type": "code",
      "source": [
        "for i in person['hobby']:\n",
        "  print(f\"My hobby is {i}\")"
      ],
      "metadata": {
        "colab": {
          "base_uri": "https://localhost:8080/"
        },
        "id": "_TM7ZPCy97XU",
        "outputId": "79d321b2-7831-4cb7-aa1b-c5946f78a3cc"
      },
      "execution_count": null,
      "outputs": [
        {
          "output_type": "stream",
          "name": "stdout",
          "text": [
            "My hobby is read\n",
            "My hobby is walk\n",
            "My hobby is play\n"
          ]
        }
      ]
    },
    {
      "cell_type": "code",
      "source": [
        "\n",
        "person = {\n",
        "    'age': 42,\n",
        "    'name': 'Byamba',\n",
        "    'height': 181.3,\n",
        "    'hobby': ['reading ', 'walking ', 'playing chess'],\n",
        "    'Animal':{\n",
        "        'Type': 'Frog',\n",
        "        'Habitat': 'Amphibian',\n",
        "        'Consumer': 'Carnivore',\n",
        "        'Skin': ['Striped', 'Colored', 'Wet']\n",
        "            }\n",
        "      }"
      ],
      "metadata": {
        "id": "im4rEaJh-BcF"
      },
      "execution_count": 7,
      "outputs": []
    },
    {
      "cell_type": "code",
      "source": [
        "#1. print \"Colored\" and \"walking\" in sentence"
      ],
      "metadata": {
        "id": "RIHz2uC5ESxn"
      },
      "execution_count": 2,
      "outputs": []
    },
    {
      "cell_type": "code",
      "source": [
        "#2. loop hobby and skin and count letters"
      ],
      "metadata": {
        "id": "6VNU4a1YEdxi"
      },
      "execution_count": null,
      "outputs": []
    },
    {
      "cell_type": "code",
      "source": [
        "#3. change person dictionary values and create a function that print a whole text about yourself."
      ],
      "metadata": {
        "id": "PQFceXPIE13T"
      },
      "execution_count": null,
      "outputs": []
    },
    {
      "cell_type": "code",
      "source": [
        "print(f\"My animal is {person['Animal']['Type']}\")"
      ],
      "metadata": {
        "colab": {
          "base_uri": "https://localhost:8080/"
        },
        "id": "opIJT43RFNtm",
        "outputId": "8c973299-f2c6-484c-d356-defaf4f1ce30"
      },
      "execution_count": 9,
      "outputs": [
        {
          "output_type": "stream",
          "name": "stdout",
          "text": [
            "My animal is Frog\n"
          ]
        }
      ]
    },
    {
      "cell_type": "code",
      "source": [],
      "metadata": {
        "id": "BjzUNXK3Farh"
      },
      "execution_count": null,
      "outputs": []
    }
  ]
}