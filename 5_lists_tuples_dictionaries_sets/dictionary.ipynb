{
  "nbformat": 4,
  "nbformat_minor": 0,
  "metadata": {
    "colab": {
      "provenance": [],
      "include_colab_link": true
    },
    "kernelspec": {
      "name": "python3",
      "display_name": "Python 3"
    },
    "language_info": {
      "name": "python"
    }
  },
  "cells": [
    {
      "cell_type": "markdown",
      "metadata": {
        "id": "view-in-github",
        "colab_type": "text"
      },
      "source": [
        "<a href=\"https://colab.research.google.com/github/byambaa1982/python_cources_for_beginers/blob/class_zero_enko/5_lists_tuples_dictionaries_sets/dictionary.ipynb\" target=\"_parent\"><img src=\"https://colab.research.google.com/assets/colab-badge.svg\" alt=\"Open In Colab\"/></a>"
      ]
    },
    {
      "cell_type": "code",
      "execution_count": null,
      "metadata": {
        "id": "zU4GFgYozjBY"
      },
      "outputs": [],
      "source": []
    },
    {
      "cell_type": "markdown",
      "source": [
        "# What is a Dictionary in Python?\n",
        "\n",
        "\n",
        "A dictionary in Python is like a box where you can store pairs of items. Each pair has a key and a value. Think of the key as a word and the value as the definition or information about that word."
      ],
      "metadata": {
        "id": "nwLPBNiozvJQ"
      }
    },
    {
      "cell_type": "code",
      "source": [
        "a_sting = \"name\""
      ],
      "metadata": {
        "id": "fEXU6kKPzzh9"
      },
      "execution_count": 2,
      "outputs": []
    },
    {
      "cell_type": "code",
      "source": [
        "34"
      ],
      "metadata": {
        "colab": {
          "base_uri": "https://localhost:8080/"
        },
        "id": "3UW-uzbd2Bv2",
        "outputId": "c421f6ff-7877-43d9-ae76-f0cf935a65ac"
      },
      "execution_count": 3,
      "outputs": [
        {
          "output_type": "execute_result",
          "data": {
            "text/plain": [
              "34"
            ]
          },
          "metadata": {},
          "execution_count": 3
        }
      ]
    },
    {
      "cell_type": "code",
      "source": [
        "4.5"
      ],
      "metadata": {
        "colab": {
          "base_uri": "https://localhost:8080/"
        },
        "id": "nDtI5OJT2Fcl",
        "outputId": "fb47e2b8-e524-4560-9275-310d8afd0e74"
      },
      "execution_count": 4,
      "outputs": [
        {
          "output_type": "execute_result",
          "data": {
            "text/plain": [
              "4.5"
            ]
          },
          "metadata": {},
          "execution_count": 4
        }
      ]
    },
    {
      "cell_type": "code",
      "source": [
        "a_list = [3, 3, 5, \"string\"]"
      ],
      "metadata": {
        "id": "iu7LmLf42Kts"
      },
      "execution_count": 5,
      "outputs": []
    },
    {
      "cell_type": "code",
      "source": [
        "person = {'age': 42, 'name': 'Byamba', 'height': 181.3, 'hobby': ['read', 'walk', 'play']}"
      ],
      "metadata": {
        "id": "5LVHVdvs2Sxc"
      },
      "execution_count": 6,
      "outputs": []
    },
    {
      "cell_type": "code",
      "source": [
        "person['age']"
      ],
      "metadata": {
        "colab": {
          "base_uri": "https://localhost:8080/"
        },
        "id": "KcqD18KM2jnN",
        "outputId": "ed0b0ea6-3c8d-4011-fd23-a81c3d791132"
      },
      "execution_count": 7,
      "outputs": [
        {
          "output_type": "execute_result",
          "data": {
            "text/plain": [
              "42"
            ]
          },
          "metadata": {},
          "execution_count": 7
        }
      ]
    },
    {
      "cell_type": "code",
      "source": [
        "person['name']"
      ],
      "metadata": {
        "colab": {
          "base_uri": "https://localhost:8080/",
          "height": 35
        },
        "id": "9ARWUeqE23iL",
        "outputId": "7f4c9869-27ce-4dbb-f636-bbe2b3fba283"
      },
      "execution_count": 8,
      "outputs": [
        {
          "output_type": "execute_result",
          "data": {
            "text/plain": [
              "'Byamba'"
            ],
            "application/vnd.google.colaboratory.intrinsic+json": {
              "type": "string"
            }
          },
          "metadata": {},
          "execution_count": 8
        }
      ]
    },
    {
      "cell_type": "code",
      "source": [
        "person['hobby']"
      ],
      "metadata": {
        "colab": {
          "base_uri": "https://localhost:8080/"
        },
        "id": "rmOy6IW026gT",
        "outputId": "47a4c4b2-9278-456e-edde-3aded8b0181b"
      },
      "execution_count": 9,
      "outputs": [
        {
          "output_type": "execute_result",
          "data": {
            "text/plain": [
              "['read', 'walk', 'play']"
            ]
          },
          "metadata": {},
          "execution_count": 9
        }
      ]
    },
    {
      "cell_type": "code",
      "source": [
        "person = {'age': 13, 'name': 'Enko', 'height': 5.4,  'hobby': ['games', 'Go outside', 'Bike']}"
      ],
      "metadata": {
        "id": "MbZym__73Kfu"
      },
      "execution_count": 16,
      "outputs": []
    },
    {
      "cell_type": "code",
      "source": [
        "person['age']"
      ],
      "metadata": {
        "colab": {
          "base_uri": "https://localhost:8080/"
        },
        "id": "BCBCxAVm4frT",
        "outputId": "c28ea08f-9c9f-4d12-b752-a156dd52d7d7"
      },
      "execution_count": 17,
      "outputs": [
        {
          "output_type": "execute_result",
          "data": {
            "text/plain": [
              "13"
            ]
          },
          "metadata": {},
          "execution_count": 17
        }
      ]
    },
    {
      "cell_type": "code",
      "source": [
        "person['name']"
      ],
      "metadata": {
        "id": "Zfcm3qeA4uF7",
        "outputId": "c02ca645-5ded-4f40-d44c-1acd08f16de6",
        "colab": {
          "base_uri": "https://localhost:8080/",
          "height": 35
        }
      },
      "execution_count": 18,
      "outputs": [
        {
          "output_type": "execute_result",
          "data": {
            "text/plain": [
              "'Enko'"
            ],
            "application/vnd.google.colaboratory.intrinsic+json": {
              "type": "string"
            }
          },
          "metadata": {},
          "execution_count": 18
        }
      ]
    },
    {
      "cell_type": "code",
      "source": [
        "person['hobby']"
      ],
      "metadata": {
        "id": "UpI4OOqd4yEv",
        "outputId": "92ab7365-fec6-4e38-d6bf-97b6b6ffc5f5",
        "colab": {
          "base_uri": "https://localhost:8080/"
        }
      },
      "execution_count": 20,
      "outputs": [
        {
          "output_type": "execute_result",
          "data": {
            "text/plain": [
              "['games', 'Go outside', 'Bike']"
            ]
          },
          "metadata": {},
          "execution_count": 20
        }
      ]
    }
  ]
}