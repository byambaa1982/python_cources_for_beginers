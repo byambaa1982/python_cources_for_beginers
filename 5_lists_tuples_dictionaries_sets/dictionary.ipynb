{
  "nbformat": 4,
  "nbformat_minor": 0,
  "metadata": {
    "colab": {
      "provenance": [],
      "authorship_tag": "ABX9TyN1PrHJSeuiyPHHeOK9UVu5",
      "include_colab_link": true
    },
    "kernelspec": {
      "name": "python3",
      "display_name": "Python 3"
    },
    "language_info": {
      "name": "python"
    }
  },
  "cells": [
    {
      "cell_type": "markdown",
      "metadata": {
        "id": "view-in-github",
        "colab_type": "text"
      },
      "source": [
        "<a href=\"https://colab.research.google.com/github/byambaa1982/python_cources_for_beginers/blob/main/5_lists_tuples_dictionaries_sets/dictionary.ipynb\" target=\"_parent\"><img src=\"https://colab.research.google.com/assets/colab-badge.svg\" alt=\"Open In Colab\"/></a>"
      ]
    },
    {
      "cell_type": "code",
      "execution_count": null,
      "metadata": {
        "id": "zU4GFgYozjBY"
      },
      "outputs": [],
      "source": []
    },
    {
      "cell_type": "markdown",
      "source": [
        "# What is a Dictionary in Python?\n",
        "\n",
        "\n",
        "A dictionary in Python is like a box where you can store pairs of items. Each pair has a key and a value. Think of the key as a word and the value as the definition or information about that word."
      ],
      "metadata": {
        "id": "nwLPBNiozvJQ"
      }
    },
    {
      "cell_type": "code",
      "source": [
        "a_sting = \"name\""
      ],
      "metadata": {
        "id": "fEXU6kKPzzh9"
      },
      "execution_count": null,
      "outputs": []
    },
    {
      "cell_type": "code",
      "source": [
        "34"
      ],
      "metadata": {
        "colab": {
          "base_uri": "https://localhost:8080/"
        },
        "id": "3UW-uzbd2Bv2",
        "outputId": "60a64b96-42bf-46e1-af7d-f069ae8817a7"
      },
      "execution_count": null,
      "outputs": [
        {
          "output_type": "execute_result",
          "data": {
            "text/plain": [
              "34"
            ]
          },
          "metadata": {},
          "execution_count": 2
        }
      ]
    },
    {
      "cell_type": "code",
      "source": [
        "4.5"
      ],
      "metadata": {
        "colab": {
          "base_uri": "https://localhost:8080/"
        },
        "id": "nDtI5OJT2Fcl",
        "outputId": "87d85001-d657-478f-bcea-570862d1024b"
      },
      "execution_count": null,
      "outputs": [
        {
          "output_type": "execute_result",
          "data": {
            "text/plain": [
              "4.5"
            ]
          },
          "metadata": {},
          "execution_count": 3
        }
      ]
    },
    {
      "cell_type": "code",
      "source": [
        "a_list = [3, 3, 5, \"string\"]"
      ],
      "metadata": {
        "id": "iu7LmLf42Kts"
      },
      "execution_count": null,
      "outputs": []
    },
    {
      "cell_type": "code",
      "source": [
        "person = {'age': 42, 'name': 'Byamba', 'height': 181.3, 'hobby': ['reading ', 'walking ', 'playing chess']}"
      ],
      "metadata": {
        "id": "5LVHVdvs2Sxc"
      },
      "execution_count": null,
      "outputs": []
    },
    {
      "cell_type": "code",
      "source": [
        "print(f\"My name is {person['name']}. I am {person['age']} old. My height is {person['height']} cm. Also, my hobbies are {person['hobby'][0]}, {person['hobby'][1]}, and {person['hobby'][2]}\")"
      ],
      "metadata": {
        "colab": {
          "base_uri": "https://localhost:8080/"
        },
        "id": "KcqD18KM2jnN",
        "outputId": "ac24f305-0b74-4682-f094-d9453f0768ab"
      },
      "execution_count": null,
      "outputs": [
        {
          "output_type": "stream",
          "name": "stdout",
          "text": [
            "My name is Byamba. I am 42 old. My height is 181.3 cm. Also, my hobbies are reading , walking , and playing chess\n"
          ]
        }
      ]
    },
    {
      "cell_type": "markdown",
      "source": [
        "# Let's extend the dictionary"
      ],
      "metadata": {
        "id": "DQrC1zmQ5f4Z"
      }
    },
    {
      "cell_type": "code",
      "source": [
        "person = {\n",
        "    'age': 42,\n",
        "    'name': 'Byamba',\n",
        "    'height': 181.3,\n",
        "    'hobby': ['reading ', 'walking ', 'playing chess'],\n",
        "    'car_details': {\n",
        "              'brand': 'Toyota',\n",
        "              'model': 'Camry',\n",
        "              'year': 2023,\n",
        "              'color': 'Silver',\n",
        "              'features': ['GPS Navigation', 'Leather Seats', 'Sunroof']\n",
        "              }\n",
        "    }"
      ],
      "metadata": {
        "id": "nJAtra8O5oaU"
      },
      "execution_count": 7,
      "outputs": []
    },
    {
      "cell_type": "code",
      "source": [
        "print(person['car_details']['brand'])"
      ],
      "metadata": {
        "id": "FRI74jtX_5gb",
        "outputId": "617ca3ef-0c1e-4a03-ad77-0b0a8bd8754a",
        "colab": {
          "base_uri": "https://localhost:8080/"
        }
      },
      "execution_count": null,
      "outputs": [
        {
          "output_type": "stream",
          "name": "stdout",
          "text": [
            "Toyota\n"
          ]
        }
      ]
    },
    {
      "cell_type": "code",
      "source": [],
      "metadata": {
        "id": "tK8Klgz0A_1L"
      },
      "execution_count": null,
      "outputs": []
    },
    {
      "cell_type": "markdown",
      "source": [
        "# List, Dictionary, f String, loop, and Funtion\n",
        "\n",
        "## Subtitle"
      ],
      "metadata": {
        "id": "nfGwWuZHBZzO"
      }
    },
    {
      "cell_type": "code",
      "source": [
        "def my_age(person):\n",
        "  print(f\"My age is {person['age']}\")"
      ],
      "metadata": {
        "id": "wiIwpP6tBjfU"
      },
      "execution_count": 9,
      "outputs": []
    },
    {
      "cell_type": "code",
      "source": [
        "my_age(person)"
      ],
      "metadata": {
        "id": "eK4P2Uy9E8Sl",
        "outputId": "990ab7c4-629b-4c82-9a12-76e0f3694f38",
        "colab": {
          "base_uri": "https://localhost:8080/"
        }
      },
      "execution_count": 10,
      "outputs": [
        {
          "output_type": "stream",
          "name": "stdout",
          "text": [
            "My age is 42\n"
          ]
        }
      ]
    },
    {
      "cell_type": "code",
      "source": [
        "people = [\n",
        "    {\n",
        "        'age': 15,\n",
        "        'name': 'Burentugs',\n",
        "        'height': 164,\n",
        "        'hobbies': ['playing', 'running', 'doing activities with friends']\n",
        "    },\n",
        "    {\n",
        "        'age': 12,\n",
        "        'name': 'Urangoo',\n",
        "        'height': 164,\n",
        "        'hobby': ['reading', 'playing games', 'drawing']\n",
        "    },\n",
        "    {\n",
        "        'age': 21,\n",
        "        'name': 'Kai',\n",
        "        'height': 175,\n",
        "        'hobbies': ['coding', 'playing guitar', 'gaming']\n",
        "    },\n",
        "    {\n",
        "        'age': 17,\n",
        "        'name': 'Lina',\n",
        "        'height': 160,\n",
        "        'hobbies': ['swimming', 'dancing', 'photography']\n",
        "    },\n",
        "    {\n",
        "        'age': 16,\n",
        "        'name': 'Zane',\n",
        "        'height': 180,\n",
        "        'hobbies': ['basketball', 'watching movies', 'travelling']\n",
        "    },\n",
        "    {\n",
        "        'age': 20,\n",
        "        'name': 'Mia',\n",
        "        'height': 165,\n",
        "        'hobbies': ['cooking', 'yoga', 'writing']\n",
        "    },\n",
        "    {\n",
        "        'age': 22,\n",
        "        'name': 'Ethan',\n",
        "        'height': 172,\n",
        "        'hobbies': ['football', 'cycling', 'reading']\n",
        "    },\n",
        "    {\n",
        "        'age': 19,\n",
        "        'name': 'Sofia',\n",
        "        'height': 168,\n",
        "        'hobbies': ['gardening', 'drawing', 'shopping']\n",
        "    },\n",
        "    {\n",
        "        'age': 15,\n",
        "        'name': 'Jin',\n",
        "        'height': 162,\n",
        "        'hobbies': ['gaming', 'skateboarding', 'listening to music']\n",
        "    },\n",
        "    {\n",
        "        'age': 18,\n",
        "        'name': 'Ava',\n",
        "        'height': 158,\n",
        "        'hobbies': ['baking', 'knitting', 'watching TV shows']\n",
        "    }\n",
        "]\n"
      ],
      "metadata": {
        "id": "BrnFUTPzHFcD"
      },
      "execution_count": null,
      "outputs": []
    }
  ]
}