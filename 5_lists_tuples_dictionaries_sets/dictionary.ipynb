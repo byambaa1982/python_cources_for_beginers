{
  "nbformat": 4,
  "nbformat_minor": 0,
  "metadata": {
    "colab": {
      "provenance": [],
      "include_colab_link": true
    },
    "kernelspec": {
      "name": "python3",
      "display_name": "Python 3"
    },
    "language_info": {
      "name": "python"
    }
  },
  "cells": [
    {
      "cell_type": "markdown",
      "metadata": {
        "id": "view-in-github",
        "colab_type": "text"
      },
      "source": [
        "<a href=\"https://colab.research.google.com/github/byambaa1982/python_cources_for_beginers/blob/class_zero_burentugs/5_lists_tuples_dictionaries_sets/dictionary.ipynb\" target=\"_parent\"><img src=\"https://colab.research.google.com/assets/colab-badge.svg\" alt=\"Open In Colab\"/></a>"
      ]
    },
    {
      "cell_type": "code",
      "execution_count": null,
      "metadata": {
        "id": "zU4GFgYozjBY"
      },
      "outputs": [],
      "source": []
    },
    {
      "cell_type": "markdown",
      "source": [
        "# What is a Dictionary in Python?\n",
        "\n",
        "\n",
        "A dictionary in Python is like a box where you can store pairs of items. Each pair has a key and a value. Think of the key as a word and the value as the definition or information about that word."
      ],
      "metadata": {
        "id": "nwLPBNiozvJQ"
      }
    },
    {
      "cell_type": "code",
      "source": [
        "a_sting = \"name\""
      ],
      "metadata": {
        "id": "fEXU6kKPzzh9"
      },
      "execution_count": null,
      "outputs": []
    },
    {
      "cell_type": "code",
      "source": [
        "34"
      ],
      "metadata": {
        "colab": {
          "base_uri": "https://localhost:8080/"
        },
        "id": "3UW-uzbd2Bv2",
        "outputId": "60a64b96-42bf-46e1-af7d-f069ae8817a7"
      },
      "execution_count": null,
      "outputs": [
        {
          "output_type": "execute_result",
          "data": {
            "text/plain": [
              "34"
            ]
          },
          "metadata": {},
          "execution_count": 2
        }
      ]
    },
    {
      "cell_type": "code",
      "source": [
        "4.5"
      ],
      "metadata": {
        "colab": {
          "base_uri": "https://localhost:8080/"
        },
        "id": "nDtI5OJT2Fcl",
        "outputId": "87d85001-d657-478f-bcea-570862d1024b"
      },
      "execution_count": null,
      "outputs": [
        {
          "output_type": "execute_result",
          "data": {
            "text/plain": [
              "4.5"
            ]
          },
          "metadata": {},
          "execution_count": 3
        }
      ]
    },
    {
      "cell_type": "code",
      "source": [
        "a_list = [3, 3, 5, \"string\"]"
      ],
      "metadata": {
        "id": "iu7LmLf42Kts"
      },
      "execution_count": null,
      "outputs": []
    },
    {
      "cell_type": "code",
      "source": [
        "person = {'age': 15, 'name': 'Burentugs', 'height': 164 , 'hobby': ['play', 'run', 'activities with friends']}"
      ],
      "metadata": {
        "id": "5LVHVdvs2Sxc"
      },
      "execution_count": null,
      "outputs": []
    },
    {
      "cell_type": "code",
      "source": [
        "person['age']"
      ],
      "metadata": {
        "colab": {
          "base_uri": "https://localhost:8080/"
        },
        "id": "KcqD18KM2jnN",
        "outputId": "5959b90a-9e5a-4957-fd8d-b5cfc5c1103e"
      },
      "execution_count": null,
      "outputs": [
        {
          "output_type": "execute_result",
          "data": {
            "text/plain": [
              "15"
            ]
          },
          "metadata": {},
          "execution_count": 3
        }
      ]
    },
    {
      "cell_type": "code",
      "source": [
        "person['name']"
      ],
      "metadata": {
        "colab": {
          "base_uri": "https://localhost:8080/",
          "height": 36
        },
        "id": "9ARWUeqE23iL",
        "outputId": "63ba34f0-4999-4cc5-eec4-0fc766b78324"
      },
      "execution_count": null,
      "outputs": [
        {
          "output_type": "execute_result",
          "data": {
            "text/plain": [
              "'Burentugs'"
            ],
            "application/vnd.google.colaboratory.intrinsic+json": {
              "type": "string"
            }
          },
          "metadata": {},
          "execution_count": 4
        }
      ]
    },
    {
      "cell_type": "code",
      "source": [
        "person['hobby']"
      ],
      "metadata": {
        "colab": {
          "base_uri": "https://localhost:8080/"
        },
        "id": "rmOy6IW026gT",
        "outputId": "e21b298b-9342-47fd-901a-aef97afb4a56"
      },
      "execution_count": null,
      "outputs": [
        {
          "output_type": "execute_result",
          "data": {
            "text/plain": [
              "['play', 'run', 'activities with friends']"
            ]
          },
          "metadata": {},
          "execution_count": 5
        }
      ]
    },
    {
      "cell_type": "code",
      "source": [
        "clothing = {'Type': 'pants', 'Size': \"Medium\", 'material': \"Synthetic\", 'Color': ['blue', 'baby blue', 'black', 'gray']}"
      ],
      "metadata": {
        "id": "MbZym__73Kfu"
      },
      "execution_count": null,
      "outputs": []
    },
    {
      "cell_type": "code",
      "source": [
        "clothing['Type']"
      ],
      "metadata": {
        "colab": {
          "base_uri": "https://localhost:8080/",
          "height": 36
        },
        "id": "v-9B5sJC5IuT",
        "outputId": "98fddbe3-71da-46a8-ac5d-1aad81ac4e1b"
      },
      "execution_count": null,
      "outputs": [
        {
          "output_type": "execute_result",
          "data": {
            "text/plain": [
              "'pants'"
            ],
            "application/vnd.google.colaboratory.intrinsic+json": {
              "type": "string"
            }
          },
          "metadata": {},
          "execution_count": 34
        }
      ]
    },
    {
      "cell_type": "code",
      "source": [
        "clothing['Color']"
      ],
      "metadata": {
        "colab": {
          "base_uri": "https://localhost:8080/"
        },
        "id": "dSKdAwo45LxV",
        "outputId": "08bb1245-3c25-4219-c2a0-1140c9f4d949"
      },
      "execution_count": null,
      "outputs": [
        {
          "output_type": "execute_result",
          "data": {
            "text/plain": [
              "['blue', 'baby blue', 'black', 'gray']"
            ]
          },
          "metadata": {},
          "execution_count": 35
        }
      ]
    },
    {
      "cell_type": "code",
      "source": [
        "clothing['Size']"
      ],
      "metadata": {
        "colab": {
          "base_uri": "https://localhost:8080/",
          "height": 36
        },
        "id": "nuyEY9Fp5MSx",
        "outputId": "674bb206-15af-4b97-c251-edf09c3cb720"
      },
      "execution_count": null,
      "outputs": [
        {
          "output_type": "execute_result",
          "data": {
            "text/plain": [
              "'Medium'"
            ],
            "application/vnd.google.colaboratory.intrinsic+json": {
              "type": "string"
            }
          },
          "metadata": {},
          "execution_count": 36
        }
      ]
    },
    {
      "cell_type": "code",
      "source": [
        "clothing['material']"
      ],
      "metadata": {
        "colab": {
          "base_uri": "https://localhost:8080/",
          "height": 36
        },
        "id": "kdpM3ftm5MNh",
        "outputId": "a25b55bf-82a2-41d0-94a0-e67cd93f6b9d"
      },
      "execution_count": null,
      "outputs": [
        {
          "output_type": "execute_result",
          "data": {
            "text/plain": [
              "'Synthetic'"
            ],
            "application/vnd.google.colaboratory.intrinsic+json": {
              "type": "string"
            }
          },
          "metadata": {},
          "execution_count": 37
        }
      ]
    },
    {
      "cell_type": "code",
      "source": [
        "print(clothing['Type'], clothing['Color'], clothing['Size'], clothing['material'])"
      ],
      "metadata": {
        "colab": {
          "base_uri": "https://localhost:8080/"
        },
        "id": "c4HQnAIv74X0",
        "outputId": "8e38b2ff-bce6-463f-c8f0-35dbab1fe523"
      },
      "execution_count": null,
      "outputs": [
        {
          "output_type": "stream",
          "name": "stdout",
          "text": [
            "pants ['blue', 'baby blue', 'black', 'gray'] Medium Synthetic\n"
          ]
        }
      ]
    },
    {
      "cell_type": "code",
      "source": [
        "for i in clothing['Type'], clothing['Color'], clothing['Size'], clothing['material']:\n",
        " print(i)"
      ],
      "metadata": {
        "id": "2g0bkdlE9QHr",
        "outputId": "1155da8f-48f2-480b-9651-b95b924a15a2",
        "colab": {
          "base_uri": "https://localhost:8080/"
        }
      },
      "execution_count": null,
      "outputs": [
        {
          "output_type": "stream",
          "name": "stdout",
          "text": [
            "pants\n",
            "['blue', 'baby blue', 'black', 'gray']\n",
            "Medium\n",
            "Synthetic\n"
          ]
        }
      ]
    },
    {
      "cell_type": "code",
      "source": [
        "house = {'Style': 'Penthouse', 'Floor#': 2, 'Cost per month': 2300, 'Material': ['Brick', 'Concrete', 'Wood']}"
      ],
      "metadata": {
        "id": "i9XlrZOz31Rb"
      },
      "execution_count": null,
      "outputs": []
    },
    {
      "cell_type": "code",
      "source": [
        "house['Style']"
      ],
      "metadata": {
        "colab": {
          "base_uri": "https://localhost:8080/",
          "height": 36
        },
        "id": "5NicuBKN53aL",
        "outputId": "a0336f87-c638-482e-8c34-18410fd79df8"
      },
      "execution_count": null,
      "outputs": [
        {
          "output_type": "execute_result",
          "data": {
            "text/plain": [
              "'Penthouse'"
            ],
            "application/vnd.google.colaboratory.intrinsic+json": {
              "type": "string"
            }
          },
          "metadata": {},
          "execution_count": 3
        }
      ]
    },
    {
      "cell_type": "code",
      "source": [
        "house['Floor#']"
      ],
      "metadata": {
        "colab": {
          "base_uri": "https://localhost:8080/"
        },
        "id": "yq-5AdNT53UX",
        "outputId": "3321d21b-f3f5-4832-dcac-c2d84dd43a27"
      },
      "execution_count": null,
      "outputs": [
        {
          "output_type": "execute_result",
          "data": {
            "text/plain": [
              "2"
            ]
          },
          "metadata": {},
          "execution_count": 4
        }
      ]
    },
    {
      "cell_type": "code",
      "source": [
        "house['Cost per month']"
      ],
      "metadata": {
        "colab": {
          "base_uri": "https://localhost:8080/"
        },
        "id": "026kMtkI53Qt",
        "outputId": "625914a1-15c6-45dd-821f-7c30f5a8b329"
      },
      "execution_count": null,
      "outputs": [
        {
          "output_type": "execute_result",
          "data": {
            "text/plain": [
              "2300"
            ]
          },
          "metadata": {},
          "execution_count": 5
        }
      ]
    },
    {
      "cell_type": "code",
      "source": [
        "house['Material']"
      ],
      "metadata": {
        "colab": {
          "base_uri": "https://localhost:8080/"
        },
        "id": "yGP64TAC53OK",
        "outputId": "405a50d4-8347-4282-8dff-3c0b8996076f"
      },
      "execution_count": null,
      "outputs": [
        {
          "output_type": "execute_result",
          "data": {
            "text/plain": [
              "['Brick', 'Concrete', 'Wood']"
            ]
          },
          "metadata": {},
          "execution_count": 7
        }
      ]
    },
    {
      "cell_type": "code",
      "source": [
        "print(house['Style'], house['Floor#'], house['Cost per month'], house['Material'])"
      ],
      "metadata": {
        "colab": {
          "base_uri": "https://localhost:8080/"
        },
        "id": "W7v9wMay53L3",
        "outputId": "b4e79b97-af13-400c-86c3-69a26c805b40"
      },
      "execution_count": null,
      "outputs": [
        {
          "output_type": "stream",
          "name": "stdout",
          "text": [
            "Penthouse 2 2300 ['Brick', 'Concrete', 'Wood']\n"
          ]
        }
      ]
    },
    {
      "cell_type": "code",
      "source": [
        "for i in house['Style'], house['Floor#'], house['Cost per month'], house['Material']:\n",
        " print(i)"
      ],
      "metadata": {
        "colab": {
          "base_uri": "https://localhost:8080/"
        },
        "id": "P7EC3WDl6XpB",
        "outputId": "8cea151b-653e-4c1a-f86c-635af3307e3d"
      },
      "execution_count": null,
      "outputs": [
        {
          "output_type": "stream",
          "name": "stdout",
          "text": [
            "Penthouse\n",
            "2\n",
            "2300\n",
            "['Brick', 'Concrete', 'Wood']\n"
          ]
        }
      ]
    },
    {
      "cell_type": "code",
      "source": [
        "for i in house['Material']:\n",
        " print(f\"My house is made out of {i}\")"
      ],
      "metadata": {
        "colab": {
          "base_uri": "https://localhost:8080/"
        },
        "id": "X2DojHfi53JX",
        "outputId": "27cb54a0-ab02-41eb-c4a3-425ee98f9e18"
      },
      "execution_count": null,
      "outputs": [
        {
          "output_type": "stream",
          "name": "stdout",
          "text": [
            "My house is made out of Brick\n",
            "My house is made out of Concrete\n",
            "My house is made out of Wood\n"
          ]
        }
      ]
    },
    {
      "cell_type": "code",
      "source": [
        "Animal = {'Type': 'Frog', 'Habitat': 'Amphibian', 'Consumer': 'Carnivore', 'Skin': ['Striped', 'Colored', 'Wet']}"
      ],
      "metadata": {
        "id": "h7CImWUu525S"
      },
      "execution_count": null,
      "outputs": []
    },
    {
      "cell_type": "code",
      "source": [
        "Animal['Type']"
      ],
      "metadata": {
        "colab": {
          "base_uri": "https://localhost:8080/",
          "height": 36
        },
        "id": "dmqAL1Vn9HG-",
        "outputId": "fe64b0f4-2911-4deb-d50a-ddcc4641ca6e"
      },
      "execution_count": null,
      "outputs": [
        {
          "output_type": "execute_result",
          "data": {
            "text/plain": [
              "'Frog'"
            ],
            "application/vnd.google.colaboratory.intrinsic+json": {
              "type": "string"
            }
          },
          "metadata": {},
          "execution_count": 38
        }
      ]
    },
    {
      "cell_type": "code",
      "source": [
        "Animal['Habitat']"
      ],
      "metadata": {
        "colab": {
          "base_uri": "https://localhost:8080/",
          "height": 36
        },
        "id": "eOOE_Bad9HBC",
        "outputId": "2558986e-14f2-4981-b90a-0be66adf3f0a"
      },
      "execution_count": null,
      "outputs": [
        {
          "output_type": "execute_result",
          "data": {
            "text/plain": [
              "'Amphibian'"
            ],
            "application/vnd.google.colaboratory.intrinsic+json": {
              "type": "string"
            }
          },
          "metadata": {},
          "execution_count": 37
        }
      ]
    },
    {
      "cell_type": "code",
      "source": [
        "Animal['Skin']"
      ],
      "metadata": {
        "colab": {
          "base_uri": "https://localhost:8080/"
        },
        "id": "Izq5qWpO9G9k",
        "outputId": "bc28b43f-2408-455d-cb59-c204bda8f2aa"
      },
      "execution_count": null,
      "outputs": [
        {
          "output_type": "execute_result",
          "data": {
            "text/plain": [
              "['Striped', 'Colored', 'Wet']"
            ]
          },
          "metadata": {},
          "execution_count": 36
        }
      ]
    },
    {
      "cell_type": "code",
      "source": [
        "print(Animal['Type'], Animal['Habitat'], Animal['Consumer'], Animal['Skin'])"
      ],
      "metadata": {
        "colab": {
          "base_uri": "https://localhost:8080/"
        },
        "id": "oLPJwOz89Q_l",
        "outputId": "808a8168-d98d-487c-c56f-69969ee25506"
      },
      "execution_count": null,
      "outputs": [
        {
          "output_type": "stream",
          "name": "stdout",
          "text": [
            "Frog Amphibian Carnivore ['Striped', 'Colored', 'Wet']\n"
          ]
        }
      ]
    },
    {
      "cell_type": "code",
      "source": [
        "for i in Animal['Type'], Animal['Habitat'], Animal['Consumer'], Animal['Skin']:\n",
        " print(i)"
      ],
      "metadata": {
        "colab": {
          "base_uri": "https://localhost:8080/"
        },
        "id": "zTnzX8_i9lT0",
        "outputId": "7f5bca1f-eb28-4b65-a183-ec8aa3d8ed8c"
      },
      "execution_count": null,
      "outputs": [
        {
          "output_type": "stream",
          "name": "stdout",
          "text": [
            "Frog\n",
            "Amphibian\n",
            "Carnivore\n",
            "['Striped', 'Colored', 'Wet']\n"
          ]
        }
      ]
    },
    {
      "cell_type": "code",
      "source": [
        "for i in Animal['Skin']:\n",
        " print(f\"A frog has a {i} skin \")"
      ],
      "metadata": {
        "colab": {
          "base_uri": "https://localhost:8080/"
        },
        "id": "6dd-RRkU9z6R",
        "outputId": "7f24ce6c-36f1-401d-a910-2239d5d6e927"
      },
      "execution_count": null,
      "outputs": [
        {
          "output_type": "stream",
          "name": "stdout",
          "text": [
            "A frog has a Striped skin \n",
            "A frog has a Colored skin \n",
            "A frog has a Wet skin \n"
          ]
        }
      ]
    },
    {
      "cell_type": "code",
      "source": [
        "for i in Animal['Skin']:\n",
        " if Animal['Skin'] == \"Colored\":\n",
        "  print(Animal['Skin'])"
      ],
      "metadata": {
        "id": "aKIlR8Bv-ix6"
      },
      "execution_count": null,
      "outputs": []
    },
    {
      "cell_type": "code",
      "source": [
        "print(i)"
      ],
      "metadata": {
        "colab": {
          "base_uri": "https://localhost:8080/"
        },
        "id": "6TDRoMYE_SH8",
        "outputId": "1eb7c2ca-4bc4-41b5-ec5d-d1a9559634e1"
      },
      "execution_count": null,
      "outputs": [
        {
          "output_type": "stream",
          "name": "stdout",
          "text": [
            "Wet\n"
          ]
        }
      ]
    },
    {
      "cell_type": "code",
      "source": [
        "Animal = {'Type': 'Dog', 'Habitat': 'Land', 'Consumer': 'Omnivore', 'Skin': ['Striped', 'Colored', 'Dry']}"
      ],
      "metadata": {
        "id": "0hPqO9rI_xyS"
      },
      "execution_count": null,
      "outputs": []
    },
    {
      "cell_type": "code",
      "source": [
        "print(Animal['Skin'] [-2])"
      ],
      "metadata": {
        "colab": {
          "base_uri": "https://localhost:8080/"
        },
        "id": "YGejyPFx_-tr",
        "outputId": "cf6f5c01-3db9-460c-9a50-cc531f0be300"
      },
      "execution_count": null,
      "outputs": [
        {
          "output_type": "stream",
          "name": "stdout",
          "text": [
            "Colored\n"
          ]
        }
      ]
    },
    {
      "cell_type": "code",
      "source": [
        "person = {\n",
        "    'age': 15,\n",
        "    'name': 'Burentugs',\n",
        "    'height': 164 ,\n",
        "    'hobby': ['play', 'run', 'activities with friends'],\n",
        "    'Animal': {\n",
        "            'Type': 'Dog',\n",
        "            'Habitat': 'Land',\n",
        "            'Consumer': 'Omnivore',\n",
        "            'Skin': ['Striped', 'Colored', 'Dry']\n",
        "    }\n",
        "}"
      ],
      "metadata": {
        "id": "oZnSeOHIBCnX"
      },
      "execution_count": null,
      "outputs": []
    },
    {
      "cell_type": "code",
      "source": [
        "print(person['Animal']['Consumer'])"
      ],
      "metadata": {
        "colab": {
          "base_uri": "https://localhost:8080/"
        },
        "id": "0qQxQhaKCKgx",
        "outputId": "712119fd-0f96-4028-b15e-d2589db6bbba"
      },
      "execution_count": null,
      "outputs": [
        {
          "output_type": "stream",
          "name": "stdout",
          "text": [
            "Carnivore\n"
          ]
        }
      ]
    },
    {
      "cell_type": "code",
      "source": [
        "person = {\n",
        "    'age': 15,\n",
        "    'name': 'Burentugs',\n",
        "    'height': 164 ,\n",
        "    'hobby': ['play', 'run', 'activities with friends'],\n",
        "    'Animal': {\n",
        "            'Type': 'Frog',\n",
        "            'Habitat': 'Amphibian',\n",
        "            'Consumer': 'Carnivore',\n",
        "            'Skin': ['Striped', 'Colored', 'Wet']\n",
        "    }\n",
        "}"
      ],
      "metadata": {
        "id": "zwrSXPkfEBuC"
      },
      "execution_count": null,
      "outputs": []
    },
    {
      "cell_type": "code",
      "source": [
        "print(person['hobby'] [-2], person['Animal']['Skin'] [-2])"
      ],
      "metadata": {
        "colab": {
          "base_uri": "https://localhost:8080/"
        },
        "id": "VjLlzYp0Ehrm",
        "outputId": "a62fdfec-9ead-4e4e-d3db-9c269d1d2d7d"
      },
      "execution_count": null,
      "outputs": [
        {
          "output_type": "stream",
          "name": "stdout",
          "text": [
            "run Colored\n"
          ]
        }
      ]
    },
    {
      "cell_type": "code",
      "source": [],
      "metadata": {
        "colab": {
          "base_uri": "https://localhost:8080/"
        },
        "id": "wULEBrt2FTMg",
        "outputId": "4337526f-5e15-4649-acec-a28bbf5d30b7"
      },
      "execution_count": null,
      "outputs": [
        {
          "output_type": "stream",
          "name": "stdout",
          "text": [
            "Colored\n"
          ]
        }
      ]
    },
    {
      "cell_type": "code",
      "source": [
        "for i in person['hobby'], person['Animal']['Skin']:\n",
        "  print(i)"
      ],
      "metadata": {
        "colab": {
          "base_uri": "https://localhost:8080/"
        },
        "id": "D_H2LftdFhuw",
        "outputId": "e6d25148-9d93-4a92-82e2-82c23bfd3524"
      },
      "execution_count": null,
      "outputs": [
        {
          "output_type": "stream",
          "name": "stdout",
          "text": [
            "['playing', 'running', 'doing activities with friends']\n",
            "['Striped', 'Colored', 'Dry']\n"
          ]
        }
      ]
    },
    {
      "cell_type": "code",
      "source": [
        "def count_letters(word):\n",
        "    return len(word.replace(\" \", \"\"))\n",
        "\n",
        "person = {\n",
        "    'hobby': ['playing', 'running', 'doing activities with friends'],\n",
        "    'Animal': {\n",
        "        'Skin': ['Striped', 'Colored', 'Dry']\n",
        "    }\n",
        "}\n",
        "for hobby in person['hobby']:\n",
        "    print(hobby)\n",
        "    print(count_letters(hobby))"
      ],
      "metadata": {
        "id": "YSheDhqIHHjN",
        "outputId": "642452d5-7f29-49f8-fe41-4465ea60dc03",
        "colab": {
          "base_uri": "https://localhost:8080/"
        }
      },
      "execution_count": 1,
      "outputs": [
        {
          "output_type": "stream",
          "name": "stdout",
          "text": [
            "playing\n",
            "7\n",
            "running\n",
            "7\n",
            "doing activities with friends\n",
            "26\n"
          ]
        }
      ]
    },
    {
      "cell_type": "code",
      "source": [
        "person = {\n",
        "    'age': 15,\n",
        "    'name': 'Burentugs',\n",
        "    'height': 164 ,\n",
        "    'hobby': ['playing', 'running', 'doing activities with friends'],\n",
        "    'Animal': {\n",
        "            'Type': 'Dog',\n",
        "            'Habitat': 'Land',\n",
        "            'Consumer': 'Omnivore',\n",
        "            'Skin': ['Striped', 'Colored', 'Dry']\n",
        "    }\n",
        "}"
      ],
      "metadata": {
        "id": "qhVNJ2b3II2q"
      },
      "execution_count": 73,
      "outputs": []
    },
    {
      "cell_type": "code",
      "source": [
        "print(f\"Hi, My name is {person['name']}. I am {person['age']} years old. My hobbies are {person['hobby']}, and my favorite animal is a {person['Animal']['Type']} which is a {person['Animal']['Habitat']} animal. From which it is a {person['Animal']['Consumer']}, and its skins is {person['Animal']['Skin']}\")"
      ],
      "metadata": {
        "id": "u4FPfeWnIPO4",
        "outputId": "80057ed3-c578-4916-81f2-96477d6fea81",
        "colab": {
          "base_uri": "https://localhost:8080/"
        }
      },
      "execution_count": null,
      "outputs": [
        {
          "output_type": "stream",
          "name": "stdout",
          "text": [
            "Hi, My name is Burentugs. I am 15 years old. My hobbies are ['playing', 'running', 'doing activities with friends'], and my favorite animal is a Dog which is a Land animal. From which it is a Omnivore, and its skins is ['Striped', 'Colored', 'Dry']\n"
          ]
        }
      ]
    },
    {
      "cell_type": "code",
      "source": [
        "def my_age(person):\n",
        " print(f\"My age is {person['age']}\")"
      ],
      "metadata": {
        "id": "qx8eZW40C9Y_"
      },
      "execution_count": 74,
      "outputs": []
    },
    {
      "cell_type": "code",
      "source": [
        "my_age(person)"
      ],
      "metadata": {
        "colab": {
          "base_uri": "https://localhost:8080/"
        },
        "id": "sHrbEuJUE0Qm",
        "outputId": "bfab0665-731a-4e0e-c5b6-a21c0c63c485"
      },
      "execution_count": 75,
      "outputs": [
        {
          "output_type": "stream",
          "name": "stdout",
          "text": [
            "My age is 15\n"
          ]
        }
      ]
    },
    {
      "cell_type": "code",
      "source": [
        "def my_hobby(person):\n",
        "  for my_hobby in person:\n",
        "     print(f\"My hobbies are {person['hobby']}\")"
      ],
      "metadata": {
        "id": "7FSSWkN3C9Po"
      },
      "execution_count": 101,
      "outputs": []
    },
    {
      "cell_type": "code",
      "source": [
        "my_hobby(person)"
      ],
      "metadata": {
        "colab": {
          "base_uri": "https://localhost:8080/"
        },
        "id": "2hLpNGuGC9Mm",
        "outputId": "1fba3dee-66e3-45e0-9190-fc16343f902c"
      },
      "execution_count": 102,
      "outputs": [
        {
          "output_type": "stream",
          "name": "stdout",
          "text": [
            "My hobbies are ['playing', 'running', 'doing activities with friends']\n",
            "My hobbies are ['playing', 'running', 'doing activities with friends']\n",
            "My hobbies are ['playing', 'running', 'doing activities with friends']\n",
            "My hobbies are ['playing', 'running', 'doing activities with friends']\n",
            "My hobbies are ['playing', 'running', 'doing activities with friends']\n"
          ]
        }
      ]
    },
    {
      "cell_type": "code",
      "source": [],
      "metadata": {
        "id": "kQrWAqEVC9JI"
      },
      "execution_count": null,
      "outputs": []
    }
  ]
}