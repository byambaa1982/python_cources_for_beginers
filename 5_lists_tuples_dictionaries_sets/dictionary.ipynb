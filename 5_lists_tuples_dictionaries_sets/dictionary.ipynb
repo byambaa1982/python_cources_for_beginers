{
  "nbformat": 4,
  "nbformat_minor": 0,
  "metadata": {
    "colab": {
      "provenance": [],
      "authorship_tag": "ABX9TyMby00pGqiRj9jzD0CNxDPT",
      "include_colab_link": true
    },
    "kernelspec": {
      "name": "python3",
      "display_name": "Python 3"
    },
    "language_info": {
      "name": "python"
    }
  },
  "cells": [
    {
      "cell_type": "markdown",
      "metadata": {
        "id": "view-in-github",
        "colab_type": "text"
      },
      "source": [
        "<a href=\"https://colab.research.google.com/github/byambaa1982/python_cources_for_beginers/blob/main/5_lists_tuples_dictionaries_sets/dictionary.ipynb\" target=\"_parent\"><img src=\"https://colab.research.google.com/assets/colab-badge.svg\" alt=\"Open In Colab\"/></a>"
      ]
    },
    {
      "cell_type": "code",
      "execution_count": null,
      "metadata": {
        "id": "zU4GFgYozjBY"
      },
      "outputs": [],
      "source": []
    },
    {
      "cell_type": "markdown",
      "source": [
        "# What is a Dictionary in Python?\n",
        "\n",
        "\n",
        "A dictionary in Python is like a box where you can store pairs of items. Each pair has a key and a value. Think of the key as a word and the value as the definition or information about that word."
      ],
      "metadata": {
        "id": "nwLPBNiozvJQ"
      }
    },
    {
      "cell_type": "code",
      "source": [
        "a_sting = \"name\""
      ],
      "metadata": {
        "id": "fEXU6kKPzzh9"
      },
      "execution_count": null,
      "outputs": []
    },
    {
      "cell_type": "code",
      "source": [
        "34"
      ],
      "metadata": {
        "colab": {
          "base_uri": "https://localhost:8080/"
        },
        "id": "3UW-uzbd2Bv2",
        "outputId": "60a64b96-42bf-46e1-af7d-f069ae8817a7"
      },
      "execution_count": null,
      "outputs": [
        {
          "output_type": "execute_result",
          "data": {
            "text/plain": [
              "34"
            ]
          },
          "metadata": {},
          "execution_count": 2
        }
      ]
    },
    {
      "cell_type": "code",
      "source": [
        "4.5"
      ],
      "metadata": {
        "colab": {
          "base_uri": "https://localhost:8080/"
        },
        "id": "nDtI5OJT2Fcl",
        "outputId": "87d85001-d657-478f-bcea-570862d1024b"
      },
      "execution_count": null,
      "outputs": [
        {
          "output_type": "execute_result",
          "data": {
            "text/plain": [
              "4.5"
            ]
          },
          "metadata": {},
          "execution_count": 3
        }
      ]
    },
    {
      "cell_type": "code",
      "source": [
        "a_list = [3, 3, 5, \"string\"]"
      ],
      "metadata": {
        "id": "iu7LmLf42Kts"
      },
      "execution_count": null,
      "outputs": []
    },
    {
      "cell_type": "code",
      "source": [
        "person = {'age': 42, 'name': 'Byamba', 'height': 181.3, 'hobby': ['reading ', 'walking ', 'playing chess']}"
      ],
      "metadata": {
        "id": "5LVHVdvs2Sxc"
      },
      "execution_count": null,
      "outputs": []
    },
    {
      "cell_type": "code",
      "source": [
        "print(f\"My name is {person['name']}. I am {person['age']} old. My height is {person['height']} cm. Also, my hobbies are {person['hobby'][0]}, {person['hobby'][1]}, and {person['hobby'][2]}\")"
      ],
      "metadata": {
        "colab": {
          "base_uri": "https://localhost:8080/"
        },
        "id": "KcqD18KM2jnN",
        "outputId": "ac24f305-0b74-4682-f094-d9453f0768ab"
      },
      "execution_count": null,
      "outputs": [
        {
          "output_type": "stream",
          "name": "stdout",
          "text": [
            "My name is Byamba. I am 42 old. My height is 181.3 cm. Also, my hobbies are reading , walking , and playing chess\n"
          ]
        }
      ]
    },
    {
      "cell_type": "markdown",
      "source": [
        "# Let's extend the dictionary"
      ],
      "metadata": {
        "id": "DQrC1zmQ5f4Z"
      }
    },
    {
      "cell_type": "code",
      "source": [
        "person = {\n",
        "    'age': 42,\n",
        "    'name': 'Byamba',\n",
        "    'height': 181.3,\n",
        "    'hobby': ['reading ', 'walking ', 'playing chess'],\n",
        "    'car_details': {\n",
        "              'brand': 'Toyota',\n",
        "              'model': 'Camry',\n",
        "              'year': 2023,\n",
        "              'color': 'Silver',\n",
        "              'features': ['GPS Navigation', 'Leather Seats', 'Sunroof']\n",
        "              }\n",
        "    }"
      ],
      "metadata": {
        "id": "nJAtra8O5oaU"
      },
      "execution_count": 7,
      "outputs": []
    },
    {
      "cell_type": "code",
      "source": [
        "print(person['car_details']['brand'])"
      ],
      "metadata": {
        "id": "FRI74jtX_5gb",
        "outputId": "617ca3ef-0c1e-4a03-ad77-0b0a8bd8754a",
        "colab": {
          "base_uri": "https://localhost:8080/"
        }
      },
      "execution_count": null,
      "outputs": [
        {
          "output_type": "stream",
          "name": "stdout",
          "text": [
            "Toyota\n"
          ]
        }
      ]
    },
    {
      "cell_type": "code",
      "source": [],
      "metadata": {
        "id": "tK8Klgz0A_1L"
      },
      "execution_count": null,
      "outputs": []
    },
    {
      "cell_type": "markdown",
      "source": [
        "# List, Dictionary, f String, loop, and Funtion\n",
        "\n",
        "## Subtitle"
      ],
      "metadata": {
        "id": "nfGwWuZHBZzO"
      }
    },
    {
      "cell_type": "code",
      "source": [
        "def my_name(person):\n",
        "  print(f\"My is {person['name']}\")"
      ],
      "metadata": {
        "id": "FGdCpjI4Mohu"
      },
      "execution_count": 24,
      "outputs": []
    },
    {
      "cell_type": "code",
      "source": [
        "def my_age(person):\n",
        "  print(f\"My age is {person['age']}\")"
      ],
      "metadata": {
        "id": "wiIwpP6tBjfU"
      },
      "execution_count": 22,
      "outputs": []
    },
    {
      "cell_type": "code",
      "source": [
        "def my_hobby (person):\n",
        "  for hobby in person['hobby']:\n",
        "    print(f\"My favorite things to do is {hobby}\")"
      ],
      "metadata": {
        "id": "eK4P2Uy9E8Sl"
      },
      "execution_count": 23,
      "outputs": []
    },
    {
      "cell_type": "code",
      "source": [
        "people = [\n",
        "    {\n",
        "        'age': 15,\n",
        "        'name': 'Burentugs',\n",
        "        'height': 164,\n",
        "        'hobbies': ['playing', 'running', 'doing activities with friends']\n",
        "    },\n",
        "    {\n",
        "        'age': 12,\n",
        "        'name': 'Urangoo',\n",
        "        'height': 164,\n",
        "        'hobby': ['reading', 'playing games', 'drawing']\n",
        "    },\n",
        "    {\n",
        "        'age': 21,\n",
        "        'name': 'Kai',\n",
        "        'height': 175,\n",
        "        'hobbies': ['coding', 'playing guitar', 'gaming']\n",
        "    },\n",
        "    {\n",
        "        'age': 17,\n",
        "        'name': 'Lina',\n",
        "        'height': 160,\n",
        "        'hobbies': ['swimming', 'dancing', 'photography']\n",
        "    },\n",
        "    {\n",
        "        'age': 16,\n",
        "        'name': 'Zane',\n",
        "        'height': 180,\n",
        "        'hobbies': ['basketball', 'watching movies', 'travelling']\n",
        "    },\n",
        "    {\n",
        "        'age': 20,\n",
        "        'name': 'Mia',\n",
        "        'height': 165,\n",
        "        'hobbies': ['cooking', 'yoga', 'writing']\n",
        "    },\n",
        "    {\n",
        "        'age': 22,\n",
        "        'name': 'Ethan',\n",
        "        'height': 172,\n",
        "        'hobbies': ['football', 'cycling', 'reading']\n",
        "    },\n",
        "    {\n",
        "        'age': 19,\n",
        "        'name': 'Sofia',\n",
        "        'height': 168,\n",
        "        'hobbies': ['gardening', 'drawing', 'shopping']\n",
        "    },\n",
        "    {\n",
        "        'age': 15,\n",
        "        'name': 'Jin',\n",
        "        'height': 162,\n",
        "        'hobbies': ['gaming', 'skateboarding', 'listening to music']\n",
        "    },\n",
        "    {\n",
        "        'age': 18,\n",
        "        'name': 'Ava',\n",
        "        'height': 158,\n",
        "        'hobbies': ['baking', 'knitting', 'watching TV shows']\n",
        "    }\n",
        "]\n"
      ],
      "metadata": {
        "id": "BrnFUTPzHFcD"
      },
      "execution_count": 20,
      "outputs": []
    },
    {
      "cell_type": "code",
      "source": [
        "for person in people:\n",
        "  print(f\"{person['name']} is {person['age']} year old.\")"
      ],
      "metadata": {
        "id": "3-FI3goKMhE4",
        "outputId": "fa1d6243-94fa-4956-f91f-0e312c4153b1",
        "colab": {
          "base_uri": "https://localhost:8080/"
        }
      },
      "execution_count": 29,
      "outputs": [
        {
          "output_type": "stream",
          "name": "stdout",
          "text": [
            "Burentugs is 15 year old.\n",
            "Urangoo is 12 year old.\n",
            "Kai is 21 year old.\n",
            "Lina is 17 year old.\n",
            "Zane is 16 year old.\n",
            "Mia is 20 year old.\n",
            "Ethan is 22 year old.\n",
            "Sofia is 19 year old.\n",
            "Jin is 15 year old.\n",
            "Ava is 18 year old.\n"
          ]
        }
      ]
    },
    {
      "cell_type": "code",
      "source": [],
      "metadata": {
        "id": "OO4RKcFYM0JW"
      },
      "execution_count": null,
      "outputs": []
    }
  ]
}