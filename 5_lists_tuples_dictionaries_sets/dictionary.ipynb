{
  "nbformat": 4,
  "nbformat_minor": 0,
  "metadata": {
    "colab": {
      "provenance": [],
      "include_colab_link": true
    },
    "kernelspec": {
      "name": "python3",
      "display_name": "Python 3"
    },
    "language_info": {
      "name": "python"
    }
  },
  "cells": [
    {
      "cell_type": "markdown",
      "metadata": {
        "id": "view-in-github",
        "colab_type": "text"
      },
      "source": [
        "<a href=\"https://colab.research.google.com/github/byambaa1982/python_cources_for_beginers/blob/class_zero_urangoo/5_lists_tuples_dictionaries_sets/dictionary.ipynb\" target=\"_parent\"><img src=\"https://colab.research.google.com/assets/colab-badge.svg\" alt=\"Open In Colab\"/></a>"
      ]
    },
    {
      "cell_type": "code",
      "execution_count": null,
      "metadata": {
        "id": "zU4GFgYozjBY"
      },
      "outputs": [],
      "source": []
    },
    {
      "cell_type": "markdown",
      "source": [
        "# What is a Dictionary in Python?\n",
        "\n",
        "\n",
        "A dictionary in Python is like a box where you can store pairs of items. Each pair has a key and a value. Think of the key as a word and the value as the definition or information about that word."
      ],
      "metadata": {
        "id": "nwLPBNiozvJQ"
      }
    },
    {
      "cell_type": "code",
      "source": [
        "a_sting = \"name\""
      ],
      "metadata": {
        "id": "fEXU6kKPzzh9"
      },
      "execution_count": null,
      "outputs": []
    },
    {
      "cell_type": "code",
      "source": [
        "34"
      ],
      "metadata": {
        "colab": {
          "base_uri": "https://localhost:8080/"
        },
        "id": "3UW-uzbd2Bv2",
        "outputId": "60a64b96-42bf-46e1-af7d-f069ae8817a7"
      },
      "execution_count": null,
      "outputs": [
        {
          "output_type": "execute_result",
          "data": {
            "text/plain": [
              "34"
            ]
          },
          "metadata": {},
          "execution_count": 2
        }
      ]
    },
    {
      "cell_type": "code",
      "source": [
        "4.5"
      ],
      "metadata": {
        "colab": {
          "base_uri": "https://localhost:8080/"
        },
        "id": "nDtI5OJT2Fcl",
        "outputId": "87d85001-d657-478f-bcea-570862d1024b"
      },
      "execution_count": null,
      "outputs": [
        {
          "output_type": "execute_result",
          "data": {
            "text/plain": [
              "4.5"
            ]
          },
          "metadata": {},
          "execution_count": 3
        }
      ]
    },
    {
      "cell_type": "code",
      "source": [
        "a_list = [3, 3, 5, \"string\"]"
      ],
      "metadata": {
        "id": "iu7LmLf42Kts"
      },
      "execution_count": null,
      "outputs": []
    },
    {
      "cell_type": "code",
      "source": [
        "person = {'age': 12, 'name': 'Urangoo', 'height': 163, 'hobby': ['play games', 'watch movie', 'draw']}"
      ],
      "metadata": {
        "id": "5LVHVdvs2Sxc"
      },
      "execution_count": null,
      "outputs": []
    },
    {
      "cell_type": "code",
      "source": [
        "person['age']"
      ],
      "metadata": {
        "colab": {
          "base_uri": "https://localhost:8080/"
        },
        "id": "KcqD18KM2jnN",
        "outputId": "1a28464c-ab44-40ce-9767-996d26807dcf"
      },
      "execution_count": null,
      "outputs": [
        {
          "output_type": "execute_result",
          "data": {
            "text/plain": [
              "12"
            ]
          },
          "metadata": {},
          "execution_count": 2
        }
      ]
    },
    {
      "cell_type": "code",
      "source": [
        "person['name']"
      ],
      "metadata": {
        "colab": {
          "base_uri": "https://localhost:8080/",
          "height": 35
        },
        "id": "9ARWUeqE23iL",
        "outputId": "edf7e0db-3a69-469f-956c-b2279b2f47fd"
      },
      "execution_count": null,
      "outputs": [
        {
          "output_type": "execute_result",
          "data": {
            "text/plain": [
              "'Urangoo'"
            ],
            "application/vnd.google.colaboratory.intrinsic+json": {
              "type": "string"
            }
          },
          "metadata": {},
          "execution_count": 3
        }
      ]
    },
    {
      "cell_type": "code",
      "source": [
        "person['hobby']"
      ],
      "metadata": {
        "colab": {
          "base_uri": "https://localhost:8080/"
        },
        "id": "rmOy6IW026gT",
        "outputId": "45f9efbb-2bb5-4c35-ca23-b560b9c13210"
      },
      "execution_count": null,
      "outputs": [
        {
          "output_type": "execute_result",
          "data": {
            "text/plain": [
              "['play games', 'watch movie', 'draw']"
            ]
          },
          "metadata": {},
          "execution_count": 4
        }
      ]
    },
    {
      "cell_type": "code",
      "source": [
        "movie = {'name': 'Corpse Bride', 'when made': 2006, 'author': 'Tim Burton', 'actors': ['Johnny Depp', 'Helena Bonham Carter', 'Danny Elfman']}"
      ],
      "metadata": {
        "id": "8FoMsf6t50EM"
      },
      "execution_count": null,
      "outputs": []
    },
    {
      "cell_type": "code",
      "source": [
        "movie['name']"
      ],
      "metadata": {
        "colab": {
          "base_uri": "https://localhost:8080/",
          "height": 35
        },
        "id": "SO0Mz01Z6ReR",
        "outputId": "031f9c9a-b7df-4e9d-a856-3c6c0da8843f"
      },
      "execution_count": null,
      "outputs": [
        {
          "output_type": "execute_result",
          "data": {
            "text/plain": [
              "'Corpse Bride'"
            ],
            "application/vnd.google.colaboratory.intrinsic+json": {
              "type": "string"
            }
          },
          "metadata": {},
          "execution_count": 6
        }
      ]
    },
    {
      "cell_type": "code",
      "source": [
        "movie['when made']"
      ],
      "metadata": {
        "colab": {
          "base_uri": "https://localhost:8080/"
        },
        "id": "gk3LnaUs6VH9",
        "outputId": "40d4fb7a-23b3-4ff1-cc64-e6dc4836accf"
      },
      "execution_count": null,
      "outputs": [
        {
          "output_type": "execute_result",
          "data": {
            "text/plain": [
              "2006"
            ]
          },
          "metadata": {},
          "execution_count": 7
        }
      ]
    },
    {
      "cell_type": "code",
      "source": [
        "movie['author']"
      ],
      "metadata": {
        "colab": {
          "base_uri": "https://localhost:8080/",
          "height": 35
        },
        "id": "Ymf6XM6X6Ymf",
        "outputId": "09c50cb8-aa49-4b13-891e-10fc813cf8bd"
      },
      "execution_count": null,
      "outputs": [
        {
          "output_type": "execute_result",
          "data": {
            "text/plain": [
              "'Tim Burton'"
            ],
            "application/vnd.google.colaboratory.intrinsic+json": {
              "type": "string"
            }
          },
          "metadata": {},
          "execution_count": 8
        }
      ]
    },
    {
      "cell_type": "code",
      "source": [
        "movie['actors']"
      ],
      "metadata": {
        "colab": {
          "base_uri": "https://localhost:8080/"
        },
        "id": "dD3rlCE88Rta",
        "outputId": "74e986f2-b935-4073-e2f2-ef2d29dccdd8"
      },
      "execution_count": null,
      "outputs": [
        {
          "output_type": "execute_result",
          "data": {
            "text/plain": [
              "['Johnny Depp', 'Helena Bonham Carter', 'Danny Elfman']"
            ]
          },
          "metadata": {},
          "execution_count": 20
        }
      ]
    },
    {
      "cell_type": "code",
      "source": [
        "person_info = {\n",
        "    'name': 'Alice',\n",
        "    'age': 30,\n",
        "    'city': 'New York',\n",
        "    'skills': ['Python', 'JavaScript', 'SQL'],\n",
        "    'is_student': False\n",
        "}\n",
        "\n",
        "car_details = {\n",
        "    'brand': 'Toyota',\n",
        "    'model': 'Camry',\n",
        "    'year': 2023,\n",
        "    'color': 'Silver',\n",
        "    'features': ['GPS Navigation', 'Leather Seats', 'Sunroof']\n",
        "}\n",
        "\n",
        "# Using f-strings with print statements\n",
        "print(f\"{person_info['name']} is {person_info['age']} years old and lives in {person_info['city']}.\")\n",
        "print(f\"Skills: {', '.join(person_info['skills'])}\")\n",
        "print(f\"Is a student? {'Yes' if person_info['is_student'] else 'No'}\")\n",
        "\n",
        "print(f\"\\nThe {car_details['brand']} {car_details['model']} is a {car_details['year']} model in {car_details['color']} color.\")\n",
        "print(f\"Features: {', '.join(car_details['features'])}\")\n"
      ],
      "metadata": {
        "id": "D0FlJyj1AASm",
        "outputId": "a87ce2d5-f571-4382-8939-ab6ff950024b",
        "colab": {
          "base_uri": "https://localhost:8080/"
        }
      },
      "execution_count": null,
      "outputs": [
        {
          "output_type": "stream",
          "name": "stdout",
          "text": [
            "Alice is 30 years old and lives in New York.\n",
            "Skills: Python, JavaScript, SQL\n",
            "Is a student? No\n",
            "\n",
            "The Toyota Camry is a 2023 model in Silver color.\n",
            "Features: GPS Navigation, Leather Seats, Sunroof\n"
          ]
        }
      ]
    },
    {
      "cell_type": "code",
      "source": [
        "#2. at least two dictionary with 4 to 5 keys, at lease one key has a list values\n",
        "\n",
        "person_info = {\n",
        "    'name': 'Alice',\n",
        "    'age': 30,\n",
        "    'city': 'New York',\n",
        "    'skills': ['Python', 'JavaScript', 'SQL']}\n",
        "for skill in person_info['skills']:\n",
        "    print(skill)"
      ],
      "metadata": {
        "id": "1vIP68XDAA-C",
        "colab": {
          "base_uri": "https://localhost:8080/"
        },
        "outputId": "fe763be4-3cf2-4321-ec80-afaf6837b5b1"
      },
      "execution_count": 11,
      "outputs": [
        {
          "output_type": "stream",
          "name": "stdout",
          "text": [
            "Python\n",
            "JavaScript\n",
            "SQL\n"
          ]
        }
      ]
    },
    {
      "cell_type": "code",
      "source": [
        "car_details = {\n",
        "    'brand': 'Toyota',\n",
        "    'model': 'Camry',\n",
        "    'year': 2023,\n",
        "    'color': 'Silver',\n",
        "    'features': ['GPS Navigation', 'Leather Seats', 'Sunroof']}\n",
        "for feature in car_details['features']:\n",
        "      print(feature)"
      ],
      "metadata": {
        "colab": {
          "base_uri": "https://localhost:8080/"
        },
        "id": "oEMi41r28vrl",
        "outputId": "03e0672f-2158-4f7d-fb97-409456b005cd"
      },
      "execution_count": 17,
      "outputs": [
        {
          "output_type": "stream",
          "name": "stdout",
          "text": [
            "GPS Navigation\n",
            "Leather Seats\n",
            "Sunroof\n"
          ]
        }
      ]
    },
    {
      "cell_type": "code",
      "source": [
        "print(car_details['features'][-2])"
      ],
      "metadata": {
        "colab": {
          "base_uri": "https://localhost:8080/"
        },
        "id": "JWGac9Qu_ImJ",
        "outputId": "22867b69-d7ae-4ffc-97f5-b21b2820bf1b"
      },
      "execution_count": 22,
      "outputs": [
        {
          "output_type": "stream",
          "name": "stdout",
          "text": [
            "Leather Seats\n"
          ]
        }
      ]
    },
    {
      "cell_type": "code",
      "source": [],
      "metadata": {
        "id": "J1l5B3jKBgL_"
      },
      "execution_count": null,
      "outputs": []
    },
    {
      "cell_type": "code",
      "source": [
        "\n",
        "#3. Do the same thing with following"
      ],
      "metadata": {
        "id": "KuRQqOaqAD1G"
      },
      "execution_count": null,
      "outputs": []
    },
    {
      "cell_type": "code",
      "source": [
        "for i in person['hobby']:\n",
        "  print(f\"My hobby is {i}\")"
      ],
      "metadata": {
        "id": "Nsjx-h6rAGe2",
        "outputId": "b654ddbf-0308-44c1-ec0a-56e9b3ec208e",
        "colab": {
          "base_uri": "https://localhost:8080/"
        }
      },
      "execution_count": null,
      "outputs": [
        {
          "output_type": "stream",
          "name": "stdout",
          "text": [
            "My hobby is play games\n",
            "My hobby is watch movie\n",
            "My hobby is draw\n"
          ]
        }
      ]
    },
    {
      "cell_type": "code",
      "source": [
        "person = {\n",
        "    'age': 42,\n",
        "    'name': 'Byamba',\n",
        "    'height': 181.3,\n",
        "    'hobby': ['reading ', 'walking ', 'playing chess'],\n",
        "'Animal':\n",
        " {'Type': 'Frog',\n",
        "          'Habitat': 'Amphibian',\n",
        "          'Consumer': 'Carnivore',\n",
        "          'Skin': ['Striped', 'Colored', 'Wet']}\n",
        "}"
      ],
      "metadata": {
        "id": "obLit-Qb7blL"
      },
      "execution_count": 78,
      "outputs": []
    },
    {
      "cell_type": "code",
      "source": [
        "person"
      ],
      "metadata": {
        "colab": {
          "base_uri": "https://localhost:8080/"
        },
        "id": "eDx38REuCobH",
        "outputId": "eef42698-6cad-4daa-f438-a49c79a2c4cc"
      },
      "execution_count": 72,
      "outputs": [
        {
          "output_type": "execute_result",
          "data": {
            "text/plain": [
              "({'age': 12,\n",
              "  'name': 'Urangoo',\n",
              "  'height': 164,\n",
              "  'hobby': ['reading ', 'playing games', 'drawing']},)"
            ]
          },
          "metadata": {},
          "execution_count": 72
        }
      ]
    },
    {
      "cell_type": "code",
      "source": [
        "#1. print \"Colored\" and \"walking\" in sentence\n",
        "sentence = {'color': 'Colored', 'doing': 'waling'}"
      ],
      "metadata": {
        "id": "awVRLPyGEzii"
      },
      "execution_count": 65,
      "outputs": []
    },
    {
      "cell_type": "code",
      "source": [
        "print(f\"Today is a nice day i {person['color']} a picture with a Marker, and then i {person['doing']} to the park\")"
      ],
      "metadata": {
        "id": "Ht2fHBWLIPQr",
        "outputId": "be29c223-c551-4d8e-a987-fa0574f913b0",
        "colab": {
          "base_uri": "https://localhost:8080/",
          "height": 139
        }
      },
      "execution_count": 70,
      "outputs": [
        {
          "output_type": "error",
          "ename": "TypeError",
          "evalue": "tuple indices must be integers or slices, not str",
          "traceback": [
            "\u001b[0;31m---------------------------------------------------------------------------\u001b[0m",
            "\u001b[0;31mTypeError\u001b[0m                                 Traceback (most recent call last)",
            "\u001b[0;32m<ipython-input-70-8376dd54b3ce>\u001b[0m in \u001b[0;36m<cell line: 1>\u001b[0;34m()\u001b[0m\n\u001b[0;32m----> 1\u001b[0;31m \u001b[0mprint\u001b[0m\u001b[0;34m(\u001b[0m\u001b[0;34mf\"Today is a nice day i {person['color']} a picture with a Marker, and then i {person['doing']} to the park\"\u001b[0m\u001b[0;34m)\u001b[0m\u001b[0;34m\u001b[0m\u001b[0;34m\u001b[0m\u001b[0m\n\u001b[0m",
            "\u001b[0;31mTypeError\u001b[0m: tuple indices must be integers or slices, not str"
          ]
        }
      ]
    },
    {
      "cell_type": "code",
      "source": [
        "#2. loop hobby and skin and count letters\n",
        "print(person['hobby'])\n",
        "letter_count = len(person['hobby'])"
      ],
      "metadata": {
        "id": "rk6Vb5FsGCmT",
        "outputId": "60c76dd9-7807-49ed-a885-c36ec6a48f8a",
        "colab": {
          "base_uri": "https://localhost:8080/"
        }
      },
      "execution_count": 81,
      "outputs": [
        {
          "output_type": "stream",
          "name": "stdout",
          "text": [
            "['reading ', 'walking ', 'playing chess']\n"
          ]
        }
      ]
    },
    {
      "cell_type": "code",
      "source": [
        "letter_count = len(person['hobby'])\n",
        "print(f\"The hobbies {person['hobby']} has {letter_count} letters.\")"
      ],
      "metadata": {
        "id": "RMRWuEcxJ6te",
        "outputId": "bcd49d98-ee4c-4488-f719-b088b58a2c87",
        "colab": {
          "base_uri": "https://localhost:8080/"
        }
      },
      "execution_count": 87,
      "outputs": [
        {
          "output_type": "stream",
          "name": "stdout",
          "text": [
            "The hobbies ['reading ', 'walking ', 'playing chess'] has 3 letters.\n"
          ]
        }
      ]
    },
    {
      "cell_type": "code",
      "source": [
        "#3. change person dictionary values and create a function that print a whole text about your self.\n",
        "person = {\n",
        "    'age': 12,\n",
        "    'name': 'Urangoo',\n",
        "    'height': 164,\n",
        "    'hobby': ['reading ', 'playing games', 'drawing']},\n",
        "print(f\"Hello! My name is {'name'}.\")\n",
        "print(f\"i am {'age'} years old\")\n",
        "print(f\"i am {'height'} cm tall\")\n",
        "print(\"Here are a few things I like to do\")\n",
        "for hobbies in  person['hobby']:\n",
        "  print(hobbies)"
      ],
      "metadata": {
        "id": "n9yW0R2QGFRu",
        "outputId": "e64ed3bc-46fe-49bd-ab6f-af734b47c0ef",
        "colab": {
          "base_uri": "https://localhost:8080/",
          "height": 258
        }
      },
      "execution_count": 62,
      "outputs": [
        {
          "output_type": "stream",
          "name": "stdout",
          "text": [
            "Hello! My name is name.\n",
            "i am age years old\n",
            "i am height cm tall\n",
            "Here are a few things I like to do\n"
          ]
        },
        {
          "output_type": "error",
          "ename": "TypeError",
          "evalue": "tuple indices must be integers or slices, not str",
          "traceback": [
            "\u001b[0;31m---------------------------------------------------------------------------\u001b[0m",
            "\u001b[0;31mTypeError\u001b[0m                                 Traceback (most recent call last)",
            "\u001b[0;32m<ipython-input-62-7dc22c897fbc>\u001b[0m in \u001b[0;36m<cell line: 11>\u001b[0;34m()\u001b[0m\n\u001b[1;32m      9\u001b[0m \u001b[0mprint\u001b[0m\u001b[0;34m(\u001b[0m\u001b[0;34mf\"i am {'height'} cm tall\"\u001b[0m\u001b[0;34m)\u001b[0m\u001b[0;34m\u001b[0m\u001b[0;34m\u001b[0m\u001b[0m\n\u001b[1;32m     10\u001b[0m \u001b[0mprint\u001b[0m\u001b[0;34m(\u001b[0m\u001b[0;34m\"Here are a few things I like to do\"\u001b[0m\u001b[0;34m)\u001b[0m\u001b[0;34m\u001b[0m\u001b[0;34m\u001b[0m\u001b[0m\n\u001b[0;32m---> 11\u001b[0;31m \u001b[0;32mfor\u001b[0m \u001b[0mhobbies\u001b[0m \u001b[0;32min\u001b[0m  \u001b[0mperson\u001b[0m\u001b[0;34m[\u001b[0m\u001b[0;34m'hobby'\u001b[0m\u001b[0;34m]\u001b[0m\u001b[0;34m:\u001b[0m\u001b[0;34m\u001b[0m\u001b[0;34m\u001b[0m\u001b[0m\n\u001b[0m\u001b[1;32m     12\u001b[0m   \u001b[0mprint\u001b[0m\u001b[0;34m(\u001b[0m\u001b[0mhobbies\u001b[0m\u001b[0;34m)\u001b[0m\u001b[0;34m\u001b[0m\u001b[0;34m\u001b[0m\u001b[0m\n",
            "\u001b[0;31mTypeError\u001b[0m: tuple indices must be integers or slices, not str"
          ]
        }
      ]
    },
    {
      "cell_type": "code",
      "source": [
        "print(f\"My animal is {person['Animal']['Type']}\")"
      ],
      "metadata": {
        "id": "CCTmvvmjGJF8",
        "outputId": "52222093-fd14-4297-a3a6-3264147461ed",
        "colab": {
          "base_uri": "https://localhost:8080/"
        }
      },
      "execution_count": 49,
      "outputs": [
        {
          "output_type": "stream",
          "name": "stdout",
          "text": [
            "My animal is Frog\n"
          ]
        }
      ]
    }
  ]
}