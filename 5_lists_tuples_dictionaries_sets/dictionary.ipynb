{
  "nbformat": 4,
  "nbformat_minor": 0,
  "metadata": {
    "colab": {
      "provenance": [],
      "include_colab_link": true
    },
    "kernelspec": {
      "name": "python3",
      "display_name": "Python 3"
    },
    "language_info": {
      "name": "python"
    }
  },
  "cells": [
    {
      "cell_type": "markdown",
      "metadata": {
        "id": "view-in-github",
        "colab_type": "text"
      },
      "source": [
        "<a href=\"https://colab.research.google.com/github/byambaa1982/python_cources_for_beginers/blob/class_zero_urangoo/5_lists_tuples_dictionaries_sets/dictionary.ipynb\" target=\"_parent\"><img src=\"https://colab.research.google.com/assets/colab-badge.svg\" alt=\"Open In Colab\"/></a>"
      ]
    },
    {
      "cell_type": "code",
      "execution_count": null,
      "metadata": {
        "id": "zU4GFgYozjBY"
      },
      "outputs": [],
      "source": []
    },
    {
      "cell_type": "markdown",
      "source": [
        "# What is a Dictionary in Python?\n",
        "\n",
        "\n",
        "A dictionary in Python is like a box where you can store pairs of items. Each pair has a key and a value. Think of the key as a word and the value as the definition or information about that word."
      ],
      "metadata": {
        "id": "nwLPBNiozvJQ"
      }
    },
    {
      "cell_type": "code",
      "source": [
        "a_sting = \"name\""
      ],
      "metadata": {
        "id": "fEXU6kKPzzh9"
      },
      "execution_count": null,
      "outputs": []
    },
    {
      "cell_type": "code",
      "source": [
        "34"
      ],
      "metadata": {
        "colab": {
          "base_uri": "https://localhost:8080/"
        },
        "id": "3UW-uzbd2Bv2",
        "outputId": "60a64b96-42bf-46e1-af7d-f069ae8817a7"
      },
      "execution_count": null,
      "outputs": [
        {
          "output_type": "execute_result",
          "data": {
            "text/plain": [
              "34"
            ]
          },
          "metadata": {},
          "execution_count": 2
        }
      ]
    },
    {
      "cell_type": "code",
      "source": [
        "4.5"
      ],
      "metadata": {
        "colab": {
          "base_uri": "https://localhost:8080/"
        },
        "id": "nDtI5OJT2Fcl",
        "outputId": "87d85001-d657-478f-bcea-570862d1024b"
      },
      "execution_count": null,
      "outputs": [
        {
          "output_type": "execute_result",
          "data": {
            "text/plain": [
              "4.5"
            ]
          },
          "metadata": {},
          "execution_count": 3
        }
      ]
    },
    {
      "cell_type": "code",
      "source": [
        "a_list = [3, 3, 5, \"string\"]"
      ],
      "metadata": {
        "id": "iu7LmLf42Kts"
      },
      "execution_count": null,
      "outputs": []
    },
    {
      "cell_type": "code",
      "source": [
        "person = {'age': 12, 'name': 'Urangoo', 'height': 163, 'hobby': ['play games', 'watch movie', 'draw']}"
      ],
      "metadata": {
        "id": "5LVHVdvs2Sxc"
      },
      "execution_count": null,
      "outputs": []
    },
    {
      "cell_type": "code",
      "source": [
        "person['age']"
      ],
      "metadata": {
        "colab": {
          "base_uri": "https://localhost:8080/"
        },
        "id": "KcqD18KM2jnN",
        "outputId": "1a28464c-ab44-40ce-9767-996d26807dcf"
      },
      "execution_count": null,
      "outputs": [
        {
          "output_type": "execute_result",
          "data": {
            "text/plain": [
              "12"
            ]
          },
          "metadata": {},
          "execution_count": 2
        }
      ]
    },
    {
      "cell_type": "code",
      "source": [
        "person['name']"
      ],
      "metadata": {
        "colab": {
          "base_uri": "https://localhost:8080/",
          "height": 35
        },
        "id": "9ARWUeqE23iL",
        "outputId": "edf7e0db-3a69-469f-956c-b2279b2f47fd"
      },
      "execution_count": null,
      "outputs": [
        {
          "output_type": "execute_result",
          "data": {
            "text/plain": [
              "'Urangoo'"
            ],
            "application/vnd.google.colaboratory.intrinsic+json": {
              "type": "string"
            }
          },
          "metadata": {},
          "execution_count": 3
        }
      ]
    },
    {
      "cell_type": "code",
      "source": [
        "person['hobby']"
      ],
      "metadata": {
        "colab": {
          "base_uri": "https://localhost:8080/"
        },
        "id": "rmOy6IW026gT",
        "outputId": "45f9efbb-2bb5-4c35-ca23-b560b9c13210"
      },
      "execution_count": null,
      "outputs": [
        {
          "output_type": "execute_result",
          "data": {
            "text/plain": [
              "['play games', 'watch movie', 'draw']"
            ]
          },
          "metadata": {},
          "execution_count": 4
        }
      ]
    },
    {
      "cell_type": "code",
      "source": [
        "movie = {'name': 'Corpse Bride', 'when made': 2006, 'author': 'Tim Burton', 'actors': ['Johnny Depp', 'Helena Bonham Carter', 'Danny Elfman']}"
      ],
      "metadata": {
        "id": "8FoMsf6t50EM"
      },
      "execution_count": null,
      "outputs": []
    },
    {
      "cell_type": "code",
      "source": [
        "movie['name']"
      ],
      "metadata": {
        "colab": {
          "base_uri": "https://localhost:8080/",
          "height": 35
        },
        "id": "SO0Mz01Z6ReR",
        "outputId": "031f9c9a-b7df-4e9d-a856-3c6c0da8843f"
      },
      "execution_count": null,
      "outputs": [
        {
          "output_type": "execute_result",
          "data": {
            "text/plain": [
              "'Corpse Bride'"
            ],
            "application/vnd.google.colaboratory.intrinsic+json": {
              "type": "string"
            }
          },
          "metadata": {},
          "execution_count": 6
        }
      ]
    },
    {
      "cell_type": "code",
      "source": [
        "movie['when made']"
      ],
      "metadata": {
        "colab": {
          "base_uri": "https://localhost:8080/"
        },
        "id": "gk3LnaUs6VH9",
        "outputId": "40d4fb7a-23b3-4ff1-cc64-e6dc4836accf"
      },
      "execution_count": null,
      "outputs": [
        {
          "output_type": "execute_result",
          "data": {
            "text/plain": [
              "2006"
            ]
          },
          "metadata": {},
          "execution_count": 7
        }
      ]
    },
    {
      "cell_type": "code",
      "source": [
        "movie['author']"
      ],
      "metadata": {
        "colab": {
          "base_uri": "https://localhost:8080/",
          "height": 35
        },
        "id": "Ymf6XM6X6Ymf",
        "outputId": "09c50cb8-aa49-4b13-891e-10fc813cf8bd"
      },
      "execution_count": null,
      "outputs": [
        {
          "output_type": "execute_result",
          "data": {
            "text/plain": [
              "'Tim Burton'"
            ],
            "application/vnd.google.colaboratory.intrinsic+json": {
              "type": "string"
            }
          },
          "metadata": {},
          "execution_count": 8
        }
      ]
    },
    {
      "cell_type": "code",
      "source": [
        "movie['actors']"
      ],
      "metadata": {
        "colab": {
          "base_uri": "https://localhost:8080/"
        },
        "id": "dD3rlCE88Rta",
        "outputId": "74e986f2-b935-4073-e2f2-ef2d29dccdd8"
      },
      "execution_count": null,
      "outputs": [
        {
          "output_type": "execute_result",
          "data": {
            "text/plain": [
              "['Johnny Depp', 'Helena Bonham Carter', 'Danny Elfman']"
            ]
          },
          "metadata": {},
          "execution_count": 20
        }
      ]
    },
    {
      "cell_type": "code",
      "source": [
        "person_info = {\n",
        "    'name': 'Alice',\n",
        "    'age': 30,\n",
        "    'city': 'New York',\n",
        "    'skills': ['Python', 'JavaScript', 'SQL'],\n",
        "    'is_student': False\n",
        "}\n",
        "\n",
        "car_details = {\n",
        "    'brand': 'Toyota',\n",
        "    'model': 'Camry',\n",
        "    'year': 2023,\n",
        "    'color': 'Silver',\n",
        "    'features': ['GPS Navigation', 'Leather Seats', 'Sunroof']\n",
        "}\n",
        "\n",
        "# Using f-strings with print statements\n",
        "print(f\"{person_info['name']} is {person_info['age']} years old and lives in {person_info['city']}.\")\n",
        "print(f\"Skills: {', '.join(person_info['skills'])}\")\n",
        "print(f\"Is a student? {'Yes' if person_info['is_student'] else 'No'}\")\n",
        "\n",
        "print(f\"\\nThe {car_details['brand']} {car_details['model']} is a {car_details['year']} model in {car_details['color']} color.\")\n",
        "print(f\"Features: {', '.join(car_details['features'])}\")\n"
      ],
      "metadata": {
        "id": "D0FlJyj1AASm",
        "outputId": "a87ce2d5-f571-4382-8939-ab6ff950024b",
        "colab": {
          "base_uri": "https://localhost:8080/"
        }
      },
      "execution_count": null,
      "outputs": [
        {
          "output_type": "stream",
          "name": "stdout",
          "text": [
            "Alice is 30 years old and lives in New York.\n",
            "Skills: Python, JavaScript, SQL\n",
            "Is a student? No\n",
            "\n",
            "The Toyota Camry is a 2023 model in Silver color.\n",
            "Features: GPS Navigation, Leather Seats, Sunroof\n"
          ]
        }
      ]
    },
    {
      "cell_type": "code",
      "source": [
        "#2. at least two dictionary with 4 to 5 keys, at lease one key has a list values\n",
        "\n",
        "person_info = {\n",
        "    'name': 'Alice',\n",
        "    'age': 30,\n",
        "    'city': 'New York',\n",
        "    'skills': ['Python', 'JavaScript', 'SQL']}\n",
        "for skill in person_info['skills']:\n",
        "    print(skill)"
      ],
      "metadata": {
        "id": "1vIP68XDAA-C",
        "colab": {
          "base_uri": "https://localhost:8080/"
        },
        "outputId": "fe763be4-3cf2-4321-ec80-afaf6837b5b1"
      },
      "execution_count": null,
      "outputs": [
        {
          "output_type": "stream",
          "name": "stdout",
          "text": [
            "Python\n",
            "JavaScript\n",
            "SQL\n"
          ]
        }
      ]
    },
    {
      "cell_type": "code",
      "source": [
        "car_details = {\n",
        "    'brand': 'Toyota',\n",
        "    'model': 'Camry',\n",
        "    'year': 2023,\n",
        "    'color': 'Silver',\n",
        "    'features': ['GPS Navigation', 'Leather Seats', 'Sunroof']}\n",
        "for feature in car_details['features']:\n",
        "      print(feature)"
      ],
      "metadata": {
        "colab": {
          "base_uri": "https://localhost:8080/"
        },
        "id": "oEMi41r28vrl",
        "outputId": "03e0672f-2158-4f7d-fb97-409456b005cd"
      },
      "execution_count": null,
      "outputs": [
        {
          "output_type": "stream",
          "name": "stdout",
          "text": [
            "GPS Navigation\n",
            "Leather Seats\n",
            "Sunroof\n"
          ]
        }
      ]
    },
    {
      "cell_type": "code",
      "source": [
        "print(car_details['features'][-2])"
      ],
      "metadata": {
        "colab": {
          "base_uri": "https://localhost:8080/"
        },
        "id": "JWGac9Qu_ImJ",
        "outputId": "22867b69-d7ae-4ffc-97f5-b21b2820bf1b"
      },
      "execution_count": null,
      "outputs": [
        {
          "output_type": "stream",
          "name": "stdout",
          "text": [
            "Leather Seats\n"
          ]
        }
      ]
    },
    {
      "cell_type": "code",
      "source": [],
      "metadata": {
        "id": "J1l5B3jKBgL_"
      },
      "execution_count": null,
      "outputs": []
    },
    {
      "cell_type": "code",
      "source": [
        "\n",
        "#3. Do the same thing with following"
      ],
      "metadata": {
        "id": "KuRQqOaqAD1G"
      },
      "execution_count": null,
      "outputs": []
    },
    {
      "cell_type": "code",
      "source": [
        "for i in person['hobby']:\n",
        "  print(f\"My hobby is {i}\")"
      ],
      "metadata": {
        "id": "Nsjx-h6rAGe2",
        "outputId": "b654ddbf-0308-44c1-ec0a-56e9b3ec208e",
        "colab": {
          "base_uri": "https://localhost:8080/"
        }
      },
      "execution_count": null,
      "outputs": [
        {
          "output_type": "stream",
          "name": "stdout",
          "text": [
            "My hobby is play games\n",
            "My hobby is watch movie\n",
            "My hobby is draw\n"
          ]
        }
      ]
    },
    {
      "cell_type": "code",
      "source": [
        "person = {\n",
        "    'age': 42,\n",
        "    'name': 'Byamba',\n",
        "    'height': 181.3,\n",
        "    'hobby': ['reading ', 'walking ', 'playing chess'],\n",
        "    'Animal':\n",
        "    {'Type': 'Frog',\n",
        "              'Habitat': 'Amphibian',\n",
        "              'Consumer': 'Carnivore',\n",
        "              'Skin': ['Striped', 'Colored', 'Wet']}\n",
        "    }"
      ],
      "metadata": {
        "id": "obLit-Qb7blL"
      },
      "execution_count": null,
      "outputs": []
    },
    {
      "cell_type": "code",
      "source": [
        "person['Animal']['Skin'][1]"
      ],
      "metadata": {
        "colab": {
          "base_uri": "https://localhost:8080/",
          "height": 35
        },
        "id": "eDx38REuCobH",
        "outputId": "af6141c7-7c49-4f86-a66b-12400c73e488"
      },
      "execution_count": null,
      "outputs": [
        {
          "output_type": "execute_result",
          "data": {
            "text/plain": [
              "'Colored'"
            ],
            "application/vnd.google.colaboratory.intrinsic+json": {
              "type": "string"
            }
          },
          "metadata": {},
          "execution_count": 26
        }
      ]
    },
    {
      "cell_type": "code",
      "source": [
        "#1. print \"Colored\" and \"walking\" in sentence\n",
        "sentence = {'color': 'Colored', 'doing': 'waling'}"
      ],
      "metadata": {
        "id": "awVRLPyGEzii"
      },
      "execution_count": null,
      "outputs": []
    },
    {
      "cell_type": "code",
      "source": [
        "print(f\"Today is a nice day i {person['Animal']['Skin'][1]} a picture with a Marker, and then i am {person['hobby'][1]} to the park\")"
      ],
      "metadata": {
        "id": "Ht2fHBWLIPQr",
        "outputId": "1b2d1a64-3b49-4777-cbef-b130c200478f",
        "colab": {
          "base_uri": "https://localhost:8080/"
        }
      },
      "execution_count": null,
      "outputs": [
        {
          "output_type": "stream",
          "name": "stdout",
          "text": [
            "Today is a nice day i Colored a picture with a Marker, and then i walking  to the park\n"
          ]
        }
      ]
    },
    {
      "cell_type": "code",
      "source": [
        "#2. loop hobby and skin and count letters\n",
        "print(person['hobby'])\n",
        "letter_count = len(person['hobby'])"
      ],
      "metadata": {
        "id": "rk6Vb5FsGCmT",
        "outputId": "60c76dd9-7807-49ed-a885-c36ec6a48f8a",
        "colab": {
          "base_uri": "https://localhost:8080/"
        }
      },
      "execution_count": null,
      "outputs": [
        {
          "output_type": "stream",
          "name": "stdout",
          "text": [
            "['reading ', 'walking ', 'playing chess']\n"
          ]
        }
      ]
    },
    {
      "cell_type": "code",
      "source": [
        "letter_count = len(person['hobby'])\n",
        "print(f\"The hobbies {person['hobby']} has {letter_count} letters.\")"
      ],
      "metadata": {
        "id": "RMRWuEcxJ6te",
        "outputId": "bcd49d98-ee4c-4488-f719-b088b58a2c87",
        "colab": {
          "base_uri": "https://localhost:8080/"
        }
      },
      "execution_count": null,
      "outputs": [
        {
          "output_type": "stream",
          "name": "stdout",
          "text": [
            "The hobbies ['reading ', 'walking ', 'playing chess'] has 3 letters.\n"
          ]
        }
      ]
    },
    {
      "cell_type": "code",
      "source": [
        "#3. change person dictionary values and create a function that print a whole text about your self.\n",
        "person = {\n",
        "    'age': 12,\n",
        "    'name': 'Urangoo',\n",
        "    'height': 164,\n",
        "    'hobby': ['reading', 'playing games', 'drawing'],\n",
        "    'Animal':\n",
        "            {'Type': 'Frog',\n",
        "                      'Habitat': 'Amphibian',\n",
        "                      'Consumer': 'Carnivore',\n",
        "                      'Skin': ['Striped', 'Colored', 'Wet']}\n",
        "    }\n",
        "\n",
        "\n",
        "print(f\"Hello! My name is {'name'}.\")\n",
        "print(f\"i am {'age'} years old\")\n",
        "print(f\"i am {'height'} cm tall\")\n",
        "print(\"Here are a few things I like to do\")\n"
      ],
      "metadata": {
        "id": "n9yW0R2QGFRu",
        "outputId": "c0b15a03-7a2b-4a1c-fcab-8755906983bf",
        "colab": {
          "base_uri": "https://localhost:8080/"
        }
      },
      "execution_count": null,
      "outputs": [
        {
          "output_type": "stream",
          "name": "stdout",
          "text": [
            "Hello! My name is name.\n",
            "i am age years old\n",
            "i am height cm tall\n",
            "Here are a few things I like to do\n"
          ]
        }
      ]
    },
    {
      "cell_type": "code",
      "source": [
        "for hobbies in  person['hobby']:\n",
        "  print(hobbies)"
      ],
      "metadata": {
        "colab": {
          "base_uri": "https://localhost:8080/"
        },
        "id": "1-OSXdgH_sRd",
        "outputId": "e4930666-a07b-49e0-b26d-f9c359f83a4f"
      },
      "execution_count": null,
      "outputs": [
        {
          "output_type": "stream",
          "name": "stdout",
          "text": [
            "reading\n",
            "playing games\n",
            "drawing\n"
          ]
        }
      ]
    },
    {
      "cell_type": "code",
      "source": [
        "print(f\"My animal is {person['Animal']['Type']}\")"
      ],
      "metadata": {
        "id": "CCTmvvmjGJF8",
        "outputId": "5503cf4c-24d0-418f-811d-4e3dc63504a2",
        "colab": {
          "base_uri": "https://localhost:8080/"
        }
      },
      "execution_count": null,
      "outputs": [
        {
          "output_type": "stream",
          "name": "stdout",
          "text": [
            "My animal is Frog\n"
          ]
        }
      ]
    },
    {
      "cell_type": "markdown",
      "source": [
        "#list, dictionary, f string, loop, and funtion"
      ],
      "metadata": {
        "id": "gO40n7-ZB4JZ"
      }
    },
    {
      "cell_type": "code",
      "source": [
        "def my_age (person):\n",
        "  print(f\"My age is {person['age']}\")"
      ],
      "metadata": {
        "id": "_IXyIWUcDDPy"
      },
      "execution_count": null,
      "outputs": []
    },
    {
      "cell_type": "code",
      "source": [
        "my_age(person)"
      ],
      "metadata": {
        "colab": {
          "base_uri": "https://localhost:8080/"
        },
        "id": "WOzAI3qsFwZ-",
        "outputId": "b65d41b4-523e-41c3-e48b-a63b05345d23"
      },
      "execution_count": null,
      "outputs": [
        {
          "output_type": "stream",
          "name": "stdout",
          "text": [
            "My age is 12\n"
          ]
        }
      ]
    },
    {
      "cell_type": "code",
      "source": [
        "def my_hobbie (person):\n",
        "  for hobbies in person['hobby']:\n",
        "    print(f\"My favorite things to do is {hobbies}\")"
      ],
      "metadata": {
        "id": "-S25Lb9DGXDW"
      },
      "execution_count": null,
      "outputs": []
    },
    {
      "cell_type": "code",
      "source": [
        "my_hobbie(person)"
      ],
      "metadata": {
        "colab": {
          "base_uri": "https://localhost:8080/"
        },
        "id": "iUfZEGVmIDjT",
        "outputId": "3e10c64e-788c-4545-9d28-0deef647201d"
      },
      "execution_count": null,
      "outputs": [
        {
          "output_type": "stream",
          "name": "stdout",
          "text": [
            "My favorite things to do is reading\n",
            "My favorite things to do is playing games\n",
            "My favorite things to do is drawing\n"
          ]
        }
      ]
    },
    {
      "cell_type": "code",
      "source": [
        "\n",
        "people = [\n",
        "    {\n",
        "        'age': 15,\n",
        "        'name': 'Burentugs',\n",
        "        'height': 164,\n",
        "        'hobbies': ['playing', 'running', 'doing activities with friends']\n",
        "    },\n",
        "    {\n",
        "        'age': 12,\n",
        "        'name': 'Urangoo',\n",
        "        'height': 164,\n",
        "        'hobby': ['reading', 'playing games', 'drawing']\n",
        "    },\n",
        "    {\n",
        "        'age': 21,\n",
        "        'name': 'Kai',\n",
        "        'height': 175,\n",
        "        'hobbies': ['coding', 'playing guitar', 'gaming']\n",
        "    },\n",
        "    {\n",
        "        'age': 17,\n",
        "        'name': 'Lina',\n",
        "        'height': 160,\n",
        "        'hobbies': ['swimming', 'dancing', 'photography']\n",
        "    },\n",
        "    {\n",
        "        'age': 16,\n",
        "        'name': 'Zane',\n",
        "        'height': 180,\n",
        "        'hobbies': ['basketball', 'watching movies', 'travelling']\n",
        "    },\n",
        "    {\n",
        "        'age': 20,\n",
        "        'name': 'Mia',\n",
        "        'height': 165,\n",
        "        'hobbies': ['cooking', 'yoga', 'writing']\n",
        "    },\n",
        "    {\n",
        "        'age': 22,\n",
        "        'name': 'Ethan',\n",
        "        'height': 172,\n",
        "        'hobbies': ['football', 'cycling', 'reading']\n",
        "    },\n",
        "    {\n",
        "        'age': 19,\n",
        "        'name': 'Sofia',\n",
        "        'height': 168,\n",
        "        'hobbies': ['gardening', 'drawing', 'shopping']\n",
        "    },\n",
        "    {\n",
        "        'age': 15,\n",
        "        'name': 'Jin',\n",
        "        'height': 162,\n",
        "        'hobbies': ['gaming', 'skateboarding', 'listening to music']\n",
        "    },\n",
        "    {\n",
        "        'age': 18,\n",
        "        'name': 'Ava',\n",
        "        'height': 158,\n",
        "        'hobbies': ['baking', 'knitting', 'watching TV shows']\n",
        "    }\n",
        "]\n"
      ],
      "metadata": {
        "id": "qUPuRraJLyJy"
      },
      "execution_count": 35,
      "outputs": []
    },
    {
      "cell_type": "code",
      "source": [
        "\n",
        "for person in people:\n",
        "  print(f\"{person['name']} is {person['age']} year old.\")\n",
        ""
      ],
      "metadata": {
        "colab": {
          "base_uri": "https://localhost:8080/"
        },
        "id": "4xV8fProNjll",
        "outputId": "53a85b44-8644-473a-9218-6afd1a0d0722"
      },
      "execution_count": 36,
      "outputs": [
        {
          "output_type": "stream",
          "name": "stdout",
          "text": [
            "Burentugs is 15 year old.\n",
            "Urangoo is 12 year old.\n",
            "Kai is 21 year old.\n",
            "Lina is 17 year old.\n",
            "Zane is 16 year old.\n",
            "Mia is 20 year old.\n",
            "Ethan is 22 year old.\n",
            "Sofia is 19 year old.\n",
            "Jin is 15 year old.\n",
            "Ava is 18 year old.\n"
          ]
        }
      ]
    },
    {
      "cell_type": "code",
      "source": [
        "for person in people:\n",
        "  if person['age'] < 18:\n",
        "    print(f\"{person['name']} is {person['age']} year old.\")\n",
        "\n"
      ],
      "metadata": {
        "colab": {
          "base_uri": "https://localhost:8080/"
        },
        "id": "SHxiJcG1N5yO",
        "outputId": "d26370c7-d277-43c3-933c-5e0c5c41b887"
      },
      "execution_count": 45,
      "outputs": [
        {
          "output_type": "stream",
          "name": "stdout",
          "text": [
            "Burentugs is 15 year old.\n",
            "Urangoo is 12 year old.\n",
            "Lina is 17 year old.\n",
            "Zane is 16 year old.\n",
            "Jin is 15 year old.\n"
          ]
        }
      ]
    },
    {
      "cell_type": "code",
      "source": [
        "for person in people:\n",
        "  if person :\n",
        "    print(f\"{person['name']} is {person['age']} year old.\")"
      ],
      "metadata": {
        "id": "yAuFEVb0O7Jf",
        "outputId": "5959ba0e-e578-4b64-9ea3-7c5b8d971476",
        "colab": {
          "base_uri": "https://localhost:8080/"
        }
      },
      "execution_count": 49,
      "outputs": [
        {
          "output_type": "stream",
          "name": "stdout",
          "text": [
            "Burentugs is 15 year old.\n",
            "Urangoo is 12 year old.\n",
            "Kai is 21 year old.\n",
            "Lina is 17 year old.\n",
            "Zane is 16 year old.\n",
            "Mia is 20 year old.\n",
            "Ethan is 22 year old.\n",
            "Sofia is 19 year old.\n",
            "Jin is 15 year old.\n",
            "Ava is 18 year old.\n"
          ]
        }
      ]
    }
  ]
}