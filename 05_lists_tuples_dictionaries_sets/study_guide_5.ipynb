{
  "nbformat": 4,
  "nbformat_minor": 0,
  "metadata": {
    "colab": {
      "provenance": [],
      "authorship_tag": "ABX9TyOdTWLZmhA+6q6+RPOTWvmK",
      "include_colab_link": true
    },
    "kernelspec": {
      "name": "python3",
      "display_name": "Python 3"
    },
    "language_info": {
      "name": "python"
    }
  },
  "cells": [
    {
      "cell_type": "markdown",
      "metadata": {
        "id": "view-in-github",
        "colab_type": "text"
      },
      "source": [
        "<a href=\"https://colab.research.google.com/github/byambaa1982/python_cources_for_beginers/blob/main/5_lists_tuples_dictionaries_sets/Lists_Tuples_Sets.ipynb\" target=\"_parent\"><img src=\"https://colab.research.google.com/assets/colab-badge.svg\" alt=\"Open In Colab\"/></a>"
      ]
    },
    {
      "cell_type": "markdown",
      "source": [
        "## Lists: \n",
        "A list is a mutable, ordered collection of items. It allows you to add, remove, or modify elements after the list is created. Lists are dynamic in nature, which means their size can change during runtime. The items in a list can be of any data type, including other lists or tuples. Lists are created using square brackets [], and elements are separated by commas.\n",
        "\n",
        "### A simple exercise to help you understand Python lists. Let's create a program that performs various operations on a list of numbers.\n",
        "\n",
        "1. Create a list of numbers.\n",
        "2. Calculate the sum of all the numbers in the list.\n",
        "3. Find the maximum and minimum values in the list.\n",
        "4. Reverse the order of the list.\n",
        "5. Remove duplicates from the list."
      ],
      "metadata": {
        "id": "kkJ0d_V9zFxD"
      }
    },
    {
      "cell_type": "code",
      "execution_count": null,
      "metadata": {
        "id": "JFvlK-jmyteo"
      },
      "outputs": [],
      "source": [
        "# 1. Create a list of numbers\n",
        "numbers = [5, 3, 7, 2, 8, 3, 10, 5, 1, 8]"
      ]
    },
    {
      "cell_type": "code",
      "source": [
        "# 2. Calculate the sum of all the numbers in the list\n",
        "total = sum(numbers)\n",
        "print(\"Sum of all numbers:\", total)"
      ],
      "metadata": {
        "colab": {
          "base_uri": "https://localhost:8080/"
        },
        "id": "pXfAU_-Cy4jk",
        "outputId": "a556e2a3-cfee-45b0-ce26-3456b939c444"
      },
      "execution_count": null,
      "outputs": [
        {
          "output_type": "stream",
          "name": "stdout",
          "text": [
            "Sum of all numbers: 52\n"
          ]
        }
      ]
    },
    {
      "cell_type": "code",
      "source": [
        "# 3. Find the maximum and minimum values in the list\n",
        "maximum = max(numbers)\n",
        "minimum = min(numbers)\n",
        "print(\"Max value:\", maximum)\n",
        "print(\"Min value:\", minimum)"
      ],
      "metadata": {
        "colab": {
          "base_uri": "https://localhost:8080/"
        },
        "id": "6nflrR4my6dz",
        "outputId": "f90f9111-31d0-4751-80e2-c40a9bae1bbe"
      },
      "execution_count": null,
      "outputs": [
        {
          "output_type": "stream",
          "name": "stdout",
          "text": [
            "Max value: 10\n",
            "Min value: 1\n"
          ]
        }
      ]
    },
    {
      "cell_type": "code",
      "source": [
        "# 4. Reverse the order of the list\n",
        "numbers.reverse()\n",
        "print(\"Reversed list:\", numbers)"
      ],
      "metadata": {
        "colab": {
          "base_uri": "https://localhost:8080/"
        },
        "id": "xuuy5jvoy8N7",
        "outputId": "77c5b2b1-0de5-4267-96de-88ccf5897179"
      },
      "execution_count": null,
      "outputs": [
        {
          "output_type": "stream",
          "name": "stdout",
          "text": [
            "Reversed list: [8, 1, 5, 10, 3, 8, 2, 7, 3, 5]\n"
          ]
        }
      ]
    },
    {
      "cell_type": "code",
      "source": [
        "# 5. Remove duplicates from the list\n",
        "unique_numbers = list(set(numbers))\n",
        "print(\"List without duplicates:\", unique_numbers)"
      ],
      "metadata": {
        "colab": {
          "base_uri": "https://localhost:8080/"
        },
        "id": "RblW1LCjy-gb",
        "outputId": "19b6db61-2a95-4dbd-a7e7-12ef16cfea13"
      },
      "execution_count": null,
      "outputs": [
        {
          "output_type": "stream",
          "name": "stdout",
          "text": [
            "List without duplicates: [1, 2, 3, 5, 7, 8, 10]\n"
          ]
        }
      ]
    },
    {
      "cell_type": "code",
      "source": [
        "# Create a list of integers\n",
        "numbers = [1, 2, 3, 4, 5, 6, 7, 8, 9]\n",
        "\n",
        "# Initialize an empty list to store the updated numbers\n",
        "updated_numbers = []\n",
        "\n",
        "# Use a for loop to iterate over the original list\n",
        "for number in numbers:\n",
        "\n",
        "    # Check if the number is even\n",
        "    if number % 2 == 0:\n",
        "\n",
        "        # Double the value and append it to the new list\n",
        "        updated_numbers.append(number * 2)\n",
        "    else:\n",
        "\n",
        "        # Append the original number\n",
        "        updated_numbers.append(number)\n",
        "\n",
        "# Print the updated list\n",
        "print(\"Updated list:\", updated_numbers)"
      ],
      "metadata": {
        "id": "kvu1BgrtzBpT",
        "outputId": "c69df5db-2f38-4f50-b959-eac25c25881d",
        "colab": {
          "base_uri": "https://localhost:8080/"
        }
      },
      "execution_count": null,
      "outputs": [
        {
          "output_type": "stream",
          "name": "stdout",
          "text": [
            "Updated list: [1, 4, 3, 8, 5, 12, 7, 16, 9]\n"
          ]
        }
      ]
    },
    {
      "cell_type": "markdown",
      "source": [
        "### Exercises\n",
        "\n",
        "`Problem`: Square odd numbers and halve even numbers in a list\n",
        "\n",
        "Given a list of integers, create a new list that squares the value of every odd number in the original list and halves the value of every even number.\n",
        "\n",
        "1. Create a list of integers containing both positive and negative numbers.\n",
        "2. Initialize an empty list to store the updated numbers.\n",
        "3. Use a for loop to iterate over the original list.\n",
        "4. For each number, check if it's odd.\n",
        "5. If it's odd, square its value and append it to the new list; otherwise, halve the value and append it to the new list.\n",
        "6. Print the updated list."
      ],
      "metadata": {
        "id": "OLOczl303JR5"
      }
    },
    {
      "cell_type": "code",
      "source": [
        "# Problem: Square odd numbers and halve even numbers in a list\n",
        "\n",
        "# 1. Create a list of integers\n",
        "# ...\n",
        "\n",
        "# 2. Initialize an empty list to store the updated numbers\n",
        "# ...\n",
        "\n",
        "# 3. Use a for loop to iterate over the original list\n",
        "# ...\n",
        "\n",
        "# 4. Check if the number is odd\n",
        "# ...\n",
        "\n",
        "# 5. If it's odd, square its value and append it to the new list; otherwise, halve the value and append it to the new list\n",
        "# ...\n",
        "\n",
        "# 6. Print the updated list\n",
        "# ...\n",
        "\n",
        "# Output: ..."
      ],
      "metadata": {
        "id": "c5xzctFU3jXg"
      },
      "execution_count": null,
      "outputs": []
    },
    {
      "cell_type": "markdown",
      "source": [
        "## Tuples: \n",
        "A tuple is an immutable, ordered collection of items. Once a tuple is created, you cannot change its contents or size. Tuples are fixed-size and often used when you need an immutable sequence of values. Like lists, tuples can store items of any data type, including other lists or tuples. Tuples are created using parentheses () with elements separated by commas, or simply by separating elements with commas (without using parentheses).\n",
        "\n",
        "### A simple exercise to help you understand Python lists. Let's create a program that performs various operations on a list of numbers.\n",
        "\n",
        "1. Create a list of numbers.\n",
        "2. Calculate the sum of all the numbers in the list.\n",
        "3. Find the maximum and minimum values in the list.\n",
        "4. Reverse the order of the list.\n",
        "5. Remove duplicates from the list."
      ],
      "metadata": {
        "id": "fiybUnxu0nkK"
      }
    },
    {
      "cell_type": "code",
      "source": [
        "# 1. Create a tuple of different data types\n",
        "my_tuple = (42, 3.14, \"hello\", True, 42)\n",
        "\n"
      ],
      "metadata": {
        "id": "hHrIPOTT02mj"
      },
      "execution_count": null,
      "outputs": []
    },
    {
      "cell_type": "code",
      "source": [
        "# 2. Access elements in the tuple using indices\n",
        "print(\"First element:\", my_tuple[0])\n",
        "print(\"Second element:\", my_tuple[1])\n",
        "print(\"Last element:\", my_tuple[-1])\n",
        "\n"
      ],
      "metadata": {
        "id": "iTT6iCLU074B",
        "outputId": "d41ab71b-83a2-4ccf-9f03-c4b22c398a82",
        "colab": {
          "base_uri": "https://localhost:8080/"
        }
      },
      "execution_count": null,
      "outputs": [
        {
          "output_type": "stream",
          "name": "stdout",
          "text": [
            "First element: 42\n",
            "Second element: 3.14\n",
            "Last element: 42\n"
          ]
        }
      ]
    },
    {
      "cell_type": "code",
      "source": [
        "# 3. Calculate the length of the tuple\n",
        "length = len(my_tuple)\n",
        "print(\"Length of the tuple:\", length)\n"
      ],
      "metadata": {
        "id": "I766e8mC0-gr",
        "outputId": "dd8420fc-b9ce-45fd-a89d-785c90ed28ec",
        "colab": {
          "base_uri": "https://localhost:8080/"
        }
      },
      "execution_count": null,
      "outputs": [
        {
          "output_type": "stream",
          "name": "stdout",
          "text": [
            "Length of the tuple: 5\n"
          ]
        }
      ]
    },
    {
      "cell_type": "code",
      "source": [
        "\n",
        "# 4. Count the occurrences of a specific value in the tuple\n",
        "occurrences = my_tuple.count(42)\n",
        "print(\"Occurrences of 42 in the tuple:\", occurrences)\n",
        "\n"
      ],
      "metadata": {
        "id": "ccdFssiY1APD",
        "outputId": "a64b6c3e-c085-45df-fbc4-c2426a87451b",
        "colab": {
          "base_uri": "https://localhost:8080/"
        }
      },
      "execution_count": null,
      "outputs": [
        {
          "output_type": "stream",
          "name": "stdout",
          "text": [
            "Occurrences of 42 in the tuple: 2\n"
          ]
        }
      ]
    },
    {
      "cell_type": "code",
      "source": [
        "# 5. Find the index of a specific value in the tuple\n",
        "index = my_tuple.index(\"hello\")\n",
        "print(\"Index of 'hello' in the tuple:\", index)"
      ],
      "metadata": {
        "id": "2LoGygLm1CIz",
        "outputId": "54302f50-05f6-45ae-e81b-3ed016f2d46c",
        "colab": {
          "base_uri": "https://localhost:8080/"
        }
      },
      "execution_count": null,
      "outputs": [
        {
          "output_type": "stream",
          "name": "stdout",
          "text": [
            "Index of 'hello' in the tuple: 2\n"
          ]
        }
      ]
    },
    {
      "cell_type": "markdown",
      "source": [
        "### The main difference between lists and tuples in Python is their mutability:\n",
        "\n",
        "1. Mutability:\n",
        "\n",
        "- `Lists` are mutable, which means you can change their contents (add, remove, or modify elements) after they are created. They are dynamic data structures and their size can also be changed during runtime.\n",
        "- `Tuples` are immutable, which means once they are created, you cannot change their contents or size. Their elements and structure are fixed for the lifetime of the tuple.\n",
        "2. Syntax:\n",
        "\n",
        "- `Lists` are created using square brackets [] and elements are separated by commas. For example: my_list = [1, 2, 3].\n",
        "- `Tuples` are created using parentheses () with elements separated by commas, or simply by separating elements with commas (without using parentheses). For example: my_tuple = (1, 2, 3) or my_tuple = 1, 2, 3.\n",
        "3. Performance:\n",
        "\n",
        "- `Tuples` generally have a smaller memory footprint and better performance than lists for certain operations, such as iteration and access by index, due to their immutability. This makes them suitable for use as keys in dictionaries or elements in sets.\n",
        "- `Lists` are more flexible and versatile than tuples, but their mutability can lead to higher memory usage and slower performance for certain operations.\n",
        "\n",
        "\n",
        "In summary, you should choose to use a list when you need a mutable, dynamic data structure that can be modified during runtime, and a tuple when you need an immutable, fixed-size data structure for efficient operations and improved performance."
      ],
      "metadata": {
        "id": "f9csKZXs1m7k"
      }
    },
    {
      "cell_type": "code",
      "source": [],
      "metadata": {
        "id": "zjCSgBAX1DyD"
      },
      "execution_count": null,
      "outputs": []
    },
    {
      "cell_type": "markdown",
      "source": [
        "## Dictionary\n",
        "\n",
        "A Python dictionary is a mutable, unordered collection of key-value pairs, where each unique key is associated with a value. Dictionaries are implemented as hash tables, which provide fast access, insertion, and deletion of elements. They are a built-in data structure in Python and are commonly used for tasks such as counting, grouping, and organizing data, or for creating lookup tables.\n",
        "\n",
        "Here's an example of a Python dictionary:"
      ],
      "metadata": {
        "id": "ezkjsZzexk8T"
      }
    },
    {
      "cell_type": "markdown",
      "source": [],
      "metadata": {
        "id": "lYK3EOzz5W7I"
      }
    },
    {
      "cell_type": "code",
      "source": [
        "person = {\n",
        "    \"name\": \"Alice\",\n",
        "    \"age\": 30,\n",
        "    \"city\": \"New York\",\n",
        "    \"occupation\": \"Software Engineer\"\n",
        "}"
      ],
      "metadata": {
        "id": "NXlqolnAxpVR"
      },
      "execution_count": 1,
      "outputs": []
    },
    {
      "cell_type": "markdown",
      "source": [
        "In this example, the keys are \"name\", \"age\", \"city\", and \"occupation\", and their respective values are \"Alice\", 30, \"New York\", and \"Software Engineer\". To access the values, you can use the keys like this:"
      ],
      "metadata": {
        "id": "5SfmlE9SxuuK"
      }
    },
    {
      "cell_type": "code",
      "source": [
        "print(person[\"name\"])  # Output: Alice\n",
        "print(person[\"age\"])   # Output: 30"
      ],
      "metadata": {
        "colab": {
          "base_uri": "https://localhost:8080/"
        },
        "id": "xw7eR73MxrvS",
        "outputId": "d1aa431b-e391-4b2a-eb10-7870bf8e5ef6"
      },
      "execution_count": 2,
      "outputs": [
        {
          "output_type": "stream",
          "name": "stdout",
          "text": [
            "Alice\n",
            "30\n"
          ]
        }
      ]
    },
    {
      "cell_type": "code",
      "source": [
        "book = {\n",
        "    \"title\": \"To Kill a Mockingbird\",\n",
        "    \"author\": \"Harper Lee\",\n",
        "    \"year_published\": 1960,\n",
        "    \"genres\": [\"Southern Gothic\", \"Bildungsroman\"],\n",
        "    \"page_count\": 281\n",
        "}"
      ],
      "metadata": {
        "id": "Q6PCdXTDxzex"
      },
      "execution_count": 3,
      "outputs": []
    },
    {
      "cell_type": "code",
      "source": [
        "print(book[\"title\"])          # Output: To Kill a Mockingbird\n",
        "print(book[\"year_published\"]) # Output: 1960"
      ],
      "metadata": {
        "colab": {
          "base_uri": "https://localhost:8080/"
        },
        "id": "9a1ZoNULx-AZ",
        "outputId": "0bb4c4ee-8b1f-4eef-ce7a-b641cd5bcdda"
      },
      "execution_count": 4,
      "outputs": [
        {
          "output_type": "stream",
          "name": "stdout",
          "text": [
            "To Kill a Mockingbird\n",
            "1960\n"
          ]
        }
      ]
    },
    {
      "cell_type": "code",
      "source": [
        "key = \"publisher\"\n",
        "\n",
        "if key in book:\n",
        "    print(f\"{key}: {book[key]}\")\n",
        "else:\n",
        "    print(f\"{key} is not available in the book dictionary.\")"
      ],
      "metadata": {
        "colab": {
          "base_uri": "https://localhost:8080/"
        },
        "id": "vPSRkeP2x_6Z",
        "outputId": "02585b39-a86d-40fc-9026-6143a249d5d4"
      },
      "execution_count": 5,
      "outputs": [
        {
          "output_type": "stream",
          "name": "stdout",
          "text": [
            "publisher is not available in the book dictionary.\n"
          ]
        }
      ]
    },
    {
      "cell_type": "markdown",
      "source": [
        "Here's a simple function that uses a dictionary to store and retrieve a person's age based on their name:"
      ],
      "metadata": {
        "id": "7ySA_6jFyso8"
      }
    },
    {
      "cell_type": "code",
      "source": [
        "def get_age(people, name):\n",
        "    if name in people:\n",
        "        return f\"{name} is {people[name]} years old.\"\n",
        "    else:\n",
        "        return f\"{name} is not in the dictionary.\""
      ],
      "metadata": {
        "id": "RC3-AYdvyPio"
      },
      "execution_count": 6,
      "outputs": []
    },
    {
      "cell_type": "code",
      "source": [
        "people = {\n",
        "    \"Alice\": 30,\n",
        "    \"Bob\": 28,\n",
        "    \"Charlie\": 22\n",
        "}"
      ],
      "metadata": {
        "id": "pI-w4-pAyv74"
      },
      "execution_count": 7,
      "outputs": []
    },
    {
      "cell_type": "code",
      "source": [
        "name = \"Alice\"\n",
        "print(get_age(people, name))  # Output: Alice is 30 years old.\n",
        "\n",
        "name = \"David\"\n",
        "print(get_age(people, name))  # Output: David is not in the dictionary."
      ],
      "metadata": {
        "colab": {
          "base_uri": "https://localhost:8080/"
        },
        "id": "jXSUICETyxyn",
        "outputId": "bdd2c697-6222-4f9f-93e1-78c6b6e2e855"
      },
      "execution_count": 8,
      "outputs": [
        {
          "output_type": "stream",
          "name": "stdout",
          "text": [
            "Alice is 30 years old.\n",
            "David is not in the dictionary.\n"
          ]
        }
      ]
    },
    {
      "cell_type": "markdown",
      "source": [
        "## Exercise 1\n",
        "\n",
        "`Task`: Write a Python function called get_grade that takes a dictionary grades and a student's name as arguments. The function should return the grade of the student if their name is found in the dictionary, or a message indicating that the student's name is not in the dictionary if it isn't found.\n",
        "\n",
        "```python\n",
        "\n",
        "grades = {\n",
        "    \"Alice\": \"A\",\n",
        "    \"Bob\": \"B\",\n",
        "    \"Charlie\": \"C\"\n",
        "}\n",
        "\n",
        "```\n",
        "\n",
        "Example usage: \n",
        "\n",
        "```pythob\n",
        "print(get_grade(grades, \"Alice\"))     # Output: Alice's grade is A.\n",
        "print(get_grade(grades, \"David\"))     # Output: David is not in the dictionary.\n",
        "```\n",
        "\n",
        "```python\n",
        "def get_grade(grades, name):\n",
        "    # Your code here\n",
        "\n",
        "grades = {\n",
        "    \"Alice\": \"A\",\n",
        "    \"Bob\": \"B\",\n",
        "    \"Charlie\": \"C\"\n",
        "}\n",
        "\n",
        "name = \"Alice\"\n",
        "print(get_grade(grades, name))\n",
        "\n",
        "name = \"David\"\n",
        "print(get_grade(grades, name))\n",
        "```"
      ],
      "metadata": {
        "id": "Re0rXbZEzPQL"
      }
    },
    {
      "cell_type": "markdown",
      "source": [
        "## Exercise 2"
      ],
      "metadata": {
        "id": "seSQcoRRz_17"
      }
    },
    {
      "cell_type": "code",
      "source": [
        "def add_student(students, name, age):\n",
        "    # Your code here\n",
        "\n",
        "students = {\n",
        "    \"Alice\": 30,\n",
        "    \"Bob\": 28,\n",
        "    \"Charlie\": 22\n",
        "}\n",
        "\n",
        "name = \"David\"\n",
        "age = 25\n",
        "students = add_student(students, name, age)\n",
        "\n",
        "name = \"Alice\"\n",
        "age = 30\n",
        "students = add_student(students, name, age)\n",
        "\n",
        "print(students)"
      ],
      "metadata": {
        "id": "ZIrlKmevy29Z"
      },
      "execution_count": null,
      "outputs": []
    },
    {
      "cell_type": "markdown",
      "source": [
        "## Set\n",
        "\n",
        "A Python set is an unordered collection of unique elements, which means that each element can only appear once in a set. Sets are mutable, meaning that elements can be added or removed after the set is created. They are particularly useful when you need to remove duplicates from a sequence or check membership of elements efficiently.\n",
        "\n",
        "\n",
        "Here's an example of a Python set:"
      ],
      "metadata": {
        "id": "_8XKEQ-K5YPp"
      }
    },
    {
      "cell_type": "code",
      "source": [
        "animals = {\"cat\", \"dog\", \"elephant\", \"tiger\"}"
      ],
      "metadata": {
        "id": "SLnBxFJ25agn"
      },
      "execution_count": 9,
      "outputs": []
    },
    {
      "cell_type": "code",
      "source": [
        "animals.add(\"giraffe\")"
      ],
      "metadata": {
        "id": "Bqf2YFrU5j74"
      },
      "execution_count": 10,
      "outputs": []
    },
    {
      "cell_type": "code",
      "source": [
        "animals.remove(\"cat\")"
      ],
      "metadata": {
        "id": "xvkd13Rg5oS3"
      },
      "execution_count": 11,
      "outputs": []
    },
    {
      "cell_type": "code",
      "source": [
        "print(\"dog\" in animals)  # Output: True"
      ],
      "metadata": {
        "colab": {
          "base_uri": "https://localhost:8080/"
        },
        "id": "JAFmKm8K5p-A",
        "outputId": "2c3493b9-472b-4d27-9b36-48eaf910e113"
      },
      "execution_count": 12,
      "outputs": [
        {
          "output_type": "stream",
          "name": "stdout",
          "text": [
            "True\n"
          ]
        }
      ]
    },
    {
      "cell_type": "code",
      "source": [
        "set_a = {1, 2, 3, 4}\n",
        "set_b = {3, 4, 5, 6}\n",
        "\n",
        "union = set_a | set_b          # or set_a.union(set_b)\n",
        "intersection = set_a & set_b    # or set_a.intersection(set_b)\n",
        "difference = set_a - set_b      # or set_a.difference(set_b)"
      ],
      "metadata": {
        "id": "iW4dS0d85sC4"
      },
      "execution_count": 13,
      "outputs": []
    },
    {
      "cell_type": "markdown",
      "source": [
        "## Exercise 1: Remove duplicates from a list\n",
        "\n",
        "Given a list of numbers, create a new list with all the unique elements from the original list (i.e., remove all duplicates).\n",
        "\n",
        "Example:"
      ],
      "metadata": {
        "id": "JD0PK9nt6JLo"
      }
    },
    {
      "cell_type": "code",
      "source": [
        "original_list = [1, 2, 3, 4, 4, 5, 6, 7, 7, 8, 9]\n",
        "# Expected output: [1, 2, 3, 4, 5, 6, 7, 8, 9]"
      ],
      "metadata": {
        "id": "MRtLw5f65ugA"
      },
      "execution_count": null,
      "outputs": []
    },
    {
      "cell_type": "markdown",
      "source": [
        "## Exercise 2: Find common elements between two lists\n",
        "\n",
        "Given two lists of numbers, create a new list containing the common elements between the two lists (i.e., elements that appear in both lists).\n",
        "\n",
        "Example:"
      ],
      "metadata": {
        "id": "Mt5TKFa16Ngq"
      }
    },
    {
      "cell_type": "code",
      "source": [
        "list_a = [1, 2, 3, 4, 5]\n",
        "list_b = [4, 5, 6, 7, 8]\n",
        "# Expected output: [4, 5]"
      ],
      "metadata": {
        "id": "FIvJWEh16QoG"
      },
      "execution_count": 14,
      "outputs": []
    },
    {
      "cell_type": "code",
      "source": [],
      "metadata": {
        "id": "Qk-AJiLG6Swo"
      },
      "execution_count": null,
      "outputs": []
    }
  ]
}