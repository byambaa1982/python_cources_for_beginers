{
 "cells": [
  {
   "cell_type": "markdown",
   "id": "377b19ea",
   "metadata": {},
   "source": [
    "## 1. Integers:\n",
    "\n",
    "- Write a program that takes two integers as input, adds them, and prints the result."
   ]
  },
  {
   "cell_type": "code",
   "execution_count": null,
   "id": "f71fbec0",
   "metadata": {},
   "outputs": [],
   "source": []
  },
  {
   "cell_type": "markdown",
   "id": "95ceb5a1",
   "metadata": {},
   "source": [
    "## 2. Integers:\n",
    "\n",
    "- Write a program that takes two integers as input, adds them, and prints the result."
   ]
  },
  {
   "cell_type": "code",
   "execution_count": null,
   "id": "45bdbef2",
   "metadata": {},
   "outputs": [],
   "source": []
  },
  {
   "cell_type": "markdown",
   "id": "c93e3372",
   "metadata": {},
   "source": [
    "## 3. Strings:\n",
    "\n",
    "- Write a program that takes a string as input, reverses the string, and prints the reversed string."
   ]
  },
  {
   "cell_type": "code",
   "execution_count": null,
   "id": "d169389c",
   "metadata": {},
   "outputs": [],
   "source": []
  },
  {
   "cell_type": "markdown",
   "id": "6961101c",
   "metadata": {},
   "source": [
    "## 4. Lists:\n",
    "\n",
    "- Write a program that takes a list of integers as input and calculates the sum and average of the numbers. Print both the sum and the average.\n"
   ]
  },
  {
   "cell_type": "code",
   "execution_count": null,
   "id": "8bff8e70",
   "metadata": {},
   "outputs": [],
   "source": []
  },
  {
   "cell_type": "markdown",
   "id": "25607411",
   "metadata": {},
   "source": [
    "## 5. Tuples:\n",
    "\n",
    "- Write a program that takes two tuples, each containing two coordinates (x, y), and calculates the distance between the points using the formula distance = ((x2 - x1)**2 + (y2 - y1)**2)**0.5. Print the distance as a float."
   ]
  },
  {
   "cell_type": "code",
   "execution_count": null,
   "id": "23c1fb85",
   "metadata": {},
   "outputs": [],
   "source": []
  },
  {
   "cell_type": "markdown",
   "id": "293178d9",
   "metadata": {},
   "source": [
    "## 6. Dictionaries:\n",
    "\n",
    "- Write a program that takes a dictionary with keys 'name', 'age', and 'city' as input, and prints a formatted string: \"NAME is AGE years old and lives in CITY\". Replace NAME, AGE, and CITY with the corresponding values from the input dictionary."
   ]
  },
  {
   "cell_type": "markdown",
   "id": "b551c564",
   "metadata": {},
   "source": []
  },
  {
   "cell_type": "markdown",
   "id": "967d5665",
   "metadata": {},
   "source": [
    "## 7. Booleans:\n",
    "\n",
    "- Write a program that takes two boolean inputs, a and b. Print \"True\" if either a or b is True, but not both. Otherwise, print \"False\"."
   ]
  },
  {
   "cell_type": "code",
   "execution_count": null,
   "id": "8bbce3d6",
   "metadata": {},
   "outputs": [],
   "source": []
  },
  {
   "cell_type": "code",
   "execution_count": null,
   "id": "7853d8e2",
   "metadata": {},
   "outputs": [],
   "source": []
  }
 ],
 "metadata": {
  "kernelspec": {
   "display_name": "Python 3 (ipykernel)",
   "language": "python",
   "name": "python3"
  },
  "language_info": {
   "codemirror_mode": {
    "name": "ipython",
    "version": 3
   },
   "file_extension": ".py",
   "mimetype": "text/x-python",
   "name": "python",
   "nbconvert_exporter": "python",
   "pygments_lexer": "ipython3",
   "version": "3.11.3"
  }
 },
 "nbformat": 4,
 "nbformat_minor": 5
}
