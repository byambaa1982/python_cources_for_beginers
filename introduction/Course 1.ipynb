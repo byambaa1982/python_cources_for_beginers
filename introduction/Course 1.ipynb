{
 "cells": [
  {
   "cell_type": "markdown",
   "id": "f1ddcd96",
   "metadata": {},
   "source": [
    "## Integers"
   ]
  },
  {
   "cell_type": "code",
   "execution_count": 1,
   "id": "d6dcf0c1",
   "metadata": {},
   "outputs": [
    {
     "name": "stdout",
     "output_type": "stream",
     "text": [
      "30\n"
     ]
    }
   ],
   "source": [
    "# Declare an integer variable\n",
    "age = 25\n",
    "\n",
    "# Perform arithmetic operations\n",
    "result = age + 5\n",
    "print(result)  # Output: 30"
   ]
  },
  {
   "cell_type": "markdown",
   "id": "1647dd3e",
   "metadata": {},
   "source": [
    "## Floats"
   ]
  },
  {
   "cell_type": "code",
   "execution_count": 2,
   "id": "3b1288e2",
   "metadata": {},
   "outputs": [
    {
     "name": "stdout",
     "output_type": "stream",
     "text": [
      "15.991999999999999\n"
     ]
    }
   ],
   "source": [
    "# Declare a float variable\n",
    "price = 19.99\n",
    "\n",
    "# Perform arithmetic operations\n",
    "discounted_price = price * 0.8\n",
    "print(discounted_price)  # Output: 15.992"
   ]
  },
  {
   "cell_type": "markdown",
   "id": "7f42711e",
   "metadata": {},
   "source": [
    "## Strings"
   ]
  },
  {
   "cell_type": "code",
   "execution_count": 3,
   "id": "2ba8604a",
   "metadata": {},
   "outputs": [
    {
     "name": "stdout",
     "output_type": "stream",
     "text": [
      "Hello, World! Welcome to Python!\n"
     ]
    }
   ],
   "source": [
    "# Declare a string variable\n",
    "greeting = \"Hello, World!\"\n",
    "\n",
    "# Concatenate strings\n",
    "welcome_message = greeting + \" Welcome to Python!\"\n",
    "print(welcome_message)  # Output: Hello, World! Welcome to Python!"
   ]
  },
  {
   "cell_type": "markdown",
   "id": "9ba3a758",
   "metadata": {},
   "source": [
    "## Lists"
   ]
  },
  {
   "cell_type": "code",
   "execution_count": 4,
   "id": "18352ce4",
   "metadata": {},
   "outputs": [
    {
     "name": "stdout",
     "output_type": "stream",
     "text": [
      "apple\n",
      "['apple', 'blueberry', 'cherry']\n"
     ]
    }
   ],
   "source": [
    "# Declare a list variable\n",
    "fruits = [\"apple\", \"banana\", \"cherry\"]\n",
    "\n",
    "# Access elements of a list\n",
    "print(fruits[0])  # Output: apple\n",
    "\n",
    "# Modify elements of a list\n",
    "fruits[1] = \"blueberry\"\n",
    "print(fruits)  # Output: ['apple', 'blueberry', 'cherry']"
   ]
  },
  {
   "cell_type": "markdown",
   "id": "c2246541",
   "metadata": {},
   "source": [
    "## Tuples"
   ]
  },
  {
   "cell_type": "code",
   "execution_count": 5,
   "id": "213a9633",
   "metadata": {},
   "outputs": [
    {
     "name": "stdout",
     "output_type": "stream",
     "text": [
      "45.3\n"
     ]
    }
   ],
   "source": [
    "# Declare a tuple variable\n",
    "coordinates = (12.5, 45.3)\n",
    "\n",
    "# Access elements of a tuple\n",
    "print(coordinates[1])  # Output: 45.3\n",
    "\n",
    "# Tuples are immutable; the following line will raise an error\n",
    "# coordinates[1] = 50"
   ]
  },
  {
   "cell_type": "markdown",
   "id": "8d6ab58f",
   "metadata": {},
   "source": [
    "## Dictionaries"
   ]
  },
  {
   "cell_type": "code",
   "execution_count": 6,
   "id": "e1a4854d",
   "metadata": {},
   "outputs": [
    {
     "name": "stdout",
     "output_type": "stream",
     "text": [
      "Alice\n",
      "{'name': 'Alice', 'age': 31}\n"
     ]
    }
   ],
   "source": [
    "# Declare a dictionary variable\n",
    "person = {\"name\": \"Alice\", \"age\": 30}\n",
    "\n",
    "# Access elements of a dictionary\n",
    "print(person[\"name\"])  # Output: Alice\n",
    "\n",
    "# Modify elements of a dictionary\n",
    "person[\"age\"] = 31\n",
    "print(person)  # Output: {'name': 'Alice', 'age': 31}"
   ]
  },
  {
   "cell_type": "markdown",
   "id": "c43b1996",
   "metadata": {},
   "source": [
    "## Booleans"
   ]
  },
  {
   "cell_type": "code",
   "execution_count": 7,
   "id": "8476aa78",
   "metadata": {},
   "outputs": [
    {
     "name": "stdout",
     "output_type": "stream",
     "text": [
      "User is active.\n"
     ]
    }
   ],
   "source": [
    "# Declare a boolean variable\n",
    "is_active = True\n",
    "\n",
    "# Use boolean in a conditional statement\n",
    "if is_active:\n",
    "    print(\"User is active.\")  # Output: User is active."
   ]
  },
  {
   "cell_type": "code",
   "execution_count": 9,
   "id": "b6e72cb6",
   "metadata": {},
   "outputs": [
    {
     "data": {
      "text/plain": [
       "True"
      ]
     },
     "execution_count": 9,
     "metadata": {},
     "output_type": "execute_result"
    }
   ],
   "source": [
    "6 > 5"
   ]
  },
  {
   "cell_type": "code",
   "execution_count": 10,
   "id": "286c3476",
   "metadata": {},
   "outputs": [
    {
     "data": {
      "text/plain": [
       "False"
      ]
     },
     "execution_count": 10,
     "metadata": {},
     "output_type": "execute_result"
    }
   ],
   "source": [
    "4 < 1"
   ]
  },
  {
   "cell_type": "code",
   "execution_count": null,
   "id": "6913aefd",
   "metadata": {},
   "outputs": [],
   "source": []
  }
 ],
 "metadata": {
  "kernelspec": {
   "display_name": "Python 3 (ipykernel)",
   "language": "python",
   "name": "python3"
  },
  "language_info": {
   "codemirror_mode": {
    "name": "ipython",
    "version": 3
   },
   "file_extension": ".py",
   "mimetype": "text/x-python",
   "name": "python",
   "nbconvert_exporter": "python",
   "pygments_lexer": "ipython3",
   "version": "3.11.3"
  }
 },
 "nbformat": 4,
 "nbformat_minor": 5
}
