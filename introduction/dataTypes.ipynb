{
  "nbformat": 4,
  "nbformat_minor": 0,
  "metadata": {
    "colab": {
      "provenance": [],
      "authorship_tag": "ABX9TyNXvysxiTv5Vf0cz4wcakjW",
      "include_colab_link": true
    },
    "kernelspec": {
      "name": "python3",
      "display_name": "Python 3"
    },
    "language_info": {
      "name": "python"
    }
  },
  "cells": [
    {
      "cell_type": "markdown",
      "metadata": {
        "id": "view-in-github",
        "colab_type": "text"
      },
      "source": [
        "<a href=\"https://colab.research.google.com/github/byambaa1982/python_cources_for_beginers/blob/main/introduction/dataTypes.ipynb\" target=\"_parent\"><img src=\"https://colab.research.google.com/assets/colab-badge.svg\" alt=\"Open In Colab\"/></a>"
      ]
    },
    {
      "cell_type": "code",
      "source": [
        "# Declare an integer variable\n",
        "age = 25\n",
        "\n",
        "# Perform arithmetic operations\n",
        "result = age + 5\n",
        "print(result)  # Output: 30"
      ],
      "metadata": {
        "id": "KQPLuBNjNrXw"
      },
      "execution_count": null,
      "outputs": []
    },
    {
      "cell_type": "code",
      "source": [
        "age = 40\n",
        "result = age + 100"
      ],
      "metadata": {
        "id": "6fVskC8UN1pf"
      },
      "execution_count": null,
      "outputs": []
    },
    {
      "cell_type": "code",
      "source": [
        "print(result)"
      ],
      "metadata": {
        "id": "T1GLJZaqN5SN"
      },
      "execution_count": null,
      "outputs": []
    },
    {
      "cell_type": "code",
      "source": [
        "# Declare a float variable\n",
        "price = 19.99\n",
        "\n",
        "# Perform arithmetic operations\n",
        "discounted_price = price * 0.8\n",
        "print(discounted_price)  # Output: 15.992"
      ],
      "metadata": {
        "id": "Stmbkl3qN8K7"
      },
      "execution_count": null,
      "outputs": []
    },
    {
      "cell_type": "code",
      "source": [
        "# Perform arithmetic operations\n",
        "discounted_price = price * 0.1\n",
        "print(discounted_price)  # Output: 15.992"
      ],
      "metadata": {
        "id": "ynQLmiRWN_zF"
      },
      "execution_count": null,
      "outputs": []
    },
    {
      "cell_type": "code",
      "source": [
        "\"Byamba\" == \"byamba \""
      ],
      "metadata": {
        "id": "3TSWzh3HODKs"
      },
      "execution_count": null,
      "outputs": []
    },
    {
      "cell_type": "code",
      "source": [
        "\"Byamba\" == \"Byamba\""
      ],
      "metadata": {
        "id": "kXYQ9KtOOGML"
      },
      "execution_count": null,
      "outputs": []
    }
  ]
}