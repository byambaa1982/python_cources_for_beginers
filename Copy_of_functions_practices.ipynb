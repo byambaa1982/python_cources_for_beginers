{
  "nbformat": 4,
  "nbformat_minor": 0,
  "metadata": {
    "colab": {
      "provenance": [],
      "include_colab_link": true
    },
    "kernelspec": {
      "name": "python3",
      "display_name": "Python 3"
    },
    "language_info": {
      "name": "python"
    }
  },
  "cells": [
    {
      "cell_type": "markdown",
      "metadata": {
        "id": "view-in-github",
        "colab_type": "text"
      },
      "source": [
        "<a href=\"https://colab.research.google.com/github/byambaa1982/python_cources_for_beginers/blob/class_zero_hannah/Copy_of_functions_practices.ipynb\" target=\"_parent\"><img src=\"https://colab.research.google.com/assets/colab-badge.svg\" alt=\"Open In Colab\"/></a>"
      ]
    },
    {
      "cell_type": "code",
      "source": [
        "def grader(grade):\n",
        "  if grade < 60:\n",
        "    print(f'You got a grade F')\n",
        "  elif grade > 60 and grade < 70:\n",
        "    print(f'You got a grade D')"
      ],
      "metadata": {
        "id": "o-Pfx2i3xcvY"
      },
      "execution_count": null,
      "outputs": []
    },
    {
      "cell_type": "code",
      "source": [
        "grader(34)"
      ],
      "metadata": {
        "id": "kozZmpNdxEuA",
        "outputId": "4e742703-0a2e-423a-fb3f-28f3fdfc504a",
        "colab": {
          "base_uri": "https://localhost:8080/"
        }
      },
      "execution_count": null,
      "outputs": [
        {
          "output_type": "stream",
          "name": "stdout",
          "text": [
            "You got a grade F\n"
          ]
        }
      ]
    },
    {
      "cell_type": "markdown",
      "source": [
        "\n",
        "## Print the numbers 1 to 10:\n",
        "- Write a function called print_numbers that uses a for loop to print numbers from 1 to 10."
      ],
      "metadata": {
        "id": "19CdTfEasKOW"
      }
    },
    {
      "cell_type": "code",
      "source": [
        "def print_numbers():\n",
        "  for i in range(0,11):\n",
        "    print(i)\n",
        "\n",
        "print_numbers()"
      ],
      "metadata": {
        "colab": {
          "base_uri": "https://localhost:8080/"
        },
        "id": "eKSf86N5sMEi",
        "outputId": "6edf4c00-0568-4023-b904-6162ac34d388"
      },
      "execution_count": null,
      "outputs": [
        {
          "output_type": "stream",
          "name": "stdout",
          "text": [
            "0\n",
            "1\n",
            "2\n",
            "3\n",
            "4\n",
            "5\n",
            "6\n",
            "7\n",
            "8\n",
            "9\n",
            "10\n"
          ]
        }
      ]
    },
    {
      "cell_type": "markdown",
      "source": [
        "# Print each letter in your name:\n",
        "\n",
        "Write a function called print_name_letters that takes your name as an input and prints each letter on a new line."
      ],
      "metadata": {
        "id": "fkNFVohCsfSN"
      }
    },
    {
      "cell_type": "code",
      "source": [
        "def print_name_letters(name):\n",
        "# complete\n",
        "\n",
        "print_name_letters(\"YourName\")\n"
      ],
      "metadata": {
        "colab": {
          "base_uri": "https://localhost:8080/"
        },
        "id": "V2_z-n1vsUTr",
        "outputId": "6422f31e-7f4d-4134-d74c-f984169db9e4"
      },
      "execution_count": null,
      "outputs": [
        {
          "output_type": "stream",
          "name": "stdout",
          "text": [
            "Y\n",
            "o\n",
            "u\n",
            "r\n",
            "N\n",
            "a\n",
            "m\n",
            "e\n"
          ]
        }
      ]
    },
    {
      "cell_type": "markdown",
      "source": [
        "## Determine if a letter is a vowel or consonant:\n",
        "Write a function called check_vowel_consonant that takes a letter as input and prints \"Vowel\" if the letter is a vowel, and \"Consonant\" if the letter is a consonant."
      ],
      "metadata": {
        "id": "nYgxWi6Zuhs1"
      }
    },
    {
      "cell_type": "code",
      "source": [
        "def check_vowel_consonant(letter):\n",
        "# ---- Your code here -------\n",
        "Vowel = \"aeiouy\"\n",
        "if letter in vowel:\n",
        "    print(\"Vowel\")\n",
        "\n",
        "check_vowel_consonant('a')\n",
        "check_vowel_consonant('b')"
      ],
      "metadata": {
        "colab": {
          "base_uri": "https://localhost:8080/"
        },
        "id": "wbie5eTbsn9z",
        "outputId": "61484420-28cd-4ade-ad85-773a6092a5a0"
      },
      "execution_count": null,
      "outputs": [
        {
          "output_type": "stream",
          "name": "stdout",
          "text": [
            "Vowel\n",
            "Consonant\n"
          ]
        }
      ]
    },
    {
      "cell_type": "markdown",
      "source": [
        "# Write a function called count_vowels that takes a word as input and uses a loop to count and print the number of vowels in the word."
      ],
      "metadata": {
        "id": "LR8JGzteu0Uy"
      }
    },
    {
      "cell_type": "code",
      "source": [
        "def count_vowels(word):\n",
        "# ---- Your code here -------\n",
        "  count_vowels(\"hello\")\n",
        "count_vowels(\"programming\")"
      ],
      "metadata": {
        "colab": {
          "base_uri": "https://localhost:8080/",
          "height": 385
        },
        "id": "4mVdpAGVs0kj",
        "outputId": "6277f989-a28b-4fac-f7d6-0f765695014a"
      },
      "execution_count": null,
      "outputs": [
        {
          "output_type": "error",
          "ename": "RecursionError",
          "evalue": "maximum recursion depth exceeded",
          "traceback": [
            "\u001b[0;31m---------------------------------------------------------------------------\u001b[0m",
            "\u001b[0;31mRecursionError\u001b[0m                            Traceback (most recent call last)",
            "\u001b[0;32m<ipython-input-3-b824c359b4c1>\u001b[0m in \u001b[0;36m<cell line: 4>\u001b[0;34m()\u001b[0m\n\u001b[1;32m      2\u001b[0m \u001b[0;31m# ---- Your code here -------\u001b[0m\u001b[0;34m\u001b[0m\u001b[0;34m\u001b[0m\u001b[0m\n\u001b[1;32m      3\u001b[0m   \u001b[0mcount_vowels\u001b[0m\u001b[0;34m(\u001b[0m\u001b[0;34m\"hello\"\u001b[0m\u001b[0;34m)\u001b[0m\u001b[0;34m\u001b[0m\u001b[0;34m\u001b[0m\u001b[0m\n\u001b[0;32m----> 4\u001b[0;31m \u001b[0mcount_vowels\u001b[0m\u001b[0;34m(\u001b[0m\u001b[0;34m\"programming\"\u001b[0m\u001b[0;34m)\u001b[0m\u001b[0;34m\u001b[0m\u001b[0;34m\u001b[0m\u001b[0m\n\u001b[0m",
            "\u001b[0;32m<ipython-input-3-b824c359b4c1>\u001b[0m in \u001b[0;36mcount_vowels\u001b[0;34m(word)\u001b[0m\n\u001b[1;32m      1\u001b[0m \u001b[0;32mdef\u001b[0m \u001b[0mcount_vowels\u001b[0m\u001b[0;34m(\u001b[0m\u001b[0mword\u001b[0m\u001b[0;34m)\u001b[0m\u001b[0;34m:\u001b[0m\u001b[0;34m\u001b[0m\u001b[0;34m\u001b[0m\u001b[0m\n\u001b[1;32m      2\u001b[0m \u001b[0;31m# ---- Your code here -------\u001b[0m\u001b[0;34m\u001b[0m\u001b[0;34m\u001b[0m\u001b[0m\n\u001b[0;32m----> 3\u001b[0;31m   \u001b[0mcount_vowels\u001b[0m\u001b[0;34m(\u001b[0m\u001b[0;34m\"hello\"\u001b[0m\u001b[0;34m)\u001b[0m\u001b[0;34m\u001b[0m\u001b[0;34m\u001b[0m\u001b[0m\n\u001b[0m\u001b[1;32m      4\u001b[0m \u001b[0mcount_vowels\u001b[0m\u001b[0;34m(\u001b[0m\u001b[0;34m\"programming\"\u001b[0m\u001b[0;34m)\u001b[0m\u001b[0;34m\u001b[0m\u001b[0;34m\u001b[0m\u001b[0m\n",
            "... last 1 frames repeated, from the frame below ...\n",
            "\u001b[0;32m<ipython-input-3-b824c359b4c1>\u001b[0m in \u001b[0;36mcount_vowels\u001b[0;34m(word)\u001b[0m\n\u001b[1;32m      1\u001b[0m \u001b[0;32mdef\u001b[0m \u001b[0mcount_vowels\u001b[0m\u001b[0;34m(\u001b[0m\u001b[0mword\u001b[0m\u001b[0;34m)\u001b[0m\u001b[0;34m:\u001b[0m\u001b[0;34m\u001b[0m\u001b[0;34m\u001b[0m\u001b[0m\n\u001b[1;32m      2\u001b[0m \u001b[0;31m# ---- Your code here -------\u001b[0m\u001b[0;34m\u001b[0m\u001b[0;34m\u001b[0m\u001b[0m\n\u001b[0;32m----> 3\u001b[0;31m   \u001b[0mcount_vowels\u001b[0m\u001b[0;34m(\u001b[0m\u001b[0;34m\"hello\"\u001b[0m\u001b[0;34m)\u001b[0m\u001b[0;34m\u001b[0m\u001b[0;34m\u001b[0m\u001b[0m\n\u001b[0m\u001b[1;32m      4\u001b[0m \u001b[0mcount_vowels\u001b[0m\u001b[0;34m(\u001b[0m\u001b[0;34m\"programming\"\u001b[0m\u001b[0;34m)\u001b[0m\u001b[0;34m\u001b[0m\u001b[0;34m\u001b[0m\u001b[0m\n",
            "\u001b[0;31mRecursionError\u001b[0m: maximum recursion depth exceeded"
          ]
        }
      ]
    },
    {
      "cell_type": "code",
      "source": [
        "def count vowels(word):\n",
        "  vowels = \"aeiouAEIOU\"\n",
        "  count = 0\n",
        "  for char in word:\n",
        "      if char in vowels:\n"
      ],
      "metadata": {
        "id": "Jo6iVe0_s6mS"
      },
      "execution_count": null,
      "outputs": []
    }
  ]
}