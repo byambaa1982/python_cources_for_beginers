{
  "nbformat": 4,
  "nbformat_minor": 0,
  "metadata": {
    "colab": {
      "provenance": [],
      "authorship_tag": "ABX9TyM4UcigZ5nzrHXq+akgwrZ+",
      "include_colab_link": true
    },
    "kernelspec": {
      "name": "python3",
      "display_name": "Python 3"
    },
    "language_info": {
      "name": "python"
    }
  },
  "cells": [
    {
      "cell_type": "markdown",
      "metadata": {
        "id": "view-in-github",
        "colab_type": "text"
      },
      "source": [
        "<a href=\"https://colab.research.google.com/github/byambaa1982/python_cources_for_beginers/blob/main/Mini%20Project%202/update_simple_flask_app.ipynb\" target=\"_parent\"><img src=\"https://colab.research.google.com/assets/colab-badge.svg\" alt=\"Open In Colab\"/></a>"
      ]
    },
    {
      "cell_type": "code",
      "execution_count": null,
      "metadata": {
        "id": "s4Zcd2SdQaE0"
      },
      "outputs": [],
      "source": []
    },
    {
      "cell_type": "markdown",
      "source": [
        "# Update Flask App with more functions\n",
        "\n",
        "Let's add two buttons: \"Lowercase\" and \"Capital\". To add a \"Capital\" button that transforms the submitted text into uppercase and a \"Lowercase\" button that trasnforms the submitted text into lowercase, we need to modify both the form.html and app.py files. Here's how:\n",
        "\n",
        "1. `form.html`:\n",
        "\n",
        "```html\n",
        "<!DOCTYPE html>\n",
        "<html>\n",
        "    <head>\n",
        "        <title>Submit Text</title>\n",
        "        <link rel=\"stylesheet\" type=\"text/css\" href=\"{{ url_for('static', filename='style.css') }}\">\n",
        "    </head>\n",
        "    <body>\n",
        "        <form method=\"POST\">\n",
        "            <label for=\"text\">Enter your text:</label><br>\n",
        "            <input type=\"text\" id=\"text\" name=\"text\"><br>\n",
        "            <input type=\"submit\" name=\"submit_button\" value=\"Lowercase\">\n",
        "            <input type=\"submit\" name=\"submit_button\" value=\"Capital\">\n",
        "        </form>\n",
        "        {% if message %}\n",
        "        <div id=\"result\">\n",
        "            <h2>Submitted Text:</h2>\n",
        "            <p>{{ message }}</p>\n",
        "        </div>\n",
        "        {% endif %}\n",
        "    </body>\n",
        "</html>\n",
        "\n",
        "```\n",
        "\n",
        "Here, we added another submit button with the value \"Capital\".\n",
        "\n",
        "2. `app.py`: \n",
        "\n",
        "```python\n",
        "\n",
        "from flask import Flask, render_template, request\n",
        "app = Flask(__name__)\n",
        "\n",
        "@app.route('/')\n",
        "def hello_world():\n",
        "    return render_template('index.html', message='Hello, World!')\n",
        "\n",
        "@app.route('/form', methods=['GET', 'POST'])\n",
        "def render_form():\n",
        "    message = ''\n",
        "    if request.method == 'POST':\n",
        "        text = request.form.get('text')\n",
        "        if request.form['submit_button'] == 'Lowercase':\n",
        "            message = text.lower()\n",
        "        elif request.form['submit_button'] == 'Capital':\n",
        "            message = text.upper()\n",
        "    return render_template('form.html', message=message)\n",
        "\n",
        "if __name__ == '__main__':\n",
        "    app.run(debug=True) \n",
        "\n",
        "```\n",
        "\n",
        "In this updated `app.py` file, we added another condition to check which button was clicked. If the `'Lowercase'` button was clicked, it converts the text to lowercase, and if the `'Capital'` button was clicked, it converts the text to uppercase."
      ],
      "metadata": {
        "id": "LtZF_ShRQjvU"
      }
    },
    {
      "cell_type": "code",
      "source": [],
      "metadata": {
        "id": "PzxtXlonRQiQ"
      },
      "execution_count": null,
      "outputs": []
    }
  ]
}