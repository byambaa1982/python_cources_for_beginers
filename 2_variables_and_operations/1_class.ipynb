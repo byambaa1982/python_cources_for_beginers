{
  "nbformat": 4,
  "nbformat_minor": 0,
  "metadata": {
    "colab": {
      "provenance": [],
      "include_colab_link": true
    },
    "kernelspec": {
      "name": "python3",
      "display_name": "Python 3"
    },
    "language_info": {
      "name": "python"
    }
  },
  "cells": [
    {
      "cell_type": "markdown",
      "metadata": {
        "id": "view-in-github",
        "colab_type": "text"
      },
      "source": [
        "<a href=\"https://colab.research.google.com/github/byambaa1982/python_cources_for_beginers/blob/main/2_variables_and_operations/1_class.ipynb\" target=\"_parent\"><img src=\"https://colab.research.google.com/assets/colab-badge.svg\" alt=\"Open In Colab\"/></a>"
      ]
    },
    {
      "cell_type": "markdown",
      "source": [
        "## Introduction to Python\n",
        "\n",
        "### 1. Print \"Hello, world!\"\n",
        "Let's start with a simple program. Run this cell to print a message to the screen."
      ],
      "metadata": {
        "id": "uFuOetAi30Wv"
      }
    },
    {
      "cell_type": "code",
      "source": [
        "print(\"Hello, world!\")"
      ],
      "metadata": {
        "colab": {
          "base_uri": "https://localhost:8080/"
        },
        "id": "n8c5Zo1639Ly",
        "outputId": "89d2e5c0-c213-4653-a3a5-453ab9660766"
      },
      "execution_count": null,
      "outputs": [
        {
          "output_type": "stream",
          "name": "stdout",
          "text": [
            "Hello, world!\n"
          ]
        }
      ]
    },
    {
      "cell_type": "markdown",
      "source": [
        "### Explanation\n",
        "- The `print()` function displays the text inside the quotes.\n",
        "- Try changing the text to something else and run it again!"
      ],
      "metadata": {
        "id": "EDNr3CC64GST"
      }
    },
    {
      "cell_type": "markdown",
      "source": [
        "### Task 1\n",
        "- Change the message inside the `print()` function to say something else. Try your own message!\n"
      ],
      "metadata": {
        "id": "t7gZyzav55BA"
      }
    },
    {
      "cell_type": "code",
      "source": [
        "# Your code is here"
      ],
      "metadata": {
        "id": "MirJxmd358Mc"
      },
      "execution_count": null,
      "outputs": []
    },
    {
      "cell_type": "markdown",
      "source": [
        "## Variables and Data Types\n",
        "\n",
        "### 2. Using Variables\n",
        "\n",
        "Variables are like boxes where we can store information. Let's try creating a variable."
      ],
      "metadata": {
        "id": "Ldyf7gcr4Omf"
      }
    },
    {
      "cell_type": "code",
      "source": [
        "#string\n",
        "\"Enkh-Uils\" + \" Munkhbayar\""
      ],
      "metadata": {
        "colab": {
          "base_uri": "https://localhost:8080/",
          "height": 35
        },
        "id": "7qiPaCjNFaBn",
        "outputId": "c8efc86a-5a6e-4e07-c43c-91c9255ee69b"
      },
      "execution_count": null,
      "outputs": [
        {
          "output_type": "execute_result",
          "data": {
            "text/plain": [
              "'Enkh-Uils Munkhbayar'"
            ],
            "application/vnd.google.colaboratory.intrinsic+json": {
              "type": "string"
            }
          },
          "metadata": {},
          "execution_count": 13
        }
      ]
    },
    {
      "cell_type": "code",
      "source": [
        "# integer\n",
        "4 + 4 + 54859 - 23453"
      ],
      "metadata": {
        "colab": {
          "base_uri": "https://localhost:8080/"
        },
        "id": "uVp5_6XKFlxA",
        "outputId": "5e3b5e53-6300-4910-c909-9c324619d269"
      },
      "execution_count": null,
      "outputs": [
        {
          "output_type": "execute_result",
          "data": {
            "text/plain": [
              "31414"
            ]
          },
          "metadata": {},
          "execution_count": 15
        }
      ]
    },
    {
      "cell_type": "code",
      "source": [
        "\"4\" + \"4\""
      ],
      "metadata": {
        "colab": {
          "base_uri": "https://localhost:8080/",
          "height": 35
        },
        "id": "geG9oQSuF2g2",
        "outputId": "c73ecf3b-b1f4-4932-da40-16166e40e6c6"
      },
      "execution_count": null,
      "outputs": [
        {
          "output_type": "execute_result",
          "data": {
            "text/plain": [
              "'44'"
            ],
            "application/vnd.google.colaboratory.intrinsic+json": {
              "type": "string"
            }
          },
          "metadata": {},
          "execution_count": 11
        }
      ]
    },
    {
      "cell_type": "code",
      "source": [
        "name = \"Byamba\"\n",
        "age = 42\n",
        "print(\"Name:\", name)\n",
        "print(\"Age:\", age)"
      ],
      "metadata": {
        "colab": {
          "base_uri": "https://localhost:8080/"
        },
        "id": "aIKU629b4TmB",
        "outputId": "4e37e622-9695-404e-f9d5-63ae98dc132f"
      },
      "execution_count": null,
      "outputs": [
        {
          "output_type": "stream",
          "name": "stdout",
          "text": [
            "Name: Byamba\n",
            "Age: 42\n"
          ]
        }
      ]
    },
    {
      "cell_type": "markdown",
      "source": [
        "### Explanation\n",
        "- `name` is a variable that holds the text \"Alice\".\n",
        "- `age` is a variable that holds the number 10.\n",
        "- You can change these values to store your own name and age!"
      ],
      "metadata": {
        "id": "gnthb8tA4Zju"
      }
    },
    {
      "cell_type": "markdown",
      "source": [
        "### Task 2\n",
        "- Change the values of `name` and `age` to your own name and age.\n",
        "- Add another variable to store your favorite color and print it."
      ],
      "metadata": {
        "id": "NXRq3j0A6FD8"
      }
    },
    {
      "cell_type": "code",
      "source": [],
      "metadata": {
        "id": "J_YoQ4oc6EGO"
      },
      "execution_count": null,
      "outputs": []
    },
    {
      "cell_type": "markdown",
      "source": [
        "### 3. Basic Arithmetic\n",
        "Python can do math too! Let's try adding two numbers."
      ],
      "metadata": {
        "id": "FrftrQX44hgy"
      }
    },
    {
      "cell_type": "code",
      "source": [
        "a = 5\n",
        "b = 3\n",
        "sum_result = a + b\n",
        "print(\"The sum of\", a, \"and\", b, \"is:\", sum_result)"
      ],
      "metadata": {
        "colab": {
          "base_uri": "https://localhost:8080/"
        },
        "id": "uIU-ExRW4nIB",
        "outputId": "ac34ed3d-8a05-4c58-fa9e-235922df17e0"
      },
      "execution_count": null,
      "outputs": [
        {
          "output_type": "stream",
          "name": "stdout",
          "text": [
            "The sum of 5 and 3 is: 8\n"
          ]
        }
      ]
    },
    {
      "cell_type": "markdown",
      "source": [
        "### Explanation\n",
        "- `+` adds the numbers.\n",
        "- Try changing the numbers to see different results.\n",
        "- You can also try other operations like subtraction `-`, multiplication `*`, and division `/`.\n"
      ],
      "metadata": {
        "id": "GSLoCQK74uFy"
      }
    },
    {
      "cell_type": "markdown",
      "source": [
        "### Task 3\n",
        "- Change the values of `a` and `b` to different numbers.\n",
        "- Try using `-` for subtraction, `*` for multiplication, and `/` for division."
      ],
      "metadata": {
        "id": "ZbhWhr9O6SIG"
      }
    },
    {
      "cell_type": "markdown",
      "source": [
        "## Interactive Input\n",
        "\n",
        "### 4. Making the Program Interactive\n",
        "Let's make the program ask for your name and greet you."
      ],
      "metadata": {
        "id": "hPxIVAS242_J"
      }
    },
    {
      "cell_type": "code",
      "source": [
        "user_name = input(\"What is your name? \")\n",
        "print(\"Hello, \" + user_name + \"! Welcome to Python programming.\")"
      ],
      "metadata": {
        "colab": {
          "base_uri": "https://localhost:8080/"
        },
        "id": "r_z8liWh42IK",
        "outputId": "a98be7a6-d3ac-4fd1-f94c-a9ddf45ae50c"
      },
      "execution_count": null,
      "outputs": [
        {
          "output_type": "stream",
          "name": "stdout",
          "text": [
            "What is your name? Byamba\n",
            "Hello, Byamba! Welcome to Python programming.\n"
          ]
        }
      ]
    },
    {
      "cell_type": "markdown",
      "source": [
        "## Task for Practice\n",
        "Change the program to ask for the user's age and then print a message saying, \"You are [age] years old!\"\n"
      ],
      "metadata": {
        "id": "2mWER32W5JNG"
      }
    },
    {
      "cell_type": "code",
      "source": [
        "user_age = input(\"How old are you? \")\n",
        "print(\"You are \" + user_age + \" years old!\")"
      ],
      "metadata": {
        "colab": {
          "base_uri": "https://localhost:8080/"
        },
        "id": "EQx-u-n75Nj3",
        "outputId": "c00aa38f-f8de-49cf-c755-cce776368bfc"
      },
      "execution_count": null,
      "outputs": [
        {
          "output_type": "stream",
          "name": "stdout",
          "text": [
            "How old are you? 43\n",
            "You are 43 years old!\n"
          ]
        }
      ]
    },
    {
      "cell_type": "markdown",
      "source": [
        "### Explanation\n",
        "\n",
        "- `input()` lets you type in a response.\n",
        "- The response is stored in the `user_name` variable.\n",
        "- Try running the cell and entering your name!"
      ],
      "metadata": {
        "id": "cJ3ibUEj5Bkg"
      }
    },
    {
      "cell_type": "markdown",
      "source": [
        "### Task 4\n",
        "- Change the program to also ask for your age after asking for your name.\n",
        "- Print a message saying, \"Hello [name], you are [age] years old!\""
      ],
      "metadata": {
        "id": "dushVjMb6kpu"
      }
    },
    {
      "cell_type": "markdown",
      "source": [
        "### Wrap-Up\n",
        "Great job! Today you learned how to print messages, use variables, do math, and make interactive programs.\n",
        "In the next lesson, we'll learn about making choices in programs!"
      ],
      "metadata": {
        "id": "kMe531hO5R-0"
      }
    },
    {
      "cell_type": "code",
      "source": [],
      "metadata": {
        "id": "iPQ2weuhQodo"
      },
      "execution_count": null,
      "outputs": []
    }
  ]
}