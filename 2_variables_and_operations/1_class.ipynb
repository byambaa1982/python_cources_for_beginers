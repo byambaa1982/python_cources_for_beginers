{
  "nbformat": 4,
  "nbformat_minor": 0,
  "metadata": {
    "colab": {
      "provenance": [],
      "include_colab_link": true
    },
    "kernelspec": {
      "name": "python3",
      "display_name": "Python 3"
    },
    "language_info": {
      "name": "python"
    }
  },
  "cells": [
    {
      "cell_type": "markdown",
      "metadata": {
        "id": "view-in-github",
        "colab_type": "text"
      },
      "source": [
        "<a href=\"https://colab.research.google.com/github/byambaa1982/python_cources_for_beginers/blob/enkhuils/2_variables_and_operations/1_class.ipynb\" target=\"_parent\"><img src=\"https://colab.research.google.com/assets/colab-badge.svg\" alt=\"Open In Colab\"/></a>"
      ]
    },
    {
      "cell_type": "markdown",
      "source": [
        "## Introduction to Python\n",
        "\n",
        "### 1. Print \"Hello, world!\"\n",
        "Let's start with a simple program. Run this cell to print a message to the screen."
      ],
      "metadata": {
        "id": "uFuOetAi30Wv"
      }
    },
    {
      "cell_type": "code",
      "source": [
        "print(\"Hello, world!\")"
      ],
      "metadata": {
        "colab": {
          "base_uri": "https://localhost:8080/"
        },
        "id": "n8c5Zo1639Ly",
        "outputId": "f4b0f06a-7fa2-414c-9eae-dcf2a17a5fdf"
      },
      "execution_count": null,
      "outputs": [
        {
          "output_type": "stream",
          "name": "stdout",
          "text": [
            "Hello, world!\n"
          ]
        }
      ]
    },
    {
      "cell_type": "markdown",
      "source": [
        "### Explanation\n",
        "- The `print()` function displays the text inside the quotes.\n",
        "- Try changing the text to something else and run it again!"
      ],
      "metadata": {
        "id": "EDNr3CC64GST"
      }
    },
    {
      "cell_type": "markdown",
      "source": [
        "### Task 1\n",
        "- Change the message inside the `print()` function to say something else. Try your own message!\n"
      ],
      "metadata": {
        "id": "t7gZyzav55BA"
      }
    },
    {
      "cell_type": "code",
      "source": [
        "print(\"I like Icecream\")"
      ],
      "metadata": {
        "id": "MirJxmd358Mc",
        "colab": {
          "base_uri": "https://localhost:8080/"
        },
        "outputId": "740f64d4-9ba8-40ab-968e-1b53452b1a7a"
      },
      "execution_count": null,
      "outputs": [
        {
          "output_type": "stream",
          "name": "stdout",
          "text": [
            "I like Icecream\n"
          ]
        }
      ]
    },
    {
      "cell_type": "markdown",
      "source": [
        "## Variables and Data Types\n",
        "\n",
        "### 2. Using Variables\n",
        "\n",
        "Variables are like boxes where we can store information. Let's try creating a variable."
      ],
      "metadata": {
        "id": "Ldyf7gcr4Omf"
      }
    },
    {
      "cell_type": "code",
      "source": [
        "name = \"Alice\"\n",
        "age = 10\n",
        "print(\"Name:\", name)\n",
        "print(\"Age:\", age)"
      ],
      "metadata": {
        "colab": {
          "base_uri": "https://localhost:8080/"
        },
        "id": "aIKU629b4TmB",
        "outputId": "642129ff-14b2-4ac6-88e0-86c26e2865ad"
      },
      "execution_count": null,
      "outputs": [
        {
          "output_type": "stream",
          "name": "stdout",
          "text": [
            "Name: Alice\n",
            "Age: 10\n"
          ]
        }
      ]
    },
    {
      "cell_type": "markdown",
      "source": [
        "### Explanation\n",
        "- `name` is a variable that holds the text \"Alice\".\n",
        "- `age` is a variable that holds the number 10.\n",
        "- You can change these values to store your own name and age!"
      ],
      "metadata": {
        "id": "gnthb8tA4Zju"
      }
    },
    {
      "cell_type": "code",
      "source": [
        "name = \"Enkh-Uils\"\n",
        "age = 13\n",
        "print(\"Name:\", name)\n",
        "print(\"Age:\", age)"
      ],
      "metadata": {
        "id": "J_YoQ4oc6EGO",
        "colab": {
          "base_uri": "https://localhost:8080/"
        },
        "outputId": "4c8f2cb2-5c54-4f31-ca35-116ef4b48a65"
      },
      "execution_count": null,
      "outputs": [
        {
          "output_type": "stream",
          "name": "stdout",
          "text": [
            "Name: Enkh-Uils\n",
            "Age: 13\n"
          ]
        }
      ]
    },
    {
      "cell_type": "markdown",
      "source": [
        "### Task 2\n",
        "- Change the values of `name` and `age` to your own name and age.\n",
        "- Add another variable to store your favorite color and print it."
      ],
      "metadata": {
        "id": "NXRq3j0A6FD8"
      }
    },
    {
      "cell_type": "markdown",
      "source": [
        "### 3. Basic Arithmetic\n",
        "Python can do math too! Let's try adding two numbers."
      ],
      "metadata": {
        "id": "FrftrQX44hgy"
      }
    },
    {
      "cell_type": "code",
      "source": [
        "a = 23\n",
        "b = 76\n",
        "c = 32\n",
        "sum_result = a + b - c\n",
        "print(f\"The sum of, {a} and {b} minus {c} is {sum_result}\")"
      ],
      "metadata": {
        "colab": {
          "base_uri": "https://localhost:8080/"
        },
        "id": "uIU-ExRW4nIB",
        "outputId": "3d71fd24-dcf8-4ae2-9d07-9e6d3df83f0e"
      },
      "execution_count": 5,
      "outputs": [
        {
          "output_type": "stream",
          "name": "stdout",
          "text": [
            "The sum of, 23 and 76 minus 32 is 67\n"
          ]
        }
      ]
    },
    {
      "cell_type": "markdown",
      "source": [
        "### Explanation\n",
        "- `+` adds the numbers.\n",
        "- Try changing the numbers to see different results.\n",
        "- You can also try other operations like subtraction `-`, multiplication `*`, and division `/`.\n"
      ],
      "metadata": {
        "id": "GSLoCQK74uFy"
      }
    },
    {
      "cell_type": "markdown",
      "source": [
        "### Task 3\n",
        "- Change the values of `a` and `b` to different numbers.\n",
        "- Try using `-` for subtraction, `*` for multiplication, and `/` for division."
      ],
      "metadata": {
        "id": "ZbhWhr9O6SIG"
      }
    },
    {
      "cell_type": "code",
      "source": [
        "a = 23\n",
        "b = 76\n",
        "sum_result = a * b\n",
        "print(f\"The answer to {a} times {b} is {sum_result}\")"
      ],
      "metadata": {
        "id": "mqI6qJoXLQ3w",
        "outputId": "239d73b3-60f6-410d-b155-271565765f04",
        "colab": {
          "base_uri": "https://localhost:8080/"
        }
      },
      "execution_count": 7,
      "outputs": [
        {
          "output_type": "stream",
          "name": "stdout",
          "text": [
            "The answer to 23 times 76 is 1748\n"
          ]
        }
      ]
    },
    {
      "cell_type": "code",
      "source": [
        "name = \"Enkh-Uils\"\n",
        "age = 13\n",
        "hobby = \"playing videogames\"\n",
        "print(f\"My name is {name} and I am {age} and one of my favorite hobbies is {hobby}\")"
      ],
      "metadata": {
        "id": "oDh2vuYbL500",
        "outputId": "bb20c276-73b3-44d6-b3d8-08167c074e53",
        "colab": {
          "base_uri": "https://localhost:8080/"
        }
      },
      "execution_count": 10,
      "outputs": [
        {
          "output_type": "stream",
          "name": "stdout",
          "text": [
            "My name is Enkh-Uils and I am 13 and one of my favorite hobbies is playing videogames\n"
          ]
        }
      ]
    },
    {
      "cell_type": "markdown",
      "source": [
        "## Interactive Input\n",
        "\n",
        "### 4. Making the Program Interactive\n",
        "Let's make the program ask for your name and greet you."
      ],
      "metadata": {
        "id": "hPxIVAS242_J"
      }
    },
    {
      "cell_type": "code",
      "source": [
        "user_name = input(\"What is your name? \")\n",
        "print(\"Hello, \" + user_name + \"! Welcome to Python programming.\")"
      ],
      "metadata": {
        "colab": {
          "base_uri": "https://localhost:8080/"
        },
        "id": "r_z8liWh42IK",
        "outputId": "a98be7a6-d3ac-4fd1-f94c-a9ddf45ae50c"
      },
      "execution_count": null,
      "outputs": [
        {
          "output_type": "stream",
          "name": "stdout",
          "text": [
            "What is your name? Byamba\n",
            "Hello, Byamba! Welcome to Python programming.\n"
          ]
        }
      ]
    },
    {
      "cell_type": "markdown",
      "source": [
        "## Task for Practice\n",
        "Change the program to ask for the user's age and then print a message saying, \"You are [age] years old!\"\n"
      ],
      "metadata": {
        "id": "2mWER32W5JNG"
      }
    },
    {
      "cell_type": "code",
      "source": [
        "user_age = input(\"How old are you? \")\n",
        "print(\"You are \" + user_age + \" years old!\")"
      ],
      "metadata": {
        "colab": {
          "base_uri": "https://localhost:8080/"
        },
        "id": "EQx-u-n75Nj3",
        "outputId": "c00aa38f-f8de-49cf-c755-cce776368bfc"
      },
      "execution_count": null,
      "outputs": [
        {
          "output_type": "stream",
          "name": "stdout",
          "text": [
            "How old are you? 43\n",
            "You are 43 years old!\n"
          ]
        }
      ]
    },
    {
      "cell_type": "markdown",
      "source": [
        "### Explanation\n",
        "\n",
        "- `input()` lets you type in a response.\n",
        "- The response is stored in the `user_name` variable.\n",
        "- Try running the cell and entering your name!"
      ],
      "metadata": {
        "id": "cJ3ibUEj5Bkg"
      }
    },
    {
      "cell_type": "markdown",
      "source": [
        "### Task 4\n",
        "- Change the program to also ask for your age after asking for your name.\n",
        "- Print a message saying, \"Hello [name], you are [age] years old!\""
      ],
      "metadata": {
        "id": "dushVjMb6kpu"
      }
    },
    {
      "cell_type": "code",
      "source": [
        "user_name = input(\"What's your name? \")\n",
        "user_age = input(\"What's your age? \")\n",
        "print(\"Hello \" + user_name + \", you are \" + user_age + \" years old\")"
      ],
      "metadata": {
        "id": "Rs3ovFGsNcQc",
        "outputId": "1f994063-922d-4659-ce1f-026804272098",
        "colab": {
          "base_uri": "https://localhost:8080/"
        }
      },
      "execution_count": 15,
      "outputs": [
        {
          "output_type": "stream",
          "name": "stdout",
          "text": [
            "What's your name? Enkh-Uils\n",
            "What's your age? 13\n",
            "Hello Enkh-Uils, you are 13 years old\n"
          ]
        }
      ]
    },
    {
      "cell_type": "markdown",
      "source": [
        "### Wrap-Up\n",
        "Great job! Today you learned how to print messages, use variables, do math, and make interactive programs.\n",
        "In the next lesson, we'll learn about making choices in programs!"
      ],
      "metadata": {
        "id": "kMe531hO5R-0"
      }
    },
    {
      "cell_type": "code",
      "source": [],
      "metadata": {
        "id": "iPQ2weuhQodo"
      },
      "execution_count": null,
      "outputs": []
    }
  ]
}