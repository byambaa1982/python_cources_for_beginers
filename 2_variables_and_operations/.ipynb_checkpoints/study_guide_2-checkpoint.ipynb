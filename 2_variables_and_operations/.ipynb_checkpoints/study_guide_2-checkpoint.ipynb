{
 "cells": [
  {
   "cell_type": "markdown",
   "metadata": {
    "colab_type": "text",
    "id": "view-in-github"
   },
   "source": [
    "<a href=\"https://colab.research.google.com/github/byambaa1982/python_cources_for_beginers/blob/main/2_variables_and_operations/study_guide_2.ipynb\" target=\"_parent\"><img src=\"https://colab.research.google.com/assets/colab-badge.svg\" alt=\"Open In Colab\"/></a>"
   ]
  },
  {
   "cell_type": "markdown",
   "metadata": {
    "id": "I21AhxLoSeuA"
   },
   "source": [
    "# Python Data Types"
   ]
  },
  {
   "cell_type": "markdown",
   "metadata": {
    "id": "dY4zT2kktRWs"
   },
   "source": [
    "## Integer\n",
    "\n",
    "1. Integer (`int`): Represents whole numbers without any decimal points. For example: 5, -3, 0."
   ]
  },
  {
   "cell_type": "code",
   "execution_count": null,
   "metadata": {
    "id": "KQPLuBNjNrXw"
   },
   "outputs": [],
   "source": [
    "# Declare an integer variable\n",
    "age = 25\n",
    "\n",
    "# Perform arithmetic operations\n",
    "result = age + 5\n",
    "print(result)  # Output: 30"
   ]
  },
  {
   "cell_type": "code",
   "execution_count": null,
   "metadata": {
    "id": "6fVskC8UN1pf"
   },
   "outputs": [],
   "source": [
    "age = 40\n",
    "result = age + 100"
   ]
  },
  {
   "cell_type": "code",
   "execution_count": null,
   "metadata": {
    "id": "T1GLJZaqN5SN"
   },
   "outputs": [],
   "source": [
    "print(result)"
   ]
  },
  {
   "cell_type": "code",
   "execution_count": null,
   "metadata": {
    "id": "Stmbkl3qN8K7"
   },
   "outputs": [],
   "source": [
    "# Declare a float variable\n",
    "price = 19.99\n",
    "\n",
    "# Perform arithmetic operations\n",
    "discounted_price = price * 0.8\n",
    "print(discounted_price)  # Output: 15.992"
   ]
  },
  {
   "cell_type": "code",
   "execution_count": null,
   "metadata": {
    "id": "ynQLmiRWN_zF"
   },
   "outputs": [],
   "source": [
    "# Perform arithmetic operations\n",
    "discounted_price = price * 0.1\n",
    "print(discounted_price)  # Output: 15.992"
   ]
  },
  {
   "cell_type": "markdown",
   "metadata": {
    "id": "aXZSkbkMtyT9"
   },
   "source": [
    "```{note}\n",
    "\"15\" is not same as 15.\n",
    "```"
   ]
  },
  {
   "cell_type": "markdown",
   "metadata": {
    "id": "BjYO22U9tllt"
   },
   "source": [
    "## Floats\n",
    "\n",
    "2. Float (`float`): Represents numbers with decimal points. For example: 3.14, -2.5, 0.0."
   ]
  },
  {
   "cell_type": "code",
   "execution_count": null,
   "metadata": {
    "colab": {
     "base_uri": "https://localhost:8080/"
    },
    "id": "3VbLMD7Ntp3D",
    "outputId": "a6675186-58b7-4955-8950-ea8e78c3b98c"
   },
   "outputs": [
    {
     "name": "stdout",
     "output_type": "stream",
     "text": [
      "15.991999999999999\n"
     ]
    }
   ],
   "source": [
    "# Declare a float variable\n",
    "price = 19.99\n",
    "\n",
    "# Perform arithmetic operations\n",
    "discounted_price = price * 0.8\n",
    "print(discounted_price)  # Output: 15.992"
   ]
  },
  {
   "cell_type": "code",
   "execution_count": null,
   "metadata": {
    "colab": {
     "base_uri": "https://localhost:8080/"
    },
    "id": "cMYKiqENtqtO",
    "outputId": "1451b007-50b3-43e7-9f28-afa84b04f66c"
   },
   "outputs": [
    {
     "name": "stdout",
     "output_type": "stream",
     "text": [
      "1.9989999999999999\n"
     ]
    }
   ],
   "source": [
    "# Perform arithmetic operations\n",
    "discounted_price = price * 0.1\n",
    "print(discounted_price)  # Output: 15.992"
   ]
  },
  {
   "cell_type": "markdown",
   "metadata": {
    "id": "1OEr8dezt98g"
   },
   "source": [
    "## String\n",
    "\n",
    "3. String (`str`): Represents sequences of characters enclosed in single quotes (' ') or double quotes (\" \"). For example: \"Hello\", 'Python', \"123\"."
   ]
  },
  {
   "cell_type": "code",
   "execution_count": null,
   "metadata": {
    "colab": {
     "base_uri": "https://localhost:8080/"
    },
    "id": "slRB3LT-uAas",
    "outputId": "cbfaa10f-c3ae-473a-9248-3aa82196c28d"
   },
   "outputs": [
    {
     "name": "stdout",
     "output_type": "stream",
     "text": [
      "Hello, World! Welcome to Python!\n"
     ]
    }
   ],
   "source": [
    "# Declare a string variable\n",
    "greeting = \"Hello, World!\"\n",
    "\n",
    "# Concatenate strings\n",
    "welcome_message = greeting + \" Welcome to Python!\"\n",
    "print(welcome_message)  # Output: Hello, World! Welcome to Python!"
   ]
  },
  {
   "cell_type": "markdown",
   "metadata": {
    "id": "VKlcSTOXt6mP"
   },
   "source": [
    "## Lists\n",
    "\n",
    "3. List (list): Represents an ordered collection of items enclosed in square brackets [ ]. Lists can contain elements of different data types and can be modified (mutable). For example: [1, 2, 3], ['apple', 'banana', 'cherry']."
   ]
  },
  {
   "cell_type": "code",
   "execution_count": null,
   "metadata": {
    "colab": {
     "base_uri": "https://localhost:8080/"
    },
    "id": "fnEVh6BHt4Zd",
    "outputId": "1a3db5e4-434c-4351-91b3-35854c1a01f9"
   },
   "outputs": [
    {
     "name": "stdout",
     "output_type": "stream",
     "text": [
      "apple\n",
      "['apple', 'blueberry', 'cherry']\n"
     ]
    }
   ],
   "source": [
    "# Declare a list variable\n",
    "fruits = [\"apple\", \"banana\", \"cherry\"]\n",
    "\n",
    "# Access elements of a list\n",
    "print(fruits[0])  # Output: apple\n",
    "\n",
    "# Modify elements of a list\n",
    "fruits[1] = \"blueberry\"\n",
    "print(fruits)  # Output: ['apple', 'blueberry', 'cherry']"
   ]
  },
  {
   "cell_type": "code",
   "execution_count": null,
   "metadata": {
    "colab": {
     "base_uri": "https://localhost:8080/"
    },
    "id": "d9iMdCYquau4",
    "outputId": "2e95bc75-203c-4ee3-e984-4070342ecc78"
   },
   "outputs": [
    {
     "name": "stdout",
     "output_type": "stream",
     "text": [
      "apple\n"
     ]
    }
   ],
   "source": [
    "print(fruits[0])"
   ]
  },
  {
   "cell_type": "markdown",
   "metadata": {
    "id": "os9iYaCEuBGi"
   },
   "source": [
    "## Tuples\n",
    "\n",
    "4. Tuple (`tuple`): Represents an ordered collection of items enclosed in parentheses ( ). Tuples are similar to lists, but they are immutable (cannot be modified). For example: (1, 2, 3), ('red', 'green', 'blue')."
   ]
  },
  {
   "cell_type": "code",
   "execution_count": null,
   "metadata": {
    "colab": {
     "base_uri": "https://localhost:8080/"
    },
    "id": "IhWhqGwwuDT0",
    "outputId": "4513b14f-2d89-4f61-9bad-99d38a2172bc"
   },
   "outputs": [
    {
     "name": "stdout",
     "output_type": "stream",
     "text": [
      "45.3\n"
     ]
    }
   ],
   "source": [
    "# Declare a tuple variable\n",
    "coordinates = (12.5, 45.3)\n",
    "\n",
    "# Access elements of a tuple\n",
    "print(coordinates[1])  # Output: 45.3\n",
    "\n",
    "# Tuples are immutable; the following line will raise an error\n",
    "# coordinates[1] = 50"
   ]
  },
  {
   "cell_type": "markdown",
   "metadata": {
    "id": "5Z3UblmbuD7b"
   },
   "source": [
    "## Dictionaries\n",
    "\n",
    "5. Dictionary (`dict`): Represents a collection of key-value pairs enclosed in curly braces { }. Each value is associated with a unique key, allowing efficient retrieval of values. For example: {'name': 'John', 'age': 25, 'city': 'New York'}."
   ]
  },
  {
   "cell_type": "code",
   "execution_count": null,
   "metadata": {
    "colab": {
     "base_uri": "https://localhost:8080/"
    },
    "id": "kIyQoO3yuHaU",
    "outputId": "afcc7816-463c-4a5b-abc8-a5d97c1caf9b"
   },
   "outputs": [
    {
     "name": "stdout",
     "output_type": "stream",
     "text": [
      "Alice\n",
      "{'name': 'Alice', 'age': 31, 'comment': 'it is very nice'}\n"
     ]
    }
   ],
   "source": [
    "# Declare a dictionary variable\n",
    "person = {\"name\": \"Alice\", \"age\": 30, \"comment\":\"it is very nice\"}\n",
    "\n",
    "# Access elements of a dictionary\n",
    "print(person[\"name\"])  # Output: Alice\n",
    "\n",
    "# Modify elements of a dictionary\n",
    "person[\"age\"] = 31\n",
    "print(person)  # Output: {'name': 'Alice', 'age': 31}"
   ]
  },
  {
   "cell_type": "markdown",
   "metadata": {
    "id": "6NAXDbK5uI2Y"
   },
   "source": [
    "## Booleans\n",
    "\n",
    "6. The boolean data type in Python represents logical values and has two possible states: `True` and `False`. Booleans are primarily used in conditional statements and logical operations. Here's some additional information about booleans in Python:"
   ]
  },
  {
   "cell_type": "code",
   "execution_count": null,
   "metadata": {
    "colab": {
     "base_uri": "https://localhost:8080/"
    },
    "id": "NzvOfTMfuKT9",
    "outputId": "9db4173e-6387-44c5-bfee-706500d1fd72"
   },
   "outputs": [
    {
     "name": "stdout",
     "output_type": "stream",
     "text": [
      "User is active.\n"
     ]
    }
   ],
   "source": [
    "# Declare a boolean variable\n",
    "is_active = True\n",
    "\n",
    "# Use boolean in a conditional statement\n",
    "if is_active:\n",
    "    print(\"User is active.\")  # Output: User is active."
   ]
  },
  {
   "cell_type": "code",
   "execution_count": null,
   "metadata": {
    "colab": {
     "base_uri": "https://localhost:8080/"
    },
    "id": "IarMnjk_uj1s",
    "outputId": "b4643e73-bc0e-4c6d-9279-35d2a8cedcdb"
   },
   "outputs": [
    {
     "name": "stdout",
     "output_type": "stream",
     "text": [
      "False\n",
      "True\n",
      "False\n",
      "False\n",
      "True\n",
      "Hello, Alice\n"
     ]
    }
   ],
   "source": [
    "x = True\n",
    "y = False\n",
    "\n",
    "# Logical operators\n",
    "print(x and y)      # Output: False\n",
    "print(x or y)       # Output: True\n",
    "print(not x)        # Output: False\n",
    "\n",
    "# Comparison operators\n",
    "a = 5\n",
    "b = 10\n",
    "print(a > b)        # Output: False\n",
    "print(a <= b)       # Output: True\n",
    "\n",
    "# Truthiness and falsiness\n",
    "name = \"Alice\"\n",
    "if name:            # Checks if the name variable is truthy\n",
    "    print(\"Hello, \" + name)\n",
    "else:\n",
    "    print(\"Name is empty\")\n"
   ]
  },
  {
   "cell_type": "code",
   "execution_count": null,
   "metadata": {
    "id": "tMXOYDhbSQZm"
   },
   "outputs": [],
   "source": []
  }
 ],
 "metadata": {
  "colab": {
   "include_colab_link": true,
   "provenance": []
  },
  "kernelspec": {
   "display_name": "Python 3",
   "language": "python",
   "name": "python3"
  },
  "language_info": {
   "codemirror_mode": {
    "name": "ipython",
    "version": 3
   },
   "file_extension": ".py",
   "mimetype": "text/x-python",
   "name": "python",
   "nbconvert_exporter": "python",
   "pygments_lexer": "ipython3",
   "version": "3.6.9"
  }
 },
 "nbformat": 4,
 "nbformat_minor": 1
}
