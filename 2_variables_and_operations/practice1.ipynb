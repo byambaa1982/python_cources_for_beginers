{
  "nbformat": 4,
  "nbformat_minor": 0,
  "metadata": {
    "colab": {
      "provenance": [],
      "include_colab_link": true
    },
    "kernelspec": {
      "name": "python3",
      "display_name": "Python 3"
    },
    "language_info": {
      "name": "python"
    }
  },
  "cells": [
    {
      "cell_type": "markdown",
      "metadata": {
        "id": "view-in-github",
        "colab_type": "text"
      },
      "source": [
        "<a href=\"https://colab.research.google.com/github/byambaa1982/python_cources_for_beginers/blob/enkhuils/2_variables_and_operations/practice1.ipynb\" target=\"_parent\"><img src=\"https://colab.research.google.com/assets/colab-badge.svg\" alt=\"Open In Colab\"/></a>"
      ]
    },
    {
      "cell_type": "markdown",
      "source": [
        "## Task 1: Greeting Multiple People\n",
        "Write a program that asks for two people's names and prints a greeting for each of them.\n",
        "\n",
        "### Instructions\n",
        "- Use the `input()` function to ask for the first person's name.\n",
        "- Use `input()` again to ask for the second person's name.\n",
        "- Print a greeting message for each person."
      ],
      "metadata": {
        "id": "uFuOetAi30Wv"
      }
    },
    {
      "cell_type": "code",
      "source": [
        "user_name = input(\"What is the first person's name?\")\n",
        "user_name2 = input(\"What is the second person's name?\")\n",
        "print(\"Hello, \" + user_name )\n",
        "print(\"Hello, \" + user_name2 )"
      ],
      "metadata": {
        "colab": {
          "base_uri": "https://localhost:8080/"
        },
        "id": "n8c5Zo1639Ly",
        "outputId": "f9aabde6-66e2-4df1-dbb1-45de0dab1011"
      },
      "execution_count": null,
      "outputs": [
        {
          "output_type": "stream",
          "name": "stdout",
          "text": [
            "What is the first person's name?Enk\n",
            "What is the second person's name?Munkh\n",
            "Hello, Enk\n",
            "Hello, Munkh\n"
          ]
        }
      ]
    },
    {
      "cell_type": "markdown",
      "source": [
        "## Task 2: Simple Calculator\n",
        "Write a program that asks for two numbers and then adds, subtracts, multiplies, and divides them.\n",
        "\n",
        "### Instructions\n",
        "- Use `input()` to ask for the first number.\n",
        "- Ask for a second number.\n",
        "- Convert the inputs to numbers using `int()` or `float()`.\n",
        "- Perform addition, subtraction, multiplication, and division on the numbers.\n",
        "- Print the results for each operation."
      ],
      "metadata": {
        "id": "EDNr3CC64GST"
      }
    },
    {
      "cell_type": "code",
      "source": [
        "number1 = float(input(\"Enter the first number:\"))\n",
        "number2 = float(input(\"Enter the second number:\"))\n",
        "mul_result = number1 * number2\n",
        "print(\"Multiplication:\", mul_result)"
      ],
      "metadata": {
        "colab": {
          "base_uri": "https://localhost:8080/"
        },
        "id": "riPUUPm__a7n",
        "outputId": "31f8d70e-28c8-46e6-93ca-87fea756e16b"
      },
      "execution_count": null,
      "outputs": [
        {
          "output_type": "stream",
          "name": "stdout",
          "text": [
            "Enter the first number:3\n",
            "Enter the second number:4\n",
            "Multiplication: 12.0\n"
          ]
        }
      ]
    },
    {
      "cell_type": "code",
      "source": [
        "number1 = float(input(\"Enter the first number:\"))\n",
        "number2 = float(input(\"Enter the second number:\"))\n",
        "add_result = number1 + number2\n",
        "print(\"Addition:\", add_result)\n",
        "sub_result = number1 - number2\n",
        "print(\"Subtraction:\", sub_result)\n",
        "mul_result = number1 * number2\n",
        "print(\"Multiplication:\", mul_result)\n",
        "div_result = number1 / number2\n",
        "print(\"Division:\", div_result)"
      ],
      "metadata": {
        "colab": {
          "base_uri": "https://localhost:8080/"
        },
        "id": "DNSoxvdw_gPn",
        "outputId": "e5851100-5bcc-4612-8b7c-935a3e372716"
      },
      "execution_count": null,
      "outputs": [
        {
          "output_type": "stream",
          "name": "stdout",
          "text": [
            "Enter the first number:2\n",
            "Enter the second number:4\n",
            "Addition: 6.0\n",
            "Subtraction: -2.0\n",
            "Multiplication: 8.0\n",
            "Division: 0.5\n"
          ]
        }
      ]
    },
    {
      "cell_type": "markdown",
      "source": [
        "## Task 3: Age in 10 Years\n",
        "Write a program that asks the user for their age and then calculates how old they will be in 10 years.\n",
        "\n",
        "### Instructions\n",
        "- Use `input()` to ask for the user's age.\n",
        "- Convert the input to an integer.\n",
        "- Add 10 to the age to calculate the future age.\n",
        "- Print a message showing how old they will be in 10 years"
      ],
      "metadata": {
        "id": "VX_XdWsjAWH2"
      }
    },
    {
      "cell_type": "code",
      "source": [
        "user_age = int(input(\"What is your current age:\"))\n",
        "age_in_10_years = user_age + 10\n",
        "print(\"In 10 years, you will be \" + str(age_in_10_years) + \" years old!\")"
      ],
      "metadata": {
        "colab": {
          "base_uri": "https://localhost:8080/"
        },
        "id": "DvWhOnfyAT_6",
        "outputId": "96526b30-7c7e-4905-ddc0-916502f7fdb8"
      },
      "execution_count": null,
      "outputs": [
        {
          "output_type": "stream",
          "name": "stdout",
          "text": [
            "What is your current age:10\n",
            "In 10 years, you will be 20 years old!\n"
          ]
        }
      ]
    },
    {
      "cell_type": "markdown",
      "source": [
        "## Task 4: Favorite Number Times Table\n",
        "Write a program that asks the user for their favorite number and prints the times table for that number up to 10.\n",
        "\n",
        "### Instructions\n",
        "- Use `input()` to ask for the user's favorite number.\n",
        "- Convert the input to an integer.\n",
        "- Use a loop to print the times table from 1 to 10 for that number.\n"
      ],
      "metadata": {
        "id": "6qS39TsiAjzo"
      }
    },
    {
      "cell_type": "code",
      "source": [
        "user_number = int(input(\"What is your favorite number \"))\n",
        "print(\"Here is the times table for \" + str(user_number) + \":\")\n",
        "\n",
        "for i in range(1, 11):\n",
        "    print(user_number, \"x\", i, \"=\", user_number * i)"
      ],
      "metadata": {
        "colab": {
          "base_uri": "https://localhost:8080/"
        },
        "id": "BW-gjyXEAcjn",
        "outputId": "9ccbf441-a737-4476-e4d3-db10ac2f3edf"
      },
      "execution_count": null,
      "outputs": [
        {
          "output_type": "stream",
          "name": "stdout",
          "text": [
            "What is your favorite number 2\n",
            "Here is the times table for 2:\n",
            "2 x 1 = 2\n",
            "2 x 2 = 4\n",
            "2 x 3 = 6\n",
            "2 x 4 = 8\n",
            "2 x 5 = 10\n",
            "2 x 6 = 12\n",
            "2 x 7 = 14\n",
            "2 x 8 = 16\n",
            "2 x 9 = 18\n",
            "2 x 10 = 20\n"
          ]
        }
      ]
    },
    {
      "cell_type": "code",
      "source": [],
      "metadata": {
        "id": "RQBJISijAq4f"
      },
      "execution_count": null,
      "outputs": []
    }
  ]
}