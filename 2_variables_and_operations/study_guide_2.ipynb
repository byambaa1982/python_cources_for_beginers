{
  "cells": [
    {
      "cell_type": "markdown",
      "metadata": {
        "id": "view-in-github",
        "colab_type": "text"
      },
      "source": [
        "<a href=\"https://colab.research.google.com/github/byambaa1982/python_cources_for_beginers/blob/class_zero_burentugs/2_variables_and_operations/study_guide_2.ipynb\" target=\"_parent\"><img src=\"https://colab.research.google.com/assets/colab-badge.svg\" alt=\"Open In Colab\"/></a>"
      ]
    },
    {
      "cell_type": "markdown",
      "metadata": {
        "id": "I21AhxLoSeuA"
      },
      "source": [
        "# 2. [Python Data Types](https://github.com/byambaa1982/python_cources_for_beginers/blob/main/2_variables_and_operations/study_guide_2.ipynb)"
      ]
    },
    {
      "cell_type": "markdown",
      "source": [
        "## Integer Examples"
      ],
      "metadata": {
        "id": "NcjOworVt9qW"
      }
    },
    {
      "cell_type": "code",
      "source": [
        "100/2\n"
      ],
      "metadata": {
        "colab": {
          "base_uri": "https://localhost:8080/"
        },
        "id": "BL8KX83HwFE8",
        "outputId": "9f4dd64a-9b3e-4f6a-e968-9cd7704cc1f4"
      },
      "execution_count": 15,
      "outputs": [
        {
          "output_type": "execute_result",
          "data": {
            "text/plain": [
              "50.0"
            ]
          },
          "metadata": {},
          "execution_count": 15
        }
      ]
    },
    {
      "cell_type": "code",
      "source": [
        "12*31"
      ],
      "metadata": {
        "colab": {
          "base_uri": "https://localhost:8080/"
        },
        "id": "zd3TnyfTzFpC",
        "outputId": "1929ff48-9fca-4f2d-bc8c-400f95bffdfc"
      },
      "execution_count": 16,
      "outputs": [
        {
          "output_type": "execute_result",
          "data": {
            "text/plain": [
              "372"
            ]
          },
          "metadata": {},
          "execution_count": 16
        }
      ]
    },
    {
      "cell_type": "code",
      "source": [
        "# Adding two integers\n",
        "number1 = 73123\n",
        "number2 = 312414\n",
        "sum = number1 + number2\n",
        "print(\"The sum of\", number1, \"and\", number2, \"is\", sum)  # Output: The sum of 7 and 3 is 10\n"
      ],
      "metadata": {
        "id": "7Y6ZBsWLtPQI",
        "colab": {
          "base_uri": "https://localhost:8080/"
        },
        "outputId": "db322546-9252-4f50-ece9-2cf44e0e1e91"
      },
      "execution_count": 2,
      "outputs": [
        {
          "output_type": "stream",
          "name": "stdout",
          "text": [
            "The sum of 73123 and 312414 is 385537\n"
          ]
        }
      ]
    },
    {
      "cell_type": "code",
      "source": [
        "# Subtracting two integers\n",
        "number1 = 132\n",
        "number2 = 14\n",
        "product = number1 - number2\n",
        "print(\"The difference of\", number1, \"and\", number2, \"is\", difference)"
      ],
      "metadata": {
        "colab": {
          "base_uri": "https://localhost:8080/"
        },
        "id": "DnuuNT8Pwyr-",
        "outputId": "6d6656a5-df1d-4697-c5f9-03763a7c527c"
      },
      "execution_count": 18,
      "outputs": [
        {
          "output_type": "stream",
          "name": "stdout",
          "text": [
            "The difference of 132 and 14 is 118\n"
          ]
        }
      ]
    },
    {
      "cell_type": "code",
      "source": [
        "\n",
        "number1 = 71\n",
        "number2 = 31\n",
        "product = number1 * number2\n",
        "print(\"The multiplication of\", number1, \"and\", number2, \"is\", multiplication)"
      ],
      "metadata": {
        "collapsed": true,
        "colab": {
          "base_uri": "https://localhost:8080/"
        },
        "id": "V41_-OmuxNOH",
        "outputId": "e1f2ded3-5983-4657-ace9-cf32df490bba"
      },
      "execution_count": 20,
      "outputs": [
        {
          "output_type": "stream",
          "name": "stdout",
          "text": [
            "The multiplication of 71 and 31 is 2201\n"
          ]
        }
      ]
    },
    {
      "cell_type": "code",
      "source": [
        "\n",
        "number1 = 12\n",
        "number2 = 3\n",
        "Division = number1 / number2\n",
        "print(\"The quotient of\", number1, \"and\", number2, \"is\", quotient)"
      ],
      "metadata": {
        "colab": {
          "base_uri": "https://localhost:8080/"
        },
        "id": "Smko6EorxtDT",
        "outputId": "f99e6119-8e4d-45e4-bf85-52514ad585ee"
      },
      "execution_count": 35,
      "outputs": [
        {
          "output_type": "stream",
          "name": "stdout",
          "text": [
            "The quotient of 12 and 3 is 4.0\n"
          ]
        }
      ]
    },
    {
      "cell_type": "code",
      "source": [
        "# Calculating the number of apples in two baskets\n",
        "apples_in_basket1 = 12\n",
        "apples_in_basket2 = 8\n",
        "total_apples = apples_in_basket1 + apples_in_basket2\n",
        "print(\"Total apples in both baskets:\", total_apples)  # Output: Total apples in both baskets: 20\n"
      ],
      "metadata": {
        "id": "Spdg0oEqtPTn"
      },
      "execution_count": null,
      "outputs": []
    },
    {
      "cell_type": "markdown",
      "source": [
        "## Float Examples"
      ],
      "metadata": {
        "id": "0RD89RQEuFVX"
      }
    },
    {
      "cell_type": "code",
      "source": [
        "# Calculating the area of a rectangle\n",
        "length = 5.5  # in meters\n",
        "width = 3.2   # in meters\n",
        "area = length * width\n",
        "print(\"Area of the rectangle is\", area, \"square meters\")  # Output: Area of the rectangle is 17.6 square meters\n"
      ],
      "metadata": {
        "id": "D9lV99R2tPWi"
      },
      "execution_count": null,
      "outputs": []
    },
    {
      "cell_type": "code",
      "source": [
        "length = 9.6  # in meters\n",
        "width = 6.4   # in meters\n",
        "height = 5.5  # in meters\n",
        "volume = length * width * height\n",
        "print(\"Volume of the cuboid is\", volume, \"cubic meters\")  # Output: Volume of the cuboid is 57.6 cubic meters"
      ],
      "metadata": {
        "id": "6LSxqHgQ4fLS"
      },
      "execution_count": null,
      "outputs": []
    },
    {
      "cell_type": "code",
      "source": [
        "# Finding the average score\n",
        "score1 = 95.5\n",
        "score2 = 82.3\n",
        "score3 = 88.9\n",
        "average_score = (score1 + score2 + score3) / 3\n",
        "print(\"The average score is\", round(average_score, 2))  # Output: The average score is 88.9\n"
      ],
      "metadata": {
        "id": "itc-XQ-GtPaH",
        "colab": {
          "base_uri": "https://localhost:8080/"
        },
        "outputId": "745ed700-5eaa-49af-dec4-7bb868419ffc"
      },
      "execution_count": 39,
      "outputs": [
        {
          "output_type": "stream",
          "name": "stdout",
          "text": [
            "The average score is 88.9\n"
          ]
        }
      ]
    },
    {
      "cell_type": "code",
      "source": [
        "score1"
      ],
      "metadata": {
        "id": "hJlP7iVB62Oj"
      },
      "execution_count": null,
      "outputs": []
    },
    {
      "cell_type": "markdown",
      "source": [
        "## String Examples"
      ],
      "metadata": {
        "id": "IoVB6Et0uNr5"
      }
    },
    {
      "cell_type": "code",
      "source": [
        "# Concatenating two strings\n",
        "first_name = \"Alice\"\n",
        "last_name = \"Smith\"\n",
        "full_name = first_name + \" \" + last_name\n",
        "print(\"Full name:\", full_name)  # Output: Full name: Alice Smith\n"
      ],
      "metadata": {
        "id": "Og3CcNxNtPdT"
      },
      "execution_count": null,
      "outputs": []
    },
    {
      "cell_type": "code",
      "source": [
        "first_name = \"Burentugs\"\n",
        "last_name = \"Batbayar\"\n",
        "full_name = first_name + \" \" + last_name\n",
        "print(\"Full name:\", full_name)  # Output: Full name: Burentugs"
      ],
      "metadata": {
        "colab": {
          "base_uri": "https://localhost:8080/"
        },
        "id": "AyhK8WRj2s-2",
        "outputId": "45df0396-0793-47d3-e1a4-3b31c1be470d"
      },
      "execution_count": 37,
      "outputs": [
        {
          "output_type": "stream",
          "name": "stdout",
          "text": [
            "Full name: Burentugs Batbayar\n"
          ]
        }
      ]
    },
    {
      "cell_type": "code",
      "source": [
        "# Repeating strings\n",
        "Cat noise = \"meow\"\n",
        "print(Cat noise * 5)  # Output: meowmeowmeowmeowmeow\n",
        "\n"
      ],
      "metadata": {
        "id": "XkNFSneftPgd"
      },
      "execution_count": null,
      "outputs": []
    },
    {
      "cell_type": "code",
      "source": [
        "my_name = \"Burentugs\"\n",
        "age = 15\n",
        "profession = \"Student\""
      ],
      "metadata": {
        "id": "EgTZSc307CuB"
      },
      "execution_count": 47,
      "outputs": []
    },
    {
      "cell_type": "markdown",
      "source": [
        "## Boolean Examples"
      ],
      "metadata": {
        "id": "X6IguHAUuR2J"
      }
    },
    {
      "cell_type": "code",
      "source": [
        "# Comparing two numbers\n",
        "age_mary = 15\n",
        "age_tom = 18\n",
        "is_older = age_tom > age_mary\n",
        "print(\"Is Tom older than Mary?\", is_older)  # Output: Is Tom older than Mary? True\n"
      ],
      "metadata": {
        "id": "19XsJi6_tPkM"
      },
      "execution_count": null,
      "outputs": []
    },
    {
      "cell_type": "code",
      "source": [
        "height_dad = 175\n",
        "height_son = 163\n",
        "is_taller = height_dad > height_son\n",
        "print(\"Is Dad taller than Son?\", is_taller)  # Output: Is Dad taller than Son? False"
      ],
      "metadata": {
        "id": "GS6XrLz85OZ-"
      },
      "execution_count": null,
      "outputs": []
    },
    {
      "cell_type": "code",
      "source": [
        "# Using logical operators\n",
        "has_homework = True\n",
        "finished_homework = False\n",
        "can_play_games = has_homework and finished_homework\n",
        "print(\"Can play games:\", can_play_games)  # Output: Can play games: False\n"
      ],
      "metadata": {
        "id": "LDGDHBzYtPn2"
      },
      "execution_count": null,
      "outputs": []
    },
    {
      "cell_type": "code",
      "source": [
        "has_dinner = True\n",
        "finished_washing hands = True\n",
        "can_eat_dinner = has_dinner or finished_washing hands\n",
        "print(\"Can eat dinner:\", can_eat_dinner)  # Output: Can eat dinner: True"
      ],
      "metadata": {
        "id": "V-26cBvdtPq8"
      },
      "execution_count": null,
      "outputs": []
    },
    {
      "cell_type": "code",
      "source": [],
      "metadata": {
        "id": "f_XP8U1ktPuS"
      },
      "execution_count": null,
      "outputs": []
    },
    {
      "cell_type": "code",
      "source": [],
      "metadata": {
        "id": "Aqohk7pMtPxr"
      },
      "execution_count": null,
      "outputs": []
    },
    {
      "cell_type": "code",
      "source": [],
      "metadata": {
        "id": "sv0Rd3yptP01"
      },
      "execution_count": null,
      "outputs": []
    },
    {
      "cell_type": "code",
      "source": [],
      "metadata": {
        "id": "BAk5-InRtP3q"
      },
      "execution_count": null,
      "outputs": []
    },
    {
      "cell_type": "code",
      "source": [],
      "metadata": {
        "id": "lQp0c03XtP62"
      },
      "execution_count": null,
      "outputs": []
    },
    {
      "cell_type": "code",
      "source": [],
      "metadata": {
        "id": "sKRHQifutP-B"
      },
      "execution_count": null,
      "outputs": []
    },
    {
      "cell_type": "markdown",
      "metadata": {
        "id": "dY4zT2kktRWs"
      },
      "source": [
        "## 1. Integer\n",
        "\n",
        "Let's start by understanding what Python and integers are. Python is a high-level, general-purpose programming language. It is often praised for its clear and readable syntax, which makes it an excellent choice for beginners learning to code.\n",
        "\n",
        "An integer in Python, as in mathematics, is a whole number that could be either positive or negative. It doesn't include fractions or decimals.\n",
        "\n",
        "In Python, you can assign an integer to a variable directly. Let's look at a simple example:\n",
        "```python\n",
        "x = 10\n",
        "\n",
        "```\n",
        "Here, `x` is a variable and we have assigned the integer value `10` to it. You don't have to explicitly declare the type of the variable in Python (like in some other programming languages), Python is smart enough to understand that `x` is an integer.\n",
        "\n",
        "If you want to know the type of a variable, you can use the `type()` function. In our example, you could do the following:\n",
        "\n",
        "```python\n",
        "print(type(x))\n",
        "```\n",
        "\n",
        "This will output: `<class 'int'>`, indicating that `x` is indeed an integer.\n",
        "\n",
        "You can do various operations with integers, such as addition `(+)`, subtraction `(-)`, multiplication `(*)`, division `(/)`, and others. Here's an example:\n",
        "```python\n",
        "x = 10\n",
        "y = 2\n",
        "\n",
        "# Addition\n",
        "z = x + y\n",
        "print(z)  # Outputs: 12\n",
        "\n",
        "# Subtraction\n",
        "z = x - y\n",
        "print(z)  # Outputs: 8\n",
        "\n",
        "# Multiplication\n",
        "z = x * y\n",
        "print(z)  # Outputs: 20\n",
        "\n",
        "# Division\n",
        "z = x / y\n",
        "print(z)  # Outputs: 5.0\n",
        "\n",
        "```\n",
        "\n",
        "Notice that division of two integers results in a float, not an integer. If you want the result to be an integer, you can use the floor division operator `(//)`:\n",
        "\n",
        "```python\n",
        "z = x // y\n",
        "print(z)  # Outputs: 5\n",
        "\n",
        "```\n",
        "This is a basic introduction to integers in Python. As you continue learning Python, you'll encounter more complex operations and concepts."
      ]
    },
    {
      "cell_type": "markdown",
      "metadata": {
        "id": "NzbcimLatDW8"
      },
      "source": [
        "### Practices and [Solution Code](solution_code_2.ipynb)\n",
        "\n",
        "1 . `Basic Arithmetic Task`: Create a Python program that asks the user to input two integers, performs addition, subtraction, multiplication, and division operations on them, and then prints the results.\n",
        "\n",
        "Example Output:\n",
        "\n",
        "```yaml\n",
        "Enter the first number: 10\n",
        "Enter the second number: 5\n",
        "Addition: 15\n",
        "Subtraction: 5\n",
        "Multiplication: 50\n",
        "Division: 2.0\n",
        "\n",
        "```\n",
        "\n",
        "2 . `Odd or Even`: Write a Python program that asks the user for a number and then prints whether the number is odd or even.\n",
        "\n",
        "Example Output:\n",
        "\n",
        "```yaml\n",
        "Enter a number: 7\n",
        "The number is odd.\n",
        "\n",
        "```\n",
        "\n",
        "3 . `Prime Number Checker`: Write a Python program that asks the user for a number and determines whether or not it is a prime number.\n",
        "\n",
        "Example Output:\n",
        "\n",
        "```yaml\n",
        "Enter a number: 11\n",
        "The number is prime.\n",
        "\n",
        "```\n",
        "\n",
        "4 . `Factorial Calculator`: Write a Python program that calculates the factorial of a number. The factorial of n is the product of all positive integers less than or equal to n.\n",
        "\n",
        "Example Output:\n",
        "\n",
        "```yaml\n",
        "\n",
        "Enter a number: 5\n",
        "The factorial of 5 is 120.\n",
        "\n",
        "\n",
        "```"
      ]
    },
    {
      "cell_type": "code",
      "execution_count": null,
      "metadata": {
        "id": "ASrOLy68tDW8"
      },
      "outputs": [],
      "source": [
        "# copy any of code here and run."
      ]
    },
    {
      "cell_type": "markdown",
      "metadata": {
        "id": "BjYO22U9tllt"
      },
      "source": [
        "## 2. Floats\n",
        "\n",
        "A floating-point number, or simply a \"float\", in Python (or in programming generally), is a numerical value with a decimal point. Floats are used when more precision is needed. For instance, when you are working with data that requires decimal values, such as measurements or calculations in mathematics or physics.\n",
        "\n",
        "Here is an example of a floating-point number in Python:"
      ]
    },
    {
      "cell_type": "code",
      "execution_count": null,
      "metadata": {
        "id": "NPCpwKy_tDW9",
        "outputId": "9e9d242e-cedf-4f99-d5bd-3575b4a2bd86"
      },
      "outputs": [
        {
          "name": "stdout",
          "output_type": "stream",
          "text": [
            "10.5\n"
          ]
        }
      ],
      "source": [
        "x = 10.5\n",
        "print(x)"
      ]
    },
    {
      "cell_type": "markdown",
      "metadata": {
        "id": "LiGTod_2tDW-"
      },
      "source": [
        "This will output `10.5`.\n",
        "\n",
        "If you want to know the type of a variable, you can use the `type()` function. In our example, you could do the following:"
      ]
    },
    {
      "cell_type": "code",
      "execution_count": null,
      "metadata": {
        "id": "Tsgw7dY6tDW-",
        "outputId": "1e614839-1259-4923-b954-2d25ccd64b56"
      },
      "outputs": [
        {
          "name": "stdout",
          "output_type": "stream",
          "text": [
            "<class 'float'>\n"
          ]
        }
      ],
      "source": [
        "print(type(x))"
      ]
    },
    {
      "cell_type": "markdown",
      "metadata": {
        "id": "byd9IAgJtDW-"
      },
      "source": [
        "This will output: `<class 'float'>`, indicating that x is indeed a floating-point number.\n",
        "\n",
        "The primary difference between an integer and a float is that integers are whole numbers without a decimal point, while floats can represent both whole numbers and real numbers that include a decimal point. So if you're dealing with numbers that include fractions or decimals, you'd use a float, but if you're counting whole things that can't be broken up, you'd use an integer.\n",
        "\n",
        "For example, if you're counting the number of people in a room, you would use an integer, because you can't have a fraction of a person. But if you're measuring the length of something and it's not a whole number, you'd use a float.\n",
        "\n",
        "In Python, you can perform similar operations with floats as with integers, like addition, subtraction, multiplication, and division. Python will also automatically convert integers to floats in expressions if the result is a fractional value.\n",
        "\n",
        "Here's an example:\n",
        "\n"
      ]
    },
    {
      "cell_type": "code",
      "execution_count": null,
      "metadata": {
        "id": "6d4lvddStDW-",
        "outputId": "8b3f78e3-24a5-4ef0-ed42-4a0c34d482a7"
      },
      "outputs": [
        {
          "name": "stdout",
          "output_type": "stream",
          "text": [
            "3.3333333333333335\n"
          ]
        }
      ],
      "source": [
        "x = 10  # This is an integer\n",
        "y = 3   # This is another integer\n",
        "\n",
        "z = x / y  # Division of two integers\n",
        "\n",
        "print(z)  # Outputs: 3.3333333333333335\n"
      ]
    },
    {
      "cell_type": "markdown",
      "metadata": {
        "id": "t6D6UISvtDW_"
      },
      "source": [
        "Although `x` and `y` are both integers, the division results in a `float`, because the result is a fractional value."
      ]
    },
    {
      "cell_type": "markdown",
      "metadata": {
        "id": "b_jRCXbQtDW_"
      },
      "source": [
        "## Practices and [Solution Code](solution_code_2.ipynb)\n",
        "\n",
        "1 . `Area of Circle`: Write a Python program that asks the user for the radius of a circle (a floating-point number) and calculates and prints the area of the circle. The formula to calculate the area of a circle is πr^2, where r is the radius of the circle.\n",
        "\n",
        "Example Output:\n",
        "\n",
        "```yaml\n",
        "\n",
        "Enter the radius of the circle: 5.5\n",
        "The area of the circle is 95.03317891.\n",
        "```\n",
        "\n",
        "2 . `Distance Between Points`: Write a Python program that asks the user for the coordinates of two points in the format (x1, y1) and (x2, y2), and calculates the distance between them. The formula to calculate the distance between two points is sqrt((x2 - x1)^2 + (y2 - y1)^2).\n",
        "\n",
        "Example Output:\n",
        "\n",
        "```yaml\n",
        "\n",
        "Enter x1: 2.5\n",
        "Enter y1: 4.3\n",
        "Enter x2: 5.1\n",
        "Enter y2: 7.8\n",
        "The distance between the points is 4.6010860639.\n",
        "```\n",
        "\n",
        "3 . `Body Mass Index (BMI) Calculator`: Write a Python program that calculates the BMI from the user's weight (in kilograms) and height (in meters). The formula to calculate BMI is weight / height^2.\n",
        "\n",
        "Example Output:\n",
        "```yaml\n",
        "\n",
        "Enter your weight in kg: 70.5\n",
        "Enter your height in m: 1.75\n",
        "Your BMI is 23.02.\n",
        "```"
      ]
    },
    {
      "cell_type": "markdown",
      "metadata": {
        "id": "1OEr8dezt98g"
      },
      "source": [
        "## 3. String\n",
        "\n",
        "A string in Python is a sequence of characters. Strings in Python are amongst the commonly used data types. They can be defined by enclosing a sequence of characters within single quotes (' '), double quotes (\" \"), or triple quotes (''' ''' or \"\"\" \"\"\").\n",
        "\n",
        "Here's an example of a string in Python:"
      ]
    },
    {
      "cell_type": "code",
      "execution_count": null,
      "metadata": {
        "id": "BJBOCNNYtDW_",
        "outputId": "ce7984b2-7b90-42d1-c800-49f900db4956"
      },
      "outputs": [
        {
          "name": "stdout",
          "output_type": "stream",
          "text": [
            "Hello, World!\n"
          ]
        }
      ],
      "source": [
        "x = \"Hello, World!\"\n",
        "print(x)\n"
      ]
    },
    {
      "cell_type": "markdown",
      "metadata": {
        "id": "QJyOnR5ytDW_"
      },
      "source": [
        "This will output `Hello, World!`.\n",
        "\n",
        "If you want to know the type of a variable, you can use the type() function. In our example, you could do the following:"
      ]
    },
    {
      "cell_type": "code",
      "execution_count": null,
      "metadata": {
        "colab": {
          "base_uri": "https://localhost:8080/"
        },
        "id": "slRB3LT-uAas",
        "outputId": "cbfaa10f-c3ae-473a-9248-3aa82196c28d"
      },
      "outputs": [
        {
          "name": "stdout",
          "output_type": "stream",
          "text": [
            "<class 'str'>\n"
          ]
        }
      ],
      "source": [
        "print(type(x))"
      ]
    },
    {
      "cell_type": "markdown",
      "metadata": {
        "id": "zVKgmp_FtDW_"
      },
      "source": [
        "This will output `<class 'str'>`, indicating that x is indeed a string.\n",
        "\n",
        "The main difference between a string and other data types such as integer or float is that strings are used to represent text or characters, whereas integers and floats represent numerical values. You can't perform mathematical operations on strings like you can with integers or floats, but there are many other operations you can perform with strings.\n",
        "\n",
        "You can concatenate strings using the plus `(+)` operator, repeat strings using the asterisk `(*)` operator, and access individual characters in a string using indexing and slicing.\n",
        "\n",
        "Here are some examples:"
      ]
    },
    {
      "cell_type": "code",
      "execution_count": null,
      "metadata": {
        "id": "5APijLLUtDW_"
      },
      "outputs": [],
      "source": [
        "# String Concatenation\n",
        "str1 = \"Hello\"\n",
        "str2 = \"World\"\n",
        "str3 = str1 + \" \" + str2\n",
        "print(str3)  # Outputs: Hello World\n",
        "\n",
        "# String Repetition\n",
        "str4 = \"Python \"\n",
        "str5 = str4 * 3\n",
        "print(str5)  # Outputs: Python Python Python\n",
        "\n",
        "# String Indexing\n",
        "str6 = \"OpenAI\"\n",
        "print(str6[4])  # Outputs: n\n",
        "\n",
        "# String Slicing\n",
        "str7 = \"ChatGPT\"\n",
        "print(str7[1:4])  # Outputs: hat\n"
      ]
    },
    {
      "cell_type": "markdown",
      "metadata": {
        "id": "aIhSAinXtDXA"
      },
      "source": [
        "In Python, strings are also \"immutable\", which means they cannot be changed after they are created. If you try to reassign a value to a specific position in a string, Python will throw an error. However, you can create a new string based on an old one with some alterations, and that's how we usually modify strings in Python.\n",
        "\n",
        "## Practices and [Solution Code](solution_code_2.ipynb)\n",
        "\n",
        "1 . `String Length Calculation`: Write a Python program that asks the user to enter a string, and then it calculates and prints the length of the string.\n",
        "\n",
        "Example Output:\n",
        "\n",
        "```yaml\n",
        "\n",
        "Enter a string: Hello, World!\n",
        "The length of the string is 13.\n",
        "```\n",
        "\n",
        "\n",
        "2 . `Word Count`: Write a Python program that asks the user to enter a sentence, and then it counts and prints the number of words in that sentence.\n",
        "\n",
        "Example Output:\n",
        "\n",
        "```yaml\n",
        "\n",
        "Enter a sentence: Python is a popular programming language.\n",
        "The number of words in the sentence is 6.\n",
        "```\n",
        "\n",
        "3 . `Palindrome Checker`: Write a Python program that asks the user to enter a word, and then it checks and prints whether the word is a palindrome or not. A palindrome is a word that reads the same forwards and backwards.\n",
        "\n",
        "Example Output:\n",
        "\n",
        "```yaml\n",
        "Enter a word: radar\n",
        "The word is a palindrome.\n",
        "\n",
        "```\n",
        "\n",
        "In the first two tasks, the `input()` function is used to get the user's input as a string, and the `len()` function is used to calculate the length of the string or the number of words in the sentence.\n",
        "\n",
        "In the third task, Python's slicing functionality is used to reverse the string. If the original string is the same as the reversed string, then it's a palindrome."
      ]
    },
    {
      "cell_type": "markdown",
      "metadata": {
        "id": "VKlcSTOXt6mP"
      },
      "source": [
        "## 4. Lists\n",
        "\n",
        "In Python, a list is an ordered collection of items that are changeable (mutable), and it allows duplicate members. Lists are defined by enclosing a comma-separated sequence of objects in square brackets `[]`.\n",
        "\n",
        "Here's an example of a list in Python:"
      ]
    },
    {
      "cell_type": "code",
      "execution_count": null,
      "metadata": {
        "id": "fnEVh6BHt4Zd"
      },
      "outputs": [],
      "source": [
        "x = [1, 2, 3, 4, 5]\n",
        "print(x)"
      ]
    },
    {
      "cell_type": "markdown",
      "metadata": {
        "id": "d9iMdCYquau4",
        "outputId": "2e95bc75-203c-4ee3-e984-4070342ecc78"
      },
      "source": [
        "This will output: `[1, 2, 3, 4, 5]`.\n",
        "\n",
        "If you want to know the type of a variable, you can use the type() function:"
      ]
    },
    {
      "cell_type": "code",
      "execution_count": null,
      "metadata": {
        "id": "wzq_ma31tDXA"
      },
      "outputs": [],
      "source": [
        "print(type(x))"
      ]
    },
    {
      "cell_type": "markdown",
      "metadata": {
        "id": "08bz9xaFtDXA"
      },
      "source": [
        "This will output: `<class 'list'>`, indicating that `x` is indeed a list.\n",
        "\n",
        "The main difference between a list and other data types like `strings`, `integers`, or `floats` is that a list can contain multiple items, which can be of different types. A list can contain a combination of strings, integers, floats, or even other lists.\n",
        "\n",
        "You can access individual items in a list using indexing, and you can change the value of items in a list, which you can't do with strings. You can also add new items to a list, remove items from a list, and do other operations such as sorting and reversing a list.\n",
        "\n",
        "## Practices and [Solution Code](solution_code_2.ipynb)\n",
        "\n",
        "1 . `Sum of Numbers in a List`: Write a Python program that calculates and prints the sum of all numbers in a given list.\n",
        "\n",
        "`Example Output`:\n",
        "```yaml\n",
        "\n",
        "The list is: [1, 2, 3, 4, 5]\n",
        "The sum of numbers in the list is 15.\n",
        "```\n"
      ]
    },
    {
      "cell_type": "markdown",
      "metadata": {
        "id": "wcvy9NFftDXA"
      },
      "source": [
        "2 . `List Sorting`: Write a Python program that sorts a given list in ascending order.\n",
        "\n",
        "`Example Output`:\n",
        "```yaml\n",
        "The original list is: [2, 5, 1, 8, 7]\n",
        "The sorted list is: [1, 2, 5, 7, 8]\n",
        "```"
      ]
    },
    {
      "cell_type": "markdown",
      "metadata": {
        "id": "nFAKG9V2tDXA"
      },
      "source": [
        "3 . `List Reverse`:\n",
        "Write a Python program that reverses the order of items in a given list.\n",
        "\n",
        "`Example Output`:\n",
        "\n",
        "```yaml\n",
        "\n",
        "The original list is: ['Python', 'Java', 'C++', 'JavaScript']\n",
        "The reversed list is: ['JavaScript', 'C++', 'Java', 'Python']\n",
        "```\n",
        "\n",
        "In each of these tasks, the `sum()`, `sort()`, and `reverse()` functions are used to perform operations on the lists."
      ]
    },
    {
      "cell_type": "markdown",
      "metadata": {
        "id": "5Z3UblmbuD7b"
      },
      "source": [
        "While we've covered integers, floats, strings, and lists, it's important to note that Python also offers other powerful data structures such as sets, dictionaries, and tuples. These data structures provide additional methods to store and organize data in different ways, depending on your specific needs.\n",
        "\n",
        "- Sets are unordered collections of unique elements. They are ideal when you want to eliminate duplicates or check membership efficiently.\n",
        "\n",
        "- Dictionaries (or dicts) are key-value pairs, a bit like hash tables in other languages. They are perfect for scenarios where you want to associate items with a unique key.\n",
        "\n",
        "- Tuples are similar to lists in that they can hold multiple items, but unlike lists, they are immutable, meaning they can't be changed after they are created.\n",
        "\n",
        "Each of these data structures has its own strengths and specific use cases, and learning to use them effectively is a key part of mastering Python. We'll explore these data structures in more detail later in this course, so stay tuned!"
      ]
    },
    {
      "cell_type": "code",
      "execution_count": null,
      "metadata": {
        "id": "tMXOYDhbSQZm"
      },
      "outputs": [],
      "source": []
    }
  ],
  "metadata": {
    "colab": {
      "provenance": [],
      "include_colab_link": true
    },
    "kernelspec": {
      "display_name": "Python 3",
      "language": "python",
      "name": "python3"
    },
    "language_info": {
      "codemirror_mode": {
        "name": "ipython",
        "version": 3
      },
      "file_extension": ".py",
      "mimetype": "text/x-python",
      "name": "python",
      "nbconvert_exporter": "python",
      "pygments_lexer": "ipython3",
      "version": "3.6.9"
    }
  },
  "nbformat": 4,
  "nbformat_minor": 0
}