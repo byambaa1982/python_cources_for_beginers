{
 "cells": [
  {
   "cell_type": "markdown",
   "metadata": {
    "colab_type": "text",
    "id": "view-in-github"
   },
   "source": [
    "<a href=\"https://colab.research.google.com/github/byambaa1982/python_cources_for_beginers/blob/main/2_variables_and_operations/study_guide_2.ipynb\" target=\"_parent\"><img src=\"https://colab.research.google.com/assets/colab-badge.svg\" alt=\"Open In Colab\"/></a>"
   ]
  },
  {
   "cell_type": "markdown",
   "metadata": {
    "id": "I21AhxLoSeuA"
   },
   "source": [
    "# Python Data Types"
   ]
  },
  {
   "cell_type": "markdown",
   "metadata": {
    "id": "dY4zT2kktRWs"
   },
   "source": [
    "## 1. Integer\n",
    "\n",
    "Let's start by understanding what Python and integers are. Python is a high-level, general-purpose programming language. It is often praised for its clear and readable syntax, which makes it an excellent choice for beginners learning to code.\n",
    "\n",
    "An integer in Python, as in mathematics, is a whole number that could be either positive or negative. It doesn't include fractions or decimals.\n",
    "\n",
    "In Python, you can assign an integer to a variable directly. Let's look at a simple example:\n",
    "```python \n",
    "x = 10\n",
    "\n",
    "```\n",
    "Here, `x` is a variable and we have assigned the integer value `10` to it. You don't have to explicitly declare the type of the variable in Python (like in some other programming languages), Python is smart enough to understand that `x` is an integer.\n",
    "\n",
    "If you want to know the type of a variable, you can use the `type()` function. In our example, you could do the following:\n",
    "\n",
    "```python\n",
    "print(type(x))\n",
    "```\n",
    "\n",
    "This will output: `<class 'int'>`, indicating that `x` is indeed an integer.\n",
    "\n",
    "You can do various operations with integers, such as addition `(+)`, subtraction `(-)`, multiplication `(*)`, division `(/)`, and others. Here's an example:\n",
    "```python\n",
    "x = 10\n",
    "y = 2\n",
    "\n",
    "# Addition\n",
    "z = x + y\n",
    "print(z)  # Outputs: 12\n",
    "\n",
    "# Subtraction\n",
    "z = x - y\n",
    "print(z)  # Outputs: 8\n",
    "\n",
    "# Multiplication\n",
    "z = x * y\n",
    "print(z)  # Outputs: 20\n",
    "\n",
    "# Division\n",
    "z = x / y\n",
    "print(z)  # Outputs: 5.0\n",
    "\n",
    "```\n",
    "\n",
    "Notice that division of two integers results in a float, not an integer. If you want the result to be an integer, you can use the floor division operator `(//)`:\n",
    "\n",
    "```python\n",
    "z = x // y\n",
    "print(z)  # Outputs: 5\n",
    "\n",
    "```\n",
    "This is a basic introduction to integers in Python. As you continue learning Python, you'll encounter more complex operations and concepts."
   ]
  },
  {
   "cell_type": "markdown",
   "metadata": {},
   "source": [
    "### Practices\n",
    "\n",
    "1 . `Basic Arithmetic Task`: Create a Python program that asks the user to input two integers, performs addition, subtraction, multiplication, and division operations on them, and then prints the results.\n",
    "\n",
    "Example Output:\n",
    "\n",
    "```yaml\n",
    "Enter the first number: 10\n",
    "Enter the second number: 5\n",
    "Addition: 15\n",
    "Subtraction: 5\n",
    "Multiplication: 50\n",
    "Division: 2.0\n",
    "\n",
    "```\n",
    "\n",
    "2 . `Odd or Even`: Write a Python program that asks the user for a number and then prints whether the number is odd or even.\n",
    "\n",
    "Example Output:\n",
    "\n",
    "```yaml\n",
    "Enter a number: 7\n",
    "The number is odd.\n",
    "\n",
    "```\n",
    "\n",
    "3 . `Prime Number Checker`: Write a Python program that asks the user for a number and determines whether or not it is a prime number.\n",
    "\n",
    "Example Output:\n",
    "\n",
    "```yaml\n",
    "Enter a number: 11\n",
    "The number is prime.\n",
    "\n",
    "```\n",
    "\n",
    "4 . `Factorial Calculator`: Write a Python program that calculates the factorial of a number. The factorial of n is the product of all positive integers less than or equal to n.\n",
    "\n",
    "Example Output:\n",
    "\n",
    "```yaml\n",
    "\n",
    "Enter a number: 5\n",
    "The factorial of 5 is 120.\n",
    "\n",
    "\n",
    "```"
   ]
  },
  {
   "cell_type": "code",
   "execution_count": 1,
   "metadata": {},
   "outputs": [],
   "source": [
    "# copy any of code here and run. "
   ]
  },
  {
   "cell_type": "markdown",
   "metadata": {
    "id": "BjYO22U9tllt"
   },
   "source": [
    "## 2. Floats\n",
    "\n",
    "A floating-point number, or simply a \"float\", in Python (or in programming generally), is a numerical value with a decimal point. Floats are used when more precision is needed. For instance, when you are working with data that requires decimal values, such as measurements or calculations in mathematics or physics.\n",
    "\n",
    "Here is an example of a floating-point number in Python:"
   ]
  },
  {
   "cell_type": "code",
   "execution_count": 3,
   "metadata": {},
   "outputs": [
    {
     "name": "stdout",
     "output_type": "stream",
     "text": [
      "10.5\n"
     ]
    }
   ],
   "source": [
    "x = 10.5\n",
    "print(x)"
   ]
  },
  {
   "cell_type": "markdown",
   "metadata": {},
   "source": [
    "This will output `10.5`.\n",
    "\n",
    "If you want to know the type of a variable, you can use the `type()` function. In our example, you could do the following:"
   ]
  },
  {
   "cell_type": "code",
   "execution_count": 4,
   "metadata": {},
   "outputs": [
    {
     "name": "stdout",
     "output_type": "stream",
     "text": [
      "<class 'float'>\n"
     ]
    }
   ],
   "source": [
    "print(type(x))"
   ]
  },
  {
   "cell_type": "markdown",
   "metadata": {},
   "source": [
    "This will output: `<class 'float'>`, indicating that x is indeed a floating-point number.\n",
    "\n",
    "The primary difference between an integer and a float is that integers are whole numbers without a decimal point, while floats can represent both whole numbers and real numbers that include a decimal point. So if you're dealing with numbers that include fractions or decimals, you'd use a float, but if you're counting whole things that can't be broken up, you'd use an integer.\n",
    "\n",
    "For example, if you're counting the number of people in a room, you would use an integer, because you can't have a fraction of a person. But if you're measuring the length of something and it's not a whole number, you'd use a float.\n",
    "\n",
    "In Python, you can perform similar operations with floats as with integers, like addition, subtraction, multiplication, and division. Python will also automatically convert integers to floats in expressions if the result is a fractional value.\n",
    "\n",
    "Here's an example:\n",
    "\n"
   ]
  },
  {
   "cell_type": "code",
   "execution_count": 5,
   "metadata": {},
   "outputs": [
    {
     "name": "stdout",
     "output_type": "stream",
     "text": [
      "3.3333333333333335\n"
     ]
    }
   ],
   "source": [
    "x = 10  # This is an integer\n",
    "y = 3   # This is another integer\n",
    "\n",
    "z = x / y  # Division of two integers\n",
    "\n",
    "print(z)  # Outputs: 3.3333333333333335\n"
   ]
  },
  {
   "cell_type": "markdown",
   "metadata": {},
   "source": [
    "Although `x` and `y` are both integers, the division results in a `float`, because the result is a fractional value."
   ]
  },
  {
   "cell_type": "markdown",
   "metadata": {},
   "source": [
    "## Practices\n",
    "\n",
    "1 . `Area of Circle`: Write a Python program that asks the user for the radius of a circle (a floating-point number) and calculates and prints the area of the circle. The formula to calculate the area of a circle is πr^2, where r is the radius of the circle.\n",
    "\n",
    "Example Output:\n",
    "\n",
    "```yaml\n",
    "\n",
    "Enter the radius of the circle: 5.5\n",
    "The area of the circle is 95.03317891.\n",
    "```\n",
    "\n",
    "2 . `Distance Between Points`: Write a Python program that asks the user for the coordinates of two points in the format (x1, y1) and (x2, y2), and calculates the distance between them. The formula to calculate the distance between two points is sqrt((x2 - x1)^2 + (y2 - y1)^2).\n",
    "\n",
    "Example Output:\n",
    "\n",
    "```yaml\n",
    "\n",
    "Enter x1: 2.5\n",
    "Enter y1: 4.3\n",
    "Enter x2: 5.1\n",
    "Enter y2: 7.8\n",
    "The distance between the points is 4.6010860639.\n",
    "```\n",
    "\n",
    "3 . `Body Mass Index (BMI) Calculator`: Write a Python program that calculates the BMI from the user's weight (in kilograms) and height (in meters). The formula to calculate BMI is weight / height^2.\n",
    "\n",
    "Example Output:\n",
    "```yaml \n",
    "\n",
    "Enter your weight in kg: 70.5\n",
    "Enter your height in m: 1.75\n",
    "Your BMI is 23.02.\n",
    "```"
   ]
  },
  {
   "cell_type": "markdown",
   "metadata": {
    "id": "1OEr8dezt98g"
   },
   "source": [
    "## 3. String\n",
    "\n",
    "A string in Python is a sequence of characters. Strings in Python are amongst the commonly used data types. They can be defined by enclosing a sequence of characters within single quotes (' '), double quotes (\" \"), or triple quotes (''' ''' or \"\"\" \"\"\").\n",
    "\n",
    "Here's an example of a string in Python:"
   ]
  },
  {
   "cell_type": "code",
   "execution_count": 6,
   "metadata": {},
   "outputs": [
    {
     "name": "stdout",
     "output_type": "stream",
     "text": [
      "Hello, World!\n"
     ]
    }
   ],
   "source": [
    "x = \"Hello, World!\"\n",
    "print(x)\n"
   ]
  },
  {
   "cell_type": "markdown",
   "metadata": {},
   "source": [
    "This will output `Hello, World!`.\n",
    "\n",
    "If you want to know the type of a variable, you can use the type() function. In our example, you could do the following:"
   ]
  },
  {
   "cell_type": "code",
   "execution_count": 7,
   "metadata": {
    "colab": {
     "base_uri": "https://localhost:8080/"
    },
    "id": "slRB3LT-uAas",
    "outputId": "cbfaa10f-c3ae-473a-9248-3aa82196c28d"
   },
   "outputs": [
    {
     "name": "stdout",
     "output_type": "stream",
     "text": [
      "<class 'str'>\n"
     ]
    }
   ],
   "source": [
    "print(type(x))"
   ]
  },
  {
   "cell_type": "markdown",
   "metadata": {},
   "source": [
    "This will output `<class 'str'>`, indicating that x is indeed a string.\n",
    "\n",
    "The main difference between a string and other data types such as integer or float is that strings are used to represent text or characters, whereas integers and floats represent numerical values. You can't perform mathematical operations on strings like you can with integers or floats, but there are many other operations you can perform with strings.\n",
    "\n",
    "You can concatenate strings using the plus `(+)` operator, repeat strings using the asterisk `(*)` operator, and access individual characters in a string using indexing and slicing.\n",
    "\n",
    "Here are some examples:"
   ]
  },
  {
   "cell_type": "code",
   "execution_count": null,
   "metadata": {},
   "outputs": [],
   "source": [
    "# String Concatenation\n",
    "str1 = \"Hello\"\n",
    "str2 = \"World\"\n",
    "str3 = str1 + \" \" + str2\n",
    "print(str3)  # Outputs: Hello World\n",
    "\n",
    "# String Repetition\n",
    "str4 = \"Python \"\n",
    "str5 = str4 * 3\n",
    "print(str5)  # Outputs: Python Python Python \n",
    "\n",
    "# String Indexing\n",
    "str6 = \"OpenAI\"\n",
    "print(str6[4])  # Outputs: n\n",
    "\n",
    "# String Slicing\n",
    "str7 = \"ChatGPT\"\n",
    "print(str7[1:4])  # Outputs: hat\n"
   ]
  },
  {
   "cell_type": "markdown",
   "metadata": {},
   "source": [
    "In Python, strings are also \"immutable\", which means they cannot be changed after they are created. If you try to reassign a value to a specific position in a string, Python will throw an error. However, you can create a new string based on an old one with some alterations, and that's how we usually modify strings in Python.\n",
    "\n",
    "1 . `String Length Calculation`: Write a Python program that asks the user to enter a string, and then it calculates and prints the length of the string.\n",
    "\n",
    "Example Output:\n",
    "\n",
    "```yaml \n",
    "\n",
    "Enter a string: Hello, World!\n",
    "The length of the string is 13.\n",
    "```\n",
    "2 . `Word Count`: Write a Python program that asks the user to enter a sentence, and then it counts and prints the number of words in that sentence.\n",
    "\n",
    "Example Output:\n",
    "\n",
    "```yaml\n",
    "\n",
    "Enter a sentence: Python is a popular programming language.\n",
    "The number of words in the sentence is 6.\n",
    "```\n",
    "\n",
    "3 . `Palindrome Checker`: Write a Python program that asks the user to enter a word, and then it checks and prints whether the word is a palindrome or not. A palindrome is a word that reads the same forwards and backwards.\n",
    "\n",
    "Example Output:\n",
    "\n",
    "```yaml\n",
    "Enter a word: radar\n",
    "The word is a palindrome.\n",
    "\n",
    "```\n",
    "\n",
    "In the first two tasks, the `input()` function is used to get the user's input as a string, and the `len()` function is used to calculate the length of the string or the number of words in the sentence.\n",
    "\n",
    "In the third task, Python's slicing functionality is used to reverse the string. If the original string is the same as the reversed string, then it's a palindrome."
   ]
  },
  {
   "cell_type": "markdown",
   "metadata": {
    "id": "VKlcSTOXt6mP"
   },
   "source": [
    "## Lists\n",
    "\n",
    "3. List (list): Represents an ordered collection of items enclosed in square brackets [ ]. Lists can contain elements of different data types and can be modified (mutable). For example: [1, 2, 3], ['apple', 'banana', 'cherry']."
   ]
  },
  {
   "cell_type": "code",
   "execution_count": null,
   "metadata": {
    "colab": {
     "base_uri": "https://localhost:8080/"
    },
    "id": "fnEVh6BHt4Zd",
    "outputId": "1a3db5e4-434c-4351-91b3-35854c1a01f9"
   },
   "outputs": [
    {
     "name": "stdout",
     "output_type": "stream",
     "text": [
      "apple\n",
      "['apple', 'blueberry', 'cherry']\n"
     ]
    }
   ],
   "source": [
    "# Declare a list variable\n",
    "fruits = [\"apple\", \"banana\", \"cherry\"]\n",
    "\n",
    "# Access elements of a list\n",
    "print(fruits[0])  # Output: apple\n",
    "\n",
    "# Modify elements of a list\n",
    "fruits[1] = \"blueberry\"\n",
    "print(fruits)  # Output: ['apple', 'blueberry', 'cherry']"
   ]
  },
  {
   "cell_type": "code",
   "execution_count": null,
   "metadata": {
    "colab": {
     "base_uri": "https://localhost:8080/"
    },
    "id": "d9iMdCYquau4",
    "outputId": "2e95bc75-203c-4ee3-e984-4070342ecc78"
   },
   "outputs": [
    {
     "name": "stdout",
     "output_type": "stream",
     "text": [
      "apple\n"
     ]
    }
   ],
   "source": [
    "print(fruits[0])"
   ]
  },
  {
   "cell_type": "markdown",
   "metadata": {
    "id": "os9iYaCEuBGi"
   },
   "source": [
    "## Tuples\n",
    "\n",
    "4. Tuple (`tuple`): Represents an ordered collection of items enclosed in parentheses ( ). Tuples are similar to lists, but they are immutable (cannot be modified). For example: (1, 2, 3), ('red', 'green', 'blue')."
   ]
  },
  {
   "cell_type": "code",
   "execution_count": null,
   "metadata": {
    "colab": {
     "base_uri": "https://localhost:8080/"
    },
    "id": "IhWhqGwwuDT0",
    "outputId": "4513b14f-2d89-4f61-9bad-99d38a2172bc"
   },
   "outputs": [
    {
     "name": "stdout",
     "output_type": "stream",
     "text": [
      "45.3\n"
     ]
    }
   ],
   "source": [
    "# Declare a tuple variable\n",
    "coordinates = (12.5, 45.3)\n",
    "\n",
    "# Access elements of a tuple\n",
    "print(coordinates[1])  # Output: 45.3\n",
    "\n",
    "# Tuples are immutable; the following line will raise an error\n",
    "# coordinates[1] = 50"
   ]
  },
  {
   "cell_type": "markdown",
   "metadata": {
    "id": "5Z3UblmbuD7b"
   },
   "source": [
    "## Dictionaries\n",
    "\n",
    "5. Dictionary (`dict`): Represents a collection of key-value pairs enclosed in curly braces { }. Each value is associated with a unique key, allowing efficient retrieval of values. For example: {'name': 'John', 'age': 25, 'city': 'New York'}."
   ]
  },
  {
   "cell_type": "code",
   "execution_count": null,
   "metadata": {
    "colab": {
     "base_uri": "https://localhost:8080/"
    },
    "id": "kIyQoO3yuHaU",
    "outputId": "afcc7816-463c-4a5b-abc8-a5d97c1caf9b"
   },
   "outputs": [
    {
     "name": "stdout",
     "output_type": "stream",
     "text": [
      "Alice\n",
      "{'name': 'Alice', 'age': 31, 'comment': 'it is very nice'}\n"
     ]
    }
   ],
   "source": [
    "# Declare a dictionary variable\n",
    "person = {\"name\": \"Alice\", \"age\": 30, \"comment\":\"it is very nice\"}\n",
    "\n",
    "# Access elements of a dictionary\n",
    "print(person[\"name\"])  # Output: Alice\n",
    "\n",
    "# Modify elements of a dictionary\n",
    "person[\"age\"] = 31\n",
    "print(person)  # Output: {'name': 'Alice', 'age': 31}"
   ]
  },
  {
   "cell_type": "markdown",
   "metadata": {
    "id": "6NAXDbK5uI2Y"
   },
   "source": [
    "## Booleans\n",
    "\n",
    "6. The boolean data type in Python represents logical values and has two possible states: `True` and `False`. Booleans are primarily used in conditional statements and logical operations. Here's some additional information about booleans in Python:"
   ]
  },
  {
   "cell_type": "code",
   "execution_count": null,
   "metadata": {
    "colab": {
     "base_uri": "https://localhost:8080/"
    },
    "id": "NzvOfTMfuKT9",
    "outputId": "9db4173e-6387-44c5-bfee-706500d1fd72"
   },
   "outputs": [
    {
     "name": "stdout",
     "output_type": "stream",
     "text": [
      "User is active.\n"
     ]
    }
   ],
   "source": [
    "# Declare a boolean variable\n",
    "is_active = True\n",
    "\n",
    "# Use boolean in a conditional statement\n",
    "if is_active:\n",
    "    print(\"User is active.\")  # Output: User is active."
   ]
  },
  {
   "cell_type": "code",
   "execution_count": null,
   "metadata": {
    "colab": {
     "base_uri": "https://localhost:8080/"
    },
    "id": "IarMnjk_uj1s",
    "outputId": "b4643e73-bc0e-4c6d-9279-35d2a8cedcdb"
   },
   "outputs": [
    {
     "name": "stdout",
     "output_type": "stream",
     "text": [
      "False\n",
      "True\n",
      "False\n",
      "False\n",
      "True\n",
      "Hello, Alice\n"
     ]
    }
   ],
   "source": [
    "x = True\n",
    "y = False\n",
    "\n",
    "# Logical operators\n",
    "print(x and y)      # Output: False\n",
    "print(x or y)       # Output: True\n",
    "print(not x)        # Output: False\n",
    "\n",
    "# Comparison operators\n",
    "a = 5\n",
    "b = 10\n",
    "print(a > b)        # Output: False\n",
    "print(a <= b)       # Output: True\n",
    "\n",
    "# Truthiness and falsiness\n",
    "name = \"Alice\"\n",
    "if name:            # Checks if the name variable is truthy\n",
    "    print(\"Hello, \" + name)\n",
    "else:\n",
    "    print(\"Name is empty\")\n"
   ]
  },
  {
   "cell_type": "code",
   "execution_count": null,
   "metadata": {
    "id": "tMXOYDhbSQZm"
   },
   "outputs": [],
   "source": []
  }
 ],
 "metadata": {
  "colab": {
   "include_colab_link": true,
   "provenance": []
  },
  "kernelspec": {
   "display_name": "Python 3",
   "language": "python",
   "name": "python3"
  },
  "language_info": {
   "codemirror_mode": {
    "name": "ipython",
    "version": 3
   },
   "file_extension": ".py",
   "mimetype": "text/x-python",
   "name": "python",
   "nbconvert_exporter": "python",
   "pygments_lexer": "ipython3",
   "version": "3.6.9"
  }
 },
 "nbformat": 4,
 "nbformat_minor": 1
}
