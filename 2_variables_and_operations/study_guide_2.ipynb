{
  "nbformat": 4,
  "nbformat_minor": 0,
  "metadata": {
    "colab": {
      "provenance": [],
      "include_colab_link": true
    },
    "kernelspec": {
      "name": "python3",
      "display_name": "Python 3"
    },
    "language_info": {
      "name": "python"
    }
  },
  "cells": [
    {
      "cell_type": "markdown",
      "metadata": {
        "id": "view-in-github",
        "colab_type": "text"
      },
      "source": [
        "<a href=\"https://colab.research.google.com/github/byambaa1982/python_cources_for_beginers/blob/main/2_variables_and_operations/study_guide_2.ipynb\" target=\"_parent\"><img src=\"https://colab.research.google.com/assets/colab-badge.svg\" alt=\"Open In Colab\"/></a>"
      ]
    },
    {
      "cell_type": "markdown",
      "source": [
        "# Python Data Types"
      ],
      "metadata": {
        "id": "I21AhxLoSeuA"
      }
    },
    {
      "cell_type": "markdown",
      "source": [
        "## Integer\n",
        "\n",
        "1. Integer (`int`): Represents whole numbers without any decimal points. For example: 5, -3, 0."
      ],
      "metadata": {
        "id": "dY4zT2kktRWs"
      }
    },
    {
      "cell_type": "code",
      "source": [
        "# Declare an integer variable\n",
        "age = 25\n",
        "\n",
        "# Perform arithmetic operations\n",
        "result = age + 5\n",
        "print(result)  # Output: 30"
      ],
      "metadata": {
        "id": "KQPLuBNjNrXw"
      },
      "execution_count": null,
      "outputs": []
    },
    {
      "cell_type": "code",
      "source": [
        "age = 40\n",
        "result = age + 100"
      ],
      "metadata": {
        "id": "6fVskC8UN1pf"
      },
      "execution_count": null,
      "outputs": []
    },
    {
      "cell_type": "code",
      "source": [
        "print(result)"
      ],
      "metadata": {
        "id": "T1GLJZaqN5SN"
      },
      "execution_count": null,
      "outputs": []
    },
    {
      "cell_type": "code",
      "source": [
        "# Declare a float variable\n",
        "price = 19.99\n",
        "\n",
        "# Perform arithmetic operations\n",
        "discounted_price = price * 0.8\n",
        "print(discounted_price)  # Output: 15.992"
      ],
      "metadata": {
        "id": "Stmbkl3qN8K7"
      },
      "execution_count": null,
      "outputs": []
    },
    {
      "cell_type": "code",
      "source": [
        "# Perform arithmetic operations\n",
        "discounted_price = price * 0.1\n",
        "print(discounted_price)  # Output: 15.992"
      ],
      "metadata": {
        "id": "ynQLmiRWN_zF"
      },
      "execution_count": null,
      "outputs": []
    },
    {
      "cell_type": "markdown",
      "source": [
        "```{note}\n",
        "\"15\" is not same as 15.\n",
        "```"
      ],
      "metadata": {
        "id": "aXZSkbkMtyT9"
      }
    },
    {
      "cell_type": "markdown",
      "source": [
        "## Floats\n",
        "\n",
        "2. Float (`float`): Represents numbers with decimal points. For example: 3.14, -2.5, 0.0."
      ],
      "metadata": {
        "id": "BjYO22U9tllt"
      }
    },
    {
      "cell_type": "code",
      "source": [
        "# Declare a float variable\n",
        "price = 19.99\n",
        "\n",
        "# Perform arithmetic operations\n",
        "discounted_price = price * 0.8\n",
        "print(discounted_price)  # Output: 15.992"
      ],
      "metadata": {
        "colab": {
          "base_uri": "https://localhost:8080/"
        },
        "id": "3VbLMD7Ntp3D",
        "outputId": "a6675186-58b7-4955-8950-ea8e78c3b98c"
      },
      "execution_count": null,
      "outputs": [
        {
          "output_type": "stream",
          "name": "stdout",
          "text": [
            "15.991999999999999\n"
          ]
        }
      ]
    },
    {
      "cell_type": "code",
      "source": [
        "# Perform arithmetic operations\n",
        "discounted_price = price * 0.1\n",
        "print(discounted_price)  # Output: 15.992"
      ],
      "metadata": {
        "colab": {
          "base_uri": "https://localhost:8080/"
        },
        "id": "cMYKiqENtqtO",
        "outputId": "1451b007-50b3-43e7-9f28-afa84b04f66c"
      },
      "execution_count": null,
      "outputs": [
        {
          "output_type": "stream",
          "name": "stdout",
          "text": [
            "1.9989999999999999\n"
          ]
        }
      ]
    },
    {
      "cell_type": "markdown",
      "source": [
        "## String\n",
        "\n",
        "3. String (`str`): Represents sequences of characters enclosed in single quotes (' ') or double quotes (\" \"). For example: \"Hello\", 'Python', \"123\"."
      ],
      "metadata": {
        "id": "1OEr8dezt98g"
      }
    },
    {
      "cell_type": "code",
      "source": [
        "# Declare a string variable\n",
        "greeting = \"Hello, World!\"\n",
        "\n",
        "# Concatenate strings\n",
        "welcome_message = greeting + \" Welcome to Python!\"\n",
        "print(welcome_message)  # Output: Hello, World! Welcome to Python!"
      ],
      "metadata": {
        "colab": {
          "base_uri": "https://localhost:8080/"
        },
        "id": "slRB3LT-uAas",
        "outputId": "cbfaa10f-c3ae-473a-9248-3aa82196c28d"
      },
      "execution_count": null,
      "outputs": [
        {
          "output_type": "stream",
          "name": "stdout",
          "text": [
            "Hello, World! Welcome to Python!\n"
          ]
        }
      ]
    },
    {
      "cell_type": "markdown",
      "source": [
        "## Lists\n",
        "\n",
        "3. List (list): Represents an ordered collection of items enclosed in square brackets [ ]. Lists can contain elements of different data types and can be modified (mutable). For example: [1, 2, 3], ['apple', 'banana', 'cherry']."
      ],
      "metadata": {
        "id": "VKlcSTOXt6mP"
      }
    },
    {
      "cell_type": "code",
      "source": [
        "# Declare a list variable\n",
        "fruits = [\"apple\", \"banana\", \"cherry\"]\n",
        "\n",
        "# Access elements of a list\n",
        "print(fruits[0])  # Output: apple\n",
        "\n",
        "# Modify elements of a list\n",
        "fruits[1] = \"blueberry\"\n",
        "print(fruits)  # Output: ['apple', 'blueberry', 'cherry']"
      ],
      "metadata": {
        "colab": {
          "base_uri": "https://localhost:8080/"
        },
        "id": "fnEVh6BHt4Zd",
        "outputId": "1a3db5e4-434c-4351-91b3-35854c1a01f9"
      },
      "execution_count": null,
      "outputs": [
        {
          "output_type": "stream",
          "name": "stdout",
          "text": [
            "apple\n",
            "['apple', 'blueberry', 'cherry']\n"
          ]
        }
      ]
    },
    {
      "cell_type": "code",
      "source": [
        "print(fruits[0])"
      ],
      "metadata": {
        "colab": {
          "base_uri": "https://localhost:8080/"
        },
        "id": "d9iMdCYquau4",
        "outputId": "2e95bc75-203c-4ee3-e984-4070342ecc78"
      },
      "execution_count": null,
      "outputs": [
        {
          "output_type": "stream",
          "name": "stdout",
          "text": [
            "apple\n"
          ]
        }
      ]
    },
    {
      "cell_type": "markdown",
      "source": [
        "## Tuples\n",
        "\n",
        "4. Tuple (`tuple`): Represents an ordered collection of items enclosed in parentheses ( ). Tuples are similar to lists, but they are immutable (cannot be modified). For example: (1, 2, 3), ('red', 'green', 'blue')."
      ],
      "metadata": {
        "id": "os9iYaCEuBGi"
      }
    },
    {
      "cell_type": "code",
      "source": [
        "# Declare a tuple variable\n",
        "coordinates = (12.5, 45.3)\n",
        "\n",
        "# Access elements of a tuple\n",
        "print(coordinates[1])  # Output: 45.3\n",
        "\n",
        "# Tuples are immutable; the following line will raise an error\n",
        "# coordinates[1] = 50"
      ],
      "metadata": {
        "colab": {
          "base_uri": "https://localhost:8080/"
        },
        "id": "IhWhqGwwuDT0",
        "outputId": "4513b14f-2d89-4f61-9bad-99d38a2172bc"
      },
      "execution_count": null,
      "outputs": [
        {
          "output_type": "stream",
          "name": "stdout",
          "text": [
            "45.3\n"
          ]
        }
      ]
    },
    {
      "cell_type": "markdown",
      "source": [
        "## Dictionaries\n",
        "\n",
        "5. Dictionary (`dict`): Represents a collection of key-value pairs enclosed in curly braces { }. Each value is associated with a unique key, allowing efficient retrieval of values. For example: {'name': 'John', 'age': 25, 'city': 'New York'}."
      ],
      "metadata": {
        "id": "5Z3UblmbuD7b"
      }
    },
    {
      "cell_type": "code",
      "source": [
        "# Declare a dictionary variable\n",
        "person = {\"name\": \"Alice\", \"age\": 30, \"comment\":\"it is very nice\"}\n",
        "\n",
        "# Access elements of a dictionary\n",
        "print(person[\"name\"])  # Output: Alice\n",
        "\n",
        "# Modify elements of a dictionary\n",
        "person[\"age\"] = 31\n",
        "print(person)  # Output: {'name': 'Alice', 'age': 31}"
      ],
      "metadata": {
        "colab": {
          "base_uri": "https://localhost:8080/"
        },
        "id": "kIyQoO3yuHaU",
        "outputId": "afcc7816-463c-4a5b-abc8-a5d97c1caf9b"
      },
      "execution_count": null,
      "outputs": [
        {
          "output_type": "stream",
          "name": "stdout",
          "text": [
            "Alice\n",
            "{'name': 'Alice', 'age': 31, 'comment': 'it is very nice'}\n"
          ]
        }
      ]
    },
    {
      "cell_type": "markdown",
      "source": [
        "## Booleans\n",
        "\n",
        "6. The boolean data type in Python represents logical values and has two possible states: `True` and `False`. Booleans are primarily used in conditional statements and logical operations. Here's some additional information about booleans in Python:"
      ],
      "metadata": {
        "id": "6NAXDbK5uI2Y"
      }
    },
    {
      "cell_type": "code",
      "source": [
        "# Declare a boolean variable\n",
        "is_active = True\n",
        "\n",
        "# Use boolean in a conditional statement\n",
        "if is_active:\n",
        "    print(\"User is active.\")  # Output: User is active."
      ],
      "metadata": {
        "colab": {
          "base_uri": "https://localhost:8080/"
        },
        "id": "NzvOfTMfuKT9",
        "outputId": "9db4173e-6387-44c5-bfee-706500d1fd72"
      },
      "execution_count": null,
      "outputs": [
        {
          "output_type": "stream",
          "name": "stdout",
          "text": [
            "User is active.\n"
          ]
        }
      ]
    },
    {
      "cell_type": "code",
      "source": [
        "x = True\n",
        "y = False\n",
        "\n",
        "# Logical operators\n",
        "print(x and y)      # Output: False\n",
        "print(x or y)       # Output: True\n",
        "print(not x)        # Output: False\n",
        "\n",
        "# Comparison operators\n",
        "a = 5\n",
        "b = 10\n",
        "print(a > b)        # Output: False\n",
        "print(a <= b)       # Output: True\n",
        "\n",
        "# Truthiness and falsiness\n",
        "name = \"Alice\"\n",
        "if name:            # Checks if the name variable is truthy\n",
        "    print(\"Hello, \" + name)\n",
        "else:\n",
        "    print(\"Name is empty\")\n"
      ],
      "metadata": {
        "colab": {
          "base_uri": "https://localhost:8080/"
        },
        "id": "IarMnjk_uj1s",
        "outputId": "b4643e73-bc0e-4c6d-9279-35d2a8cedcdb"
      },
      "execution_count": null,
      "outputs": [
        {
          "output_type": "stream",
          "name": "stdout",
          "text": [
            "False\n",
            "True\n",
            "False\n",
            "False\n",
            "True\n",
            "Hello, Alice\n"
          ]
        }
      ]
    },
    {
      "cell_type": "code",
      "source": [],
      "metadata": {
        "id": "tMXOYDhbSQZm"
      },
      "execution_count": null,
      "outputs": []
    }
  ]
}