{
  "cells": [
    {
      "cell_type": "markdown",
      "metadata": {
        "id": "view-in-github",
        "colab_type": "text"
      },
      "source": [
        "<a href=\"https://colab.research.google.com/github/byambaa1982/python_cources_for_beginers/blob/main/2_variables_and_operations/study_guide_2.ipynb\" target=\"_parent\"><img src=\"https://colab.research.google.com/assets/colab-badge.svg\" alt=\"Open In Colab\"/></a>"
      ]
    },
    {
      "cell_type": "markdown",
      "metadata": {
        "id": "I21AhxLoSeuA"
      },
      "source": [
        "# 2. [Python Data Types](https://github.com/byambaa1982/python_cources_for_beginers/blob/main/2_variables_and_operations/study_guide_2.ipynb)"
      ]
    },
    {
      "cell_type": "markdown",
      "source": [
        "## Integer Examples"
      ],
      "metadata": {
        "id": "NcjOworVt9qW"
      }
    },
    {
      "cell_type": "code",
      "source": [
        "234*345"
      ],
      "metadata": {
        "colab": {
          "base_uri": "https://localhost:8080/"
        },
        "id": "q1ZSYUAGv8Jd",
        "outputId": "aba74aa0-5ba2-4306-9801-b6ee0aa091b9"
      },
      "execution_count": 6,
      "outputs": [
        {
          "output_type": "execute_result",
          "data": {
            "text/plain": [
              "80730"
            ]
          },
          "metadata": {},
          "execution_count": 6
        }
      ]
    },
    {
      "cell_type": "code",
      "source": [
        "3245/345"
      ],
      "metadata": {
        "colab": {
          "base_uri": "https://localhost:8080/"
        },
        "id": "5xyL_0wTy6Wn",
        "outputId": "a1e294b0-65e6-48d7-e610-fc5e1c882264"
      },
      "execution_count": 7,
      "outputs": [
        {
          "output_type": "execute_result",
          "data": {
            "text/plain": [
              "9.405797101449275"
            ]
          },
          "metadata": {},
          "execution_count": 7
        }
      ]
    },
    {
      "cell_type": "code",
      "source": [
        "# Adding two integers\n",
        "number1 = 234\n",
        "number2 = 346\n",
        "sum = number1 + number2\n",
        "print(sum)"
      ],
      "metadata": {
        "colab": {
          "base_uri": "https://localhost:8080/"
        },
        "id": "FDbAWSbCwEb5",
        "outputId": "cbd3b57e-f97d-41be-c863-adec2c25c807"
      },
      "execution_count": 4,
      "outputs": [
        {
          "output_type": "stream",
          "name": "stdout",
          "text": [
            "580\n"
          ]
        }
      ]
    },
    {
      "cell_type": "code",
      "source": [
        "# Substracting two integers\n",
        "number1 = 534\n",
        "number2 = 346\n",
        "difference = number1 - number2\n",
        "print(difference)"
      ],
      "metadata": {
        "colab": {
          "base_uri": "https://localhost:8080/"
        },
        "id": "ycOyLReIwd9U",
        "outputId": "8e5e703e-99a0-4bd7-ad92-91ce8696083e"
      },
      "execution_count": 5,
      "outputs": [
        {
          "output_type": "stream",
          "name": "stdout",
          "text": [
            "188\n"
          ]
        }
      ]
    },
    {
      "cell_type": "code",
      "source": [
        "# Multipling two integers\n",
        "x = 3\n",
        "y = 5\n",
        "c = 6\n",
        "multiply = y*x*c\n",
        "print(multiply)"
      ],
      "metadata": {
        "colab": {
          "base_uri": "https://localhost:8080/"
        },
        "id": "bO1S1cYqwqjK",
        "outputId": "33f275b7-138c-4c3b-fa10-eb546e42b30f"
      },
      "execution_count": 11,
      "outputs": [
        {
          "output_type": "stream",
          "name": "stdout",
          "text": [
            "90\n"
          ]
        }
      ]
    },
    {
      "cell_type": "code",
      "source": [
        "\n",
        "division =c/3\n",
        "print(division)"
      ],
      "metadata": {
        "colab": {
          "base_uri": "https://localhost:8080/"
        },
        "id": "0KwVYExvwqZv",
        "outputId": "653f1560-b665-44e2-88fa-9d251d585dd2"
      },
      "execution_count": 12,
      "outputs": [
        {
          "output_type": "stream",
          "name": "stdout",
          "text": [
            "2.0\n"
          ]
        }
      ]
    },
    {
      "cell_type": "code",
      "source": [
        "# Adding two integers\n",
        "number1 = 7\n",
        "number2 = 3\n",
        "sum = number1 + number2\n",
        "print(\"The sum of\", number1, \"and\", number2, \"is\", sum)  # Output: The sum of 7 and 3 is 10\n"
      ],
      "metadata": {
        "id": "7Y6ZBsWLtPQI",
        "colab": {
          "base_uri": "https://localhost:8080/"
        },
        "outputId": "1fd411b5-2d26-461b-e177-b52f30d6ad03"
      },
      "execution_count": 13,
      "outputs": [
        {
          "output_type": "stream",
          "name": "stdout",
          "text": [
            "The sum of 7 and 3 is 10\n"
          ]
        }
      ]
    },
    {
      "cell_type": "code",
      "source": [
        "# Calculating the number of apples in two baskets\n",
        "apples_in_basket1 = 12\n",
        "apples_in_basket2 = 8\n",
        "total_apples = apples_in_basket1 + apples_in_basket2\n",
        "print(\"Total apples in both baskets:\", total_apples)  # Output: Total apples in both baskets: 20\n"
      ],
      "metadata": {
        "id": "Spdg0oEqtPTn",
        "colab": {
          "base_uri": "https://localhost:8080/"
        },
        "outputId": "b4636361-fc71-4152-f7a5-4341a7b54005"
      },
      "execution_count": 14,
      "outputs": [
        {
          "output_type": "stream",
          "name": "stdout",
          "text": [
            "Total apples in both baskets: 20\n"
          ]
        }
      ]
    },
    {
      "cell_type": "markdown",
      "source": [
        "## Float Examples"
      ],
      "metadata": {
        "id": "0RD89RQEuFVX"
      }
    },
    {
      "cell_type": "code",
      "source": [
        "5"
      ],
      "metadata": {
        "colab": {
          "base_uri": "https://localhost:8080/"
        },
        "id": "oAD9Ivhr0c9V",
        "outputId": "29b70fe7-c3f8-4870-b95a-e7377c05e16a"
      },
      "execution_count": 15,
      "outputs": [
        {
          "output_type": "execute_result",
          "data": {
            "text/plain": [
              "5"
            ]
          },
          "metadata": {},
          "execution_count": 15
        }
      ]
    },
    {
      "cell_type": "code",
      "source": [
        "5.0"
      ],
      "metadata": {
        "colab": {
          "base_uri": "https://localhost:8080/"
        },
        "id": "3D19gRIJ0eXr",
        "outputId": "03896e53-1c08-4f3b-8a57-9b475203c34e"
      },
      "execution_count": 16,
      "outputs": [
        {
          "output_type": "execute_result",
          "data": {
            "text/plain": [
              "5.0"
            ]
          },
          "metadata": {},
          "execution_count": 16
        }
      ]
    },
    {
      "cell_type": "code",
      "source": [
        "type(5)"
      ],
      "metadata": {
        "colab": {
          "base_uri": "https://localhost:8080/"
        },
        "id": "UY_9W7PW0g3Z",
        "outputId": "377c5d5a-91e0-4a1f-974c-88f0af370219"
      },
      "execution_count": 17,
      "outputs": [
        {
          "output_type": "execute_result",
          "data": {
            "text/plain": [
              "int"
            ]
          },
          "metadata": {},
          "execution_count": 17
        }
      ]
    },
    {
      "cell_type": "code",
      "source": [
        "type(5.0)"
      ],
      "metadata": {
        "colab": {
          "base_uri": "https://localhost:8080/"
        },
        "id": "PD63y8QX0j1a",
        "outputId": "c0323e85-c469-4387-bdbe-0ca1c213b0d9"
      },
      "execution_count": 18,
      "outputs": [
        {
          "output_type": "execute_result",
          "data": {
            "text/plain": [
              "float"
            ]
          },
          "metadata": {},
          "execution_count": 18
        }
      ]
    },
    {
      "cell_type": "code",
      "source": [
        "# Calculating the area of a rectangle\n",
        "length = 5.5  # in meters\n",
        "width = 3.2   # in meters\n",
        "area = length * width\n",
        "print(\"Area of the rectangle is\", area, \"square meters\")  # Output: Area of the rectangle is 17.6 square meters\n"
      ],
      "metadata": {
        "id": "D9lV99R2tPWi",
        "colab": {
          "base_uri": "https://localhost:8080/"
        },
        "outputId": "d679a219-785a-4dd4-b36c-e32f08434049"
      },
      "execution_count": 8,
      "outputs": [
        {
          "output_type": "stream",
          "name": "stdout",
          "text": [
            "Area of the rectangle is 17.6 square meters\n"
          ]
        }
      ]
    },
    {
      "cell_type": "code",
      "source": [
        "# Finding the average score\n",
        "score1 = 95.5\n",
        "score2 = 82.3\n",
        "score3 = 88.9\n",
        "average_score = (score1 + score2 + score3) / 3\n",
        "print(\"The average score is\", round(average_score, 2))  # Output: The average score is 88.9\n"
      ],
      "metadata": {
        "id": "itc-XQ-GtPaH",
        "colab": {
          "base_uri": "https://localhost:8080/"
        },
        "outputId": "ec30c772-be3f-49c7-a9be-ec4c0880fc02"
      },
      "execution_count": 9,
      "outputs": [
        {
          "output_type": "stream",
          "name": "stdout",
          "text": [
            "The average score is 88.9\n"
          ]
        }
      ]
    },
    {
      "cell_type": "markdown",
      "source": [
        "## String Examples"
      ],
      "metadata": {
        "id": "IoVB6Et0uNr5"
      }
    },
    {
      "cell_type": "code",
      "source": [
        "name1 = 'Byamba'"
      ],
      "metadata": {
        "id": "gtydpe672It1"
      },
      "execution_count": 62,
      "outputs": []
    },
    {
      "cell_type": "code",
      "source": [
        "name2 = \"Enko\""
      ],
      "metadata": {
        "id": "8R29fW6z2b1p"
      },
      "execution_count": 31,
      "outputs": []
    },
    {
      "cell_type": "code",
      "source": [
        "print(name1 +\" and \" +name2 + \" are Mongolians\")"
      ],
      "metadata": {
        "colab": {
          "base_uri": "https://localhost:8080/"
        },
        "id": "d5NCGURX2iOr",
        "outputId": "0a7f2737-4769-4802-d20e-e5b3df42abf7"
      },
      "execution_count": 42,
      "outputs": [
        {
          "output_type": "stream",
          "name": "stdout",
          "text": [
            "Byamba and Enko are Mongolians\n"
          ]
        }
      ]
    },
    {
      "cell_type": "code",
      "source": [
        "\"5\" + \" \" +\"Misheel\""
      ],
      "metadata": {
        "colab": {
          "base_uri": "https://localhost:8080/",
          "height": 35
        },
        "id": "QOWV-cA93X8C",
        "outputId": "7789694a-8e95-41ca-e968-8164450f626a"
      },
      "execution_count": 38,
      "outputs": [
        {
          "output_type": "execute_result",
          "data": {
            "text/plain": [
              "'5 Misheel'"
            ],
            "application/vnd.google.colaboratory.intrinsic+json": {
              "type": "string"
            }
          },
          "metadata": {},
          "execution_count": 38
        }
      ]
    },
    {
      "cell_type": "code",
      "source": [
        "# Concatenating two strings\n",
        "first_name = \"Alice\"\n",
        "last_name = \"Smith\"\n",
        "full_name = first_name + \" \" + last_name\n",
        "print(\"Full name:\", full_name)  # Output: Full name: Alice Smith\n"
      ],
      "metadata": {
        "id": "Og3CcNxNtPdT",
        "colab": {
          "base_uri": "https://localhost:8080/"
        },
        "outputId": "e51212af-6212-478e-d067-0e85f53508fa"
      },
      "execution_count": 39,
      "outputs": [
        {
          "output_type": "stream",
          "name": "stdout",
          "text": [
            "Full name: Alice Smith\n"
          ]
        }
      ]
    },
    {
      "cell_type": "code",
      "source": [
        "# Repeating strings\n",
        "laugh = \"ha\"\n",
        "print(laugh * 5)  # Output: hahahahaha\n"
      ],
      "metadata": {
        "id": "XkNFSneftPgd",
        "colab": {
          "base_uri": "https://localhost:8080/"
        },
        "outputId": "85176198-8f48-40b0-a778-58a7667c69fd"
      },
      "execution_count": 40,
      "outputs": [
        {
          "output_type": "stream",
          "name": "stdout",
          "text": [
            "hahahahaha\n"
          ]
        }
      ]
    },
    {
      "cell_type": "code",
      "source": [
        "my_name = \"Bob\"\n",
        "age = 34\n",
        "job = \"Driver\""
      ],
      "metadata": {
        "id": "p4eb1LpJ5REd"
      },
      "execution_count": 46,
      "outputs": []
    },
    {
      "cell_type": "code",
      "source": [
        "f\"My name is {my_name}. I am {age} year old and I am a {job}\""
      ],
      "metadata": {
        "colab": {
          "base_uri": "https://localhost:8080/",
          "height": 35
        },
        "id": "Fp6PogRB5kTU",
        "outputId": "d57dfcea-d95f-46ec-c336-bc65509ec778"
      },
      "execution_count": 47,
      "outputs": [
        {
          "output_type": "execute_result",
          "data": {
            "text/plain": [
              "'My name is Bob. I am 34 year old and I am a Driver'"
            ],
            "application/vnd.google.colaboratory.intrinsic+json": {
              "type": "string"
            }
          },
          "metadata": {},
          "execution_count": 47
        }
      ]
    },
    {
      "cell_type": "markdown",
      "source": [
        "## Boolean Examples"
      ],
      "metadata": {
        "id": "X6IguHAUuR2J"
      }
    },
    {
      "cell_type": "code",
      "source": [
        "True"
      ],
      "metadata": {
        "colab": {
          "base_uri": "https://localhost:8080/"
        },
        "id": "qbNC9Yhd93ZI",
        "outputId": "e15c8d70-e47b-4627-84d6-35971086954b"
      },
      "execution_count": 48,
      "outputs": [
        {
          "output_type": "execute_result",
          "data": {
            "text/plain": [
              "True"
            ]
          },
          "metadata": {},
          "execution_count": 48
        }
      ]
    },
    {
      "cell_type": "code",
      "source": [
        "False"
      ],
      "metadata": {
        "colab": {
          "base_uri": "https://localhost:8080/"
        },
        "id": "PZ3LEZSa958G",
        "outputId": "63aea5d1-8471-4dd8-f7dc-4c4ec12a2035"
      },
      "execution_count": 49,
      "outputs": [
        {
          "output_type": "execute_result",
          "data": {
            "text/plain": [
              "False"
            ]
          },
          "metadata": {},
          "execution_count": 49
        }
      ]
    },
    {
      "cell_type": "code",
      "source": [
        "age1 = 13\n",
        "age2 = 14\n",
        "age1 < age2"
      ],
      "metadata": {
        "colab": {
          "base_uri": "https://localhost:8080/"
        },
        "id": "gLgJXiRS-ere",
        "outputId": "11b4081b-cd57-4c80-90d2-487bea5ecbc9"
      },
      "execution_count": 61,
      "outputs": [
        {
          "output_type": "execute_result",
          "data": {
            "text/plain": [
              "True"
            ]
          },
          "metadata": {},
          "execution_count": 61
        }
      ]
    },
    {
      "cell_type": "code",
      "source": [
        "5 == 5"
      ],
      "metadata": {
        "colab": {
          "base_uri": "https://localhost:8080/"
        },
        "id": "qmyYEwW399G9",
        "outputId": "63904ee9-7b7d-47b0-8473-e1044294f635"
      },
      "execution_count": 51,
      "outputs": [
        {
          "output_type": "execute_result",
          "data": {
            "text/plain": [
              "True"
            ]
          },
          "metadata": {},
          "execution_count": 51
        }
      ]
    },
    {
      "cell_type": "code",
      "source": [
        "5 == 4"
      ],
      "metadata": {
        "colab": {
          "base_uri": "https://localhost:8080/"
        },
        "id": "A4sF2VZ_-DAc",
        "outputId": "9d00d3be-3af7-40fd-f275-ffcb84543c28"
      },
      "execution_count": 52,
      "outputs": [
        {
          "output_type": "execute_result",
          "data": {
            "text/plain": [
              "False"
            ]
          },
          "metadata": {},
          "execution_count": 52
        }
      ]
    },
    {
      "cell_type": "code",
      "source": [
        "5 > 4"
      ],
      "metadata": {
        "colab": {
          "base_uri": "https://localhost:8080/"
        },
        "id": "K0OBjvV8-GHc",
        "outputId": "cd974de1-dd90-40a3-cbc8-8f2b4ffbfd9b"
      },
      "execution_count": 53,
      "outputs": [
        {
          "output_type": "execute_result",
          "data": {
            "text/plain": [
              "True"
            ]
          },
          "metadata": {},
          "execution_count": 53
        }
      ]
    },
    {
      "cell_type": "code",
      "source": [
        "5 > 10"
      ],
      "metadata": {
        "colab": {
          "base_uri": "https://localhost:8080/"
        },
        "id": "2mAa_4Xe-Iw5",
        "outputId": "1d68686b-1af3-4eb6-d770-89d6ac385439"
      },
      "execution_count": 54,
      "outputs": [
        {
          "output_type": "execute_result",
          "data": {
            "text/plain": [
              "False"
            ]
          },
          "metadata": {},
          "execution_count": 54
        }
      ]
    },
    {
      "cell_type": "code",
      "source": [
        "# Comparing two numbers\n",
        "age_hanna = 15\n",
        "age_mom = 42\n",
        "is_older = age_hanna > age_mom\n",
        "print(\"Is Mom older than Hanna?\", is_older)  # Output: Is Tom older than Mary? True\n"
      ],
      "metadata": {
        "id": "19XsJi6_tPkM",
        "colab": {
          "base_uri": "https://localhost:8080/"
        },
        "outputId": "dd9bd619-6ca4-492c-9b56-8d30a926097f"
      },
      "execution_count": 70,
      "outputs": [
        {
          "output_type": "stream",
          "name": "stdout",
          "text": [
            "Is Mom older than Hanna? False\n"
          ]
        }
      ]
    },
    {
      "cell_type": "code",
      "source": [
        "# Using logical operators\n",
        "has_homework = True\n",
        "finished_homework = False\n",
        "can_play_games = has_homework and finished_homework\n",
        "print(\"Can play games:\", can_play_games)  # Output: Can play games: False\n"
      ],
      "metadata": {
        "id": "LDGDHBzYtPn2",
        "colab": {
          "base_uri": "https://localhost:8080/"
        },
        "outputId": "2ab49315-79be-49fc-f2f3-aaad63b66996"
      },
      "execution_count": 64,
      "outputs": [
        {
          "output_type": "stream",
          "name": "stdout",
          "text": [
            "Can play games: False\n"
          ]
        }
      ]
    },
    {
      "cell_type": "markdown",
      "source": [
        "# Homework Assignment\n",
        "\n",
        "## Part 1: Integers\n",
        "\n",
        "Write a Python program to calculate the product of two integers, 8 and 12, and print the result.\n",
        "\n",
        "## Part 2: Strings\n",
        "\n",
        "Write a Python program that concatenates the following strings: \"Good\" and \"Morning\", and prints the result.\n",
        "\n",
        "## Part 3: Floats\n",
        "\n",
        "Write a Python program to subtract 4.5 from 10.7 and print the result.\n",
        "Divide 15.8 by 4.2 and print the result.\n",
        "\n",
        "## Part 4: Booleans\n",
        "\n",
        "Write a Python program that checks if 7 is greater than 3 and prints the result.\n",
        "Create a boolean variable that checks if 10 is equal to 20 and print the result.\n",
        "\n",
        "## Part 5: Simple Receipt\n",
        "\n",
        "Write a Python program to define the prices of the following items: banana = 3.2 and orange = 4.5.\n",
        "\n"
      ],
      "metadata": {
        "id": "AZgLXJD5BJEL"
      }
    },
    {
      "cell_type": "code",
      "source": [],
      "metadata": {
        "id": "V-26cBvdtPq8"
      },
      "execution_count": null,
      "outputs": []
    },
    {
      "cell_type": "code",
      "source": [],
      "metadata": {
        "id": "f_XP8U1ktPuS"
      },
      "execution_count": null,
      "outputs": []
    },
    {
      "cell_type": "code",
      "source": [],
      "metadata": {
        "id": "Aqohk7pMtPxr"
      },
      "execution_count": null,
      "outputs": []
    },
    {
      "cell_type": "code",
      "source": [],
      "metadata": {
        "id": "sv0Rd3yptP01"
      },
      "execution_count": null,
      "outputs": []
    },
    {
      "cell_type": "code",
      "source": [],
      "metadata": {
        "id": "BAk5-InRtP3q"
      },
      "execution_count": null,
      "outputs": []
    },
    {
      "cell_type": "code",
      "source": [],
      "metadata": {
        "id": "lQp0c03XtP62"
      },
      "execution_count": null,
      "outputs": []
    },
    {
      "cell_type": "code",
      "source": [],
      "metadata": {
        "id": "sKRHQifutP-B"
      },
      "execution_count": null,
      "outputs": []
    },
    {
      "cell_type": "code",
      "execution_count": null,
      "metadata": {
        "id": "ASrOLy68tDW8"
      },
      "outputs": [],
      "source": [
        "# copy any of code here and run."
      ]
    },
    {
      "cell_type": "markdown",
      "metadata": {
        "id": "BjYO22U9tllt"
      },
      "source": [
        "## 2. Floats\n",
        "\n",
        "A floating-point number, or simply a \"float\", in Python (or in programming generally), is a numerical value with a decimal point. Floats are used when more precision is needed. For instance, when you are working with data that requires decimal values, such as measurements or calculations in mathematics or physics.\n",
        "\n",
        "Here is an example of a floating-point number in Python:"
      ]
    },
    {
      "cell_type": "code",
      "execution_count": 65,
      "metadata": {
        "id": "NPCpwKy_tDW9",
        "outputId": "e3d5b85b-95a8-4069-e1d4-69fc81c7ca6e",
        "colab": {
          "base_uri": "https://localhost:8080/"
        }
      },
      "outputs": [
        {
          "output_type": "stream",
          "name": "stdout",
          "text": [
            "10.5\n"
          ]
        }
      ],
      "source": [
        "x = 10.5\n",
        "print(x)"
      ]
    },
    {
      "cell_type": "markdown",
      "metadata": {
        "id": "LiGTod_2tDW-"
      },
      "source": [
        "This will output `10.5`.\n",
        "\n",
        "If you want to know the type of a variable, you can use the `type()` function. In our example, you could do the following:"
      ]
    },
    {
      "cell_type": "code",
      "execution_count": 66,
      "metadata": {
        "id": "Tsgw7dY6tDW-",
        "outputId": "3515741d-a724-43c0-9bb7-5dd2528650e5",
        "colab": {
          "base_uri": "https://localhost:8080/"
        }
      },
      "outputs": [
        {
          "output_type": "stream",
          "name": "stdout",
          "text": [
            "<class 'float'>\n"
          ]
        }
      ],
      "source": [
        "print(type(x))"
      ]
    },
    {
      "cell_type": "markdown",
      "metadata": {
        "id": "byd9IAgJtDW-"
      },
      "source": [
        "This will output: `<class 'float'>`, indicating that x is indeed a floating-point number.\n",
        "\n",
        "The primary difference between an integer and a float is that integers are whole numbers without a decimal point, while floats can represent both whole numbers and real numbers that include a decimal point. So if you're dealing with numbers that include fractions or decimals, you'd use a float, but if you're counting whole things that can't be broken up, you'd use an integer.\n",
        "\n",
        "For example, if you're counting the number of people in a room, you would use an integer, because you can't have a fraction of a person. But if you're measuring the length of something and it's not a whole number, you'd use a float.\n",
        "\n",
        "In Python, you can perform similar operations with floats as with integers, like addition, subtraction, multiplication, and division. Python will also automatically convert integers to floats in expressions if the result is a fractional value.\n",
        "\n",
        "Here's an example:\n",
        "\n"
      ]
    },
    {
      "cell_type": "code",
      "execution_count": 67,
      "metadata": {
        "id": "6d4lvddStDW-",
        "outputId": "25f479d0-6acc-449b-a395-341d1f6415e5",
        "colab": {
          "base_uri": "https://localhost:8080/"
        }
      },
      "outputs": [
        {
          "output_type": "stream",
          "name": "stdout",
          "text": [
            "3.3333333333333335\n"
          ]
        }
      ],
      "source": [
        "x = 10  # This is an integer\n",
        "y = 3   # This is another integer\n",
        "\n",
        "z = x / y  # Division of two integers\n",
        "\n",
        "print(z)  # Outputs: 3.3333333333333335\n"
      ]
    },
    {
      "cell_type": "markdown",
      "metadata": {
        "id": "t6D6UISvtDW_"
      },
      "source": [
        "Although `x` and `y` are both integers, the division results in a `float`, because the result is a fractional value."
      ]
    },
    {
      "cell_type": "markdown",
      "metadata": {
        "id": "b_jRCXbQtDW_"
      },
      "source": [
        "## Practices and [Solution Code](solution_code_2.ipynb)\n",
        "\n",
        "1 . `Area of Circle`: Write a Python program that asks the user for the radius of a circle (a floating-point number) and calculates and prints the area of the circle. The formula to calculate the area of a circle is πr^2, where r is the radius of the circle.\n",
        "\n",
        "Example Output:\n",
        "\n",
        "```yaml\n",
        "\n",
        "Enter the radius of the circle: 5.5\n",
        "The area of the circle is 95.03317891.\n",
        "```\n",
        "\n",
        "2 . `Distance Between Points`: Write a Python program that asks the user for the coordinates of two points in the format (x1, y1) and (x2, y2), and calculates the distance between them. The formula to calculate the distance between two points is sqrt((x2 - x1)^2 + (y2 - y1)^2).\n",
        "\n",
        "Example Output:\n",
        "\n",
        "```yaml\n",
        "\n",
        "Enter x1: 2.5\n",
        "Enter y1: 4.3\n",
        "Enter x2: 5.1\n",
        "Enter y2: 7.8\n",
        "The distance between the points is 4.6010860639.\n",
        "```\n",
        "\n",
        "3 . `Body Mass Index (BMI) Calculator`: Write a Python program that calculates the BMI from the user's weight (in kilograms) and height (in meters). The formula to calculate BMI is weight / height^2.\n",
        "\n",
        "Example Output:\n",
        "```yaml\n",
        "\n",
        "Enter your weight in kg: 70.5\n",
        "Enter your height in m: 1.75\n",
        "Your BMI is 23.02.\n",
        "```"
      ]
    },
    {
      "cell_type": "markdown",
      "metadata": {
        "id": "1OEr8dezt98g"
      },
      "source": [
        "## 3. String\n",
        "\n",
        "A string in Python is a sequence of characters. Strings in Python are amongst the commonly used data types. They can be defined by enclosing a sequence of characters within single quotes (' '), double quotes (\" \"), or triple quotes (''' ''' or \"\"\" \"\"\").\n",
        "\n",
        "Here's an example of a string in Python:"
      ]
    },
    {
      "cell_type": "code",
      "execution_count": null,
      "metadata": {
        "id": "BJBOCNNYtDW_",
        "outputId": "ce7984b2-7b90-42d1-c800-49f900db4956"
      },
      "outputs": [
        {
          "name": "stdout",
          "output_type": "stream",
          "text": [
            "Hello, World!\n"
          ]
        }
      ],
      "source": [
        "x = \"Hello, World!\"\n",
        "print(x)\n"
      ]
    },
    {
      "cell_type": "markdown",
      "metadata": {
        "id": "QJyOnR5ytDW_"
      },
      "source": [
        "This will output `Hello, World!`.\n",
        "\n",
        "If you want to know the type of a variable, you can use the type() function. In our example, you could do the following:"
      ]
    },
    {
      "cell_type": "code",
      "execution_count": null,
      "metadata": {
        "colab": {
          "base_uri": "https://localhost:8080/"
        },
        "id": "slRB3LT-uAas",
        "outputId": "cbfaa10f-c3ae-473a-9248-3aa82196c28d"
      },
      "outputs": [
        {
          "name": "stdout",
          "output_type": "stream",
          "text": [
            "<class 'str'>\n"
          ]
        }
      ],
      "source": [
        "print(type(x))"
      ]
    },
    {
      "cell_type": "markdown",
      "metadata": {
        "id": "zVKgmp_FtDW_"
      },
      "source": [
        "This will output `<class 'str'>`, indicating that x is indeed a string.\n",
        "\n",
        "The main difference between a string and other data types such as integer or float is that strings are used to represent text or characters, whereas integers and floats represent numerical values. You can't perform mathematical operations on strings like you can with integers or floats, but there are many other operations you can perform with strings.\n",
        "\n",
        "You can concatenate strings using the plus `(+)` operator, repeat strings using the asterisk `(*)` operator, and access individual characters in a string using indexing and slicing.\n",
        "\n",
        "Here are some examples:"
      ]
    },
    {
      "cell_type": "code",
      "execution_count": null,
      "metadata": {
        "id": "5APijLLUtDW_"
      },
      "outputs": [],
      "source": [
        "# String Concatenation\n",
        "str1 = \"Hello\"\n",
        "str2 = \"World\"\n",
        "str3 = str1 + \" \" + str2\n",
        "print(str3)  # Outputs: Hello World\n",
        "\n",
        "# String Repetition\n",
        "str4 = \"Python \"\n",
        "str5 = str4 * 3\n",
        "print(str5)  # Outputs: Python Python Python\n",
        "\n",
        "# String Indexing\n",
        "str6 = \"OpenAI\"\n",
        "print(str6[4])  # Outputs: n\n",
        "\n",
        "# String Slicing\n",
        "str7 = \"ChatGPT\"\n",
        "print(str7[1:4])  # Outputs: hat\n"
      ]
    },
    {
      "cell_type": "markdown",
      "metadata": {
        "id": "aIhSAinXtDXA"
      },
      "source": [
        "In Python, strings are also \"immutable\", which means they cannot be changed after they are created. If you try to reassign a value to a specific position in a string, Python will throw an error. However, you can create a new string based on an old one with some alterations, and that's how we usually modify strings in Python.\n",
        "\n",
        "## Practices and [Solution Code](solution_code_2.ipynb)\n",
        "\n",
        "1 . `String Length Calculation`: Write a Python program that asks the user to enter a string, and then it calculates and prints the length of the string.\n",
        "\n",
        "Example Output:\n",
        "\n",
        "```yaml\n",
        "\n",
        "Enter a string: Hello, World!\n",
        "The length of the string is 13.\n",
        "```\n",
        "\n",
        "\n",
        "2 . `Word Count`: Write a Python program that asks the user to enter a sentence, and then it counts and prints the number of words in that sentence.\n",
        "\n",
        "Example Output:\n",
        "\n",
        "```yaml\n",
        "\n",
        "Enter a sentence: Python is a popular programming language.\n",
        "The number of words in the sentence is 6.\n",
        "```\n",
        "\n",
        "3 . `Palindrome Checker`: Write a Python program that asks the user to enter a word, and then it checks and prints whether the word is a palindrome or not. A palindrome is a word that reads the same forwards and backwards.\n",
        "\n",
        "Example Output:\n",
        "\n",
        "```yaml\n",
        "Enter a word: radar\n",
        "The word is a palindrome.\n",
        "\n",
        "```\n",
        "\n",
        "In the first two tasks, the `input()` function is used to get the user's input as a string, and the `len()` function is used to calculate the length of the string or the number of words in the sentence.\n",
        "\n",
        "In the third task, Python's slicing functionality is used to reverse the string. If the original string is the same as the reversed string, then it's a palindrome."
      ]
    },
    {
      "cell_type": "markdown",
      "metadata": {
        "id": "VKlcSTOXt6mP"
      },
      "source": [
        "## 4. Lists\n",
        "\n",
        "In Python, a list is an ordered collection of items that are changeable (mutable), and it allows duplicate members. Lists are defined by enclosing a comma-separated sequence of objects in square brackets `[]`.\n",
        "\n",
        "Here's an example of a list in Python:"
      ]
    },
    {
      "cell_type": "code",
      "execution_count": null,
      "metadata": {
        "id": "fnEVh6BHt4Zd"
      },
      "outputs": [],
      "source": [
        "x = [1, 2, 3, 4, 5]\n",
        "print(x)"
      ]
    },
    {
      "cell_type": "markdown",
      "metadata": {
        "id": "d9iMdCYquau4",
        "outputId": "2e95bc75-203c-4ee3-e984-4070342ecc78"
      },
      "source": [
        "This will output: `[1, 2, 3, 4, 5]`.\n",
        "\n",
        "If you want to know the type of a variable, you can use the type() function:"
      ]
    },
    {
      "cell_type": "code",
      "execution_count": null,
      "metadata": {
        "id": "wzq_ma31tDXA"
      },
      "outputs": [],
      "source": [
        "print(type(x))"
      ]
    },
    {
      "cell_type": "markdown",
      "metadata": {
        "id": "08bz9xaFtDXA"
      },
      "source": [
        "This will output: `<class 'list'>`, indicating that `x` is indeed a list.\n",
        "\n",
        "The main difference between a list and other data types like `strings`, `integers`, or `floats` is that a list can contain multiple items, which can be of different types. A list can contain a combination of strings, integers, floats, or even other lists.\n",
        "\n",
        "You can access individual items in a list using indexing, and you can change the value of items in a list, which you can't do with strings. You can also add new items to a list, remove items from a list, and do other operations such as sorting and reversing a list.\n",
        "\n",
        "## Practices and [Solution Code](solution_code_2.ipynb)\n",
        "\n",
        "1 . `Sum of Numbers in a List`: Write a Python program that calculates and prints the sum of all numbers in a given list.\n",
        "\n",
        "`Example Output`:\n",
        "```yaml\n",
        "\n",
        "The list is: [1, 2, 3, 4, 5]\n",
        "The sum of numbers in the list is 15.\n",
        "```\n"
      ]
    },
    {
      "cell_type": "markdown",
      "metadata": {
        "id": "wcvy9NFftDXA"
      },
      "source": [
        "2 . `List Sorting`: Write a Python program that sorts a given list in ascending order.\n",
        "\n",
        "`Example Output`:\n",
        "```yaml\n",
        "The original list is: [2, 5, 1, 8, 7]\n",
        "The sorted list is: [1, 2, 5, 7, 8]\n",
        "```"
      ]
    },
    {
      "cell_type": "markdown",
      "metadata": {
        "id": "nFAKG9V2tDXA"
      },
      "source": [
        "3 . `List Reverse`:\n",
        "Write a Python program that reverses the order of items in a given list.\n",
        "\n",
        "`Example Output`:\n",
        "\n",
        "```yaml\n",
        "\n",
        "The original list is: ['Python', 'Java', 'C++', 'JavaScript']\n",
        "The reversed list is: ['JavaScript', 'C++', 'Java', 'Python']\n",
        "```\n",
        "\n",
        "In each of these tasks, the `sum()`, `sort()`, and `reverse()` functions are used to perform operations on the lists."
      ]
    },
    {
      "cell_type": "markdown",
      "metadata": {
        "id": "5Z3UblmbuD7b"
      },
      "source": [
        "While we've covered integers, floats, strings, and lists, it's important to note that Python also offers other powerful data structures such as sets, dictionaries, and tuples. These data structures provide additional methods to store and organize data in different ways, depending on your specific needs.\n",
        "\n",
        "- Sets are unordered collections of unique elements. They are ideal when you want to eliminate duplicates or check membership efficiently.\n",
        "\n",
        "- Dictionaries (or dicts) are key-value pairs, a bit like hash tables in other languages. They are perfect for scenarios where you want to associate items with a unique key.\n",
        "\n",
        "- Tuples are similar to lists in that they can hold multiple items, but unlike lists, they are immutable, meaning they can't be changed after they are created.\n",
        "\n",
        "Each of these data structures has its own strengths and specific use cases, and learning to use them effectively is a key part of mastering Python. We'll explore these data structures in more detail later in this course, so stay tuned!"
      ]
    },
    {
      "cell_type": "code",
      "execution_count": null,
      "metadata": {
        "id": "tMXOYDhbSQZm"
      },
      "outputs": [],
      "source": []
    }
  ],
  "metadata": {
    "colab": {
      "provenance": [],
      "include_colab_link": true
    },
    "kernelspec": {
      "display_name": "Python 3",
      "language": "python",
      "name": "python3"
    },
    "language_info": {
      "codemirror_mode": {
        "name": "ipython",
        "version": 3
      },
      "file_extension": ".py",
      "mimetype": "text/x-python",
      "name": "python",
      "nbconvert_exporter": "python",
      "pygments_lexer": "ipython3",
      "version": "3.6.9"
    }
  },
  "nbformat": 4,
  "nbformat_minor": 0
}