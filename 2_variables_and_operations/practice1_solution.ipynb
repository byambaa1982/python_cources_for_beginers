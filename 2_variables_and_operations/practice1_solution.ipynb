{
  "nbformat": 4,
  "nbformat_minor": 0,
  "metadata": {
    "colab": {
      "provenance": [],
      "include_colab_link": true
    },
    "kernelspec": {
      "name": "python3",
      "display_name": "Python 3"
    },
    "language_info": {
      "name": "python"
    }
  },
  "cells": [
    {
      "cell_type": "markdown",
      "metadata": {
        "id": "view-in-github",
        "colab_type": "text"
      },
      "source": [
        "<a href=\"https://colab.research.google.com/github/byambaa1982/python_cources_for_beginers/blob/main/2_variables_and_operations/practice1_solution.ipynb\" target=\"_parent\"><img src=\"https://colab.research.google.com/assets/colab-badge.svg\" alt=\"Open In Colab\"/></a>"
      ]
    },
    {
      "cell_type": "markdown",
      "source": [
        "## Task 1: Greeting Multiple People\n",
        "Write a program that asks for two people's names and prints a greeting for each of them.\n",
        "\n",
        "### Instructions\n",
        "- Use the `input()` function to ask for the first person's name.\n",
        "- Use `input()` again to ask for the second person's name.\n",
        "- Print a greeting message for each person."
      ],
      "metadata": {
        "id": "uFuOetAi30Wv"
      }
    },
    {
      "cell_type": "code",
      "source": [
        "# Solution\n",
        "name1 = input(\"What is the first person's name? \")\n",
        "name2 = input(\"What is the second person's name? \")\n",
        "print(\"Hello, \" + name1 + \"!\")\n",
        "print(\"Hello, \" + name2 + \"!\")"
      ],
      "metadata": {
        "colab": {
          "base_uri": "https://localhost:8080/"
        },
        "id": "n8c5Zo1639Ly",
        "outputId": "b8bfd339-a6db-40b0-ad72-dae2111cc0e3"
      },
      "execution_count": 1,
      "outputs": [
        {
          "output_type": "stream",
          "name": "stdout",
          "text": [
            "What is the first person's name? Byamba\n",
            "What is the second person's name? Alice\n",
            "Hello, Byamba!\n",
            "Hello, Alice!\n"
          ]
        }
      ]
    },
    {
      "cell_type": "markdown",
      "source": [
        "## Task 2: Simple Calculator\n",
        "Write a program that asks for two numbers and then adds, subtracts, multiplies, and divides them.\n",
        "\n",
        "### Instructions\n",
        "- Use `input()` to ask for the first number.\n",
        "- Ask for a second number.\n",
        "- Convert the inputs to numbers using `int()` or `float()`.\n",
        "- Perform addition, subtraction, multiplication, and division on the numbers.\n",
        "- Print the results for each operation."
      ],
      "metadata": {
        "id": "EDNr3CC64GST"
      }
    },
    {
      "cell_type": "code",
      "source": [
        "# Solution\n",
        "num1 = float(input(\"Enter the first number: \"))\n",
        "num2 = float(input(\"Enter the second number: \"))"
      ],
      "metadata": {
        "id": "riPUUPm__a7n",
        "outputId": "8420c539-3a8b-445b-a3fb-6bb2040636bd",
        "colab": {
          "base_uri": "https://localhost:8080/"
        }
      },
      "execution_count": 2,
      "outputs": [
        {
          "name": "stdout",
          "output_type": "stream",
          "text": [
            "Enter the first number: 2\n",
            "Enter the second number: 4\n"
          ]
        }
      ]
    },
    {
      "cell_type": "code",
      "source": [
        "# Addition\n",
        "add_result = num1 + num2\n",
        "print(\"Addition:\", add_result)\n",
        "\n",
        "# Subtraction\n",
        "sub_result = num1 - num2\n",
        "print(\"Subtraction:\", sub_result)\n",
        "\n",
        "# Multiplication\n",
        "mul_result = num1 * num2\n",
        "print(\"Multiplication:\", mul_result)\n",
        "\n",
        "# Division\n",
        "div_result = num1 / num2\n",
        "print(\"Division:\", div_result)"
      ],
      "metadata": {
        "id": "DNSoxvdw_gPn",
        "outputId": "163fd093-277c-4e3c-ae98-c78d3c071cb9",
        "colab": {
          "base_uri": "https://localhost:8080/"
        }
      },
      "execution_count": 3,
      "outputs": [
        {
          "output_type": "stream",
          "name": "stdout",
          "text": [
            "Addition: 6.0\n",
            "Subtraction: -2.0\n",
            "Multiplication: 8.0\n",
            "Division: 0.5\n"
          ]
        }
      ]
    },
    {
      "cell_type": "markdown",
      "source": [
        "## Task 3: Age in 10 Years\n",
        "Write a program that asks the user for their age and then calculates how old they will be in 10 years.\n",
        "\n",
        "### Instructions\n",
        "- Use `input()` to ask for the user's age.\n",
        "- Convert the input to an integer.\n",
        "- Add 10 to the age to calculate the future age.\n",
        "- Print a message showing how old they will be in 10 years"
      ],
      "metadata": {
        "id": "VX_XdWsjAWH2"
      }
    },
    {
      "cell_type": "code",
      "source": [
        "\n",
        "# Solution\n",
        "current_age = int(input(\"What is your current age? \"))\n",
        "age_in_10_years = current_age + 10\n",
        "print(\"In 10 years, you will be \" + str(age_in_10_years) + \" years old!\")\n"
      ],
      "metadata": {
        "id": "DvWhOnfyAT_6",
        "outputId": "7e0125d4-b06d-4546-870e-1690c7adf937",
        "colab": {
          "base_uri": "https://localhost:8080/"
        }
      },
      "execution_count": 4,
      "outputs": [
        {
          "output_type": "stream",
          "name": "stdout",
          "text": [
            "What is your current age? 34\n",
            "In 10 years, you will be 44 years old!\n"
          ]
        }
      ]
    },
    {
      "cell_type": "markdown",
      "source": [
        "## Task 4: Favorite Number Times Table\n",
        "Write a program that asks the user for their favorite number and prints the times table for that number up to 10.\n",
        "\n",
        "### Instructions\n",
        "- Use `input()` to ask for the user's favorite number.\n",
        "- Convert the input to an integer.\n",
        "- Use a loop to print the times table from 1 to 10 for that number.\n"
      ],
      "metadata": {
        "id": "6qS39TsiAjzo"
      }
    },
    {
      "cell_type": "code",
      "source": [
        "\n",
        "# Solution\n",
        "favorite_number = int(input(\"What is your favorite number? \"))\n",
        "print(\"Here is the times table for \" + str(favorite_number) + \":\")\n",
        "\n",
        "for i in range(1, 11):\n",
        "    print(favorite_number, \"x\", i, \"=\", favorite_number * i)"
      ],
      "metadata": {
        "id": "BW-gjyXEAcjn",
        "outputId": "72bd26e8-953c-4690-c273-a2c868f6151d",
        "colab": {
          "base_uri": "https://localhost:8080/"
        }
      },
      "execution_count": 5,
      "outputs": [
        {
          "output_type": "stream",
          "name": "stdout",
          "text": [
            "What is your favorite number? 4\n",
            "Here is the times table for 4:\n",
            "4 x 1 = 4\n",
            "4 x 2 = 8\n",
            "4 x 3 = 12\n",
            "4 x 4 = 16\n",
            "4 x 5 = 20\n",
            "4 x 6 = 24\n",
            "4 x 7 = 28\n",
            "4 x 8 = 32\n",
            "4 x 9 = 36\n",
            "4 x 10 = 40\n"
          ]
        }
      ]
    },
    {
      "cell_type": "code",
      "source": [],
      "metadata": {
        "id": "RQBJISijAq4f"
      },
      "execution_count": null,
      "outputs": []
    }
  ]
}