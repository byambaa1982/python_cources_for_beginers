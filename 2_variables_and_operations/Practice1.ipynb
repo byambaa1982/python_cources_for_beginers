{
  "nbformat": 4,
  "nbformat_minor": 0,
  "metadata": {
    "colab": {
      "provenance": [],
      "include_colab_link": true
    },
    "kernelspec": {
      "name": "python3",
      "display_name": "Python 3"
    },
    "language_info": {
      "name": "python"
    }
  },
  "cells": [
    {
      "cell_type": "markdown",
      "metadata": {
        "id": "view-in-github",
        "colab_type": "text"
      },
      "source": [
        "<a href=\"https://colab.research.google.com/github/byambaa1982/python_cources_for_beginers/blob/tsogoo/2_variables_and_operations/Practice1.ipynb\" target=\"_parent\"><img src=\"https://colab.research.google.com/assets/colab-badge.svg\" alt=\"Open In Colab\"/></a>"
      ]
    },
    {
      "cell_type": "markdown",
      "source": [
        "# Task 1\n",
        "\n",
        "1. Create three variables: your_name, your_age, and your_hobby.\n",
        "2. Assign your own name, age, and favorite hobby to these variables.\n",
        "3. Use an f-string to create a sentence that introduces yourself using the variables.\n",
        "4. Print the sentence."
      ],
      "metadata": {
        "id": "8OvWnBDFIt--"
      }
    },
    {
      "cell_type": "code",
      "source": [
        "4+4\n"
      ],
      "metadata": {
        "id": "KOHXjQT_BONx",
        "outputId": "96fe001a-1150-4eb9-9c31-69e1408d24c5",
        "colab": {
          "base_uri": "https://localhost:8080/"
        }
      },
      "execution_count": 2,
      "outputs": [
        {
          "output_type": "execute_result",
          "data": {
            "text/plain": [
              "8"
            ]
          },
          "metadata": {},
          "execution_count": 2
        }
      ]
    },
    {
      "cell_type": "code",
      "source": [
        "\"4\"+\"4\""
      ],
      "metadata": {
        "id": "f2jVacu1BXdn",
        "outputId": "1f3ee5f2-8436-4002-841c-68d1145f6658",
        "colab": {
          "base_uri": "https://localhost:8080/",
          "height": 36
        }
      },
      "execution_count": 3,
      "outputs": [
        {
          "output_type": "execute_result",
          "data": {
            "text/plain": [
              "'44'"
            ],
            "application/vnd.google.colaboratory.intrinsic+json": {
              "type": "string"
            }
          },
          "metadata": {},
          "execution_count": 3
        }
      ]
    },
    {
      "cell_type": "code",
      "source": [
        "4+\"4\""
      ],
      "metadata": {
        "id": "lAW9aGGtBgLT",
        "outputId": "89356f54-eef0-4db4-9a55-034ac3e84ddf",
        "colab": {
          "base_uri": "https://localhost:8080/",
          "height": 141
        }
      },
      "execution_count": 4,
      "outputs": [
        {
          "output_type": "error",
          "ename": "TypeError",
          "evalue": "unsupported operand type(s) for +: 'int' and 'str'",
          "traceback": [
            "\u001b[0;31m---------------------------------------------------------------------------\u001b[0m",
            "\u001b[0;31mTypeError\u001b[0m                                 Traceback (most recent call last)",
            "\u001b[0;32m<ipython-input-4-e0a6d60f6fb3>\u001b[0m in \u001b[0;36m<cell line: 1>\u001b[0;34m()\u001b[0m\n\u001b[0;32m----> 1\u001b[0;31m \u001b[0;36m4\u001b[0m\u001b[0;34m+\u001b[0m\u001b[0;34m\"4\"\u001b[0m\u001b[0;34m\u001b[0m\u001b[0;34m\u001b[0m\u001b[0m\n\u001b[0m",
            "\u001b[0;31mTypeError\u001b[0m: unsupported operand type(s) for +: 'int' and 'str'"
          ]
        }
      ]
    },
    {
      "cell_type": "code",
      "source": [
        "# Define variables\n",
        "your_name = \"tsogoo\"\n",
        "your_age = 42\n",
        "your_hobby = \"reading no fiction books\"\n",
        "\n",
        "# Create and print the introduction sentence\n",
        "print(f\"Hi! My name is {your_name}. I am {your_age} years old and I love {your_hobby}.\")\n"
      ],
      "metadata": {
        "colab": {
          "base_uri": "https://localhost:8080/"
        },
        "id": "oZurymB6I3vV",
        "outputId": "070823fd-fa87-42f0-d733-e16754f778dc"
      },
      "execution_count": 1,
      "outputs": [
        {
          "output_type": "stream",
          "name": "stdout",
          "text": [
            "Hi! My name is tsogoo. I am 42 years old and I love reading no fiction books.\n"
          ]
        }
      ]
    },
    {
      "cell_type": "markdown",
      "source": [
        "# Task 2\n",
        "\n",
        "1. Create three variables: animal_name, animal_color, and animal_sound.\n",
        "2. Assign the name, color, and sound of your favorite animal to these variables.\n",
        "3. Use print statements to describe your favorite animal."
      ],
      "metadata": {
        "id": "LZZLSZV2JFfy"
      }
    },
    {
      "cell_type": "code",
      "source": [
        "# Your code here ...\n",
        "# Define variables\n",
        "\n"
      ],
      "metadata": {
        "colab": {
          "base_uri": "https://localhost:8080/"
        },
        "id": "zNcwYaQNJMl0",
        "outputId": "0dadc5e6-8c7c-43cc-c557-729fb7ba2cc9"
      },
      "execution_count": null,
      "outputs": [
        {
          "output_type": "stream",
          "name": "stdout",
          "text": [
            "My favorite animal is a parrot\n",
            "It is green in color\n",
            "It makes a sound like squawk\n"
          ]
        }
      ]
    },
    {
      "cell_type": "markdown",
      "source": [
        "## Task 2 output:\n",
        "\n",
        "My favorite animal is a parrot \\\n",
        "It is green in color \\\n",
        "It makes a sound like squawk"
      ],
      "metadata": {
        "id": "e_EiWF1fR0u1"
      }
    },
    {
      "cell_type": "code",
      "source": [],
      "metadata": {
        "id": "wxNtm9CmJT0t"
      },
      "execution_count": null,
      "outputs": []
    },
    {
      "cell_type": "markdown",
      "source": [
        "# Task 3\n",
        "\n",
        "1. Create three variables: friend_name, friend_age, and favorite_activity.\n",
        "2. Assign the name and age of your friend, and their favorite activity to these variables.\n",
        "3. Use an f-string to create a sentence that describes what you and your friend like to do together.\n",
        "4. Print the sentence."
      ],
      "metadata": {
        "id": "39vCxS22J5YU"
      }
    },
    {
      "cell_type": "code",
      "source": [
        "# Define variables\n",
        "\n"
      ],
      "metadata": {
        "colab": {
          "base_uri": "https://localhost:8080/"
        },
        "id": "VOZ9T3JDKBs-",
        "outputId": "e0d81183-cb8e-4a90-c937-09bb64a50917"
      },
      "execution_count": null,
      "outputs": [
        {
          "output_type": "stream",
          "name": "stdout",
          "text": [
            "My friend Jake is 10 years old. We love riding bikes together!\n"
          ]
        }
      ]
    },
    {
      "cell_type": "markdown",
      "source": [
        "## Task 3 Output\n",
        "\n",
        "My friend Jake is 10 years old. We love riding bikes together!"
      ],
      "metadata": {
        "id": "AzEl721kSATf"
      }
    },
    {
      "cell_type": "markdown",
      "source": [
        "# Task 4\n",
        "\n",
        "1. Create three variables: recipe_name, ingredient_quantity, and ingredient_name.\n",
        "2. Assign the name of your favorite recipe, the quantity of a main ingredient (as a float), and the ingredient name to these variables.\n",
        "3. Use an f-string to create a sentence that describes your recipe.\n",
        "4. Print the sentence."
      ],
      "metadata": {
        "id": "lk24UmL_LH29"
      }
    },
    {
      "cell_type": "code",
      "source": [
        "# Define variables\n",
        "\n"
      ],
      "metadata": {
        "colab": {
          "base_uri": "https://localhost:8080/"
        },
        "id": "BJjCNxEzLQ8e",
        "outputId": "a18a1f1f-0663-4be0-c746-743aac82bfb8"
      },
      "execution_count": null,
      "outputs": [
        {
          "output_type": "stream",
          "name": "stdout",
          "text": [
            "To make pancakes, you need 1.5 cups of flour.\n"
          ]
        }
      ]
    },
    {
      "cell_type": "markdown",
      "source": [
        "## Task 4 Output:\n",
        "\n",
        "To make pancakes, you need 1.5 cups of flour."
      ],
      "metadata": {
        "id": "H78qiqKgSLVV"
      }
    },
    {
      "cell_type": "markdown",
      "source": [
        "# Task 5\n",
        "\n",
        "1. Create three variables: game1_score, game2_score, and total_score.\n",
        "2. Assign scores (as integers) to game1_score and game2_score.\n",
        "3. Calculate the total_score by adding game1_score and game2_score.\n",
        "4. Use an f-string to create a sentence that displays the total score.\n",
        "5. Print the sentence."
      ],
      "metadata": {
        "id": "Zoe8g0QTLoGf"
      }
    },
    {
      "cell_type": "code",
      "source": [
        "# Define variables\n",
        "\n"
      ],
      "metadata": {
        "colab": {
          "base_uri": "https://localhost:8080/"
        },
        "id": "l9lIoGcfLv6b",
        "outputId": "b0b602a3-e41e-4194-c543-080305aa3a0a"
      },
      "execution_count": null,
      "outputs": [
        {
          "output_type": "stream",
          "name": "stdout",
          "text": [
            "The total score of both games is 12.\n"
          ]
        }
      ]
    },
    {
      "cell_type": "markdown",
      "source": [
        "## Task 5\n",
        "\n",
        "The total score of both games is 12."
      ],
      "metadata": {
        "id": "US1H-9piSQrm"
      }
    },
    {
      "cell_type": "markdown",
      "source": [
        "# Task 6\n",
        "\n",
        "1. Create three variables: total_homework, completed_homework, and remaining_homework.\n",
        "2. Assign the total number of homework assignments (as an integer) to total_homework and the number completed to completed_homework.\n",
        "3. Calculate remaining_homework by subtracting completed_homework from total_homework.\n",
        "4. Use an f-string to create a sentence that displays the remaining homework assignments.\n",
        "5. Print the sentence."
      ],
      "metadata": {
        "id": "CxXp6DRZM-6T"
      }
    },
    {
      "cell_type": "code",
      "source": [
        "# Define variables\n",
        "\n",
        "\n"
      ],
      "metadata": {
        "colab": {
          "base_uri": "https://localhost:8080/"
        },
        "id": "vlrg2SsOMxh8",
        "outputId": "bd47d3d2-1e8c-454b-d7b2-d9f5d9b4e44b"
      },
      "execution_count": null,
      "outputs": [
        {
          "output_type": "stream",
          "name": "stdout",
          "text": [
            "I have 4 homework assignments left to complete.\n"
          ]
        }
      ]
    },
    {
      "cell_type": "markdown",
      "source": [
        "## Task 6 Output\n",
        "\n",
        "I have 4 homework assignments left to complete.\n",
        "\n",
        "\n"
      ],
      "metadata": {
        "id": "oLVnmaWASZuD"
      }
    },
    {
      "cell_type": "markdown",
      "source": [
        "# Task 7\n",
        "\n",
        "1. Create three variables: your_score, passing_score, and passed.\n",
        "2. Assign your score (as an integer) to your_score and the passing score to passing_score.\n",
        "3. Use a boolean expression to determine if your_score is greater than or equal to passing_score and assign the result to passed.\n",
        "4. Use an f-string to create a sentence that displays whether you passed.\n",
        "5. Print the sentence."
      ],
      "metadata": {
        "id": "FnZbDrmwNoNp"
      }
    },
    {
      "cell_type": "code",
      "source": [
        "# Define variables\n",
        "\n"
      ],
      "metadata": {
        "id": "-NPx9vYHN5u2",
        "outputId": "3b8ab267-c2fe-40fd-dba4-47073ef12c8d",
        "colab": {
          "base_uri": "https://localhost:8080/"
        }
      },
      "execution_count": null,
      "outputs": [
        {
          "output_type": "stream",
          "name": "stdout",
          "text": [
            "Did I pass the test? True\n"
          ]
        }
      ]
    },
    {
      "cell_type": "markdown",
      "source": [
        "## Task 7 Output:\n",
        "\n",
        "Did I pass the test? True"
      ],
      "metadata": {
        "id": "FY3tyOExSg8R"
      }
    },
    {
      "cell_type": "markdown",
      "source": [
        "# Task 8\n",
        "\n",
        "1. Define five variables for grocery items and their prices.\n",
        "2. Calculate the total cost.\n",
        "3. Use f-strings to create a formatted receipt.\n",
        "4. Print the receipt."
      ],
      "metadata": {
        "id": "vsRDBokdNmW-"
      }
    },
    {
      "cell_type": "code",
      "source": [
        "#Your code is here"
      ],
      "metadata": {
        "id": "mIkHA7B5NsV-"
      },
      "execution_count": null,
      "outputs": []
    },
    {
      "cell_type": "markdown",
      "source": [
        "# Your output:\n",
        "----- Grocery Receipt -----\n",
        "\n",
        "Apples: $1.5 \\\n",
        "\n",
        "Bread: $2.0 \\\n",
        "\n",
        "Milk: $3.25 \\\n",
        "\n",
        "Eggs: $2.75 \\\n",
        "\n",
        "Cheese: $4.5\n",
        "\n",
        "---------------------------\n",
        "\n",
        "Total: $14.0\n"
      ],
      "metadata": {
        "id": "4E_S3jdEP0Na"
      }
    },
    {
      "cell_type": "code",
      "source": [],
      "metadata": {
        "id": "iPQ2weuhQodo"
      },
      "execution_count": null,
      "outputs": []
    }
  ]
}