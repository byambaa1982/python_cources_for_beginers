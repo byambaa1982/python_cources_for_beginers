{
  "nbformat": 4,
  "nbformat_minor": 0,
  "metadata": {
    "colab": {
      "provenance": [],
      "include_colab_link": true
    },
    "kernelspec": {
      "name": "python3",
      "display_name": "Python 3"
    },
    "language_info": {
      "name": "python"
    }
  },
  "cells": [
    {
      "cell_type": "markdown",
      "metadata": {
        "id": "view-in-github",
        "colab_type": "text"
      },
      "source": [
        "<a href=\"https://colab.research.google.com/github/byambaa1982/python_cources_for_beginers/blob/class_zero_tuggy/2_variables_and_operations/Practice1.ipynb\" target=\"_parent\"><img src=\"https://colab.research.google.com/assets/colab-badge.svg\" alt=\"Open In Colab\"/></a>"
      ]
    },
    {
      "cell_type": "markdown",
      "source": [
        "# Task 1\n",
        "\n",
        "1. Create three variables: your_name, your_age, and your_hobby.\n",
        "2. Assign your own name, age, and favorite hobby to these variables.\n",
        "3. Use an f-string to create a sentence that introduces yourself using the variables.\n",
        "4. Print the sentence."
      ],
      "metadata": {
        "id": "8OvWnBDFIt--"
      }
    },
    {
      "cell_type": "code",
      "source": [
        "# Define variables\n",
        "your_name = \"Tuggy\"\n",
        "your_age = 15\n",
        "your_hobby = \"going to the gym\"\n",
        "\n",
        "# Create and print the introduction sentence\n",
        "print(f\"Hi! My name is {your_name}. I am {your_age} years old and I love {your_hobby}.\")\n"
      ],
      "metadata": {
        "colab": {
          "base_uri": "https://localhost:8080/"
        },
        "id": "oZurymB6I3vV",
        "outputId": "f9fcb1a7-259f-4c75-e6b2-b34297c6e4a5"
      },
      "execution_count": 1,
      "outputs": [
        {
          "output_type": "stream",
          "name": "stdout",
          "text": [
            "Hi! My name is Tuggy. I am 15 years old and I love going to the gym.\n"
          ]
        }
      ]
    },
    {
      "cell_type": "markdown",
      "source": [
        "# Task 2\n",
        "\n",
        "1. Create three variables: animal_name, animal_color, and animal_sound.\n",
        "2. Assign the name, color, and sound of your favorite animal to these variables.\n",
        "3. Use print statements to describe your favorite animal."
      ],
      "metadata": {
        "id": "LZZLSZV2JFfy"
      }
    },
    {
      "cell_type": "code",
      "source": [
        "# Your code here ...\n",
        "# Define variables\n",
        "animal_name = \"lion\"\n",
        "animal_color = \"brown\"\n",
        "animal_sound = \"roar\"\n",
        "print(f\"My favirote animal is a {animal_name}\")\n",
        "print(f\"the animals color is {animal_color}\")\n",
        "print(f\" it makes a sound like {animal_sound}\")"
      ],
      "metadata": {
        "colab": {
          "base_uri": "https://localhost:8080/"
        },
        "id": "zNcwYaQNJMl0",
        "outputId": "c7e7ffd5-ae4d-4830-c1db-58e8cff17060"
      },
      "execution_count": 6,
      "outputs": [
        {
          "output_type": "stream",
          "name": "stdout",
          "text": [
            "My favirote animal is a lion\n",
            "the animals color is brown\n",
            " it makes a sound like roar\n"
          ]
        }
      ]
    },
    {
      "cell_type": "markdown",
      "source": [
        "## Task 2 output:\n",
        "\n",
        "My favorite animal is a parrot \\\n",
        "It is green in color \\\n",
        "It makes a sound like squawk"
      ],
      "metadata": {
        "id": "e_EiWF1fR0u1"
      }
    },
    {
      "cell_type": "code",
      "source": [],
      "metadata": {
        "id": "wxNtm9CmJT0t"
      },
      "execution_count": null,
      "outputs": []
    },
    {
      "cell_type": "markdown",
      "source": [
        "# Task 3\n",
        "\n",
        "1. Create three variables: friend_name, friend_age, and favorite_activity.\n",
        "2. Assign the name and age of your friend, and their favorite activity to these variables.\n",
        "3. Use an f-string to create a sentence that describes what you and your friend like to do together.\n",
        "4. Print the sentence."
      ],
      "metadata": {
        "id": "39vCxS22J5YU"
      }
    },
    {
      "cell_type": "code",
      "source": [
        "# Define variables\n",
        "friend_name = \"adrian\"\n",
        "friend_age = \"15\"\n",
        "friend_activity = \"fishing\"\n",
        "print(f\"My friend {friend_name} is {friend_age}. We love to {friend_activity}\")"
      ],
      "metadata": {
        "colab": {
          "base_uri": "https://localhost:8080/"
        },
        "id": "VOZ9T3JDKBs-",
        "outputId": "7545c013-2565-4819-85c4-b48712756f20"
      },
      "execution_count": 7,
      "outputs": [
        {
          "output_type": "stream",
          "name": "stdout",
          "text": [
            "My friend adrian is 15. We love to fishing\n"
          ]
        }
      ]
    },
    {
      "cell_type": "markdown",
      "source": [
        "## Task 3 Output\n",
        "\n",
        "My friend Jake is 10 years old. We love riding bikes together!"
      ],
      "metadata": {
        "id": "AzEl721kSATf"
      }
    },
    {
      "cell_type": "markdown",
      "source": [
        "# Task 4\n",
        "\n",
        "1. Create three variables: recipe_name, ingredient_quantity, and ingredient_name.\n",
        "2. Assign the name of your favorite recipe, the quantity of a main ingredient (as a float), and the ingredient name to these variables.\n",
        "3. Use an f-string to create a sentence that describes your recipe.\n",
        "4. Print the sentence."
      ],
      "metadata": {
        "id": "lk24UmL_LH29"
      }
    },
    {
      "cell_type": "code",
      "source": [
        "# Define variables\n",
        "recipe_name = \"pizza\"\n",
        "ingredient_quanity = \"8 peices\"\n",
        "ingredient_name = \"pepperoni\"\n",
        "print(f\"to make a {recipe_name}, you need {ingredient_quanity} of {ingredient_name}\")"
      ],
      "metadata": {
        "colab": {
          "base_uri": "https://localhost:8080/"
        },
        "id": "BJjCNxEzLQ8e",
        "outputId": "517cf459-9364-4d95-9eb2-dc98bd688d73"
      },
      "execution_count": 8,
      "outputs": [
        {
          "output_type": "stream",
          "name": "stdout",
          "text": [
            "to make a pizza, you need 8 peices of pepperoni\n"
          ]
        }
      ]
    },
    {
      "cell_type": "markdown",
      "source": [
        "## Task 4 Output:\n",
        "\n",
        "To make pancakes, you need 1.5 cups of flour."
      ],
      "metadata": {
        "id": "H78qiqKgSLVV"
      }
    },
    {
      "cell_type": "markdown",
      "source": [
        "# Task 5\n",
        "\n",
        "1. Create three variables: game1_score, game2_score, and total_score.\n",
        "2. Assign scores (as integers) to game1_score and game2_score.\n",
        "3. Calculate the total_score by adding game1_score and game2_score.\n",
        "4. Use an f-string to create a sentence that displays the total score.\n",
        "5. Print the sentence."
      ],
      "metadata": {
        "id": "Zoe8g0QTLoGf"
      }
    },
    {
      "cell_type": "code",
      "source": [
        "# Define variables\n",
        "\n"
      ],
      "metadata": {
        "colab": {
          "base_uri": "https://localhost:8080/"
        },
        "id": "l9lIoGcfLv6b",
        "outputId": "b0b602a3-e41e-4194-c543-080305aa3a0a"
      },
      "execution_count": null,
      "outputs": [
        {
          "output_type": "stream",
          "name": "stdout",
          "text": [
            "The total score of both games is 12.\n"
          ]
        }
      ]
    },
    {
      "cell_type": "markdown",
      "source": [
        "## Task 5\n",
        "\n",
        "The total score of both games is 12."
      ],
      "metadata": {
        "id": "US1H-9piSQrm"
      }
    },
    {
      "cell_type": "markdown",
      "source": [
        "# Task 6\n",
        "\n",
        "1. Create three variables: total_homework, completed_homework, and remaining_homework.\n",
        "2. Assign the total number of homework assignments (as an integer) to total_homework and the number completed to completed_homework.\n",
        "3. Calculate remaining_homework by subtracting completed_homework from total_homework.\n",
        "4. Use an f-string to create a sentence that displays the remaining homework assignments.\n",
        "5. Print the sentence."
      ],
      "metadata": {
        "id": "CxXp6DRZM-6T"
      }
    },
    {
      "cell_type": "code",
      "source": [
        "# Define variables\n",
        "\n",
        "\n"
      ],
      "metadata": {
        "colab": {
          "base_uri": "https://localhost:8080/"
        },
        "id": "vlrg2SsOMxh8",
        "outputId": "bd47d3d2-1e8c-454b-d7b2-d9f5d9b4e44b"
      },
      "execution_count": null,
      "outputs": [
        {
          "output_type": "stream",
          "name": "stdout",
          "text": [
            "I have 4 homework assignments left to complete.\n"
          ]
        }
      ]
    },
    {
      "cell_type": "markdown",
      "source": [
        "## Task 6 Output\n",
        "\n",
        "I have 4 homework assignments left to complete.\n",
        "\n",
        "\n"
      ],
      "metadata": {
        "id": "oLVnmaWASZuD"
      }
    },
    {
      "cell_type": "markdown",
      "source": [
        "# Task 7\n",
        "\n",
        "1. Create three variables: your_score, passing_score, and passed.\n",
        "2. Assign your score (as an integer) to your_score and the passing score to passing_score.\n",
        "3. Use a boolean expression to determine if your_score is greater than or equal to passing_score and assign the result to passed.\n",
        "4. Use an f-string to create a sentence that displays whether you passed.\n",
        "5. Print the sentence."
      ],
      "metadata": {
        "id": "FnZbDrmwNoNp"
      }
    },
    {
      "cell_type": "code",
      "source": [
        "# Define variables\n",
        "\n"
      ],
      "metadata": {
        "id": "-NPx9vYHN5u2",
        "outputId": "3b8ab267-c2fe-40fd-dba4-47073ef12c8d",
        "colab": {
          "base_uri": "https://localhost:8080/"
        }
      },
      "execution_count": null,
      "outputs": [
        {
          "output_type": "stream",
          "name": "stdout",
          "text": [
            "Did I pass the test? True\n"
          ]
        }
      ]
    },
    {
      "cell_type": "markdown",
      "source": [
        "## Task 7 Output:\n",
        "\n",
        "Did I pass the test? True"
      ],
      "metadata": {
        "id": "FY3tyOExSg8R"
      }
    },
    {
      "cell_type": "markdown",
      "source": [
        "# Task 8\n",
        "\n",
        "1. Define five variables for grocery items and their prices.\n",
        "2. Calculate the total cost.\n",
        "3. Use f-strings to create a formatted receipt.\n",
        "4. Print the receipt."
      ],
      "metadata": {
        "id": "vsRDBokdNmW-"
      }
    },
    {
      "cell_type": "code",
      "source": [
        "#Your code is here"
      ],
      "metadata": {
        "id": "mIkHA7B5NsV-"
      },
      "execution_count": null,
      "outputs": []
    },
    {
      "cell_type": "markdown",
      "source": [
        "# Your output:\n",
        "----- Grocery Receipt -----\n",
        "\n",
        "Apples: $1.5 \\\n",
        "\n",
        "Bread: $2.0 \\\n",
        "\n",
        "Milk: $3.25 \\\n",
        "\n",
        "Eggs: $2.75 \\\n",
        "\n",
        "Cheese: $4.5\n",
        "\n",
        "---------------------------\n",
        "\n",
        "Total: $14.0\n"
      ],
      "metadata": {
        "id": "4E_S3jdEP0Na"
      }
    },
    {
      "cell_type": "code",
      "source": [],
      "metadata": {
        "id": "iPQ2weuhQodo"
      },
      "execution_count": null,
      "outputs": []
    }
  ]
}