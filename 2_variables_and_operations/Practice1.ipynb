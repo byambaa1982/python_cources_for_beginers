{
  "nbformat": 4,
  "nbformat_minor": 0,
  "metadata": {
    "colab": {
      "provenance": [],
      "include_colab_link": true
    },
    "kernelspec": {
      "name": "python3",
      "display_name": "Python 3"
    },
    "language_info": {
      "name": "python"
    }
  },
  "cells": [
    {
      "cell_type": "markdown",
      "metadata": {
        "id": "view-in-github",
        "colab_type": "text"
      },
      "source": [
        "<a href=\"https://colab.research.google.com/github/byambaa1982/python_cources_for_beginers/blob/class_zero_burentugs/2_variables_and_operations/Practice1.ipynb\" target=\"_parent\"><img src=\"https://colab.research.google.com/assets/colab-badge.svg\" alt=\"Open In Colab\"/></a>"
      ]
    },
    {
      "cell_type": "markdown",
      "source": [
        "# Task 1\n",
        "\n",
        "1. Create three variables: your_name, your_age, and your_hobby.\n",
        "2. Assign your own name, age, and favorite hobby to these variables.\n",
        "3. Use an f-string to create a sentence that introduces yourself using the variables.\n",
        "4. Print the sentence."
      ],
      "metadata": {
        "id": "8OvWnBDFIt--"
      }
    },
    {
      "cell_type": "code",
      "source": [
        "# Define variables\n",
        "your_name = \"Burentugs\"\n",
        "your_age = 15\n",
        "your_hobby = \"Playing Football\"\n",
        "\n",
        "# Create and print the introduction sentence\n",
        "print(f\"Hi! My name is {your_name}. I am {your_age} years old and I love {your_hobby}.\")"
      ],
      "metadata": {
        "colab": {
          "base_uri": "https://localhost:8080/"
        },
        "id": "oZurymB6I3vV",
        "outputId": "cb1dd3d5-08d5-4e19-b847-e99d40c08222"
      },
      "execution_count": 27,
      "outputs": [
        {
          "output_type": "stream",
          "name": "stdout",
          "text": [
            "Hi! My name is Burentugs. I am 15 years old and I love Playing Football.\n"
          ]
        }
      ]
    },
    {
      "cell_type": "markdown",
      "source": [
        "# Task 2\n",
        "\n",
        "1. Create three variables: animal_name, animal_color, and animal_sound.\n",
        "2. Assign the name, color, and sound of your favorite animal to these variables.\n",
        "3. Use print statements to describe your favorite animal."
      ],
      "metadata": {
        "id": "LZZLSZV2JFfy"
      }
    },
    {
      "cell_type": "code",
      "source": [
        "# Your code here ...\n",
        "# Define variables\n",
        "animal_name =  \"Dog\"\n",
        "animal_color = \"Black and White\"\n",
        "animal_sound = \"Bark\"\n",
        "print(f\"My favorite animal is a {animal_name}\")\n",
        "print(f\"It is {animal_color} in color\")\n",
        "print(f\"It makes a sound like {animal_sound}\")\n",
        "\n"
      ],
      "metadata": {
        "colab": {
          "base_uri": "https://localhost:8080/"
        },
        "id": "zNcwYaQNJMl0",
        "outputId": "37b9037c-7589-495b-82f6-8637b2e937e7"
      },
      "execution_count": 28,
      "outputs": [
        {
          "output_type": "stream",
          "name": "stdout",
          "text": [
            "My favorite animal is a Dog\n",
            "It is Black and White in color\n",
            "It makes a sound like Bark\n"
          ]
        }
      ]
    },
    {
      "cell_type": "markdown",
      "source": [
        "## Task 2 output:\n",
        "\n",
        "My favorite animal is a parrot \\\n",
        "It is green in color \\\n",
        "It makes a sound like squawk"
      ],
      "metadata": {
        "id": "e_EiWF1fR0u1"
      }
    },
    {
      "cell_type": "code",
      "source": [],
      "metadata": {
        "id": "wxNtm9CmJT0t"
      },
      "execution_count": null,
      "outputs": []
    },
    {
      "cell_type": "markdown",
      "source": [
        "# Task 3\n",
        "\n",
        "1. Create three variables: friend_name, friend_age, and favorite_activity.\n",
        "2. Assign the name and age of your friend, and their favorite activity to these variables.\n",
        "3. Use an f-string to create a sentence that describes what you and your friend like to do together.\n",
        "4. Print the sentence."
      ],
      "metadata": {
        "id": "39vCxS22J5YU"
      }
    },
    {
      "cell_type": "code",
      "source": [
        "# Define variables\n",
        "friend_name = \"Dulguun\"\n",
        "friend_age = 15\n",
        "favorite_activity = \"playing online games together\"\n",
        "print(f\"My friend {friend_name} is {friend_age} years old. We love {favorite_activity}!\")\n",
        "\n"
      ],
      "metadata": {
        "colab": {
          "base_uri": "https://localhost:8080/"
        },
        "id": "VOZ9T3JDKBs-",
        "outputId": "7295c351-7aa7-4d78-b28d-34d6c8400163"
      },
      "execution_count": 29,
      "outputs": [
        {
          "output_type": "stream",
          "name": "stdout",
          "text": [
            "My friend Dulguun is 15 years old. We love playing online games together!\n"
          ]
        }
      ]
    },
    {
      "cell_type": "markdown",
      "source": [
        "## Task 3 Output\n",
        "\n",
        "My friend Jake is 10 years old. We love riding bikes together!"
      ],
      "metadata": {
        "id": "AzEl721kSATf"
      }
    },
    {
      "cell_type": "markdown",
      "source": [
        "# Task 4\n",
        "\n",
        "1. Create three variables: recipe_name, ingredient_quantity, and ingredient_name.\n",
        "2. Assign the name of your favorite recipe, the quantity of a main ingredient (as a float), and the ingredient name to these variables.\n",
        "3. Use an f-string to create a sentence that describes your recipe.\n",
        "4. Print the sentence."
      ],
      "metadata": {
        "id": "lk24UmL_LH29"
      }
    },
    {
      "cell_type": "code",
      "source": [
        "# Define variables\n",
        "recipe_name = \"apple puree\"\n",
        "ingredient_quantity = \"3\"\n",
        "ingredient_name = \"apple\"\n",
        "\n",
        "# Create and print the recipe sentence\n",
        "print(f\"To make {recipe_name}, you need {ingredient_quantity} cups of {ingredient_name}.\")\n",
        "\n",
        "\n"
      ],
      "metadata": {
        "colab": {
          "base_uri": "https://localhost:8080/"
        },
        "id": "BJjCNxEzLQ8e",
        "outputId": "4477d176-edbf-4a25-982b-4deb403cdcde"
      },
      "execution_count": 30,
      "outputs": [
        {
          "output_type": "stream",
          "name": "stdout",
          "text": [
            "To make apple puree, you need 3 cups of apple.\n"
          ]
        }
      ]
    },
    {
      "cell_type": "markdown",
      "source": [
        "## Task 4 Output:\n",
        "\n",
        "To make pancakes, you need 1.5 cups of flour."
      ],
      "metadata": {
        "id": "H78qiqKgSLVV"
      }
    },
    {
      "cell_type": "markdown",
      "source": [
        "# Task 5\n",
        "\n",
        "1. Create three variables: game1_score, game2_score, and total_score.\n",
        "2. Assign scores (as integers) to game1_score and game2_score.\n",
        "3. Calculate the total_score by adding game1_score and game2_score.\n",
        "4. Use an f-string to create a sentence that displays the total score.\n",
        "5. Print the sentence."
      ],
      "metadata": {
        "id": "Zoe8g0QTLoGf"
      }
    },
    {
      "cell_type": "code",
      "source": [
        "# Define variables\n",
        "game1_score = 75\n",
        "game2_score = 55\n",
        "total_score = game1_score + game2_score\n",
        "print(f\"The total score of both games is {total_score}.\")\n",
        "\n"
      ],
      "metadata": {
        "colab": {
          "base_uri": "https://localhost:8080/"
        },
        "id": "l9lIoGcfLv6b",
        "outputId": "c71a0e28-d795-4278-d84d-f80ee5112cb7"
      },
      "execution_count": 31,
      "outputs": [
        {
          "output_type": "stream",
          "name": "stdout",
          "text": [
            "The total score of both games is 130.\n"
          ]
        }
      ]
    },
    {
      "cell_type": "markdown",
      "source": [
        "## Task 5\n",
        "\n",
        "The total score of both games is 12."
      ],
      "metadata": {
        "id": "US1H-9piSQrm"
      }
    },
    {
      "cell_type": "markdown",
      "source": [
        "# Task 6\n",
        "\n",
        "1. Create three variables: total_homework, completed_homework, and remaining_homework.\n",
        "2. Assign the total number of homework assignments (as an integer) to total_homework and the number completed to completed_homework.\n",
        "3. Calculate remaining_homework by subtracting completed_homework from total_homework.\n",
        "4. Use an f-string to create a sentence that displays the remaining homework assignments.\n",
        "5. Print the sentence."
      ],
      "metadata": {
        "id": "CxXp6DRZM-6T"
      }
    },
    {
      "cell_type": "code",
      "source": [
        "# Define variables\n",
        "total_homework = 8\n",
        "completed_homework = 6\n",
        "remaining_homework = total_homework - completed_homework\n",
        "print(f\"I have {remaining_homework} homework assignments left to complete.\")\n",
        "\n",
        "\n"
      ],
      "metadata": {
        "colab": {
          "base_uri": "https://localhost:8080/"
        },
        "id": "vlrg2SsOMxh8",
        "outputId": "de9600fd-c36c-4b2b-fa74-397fe4f1b112"
      },
      "execution_count": 32,
      "outputs": [
        {
          "output_type": "stream",
          "name": "stdout",
          "text": [
            "I have 2 homework assignments left to complete.\n"
          ]
        }
      ]
    },
    {
      "cell_type": "markdown",
      "source": [
        "## Task 6 Output\n",
        "\n",
        "I have 4 homework assignments left to complete.\n",
        "\n",
        "\n"
      ],
      "metadata": {
        "id": "oLVnmaWASZuD"
      }
    },
    {
      "cell_type": "markdown",
      "source": [
        "# Task 7\n",
        "\n",
        "1. Create three variables: your_score, passing_score, and passed.\n",
        "2. Assign your score (as an integer) to your_score and the passing score to passing_score.\n",
        "3. Use a boolean expression to determine if your_score is greater than or equal to passing_score and assign the result to passed.\n",
        "4. Use an f-string to create a sentence that displays whether you passed.\n",
        "5. Print the sentence."
      ],
      "metadata": {
        "id": "FnZbDrmwNoNp"
      }
    },
    {
      "cell_type": "code",
      "source": [
        "# Define variables\n",
        "your_score = 95\n",
        "passing_score = 70\n",
        "passed = your_score >= passing_score\n",
        "print(f\"Did I pass the test? {passed}\")\n",
        "\n"
      ],
      "metadata": {
        "id": "-NPx9vYHN5u2",
        "outputId": "b4d472ff-d4b2-418b-f5d9-cc4edeeb1994",
        "colab": {
          "base_uri": "https://localhost:8080/"
        }
      },
      "execution_count": 33,
      "outputs": [
        {
          "output_type": "stream",
          "name": "stdout",
          "text": [
            "Did I pass the test? True\n"
          ]
        }
      ]
    },
    {
      "cell_type": "markdown",
      "source": [
        "## Task 7 Output:\n",
        "\n",
        "Did I pass the test? True"
      ],
      "metadata": {
        "id": "FY3tyOExSg8R"
      }
    },
    {
      "cell_type": "markdown",
      "source": [
        "# Task 8\n",
        "\n",
        "1. Define five variables for grocery items and their prices.\n",
        "2. Calculate the total cost.\n",
        "3. Use f-strings to create a formatted receipt.\n",
        "4. Print the receipt."
      ],
      "metadata": {
        "id": "vsRDBokdNmW-"
      }
    },
    {
      "cell_type": "code",
      "source": [
        "#Your code is here\n",
        "print(\"----- Grocery Receipt -----\")\n",
        "grocery1 = 1.99\n",
        "grocery2 = 2.99\n",
        "grocery3 = 3.99\n",
        "grocery4 = 3.99\n",
        "grocery5 = 8.99\n",
        "total_cost = grocery1 + grocery2 + grocery3 + grocery4 + grocery5\n",
        "print(f\"Cereal: ${grocery1}\\nBread: ${grocery2}\\nMilk: ${grocery3}\\nEggs: ${grocery4}\\nBakeries: ${grocery5}\\nTotal: ${total_cost}\")\n",
        ""
      ],
      "metadata": {
        "id": "mIkHA7B5NsV-",
        "outputId": "b5795876-56d6-4c36-9fd1-fc24d2062708",
        "colab": {
          "base_uri": "https://localhost:8080/"
        }
      },
      "execution_count": 41,
      "outputs": [
        {
          "output_type": "stream",
          "name": "stdout",
          "text": [
            "----- Grocery Receipt -----\n",
            "Cereal: $1.99\n",
            "Bread: $2.99\n",
            "Milk: $3.99\n",
            "Eggs: $3.99\n",
            "Bakeries: $8.99\n",
            "Total: $21.950000000000003\n"
          ]
        }
      ]
    },
    {
      "cell_type": "markdown",
      "source": [
        "# Your output:\n",
        "----- Grocery Receipt -----\n",
        "\n",
        "Apples: $1.5 \\\n",
        "\n",
        "Bread: $2.0 \\\n",
        "\n",
        "Milk: $3.25 \\\n",
        "\n",
        "Eggs: $2.75 \\\n",
        "\n",
        "Cheese: $4.5\n",
        "\n",
        "---------------------------\n",
        "\n",
        "Total: $14.0\n"
      ],
      "metadata": {
        "id": "4E_S3jdEP0Na"
      }
    },
    {
      "cell_type": "code",
      "source": [],
      "metadata": {
        "id": "iPQ2weuhQodo"
      },
      "execution_count": null,
      "outputs": []
    }
  ]
}