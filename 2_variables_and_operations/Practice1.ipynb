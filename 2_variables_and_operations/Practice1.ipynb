{
  "nbformat": 4,
  "nbformat_minor": 0,
  "metadata": {
    "colab": {
      "provenance": [],
      "include_colab_link": true
    },
    "kernelspec": {
      "name": "python3",
      "display_name": "Python 3"
    },
    "language_info": {
      "name": "python"
    }
  },
  "cells": [
    {
      "cell_type": "markdown",
      "metadata": {
        "id": "view-in-github",
        "colab_type": "text"
      },
      "source": [
        "<a href=\"https://colab.research.google.com/github/byambaa1982/python_cources_for_beginers/blob/tsogoo/2_variables_and_operations/Practice1.ipynb\" target=\"_parent\"><img src=\"https://colab.research.google.com/assets/colab-badge.svg\" alt=\"Open In Colab\"/></a>"
      ]
    },
    {
      "cell_type": "markdown",
      "source": [
        "# Task 1\n",
        "\n",
        "1. Create three variables: your_name, your_age, and your_hobby.\n",
        "2. Assign your own name, age, and favorite hobby to these variables.\n",
        "3. Use an f-string to create a sentence that introduces yourself using the variables.\n",
        "4. Print the sentence."
      ],
      "metadata": {
        "id": "8OvWnBDFIt--"
      }
    },
    {
      "cell_type": "code",
      "source": [
        "4+4\n"
      ],
      "metadata": {
        "colab": {
          "base_uri": "https://localhost:8080/"
        },
        "id": "KOHXjQT_BONx",
        "outputId": "96fe001a-1150-4eb9-9c31-69e1408d24c5"
      },
      "execution_count": null,
      "outputs": [
        {
          "output_type": "execute_result",
          "data": {
            "text/plain": [
              "8"
            ]
          },
          "metadata": {},
          "execution_count": 2
        }
      ]
    },
    {
      "cell_type": "code",
      "source": [
        "\"4\"+\"4\""
      ],
      "metadata": {
        "colab": {
          "base_uri": "https://localhost:8080/",
          "height": 36
        },
        "id": "f2jVacu1BXdn",
        "outputId": "1f3ee5f2-8436-4002-841c-68d1145f6658"
      },
      "execution_count": null,
      "outputs": [
        {
          "output_type": "execute_result",
          "data": {
            "text/plain": [
              "'44'"
            ],
            "application/vnd.google.colaboratory.intrinsic+json": {
              "type": "string"
            }
          },
          "metadata": {},
          "execution_count": 3
        }
      ]
    },
    {
      "cell_type": "code",
      "source": [
        "# Tsogoo chi stingiig too bolgo\n",
        "\n",
        "4+4"
      ],
      "metadata": {
        "colab": {
          "base_uri": "https://localhost:8080/",
          "height": 141
        },
        "id": "lAW9aGGtBgLT",
        "outputId": "89356f54-eef0-4db4-9a55-034ac3e84ddf"
      },
      "execution_count": null,
      "outputs": [
        {
          "output_type": "error",
          "ename": "TypeError",
          "evalue": "unsupported operand type(s) for +: 'int' and 'str'",
          "traceback": [
            "\u001b[0;31m---------------------------------------------------------------------------\u001b[0m",
            "\u001b[0;31mTypeError\u001b[0m                                 Traceback (most recent call last)",
            "\u001b[0;32m<ipython-input-4-e0a6d60f6fb3>\u001b[0m in \u001b[0;36m<cell line: 1>\u001b[0;34m()\u001b[0m\n\u001b[0;32m----> 1\u001b[0;31m \u001b[0;36m4\u001b[0m\u001b[0;34m+\u001b[0m\u001b[0;34m\"4\"\u001b[0m\u001b[0;34m\u001b[0m\u001b[0;34m\u001b[0m\u001b[0m\n\u001b[0m",
            "\u001b[0;31mTypeError\u001b[0m: unsupported operand type(s) for +: 'int' and 'str'"
          ]
        }
      ]
    },
    {
      "cell_type": "code",
      "source": [
        "# Define variables\n",
        "your_name = \"tsogoo\"\n",
        "your_age = 80\n",
        "your_hobby = \"chess\"\n",
        "\n",
        "# Create and print the introduction sentence\n",
        "print(f\"Hi! My name is {your_name}. I am {your_age} years old and I love {your_hobby}.\")\n"
      ],
      "metadata": {
        "colab": {
          "base_uri": "https://localhost:8080/"
        },
        "id": "oZurymB6I3vV",
        "outputId": "30000a71-566e-4c78-abdf-b229b333d29d"
      },
      "execution_count": null,
      "outputs": [
        {
          "output_type": "stream",
          "name": "stdout",
          "text": [
            "Hi! My name is tsogoo. I am 80 years old and I love chess.\n"
          ]
        }
      ]
    },
    {
      "cell_type": "code",
      "source": [
        "print(\"boy\"+\" girl\")"
      ],
      "metadata": {
        "id": "sOHMUMAgCPY7",
        "outputId": "f33d2e81-5c93-4bf9-f963-0bb1c11a48ca",
        "colab": {
          "base_uri": "https://localhost:8080/"
        }
      },
      "execution_count": null,
      "outputs": [
        {
          "output_type": "stream",
          "name": "stdout",
          "text": [
            "boy girl\n"
          ]
        }
      ]
    },
    {
      "cell_type": "code",
      "source": [
        "h=\"boy\"\n",
        "y= \" girl\"\n",
        "print(h+y)"
      ],
      "metadata": {
        "id": "gGd4Fn22C1rg",
        "outputId": "918d2f44-d94a-42c2-e282-cbb3f8b5eca0",
        "colab": {
          "base_uri": "https://localhost:8080/"
        }
      },
      "execution_count": null,
      "outputs": [
        {
          "output_type": "stream",
          "name": "stdout",
          "text": [
            "boy girl\n"
          ]
        }
      ]
    },
    {
      "cell_type": "markdown",
      "source": [
        "# Task 2\n",
        "\n",
        "1. Create three variables: animal_name, animal_color, and animal_sound.\n",
        "2. Assign the name, color, and sound of your favorite animal to these variables.\n",
        "3. Use print statements to describe your favorite animal."
      ],
      "metadata": {
        "id": "LZZLSZV2JFfy"
      }
    },
    {
      "cell_type": "code",
      "source": [
        "my_pavorite_animal= \"horse\"\n",
        "color= \"green\"\n",
        "make_sounds=\"yantsgaana\"\n",
        "print(\"my pavorite animal is a \"+my_pavorite_animal)\n",
        "print(\"it is \"+color+\" in color\")\n",
        "print(\"it make sounds \"+ make_sounds)\n",
        "\n"
      ],
      "metadata": {
        "colab": {
          "base_uri": "https://localhost:8080/"
        },
        "id": "zNcwYaQNJMl0",
        "outputId": "e6d567e5-35c8-4181-c72c-910a54fd65e4"
      },
      "execution_count": null,
      "outputs": [
        {
          "output_type": "stream",
          "name": "stdout",
          "text": [
            "my pavorite animal is a horse\n",
            "it is green in color\n",
            "it make sounds yantsgaana\n"
          ]
        }
      ]
    },
    {
      "cell_type": "markdown",
      "source": [
        "## Task 2 output:\n",
        "\n",
        "My favorite animal is a parrot \\\n",
        "It is green in color \\\n",
        "It makes a sound like squawk"
      ],
      "metadata": {
        "id": "e_EiWF1fR0u1"
      }
    },
    {
      "cell_type": "code",
      "source": [],
      "metadata": {
        "id": "wxNtm9CmJT0t"
      },
      "execution_count": null,
      "outputs": []
    },
    {
      "cell_type": "markdown",
      "source": [
        "# Task 3\n",
        "\n",
        "1. Create three variables: friend_name, friend_age, and favorite_activity.\n",
        "2. Assign the name and age of your friend, and their favorite activity to these variables.\n",
        "3. Use an f-string to create a sentence that describes what you and your friend like to do together.\n",
        "4. Print the sentence."
      ],
      "metadata": {
        "id": "39vCxS22J5YU"
      }
    },
    {
      "cell_type": "code",
      "source": [
        "# Define variables\n",
        "\n"
      ],
      "metadata": {
        "colab": {
          "base_uri": "https://localhost:8080/"
        },
        "id": "VOZ9T3JDKBs-",
        "outputId": "e0d81183-cb8e-4a90-c937-09bb64a50917"
      },
      "execution_count": null,
      "outputs": [
        {
          "output_type": "stream",
          "name": "stdout",
          "text": [
            "My friend Jake is 10 years old. We love riding bikes together!\n"
          ]
        }
      ]
    },
    {
      "cell_type": "markdown",
      "source": [
        "## Task 3 Output\n",
        "\n",
        "My friend Jake is 10 years old. We love riding bikes together!"
      ],
      "metadata": {
        "id": "AzEl721kSATf"
      }
    },
    {
      "cell_type": "markdown",
      "source": [
        "# Task 4\n",
        "\n",
        "1. Create three variables: recipe_name, ingredient_quantity, and ingredient_name.\n",
        "2. Assign the name of your favorite recipe, the quantity of a main ingredient (as a float), and the ingredient name to these variables.\n",
        "3. Use an f-string to create a sentence that describes your recipe.\n",
        "4. Print the sentence."
      ],
      "metadata": {
        "id": "lk24UmL_LH29"
      }
    },
    {
      "cell_type": "code",
      "source": [
        "\n",
        "recipe_name = \"tsuivan\"\n",
        "ingredient_quantity = 10\n",
        "ingredient_name = \"guril\"\n",
        "print (f\"to make {recipe_name},you need {ingredient_quantity} cups of {ingredient_name}\" )\n"
      ],
      "metadata": {
        "colab": {
          "base_uri": "https://localhost:8080/"
        },
        "id": "BJjCNxEzLQ8e",
        "outputId": "bb68b189-19ba-4797-f4be-b65081257a64"
      },
      "execution_count": null,
      "outputs": [
        {
          "output_type": "stream",
          "name": "stdout",
          "text": [
            "to make tsuivan,you need 10 cups of guril\n"
          ]
        }
      ]
    },
    {
      "cell_type": "markdown",
      "source": [
        "## Task 4 Output:\n",
        "\n",
        "To make pancakes, you need 1.5 cups of flour."
      ],
      "metadata": {
        "id": "H78qiqKgSLVV"
      }
    },
    {
      "cell_type": "markdown",
      "source": [
        "# Task 5\n",
        "\n",
        "1. Create three variables: game1_score, game2_score, and total_score.\n",
        "2. Assign scores (as integers) to game1_score and game2_score.\n",
        "3. Calculate the total_score by adding game1_score and game2_score.\n",
        "4. Use an f-string to create a sentence that displays the total score.\n",
        "5. Print the sentence."
      ],
      "metadata": {
        "id": "Zoe8g0QTLoGf"
      }
    },
    {
      "cell_type": "code",
      "source": [
        "game1= \"44\"\n",
        "game2= \"56\"\n",
        "total= \"100\"\n",
        "print (f\"the total score of both game is {100}\")\n",
        "\n"
      ],
      "metadata": {
        "colab": {
          "base_uri": "https://localhost:8080/"
        },
        "id": "l9lIoGcfLv6b",
        "outputId": "90204e11-1a60-4b31-f76c-2c2f9fbdf02e"
      },
      "execution_count": 1,
      "outputs": [
        {
          "output_type": "stream",
          "name": "stdout",
          "text": [
            "the total score of both game is 100\n"
          ]
        }
      ]
    },
    {
      "cell_type": "markdown",
      "source": [
        "## Task 5\n",
        "\n",
        "The total score of both games is 12."
      ],
      "metadata": {
        "id": "US1H-9piSQrm"
      }
    },
    {
      "cell_type": "markdown",
      "source": [
        "# Task 6\n",
        "\n",
        "1. Create three variables: total_homework, completed_homework, and remaining_homework.\n",
        "2. Assign the total number of homework assignments (as an integer) to total_homework and the number completed to completed_homework.\n",
        "3. Calculate remaining_homework by subtracting completed_homework from total_homework.\n",
        "4. Use an f-string to create a sentence that displays the remaining homework assignments.\n",
        "5. Print the sentence."
      ],
      "metadata": {
        "id": "CxXp6DRZM-6T"
      }
    },
    {
      "cell_type": "code",
      "source": [
        "total_homework = 11\n",
        "completed_homework = 8\n",
        "remaining_homework = (total_homework - completed_homework)\n",
        "print (f\"I have {remaining_homework} homework assignments left to complete\")\n",
        "\n",
        "\n"
      ],
      "metadata": {
        "colab": {
          "base_uri": "https://localhost:8080/"
        },
        "id": "vlrg2SsOMxh8",
        "outputId": "247167df-6db6-4a6c-ea2e-96ae7e0116c7"
      },
      "execution_count": 11,
      "outputs": [
        {
          "output_type": "stream",
          "name": "stdout",
          "text": [
            "I have 3 homework assignments left to complete\n"
          ]
        }
      ]
    },
    {
      "cell_type": "markdown",
      "source": [
        "## Task 6 Output\n",
        "\n",
        "I have 4 homework assignments left to complete.\n",
        "\n",
        "\n"
      ],
      "metadata": {
        "id": "oLVnmaWASZuD"
      }
    },
    {
      "cell_type": "markdown",
      "source": [
        "# Task 7\n",
        "\n",
        "1. Create three variables: your_score, passing_score, and passed.\n",
        "2. Assign your score (as an integer) to your_score and the passing score to passing_score.\n",
        "3. Use a boolean expression to determine if your_score is greater than or equal to passing_score and assign the result to passed.\n",
        "4. Use an f-string to create a sentence that displays whether you passed.\n",
        "5. Print the sentence."
      ],
      "metadata": {
        "id": "FnZbDrmwNoNp"
      }
    },
    {
      "cell_type": "code",
      "source": [
        "# Define variables\n",
        "\n"
      ],
      "metadata": {
        "id": "-NPx9vYHN5u2",
        "outputId": "3b8ab267-c2fe-40fd-dba4-47073ef12c8d",
        "colab": {
          "base_uri": "https://localhost:8080/"
        }
      },
      "execution_count": null,
      "outputs": [
        {
          "output_type": "stream",
          "name": "stdout",
          "text": [
            "Did I pass the test? True\n"
          ]
        }
      ]
    },
    {
      "cell_type": "markdown",
      "source": [
        "## Task 7 Output:\n",
        "\n",
        "Did I pass the test? True"
      ],
      "metadata": {
        "id": "FY3tyOExSg8R"
      }
    },
    {
      "cell_type": "markdown",
      "source": [
        "# Task 8\n",
        "\n",
        "1. Define five variables for grocery items and their prices.\n",
        "2. Calculate the total cost.\n",
        "3. Use f-strings to create a formatted receipt.\n",
        "4. Print the receipt."
      ],
      "metadata": {
        "id": "vsRDBokdNmW-"
      }
    },
    {
      "cell_type": "code",
      "source": [
        "#Your code is here"
      ],
      "metadata": {
        "id": "mIkHA7B5NsV-"
      },
      "execution_count": null,
      "outputs": []
    },
    {
      "cell_type": "markdown",
      "source": [
        "# Your output:\n",
        "----- Grocery Receipt -----\n",
        "\n",
        "Apples: $1.5 \\\n",
        "\n",
        "Bread: $2.0 \\\n",
        "\n",
        "Milk: $3.25 \\\n",
        "\n",
        "Eggs: $2.75 \\\n",
        "\n",
        "Cheese: $4.5\n",
        "\n",
        "---------------------------\n",
        "\n",
        "Total: $14.0\n"
      ],
      "metadata": {
        "id": "4E_S3jdEP0Na"
      }
    },
    {
      "cell_type": "code",
      "source": [],
      "metadata": {
        "id": "iPQ2weuhQodo"
      },
      "execution_count": null,
      "outputs": []
    }
  ]
}