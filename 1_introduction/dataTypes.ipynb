{
  "nbformat": 4,
  "nbformat_minor": 0,
  "metadata": {
    "colab": {
      "provenance": [],
      "include_colab_link": true
    },
    "kernelspec": {
      "name": "python3",
      "display_name": "Python 3"
    },
    "language_info": {
      "name": "python"
    }
  },
  "cells": [
    {
      "cell_type": "markdown",
      "metadata": {
        "id": "view-in-github",
        "colab_type": "text"
      },
      "source": [
        "<a href=\"https://colab.research.google.com/github/byambaa1982/python_cources_for_beginers/blob/main/1_introduction/dataTypes.ipynb\" target=\"_parent\"><img src=\"https://colab.research.google.com/assets/colab-badge.svg\" alt=\"Open In Colab\"/></a>"
      ]
    },
    {
      "cell_type": "markdown",
      "source": [
        "# Python Data Types"
      ],
      "metadata": {
        "id": "I21AhxLoSeuA"
      }
    },
    {
      "cell_type": "markdown",
      "source": [
        "## Integer\n",
        "\n",
        "1. Integer (`int`): Represents whole numbers without any decimal points. For example: 5, -3, 0."
      ],
      "metadata": {
        "id": "dY4zT2kktRWs"
      }
    },
    {
      "cell_type": "code",
      "source": [
        "# Declare an integer variable\n",
        "age = 25\n",
        "\n",
        "# Perform arithmetic operations\n",
        "result = age + 5\n",
        "print(result)  # Output: 30"
      ],
      "metadata": {
        "id": "KQPLuBNjNrXw"
      },
      "execution_count": null,
      "outputs": []
    },
    {
      "cell_type": "code",
      "source": [
        "age = 40\n",
        "result = age + 100"
      ],
      "metadata": {
        "id": "6fVskC8UN1pf"
      },
      "execution_count": null,
      "outputs": []
    },
    {
      "cell_type": "code",
      "source": [
        "print(result)"
      ],
      "metadata": {
        "id": "T1GLJZaqN5SN"
      },
      "execution_count": null,
      "outputs": []
    },
    {
      "cell_type": "code",
      "source": [
        "# Declare a float variable\n",
        "price = 19.99\n",
        "\n",
        "# Perform arithmetic operations\n",
        "discounted_price = price * 0.8\n",
        "print(discounted_price)  # Output: 15.992"
      ],
      "metadata": {
        "id": "Stmbkl3qN8K7"
      },
      "execution_count": null,
      "outputs": []
    },
    {
      "cell_type": "code",
      "source": [
        "# Perform arithmetic operations\n",
        "discounted_price = price * 0.1\n",
        "print(discounted_price)  # Output: 15.992"
      ],
      "metadata": {
        "id": "ynQLmiRWN_zF"
      },
      "execution_count": null,
      "outputs": []
    },
    {
      "cell_type": "code",
      "source": [
        "\"Byamba\" == \"byamba \""
      ],
      "metadata": {
        "id": "3TSWzh3HODKs"
      },
      "execution_count": null,
      "outputs": []
    },
    {
      "cell_type": "code",
      "source": [
        "\"Byamba\" == \"Byamba\""
      ],
      "metadata": {
        "id": "kXYQ9KtOOGML"
      },
      "execution_count": null,
      "outputs": []
    },
    {
      "cell_type": "markdown",
      "source": [
        "## Floats\n",
        "\n",
        "2. Float (`float`): Represents numbers with decimal points. For example: 3.14, -2.5, 0.0."
      ],
      "metadata": {
        "id": "BjYO22U9tllt"
      }
    },
    {
      "cell_type": "code",
      "source": [
        "# Declare a float variable\n",
        "price = 19.99\n",
        "\n",
        "# Perform arithmetic operations\n",
        "discounted_price = price * 0.8\n",
        "print(discounted_price)  # Output: 15.992"
      ],
      "metadata": {
        "id": "3VbLMD7Ntp3D",
        "outputId": "a6675186-58b7-4955-8950-ea8e78c3b98c",
        "colab": {
          "base_uri": "https://localhost:8080/"
        }
      },
      "execution_count": 1,
      "outputs": [
        {
          "output_type": "stream",
          "name": "stdout",
          "text": [
            "15.991999999999999\n"
          ]
        }
      ]
    },
    {
      "cell_type": "code",
      "source": [
        "# Perform arithmetic operations\n",
        "discounted_price = price * 0.1\n",
        "print(discounted_price)  # Output: 15.992"
      ],
      "metadata": {
        "id": "cMYKiqENtqtO",
        "outputId": "1451b007-50b3-43e7-9f28-afa84b04f66c",
        "colab": {
          "base_uri": "https://localhost:8080/"
        }
      },
      "execution_count": 2,
      "outputs": [
        {
          "output_type": "stream",
          "name": "stdout",
          "text": [
            "1.9989999999999999\n"
          ]
        }
      ]
    },
    {
      "cell_type": "markdown",
      "source": [
        "## String\n",
        "\n",
        "3. String (`str`): Represents sequences of characters enclosed in single quotes (' ') or double quotes (\" \"). For example: \"Hello\", 'Python', \"123\"."
      ],
      "metadata": {
        "id": "1OEr8dezt98g"
      }
    },
    {
      "cell_type": "code",
      "source": [
        "# Declare a string variable\n",
        "greeting = \"Hello, World!\"\n",
        "\n",
        "# Concatenate strings\n",
        "welcome_message = greeting + \" Welcome to Python!\"\n",
        "print(welcome_message)  # Output: Hello, World! Welcome to Python!"
      ],
      "metadata": {
        "id": "slRB3LT-uAas",
        "outputId": "cbfaa10f-c3ae-473a-9248-3aa82196c28d",
        "colab": {
          "base_uri": "https://localhost:8080/"
        }
      },
      "execution_count": 3,
      "outputs": [
        {
          "output_type": "stream",
          "name": "stdout",
          "text": [
            "Hello, World! Welcome to Python!\n"
          ]
        }
      ]
    },
    {
      "cell_type": "markdown",
      "source": [
        "## Lists\n",
        "\n",
        "3. List (list): Represents an ordered collection of items enclosed in square brackets [ ]. Lists can contain elements of different data types and can be modified (mutable). For example: [1, 2, 3], ['apple', 'banana', 'cherry']."
      ],
      "metadata": {
        "id": "VKlcSTOXt6mP"
      }
    },
    {
      "cell_type": "code",
      "source": [
        "# Declare a list variable\n",
        "fruits = [\"apple\", \"banana\", \"cherry\"]\n",
        "\n",
        "# Access elements of a list\n",
        "print(fruits[0])  # Output: apple\n",
        "\n",
        "# Modify elements of a list\n",
        "fruits[1] = \"blueberry\"\n",
        "print(fruits)  # Output: ['apple', 'blueberry', 'cherry']"
      ],
      "metadata": {
        "id": "fnEVh6BHt4Zd",
        "outputId": "1a3db5e4-434c-4351-91b3-35854c1a01f9",
        "colab": {
          "base_uri": "https://localhost:8080/"
        }
      },
      "execution_count": 4,
      "outputs": [
        {
          "output_type": "stream",
          "name": "stdout",
          "text": [
            "apple\n",
            "['apple', 'blueberry', 'cherry']\n"
          ]
        }
      ]
    },
    {
      "cell_type": "code",
      "source": [
        "print(fruits[0])"
      ],
      "metadata": {
        "id": "d9iMdCYquau4",
        "outputId": "2e95bc75-203c-4ee3-e984-4070342ecc78",
        "colab": {
          "base_uri": "https://localhost:8080/"
        }
      },
      "execution_count": 5,
      "outputs": [
        {
          "output_type": "stream",
          "name": "stdout",
          "text": [
            "apple\n"
          ]
        }
      ]
    },
    {
      "cell_type": "markdown",
      "source": [
        "## Tuples"
      ],
      "metadata": {
        "id": "os9iYaCEuBGi"
      }
    },
    {
      "cell_type": "code",
      "source": [
        "# Declare a tuple variable\n",
        "coordinates = (12.5, 45.3)\n",
        "\n",
        "# Access elements of a tuple\n",
        "print(coordinates[1])  # Output: 45.3\n",
        "\n",
        "# Tuples are immutable; the following line will raise an error\n",
        "# coordinates[1] = 50"
      ],
      "metadata": {
        "id": "IhWhqGwwuDT0",
        "outputId": "4513b14f-2d89-4f61-9bad-99d38a2172bc",
        "colab": {
          "base_uri": "https://localhost:8080/"
        }
      },
      "execution_count": 6,
      "outputs": [
        {
          "output_type": "stream",
          "name": "stdout",
          "text": [
            "45.3\n"
          ]
        }
      ]
    },
    {
      "cell_type": "markdown",
      "source": [
        "## Dictionaries"
      ],
      "metadata": {
        "id": "5Z3UblmbuD7b"
      }
    },
    {
      "cell_type": "code",
      "source": [
        "# Declare a dictionary variable\n",
        "person = {\"name\": \"Alice\", \"age\": 30, \"comment\":\"it is very nice\"}\n",
        "\n",
        "# Access elements of a dictionary\n",
        "print(person[\"name\"])  # Output: Alice\n",
        "\n",
        "# Modify elements of a dictionary\n",
        "person[\"age\"] = 31\n",
        "print(person)  # Output: {'name': 'Alice', 'age': 31}"
      ],
      "metadata": {
        "id": "kIyQoO3yuHaU",
        "outputId": "afcc7816-463c-4a5b-abc8-a5d97c1caf9b",
        "colab": {
          "base_uri": "https://localhost:8080/"
        }
      },
      "execution_count": 7,
      "outputs": [
        {
          "output_type": "stream",
          "name": "stdout",
          "text": [
            "Alice\n",
            "{'name': 'Alice', 'age': 31, 'comment': 'it is very nice'}\n"
          ]
        }
      ]
    },
    {
      "cell_type": "markdown",
      "source": [
        "## Booleans"
      ],
      "metadata": {
        "id": "6NAXDbK5uI2Y"
      }
    },
    {
      "cell_type": "code",
      "source": [
        "# Declare a boolean variable\n",
        "is_active = True\n",
        "\n",
        "# Use boolean in a conditional statement\n",
        "if is_active:\n",
        "    print(\"User is active.\")  # Output: User is active."
      ],
      "metadata": {
        "id": "NzvOfTMfuKT9",
        "outputId": "9db4173e-6387-44c5-bfee-706500d1fd72",
        "colab": {
          "base_uri": "https://localhost:8080/"
        }
      },
      "execution_count": 8,
      "outputs": [
        {
          "output_type": "stream",
          "name": "stdout",
          "text": [
            "User is active.\n"
          ]
        }
      ]
    },
    {
      "cell_type": "code",
      "source": [],
      "metadata": {
        "id": "IarMnjk_uj1s"
      },
      "execution_count": null,
      "outputs": []
    }
  ]
}