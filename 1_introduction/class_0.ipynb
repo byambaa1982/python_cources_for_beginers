{
  "nbformat": 4,
  "nbformat_minor": 0,
  "metadata": {
    "colab": {
      "provenance": [],
      "authorship_tag": "ABX9TyMpfMzHaDMCFSBGgO/i38in",
      "include_colab_link": true
    },
    "kernelspec": {
      "name": "python3",
      "display_name": "Python 3"
    },
    "language_info": {
      "name": "python"
    }
  },
  "cells": [
    {
      "cell_type": "markdown",
      "metadata": {
        "id": "view-in-github",
        "colab_type": "text"
      },
      "source": [
        "<a href=\"https://colab.research.google.com/github/byambaa1982/python_cources_for_beginers/blob/main/2_introduction/class_0.ipynb\" target=\"_parent\"><img src=\"https://colab.research.google.com/assets/colab-badge.svg\" alt=\"Open In Colab\"/></a>"
      ]
    },
    {
      "cell_type": "code",
      "execution_count": 1,
      "metadata": {
        "id": "K_LaK9Efepoo"
      },
      "outputs": [],
      "source": [
        " # Kid-friendly string example:\n",
        "kid_friendly_string = \"The quick brown fox jumps over the lazy dog.\"\n",
        "\n",
        "# Kid-friendly integer example:\n",
        "kid_friendly_int = 123\n",
        "\n",
        "# Kid-friendly float example:\n",
        "kid_friendly_float = 3.14\n",
        "\n",
        "# Kid-friendly boolean example:\n",
        "kid_friendly_boolean = True\n"
      ]
    }
  ]
}