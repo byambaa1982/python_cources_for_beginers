{
  "nbformat": 4,
  "nbformat_minor": 0,
  "metadata": {
    "colab": {
      "provenance": [],
      "include_colab_link": true
    },
    "kernelspec": {
      "name": "python3",
      "display_name": "Python 3"
    }
  },
  "cells": [
    {
      "cell_type": "markdown",
      "metadata": {
        "id": "view-in-github",
        "colab_type": "text"
      },
      "source": [
        "<a href=\"https://colab.research.google.com/github/byambaa1982/python_cources_for_beginers/blob/main/Mini%20Project%201/dataframe_to_csv.ipynb\" target=\"_parent\"><img src=\"https://colab.research.google.com/assets/colab-badge.svg\" alt=\"Open In Colab\"/></a>"
      ]
    },
    {
      "cell_type": "code",
      "metadata": {
        "id": "tWuT_FL__tRN"
      },
      "source": [
        "import pandas as pd\n",
        "import numpy as np\n",
        "import regex as re\n",
        "import os"
      ],
      "execution_count": 1,
      "outputs": []
    },
    {
      "cell_type": "code",
      "metadata": {
        "id": "ZIEopkkdRaE8",
        "colab": {
          "base_uri": "https://localhost:8080/"
        },
        "outputId": "25fb6396-0e9d-4c61-c322-e32e035bb7e6"
      },
      "source": [
        "from google.colab import drive\n",
        "drive.mount('/content/drive')"
      ],
      "execution_count": 4,
      "outputs": [
        {
          "output_type": "stream",
          "name": "stdout",
          "text": [
            "Mounted at /content/drive\n"
          ]
        }
      ]
    },
    {
      "cell_type": "code",
      "source": [
        "my_path = '/content/drive/MyDrive/python_class/'"
      ],
      "metadata": {
        "id": "-I3wdgpgRjTx"
      },
      "execution_count": 5,
      "outputs": []
    },
    {
      "cell_type": "code",
      "source": [
        "df = pd.read_csv(f'{my_path}detailed_users.csv')\n",
        "df.head()"
      ],
      "metadata": {
        "colab": {
          "base_uri": "https://localhost:8080/",
          "height": 206
        },
        "id": "qCDMmSTvUxLf",
        "outputId": "14ce9bde-0de0-445f-e5d7-9799df6bc18d"
      },
      "execution_count": 6,
      "outputs": [
        {
          "output_type": "execute_result",
          "data": {
            "text/plain": [
              "                    id                       name     username  \\\n",
              "0           4263007693  Dr. Ganapathi Pulipaka ??  gp_pulipaka   \n",
              "1   982283491088982016                     Prasad   rprasadgdg   \n",
              "2  1650824959202082816                  Gigged AI    Gigged_Ai   \n",
              "3  1417618100120395778                       أسما    namezzz_a   \n",
              "4  1094899950922563585          Go /data engineer    BacktestL   \n",
              "\n",
              "                 created_at  \\\n",
              "0  2015-11-17T02:19:09.000Z   \n",
              "1  2018-04-06T15:46:48.000Z   \n",
              "2  2023-04-25T11:32:04.000Z   \n",
              "3  2021-07-20T22:51:24.000Z   \n",
              "4  2019-02-11T10:04:25.000Z   \n",
              "\n",
              "                                         description  followers_count  \\\n",
              "0  Chief #AI Scientist | PostDoc CS, PhD | New Yo...           180209   \n",
              "1                                                  ?              119   \n",
              "2  The skills-based Talent Marketplace solving th...              318   \n",
              "3  Software Engineer at @glovo #Coding #Cinema #B...              590   \n",
              "4                        検索サービスのdata engineerをしています。              396   \n",
              "\n",
              "   following_count  tweet_count  listed_count     record_timestamp  \n",
              "0            20443        89924          3825  2024-08-15 18:50:56  \n",
              "1              571         1875             2  2024-08-15 18:50:56  \n",
              "2              296          174             3  2024-08-15 18:50:56  \n",
              "3              364         6659             2  2024-08-15 18:50:56  \n",
              "4              418         1400            33  2024-08-15 18:50:56  "
            ],
            "text/html": [
              "\n",
              "  <div id=\"df-283344c2-5675-44be-bd58-e164c39d3a82\" class=\"colab-df-container\">\n",
              "    <div>\n",
              "<style scoped>\n",
              "    .dataframe tbody tr th:only-of-type {\n",
              "        vertical-align: middle;\n",
              "    }\n",
              "\n",
              "    .dataframe tbody tr th {\n",
              "        vertical-align: top;\n",
              "    }\n",
              "\n",
              "    .dataframe thead th {\n",
              "        text-align: right;\n",
              "    }\n",
              "</style>\n",
              "<table border=\"1\" class=\"dataframe\">\n",
              "  <thead>\n",
              "    <tr style=\"text-align: right;\">\n",
              "      <th></th>\n",
              "      <th>id</th>\n",
              "      <th>name</th>\n",
              "      <th>username</th>\n",
              "      <th>created_at</th>\n",
              "      <th>description</th>\n",
              "      <th>followers_count</th>\n",
              "      <th>following_count</th>\n",
              "      <th>tweet_count</th>\n",
              "      <th>listed_count</th>\n",
              "      <th>record_timestamp</th>\n",
              "    </tr>\n",
              "  </thead>\n",
              "  <tbody>\n",
              "    <tr>\n",
              "      <th>0</th>\n",
              "      <td>4263007693</td>\n",
              "      <td>Dr. Ganapathi Pulipaka ??</td>\n",
              "      <td>gp_pulipaka</td>\n",
              "      <td>2015-11-17T02:19:09.000Z</td>\n",
              "      <td>Chief #AI Scientist | PostDoc CS, PhD | New Yo...</td>\n",
              "      <td>180209</td>\n",
              "      <td>20443</td>\n",
              "      <td>89924</td>\n",
              "      <td>3825</td>\n",
              "      <td>2024-08-15 18:50:56</td>\n",
              "    </tr>\n",
              "    <tr>\n",
              "      <th>1</th>\n",
              "      <td>982283491088982016</td>\n",
              "      <td>Prasad</td>\n",
              "      <td>rprasadgdg</td>\n",
              "      <td>2018-04-06T15:46:48.000Z</td>\n",
              "      <td>?</td>\n",
              "      <td>119</td>\n",
              "      <td>571</td>\n",
              "      <td>1875</td>\n",
              "      <td>2</td>\n",
              "      <td>2024-08-15 18:50:56</td>\n",
              "    </tr>\n",
              "    <tr>\n",
              "      <th>2</th>\n",
              "      <td>1650824959202082816</td>\n",
              "      <td>Gigged AI</td>\n",
              "      <td>Gigged_Ai</td>\n",
              "      <td>2023-04-25T11:32:04.000Z</td>\n",
              "      <td>The skills-based Talent Marketplace solving th...</td>\n",
              "      <td>318</td>\n",
              "      <td>296</td>\n",
              "      <td>174</td>\n",
              "      <td>3</td>\n",
              "      <td>2024-08-15 18:50:56</td>\n",
              "    </tr>\n",
              "    <tr>\n",
              "      <th>3</th>\n",
              "      <td>1417618100120395778</td>\n",
              "      <td>أسما</td>\n",
              "      <td>namezzz_a</td>\n",
              "      <td>2021-07-20T22:51:24.000Z</td>\n",
              "      <td>Software Engineer at @glovo #Coding #Cinema #B...</td>\n",
              "      <td>590</td>\n",
              "      <td>364</td>\n",
              "      <td>6659</td>\n",
              "      <td>2</td>\n",
              "      <td>2024-08-15 18:50:56</td>\n",
              "    </tr>\n",
              "    <tr>\n",
              "      <th>4</th>\n",
              "      <td>1094899950922563585</td>\n",
              "      <td>Go /data engineer</td>\n",
              "      <td>BacktestL</td>\n",
              "      <td>2019-02-11T10:04:25.000Z</td>\n",
              "      <td>検索サービスのdata engineerをしています。</td>\n",
              "      <td>396</td>\n",
              "      <td>418</td>\n",
              "      <td>1400</td>\n",
              "      <td>33</td>\n",
              "      <td>2024-08-15 18:50:56</td>\n",
              "    </tr>\n",
              "  </tbody>\n",
              "</table>\n",
              "</div>\n",
              "    <div class=\"colab-df-buttons\">\n",
              "\n",
              "  <div class=\"colab-df-container\">\n",
              "    <button class=\"colab-df-convert\" onclick=\"convertToInteractive('df-283344c2-5675-44be-bd58-e164c39d3a82')\"\n",
              "            title=\"Convert this dataframe to an interactive table.\"\n",
              "            style=\"display:none;\">\n",
              "\n",
              "  <svg xmlns=\"http://www.w3.org/2000/svg\" height=\"24px\" viewBox=\"0 -960 960 960\">\n",
              "    <path d=\"M120-120v-720h720v720H120Zm60-500h600v-160H180v160Zm220 220h160v-160H400v160Zm0 220h160v-160H400v160ZM180-400h160v-160H180v160Zm440 0h160v-160H620v160ZM180-180h160v-160H180v160Zm440 0h160v-160H620v160Z\"/>\n",
              "  </svg>\n",
              "    </button>\n",
              "\n",
              "  <style>\n",
              "    .colab-df-container {\n",
              "      display:flex;\n",
              "      gap: 12px;\n",
              "    }\n",
              "\n",
              "    .colab-df-convert {\n",
              "      background-color: #E8F0FE;\n",
              "      border: none;\n",
              "      border-radius: 50%;\n",
              "      cursor: pointer;\n",
              "      display: none;\n",
              "      fill: #1967D2;\n",
              "      height: 32px;\n",
              "      padding: 0 0 0 0;\n",
              "      width: 32px;\n",
              "    }\n",
              "\n",
              "    .colab-df-convert:hover {\n",
              "      background-color: #E2EBFA;\n",
              "      box-shadow: 0px 1px 2px rgba(60, 64, 67, 0.3), 0px 1px 3px 1px rgba(60, 64, 67, 0.15);\n",
              "      fill: #174EA6;\n",
              "    }\n",
              "\n",
              "    .colab-df-buttons div {\n",
              "      margin-bottom: 4px;\n",
              "    }\n",
              "\n",
              "    [theme=dark] .colab-df-convert {\n",
              "      background-color: #3B4455;\n",
              "      fill: #D2E3FC;\n",
              "    }\n",
              "\n",
              "    [theme=dark] .colab-df-convert:hover {\n",
              "      background-color: #434B5C;\n",
              "      box-shadow: 0px 1px 3px 1px rgba(0, 0, 0, 0.15);\n",
              "      filter: drop-shadow(0px 1px 2px rgba(0, 0, 0, 0.3));\n",
              "      fill: #FFFFFF;\n",
              "    }\n",
              "  </style>\n",
              "\n",
              "    <script>\n",
              "      const buttonEl =\n",
              "        document.querySelector('#df-283344c2-5675-44be-bd58-e164c39d3a82 button.colab-df-convert');\n",
              "      buttonEl.style.display =\n",
              "        google.colab.kernel.accessAllowed ? 'block' : 'none';\n",
              "\n",
              "      async function convertToInteractive(key) {\n",
              "        const element = document.querySelector('#df-283344c2-5675-44be-bd58-e164c39d3a82');\n",
              "        const dataTable =\n",
              "          await google.colab.kernel.invokeFunction('convertToInteractive',\n",
              "                                                    [key], {});\n",
              "        if (!dataTable) return;\n",
              "\n",
              "        const docLinkHtml = 'Like what you see? Visit the ' +\n",
              "          '<a target=\"_blank\" href=https://colab.research.google.com/notebooks/data_table.ipynb>data table notebook</a>'\n",
              "          + ' to learn more about interactive tables.';\n",
              "        element.innerHTML = '';\n",
              "        dataTable['output_type'] = 'display_data';\n",
              "        await google.colab.output.renderOutput(dataTable, element);\n",
              "        const docLink = document.createElement('div');\n",
              "        docLink.innerHTML = docLinkHtml;\n",
              "        element.appendChild(docLink);\n",
              "      }\n",
              "    </script>\n",
              "  </div>\n",
              "\n",
              "\n",
              "<div id=\"df-d99bfcbc-e8d1-4964-b0a8-b8c51b685bcd\">\n",
              "  <button class=\"colab-df-quickchart\" onclick=\"quickchart('df-d99bfcbc-e8d1-4964-b0a8-b8c51b685bcd')\"\n",
              "            title=\"Suggest charts\"\n",
              "            style=\"display:none;\">\n",
              "\n",
              "<svg xmlns=\"http://www.w3.org/2000/svg\" height=\"24px\"viewBox=\"0 0 24 24\"\n",
              "     width=\"24px\">\n",
              "    <g>\n",
              "        <path d=\"M19 3H5c-1.1 0-2 .9-2 2v14c0 1.1.9 2 2 2h14c1.1 0 2-.9 2-2V5c0-1.1-.9-2-2-2zM9 17H7v-7h2v7zm4 0h-2V7h2v10zm4 0h-2v-4h2v4z\"/>\n",
              "    </g>\n",
              "</svg>\n",
              "  </button>\n",
              "\n",
              "<style>\n",
              "  .colab-df-quickchart {\n",
              "      --bg-color: #E8F0FE;\n",
              "      --fill-color: #1967D2;\n",
              "      --hover-bg-color: #E2EBFA;\n",
              "      --hover-fill-color: #174EA6;\n",
              "      --disabled-fill-color: #AAA;\n",
              "      --disabled-bg-color: #DDD;\n",
              "  }\n",
              "\n",
              "  [theme=dark] .colab-df-quickchart {\n",
              "      --bg-color: #3B4455;\n",
              "      --fill-color: #D2E3FC;\n",
              "      --hover-bg-color: #434B5C;\n",
              "      --hover-fill-color: #FFFFFF;\n",
              "      --disabled-bg-color: #3B4455;\n",
              "      --disabled-fill-color: #666;\n",
              "  }\n",
              "\n",
              "  .colab-df-quickchart {\n",
              "    background-color: var(--bg-color);\n",
              "    border: none;\n",
              "    border-radius: 50%;\n",
              "    cursor: pointer;\n",
              "    display: none;\n",
              "    fill: var(--fill-color);\n",
              "    height: 32px;\n",
              "    padding: 0;\n",
              "    width: 32px;\n",
              "  }\n",
              "\n",
              "  .colab-df-quickchart:hover {\n",
              "    background-color: var(--hover-bg-color);\n",
              "    box-shadow: 0 1px 2px rgba(60, 64, 67, 0.3), 0 1px 3px 1px rgba(60, 64, 67, 0.15);\n",
              "    fill: var(--button-hover-fill-color);\n",
              "  }\n",
              "\n",
              "  .colab-df-quickchart-complete:disabled,\n",
              "  .colab-df-quickchart-complete:disabled:hover {\n",
              "    background-color: var(--disabled-bg-color);\n",
              "    fill: var(--disabled-fill-color);\n",
              "    box-shadow: none;\n",
              "  }\n",
              "\n",
              "  .colab-df-spinner {\n",
              "    border: 2px solid var(--fill-color);\n",
              "    border-color: transparent;\n",
              "    border-bottom-color: var(--fill-color);\n",
              "    animation:\n",
              "      spin 1s steps(1) infinite;\n",
              "  }\n",
              "\n",
              "  @keyframes spin {\n",
              "    0% {\n",
              "      border-color: transparent;\n",
              "      border-bottom-color: var(--fill-color);\n",
              "      border-left-color: var(--fill-color);\n",
              "    }\n",
              "    20% {\n",
              "      border-color: transparent;\n",
              "      border-left-color: var(--fill-color);\n",
              "      border-top-color: var(--fill-color);\n",
              "    }\n",
              "    30% {\n",
              "      border-color: transparent;\n",
              "      border-left-color: var(--fill-color);\n",
              "      border-top-color: var(--fill-color);\n",
              "      border-right-color: var(--fill-color);\n",
              "    }\n",
              "    40% {\n",
              "      border-color: transparent;\n",
              "      border-right-color: var(--fill-color);\n",
              "      border-top-color: var(--fill-color);\n",
              "    }\n",
              "    60% {\n",
              "      border-color: transparent;\n",
              "      border-right-color: var(--fill-color);\n",
              "    }\n",
              "    80% {\n",
              "      border-color: transparent;\n",
              "      border-right-color: var(--fill-color);\n",
              "      border-bottom-color: var(--fill-color);\n",
              "    }\n",
              "    90% {\n",
              "      border-color: transparent;\n",
              "      border-bottom-color: var(--fill-color);\n",
              "    }\n",
              "  }\n",
              "</style>\n",
              "\n",
              "  <script>\n",
              "    async function quickchart(key) {\n",
              "      const quickchartButtonEl =\n",
              "        document.querySelector('#' + key + ' button');\n",
              "      quickchartButtonEl.disabled = true;  // To prevent multiple clicks.\n",
              "      quickchartButtonEl.classList.add('colab-df-spinner');\n",
              "      try {\n",
              "        const charts = await google.colab.kernel.invokeFunction(\n",
              "            'suggestCharts', [key], {});\n",
              "      } catch (error) {\n",
              "        console.error('Error during call to suggestCharts:', error);\n",
              "      }\n",
              "      quickchartButtonEl.classList.remove('colab-df-spinner');\n",
              "      quickchartButtonEl.classList.add('colab-df-quickchart-complete');\n",
              "    }\n",
              "    (() => {\n",
              "      let quickchartButtonEl =\n",
              "        document.querySelector('#df-d99bfcbc-e8d1-4964-b0a8-b8c51b685bcd button');\n",
              "      quickchartButtonEl.style.display =\n",
              "        google.colab.kernel.accessAllowed ? 'block' : 'none';\n",
              "    })();\n",
              "  </script>\n",
              "</div>\n",
              "\n",
              "    </div>\n",
              "  </div>\n"
            ],
            "application/vnd.google.colaboratory.intrinsic+json": {
              "type": "dataframe",
              "variable_name": "df",
              "summary": "{\n  \"name\": \"df\",\n  \"rows\": 4040,\n  \"fields\": [\n    {\n      \"column\": \"id\",\n      \"properties\": {\n        \"dtype\": \"number\",\n        \"std\": 737292283790352896,\n        \"min\": 123,\n        \"max\": 1812102210211442688,\n        \"num_unique_values\": 4040,\n        \"samples\": [\n          1077235830077427712,\n          139029066,\n          1615529510035722240\n        ],\n        \"semantic_type\": \"\",\n        \"description\": \"\"\n      }\n    },\n    {\n      \"column\": \"name\",\n      \"properties\": {\n        \"dtype\": \"string\",\n        \"num_unique_values\": 3473,\n        \"samples\": [\n          \"\\u7a93\\u969b\\u4fc2\\u9577\",\n          \"\\u2644?????\",\n          \"Aiven\"\n        ],\n        \"semantic_type\": \"\",\n        \"description\": \"\"\n      }\n    },\n    {\n      \"column\": \"username\",\n      \"properties\": {\n        \"dtype\": \"string\",\n        \"num_unique_values\": 3490,\n        \"samples\": [\n          \"datawhizzz\",\n          \"BucknSF\",\n          \"anthonycorletti\"\n        ],\n        \"semantic_type\": \"\",\n        \"description\": \"\"\n      }\n    },\n    {\n      \"column\": \"created_at\",\n      \"properties\": {\n        \"dtype\": \"string\",\n        \"num_unique_values\": 3490,\n        \"samples\": [\n          \"2020-03-27T09:15:13.000Z\",\n          \"2021-03-07T00:41:35.000Z\",\n          \"2011-05-26T23:25:32.000Z\"\n        ],\n        \"semantic_type\": \"\",\n        \"description\": \"\"\n      }\n    },\n    {\n      \"column\": \"description\",\n      \"properties\": {\n        \"dtype\": \"string\",\n        \"num_unique_values\": 3172,\n        \"samples\": [\n          \"Opensource Kubernetes-native DevOps Platform ?\\n\\n#Kubernetes #PlatformEngineering\",\n          \"music&cats freak geek\",\n          \"I like white text on a dark screen and if possible a reverse shell, I also share #infosec and #technology propaga... I mean news.\"\n        ],\n        \"semantic_type\": \"\",\n        \"description\": \"\"\n      }\n    },\n    {\n      \"column\": \"followers_count\",\n      \"properties\": {\n        \"dtype\": \"number\",\n        \"std\": 182637,\n        \"min\": 0,\n        \"max\": 8668242,\n        \"num_unique_values\": 1997,\n        \"samples\": [\n          158,\n          43,\n          1074\n        ],\n        \"semantic_type\": \"\",\n        \"description\": \"\"\n      }\n    },\n    {\n      \"column\": \"following_count\",\n      \"properties\": {\n        \"dtype\": \"number\",\n        \"std\": 4291,\n        \"min\": 0,\n        \"max\": 112271,\n        \"num_unique_values\": 1672,\n        \"samples\": [\n          1687,\n          2042,\n          976\n        ],\n        \"semantic_type\": \"\",\n        \"description\": \"\"\n      }\n    },\n    {\n      \"column\": \"tweet_count\",\n      \"properties\": {\n        \"dtype\": \"number\",\n        \"std\": 70974,\n        \"min\": 0,\n        \"max\": 2619215,\n        \"num_unique_values\": 2974,\n        \"samples\": [\n          54295,\n          978,\n          363\n        ],\n        \"semantic_type\": \"\",\n        \"description\": \"\"\n      }\n    },\n    {\n      \"column\": \"listed_count\",\n      \"properties\": {\n        \"dtype\": \"number\",\n        \"std\": 664,\n        \"min\": 0,\n        \"max\": 16231,\n        \"num_unique_values\": 511,\n        \"samples\": [\n          1477,\n          44,\n          345\n        ],\n        \"semantic_type\": \"\",\n        \"description\": \"\"\n      }\n    },\n    {\n      \"column\": \"record_timestamp\",\n      \"properties\": {\n        \"dtype\": \"object\",\n        \"num_unique_values\": 14,\n        \"samples\": [\n          \"2024-08-24 00:00:00\",\n          \"2024-08-26 00:00:00\",\n          \"2024-08-15 18:50:56\"\n        ],\n        \"semantic_type\": \"\",\n        \"description\": \"\"\n      }\n    }\n  ]\n}"
            }
          },
          "metadata": {},
          "execution_count": 6
        }
      ]
    },
    {
      "cell_type": "markdown",
      "source": [
        "# Task 1\n",
        "1. Create a CSV file named \"python.csv\" with the following columns: id, name, desctiption and tweet_count.\n",
        "## Instructions:\n",
        "- Use the pandas library to create a DataFrame from the given data.\n",
        "- Select only the id, name, description and tweet_count columns.\n",
        "- Filter 'decription' column that contains 'python'\n",
        "- Save this selection as a CSV file named python.csv."
      ],
      "metadata": {
        "id": "kgTayP1vV7_K"
      }
    },
    {
      "cell_type": "code",
      "source": [],
      "metadata": {
        "id": "KTcpN8DgV2Tr"
      },
      "execution_count": null,
      "outputs": []
    },
    {
      "cell_type": "markdown",
      "source": [
        "\n",
        "# Task 2:\n",
        "- Create CSV file named \"engineer.csv\" with following column name, tweet_count\n",
        "\n",
        "## Instructions:\n",
        "- Use the pandas library to create a DataFrame from the given data.\n",
        "- Select only the id, name, description and tweet_count columns.\n",
        "- Filter 'decription' column that contains 'engineer'\n",
        "- Save this selection as a CSV file named engineer.csv."
      ],
      "metadata": {
        "id": "vux6s-ZmV25H"
      }
    },
    {
      "cell_type": "code",
      "source": [],
      "metadata": {
        "id": "x5ZpwggHWtZd"
      },
      "execution_count": null,
      "outputs": []
    },
    {
      "cell_type": "markdown",
      "source": [
        "# Task 3:\n",
        "1. Read the engineers.csv file and the python.csv file.\n",
        "2. Join these two files based on a common column, and include the followers_count column in the result. The ouput columns are id, name, tweet_count, and followers_count\n",
        "## Instructions:\n",
        "1. Read the two CSV files using pandas.\n",
        "2. Merge the DataFrames on a common column (e.g., id).\n",
        "3. Include the followers_count column from detailed_users.csv in the final DataFrame."
      ],
      "metadata": {
        "id": "GFoW__VeT61X"
      }
    },
    {
      "cell_type": "code",
      "source": [],
      "metadata": {
        "id": "qWoqbkyNTtyF"
      },
      "execution_count": null,
      "outputs": []
    },
    {
      "cell_type": "markdown",
      "source": [
        "# Homework 1: Create a Function that create csv file filtering description with any give word.\n"
      ],
      "metadata": {
        "id": "ZJI5T-A_ku92"
      }
    },
    {
      "cell_type": "code",
      "source": [],
      "metadata": {
        "id": "9rkXfW18kxCv"
      },
      "execution_count": null,
      "outputs": []
    },
    {
      "cell_type": "markdown",
      "source": [
        "# Homework 2: Create a Function that joins any 2 files into one."
      ],
      "metadata": {
        "id": "_9ZPMe1Xk57n"
      }
    },
    {
      "cell_type": "code",
      "source": [],
      "metadata": {
        "id": "BGWtiZhkk5ez"
      },
      "execution_count": null,
      "outputs": []
    }
  ]
}